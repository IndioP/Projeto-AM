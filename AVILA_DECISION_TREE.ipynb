{
  "nbformat": 4,
  "nbformat_minor": 0,
  "metadata": {
    "colab": {
      "provenance": [],
      "include_colab_link": true
    },
    "kernelspec": {
      "name": "python3",
      "display_name": "Python 3"
    },
    "language_info": {
      "name": "python"
    }
  },
  "cells": [
    {
      "cell_type": "markdown",
      "metadata": {
        "id": "view-in-github",
        "colab_type": "text"
      },
      "source": [
        "<a href=\"https://colab.research.google.com/github/IndioP/Projeto-AM/blob/main/AVILA_DECISION_TREE.ipynb\" target=\"_parent\"><img src=\"https://colab.research.google.com/assets/colab-badge.svg\" alt=\"Open In Colab\"/></a>"
      ]
    },
    {
      "cell_type": "code",
      "source": [
        "!git clone https://github.com/IndioP/Projeto-AM"
      ],
      "metadata": {
        "colab": {
          "base_uri": "https://localhost:8080/"
        },
        "id": "3fowlwl44XDu",
        "outputId": "69eac600-0581-4d8a-cf20-f404f2e75403"
      },
      "execution_count": 2,
      "outputs": [
        {
          "output_type": "stream",
          "name": "stdout",
          "text": [
            "Cloning into 'Projeto-AM'...\n",
            "remote: Enumerating objects: 50, done.\u001b[K\n",
            "remote: Counting objects: 100% (50/50), done.\u001b[K\n",
            "remote: Compressing objects: 100% (44/44), done.\u001b[K\n",
            "remote: Total 50 (delta 26), reused 11 (delta 6), pack-reused 0\u001b[K\n",
            "Unpacking objects: 100% (50/50), 768.26 KiB | 2.69 MiB/s, done.\n"
          ]
        }
      ]
    },
    {
      "cell_type": "code",
      "source": [
        "from sklearn.metrics import classification_report\n",
        "from sklearn.metrics import confusion_matrix\n",
        "from sklearn.metrics import accuracy_score"
      ],
      "metadata": {
        "id": "g5BkcE91BEsZ"
      },
      "execution_count": 22,
      "outputs": []
    },
    {
      "cell_type": "code",
      "source": [
        "#from sklearn.metrics import classification_report,confusion_matrix,accuracy_score,plot_confusion_matrix\n",
        "from sklearn.metrics import classification_report,confusion_matrix,accuracy_score\n",
        "from sklearn.metrics import ConfusionMatrixDisplay"
      ],
      "metadata": {
        "id": "h8Kb0rZkA7tB"
      },
      "execution_count": 23,
      "outputs": []
    },
    {
      "cell_type": "code",
      "source": [
        "from sklearn.metrics import f1_score,recall_score,precision_score\n",
        "from sklearn.model_selection import train_test_split\n",
        "import matplotlib.pyplot as plt\n",
        "import pandas as pd"
      ],
      "metadata": {
        "id": "iorlHYAJKVxz"
      },
      "execution_count": 24,
      "outputs": []
    },
    {
      "cell_type": "markdown",
      "source": [
        "##Funções auxiliares"
      ],
      "metadata": {
        "id": "uq2kKnfo94fh"
      }
    },
    {
      "cell_type": "code",
      "source": [
        "def metrics(test,pred):\n",
        "    print(confusion_matrix(test,pred))\n",
        "    print(classification_report(test,pred))\n",
        "    print(accuracy_score(test,pred))\n",
        "\n",
        "def confusion_matrix_(model,x_test,y_test):\n",
        "    #matrix = ConfusionMatrixDisplay(model,x_test,y_test)\n",
        "    cm = confusion_matrix(y_test, x_test, labels=model.classes_)\n",
        "    disp = ConfusionMatrixDisplay(confusion_matrix=cm,display_labels=model.classes_)\n",
        "    cm.ax_.set_title('Confusion Matrix ', color ='black')\n",
        "    \n",
        "    plt.xlabel('PREDICTED LABEL',color='black')\n",
        "    plt.ylabel('TRUE LABEL',color='black')\n",
        "    \n",
        "    plt.gcf().axes[0].tick_params(colors='black')\n",
        "    plt.gcf().axes[1].tick_params(colors='black')\n",
        "    plt.gcf().set_size_inches(10,6)\n",
        "    plt.show()"
      ],
      "metadata": {
        "id": "MiZREaxy93yf"
      },
      "execution_count": 44,
      "outputs": []
    },
    {
      "cell_type": "code",
      "source": [],
      "metadata": {
        "id": "bckGXuw5GtPV"
      },
      "execution_count": 25,
      "outputs": []
    },
    {
      "cell_type": "markdown",
      "source": [
        "##Lendo as tabelas de TREINAMENTO e de TESTE"
      ],
      "metadata": {
        "id": "x_eTrAMD9-pv"
      }
    },
    {
      "cell_type": "code",
      "execution_count": 26,
      "metadata": {
        "id": "h8HjT3TMJzQK"
      },
      "outputs": [],
      "source": [
        "names = ['F1','F2','F3','F4','F5','F6','F7','F8','F9','F10','Class']\n",
        "df_train = pd.read_csv(\"Projeto-AM/avila-tr.txt\",names = names)\n",
        "df_test = pd.read_csv(\"Projeto-AM/avila-ts.txt\",names = names)\n",
        "X_test = df_test.drop(\"Class\",axis=1)\n",
        "y_test = df_test[\"Class\"]"
      ]
    },
    {
      "cell_type": "code",
      "source": [
        "df_train.head()"
      ],
      "metadata": {
        "colab": {
          "base_uri": "https://localhost:8080/",
          "height": 206
        },
        "id": "Wz9UqFngKnOs",
        "outputId": "fa5c5988-76e4-4c7a-ba0d-e76f89fb8fbc"
      },
      "execution_count": 27,
      "outputs": [
        {
          "output_type": "execute_result",
          "data": {
            "text/plain": [
              "         F1        F2        F3        F4        F5        F6        F7  \\\n",
              "0  0.266074 -0.165620  0.320980  0.483299  0.172340  0.273364  0.371178   \n",
              "1  0.130292  0.870736 -3.210528  0.062493  0.261718  1.436060  1.465940   \n",
              "2 -0.116585  0.069915  0.068476 -0.783147  0.261718  0.439463 -0.081827   \n",
              "3  0.031541  0.297600 -3.210528 -0.583590 -0.721442 -0.307984  0.710932   \n",
              "4  0.229043  0.807926 -0.052442  0.082634  0.261718  0.148790  0.635431   \n",
              "\n",
              "         F8        F9       F10 Class  \n",
              "0  0.929823  0.251173  0.159345     A  \n",
              "1  0.636203  0.282354  0.515587     A  \n",
              "2 -0.888236 -0.123005  0.582939     A  \n",
              "3  1.051693  0.594169 -0.533994     A  \n",
              "4  0.051062  0.032902 -0.086652     F  "
            ],
            "text/html": [
              "\n",
              "  <div id=\"df-8194f06a-fa48-4b9f-b531-615be98751be\">\n",
              "    <div class=\"colab-df-container\">\n",
              "      <div>\n",
              "<style scoped>\n",
              "    .dataframe tbody tr th:only-of-type {\n",
              "        vertical-align: middle;\n",
              "    }\n",
              "\n",
              "    .dataframe tbody tr th {\n",
              "        vertical-align: top;\n",
              "    }\n",
              "\n",
              "    .dataframe thead th {\n",
              "        text-align: right;\n",
              "    }\n",
              "</style>\n",
              "<table border=\"1\" class=\"dataframe\">\n",
              "  <thead>\n",
              "    <tr style=\"text-align: right;\">\n",
              "      <th></th>\n",
              "      <th>F1</th>\n",
              "      <th>F2</th>\n",
              "      <th>F3</th>\n",
              "      <th>F4</th>\n",
              "      <th>F5</th>\n",
              "      <th>F6</th>\n",
              "      <th>F7</th>\n",
              "      <th>F8</th>\n",
              "      <th>F9</th>\n",
              "      <th>F10</th>\n",
              "      <th>Class</th>\n",
              "    </tr>\n",
              "  </thead>\n",
              "  <tbody>\n",
              "    <tr>\n",
              "      <th>0</th>\n",
              "      <td>0.266074</td>\n",
              "      <td>-0.165620</td>\n",
              "      <td>0.320980</td>\n",
              "      <td>0.483299</td>\n",
              "      <td>0.172340</td>\n",
              "      <td>0.273364</td>\n",
              "      <td>0.371178</td>\n",
              "      <td>0.929823</td>\n",
              "      <td>0.251173</td>\n",
              "      <td>0.159345</td>\n",
              "      <td>A</td>\n",
              "    </tr>\n",
              "    <tr>\n",
              "      <th>1</th>\n",
              "      <td>0.130292</td>\n",
              "      <td>0.870736</td>\n",
              "      <td>-3.210528</td>\n",
              "      <td>0.062493</td>\n",
              "      <td>0.261718</td>\n",
              "      <td>1.436060</td>\n",
              "      <td>1.465940</td>\n",
              "      <td>0.636203</td>\n",
              "      <td>0.282354</td>\n",
              "      <td>0.515587</td>\n",
              "      <td>A</td>\n",
              "    </tr>\n",
              "    <tr>\n",
              "      <th>2</th>\n",
              "      <td>-0.116585</td>\n",
              "      <td>0.069915</td>\n",
              "      <td>0.068476</td>\n",
              "      <td>-0.783147</td>\n",
              "      <td>0.261718</td>\n",
              "      <td>0.439463</td>\n",
              "      <td>-0.081827</td>\n",
              "      <td>-0.888236</td>\n",
              "      <td>-0.123005</td>\n",
              "      <td>0.582939</td>\n",
              "      <td>A</td>\n",
              "    </tr>\n",
              "    <tr>\n",
              "      <th>3</th>\n",
              "      <td>0.031541</td>\n",
              "      <td>0.297600</td>\n",
              "      <td>-3.210528</td>\n",
              "      <td>-0.583590</td>\n",
              "      <td>-0.721442</td>\n",
              "      <td>-0.307984</td>\n",
              "      <td>0.710932</td>\n",
              "      <td>1.051693</td>\n",
              "      <td>0.594169</td>\n",
              "      <td>-0.533994</td>\n",
              "      <td>A</td>\n",
              "    </tr>\n",
              "    <tr>\n",
              "      <th>4</th>\n",
              "      <td>0.229043</td>\n",
              "      <td>0.807926</td>\n",
              "      <td>-0.052442</td>\n",
              "      <td>0.082634</td>\n",
              "      <td>0.261718</td>\n",
              "      <td>0.148790</td>\n",
              "      <td>0.635431</td>\n",
              "      <td>0.051062</td>\n",
              "      <td>0.032902</td>\n",
              "      <td>-0.086652</td>\n",
              "      <td>F</td>\n",
              "    </tr>\n",
              "  </tbody>\n",
              "</table>\n",
              "</div>\n",
              "      <button class=\"colab-df-convert\" onclick=\"convertToInteractive('df-8194f06a-fa48-4b9f-b531-615be98751be')\"\n",
              "              title=\"Convert this dataframe to an interactive table.\"\n",
              "              style=\"display:none;\">\n",
              "        \n",
              "  <svg xmlns=\"http://www.w3.org/2000/svg\" height=\"24px\"viewBox=\"0 0 24 24\"\n",
              "       width=\"24px\">\n",
              "    <path d=\"M0 0h24v24H0V0z\" fill=\"none\"/>\n",
              "    <path d=\"M18.56 5.44l.94 2.06.94-2.06 2.06-.94-2.06-.94-.94-2.06-.94 2.06-2.06.94zm-11 1L8.5 8.5l.94-2.06 2.06-.94-2.06-.94L8.5 2.5l-.94 2.06-2.06.94zm10 10l.94 2.06.94-2.06 2.06-.94-2.06-.94-.94-2.06-.94 2.06-2.06.94z\"/><path d=\"M17.41 7.96l-1.37-1.37c-.4-.4-.92-.59-1.43-.59-.52 0-1.04.2-1.43.59L10.3 9.45l-7.72 7.72c-.78.78-.78 2.05 0 2.83L4 21.41c.39.39.9.59 1.41.59.51 0 1.02-.2 1.41-.59l7.78-7.78 2.81-2.81c.8-.78.8-2.07 0-2.86zM5.41 20L4 18.59l7.72-7.72 1.47 1.35L5.41 20z\"/>\n",
              "  </svg>\n",
              "      </button>\n",
              "      \n",
              "  <style>\n",
              "    .colab-df-container {\n",
              "      display:flex;\n",
              "      flex-wrap:wrap;\n",
              "      gap: 12px;\n",
              "    }\n",
              "\n",
              "    .colab-df-convert {\n",
              "      background-color: #E8F0FE;\n",
              "      border: none;\n",
              "      border-radius: 50%;\n",
              "      cursor: pointer;\n",
              "      display: none;\n",
              "      fill: #1967D2;\n",
              "      height: 32px;\n",
              "      padding: 0 0 0 0;\n",
              "      width: 32px;\n",
              "    }\n",
              "\n",
              "    .colab-df-convert:hover {\n",
              "      background-color: #E2EBFA;\n",
              "      box-shadow: 0px 1px 2px rgba(60, 64, 67, 0.3), 0px 1px 3px 1px rgba(60, 64, 67, 0.15);\n",
              "      fill: #174EA6;\n",
              "    }\n",
              "\n",
              "    [theme=dark] .colab-df-convert {\n",
              "      background-color: #3B4455;\n",
              "      fill: #D2E3FC;\n",
              "    }\n",
              "\n",
              "    [theme=dark] .colab-df-convert:hover {\n",
              "      background-color: #434B5C;\n",
              "      box-shadow: 0px 1px 3px 1px rgba(0, 0, 0, 0.15);\n",
              "      filter: drop-shadow(0px 1px 2px rgba(0, 0, 0, 0.3));\n",
              "      fill: #FFFFFF;\n",
              "    }\n",
              "  </style>\n",
              "\n",
              "      <script>\n",
              "        const buttonEl =\n",
              "          document.querySelector('#df-8194f06a-fa48-4b9f-b531-615be98751be button.colab-df-convert');\n",
              "        buttonEl.style.display =\n",
              "          google.colab.kernel.accessAllowed ? 'block' : 'none';\n",
              "\n",
              "        async function convertToInteractive(key) {\n",
              "          const element = document.querySelector('#df-8194f06a-fa48-4b9f-b531-615be98751be');\n",
              "          const dataTable =\n",
              "            await google.colab.kernel.invokeFunction('convertToInteractive',\n",
              "                                                     [key], {});\n",
              "          if (!dataTable) return;\n",
              "\n",
              "          const docLinkHtml = 'Like what you see? Visit the ' +\n",
              "            '<a target=\"_blank\" href=https://colab.research.google.com/notebooks/data_table.ipynb>data table notebook</a>'\n",
              "            + ' to learn more about interactive tables.';\n",
              "          element.innerHTML = '';\n",
              "          dataTable['output_type'] = 'display_data';\n",
              "          await google.colab.output.renderOutput(dataTable, element);\n",
              "          const docLink = document.createElement('div');\n",
              "          docLink.innerHTML = docLinkHtml;\n",
              "          element.appendChild(docLink);\n",
              "        }\n",
              "      </script>\n",
              "    </div>\n",
              "  </div>\n",
              "  "
            ]
          },
          "metadata": {},
          "execution_count": 27
        }
      ]
    },
    {
      "cell_type": "code",
      "source": [],
      "metadata": {
        "id": "KE7gVKSL72pA"
      },
      "execution_count": 27,
      "outputs": []
    },
    {
      "cell_type": "markdown",
      "source": [
        "## Os dados do projeto AVILA são referentes as informações extraidas das imagens das páginas copiadas da biblía de AVILA.\n",
        "## As CLASSES de [A, B, C, D, E, F, G, H, I, W, X, Y] fazem referência a qual copiador foi responsavel por aquele trecho/página\n",
        "## Então, a ideia é conseguir criar um bom classificador, que consiga por meio das informações extraidas dos trechos das páginas [F1,F2,F3,F4,F5,F6,F6,F7,F8,F9,F10] consiga-se identificar quem foi o copiador responsavél"
      ],
      "metadata": {
        "id": "4kOjuTpVxF2z"
      }
    },
    {
      "cell_type": "code",
      "source": [],
      "metadata": {
        "id": "9KWBtVUmxFBs"
      },
      "execution_count": 27,
      "outputs": []
    },
    {
      "cell_type": "markdown",
      "source": [
        "#Decision Tree Classifier"
      ],
      "metadata": {
        "id": "7Yei0Kn96tAM"
      }
    },
    {
      "cell_type": "markdown",
      "source": [
        "### Separando o DATASET de TREINAMENTO, utilizando 80% para o treino e 20% de seus valores para VALIDAÇÃO"
      ],
      "metadata": {
        "id": "kO8apkZN7XU5"
      }
    },
    {
      "cell_type": "code",
      "source": [
        "X_train,X_valid,y_train,y_valid = train_test_split(df_train.drop(\"Class\",axis=1), df_train[\"Class\"],test_size=0.2,random_state=2023)\n",
        "X_train.shape,y_train.shape,X_valid.shape,y_valid.shape"
      ],
      "metadata": {
        "colab": {
          "base_uri": "https://localhost:8080/"
        },
        "id": "FCZBlYXm6yOO",
        "outputId": "01ede3cc-a1d2-4ef3-8b28-b498912cb691"
      },
      "execution_count": 28,
      "outputs": [
        {
          "output_type": "execute_result",
          "data": {
            "text/plain": [
              "((8344, 10), (8344,), (2086, 10), (2086,))"
            ]
          },
          "metadata": {},
          "execution_count": 28
        }
      ]
    },
    {
      "cell_type": "markdown",
      "source": [
        "### O primeiro classificador que iremos testar é o DECISION TREE CLASSIFIER"
      ],
      "metadata": {
        "id": "CDwJLukK7nl0"
      }
    },
    {
      "cell_type": "code",
      "source": [
        "from sklearn.tree import DecisionTreeClassifier"
      ],
      "metadata": {
        "id": "wM7zDvP17iQS"
      },
      "execution_count": 29,
      "outputs": []
    },
    {
      "cell_type": "markdown",
      "source": [
        "### Utilizando os 80% para realizar o treinamento do modelo"
      ],
      "metadata": {
        "id": "yKhzCRrIBhge"
      }
    },
    {
      "cell_type": "code",
      "source": [
        "clf = DecisionTreeClassifier()\n",
        "clf.fit(X_train, y_train)"
      ],
      "metadata": {
        "colab": {
          "base_uri": "https://localhost:8080/",
          "height": 74
        },
        "id": "yaP2d9fg8y9J",
        "outputId": "52d23271-19f3-4c8a-c9a6-8ff7e8091a86"
      },
      "execution_count": 30,
      "outputs": [
        {
          "output_type": "execute_result",
          "data": {
            "text/plain": [
              "DecisionTreeClassifier()"
            ],
            "text/html": [
              "<style>#sk-container-id-2 {color: black;background-color: white;}#sk-container-id-2 pre{padding: 0;}#sk-container-id-2 div.sk-toggleable {background-color: white;}#sk-container-id-2 label.sk-toggleable__label {cursor: pointer;display: block;width: 100%;margin-bottom: 0;padding: 0.3em;box-sizing: border-box;text-align: center;}#sk-container-id-2 label.sk-toggleable__label-arrow:before {content: \"▸\";float: left;margin-right: 0.25em;color: #696969;}#sk-container-id-2 label.sk-toggleable__label-arrow:hover:before {color: black;}#sk-container-id-2 div.sk-estimator:hover label.sk-toggleable__label-arrow:before {color: black;}#sk-container-id-2 div.sk-toggleable__content {max-height: 0;max-width: 0;overflow: hidden;text-align: left;background-color: #f0f8ff;}#sk-container-id-2 div.sk-toggleable__content pre {margin: 0.2em;color: black;border-radius: 0.25em;background-color: #f0f8ff;}#sk-container-id-2 input.sk-toggleable__control:checked~div.sk-toggleable__content {max-height: 200px;max-width: 100%;overflow: auto;}#sk-container-id-2 input.sk-toggleable__control:checked~label.sk-toggleable__label-arrow:before {content: \"▾\";}#sk-container-id-2 div.sk-estimator input.sk-toggleable__control:checked~label.sk-toggleable__label {background-color: #d4ebff;}#sk-container-id-2 div.sk-label input.sk-toggleable__control:checked~label.sk-toggleable__label {background-color: #d4ebff;}#sk-container-id-2 input.sk-hidden--visually {border: 0;clip: rect(1px 1px 1px 1px);clip: rect(1px, 1px, 1px, 1px);height: 1px;margin: -1px;overflow: hidden;padding: 0;position: absolute;width: 1px;}#sk-container-id-2 div.sk-estimator {font-family: monospace;background-color: #f0f8ff;border: 1px dotted black;border-radius: 0.25em;box-sizing: border-box;margin-bottom: 0.5em;}#sk-container-id-2 div.sk-estimator:hover {background-color: #d4ebff;}#sk-container-id-2 div.sk-parallel-item::after {content: \"\";width: 100%;border-bottom: 1px solid gray;flex-grow: 1;}#sk-container-id-2 div.sk-label:hover label.sk-toggleable__label {background-color: #d4ebff;}#sk-container-id-2 div.sk-serial::before {content: \"\";position: absolute;border-left: 1px solid gray;box-sizing: border-box;top: 0;bottom: 0;left: 50%;z-index: 0;}#sk-container-id-2 div.sk-serial {display: flex;flex-direction: column;align-items: center;background-color: white;padding-right: 0.2em;padding-left: 0.2em;position: relative;}#sk-container-id-2 div.sk-item {position: relative;z-index: 1;}#sk-container-id-2 div.sk-parallel {display: flex;align-items: stretch;justify-content: center;background-color: white;position: relative;}#sk-container-id-2 div.sk-item::before, #sk-container-id-2 div.sk-parallel-item::before {content: \"\";position: absolute;border-left: 1px solid gray;box-sizing: border-box;top: 0;bottom: 0;left: 50%;z-index: -1;}#sk-container-id-2 div.sk-parallel-item {display: flex;flex-direction: column;z-index: 1;position: relative;background-color: white;}#sk-container-id-2 div.sk-parallel-item:first-child::after {align-self: flex-end;width: 50%;}#sk-container-id-2 div.sk-parallel-item:last-child::after {align-self: flex-start;width: 50%;}#sk-container-id-2 div.sk-parallel-item:only-child::after {width: 0;}#sk-container-id-2 div.sk-dashed-wrapped {border: 1px dashed gray;margin: 0 0.4em 0.5em 0.4em;box-sizing: border-box;padding-bottom: 0.4em;background-color: white;}#sk-container-id-2 div.sk-label label {font-family: monospace;font-weight: bold;display: inline-block;line-height: 1.2em;}#sk-container-id-2 div.sk-label-container {text-align: center;}#sk-container-id-2 div.sk-container {/* jupyter's `normalize.less` sets `[hidden] { display: none; }` but bootstrap.min.css set `[hidden] { display: none !important; }` so we also need the `!important` here to be able to override the default hidden behavior on the sphinx rendered scikit-learn.org. See: https://github.com/scikit-learn/scikit-learn/issues/21755 */display: inline-block !important;position: relative;}#sk-container-id-2 div.sk-text-repr-fallback {display: none;}</style><div id=\"sk-container-id-2\" class=\"sk-top-container\"><div class=\"sk-text-repr-fallback\"><pre>DecisionTreeClassifier()</pre><b>In a Jupyter environment, please rerun this cell to show the HTML representation or trust the notebook. <br />On GitHub, the HTML representation is unable to render, please try loading this page with nbviewer.org.</b></div><div class=\"sk-container\" hidden><div class=\"sk-item\"><div class=\"sk-estimator sk-toggleable\"><input class=\"sk-toggleable__control sk-hidden--visually\" id=\"sk-estimator-id-2\" type=\"checkbox\" checked><label for=\"sk-estimator-id-2\" class=\"sk-toggleable__label sk-toggleable__label-arrow\">DecisionTreeClassifier</label><div class=\"sk-toggleable__content\"><pre>DecisionTreeClassifier()</pre></div></div></div></div></div>"
            ]
          },
          "metadata": {},
          "execution_count": 30
        }
      ]
    },
    {
      "cell_type": "markdown",
      "source": [
        "### Agora vamos verificar os valores de suas predições, tanto para o dataset de TEST quanto para o de VALID, que corresponde a 20% do dataframe de TEST inicialmente"
      ],
      "metadata": {
        "id": "XseNrOwNBmed"
      }
    },
    {
      "cell_type": "code",
      "source": [
        "y_pred_valid = clf.predict(X_valid)\n",
        "y_pred_test = clf.predict(X_test)"
      ],
      "metadata": {
        "id": "j0n8_vD69JMI"
      },
      "execution_count": 31,
      "outputs": []
    },
    {
      "cell_type": "code",
      "source": [],
      "metadata": {
        "id": "Ej-TOCiPC0um"
      },
      "execution_count": 31,
      "outputs": []
    },
    {
      "cell_type": "markdown",
      "source": [
        "### Verificando o comportamento dessas PREDIÇÕES"
      ],
      "metadata": {
        "id": "a5DZc33ABwUY"
      }
    },
    {
      "cell_type": "code",
      "source": [
        "metrics(y_valid, y_pred_valid)"
      ],
      "metadata": {
        "colab": {
          "base_uri": "https://localhost:8080/"
        },
        "id": "QrZpaiXRBNsA",
        "outputId": "4abbd864-2be6-4094-c8c3-6159e861d4f3"
      },
      "execution_count": 32,
      "outputs": [
        {
          "output_type": "stream",
          "name": "stdout",
          "text": [
            "[[837   0   1   0   6   1   0   2   0   0   1   2]\n",
            " [  0   2   0   0   0   0   0   0   0   0   0   0]\n",
            " [  0   0  25   0   0   0   0   1   0   0   0   0]\n",
            " [  1   0   0  68   0   0   0   0   0   0   0   0]\n",
            " [  6   0   0   2 219   0   0   1   0   0   1   2]\n",
            " [  1   0   0   0   0 376   2   0   0   0   0   0]\n",
            " [  0   0   0   0   0   1  88   0   0   0   0   0]\n",
            " [  3   0   0   0   1   1   0 106   0   0   1   0]\n",
            " [  1   0   0   0   0   0   1   0 178   0   0   0]\n",
            " [  1   0   0   0   0   0   0   0   0   7   0   0]\n",
            " [  3   0   0   0   2   0   0   0   0   0  84   3]\n",
            " [  0   0   0   0   1   1   0   0   0   0   4  42]]\n",
            "              precision    recall  f1-score   support\n",
            "\n",
            "           A       0.98      0.98      0.98       850\n",
            "           B       1.00      1.00      1.00         2\n",
            "           C       0.96      0.96      0.96        26\n",
            "           D       0.97      0.99      0.98        69\n",
            "           E       0.96      0.95      0.95       231\n",
            "           F       0.99      0.99      0.99       379\n",
            "           G       0.97      0.99      0.98        89\n",
            "           H       0.96      0.95      0.95       112\n",
            "           I       1.00      0.99      0.99       180\n",
            "           W       1.00      0.88      0.93         8\n",
            "           X       0.92      0.91      0.92        92\n",
            "           Y       0.86      0.88      0.87        48\n",
            "\n",
            "    accuracy                           0.97      2086\n",
            "   macro avg       0.96      0.95      0.96      2086\n",
            "weighted avg       0.97      0.97      0.97      2086\n",
            "\n",
            "0.9741131351869607\n"
          ]
        }
      ]
    },
    {
      "cell_type": "code",
      "source": [
        "metrics(y_test, y_pred_test)"
      ],
      "metadata": {
        "colab": {
          "base_uri": "https://localhost:8080/"
        },
        "id": "87QM3REw-wwg",
        "outputId": "1f199b47-401e-4d2f-c05e-d90a37d9627f"
      },
      "execution_count": 33,
      "outputs": [
        {
          "output_type": "stream",
          "name": "stdout",
          "text": [
            "[[4216    0    2    4   24    4    5   19    2    3    3    4]\n",
            " [   0    5    0    0    0    0    0    0    0    0    0    0]\n",
            " [   1    0  100    0    0    1    0    1    0    0    0    0]\n",
            " [   0    0    0  341   12    0    0    0    0    0    0    0]\n",
            " [  22    0    1   13 1033    1    1   10    0    0    9    5]\n",
            " [  12    0    1    2    5 1925    4    6    0    0    1    6]\n",
            " [   3    0    0    0    4    2  437    1    0    0    0    0]\n",
            " [  14    0    2    0    1    2    0  498    2    0    1    0]\n",
            " [   1    0    0    0    1    1    1    0  828    0    0    0]\n",
            " [   0    0    0    0    0    0    0    0    0   43    2    0]\n",
            " [   4    0    0    0   25    0    0    0    0    6  483    4]\n",
            " [   3    0    0    0    0    3    0    0    0    0   23  238]]\n",
            "              precision    recall  f1-score   support\n",
            "\n",
            "           A       0.99      0.98      0.98      4286\n",
            "           B       1.00      1.00      1.00         5\n",
            "           C       0.94      0.97      0.96       103\n",
            "           D       0.95      0.97      0.96       353\n",
            "           E       0.93      0.94      0.94      1095\n",
            "           F       0.99      0.98      0.99      1962\n",
            "           G       0.98      0.98      0.98       447\n",
            "           H       0.93      0.96      0.94       520\n",
            "           I       1.00      1.00      1.00       832\n",
            "           W       0.83      0.96      0.89        45\n",
            "           X       0.93      0.93      0.93       522\n",
            "           Y       0.93      0.89      0.91       267\n",
            "\n",
            "    accuracy                           0.97     10437\n",
            "   macro avg       0.95      0.96      0.96     10437\n",
            "weighted avg       0.97      0.97      0.97     10437\n",
            "\n",
            "0.9722142378077991\n"
          ]
        }
      ]
    },
    {
      "cell_type": "code",
      "source": [],
      "metadata": {
        "id": "Gysy-FxlOm--"
      },
      "execution_count": 33,
      "outputs": []
    },
    {
      "cell_type": "markdown",
      "source": [
        "## De que formas poderiamos melhorar o atual modelo?"
      ],
      "metadata": {
        "id": "bQ2OrMaCQOaA"
      }
    },
    {
      "cell_type": "markdown",
      "source": [
        "## Primeiro começamos fazendo uma avaliação geral e mudando alguns hiperparametros para observar a variação de resultado da árvore"
      ],
      "metadata": {
        "id": "5OD1kfmVeWd1"
      }
    },
    {
      "cell_type": "markdown",
      "source": [
        "## Como no proximo caso, alteramos o hiperparametro de 'criterion', que basicamente por default é 'gini', e traz uma caracteristica da qualidade com que os dados serão separados. \n",
        "## O valor alterado é para 'ENTROPY'"
      ],
      "metadata": {
        "id": "tIUdpnBsfnMw"
      }
    },
    {
      "cell_type": "code",
      "source": [
        "clf_best = DecisionTreeClassifier(criterion=\"entropy\")\n",
        "clf_best.fit(X_train, y_train)\n",
        "y_pred_valid = clf_best.predict(X_valid)\n",
        "y_pred_test = clf_best.predict(X_test)\n",
        "metrics(y_valid, y_pred_valid)\n",
        "metrics(y_test, y_pred_test)"
      ],
      "metadata": {
        "id": "3r6H9YssOnBP",
        "outputId": "3e918d1f-90e3-4575-d36c-55d0aad30aa6",
        "colab": {
          "base_uri": "https://localhost:8080/"
        }
      },
      "execution_count": 34,
      "outputs": [
        {
          "output_type": "stream",
          "name": "stdout",
          "text": [
            "[[846   0   0   0   0   1   0   1   0   0   1   1]\n",
            " [  1   0   0   0   0   0   1   0   0   0   0   0]\n",
            " [  3   0  22   0   0   0   0   1   0   0   0   0]\n",
            " [  0   0   0  69   0   0   0   0   0   0   0   0]\n",
            " [  2   0   0   2 225   0   0   0   0   0   2   0]\n",
            " [  0   0   0   0   0 377   1   1   0   0   0   0]\n",
            " [  0   0   0   0   1   1  87   0   0   0   0   0]\n",
            " [  0   0   0   0   2   2   0 108   0   0   0   0]\n",
            " [  0   0   0   0   0   0   0   0 180   0   0   0]\n",
            " [  2   0   0   0   0   0   0   0   0   6   0   0]\n",
            " [  2   0   0   0   0   0   0   0   0   0  89   1]\n",
            " [  0   0   0   0   0   0   0   0   0   0   0  48]]\n",
            "              precision    recall  f1-score   support\n",
            "\n",
            "           A       0.99      1.00      0.99       850\n",
            "           B       0.00      0.00      0.00         2\n",
            "           C       1.00      0.85      0.92        26\n",
            "           D       0.97      1.00      0.99        69\n",
            "           E       0.99      0.97      0.98       231\n",
            "           F       0.99      0.99      0.99       379\n",
            "           G       0.98      0.98      0.98        89\n",
            "           H       0.97      0.96      0.97       112\n",
            "           I       1.00      1.00      1.00       180\n",
            "           W       1.00      0.75      0.86         8\n",
            "           X       0.97      0.97      0.97        92\n",
            "           Y       0.96      1.00      0.98        48\n",
            "\n",
            "    accuracy                           0.99      2086\n",
            "   macro avg       0.90      0.87      0.88      2086\n",
            "weighted avg       0.99      0.99      0.99      2086\n",
            "\n",
            "0.986097794822627\n",
            "[[4250    0    1    0    4    7    0    9    0    2   10    3]\n",
            " [   0    3    0    0    0    0    2    0    0    0    0    0]\n",
            " [   3    0   96    1    0    0    0    3    0    0    0    0]\n",
            " [   0    2    1  341    8    0    0    0    0    0    1    0]\n",
            " [   7    0    0    8 1064    0    0    0    0    0   16    0]\n",
            " [   6    0    0    1    0 1950    1    4    0    0    0    0]\n",
            " [   0    0    0    0    9    7  431    0    0    0    0    0]\n",
            " [   0    0    1    0    3    2    0  514    0    0    0    0]\n",
            " [   1    0    0    0    0    0    0    0  831    0    0    0]\n",
            " [   3    0    0    0    0    0    0    0    0   42    0    0]\n",
            " [   9    0    0    0    9    0    0    0    0    0  500    4]\n",
            " [   3    0    0    0    0    0    0    0    0    0    0  264]]\n"
          ]
        },
        {
          "output_type": "stream",
          "name": "stderr",
          "text": [
            "/usr/local/lib/python3.8/dist-packages/sklearn/metrics/_classification.py:1344: UndefinedMetricWarning: Precision and F-score are ill-defined and being set to 0.0 in labels with no predicted samples. Use `zero_division` parameter to control this behavior.\n",
            "  _warn_prf(average, modifier, msg_start, len(result))\n",
            "/usr/local/lib/python3.8/dist-packages/sklearn/metrics/_classification.py:1344: UndefinedMetricWarning: Precision and F-score are ill-defined and being set to 0.0 in labels with no predicted samples. Use `zero_division` parameter to control this behavior.\n",
            "  _warn_prf(average, modifier, msg_start, len(result))\n",
            "/usr/local/lib/python3.8/dist-packages/sklearn/metrics/_classification.py:1344: UndefinedMetricWarning: Precision and F-score are ill-defined and being set to 0.0 in labels with no predicted samples. Use `zero_division` parameter to control this behavior.\n",
            "  _warn_prf(average, modifier, msg_start, len(result))\n"
          ]
        },
        {
          "output_type": "stream",
          "name": "stdout",
          "text": [
            "              precision    recall  f1-score   support\n",
            "\n",
            "           A       0.99      0.99      0.99      4286\n",
            "           B       0.60      0.60      0.60         5\n",
            "           C       0.97      0.93      0.95       103\n",
            "           D       0.97      0.97      0.97       353\n",
            "           E       0.97      0.97      0.97      1095\n",
            "           F       0.99      0.99      0.99      1962\n",
            "           G       0.99      0.96      0.98       447\n",
            "           H       0.97      0.99      0.98       520\n",
            "           I       1.00      1.00      1.00       832\n",
            "           W       0.95      0.93      0.94        45\n",
            "           X       0.95      0.96      0.95       522\n",
            "           Y       0.97      0.99      0.98       267\n",
            "\n",
            "    accuracy                           0.99     10437\n",
            "   macro avg       0.94      0.94      0.94     10437\n",
            "weighted avg       0.99      0.99      0.99     10437\n",
            "\n",
            "0.9855322410654402\n"
          ]
        }
      ]
    },
    {
      "cell_type": "markdown",
      "source": [
        "## Os resultados, foram melhores em relação ao valor default de 'GINI'"
      ],
      "metadata": {
        "id": "pYwbpammgrTC"
      }
    },
    {
      "cell_type": "code",
      "source": [],
      "metadata": {
        "id": "wOJygrote-vs"
      },
      "execution_count": 34,
      "outputs": []
    },
    {
      "cell_type": "markdown",
      "source": [
        "## Novamente tentamos modificar o hiperparametro de 'criterion' para 'LOG_LOSS'"
      ],
      "metadata": {
        "id": "TdTwqbQ4gZ9O"
      }
    },
    {
      "cell_type": "code",
      "source": [
        "clf_best = DecisionTreeClassifier(criterion=\"log_loss\")\n",
        "clf_best.fit(X_train, y_train)\n",
        "y_pred_valid = clf_best.predict(X_valid)\n",
        "y_pred_test = clf_best.predict(X_test)\n",
        "metrics(y_valid, y_pred_valid)\n",
        "print(\"\\n\")\n",
        "metrics(y_test, y_pred_test)"
      ],
      "metadata": {
        "id": "r5enJ0qCOnGF",
        "outputId": "d8c00089-f19d-4c1b-e328-420a5b705e2c",
        "colab": {
          "base_uri": "https://localhost:8080/"
        }
      },
      "execution_count": 35,
      "outputs": [
        {
          "output_type": "stream",
          "name": "stdout",
          "text": [
            "[[846   0   0   0   0   1   0   1   0   0   1   1]\n",
            " [  1   0   0   0   0   0   1   0   0   0   0   0]\n",
            " [  3   0  23   0   0   0   0   0   0   0   0   0]\n",
            " [  1   0   0  68   0   0   0   0   0   0   0   0]\n",
            " [  3   0   0   0 224   0   0   2   1   0   1   0]\n",
            " [  0   0   0   0   0 378   1   0   0   0   0   0]\n",
            " [  0   0   0   0   1   1  87   0   0   0   0   0]\n",
            " [  0   0   0   0   2   2   0 108   0   0   0   0]\n",
            " [  0   0   0   0   0   0   0   0 180   0   0   0]\n",
            " [  1   0   0   0   0   0   0   0   0   7   0   0]\n",
            " [  2   0   0   0   0   0   0   0   0   0  89   1]\n",
            " [  0   0   0   0   0   0   0   0   0   0   0  48]]\n",
            "              precision    recall  f1-score   support\n",
            "\n",
            "           A       0.99      1.00      0.99       850\n",
            "           B       0.00      0.00      0.00         2\n",
            "           C       1.00      0.88      0.94        26\n",
            "           D       1.00      0.99      0.99        69\n",
            "           E       0.99      0.97      0.98       231\n",
            "           F       0.99      1.00      0.99       379\n",
            "           G       0.98      0.98      0.98        89\n",
            "           H       0.97      0.96      0.97       112\n",
            "           I       0.99      1.00      1.00       180\n",
            "           W       1.00      0.88      0.93         8\n",
            "           X       0.98      0.97      0.97        92\n",
            "           Y       0.96      1.00      0.98        48\n",
            "\n",
            "    accuracy                           0.99      2086\n",
            "   macro avg       0.90      0.88      0.89      2086\n",
            "weighted avg       0.99      0.99      0.99      2086\n",
            "\n",
            "0.9865771812080537\n",
            "\n",
            "\n",
            "[[4241    0    2    5    3   10    0    9    0    2   11    3]\n",
            " [   0    3    0    0    0    0    2    0    0    0    0    0]\n",
            " [   3    0   97    1    0    0    0    2    0    0    0    0]\n",
            " [   0    0    1  342   10    0    0    0    0    0    0    0]\n",
            " [   7    0    0    2 1071    0    1    2    0    0   12    0]\n",
            " [   6    0    0    1    0 1952    1    2    0    0    0    0]\n",
            " [   0    0    0    0    9    8  429    0    1    0    0    0]\n",
            " [   0    0    3    0    3    3    0  511    0    0    0    0]\n",
            " [   1    0    0    0    0    0    0    0  831    0    0    0]\n",
            " [   4    0    0    0    0    0    0    0    0   41    0    0]\n",
            " [  10    0    0    0    5    0    0    0    0    0  503    4]\n",
            " [   3    0    0    0    0    0    0    0    0    0    0  264]]\n"
          ]
        },
        {
          "output_type": "stream",
          "name": "stderr",
          "text": [
            "/usr/local/lib/python3.8/dist-packages/sklearn/metrics/_classification.py:1344: UndefinedMetricWarning: Precision and F-score are ill-defined and being set to 0.0 in labels with no predicted samples. Use `zero_division` parameter to control this behavior.\n",
            "  _warn_prf(average, modifier, msg_start, len(result))\n",
            "/usr/local/lib/python3.8/dist-packages/sklearn/metrics/_classification.py:1344: UndefinedMetricWarning: Precision and F-score are ill-defined and being set to 0.0 in labels with no predicted samples. Use `zero_division` parameter to control this behavior.\n",
            "  _warn_prf(average, modifier, msg_start, len(result))\n",
            "/usr/local/lib/python3.8/dist-packages/sklearn/metrics/_classification.py:1344: UndefinedMetricWarning: Precision and F-score are ill-defined and being set to 0.0 in labels with no predicted samples. Use `zero_division` parameter to control this behavior.\n",
            "  _warn_prf(average, modifier, msg_start, len(result))\n"
          ]
        },
        {
          "output_type": "stream",
          "name": "stdout",
          "text": [
            "              precision    recall  f1-score   support\n",
            "\n",
            "           A       0.99      0.99      0.99      4286\n",
            "           B       1.00      0.60      0.75         5\n",
            "           C       0.94      0.94      0.94       103\n",
            "           D       0.97      0.97      0.97       353\n",
            "           E       0.97      0.98      0.98      1095\n",
            "           F       0.99      0.99      0.99      1962\n",
            "           G       0.99      0.96      0.97       447\n",
            "           H       0.97      0.98      0.98       520\n",
            "           I       1.00      1.00      1.00       832\n",
            "           W       0.95      0.91      0.93        45\n",
            "           X       0.96      0.96      0.96       522\n",
            "           Y       0.97      0.99      0.98       267\n",
            "\n",
            "    accuracy                           0.99     10437\n",
            "   macro avg       0.98      0.94      0.95     10437\n",
            "weighted avg       0.99      0.99      0.99     10437\n",
            "\n",
            "0.9854364280923638\n"
          ]
        }
      ]
    },
    {
      "cell_type": "markdown",
      "source": [
        "## Os resultados, foram melhores em relação ao valor default de 'GINI'"
      ],
      "metadata": {
        "id": "S8qN_9-pgzF-"
      }
    },
    {
      "cell_type": "markdown",
      "source": [
        "## Agora, vamos tentar além de mudar o 'criterion', vamos também modificar o 'splitter', que por default é 'best', mas vamos defini-lo 'como random'"
      ],
      "metadata": {
        "id": "r5K2lb-tg0Hv"
      }
    },
    {
      "cell_type": "code",
      "source": [
        "clf_best = DecisionTreeClassifier(criterion=\"log_loss\",splitter=\"random\")\n",
        "clf_best.fit(X_train, y_train)\n",
        "y_pred_valid = clf_best.predict(X_valid)\n",
        "y_pred_test = clf_best.predict(X_test)\n",
        "metrics(y_valid, y_pred_valid)\n",
        "print(\"\\n\")\n",
        "metrics(y_test, y_pred_test)"
      ],
      "metadata": {
        "id": "liVplA70OnIN",
        "outputId": "14bbba5b-e496-4243-df52-86cf784ca3ba",
        "colab": {
          "base_uri": "https://localhost:8080/"
        }
      },
      "execution_count": 36,
      "outputs": [
        {
          "output_type": "stream",
          "name": "stdout",
          "text": [
            "[[758   0   1   4  12  57   8   9   0   1   0   0]\n",
            " [  0   1   0   0   0   0   0   0   0   1   0   0]\n",
            " [  4   0  13   3   0   2   0   2   0   0   1   1]\n",
            " [  3   0   3  42   8  10   0   3   0   0   0   0]\n",
            " [ 17   0   1   9 177  10   3   7   0   0   7   0]\n",
            " [ 53   0   0   2  10 301   8   5   0   0   0   0]\n",
            " [ 11   0   0   0   5   7  63   3   0   0   0   0]\n",
            " [ 11   0   1   0   4   8   2  82   0   0   4   0]\n",
            " [  4   0   0   0   0   2   0   1 173   0   0   0]\n",
            " [  0   0   0   0   0   0   0   0   1   7   0   0]\n",
            " [  1   0   1   0   3   0   0   0   0   1  84   2]\n",
            " [  1   0   0   1   2   0   0   0   1   0   4  39]]\n",
            "              precision    recall  f1-score   support\n",
            "\n",
            "           A       0.88      0.89      0.88       850\n",
            "           B       1.00      0.50      0.67         2\n",
            "           C       0.65      0.50      0.57        26\n",
            "           D       0.69      0.61      0.65        69\n",
            "           E       0.80      0.77      0.78       231\n",
            "           F       0.76      0.79      0.78       379\n",
            "           G       0.75      0.71      0.73        89\n",
            "           H       0.73      0.73      0.73       112\n",
            "           I       0.99      0.96      0.97       180\n",
            "           W       0.70      0.88      0.78         8\n",
            "           X       0.84      0.91      0.87        92\n",
            "           Y       0.93      0.81      0.87        48\n",
            "\n",
            "    accuracy                           0.83      2086\n",
            "   macro avg       0.81      0.76      0.77      2086\n",
            "weighted avg       0.83      0.83      0.83      2086\n",
            "\n",
            "0.8341323106423778\n",
            "\n",
            "\n",
            "[[3747    0   14   31   61  294   51   54    7    4   15    8]\n",
            " [   1    2    0    0    0    0    0    1    0    1    0    0]\n",
            " [  10    0   54   15    6    6    1    4    3    0    4    0]\n",
            " [  19    0    3  270   36   15    4    4    0    0    2    0]\n",
            " [  86    0   12   33  847   50   13   19    2    2   27    4]\n",
            " [ 292    0    5    4   45 1518   46   39    6    0    2    5]\n",
            " [  65    0    0    1   15   36  321    9    0    0    0    0]\n",
            " [  53    0   12    2   19   38   13  382    0    0    1    0]\n",
            " [  17    0    2    6    4    0    0    4  792    0    1    6]\n",
            " [   0    0    0    0    1    2    0    0    0   42    0    0]\n",
            " [  17    0    3    6   16    5    0    1    1    5  458   10]\n",
            " [  11    0    0    2    7    3    0    0    2    0    9  233]]\n",
            "              precision    recall  f1-score   support\n",
            "\n",
            "           A       0.87      0.87      0.87      4286\n",
            "           B       1.00      0.40      0.57         5\n",
            "           C       0.51      0.52      0.52       103\n",
            "           D       0.73      0.76      0.75       353\n",
            "           E       0.80      0.77      0.79      1095\n",
            "           F       0.77      0.77      0.77      1962\n",
            "           G       0.71      0.72      0.72       447\n",
            "           H       0.74      0.73      0.74       520\n",
            "           I       0.97      0.95      0.96       832\n",
            "           W       0.78      0.93      0.85        45\n",
            "           X       0.88      0.88      0.88       522\n",
            "           Y       0.88      0.87      0.87       267\n",
            "\n",
            "    accuracy                           0.83     10437\n",
            "   macro avg       0.80      0.77      0.77     10437\n",
            "weighted avg       0.83      0.83      0.83     10437\n",
            "\n",
            "0.8303152246814218\n"
          ]
        }
      ]
    },
    {
      "cell_type": "markdown",
      "source": [
        "## Os resultados agora foram menores que os valores fornecedidos pela execução de base"
      ],
      "metadata": {
        "id": "SKhuxfJXhBft"
      }
    },
    {
      "cell_type": "markdown",
      "source": [
        "## Agora, decidimos modificar apenas o MAX_DEPTH, que é a valor de expansão dos nós na arvore"
      ],
      "metadata": {
        "id": "cu2eR179hJ4P"
      }
    },
    {
      "cell_type": "code",
      "source": [
        "clf_best = DecisionTreeClassifier(max_depth=10)\n",
        "clf_best.fit(X_train, y_train)\n",
        "y_pred_valid = clf_best.predict(X_valid)\n",
        "y_pred_test = clf_best.predict(X_test)\n",
        "metrics(y_valid, y_pred_valid)\n",
        "print(\"\\n\")\n",
        "metrics(y_test, y_pred_test)"
      ],
      "metadata": {
        "id": "7tR_ttCXOnKc",
        "outputId": "ac0c2304-9a68-4cb4-cf27-3d145696c735",
        "colab": {
          "base_uri": "https://localhost:8080/"
        }
      },
      "execution_count": 37,
      "outputs": [
        {
          "output_type": "stream",
          "name": "stdout",
          "text": [
            "[[793   0   1   5  10  19   1  17   2   0   1   1]\n",
            " [  0   2   0   0   0   0   0   0   0   0   0   0]\n",
            " [  7   0  15   2   2   0   0   0   0   0   0   0]\n",
            " [  8   0   0  45  15   0   0   1   0   0   0   0]\n",
            " [ 49   0   0   5 159  12   0   3   0   0   1   2]\n",
            " [102   0   0   2   6 264   0   5   0   0   0   0]\n",
            " [ 21   0   0   0   4   3  57   4   0   0   0   0]\n",
            " [ 15   0   0   0   0   3   0  93   0   0   1   0]\n",
            " [  6   0   0   0   1   0   0   0 173   0   0   0]\n",
            " [  2   0   0   0   0   0   0   0   0   6   0   0]\n",
            " [  7   0   0   0   0   3   0   0   0   0  79   3]\n",
            " [  3   0   0   0   2   0   0   0   0   0   4  39]]\n",
            "              precision    recall  f1-score   support\n",
            "\n",
            "           A       0.78      0.93      0.85       850\n",
            "           B       1.00      1.00      1.00         2\n",
            "           C       0.94      0.58      0.71        26\n",
            "           D       0.76      0.65      0.70        69\n",
            "           E       0.80      0.69      0.74       231\n",
            "           F       0.87      0.70      0.77       379\n",
            "           G       0.98      0.64      0.78        89\n",
            "           H       0.76      0.83      0.79       112\n",
            "           I       0.99      0.96      0.97       180\n",
            "           W       1.00      0.75      0.86         8\n",
            "           X       0.92      0.86      0.89        92\n",
            "           Y       0.87      0.81      0.84        48\n",
            "\n",
            "    accuracy                           0.83      2086\n",
            "   macro avg       0.89      0.78      0.83      2086\n",
            "weighted avg       0.84      0.83      0.82      2086\n",
            "\n",
            "0.826941514860978\n",
            "\n",
            "\n",
            "[[3959    0    6   20   72  136   17   60   13    0    2    1]\n",
            " [   0    5    0    0    0    0    0    0    0    0    0    0]\n",
            " [  24    0   63    6   10    0    0    0    0    0    0    0]\n",
            " [  13    0    0  248   84    0    0    8    0    0    0    0]\n",
            " [ 177    0    0   41  797   32    0   33    1    0   11    3]\n",
            " [ 502    0    0   16   36 1347   15   44    2    0    0    0]\n",
            " [ 127    0    0    0   33   18  245   23    0    0    0    1]\n",
            " [  77    0    0    0    0    8    0  434    0    0    1    0]\n",
            " [  29    0    0    0    5    0    0    0  798    0    0    0]\n",
            " [   1    0    0    0    1    0    0    0    0   41    2    0]\n",
            " [  24    0    0    1   53    6    0    1    1    6  427    3]\n",
            " [  27    0    0    0    5    0    0    3    0    0   26  206]]\n",
            "              precision    recall  f1-score   support\n",
            "\n",
            "           A       0.80      0.92      0.86      4286\n",
            "           B       1.00      1.00      1.00         5\n",
            "           C       0.91      0.61      0.73       103\n",
            "           D       0.75      0.70      0.72       353\n",
            "           E       0.73      0.73      0.73      1095\n",
            "           F       0.87      0.69      0.77      1962\n",
            "           G       0.88      0.55      0.68       447\n",
            "           H       0.72      0.83      0.77       520\n",
            "           I       0.98      0.96      0.97       832\n",
            "           W       0.87      0.91      0.89        45\n",
            "           X       0.91      0.82      0.86       522\n",
            "           Y       0.96      0.77      0.86       267\n",
            "\n",
            "    accuracy                           0.82     10437\n",
            "   macro avg       0.87      0.79      0.82     10437\n",
            "weighted avg       0.83      0.82      0.82     10437\n",
            "\n",
            "0.8211171792660726\n"
          ]
        }
      ]
    },
    {
      "cell_type": "markdown",
      "source": [
        "## De todos os resultados, este até o momento foi considerado o 'pior'"
      ],
      "metadata": {
        "id": "GJqLql9jhfmQ"
      }
    },
    {
      "cell_type": "code",
      "source": [],
      "metadata": {
        "id": "59aOBDaaOnM2"
      },
      "execution_count": 17,
      "outputs": []
    },
    {
      "cell_type": "markdown",
      "source": [
        "## Uma outra maneira de tentar modificar os hiperparametros é utilizando-se de uma ferramenta chamada de OPTUNA, que ajuda a definirmos alguns hiperparametros nos quais ele irá testar automaticamente"
      ],
      "metadata": {
        "id": "Ye-lzbgchlXw"
      }
    },
    {
      "cell_type": "code",
      "source": [
        "!pip install optuna"
      ],
      "metadata": {
        "id": "VXU-v04CfbRw",
        "outputId": "67ab38f3-ca89-4758-c8f8-f34e08781245",
        "colab": {
          "base_uri": "https://localhost:8080/"
        }
      },
      "execution_count": 18,
      "outputs": [
        {
          "output_type": "stream",
          "name": "stdout",
          "text": [
            "Looking in indexes: https://pypi.org/simple, https://us-python.pkg.dev/colab-wheels/public/simple/\n",
            "Collecting optuna\n",
            "  Downloading optuna-3.1.0-py3-none-any.whl (365 kB)\n",
            "\u001b[2K     \u001b[90m━━━━━━━━━━━━━━━━━━━━━━━━━━━━━━━━━━━━━━━\u001b[0m \u001b[32m365.3/365.3 KB\u001b[0m \u001b[31m6.7 MB/s\u001b[0m eta \u001b[36m0:00:00\u001b[0m\n",
            "\u001b[?25hCollecting alembic>=1.5.0\n",
            "  Downloading alembic-1.10.0-py3-none-any.whl (211 kB)\n",
            "\u001b[2K     \u001b[90m━━━━━━━━━━━━━━━━━━━━━━━━━━━━━━━━━━━━━━\u001b[0m \u001b[32m211.9/211.9 KB\u001b[0m \u001b[31m19.3 MB/s\u001b[0m eta \u001b[36m0:00:00\u001b[0m\n",
            "\u001b[?25hRequirement already satisfied: numpy in /usr/local/lib/python3.8/dist-packages (from optuna) (1.22.4)\n",
            "Requirement already satisfied: PyYAML in /usr/local/lib/python3.8/dist-packages (from optuna) (6.0)\n",
            "Collecting cmaes>=0.9.1\n",
            "  Downloading cmaes-0.9.1-py3-none-any.whl (21 kB)\n",
            "Requirement already satisfied: tqdm in /usr/local/lib/python3.8/dist-packages (from optuna) (4.64.1)\n",
            "Collecting colorlog\n",
            "  Downloading colorlog-6.7.0-py2.py3-none-any.whl (11 kB)\n",
            "Requirement already satisfied: packaging>=20.0 in /usr/local/lib/python3.8/dist-packages (from optuna) (23.0)\n",
            "Requirement already satisfied: sqlalchemy>=1.3.0 in /usr/local/lib/python3.8/dist-packages (from optuna) (1.4.46)\n",
            "Requirement already satisfied: importlib-metadata in /usr/local/lib/python3.8/dist-packages (from alembic>=1.5.0->optuna) (6.0.0)\n",
            "Collecting Mako\n",
            "  Downloading Mako-1.2.4-py3-none-any.whl (78 kB)\n",
            "\u001b[2K     \u001b[90m━━━━━━━━━━━━━━━━━━━━━━━━━━━━━━━━━━━━━━━━\u001b[0m \u001b[32m78.7/78.7 KB\u001b[0m \u001b[31m9.8 MB/s\u001b[0m eta \u001b[36m0:00:00\u001b[0m\n",
            "\u001b[?25hRequirement already satisfied: typing-extensions>=4 in /usr/local/lib/python3.8/dist-packages (from alembic>=1.5.0->optuna) (4.5.0)\n",
            "Requirement already satisfied: importlib-resources in /usr/local/lib/python3.8/dist-packages (from alembic>=1.5.0->optuna) (5.12.0)\n",
            "Requirement already satisfied: greenlet!=0.4.17 in /usr/local/lib/python3.8/dist-packages (from sqlalchemy>=1.3.0->optuna) (2.0.2)\n",
            "Requirement already satisfied: zipp>=0.5 in /usr/local/lib/python3.8/dist-packages (from importlib-metadata->alembic>=1.5.0->optuna) (3.15.0)\n",
            "Requirement already satisfied: MarkupSafe>=0.9.2 in /usr/local/lib/python3.8/dist-packages (from Mako->alembic>=1.5.0->optuna) (2.1.2)\n",
            "Installing collected packages: Mako, colorlog, cmaes, alembic, optuna\n",
            "Successfully installed Mako-1.2.4 alembic-1.10.0 cmaes-0.9.1 colorlog-6.7.0 optuna-3.1.0\n"
          ]
        }
      ]
    },
    {
      "cell_type": "code",
      "source": [
        "criterion = \"gini\" #What is the criterion used for the split\n",
        "#There is an scientific paper comparing gini and entropy and they diverge in only 2% of the cases, but entropy is a little slower because of logarithm\n",
        "\n",
        "splitter = \"best\" #The strategy used to choose the split at each node\n",
        "#If the model is suffering from overfitting we can change it to random, to avoid this fate\n",
        "\n",
        "max_depth = None #can be None to go forever till purity beeing achieved\n",
        "\n",
        "min_samples_split = 2 #if int, it is the minimal number to make a split\n",
        "                      #if float, it is the min_samples_split * n_samples\n",
        "\n",
        "min_samples_leaf = 1 #int, float\n",
        "\n",
        "#min_weight_fraction_leaf = \n",
        "\n",
        "max_features = None #there are few features, so I think"
      ],
      "metadata": {
        "id": "ocdbMMuRfbUU"
      },
      "execution_count": 38,
      "outputs": []
    },
    {
      "cell_type": "code",
      "source": [
        "from sklearn.utils.extmath import weighted_mode\n",
        "import optuna"
      ],
      "metadata": {
        "id": "i5N4M9vwfdxN"
      },
      "execution_count": 39,
      "outputs": []
    },
    {
      "cell_type": "code",
      "source": [
        "def objective(trial):\n",
        "    min_samples_split = trial.suggest_int(\"min_samples_split\",2,50)\n",
        "    min_samples_leaf = trial.suggest_int(\"min_samples_leaf\",1,30)\n",
        "    \n",
        "    clf = DecisionTreeClassifier(\n",
        "                                #criterion=criterion,\n",
        "                                #splitter=splitter,\n",
        "                                min_samples_split=min_samples_split,\n",
        "                                #max_depth=max_depth, \n",
        "                                #min_samples_leaf=min_samples_leaf, \n",
        "                                max_features=max_features\n",
        "                                )\n",
        "    clf.fit(X_train,y_train)\n",
        "    pred = clf.predict(X_valid)\n",
        "    return f1_score(pred,y_valid,average=\"weighted\")\n",
        "\n",
        "study = optuna.create_study(direction=\"maximize\")\n",
        "study.optimize(objective, n_trials=100)\n",
        "\n",
        "print(study.best_params)"
      ],
      "metadata": {
        "id": "w2lj-4sGfbWr",
        "outputId": "795a9913-e727-46bc-8a36-a5eb6a259b8d",
        "colab": {
          "base_uri": "https://localhost:8080/"
        }
      },
      "execution_count": 40,
      "outputs": [
        {
          "output_type": "stream",
          "name": "stderr",
          "text": [
            "\u001b[32m[I 2023-03-06 14:08:16,510]\u001b[0m A new study created in memory with name: no-name-72d1f1b9-f314-477d-b19d-df8d7aeb63ea\u001b[0m\n",
            "\u001b[32m[I 2023-03-06 14:08:16,603]\u001b[0m Trial 0 finished with value: 0.8935076408814242 and parameters: {'min_samples_split': 34, 'min_samples_leaf': 25}. Best is trial 0 with value: 0.8935076408814242.\u001b[0m\n",
            "\u001b[32m[I 2023-03-06 14:08:16,693]\u001b[0m Trial 1 finished with value: 0.9589190488660161 and parameters: {'min_samples_split': 9, 'min_samples_leaf': 5}. Best is trial 1 with value: 0.9589190488660161.\u001b[0m\n",
            "\u001b[32m[I 2023-03-06 14:08:16,789]\u001b[0m Trial 2 finished with value: 0.9434890622130758 and parameters: {'min_samples_split': 17, 'min_samples_leaf': 18}. Best is trial 1 with value: 0.9589190488660161.\u001b[0m\n",
            "\u001b[32m[I 2023-03-06 14:08:16,880]\u001b[0m Trial 3 finished with value: 0.9708872242509567 and parameters: {'min_samples_split': 4, 'min_samples_leaf': 17}. Best is trial 3 with value: 0.9708872242509567.\u001b[0m\n",
            "\u001b[32m[I 2023-03-06 14:08:16,974]\u001b[0m Trial 4 finished with value: 0.9599767941499077 and parameters: {'min_samples_split': 9, 'min_samples_leaf': 29}. Best is trial 3 with value: 0.9708872242509567.\u001b[0m\n",
            "\u001b[32m[I 2023-03-06 14:08:17,074]\u001b[0m Trial 5 finished with value: 0.9522843831350334 and parameters: {'min_samples_split': 12, 'min_samples_leaf': 28}. Best is trial 3 with value: 0.9708872242509567.\u001b[0m\n",
            "\u001b[32m[I 2023-03-06 14:08:17,162]\u001b[0m Trial 6 finished with value: 0.8533354422260769 and parameters: {'min_samples_split': 49, 'min_samples_leaf': 6}. Best is trial 3 with value: 0.9708872242509567.\u001b[0m\n",
            "\u001b[32m[I 2023-03-06 14:08:17,257]\u001b[0m Trial 7 finished with value: 0.8902321646459797 and parameters: {'min_samples_split': 36, 'min_samples_leaf': 14}. Best is trial 3 with value: 0.9708872242509567.\u001b[0m\n",
            "\u001b[32m[I 2023-03-06 14:08:17,346]\u001b[0m Trial 8 finished with value: 0.9466494654907115 and parameters: {'min_samples_split': 16, 'min_samples_leaf': 18}. Best is trial 3 with value: 0.9708872242509567.\u001b[0m\n",
            "\u001b[32m[I 2023-03-06 14:08:17,442]\u001b[0m Trial 9 finished with value: 0.890729740559113 and parameters: {'min_samples_split': 36, 'min_samples_leaf': 16}. Best is trial 3 with value: 0.9708872242509567.\u001b[0m\n",
            "\u001b[32m[I 2023-03-06 14:08:17,550]\u001b[0m Trial 10 finished with value: 0.9736153437940871 and parameters: {'min_samples_split': 2, 'min_samples_leaf': 10}. Best is trial 10 with value: 0.9736153437940871.\u001b[0m\n",
            "\u001b[32m[I 2023-03-06 14:08:17,656]\u001b[0m Trial 11 finished with value: 0.9704976574967263 and parameters: {'min_samples_split': 5, 'min_samples_leaf': 11}. Best is trial 10 with value: 0.9736153437940871.\u001b[0m\n",
            "\u001b[32m[I 2023-03-06 14:08:17,763]\u001b[0m Trial 12 finished with value: 0.9784523040081461 and parameters: {'min_samples_split': 2, 'min_samples_leaf': 10}. Best is trial 12 with value: 0.9784523040081461.\u001b[0m\n",
            "\u001b[32m[I 2023-03-06 14:08:17,868]\u001b[0m Trial 13 finished with value: 0.9304825410037701 and parameters: {'min_samples_split': 21, 'min_samples_leaf': 10}. Best is trial 12 with value: 0.9784523040081461.\u001b[0m\n",
            "\u001b[32m[I 2023-03-06 14:08:17,971]\u001b[0m Trial 14 finished with value: 0.9731171158725755 and parameters: {'min_samples_split': 2, 'min_samples_leaf': 2}. Best is trial 12 with value: 0.9784523040081461.\u001b[0m\n",
            "\u001b[32m[I 2023-03-06 14:08:18,076]\u001b[0m Trial 15 finished with value: 0.9170577682226777 and parameters: {'min_samples_split': 25, 'min_samples_leaf': 8}. Best is trial 12 with value: 0.9784523040081461.\u001b[0m\n",
            "\u001b[32m[I 2023-03-06 14:08:18,188]\u001b[0m Trial 16 finished with value: 0.8533354422260769 and parameters: {'min_samples_split': 49, 'min_samples_leaf': 22}. Best is trial 12 with value: 0.9784523040081461.\u001b[0m\n",
            "\u001b[32m[I 2023-03-06 14:08:18,293]\u001b[0m Trial 17 finished with value: 0.9081792624241584 and parameters: {'min_samples_split': 29, 'min_samples_leaf': 2}. Best is trial 12 with value: 0.9784523040081461.\u001b[0m\n",
            "\u001b[32m[I 2023-03-06 14:08:18,399]\u001b[0m Trial 18 finished with value: 0.9514486717041709 and parameters: {'min_samples_split': 14, 'min_samples_leaf': 11}. Best is trial 12 with value: 0.9784523040081461.\u001b[0m\n",
            "\u001b[32m[I 2023-03-06 14:08:18,501]\u001b[0m Trial 19 finished with value: 0.9700105923930126 and parameters: {'min_samples_split': 7, 'min_samples_leaf': 13}. Best is trial 12 with value: 0.9784523040081461.\u001b[0m\n",
            "\u001b[32m[I 2023-03-06 14:08:18,605]\u001b[0m Trial 20 finished with value: 0.9770597357422828 and parameters: {'min_samples_split': 2, 'min_samples_leaf': 21}. Best is trial 12 with value: 0.9784523040081461.\u001b[0m\n",
            "\u001b[32m[I 2023-03-06 14:08:18,717]\u001b[0m Trial 21 finished with value: 0.9751333381092617 and parameters: {'min_samples_split': 2, 'min_samples_leaf': 21}. Best is trial 12 with value: 0.9784523040081461.\u001b[0m\n",
            "\u001b[32m[I 2023-03-06 14:08:18,819]\u001b[0m Trial 22 finished with value: 0.9585280246300764 and parameters: {'min_samples_split': 10, 'min_samples_leaf': 21}. Best is trial 12 with value: 0.9784523040081461.\u001b[0m\n",
            "\u001b[32m[I 2023-03-06 14:08:18,923]\u001b[0m Trial 23 finished with value: 0.9704576351995662 and parameters: {'min_samples_split': 6, 'min_samples_leaf': 24}. Best is trial 12 with value: 0.9784523040081461.\u001b[0m\n",
            "\u001b[32m[I 2023-03-06 14:08:19,031]\u001b[0m Trial 24 finished with value: 0.9334961136785502 and parameters: {'min_samples_split': 19, 'min_samples_leaf': 20}. Best is trial 12 with value: 0.9784523040081461.\u001b[0m\n",
            "\u001b[32m[I 2023-03-06 14:08:19,150]\u001b[0m Trial 25 finished with value: 0.9722993008860684 and parameters: {'min_samples_split': 2, 'min_samples_leaf': 27}. Best is trial 12 with value: 0.9784523040081461.\u001b[0m\n",
            "\u001b[32m[I 2023-03-06 14:08:19,255]\u001b[0m Trial 26 finished with value: 0.950832841047527 and parameters: {'min_samples_split': 12, 'min_samples_leaf': 24}. Best is trial 12 with value: 0.9784523040081461.\u001b[0m\n",
            "\u001b[32m[I 2023-03-06 14:08:19,365]\u001b[0m Trial 27 finished with value: 0.8624604127094591 and parameters: {'min_samples_split': 44, 'min_samples_leaf': 20}. Best is trial 12 with value: 0.9784523040081461.\u001b[0m\n",
            "\u001b[32m[I 2023-03-06 14:08:19,480]\u001b[0m Trial 28 finished with value: 0.9257998989955427 and parameters: {'min_samples_split': 22, 'min_samples_leaf': 14}. Best is trial 12 with value: 0.9784523040081461.\u001b[0m\n",
            "\u001b[32m[I 2023-03-06 14:08:19,588]\u001b[0m Trial 29 finished with value: 0.9681258134574285 and parameters: {'min_samples_split': 7, 'min_samples_leaf': 25}. Best is trial 12 with value: 0.9784523040081461.\u001b[0m\n",
            "\u001b[32m[I 2023-03-06 14:08:19,699]\u001b[0m Trial 30 finished with value: 0.9066997724959607 and parameters: {'min_samples_split': 29, 'min_samples_leaf': 22}. Best is trial 12 with value: 0.9784523040081461.\u001b[0m\n",
            "\u001b[32m[I 2023-03-06 14:08:19,808]\u001b[0m Trial 31 finished with value: 0.9765789219986893 and parameters: {'min_samples_split': 2, 'min_samples_leaf': 8}. Best is trial 12 with value: 0.9784523040081461.\u001b[0m\n",
            "\u001b[32m[I 2023-03-06 14:08:19,914]\u001b[0m Trial 32 finished with value: 0.9681389316073288 and parameters: {'min_samples_split': 6, 'min_samples_leaf': 8}. Best is trial 12 with value: 0.9784523040081461.\u001b[0m\n",
            "\u001b[32m[I 2023-03-06 14:08:20,019]\u001b[0m Trial 33 finished with value: 0.9565328141445053 and parameters: {'min_samples_split': 10, 'min_samples_leaf': 5}. Best is trial 12 with value: 0.9784523040081461.\u001b[0m\n",
            "\u001b[32m[I 2023-03-06 14:08:20,126]\u001b[0m Trial 34 finished with value: 0.970029246824743 and parameters: {'min_samples_split': 4, 'min_samples_leaf': 7}. Best is trial 12 with value: 0.9784523040081461.\u001b[0m\n",
            "\u001b[32m[I 2023-03-06 14:08:20,240]\u001b[0m Trial 35 finished with value: 0.9746353937295836 and parameters: {'min_samples_split': 2, 'min_samples_leaf': 4}. Best is trial 12 with value: 0.9784523040081461.\u001b[0m\n",
            "\u001b[32m[I 2023-03-06 14:08:20,349]\u001b[0m Trial 36 finished with value: 0.9704728211214487 and parameters: {'min_samples_split': 8, 'min_samples_leaf': 18}. Best is trial 12 with value: 0.9784523040081461.\u001b[0m\n",
            "\u001b[32m[I 2023-03-06 14:08:20,457]\u001b[0m Trial 37 finished with value: 0.9508340508361219 and parameters: {'min_samples_split': 13, 'min_samples_leaf': 13}. Best is trial 12 with value: 0.9784523040081461.\u001b[0m\n",
            "\u001b[32m[I 2023-03-06 14:08:20,562]\u001b[0m Trial 38 finished with value: 0.9461694911357826 and parameters: {'min_samples_split': 16, 'min_samples_leaf': 15}. Best is trial 12 with value: 0.9784523040081461.\u001b[0m\n",
            "\u001b[32m[I 2023-03-06 14:08:20,668]\u001b[0m Trial 39 finished with value: 0.9593535603480694 and parameters: {'min_samples_split': 10, 'min_samples_leaf': 27}. Best is trial 12 with value: 0.9784523040081461.\u001b[0m\n",
            "\u001b[32m[I 2023-03-06 14:08:20,775]\u001b[0m Trial 40 finished with value: 0.9719102400218333 and parameters: {'min_samples_split': 4, 'min_samples_leaf': 17}. Best is trial 12 with value: 0.9784523040081461.\u001b[0m\n",
            "\u001b[32m[I 2023-03-06 14:08:20,886]\u001b[0m Trial 41 finished with value: 0.9717999860543638 and parameters: {'min_samples_split': 2, 'min_samples_leaf': 4}. Best is trial 12 with value: 0.9784523040081461.\u001b[0m\n",
            "\u001b[32m[I 2023-03-06 14:08:20,995]\u001b[0m Trial 42 finished with value: 0.9699526140871155 and parameters: {'min_samples_split': 4, 'min_samples_leaf': 3}. Best is trial 12 with value: 0.9784523040081461.\u001b[0m\n",
            "\u001b[32m[I 2023-03-06 14:08:21,102]\u001b[0m Trial 43 finished with value: 0.9695008151455891 and parameters: {'min_samples_split': 5, 'min_samples_leaf': 1}. Best is trial 12 with value: 0.9784523040081461.\u001b[0m\n",
            "\u001b[32m[I 2023-03-06 14:08:21,214]\u001b[0m Trial 44 finished with value: 0.9679887159305126 and parameters: {'min_samples_split': 8, 'min_samples_leaf': 7}. Best is trial 12 with value: 0.9784523040081461.\u001b[0m\n",
            "\u001b[32m[I 2023-03-06 14:08:21,328]\u001b[0m Trial 45 finished with value: 0.9737053386268114 and parameters: {'min_samples_split': 2, 'min_samples_leaf': 30}. Best is trial 12 with value: 0.9784523040081461.\u001b[0m\n",
            "\u001b[32m[I 2023-03-06 14:08:21,438]\u001b[0m Trial 46 finished with value: 0.9737706916421928 and parameters: {'min_samples_split': 4, 'min_samples_leaf': 6}. Best is trial 12 with value: 0.9784523040081461.\u001b[0m\n",
            "\u001b[32m[I 2023-03-06 14:08:21,555]\u001b[0m Trial 47 finished with value: 0.9527241449752054 and parameters: {'min_samples_split': 11, 'min_samples_leaf': 10}. Best is trial 12 with value: 0.9784523040081461.\u001b[0m\n",
            "\u001b[32m[I 2023-03-06 14:08:21,663]\u001b[0m Trial 48 finished with value: 0.9486727800412678 and parameters: {'min_samples_split': 15, 'min_samples_leaf': 9}. Best is trial 12 with value: 0.9784523040081461.\u001b[0m\n",
            "\u001b[32m[I 2023-03-06 14:08:21,779]\u001b[0m Trial 49 finished with value: 0.9675393834580273 and parameters: {'min_samples_split': 8, 'min_samples_leaf': 12}. Best is trial 12 with value: 0.9784523040081461.\u001b[0m\n",
            "\u001b[32m[I 2023-03-06 14:08:21,885]\u001b[0m Trial 50 finished with value: 0.9760618120645908 and parameters: {'min_samples_split': 2, 'min_samples_leaf': 4}. Best is trial 12 with value: 0.9784523040081461.\u001b[0m\n",
            "\u001b[32m[I 2023-03-06 14:08:21,992]\u001b[0m Trial 51 finished with value: 0.9765647404006778 and parameters: {'min_samples_split': 2, 'min_samples_leaf': 4}. Best is trial 12 with value: 0.9784523040081461.\u001b[0m\n",
            "\u001b[32m[I 2023-03-06 14:08:22,105]\u001b[0m Trial 52 finished with value: 0.9714816680881241 and parameters: {'min_samples_split': 5, 'min_samples_leaf': 5}. Best is trial 12 with value: 0.9784523040081461.\u001b[0m\n",
            "\u001b[32m[I 2023-03-06 14:08:22,221]\u001b[0m Trial 53 finished with value: 0.969509641462424 and parameters: {'min_samples_split': 6, 'min_samples_leaf': 1}. Best is trial 12 with value: 0.9784523040081461.\u001b[0m\n",
            "\u001b[32m[I 2023-03-06 14:08:22,358]\u001b[0m Trial 54 finished with value: 0.9714279701431933 and parameters: {'min_samples_split': 4, 'min_samples_leaf': 3}. Best is trial 12 with value: 0.9784523040081461.\u001b[0m\n",
            "\u001b[32m[I 2023-03-06 14:08:22,519]\u001b[0m Trial 55 finished with value: 0.8800526519034556 and parameters: {'min_samples_split': 41, 'min_samples_leaf': 7}. Best is trial 12 with value: 0.9784523040081461.\u001b[0m\n",
            "\u001b[32m[I 2023-03-06 14:08:22,692]\u001b[0m Trial 56 finished with value: 0.9736437889923236 and parameters: {'min_samples_split': 2, 'min_samples_leaf': 5}. Best is trial 12 with value: 0.9784523040081461.\u001b[0m\n",
            "\u001b[32m[I 2023-03-06 14:08:22,866]\u001b[0m Trial 57 finished with value: 0.9613673792110375 and parameters: {'min_samples_split': 9, 'min_samples_leaf': 19}. Best is trial 12 with value: 0.9784523040081461.\u001b[0m\n",
            "\u001b[32m[I 2023-03-06 14:08:23,033]\u001b[0m Trial 58 finished with value: 0.9698968980265559 and parameters: {'min_samples_split': 7, 'min_samples_leaf': 9}. Best is trial 12 with value: 0.9784523040081461.\u001b[0m\n",
            "\u001b[32m[I 2023-03-06 14:08:23,204]\u001b[0m Trial 59 finished with value: 0.9703830528522892 and parameters: {'min_samples_split': 3, 'min_samples_leaf': 16}. Best is trial 12 with value: 0.9784523040081461.\u001b[0m\n",
            "\u001b[32m[I 2023-03-06 14:08:23,386]\u001b[0m Trial 60 finished with value: 0.9718965911096321 and parameters: {'min_samples_split': 6, 'min_samples_leaf': 23}. Best is trial 12 with value: 0.9784523040081461.\u001b[0m\n",
            "\u001b[32m[I 2023-03-06 14:08:23,558]\u001b[0m Trial 61 finished with value: 0.9775148734324939 and parameters: {'min_samples_split': 2, 'min_samples_leaf': 6}. Best is trial 12 with value: 0.9784523040081461.\u001b[0m\n",
            "\u001b[32m[I 2023-03-06 14:08:23,726]\u001b[0m Trial 62 finished with value: 0.9704447167477879 and parameters: {'min_samples_split': 4, 'min_samples_leaf': 3}. Best is trial 12 with value: 0.9784523040081461.\u001b[0m\n",
            "\u001b[32m[I 2023-03-06 14:08:23,896]\u001b[0m Trial 63 finished with value: 0.974180290323198 and parameters: {'min_samples_split': 2, 'min_samples_leaf': 6}. Best is trial 12 with value: 0.9784523040081461.\u001b[0m\n",
            "\u001b[32m[I 2023-03-06 14:08:24,061]\u001b[0m Trial 64 finished with value: 0.9676503399589491 and parameters: {'min_samples_split': 6, 'min_samples_leaf': 4}. Best is trial 12 with value: 0.9784523040081461.\u001b[0m\n",
            "\u001b[32m[I 2023-03-06 14:08:24,227]\u001b[0m Trial 65 finished with value: 0.9723648354506633 and parameters: {'min_samples_split': 3, 'min_samples_leaf': 11}. Best is trial 12 with value: 0.9784523040081461.\u001b[0m\n",
            "\u001b[32m[I 2023-03-06 14:08:24,398]\u001b[0m Trial 66 finished with value: 0.8944605665861682 and parameters: {'min_samples_split': 33, 'min_samples_leaf': 8}. Best is trial 12 with value: 0.9784523040081461.\u001b[0m\n",
            "\u001b[32m[I 2023-03-06 14:08:24,576]\u001b[0m Trial 67 finished with value: 0.9670594243662455 and parameters: {'min_samples_split': 8, 'min_samples_leaf': 21}. Best is trial 12 with value: 0.9784523040081461.\u001b[0m\n",
            "\u001b[32m[I 2023-03-06 14:08:24,749]\u001b[0m Trial 68 finished with value: 0.969032948283413 and parameters: {'min_samples_split': 5, 'min_samples_leaf': 2}. Best is trial 12 with value: 0.9784523040081461.\u001b[0m\n",
            "\u001b[32m[I 2023-03-06 14:08:24,920]\u001b[0m Trial 69 finished with value: 0.9523109847933071 and parameters: {'min_samples_split': 12, 'min_samples_leaf': 6}. Best is trial 12 with value: 0.9784523040081461.\u001b[0m\n",
            "\u001b[32m[I 2023-03-06 14:08:25,081]\u001b[0m Trial 70 finished with value: 0.9390208009985382 and parameters: {'min_samples_split': 18, 'min_samples_leaf': 8}. Best is trial 12 with value: 0.9784523040081461.\u001b[0m\n",
            "\u001b[32m[I 2023-03-06 14:08:25,244]\u001b[0m Trial 71 finished with value: 0.9727681819526801 and parameters: {'min_samples_split': 3, 'min_samples_leaf': 4}. Best is trial 12 with value: 0.9784523040081461.\u001b[0m\n",
            "\u001b[32m[I 2023-03-06 14:08:25,406]\u001b[0m Trial 72 finished with value: 0.9756159420088224 and parameters: {'min_samples_split': 2, 'min_samples_leaf': 5}. Best is trial 12 with value: 0.9784523040081461.\u001b[0m\n",
            "\u001b[32m[I 2023-03-06 14:08:25,515]\u001b[0m Trial 73 finished with value: 0.9694374584805416 and parameters: {'min_samples_split': 3, 'min_samples_leaf': 9}. Best is trial 12 with value: 0.9784523040081461.\u001b[0m\n",
            "\u001b[32m[I 2023-03-06 14:08:25,627]\u001b[0m Trial 74 finished with value: 0.9685358487061443 and parameters: {'min_samples_split': 5, 'min_samples_leaf': 5}. Best is trial 12 with value: 0.9784523040081461.\u001b[0m\n",
            "\u001b[32m[I 2023-03-06 14:08:25,737]\u001b[0m Trial 75 finished with value: 0.9689828704664746 and parameters: {'min_samples_split': 7, 'min_samples_leaf': 7}. Best is trial 12 with value: 0.9784523040081461.\u001b[0m\n",
            "\u001b[32m[I 2023-03-06 14:08:25,846]\u001b[0m Trial 76 finished with value: 0.9732191632718394 and parameters: {'min_samples_split': 2, 'min_samples_leaf': 20}. Best is trial 12 with value: 0.9784523040081461.\u001b[0m\n",
            "\u001b[32m[I 2023-03-06 14:08:25,952]\u001b[0m Trial 77 finished with value: 0.9603626175607459 and parameters: {'min_samples_split': 9, 'min_samples_leaf': 2}. Best is trial 12 with value: 0.9784523040081461.\u001b[0m\n",
            "\u001b[32m[I 2023-03-06 14:08:26,057]\u001b[0m Trial 78 finished with value: 0.9165483993118819 and parameters: {'min_samples_split': 25, 'min_samples_leaf': 6}. Best is trial 12 with value: 0.9784523040081461.\u001b[0m\n",
            "\u001b[32m[I 2023-03-06 14:08:26,164]\u001b[0m Trial 79 finished with value: 0.9691207046029179 and parameters: {'min_samples_split': 5, 'min_samples_leaf': 18}. Best is trial 12 with value: 0.9784523040081461.\u001b[0m\n",
            "\u001b[32m[I 2023-03-06 14:08:26,276]\u001b[0m Trial 80 finished with value: 0.9723840622580435 and parameters: {'min_samples_split': 3, 'min_samples_leaf': 12}. Best is trial 12 with value: 0.9784523040081461.\u001b[0m\n",
            "\u001b[32m[I 2023-03-06 14:08:26,395]\u001b[0m Trial 81 finished with value: 0.9731916261272786 and parameters: {'min_samples_split': 2, 'min_samples_leaf': 3}. Best is trial 12 with value: 0.9784523040081461.\u001b[0m\n",
            "\u001b[32m[I 2023-03-06 14:08:26,501]\u001b[0m Trial 82 finished with value: 0.9710536269496757 and parameters: {'min_samples_split': 6, 'min_samples_leaf': 4}. Best is trial 12 with value: 0.9784523040081461.\u001b[0m\n",
            "\u001b[32m[I 2023-03-06 14:08:26,611]\u001b[0m Trial 83 finished with value: 0.9742801958772677 and parameters: {'min_samples_split': 3, 'min_samples_leaf': 5}. Best is trial 12 with value: 0.9784523040081461.\u001b[0m\n",
            "\u001b[32m[I 2023-03-06 14:08:26,718]\u001b[0m Trial 84 finished with value: 0.9747351130688704 and parameters: {'min_samples_split': 4, 'min_samples_leaf': 26}. Best is trial 12 with value: 0.9784523040081461.\u001b[0m\n",
            "\u001b[32m[I 2023-03-06 14:08:26,829]\u001b[0m Trial 85 finished with value: 0.9718456125681973 and parameters: {'min_samples_split': 4, 'min_samples_leaf': 27}. Best is trial 12 with value: 0.9784523040081461.\u001b[0m\n",
            "\u001b[32m[I 2023-03-06 14:08:26,935]\u001b[0m Trial 86 finished with value: 0.9708890033996113 and parameters: {'min_samples_split': 7, 'min_samples_leaf': 25}. Best is trial 12 with value: 0.9784523040081461.\u001b[0m\n",
            "\u001b[32m[I 2023-03-06 14:08:27,048]\u001b[0m Trial 87 finished with value: 0.973317125850631 and parameters: {'min_samples_split': 4, 'min_samples_leaf': 30}. Best is trial 12 with value: 0.9784523040081461.\u001b[0m\n",
            "\u001b[32m[I 2023-03-06 14:08:27,156]\u001b[0m Trial 88 finished with value: 0.9628767500800279 and parameters: {'min_samples_split': 9, 'min_samples_leaf': 26}. Best is trial 12 with value: 0.9784523040081461.\u001b[0m\n",
            "\u001b[32m[I 2023-03-06 14:08:27,264]\u001b[0m Trial 89 finished with value: 0.9723738183678787 and parameters: {'min_samples_split': 5, 'min_samples_leaf': 28}. Best is trial 12 with value: 0.9784523040081461.\u001b[0m\n",
            "\u001b[32m[I 2023-03-06 14:08:27,380]\u001b[0m Trial 90 finished with value: 0.9755376898302607 and parameters: {'min_samples_split': 2, 'min_samples_leaf': 17}. Best is trial 12 with value: 0.9784523040081461.\u001b[0m\n",
            "\u001b[32m[I 2023-03-06 14:08:27,495]\u001b[0m Trial 91 finished with value: 0.976535254962472 and parameters: {'min_samples_split': 2, 'min_samples_leaf': 17}. Best is trial 12 with value: 0.9784523040081461.\u001b[0m\n",
            "\u001b[32m[I 2023-03-06 14:08:27,612]\u001b[0m Trial 92 finished with value: 0.975576442196776 and parameters: {'min_samples_split': 2, 'min_samples_leaf': 17}. Best is trial 12 with value: 0.9784523040081461.\u001b[0m\n",
            "\u001b[32m[I 2023-03-06 14:08:27,722]\u001b[0m Trial 93 finished with value: 0.9727520717411532 and parameters: {'min_samples_split': 2, 'min_samples_leaf': 17}. Best is trial 12 with value: 0.9784523040081461.\u001b[0m\n",
            "\u001b[32m[I 2023-03-06 14:08:27,836]\u001b[0m Trial 94 finished with value: 0.9737783706408546 and parameters: {'min_samples_split': 3, 'min_samples_leaf': 17}. Best is trial 12 with value: 0.9784523040081461.\u001b[0m\n",
            "\u001b[32m[I 2023-03-06 14:08:27,948]\u001b[0m Trial 95 finished with value: 0.9294985260638473 and parameters: {'min_samples_split': 21, 'min_samples_leaf': 16}. Best is trial 12 with value: 0.9784523040081461.\u001b[0m\n",
            "\u001b[32m[I 2023-03-06 14:08:28,056]\u001b[0m Trial 96 finished with value: 0.9700335101238458 and parameters: {'min_samples_split': 6, 'min_samples_leaf': 14}. Best is trial 12 with value: 0.9784523040081461.\u001b[0m\n",
            "\u001b[32m[I 2023-03-06 14:08:28,164]\u001b[0m Trial 97 finished with value: 0.9750738287912122 and parameters: {'min_samples_split': 2, 'min_samples_leaf': 15}. Best is trial 12 with value: 0.9784523040081461.\u001b[0m\n",
            "\u001b[32m[I 2023-03-06 14:08:28,275]\u001b[0m Trial 98 finished with value: 0.9694402980927821 and parameters: {'min_samples_split': 3, 'min_samples_leaf': 19}. Best is trial 12 with value: 0.9784523040081461.\u001b[0m\n",
            "\u001b[32m[I 2023-03-06 14:08:28,392]\u001b[0m Trial 99 finished with value: 0.9695556705658539 and parameters: {'min_samples_split': 5, 'min_samples_leaf': 19}. Best is trial 12 with value: 0.9784523040081461.\u001b[0m\n"
          ]
        },
        {
          "output_type": "stream",
          "name": "stdout",
          "text": [
            "{'min_samples_split': 2, 'min_samples_leaf': 10}\n"
          ]
        }
      ]
    },
    {
      "cell_type": "markdown",
      "source": [
        "## A resposta da automação em relação a otimização de HIPERPARAMETROS foi - **{'min_samples_split': 2, 'min_samples_leaf': 10}**\n"
      ],
      "metadata": {
        "id": "LN-4rfqkiNk4"
      }
    },
    {
      "cell_type": "code",
      "source": [
        "clf_best = DecisionTreeClassifier(min_samples_split=2, min_samples_leaf=10)\n",
        "clf_best.fit(X_train, y_train)\n",
        "y_pred_train = clf_best.predict(X_train)\n",
        "y_pred_valid = clf_best.predict(X_valid)\n",
        "y_pred_test = clf_best.predict(X_test)\n",
        "metrics(y_train, y_pred_train)\n",
        "print(\"-\"*20)\n",
        "metrics(y_valid, y_pred_valid)\n",
        "print(\"-\"*20)\n",
        "metrics(y_test, y_pred_test)"
      ],
      "metadata": {
        "id": "f-QVcz-1OnPI",
        "outputId": "e49f0566-cb40-4e06-cff8-bd14e653639e",
        "colab": {
          "base_uri": "https://localhost:8080/"
        }
      },
      "execution_count": 45,
      "outputs": [
        {
          "output_type": "stream",
          "name": "stdout",
          "text": [
            "[[3336    0    0   13   10   30   16   13    5    0    7    6]\n",
            " [   0    0    0    0    3    0    0    0    0    0    0    0]\n",
            " [  18    0   27    7   19    6    0    0    0    0    0    0]\n",
            " [   4    0    0  239   19   10    0    6    0    0    5    0]\n",
            " [  42    0    0   14  767   29    4    0    0    0    8    0]\n",
            " [  28    0    0    0    7 1523   12    5    0    0    0    7]\n",
            " [  25    0    0    0    9   17  288   16    0    0    2    0]\n",
            " [  13    0    0    0    1   19    0  369    0    4    1    0]\n",
            " [   7    0    0    0    8    0    0    4  631    0    0    1]\n",
            " [   0    0    0    0    9    0    2    2    0   19    4    0]\n",
            " [   7    0    0    1   25    0    5    3    0    0  375   14]\n",
            " [   0    0    0    0    2    0    0    3    0    0   13  200]]\n"
          ]
        },
        {
          "output_type": "stream",
          "name": "stderr",
          "text": [
            "/usr/local/lib/python3.8/dist-packages/sklearn/metrics/_classification.py:1344: UndefinedMetricWarning: Precision and F-score are ill-defined and being set to 0.0 in labels with no predicted samples. Use `zero_division` parameter to control this behavior.\n",
            "  _warn_prf(average, modifier, msg_start, len(result))\n",
            "/usr/local/lib/python3.8/dist-packages/sklearn/metrics/_classification.py:1344: UndefinedMetricWarning: Precision and F-score are ill-defined and being set to 0.0 in labels with no predicted samples. Use `zero_division` parameter to control this behavior.\n",
            "  _warn_prf(average, modifier, msg_start, len(result))\n",
            "/usr/local/lib/python3.8/dist-packages/sklearn/metrics/_classification.py:1344: UndefinedMetricWarning: Precision and F-score are ill-defined and being set to 0.0 in labels with no predicted samples. Use `zero_division` parameter to control this behavior.\n",
            "  _warn_prf(average, modifier, msg_start, len(result))\n",
            "/usr/local/lib/python3.8/dist-packages/sklearn/metrics/_classification.py:1344: UndefinedMetricWarning: Precision and F-score are ill-defined and being set to 0.0 in labels with no predicted samples. Use `zero_division` parameter to control this behavior.\n",
            "  _warn_prf(average, modifier, msg_start, len(result))\n"
          ]
        },
        {
          "output_type": "stream",
          "name": "stdout",
          "text": [
            "              precision    recall  f1-score   support\n",
            "\n",
            "           A       0.96      0.97      0.96      3436\n",
            "           B       0.00      0.00      0.00         3\n",
            "           C       1.00      0.35      0.52        77\n",
            "           D       0.87      0.84      0.86       283\n",
            "           E       0.87      0.89      0.88       864\n",
            "           F       0.93      0.96      0.95      1582\n",
            "           G       0.88      0.81      0.84       357\n",
            "           H       0.88      0.91      0.89       407\n",
            "           I       0.99      0.97      0.98       651\n",
            "           W       0.83      0.53      0.64        36\n",
            "           X       0.90      0.87      0.89       430\n",
            "           Y       0.88      0.92      0.90       218\n",
            "\n",
            "    accuracy                           0.93      8344\n",
            "   macro avg       0.83      0.75      0.78      8344\n",
            "weighted avg       0.93      0.93      0.93      8344\n",
            "\n",
            "0.9316874400767018\n",
            "--------------------\n",
            "[[801   0   0   3   8   9   6   7   7   0   4   5]\n",
            " [  0   0   0   0   2   0   0   0   0   0   0   0]\n",
            " [  9   0   7   4   4   2   0   0   0   0   0   0]\n",
            " [  3   0   0  54   1   9   0   1   0   0   1   0]\n",
            " [ 13   0   0   7 193  10   3   1   0   0   4   0]\n",
            " [  9   0   0   0   3 362   2   1   0   0   0   2]\n",
            " [  9   0   0   0   1   4  71   4   0   0   0   0]\n",
            " [  8   0   0   0   0  12   0  89   0   2   1   0]\n",
            " [  4   0   0   0   1   0   0   5 170   0   0   0]\n",
            " [  0   0   0   0   4   0   0   2   0   2   0   0]\n",
            " [  3   0   0   0   2   0   2   0   0   0  82   3]\n",
            " [  0   0   0   0   1   0   0   0   0   0   7  40]]\n",
            "              precision    recall  f1-score   support\n",
            "\n",
            "           A       0.93      0.94      0.94       850\n",
            "           B       0.00      0.00      0.00         2\n",
            "           C       1.00      0.27      0.42        26\n",
            "           D       0.79      0.78      0.79        69\n",
            "           E       0.88      0.84      0.86       231\n",
            "           F       0.89      0.96      0.92       379\n",
            "           G       0.85      0.80      0.82        89\n",
            "           H       0.81      0.79      0.80       112\n",
            "           I       0.96      0.94      0.95       180\n",
            "           W       0.50      0.25      0.33         8\n",
            "           X       0.83      0.89      0.86        92\n",
            "           Y       0.80      0.83      0.82        48\n",
            "\n",
            "    accuracy                           0.90      2086\n",
            "   macro avg       0.77      0.69      0.71      2086\n",
            "weighted avg       0.90      0.90      0.89      2086\n",
            "\n",
            "0.8969319271332694\n",
            "--------------------\n",
            "[[4079    0    0   16   30   56   17   41   21    0   13   13]\n",
            " [   0    0    0    0    5    0    0    0    0    0    0    0]\n",
            " [  33    0   30   11   20    9    0    0    0    0    0    0]\n",
            " [   5    0    0  288   24   23    3    6    0    0    4    0]\n",
            " [  70    0    0   38  895   64   14    1    1    0   12    0]\n",
            " [  61    0    0    2   17 1839   14   11    2    0    0   16]\n",
            " [  49    0    0    0   14   30  323   27    0    0    4    0]\n",
            " [  34    0    0    0    3   32    0  445    0    5    1    0]\n",
            " [  15    0    0    0   15    0    0   14  787    0    1    0]\n",
            " [   0    0    0    0   10    0    1   10    0   19    5    0]\n",
            " [  11    0    0    4   43    0    3    1    1    0  443   16]\n",
            " [   0    0    0    0    3    0    0    6    0    0   28  230]]\n"
          ]
        },
        {
          "output_type": "stream",
          "name": "stderr",
          "text": [
            "/usr/local/lib/python3.8/dist-packages/sklearn/metrics/_classification.py:1344: UndefinedMetricWarning: Precision and F-score are ill-defined and being set to 0.0 in labels with no predicted samples. Use `zero_division` parameter to control this behavior.\n",
            "  _warn_prf(average, modifier, msg_start, len(result))\n",
            "/usr/local/lib/python3.8/dist-packages/sklearn/metrics/_classification.py:1344: UndefinedMetricWarning: Precision and F-score are ill-defined and being set to 0.0 in labels with no predicted samples. Use `zero_division` parameter to control this behavior.\n",
            "  _warn_prf(average, modifier, msg_start, len(result))\n",
            "/usr/local/lib/python3.8/dist-packages/sklearn/metrics/_classification.py:1344: UndefinedMetricWarning: Precision and F-score are ill-defined and being set to 0.0 in labels with no predicted samples. Use `zero_division` parameter to control this behavior.\n",
            "  _warn_prf(average, modifier, msg_start, len(result))\n"
          ]
        },
        {
          "output_type": "stream",
          "name": "stdout",
          "text": [
            "              precision    recall  f1-score   support\n",
            "\n",
            "           A       0.94      0.95      0.94      4286\n",
            "           B       0.00      0.00      0.00         5\n",
            "           C       1.00      0.29      0.45       103\n",
            "           D       0.80      0.82      0.81       353\n",
            "           E       0.83      0.82      0.82      1095\n",
            "           F       0.90      0.94      0.92      1962\n",
            "           G       0.86      0.72      0.79       447\n",
            "           H       0.79      0.86      0.82       520\n",
            "           I       0.97      0.95      0.96       832\n",
            "           W       0.79      0.42      0.55        45\n",
            "           X       0.87      0.85      0.86       522\n",
            "           Y       0.84      0.86      0.85       267\n",
            "\n",
            "    accuracy                           0.90     10437\n",
            "   macro avg       0.80      0.71      0.73     10437\n",
            "weighted avg       0.90      0.90      0.90     10437\n",
            "\n",
            "0.8985340615119287\n"
          ]
        },
        {
          "output_type": "stream",
          "name": "stderr",
          "text": [
            "/usr/local/lib/python3.8/dist-packages/sklearn/metrics/_classification.py:1344: UndefinedMetricWarning: Precision and F-score are ill-defined and being set to 0.0 in labels with no predicted samples. Use `zero_division` parameter to control this behavior.\n",
            "  _warn_prf(average, modifier, msg_start, len(result))\n",
            "/usr/local/lib/python3.8/dist-packages/sklearn/metrics/_classification.py:1344: UndefinedMetricWarning: Precision and F-score are ill-defined and being set to 0.0 in labels with no predicted samples. Use `zero_division` parameter to control this behavior.\n",
            "  _warn_prf(average, modifier, msg_start, len(result))\n"
          ]
        }
      ]
    },
    {
      "cell_type": "code",
      "source": [],
      "metadata": {
        "id": "Vuf12DK0i-x_"
      },
      "execution_count": null,
      "outputs": []
    },
    {
      "cell_type": "markdown",
      "source": [
        "## Rodamos uma nova execução, já com a adição dos parametros identificados no OPTUNA por trazer maior de seus dads."
      ],
      "metadata": {
        "id": "aS99SrIzitGF"
      }
    },
    {
      "cell_type": "markdown",
      "source": [
        "## Porém, o resultado nao foi como o esperado, o modelo performou mal"
      ],
      "metadata": {
        "id": "mXs1x0X9jIkN"
      }
    },
    {
      "cell_type": "markdown",
      "source": [],
      "metadata": {
        "id": "OOvy8wZ9i9oU"
      }
    },
    {
      "cell_type": "code",
      "source": [],
      "metadata": {
        "id": "g3W3S8yLihOH"
      },
      "execution_count": null,
      "outputs": []
    }
  ]
}