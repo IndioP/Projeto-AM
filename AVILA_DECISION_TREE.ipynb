{
  "nbformat": 4,
  "nbformat_minor": 0,
  "metadata": {
    "colab": {
      "provenance": [],
      "include_colab_link": true
    },
    "kernelspec": {
      "name": "python3",
      "display_name": "Python 3"
    },
    "language_info": {
      "name": "python"
    }
  },
  "cells": [
    {
      "cell_type": "markdown",
      "metadata": {
        "id": "view-in-github",
        "colab_type": "text"
      },
      "source": [
        "<a href=\"https://colab.research.google.com/github/IndioP/Projeto-AM/blob/main/AVILA_DECISION_TREE.ipynb\" target=\"_parent\"><img src=\"https://colab.research.google.com/assets/colab-badge.svg\" alt=\"Open In Colab\"/></a>"
      ]
    },
    {
      "cell_type": "code",
      "source": [
        "!git clone https://github.com/IndioP/Projeto-AM"
      ],
      "metadata": {
        "colab": {
          "base_uri": "https://localhost:8080/"
        },
        "id": "3fowlwl44XDu",
        "outputId": "7cc46888-e378-4a02-f7ca-337a0e461b8e"
      },
      "execution_count": null,
      "outputs": [
        {
          "output_type": "stream",
          "name": "stdout",
          "text": [
            "fatal: destination path 'Projeto-AM' already exists and is not an empty directory.\n"
          ]
        }
      ]
    },
    {
      "cell_type": "code",
      "source": [
        "from sklearn.metrics import classification_report\n",
        "from sklearn.metrics import confusion_matrix\n",
        "from sklearn.metrics import accuracy_score"
      ],
      "metadata": {
        "id": "g5BkcE91BEsZ"
      },
      "execution_count": null,
      "outputs": []
    },
    {
      "cell_type": "code",
      "source": [
        "#from sklearn.metrics import classification_report,confusion_matrix,accuracy_score,plot_confusion_matrix\n",
        "from sklearn.metrics import classification_report,confusion_matrix,accuracy_score\n",
        "from sklearn.metrics import ConfusionMatrixDisplay"
      ],
      "metadata": {
        "id": "h8Kb0rZkA7tB"
      },
      "execution_count": null,
      "outputs": []
    },
    {
      "cell_type": "code",
      "source": [
        "from sklearn.metrics import f1_score,recall_score,precision_score\n",
        "from sklearn.model_selection import train_test_split\n",
        "import matplotlib.pyplot as plt\n",
        "import pandas as pd"
      ],
      "metadata": {
        "id": "iorlHYAJKVxz"
      },
      "execution_count": null,
      "outputs": []
    },
    {
      "cell_type": "markdown",
      "source": [
        "##Funções auxiliares"
      ],
      "metadata": {
        "id": "uq2kKnfo94fh"
      }
    },
    {
      "cell_type": "code",
      "source": [
        "def metrics(test,pred):\n",
        "    print(confusion_matrix(test,pred))\n",
        "    print(classification_report(test,pred))\n",
        "    print(accuracy_score(test,pred))\n",
        "\n",
        "def confusion_matrix_(model,x_test,y_test):\n",
        "    #matrix = ConfusionMatrixDisplay(model,x_test,y_test)\n",
        "    cm = confusion_matrix(y_test, x_test, labels=model.classes_)\n",
        "    disp = ConfusionMatrixDisplay(confusion_matrix=cm,display_labels=model.classes_)\n",
        "    cm.ax_.set_title('Confusion Matrix ', color ='black')\n",
        "    \n",
        "    plt.xlabel('PREDICTED LABEL',color='black')\n",
        "    plt.ylabel('TRUE LABEL',color='black')\n",
        "    \n",
        "    plt.gcf().axes[0].tick_params(colors='black')\n",
        "    plt.gcf().axes[1].tick_params(colors='black')\n",
        "    plt.gcf().set_size_inches(10,6)\n",
        "    plt.show()"
      ],
      "metadata": {
        "id": "MiZREaxy93yf"
      },
      "execution_count": null,
      "outputs": []
    },
    {
      "cell_type": "code",
      "source": [],
      "metadata": {
        "id": "bckGXuw5GtPV"
      },
      "execution_count": null,
      "outputs": []
    },
    {
      "cell_type": "markdown",
      "source": [
        "##Lendo as tabelas de TREINAMENTO e de TESTE"
      ],
      "metadata": {
        "id": "x_eTrAMD9-pv"
      }
    },
    {
      "cell_type": "code",
      "execution_count": null,
      "metadata": {
        "id": "h8HjT3TMJzQK"
      },
      "outputs": [],
      "source": [
        "names = ['F1','F2','F3','F4','F5','F6','F7','F8','F9','F10','Class']\n",
        "df_train = pd.read_csv(\"Projeto-AM/avila-tr.txt\",names = names)\n",
        "df_test = pd.read_csv(\"Projeto-AM/avila-ts.txt\",names = names)\n",
        "X_test = df_test.drop(\"Class\",axis=1)\n",
        "y_test = df_test[\"Class\"]"
      ]
    },
    {
      "cell_type": "code",
      "source": [
        "df_train.head()"
      ],
      "metadata": {
        "colab": {
          "base_uri": "https://localhost:8080/",
          "height": 206
        },
        "id": "Wz9UqFngKnOs",
        "outputId": "82a1a4a6-d7e9-47b8-df03-a36b0e28c7b2"
      },
      "execution_count": null,
      "outputs": [
        {
          "output_type": "execute_result",
          "data": {
            "text/plain": [
              "         F1        F2        F3        F4        F5        F6        F7  \\\n",
              "0  0.266074 -0.165620  0.320980  0.483299  0.172340  0.273364  0.371178   \n",
              "1  0.130292  0.870736 -3.210528  0.062493  0.261718  1.436060  1.465940   \n",
              "2 -0.116585  0.069915  0.068476 -0.783147  0.261718  0.439463 -0.081827   \n",
              "3  0.031541  0.297600 -3.210528 -0.583590 -0.721442 -0.307984  0.710932   \n",
              "4  0.229043  0.807926 -0.052442  0.082634  0.261718  0.148790  0.635431   \n",
              "\n",
              "         F8        F9       F10 Class  \n",
              "0  0.929823  0.251173  0.159345     A  \n",
              "1  0.636203  0.282354  0.515587     A  \n",
              "2 -0.888236 -0.123005  0.582939     A  \n",
              "3  1.051693  0.594169 -0.533994     A  \n",
              "4  0.051062  0.032902 -0.086652     F  "
            ],
            "text/html": [
              "\n",
              "  <div id=\"df-e77dbda3-1aff-46a9-acbe-01377e935c4f\">\n",
              "    <div class=\"colab-df-container\">\n",
              "      <div>\n",
              "<style scoped>\n",
              "    .dataframe tbody tr th:only-of-type {\n",
              "        vertical-align: middle;\n",
              "    }\n",
              "\n",
              "    .dataframe tbody tr th {\n",
              "        vertical-align: top;\n",
              "    }\n",
              "\n",
              "    .dataframe thead th {\n",
              "        text-align: right;\n",
              "    }\n",
              "</style>\n",
              "<table border=\"1\" class=\"dataframe\">\n",
              "  <thead>\n",
              "    <tr style=\"text-align: right;\">\n",
              "      <th></th>\n",
              "      <th>F1</th>\n",
              "      <th>F2</th>\n",
              "      <th>F3</th>\n",
              "      <th>F4</th>\n",
              "      <th>F5</th>\n",
              "      <th>F6</th>\n",
              "      <th>F7</th>\n",
              "      <th>F8</th>\n",
              "      <th>F9</th>\n",
              "      <th>F10</th>\n",
              "      <th>Class</th>\n",
              "    </tr>\n",
              "  </thead>\n",
              "  <tbody>\n",
              "    <tr>\n",
              "      <th>0</th>\n",
              "      <td>0.266074</td>\n",
              "      <td>-0.165620</td>\n",
              "      <td>0.320980</td>\n",
              "      <td>0.483299</td>\n",
              "      <td>0.172340</td>\n",
              "      <td>0.273364</td>\n",
              "      <td>0.371178</td>\n",
              "      <td>0.929823</td>\n",
              "      <td>0.251173</td>\n",
              "      <td>0.159345</td>\n",
              "      <td>A</td>\n",
              "    </tr>\n",
              "    <tr>\n",
              "      <th>1</th>\n",
              "      <td>0.130292</td>\n",
              "      <td>0.870736</td>\n",
              "      <td>-3.210528</td>\n",
              "      <td>0.062493</td>\n",
              "      <td>0.261718</td>\n",
              "      <td>1.436060</td>\n",
              "      <td>1.465940</td>\n",
              "      <td>0.636203</td>\n",
              "      <td>0.282354</td>\n",
              "      <td>0.515587</td>\n",
              "      <td>A</td>\n",
              "    </tr>\n",
              "    <tr>\n",
              "      <th>2</th>\n",
              "      <td>-0.116585</td>\n",
              "      <td>0.069915</td>\n",
              "      <td>0.068476</td>\n",
              "      <td>-0.783147</td>\n",
              "      <td>0.261718</td>\n",
              "      <td>0.439463</td>\n",
              "      <td>-0.081827</td>\n",
              "      <td>-0.888236</td>\n",
              "      <td>-0.123005</td>\n",
              "      <td>0.582939</td>\n",
              "      <td>A</td>\n",
              "    </tr>\n",
              "    <tr>\n",
              "      <th>3</th>\n",
              "      <td>0.031541</td>\n",
              "      <td>0.297600</td>\n",
              "      <td>-3.210528</td>\n",
              "      <td>-0.583590</td>\n",
              "      <td>-0.721442</td>\n",
              "      <td>-0.307984</td>\n",
              "      <td>0.710932</td>\n",
              "      <td>1.051693</td>\n",
              "      <td>0.594169</td>\n",
              "      <td>-0.533994</td>\n",
              "      <td>A</td>\n",
              "    </tr>\n",
              "    <tr>\n",
              "      <th>4</th>\n",
              "      <td>0.229043</td>\n",
              "      <td>0.807926</td>\n",
              "      <td>-0.052442</td>\n",
              "      <td>0.082634</td>\n",
              "      <td>0.261718</td>\n",
              "      <td>0.148790</td>\n",
              "      <td>0.635431</td>\n",
              "      <td>0.051062</td>\n",
              "      <td>0.032902</td>\n",
              "      <td>-0.086652</td>\n",
              "      <td>F</td>\n",
              "    </tr>\n",
              "  </tbody>\n",
              "</table>\n",
              "</div>\n",
              "      <button class=\"colab-df-convert\" onclick=\"convertToInteractive('df-e77dbda3-1aff-46a9-acbe-01377e935c4f')\"\n",
              "              title=\"Convert this dataframe to an interactive table.\"\n",
              "              style=\"display:none;\">\n",
              "        \n",
              "  <svg xmlns=\"http://www.w3.org/2000/svg\" height=\"24px\"viewBox=\"0 0 24 24\"\n",
              "       width=\"24px\">\n",
              "    <path d=\"M0 0h24v24H0V0z\" fill=\"none\"/>\n",
              "    <path d=\"M18.56 5.44l.94 2.06.94-2.06 2.06-.94-2.06-.94-.94-2.06-.94 2.06-2.06.94zm-11 1L8.5 8.5l.94-2.06 2.06-.94-2.06-.94L8.5 2.5l-.94 2.06-2.06.94zm10 10l.94 2.06.94-2.06 2.06-.94-2.06-.94-.94-2.06-.94 2.06-2.06.94z\"/><path d=\"M17.41 7.96l-1.37-1.37c-.4-.4-.92-.59-1.43-.59-.52 0-1.04.2-1.43.59L10.3 9.45l-7.72 7.72c-.78.78-.78 2.05 0 2.83L4 21.41c.39.39.9.59 1.41.59.51 0 1.02-.2 1.41-.59l7.78-7.78 2.81-2.81c.8-.78.8-2.07 0-2.86zM5.41 20L4 18.59l7.72-7.72 1.47 1.35L5.41 20z\"/>\n",
              "  </svg>\n",
              "      </button>\n",
              "      \n",
              "  <style>\n",
              "    .colab-df-container {\n",
              "      display:flex;\n",
              "      flex-wrap:wrap;\n",
              "      gap: 12px;\n",
              "    }\n",
              "\n",
              "    .colab-df-convert {\n",
              "      background-color: #E8F0FE;\n",
              "      border: none;\n",
              "      border-radius: 50%;\n",
              "      cursor: pointer;\n",
              "      display: none;\n",
              "      fill: #1967D2;\n",
              "      height: 32px;\n",
              "      padding: 0 0 0 0;\n",
              "      width: 32px;\n",
              "    }\n",
              "\n",
              "    .colab-df-convert:hover {\n",
              "      background-color: #E2EBFA;\n",
              "      box-shadow: 0px 1px 2px rgba(60, 64, 67, 0.3), 0px 1px 3px 1px rgba(60, 64, 67, 0.15);\n",
              "      fill: #174EA6;\n",
              "    }\n",
              "\n",
              "    [theme=dark] .colab-df-convert {\n",
              "      background-color: #3B4455;\n",
              "      fill: #D2E3FC;\n",
              "    }\n",
              "\n",
              "    [theme=dark] .colab-df-convert:hover {\n",
              "      background-color: #434B5C;\n",
              "      box-shadow: 0px 1px 3px 1px rgba(0, 0, 0, 0.15);\n",
              "      filter: drop-shadow(0px 1px 2px rgba(0, 0, 0, 0.3));\n",
              "      fill: #FFFFFF;\n",
              "    }\n",
              "  </style>\n",
              "\n",
              "      <script>\n",
              "        const buttonEl =\n",
              "          document.querySelector('#df-e77dbda3-1aff-46a9-acbe-01377e935c4f button.colab-df-convert');\n",
              "        buttonEl.style.display =\n",
              "          google.colab.kernel.accessAllowed ? 'block' : 'none';\n",
              "\n",
              "        async function convertToInteractive(key) {\n",
              "          const element = document.querySelector('#df-e77dbda3-1aff-46a9-acbe-01377e935c4f');\n",
              "          const dataTable =\n",
              "            await google.colab.kernel.invokeFunction('convertToInteractive',\n",
              "                                                     [key], {});\n",
              "          if (!dataTable) return;\n",
              "\n",
              "          const docLinkHtml = 'Like what you see? Visit the ' +\n",
              "            '<a target=\"_blank\" href=https://colab.research.google.com/notebooks/data_table.ipynb>data table notebook</a>'\n",
              "            + ' to learn more about interactive tables.';\n",
              "          element.innerHTML = '';\n",
              "          dataTable['output_type'] = 'display_data';\n",
              "          await google.colab.output.renderOutput(dataTable, element);\n",
              "          const docLink = document.createElement('div');\n",
              "          docLink.innerHTML = docLinkHtml;\n",
              "          element.appendChild(docLink);\n",
              "        }\n",
              "      </script>\n",
              "    </div>\n",
              "  </div>\n",
              "  "
            ]
          },
          "metadata": {},
          "execution_count": 117
        }
      ]
    },
    {
      "cell_type": "code",
      "source": [],
      "metadata": {
        "id": "KE7gVKSL72pA"
      },
      "execution_count": null,
      "outputs": []
    },
    {
      "cell_type": "markdown",
      "source": [
        "## Os dados do projeto AVILA são referentes as informações extraidas das imagens das páginas copiadas da biblía de AVILA.\n",
        "## As CLASSES de [A, B, C, D, E, F, G, H, I, W, X, Y] fazem referência a qual copiador foi responsavel por aquele trecho/página\n",
        "## Então, a ideia é conseguir criar um bom classificador, que consiga por meio das informações extraidas dos trechos das páginas [F1,F2,F3,F4,F5,F6,F6,F7,F8,F9,F10] consiga-se identificar quem foi o copiador responsavél"
      ],
      "metadata": {
        "id": "4kOjuTpVxF2z"
      }
    },
    {
      "cell_type": "code",
      "source": [],
      "metadata": {
        "id": "9KWBtVUmxFBs"
      },
      "execution_count": null,
      "outputs": []
    },
    {
      "cell_type": "markdown",
      "source": [
        "#Decision Tree Classifier"
      ],
      "metadata": {
        "id": "7Yei0Kn96tAM"
      }
    },
    {
      "cell_type": "markdown",
      "source": [
        "### Separando o DATASET de TREINAMENTO, utilizando 80% para o treino e 20% de seus valores para VALIDAÇÃO"
      ],
      "metadata": {
        "id": "kO8apkZN7XU5"
      }
    },
    {
      "cell_type": "code",
      "source": [
        "X_train,X_valid,y_train,y_valid = train_test_split(df_train.drop(\"Class\",axis=1), df_train[\"Class\"],test_size=0.2)\n",
        "X_train.shape,y_train.shape,X_valid.shape,y_valid.shape"
      ],
      "metadata": {
        "colab": {
          "base_uri": "https://localhost:8080/"
        },
        "id": "FCZBlYXm6yOO",
        "outputId": "b54ef30a-6ee6-4133-d9fe-2edb0bed61cd"
      },
      "execution_count": null,
      "outputs": [
        {
          "output_type": "execute_result",
          "data": {
            "text/plain": [
              "((8344, 10), (8344,), (2086, 10), (2086,))"
            ]
          },
          "metadata": {},
          "execution_count": 119
        }
      ]
    },
    {
      "cell_type": "markdown",
      "source": [
        "### O primeiro classificador que iremos testar é o DECISION TREE CLASSIFIER"
      ],
      "metadata": {
        "id": "CDwJLukK7nl0"
      }
    },
    {
      "cell_type": "code",
      "source": [
        "from sklearn.tree import DecisionTreeClassifier"
      ],
      "metadata": {
        "id": "wM7zDvP17iQS"
      },
      "execution_count": null,
      "outputs": []
    },
    {
      "cell_type": "markdown",
      "source": [
        "### Utilizando os 80% para realizar o treinamento do modelo"
      ],
      "metadata": {
        "id": "yKhzCRrIBhge"
      }
    },
    {
      "cell_type": "code",
      "source": [
        "clf = DecisionTreeClassifier()\n",
        "clf.fit(X_train, y_train)"
      ],
      "metadata": {
        "colab": {
          "base_uri": "https://localhost:8080/",
          "height": 75
        },
        "id": "yaP2d9fg8y9J",
        "outputId": "f216e556-fc32-4f40-d9e5-9591be4f43f0"
      },
      "execution_count": null,
      "outputs": [
        {
          "output_type": "execute_result",
          "data": {
            "text/plain": [
              "DecisionTreeClassifier()"
            ],
            "text/html": [
              "<style>#sk-container-id-8 {color: black;background-color: white;}#sk-container-id-8 pre{padding: 0;}#sk-container-id-8 div.sk-toggleable {background-color: white;}#sk-container-id-8 label.sk-toggleable__label {cursor: pointer;display: block;width: 100%;margin-bottom: 0;padding: 0.3em;box-sizing: border-box;text-align: center;}#sk-container-id-8 label.sk-toggleable__label-arrow:before {content: \"▸\";float: left;margin-right: 0.25em;color: #696969;}#sk-container-id-8 label.sk-toggleable__label-arrow:hover:before {color: black;}#sk-container-id-8 div.sk-estimator:hover label.sk-toggleable__label-arrow:before {color: black;}#sk-container-id-8 div.sk-toggleable__content {max-height: 0;max-width: 0;overflow: hidden;text-align: left;background-color: #f0f8ff;}#sk-container-id-8 div.sk-toggleable__content pre {margin: 0.2em;color: black;border-radius: 0.25em;background-color: #f0f8ff;}#sk-container-id-8 input.sk-toggleable__control:checked~div.sk-toggleable__content {max-height: 200px;max-width: 100%;overflow: auto;}#sk-container-id-8 input.sk-toggleable__control:checked~label.sk-toggleable__label-arrow:before {content: \"▾\";}#sk-container-id-8 div.sk-estimator input.sk-toggleable__control:checked~label.sk-toggleable__label {background-color: #d4ebff;}#sk-container-id-8 div.sk-label input.sk-toggleable__control:checked~label.sk-toggleable__label {background-color: #d4ebff;}#sk-container-id-8 input.sk-hidden--visually {border: 0;clip: rect(1px 1px 1px 1px);clip: rect(1px, 1px, 1px, 1px);height: 1px;margin: -1px;overflow: hidden;padding: 0;position: absolute;width: 1px;}#sk-container-id-8 div.sk-estimator {font-family: monospace;background-color: #f0f8ff;border: 1px dotted black;border-radius: 0.25em;box-sizing: border-box;margin-bottom: 0.5em;}#sk-container-id-8 div.sk-estimator:hover {background-color: #d4ebff;}#sk-container-id-8 div.sk-parallel-item::after {content: \"\";width: 100%;border-bottom: 1px solid gray;flex-grow: 1;}#sk-container-id-8 div.sk-label:hover label.sk-toggleable__label {background-color: #d4ebff;}#sk-container-id-8 div.sk-serial::before {content: \"\";position: absolute;border-left: 1px solid gray;box-sizing: border-box;top: 0;bottom: 0;left: 50%;z-index: 0;}#sk-container-id-8 div.sk-serial {display: flex;flex-direction: column;align-items: center;background-color: white;padding-right: 0.2em;padding-left: 0.2em;position: relative;}#sk-container-id-8 div.sk-item {position: relative;z-index: 1;}#sk-container-id-8 div.sk-parallel {display: flex;align-items: stretch;justify-content: center;background-color: white;position: relative;}#sk-container-id-8 div.sk-item::before, #sk-container-id-8 div.sk-parallel-item::before {content: \"\";position: absolute;border-left: 1px solid gray;box-sizing: border-box;top: 0;bottom: 0;left: 50%;z-index: -1;}#sk-container-id-8 div.sk-parallel-item {display: flex;flex-direction: column;z-index: 1;position: relative;background-color: white;}#sk-container-id-8 div.sk-parallel-item:first-child::after {align-self: flex-end;width: 50%;}#sk-container-id-8 div.sk-parallel-item:last-child::after {align-self: flex-start;width: 50%;}#sk-container-id-8 div.sk-parallel-item:only-child::after {width: 0;}#sk-container-id-8 div.sk-dashed-wrapped {border: 1px dashed gray;margin: 0 0.4em 0.5em 0.4em;box-sizing: border-box;padding-bottom: 0.4em;background-color: white;}#sk-container-id-8 div.sk-label label {font-family: monospace;font-weight: bold;display: inline-block;line-height: 1.2em;}#sk-container-id-8 div.sk-label-container {text-align: center;}#sk-container-id-8 div.sk-container {/* jupyter's `normalize.less` sets `[hidden] { display: none; }` but bootstrap.min.css set `[hidden] { display: none !important; }` so we also need the `!important` here to be able to override the default hidden behavior on the sphinx rendered scikit-learn.org. See: https://github.com/scikit-learn/scikit-learn/issues/21755 */display: inline-block !important;position: relative;}#sk-container-id-8 div.sk-text-repr-fallback {display: none;}</style><div id=\"sk-container-id-8\" class=\"sk-top-container\"><div class=\"sk-text-repr-fallback\"><pre>DecisionTreeClassifier()</pre><b>In a Jupyter environment, please rerun this cell to show the HTML representation or trust the notebook. <br />On GitHub, the HTML representation is unable to render, please try loading this page with nbviewer.org.</b></div><div class=\"sk-container\" hidden><div class=\"sk-item\"><div class=\"sk-estimator sk-toggleable\"><input class=\"sk-toggleable__control sk-hidden--visually\" id=\"sk-estimator-id-8\" type=\"checkbox\" checked><label for=\"sk-estimator-id-8\" class=\"sk-toggleable__label sk-toggleable__label-arrow\">DecisionTreeClassifier</label><div class=\"sk-toggleable__content\"><pre>DecisionTreeClassifier()</pre></div></div></div></div></div>"
            ]
          },
          "metadata": {},
          "execution_count": 126
        }
      ]
    },
    {
      "cell_type": "markdown",
      "source": [
        "### Agora vamos verificar os valores de suas predições, tanto para o dataset de TEST quanto para o de VALID, que corresponde a 20% do dataframe de TEST inicialmente"
      ],
      "metadata": {
        "id": "XseNrOwNBmed"
      }
    },
    {
      "cell_type": "code",
      "source": [
        "y_pred_valid = clf.predict(X_valid)\n",
        "y_pred_test = clf.predict(X_test)"
      ],
      "metadata": {
        "id": "j0n8_vD69JMI"
      },
      "execution_count": null,
      "outputs": []
    },
    {
      "cell_type": "code",
      "source": [],
      "metadata": {
        "id": "Ej-TOCiPC0um"
      },
      "execution_count": null,
      "outputs": []
    },
    {
      "cell_type": "markdown",
      "source": [
        "### Verificando o comportamento dessas PREDIÇÕES"
      ],
      "metadata": {
        "id": "a5DZc33ABwUY"
      }
    },
    {
      "cell_type": "code",
      "source": [
        "metrics(y_valid, y_pred_valid)"
      ],
      "metadata": {
        "colab": {
          "base_uri": "https://localhost:8080/"
        },
        "id": "QrZpaiXRBNsA",
        "outputId": "1fca7ba2-b1a8-4439-acb0-62259a850224"
      },
      "execution_count": null,
      "outputs": [
        {
          "output_type": "stream",
          "name": "stdout",
          "text": [
            "[[835   0   5   0   2  24   3   9   0   0   3   0]\n",
            " [  0   3   0   0   0   0   0   0   0   0   0   0]\n",
            " [  0   0  15   0   0   0   0   0   0   0   0   3]\n",
            " [  0   0   0  62   1   1   0   1   0   0   1   0]\n",
            " [  3   0   1   4 215   2   0   1   0   0   4   0]\n",
            " [ 15   0   0   2   0 380   3   1   0   0   1   0]\n",
            " [  1   0   0   0   1   5  69   0   0   0   0   0]\n",
            " [  2   0   0   0   0   2   1 100   0   0   1   0]\n",
            " [  1   0   0   0   0   0   0   0 146   0   0   0]\n",
            " [  1   0   0   0   0   0   0   0   0   8   2   0]\n",
            " [  3   0   0   1   4   0   0   0   0   0  87   2]\n",
            " [  0   0   1   0   1   0   0   0   0   0   2  45]]\n",
            "              precision    recall  f1-score   support\n",
            "\n",
            "           A       0.97      0.95      0.96       881\n",
            "           B       1.00      1.00      1.00         3\n",
            "           C       0.68      0.83      0.75        18\n",
            "           D       0.90      0.94      0.92        66\n",
            "           E       0.96      0.93      0.95       230\n",
            "           F       0.92      0.95      0.93       402\n",
            "           G       0.91      0.91      0.91        76\n",
            "           H       0.89      0.94      0.92       106\n",
            "           I       1.00      0.99      1.00       147\n",
            "           W       1.00      0.73      0.84        11\n",
            "           X       0.86      0.90      0.88        97\n",
            "           Y       0.90      0.92      0.91        49\n",
            "\n",
            "    accuracy                           0.94      2086\n",
            "   macro avg       0.92      0.92      0.91      2086\n",
            "weighted avg       0.94      0.94      0.94      2086\n",
            "\n",
            "0.9419942473633749\n"
          ]
        }
      ]
    },
    {
      "cell_type": "code",
      "source": [
        "metrics(y_test, y_pred_test)"
      ],
      "metadata": {
        "colab": {
          "base_uri": "https://localhost:8080/"
        },
        "id": "87QM3REw-wwg",
        "outputId": "fb6d2d39-97ee-4af8-ced4-ea4526f226c4"
      },
      "execution_count": null,
      "outputs": [
        {
          "output_type": "stream",
          "name": "stdout",
          "text": [
            "[[4081    0   12    0   17  116   12   26    5    3   13    1]\n",
            " [   0    5    0    0    0    0    0    0    0    0    0    0]\n",
            " [   7    0   89    0    1    0    0    0    0    0    0    6]\n",
            " [   0    0    0  334   15    1    0    3    0    0    0    0]\n",
            " [  20    0    4   14 1016   19    3    3    0    0   15    1]\n",
            " [  92    0    0    6    9 1831    9    8    1    0    5    1]\n",
            " [  16    0    0    0   13   26  385    5    0    0    2    0]\n",
            " [  24    0    3    0    3   11    1  478    0    0    0    0]\n",
            " [   9    0    0    0    0    1    0    0  822    0    0    0]\n",
            " [   5    0    0    0    0    0    3    0    0   36    1    0]\n",
            " [   4    0    0    1   22    0    0    0    1    0  488    6]\n",
            " [   2    0    1    0    2    2    0    0    0    0   11  249]]\n",
            "              precision    recall  f1-score   support\n",
            "\n",
            "           A       0.96      0.95      0.96      4286\n",
            "           B       1.00      1.00      1.00         5\n",
            "           C       0.82      0.86      0.84       103\n",
            "           D       0.94      0.95      0.94       353\n",
            "           E       0.93      0.93      0.93      1095\n",
            "           F       0.91      0.93      0.92      1962\n",
            "           G       0.93      0.86      0.90       447\n",
            "           H       0.91      0.92      0.92       520\n",
            "           I       0.99      0.99      0.99       832\n",
            "           W       0.92      0.80      0.86        45\n",
            "           X       0.91      0.93      0.92       522\n",
            "           Y       0.94      0.93      0.94       267\n",
            "\n",
            "    accuracy                           0.94     10437\n",
            "   macro avg       0.93      0.92      0.93     10437\n",
            "weighted avg       0.94      0.94      0.94     10437\n",
            "\n",
            "0.9403085177733065\n"
          ]
        }
      ]
    },
    {
      "cell_type": "code",
      "source": [],
      "metadata": {
        "id": "Gysy-FxlOm--"
      },
      "execution_count": null,
      "outputs": []
    },
    {
      "cell_type": "markdown",
      "source": [
        "## De que formas poderiamos melhorar o atual modelo?"
      ],
      "metadata": {
        "id": "bQ2OrMaCQOaA"
      }
    },
    {
      "cell_type": "markdown",
      "source": [
        "## Primeiro começamos fazendo uma avaliação geral e mudando alguns hiperparametros para observar a variação de resultado da árvore"
      ],
      "metadata": {
        "id": "5OD1kfmVeWd1"
      }
    },
    {
      "cell_type": "markdown",
      "source": [
        "## Como no proximo caso, alteramos o hiperparametro de 'criterion', que basicamente por default é 'gini', e traz uma caracteristica da qualidade com que os dados serão separados. \n",
        "## O valor alterado é para 'ENTROPY'"
      ],
      "metadata": {
        "id": "tIUdpnBsfnMw"
      }
    },
    {
      "cell_type": "code",
      "source": [
        "clf_best = DecisionTreeClassifier(criterion=\"entropy\")\n",
        "clf_best.fit(X_train, y_train)\n",
        "y_pred_valid = clf_best.predict(X_valid)\n",
        "y_pred_test = clf_best.predict(X_test)\n",
        "metrics(y_valid, y_pred_valid)\n",
        "metrics(y_test, y_pred_test)"
      ],
      "metadata": {
        "id": "3r6H9YssOnBP",
        "outputId": "55b1ae5f-2afd-46d8-87ac-d22fdfb2e8eb",
        "colab": {
          "base_uri": "https://localhost:8080/"
        }
      },
      "execution_count": null,
      "outputs": [
        {
          "output_type": "stream",
          "name": "stdout",
          "text": [
            "[[869   0   0   0   4   0   0   8   0   0   0   0]\n",
            " [  0   2   0   0   1   0   0   0   0   0   0   0]\n",
            " [  0   0  17   0   1   0   0   0   0   0   0   0]\n",
            " [  0   0   0  64   2   0   0   0   0   0   0   0]\n",
            " [  0   0   0   3 225   0   1   0   0   0   1   0]\n",
            " [  1   0   0   0   0 399   2   0   0   0   0   0]\n",
            " [  0   0   0   0   1   0  75   0   0   0   0   0]\n",
            " [  5   0   1   0   1   0   0  99   0   0   0   0]\n",
            " [  2   0   0   0   0   0   0   0 144   1   0   0]\n",
            " [  0   0   0   0   1   0   0   0   0   9   0   1]\n",
            " [  0   1   0   0   2   0   0   0   0   0  93   1]\n",
            " [  0   0   0   0   0   0   0   0   0   0   0  49]]\n",
            "              precision    recall  f1-score   support\n",
            "\n",
            "           A       0.99      0.99      0.99       881\n",
            "           B       0.67      0.67      0.67         3\n",
            "           C       0.94      0.94      0.94        18\n",
            "           D       0.96      0.97      0.96        66\n",
            "           E       0.95      0.98      0.96       230\n",
            "           F       1.00      0.99      1.00       402\n",
            "           G       0.96      0.99      0.97        76\n",
            "           H       0.93      0.93      0.93       106\n",
            "           I       1.00      0.98      0.99       147\n",
            "           W       0.90      0.82      0.86        11\n",
            "           X       0.99      0.96      0.97        97\n",
            "           Y       0.96      1.00      0.98        49\n",
            "\n",
            "    accuracy                           0.98      2086\n",
            "   macro avg       0.94      0.93      0.94      2086\n",
            "weighted avg       0.98      0.98      0.98      2086\n",
            "\n",
            "0.9803451581975072\n",
            "[[4238    0    0    1   12    0    0   25    3    3    4    0]\n",
            " [   0    3    0    0    2    0    0    0    0    0    0    0]\n",
            " [   0    0  100    0    1    0    0    2    0    0    0    0]\n",
            " [   0    0    0  340   10    0    1    0    0    0    2    0]\n",
            " [  13    0    0    2 1053    1    2    0    0    0   16    8]\n",
            " [   3    0    0    0    0 1951    5    1    0    0    2    0]\n",
            " [   0    0    0    0    9    2  435    1    0    0    0    0]\n",
            " [   9    0    3    0    3    1    8  496    0    0    0    0]\n",
            " [   4    0    0    0    0    0    0    2  823    3    0    0]\n",
            " [   0    0    0    0    3    0    0    0    0   42    0    0]\n",
            " [   1    2    0    1   14    0    0    1    0    0  501    2]\n",
            " [   0    0    0    0    2    0    0    0    0    0    0  265]]\n",
            "              precision    recall  f1-score   support\n",
            "\n",
            "           A       0.99      0.99      0.99      4286\n",
            "           B       0.60      0.60      0.60         5\n",
            "           C       0.97      0.97      0.97       103\n",
            "           D       0.99      0.96      0.98       353\n",
            "           E       0.95      0.96      0.96      1095\n",
            "           F       1.00      0.99      1.00      1962\n",
            "           G       0.96      0.97      0.97       447\n",
            "           H       0.94      0.95      0.95       520\n",
            "           I       1.00      0.99      0.99       832\n",
            "           W       0.88      0.93      0.90        45\n",
            "           X       0.95      0.96      0.96       522\n",
            "           Y       0.96      0.99      0.98       267\n",
            "\n",
            "    accuracy                           0.98     10437\n",
            "   macro avg       0.93      0.94      0.94     10437\n",
            "weighted avg       0.98      0.98      0.98     10437\n",
            "\n",
            "0.9817955351154546\n"
          ]
        }
      ]
    },
    {
      "cell_type": "markdown",
      "source": [
        "## Os resultados, foram melhores em relação ao valor default de 'GINI'"
      ],
      "metadata": {
        "id": "pYwbpammgrTC"
      }
    },
    {
      "cell_type": "code",
      "source": [],
      "metadata": {
        "id": "wOJygrote-vs"
      },
      "execution_count": null,
      "outputs": []
    },
    {
      "cell_type": "markdown",
      "source": [
        "## Novamente tentamos modificar o hiperparametro de 'criterion' para 'LOG_LOSS'"
      ],
      "metadata": {
        "id": "TdTwqbQ4gZ9O"
      }
    },
    {
      "cell_type": "code",
      "source": [
        "clf_best = DecisionTreeClassifier(criterion=\"log_loss\")\n",
        "clf_best.fit(X_train, y_train)\n",
        "y_pred_valid = clf_best.predict(X_valid)\n",
        "y_pred_test = clf_best.predict(X_test)\n",
        "metrics(y_valid, y_pred_valid)\n",
        "print(\"\\n\")\n",
        "metrics(y_test, y_pred_test)"
      ],
      "metadata": {
        "id": "r5enJ0qCOnGF",
        "outputId": "9b0d861a-7261-4dd7-e2f7-113a3c4ac86e",
        "colab": {
          "base_uri": "https://localhost:8080/"
        }
      },
      "execution_count": null,
      "outputs": [
        {
          "output_type": "stream",
          "name": "stdout",
          "text": [
            "[[867   0   3   0   2   0   1   8   0   0   0   0]\n",
            " [  0   2   0   0   1   0   0   0   0   0   0   0]\n",
            " [  0   0  17   0   1   0   0   0   0   0   0   0]\n",
            " [  0   0   0  64   2   0   0   0   0   0   0   0]\n",
            " [  3   0   0   4 222   0   0   0   0   0   1   0]\n",
            " [  1   0   0   0   0 399   2   0   0   0   0   0]\n",
            " [  0   0   0   0   1   0  75   0   0   0   0   0]\n",
            " [  5   0   0   0   1   0   0 100   0   0   0   0]\n",
            " [  2   0   0   0   0   0   0   0 144   1   0   0]\n",
            " [  0   0   0   0   2   0   0   0   0   9   0   0]\n",
            " [  0   0   0   0   2   0   0   0   0   0  93   2]\n",
            " [  0   0   0   0   0   0   0   0   0   0   0  49]]\n",
            "              precision    recall  f1-score   support\n",
            "\n",
            "           A       0.99      0.98      0.99       881\n",
            "           B       1.00      0.67      0.80         3\n",
            "           C       0.85      0.94      0.89        18\n",
            "           D       0.94      0.97      0.96        66\n",
            "           E       0.95      0.97      0.96       230\n",
            "           F       1.00      0.99      1.00       402\n",
            "           G       0.96      0.99      0.97        76\n",
            "           H       0.93      0.94      0.93       106\n",
            "           I       1.00      0.98      0.99       147\n",
            "           W       0.90      0.82      0.86        11\n",
            "           X       0.99      0.96      0.97        97\n",
            "           Y       0.96      1.00      0.98        49\n",
            "\n",
            "    accuracy                           0.98      2086\n",
            "   macro avg       0.96      0.93      0.94      2086\n",
            "weighted avg       0.98      0.98      0.98      2086\n",
            "\n",
            "0.9784276126558006\n",
            "\n",
            "\n",
            "[[4236    0    4    1   10    0    2   27    1    1    4    0]\n",
            " [   0    3    0    0    2    0    0    0    0    0    0    0]\n",
            " [   0    0  101    0    1    0    0    1    0    0    0    0]\n",
            " [   0    0    0  341   10    0    0    0    0    0    2    0]\n",
            " [  14    0    0    4 1058    0    0    0    0    1   15    3]\n",
            " [   0    0    0    0    0 1955    5    0    0    0    2    0]\n",
            " [   0    0    0    0    9    2  435    1    0    0    0    0]\n",
            " [  13    0    3    0    3    2    8  491    0    0    0    0]\n",
            " [   4    0    0    0    0    0    0    0  825    3    0    0]\n",
            " [   0    0    0    0    0    0    0    0    0   42    3    0]\n",
            " [   1    0    0    0   16    0    0    1    0    0  501    3]\n",
            " [   0    0    0    0    1    0    0    0    0    0    1  265]]\n",
            "              precision    recall  f1-score   support\n",
            "\n",
            "           A       0.99      0.99      0.99      4286\n",
            "           B       1.00      0.60      0.75         5\n",
            "           C       0.94      0.98      0.96       103\n",
            "           D       0.99      0.97      0.98       353\n",
            "           E       0.95      0.97      0.96      1095\n",
            "           F       1.00      1.00      1.00      1962\n",
            "           G       0.97      0.97      0.97       447\n",
            "           H       0.94      0.94      0.94       520\n",
            "           I       1.00      0.99      1.00       832\n",
            "           W       0.89      0.93      0.91        45\n",
            "           X       0.95      0.96      0.95       522\n",
            "           Y       0.98      0.99      0.99       267\n",
            "\n",
            "    accuracy                           0.98     10437\n",
            "   macro avg       0.97      0.94      0.95     10437\n",
            "weighted avg       0.98      0.98      0.98     10437\n",
            "\n",
            "0.9823704129539139\n"
          ]
        }
      ]
    },
    {
      "cell_type": "markdown",
      "source": [
        "## Os resultados, foram melhores em relação ao valor default de 'GINI'"
      ],
      "metadata": {
        "id": "S8qN_9-pgzF-"
      }
    },
    {
      "cell_type": "markdown",
      "source": [
        "## Agora, vamos tentar além de mudar o 'criterion', vamos também modificar o 'splitter', que por default é 'best', mas vamos defini-lo 'como random'"
      ],
      "metadata": {
        "id": "r5K2lb-tg0Hv"
      }
    },
    {
      "cell_type": "code",
      "source": [
        "clf_best = DecisionTreeClassifier(criterion=\"log_loss\",splitter=\"random\")\n",
        "clf_best.fit(X_train, y_train)\n",
        "y_pred_valid = clf_best.predict(X_valid)\n",
        "y_pred_test = clf_best.predict(X_test)\n",
        "metrics(y_valid, y_pred_valid)\n",
        "print(\"\\n\")\n",
        "metrics(y_test, y_pred_test)"
      ],
      "metadata": {
        "id": "liVplA70OnIN",
        "outputId": "2f201e03-a497-454f-9d12-90dbaf135613",
        "colab": {
          "base_uri": "https://localhost:8080/"
        }
      },
      "execution_count": null,
      "outputs": [
        {
          "output_type": "stream",
          "name": "stdout",
          "text": [
            "[[840   0   3   2   2  24   0   5   2   0   2   1]\n",
            " [  0   2   0   0   0   0   0   0   0   0   0   1]\n",
            " [  0   0  17   1   0   0   0   0   0   0   0   0]\n",
            " [  2   0   0  63   1   0   0   0   0   0   0   0]\n",
            " [  5   0   0   0 210   8   1   3   1   0   1   1]\n",
            " [ 26   0   1   1   6 354   5   9   0   0   0   0]\n",
            " [  7   0   0   0   2   2  64   0   0   0   1   0]\n",
            " [  5   0   0   0   5   5   1  90   0   0   0   0]\n",
            " [  3   0   0   0   0   0   0   0 144   0   0   0]\n",
            " [  0   0   0   0   1   0   0   0   0  10   0   0]\n",
            " [  2   0   0   0   3   0   0   0   0   0  91   1]\n",
            " [  4   0   0   0   0   0   0   1   0   0   2  42]]\n",
            "              precision    recall  f1-score   support\n",
            "\n",
            "           A       0.94      0.95      0.95       881\n",
            "           B       1.00      0.67      0.80         3\n",
            "           C       0.81      0.94      0.87        18\n",
            "           D       0.94      0.95      0.95        66\n",
            "           E       0.91      0.91      0.91       230\n",
            "           F       0.90      0.88      0.89       402\n",
            "           G       0.90      0.84      0.87        76\n",
            "           H       0.83      0.85      0.84       106\n",
            "           I       0.98      0.98      0.98       147\n",
            "           W       1.00      0.91      0.95        11\n",
            "           X       0.94      0.94      0.94        97\n",
            "           Y       0.91      0.86      0.88        49\n",
            "\n",
            "    accuracy                           0.92      2086\n",
            "   macro avg       0.92      0.89      0.90      2086\n",
            "weighted avg       0.92      0.92      0.92      2086\n",
            "\n",
            "0.923777564717162\n",
            "\n",
            "\n",
            "[[4054    0    5   12   17  105   31   44    3    4    7    4]\n",
            " [   0    4    0    0    0    0    0    0    1    0    0    0]\n",
            " [   1    0   94    3    4    0    0    1    0    0    0    0]\n",
            " [   4    0    1  345    2    0    0    0    0    0    1    0]\n",
            " [  37    0    6    5  970   26    3   23    0    2   21    2]\n",
            " [ 125    0    1    0   14 1774   23   23    0    1    1    0]\n",
            " [  29    0    0    1    2    4  410    0    0    0    1    0]\n",
            " [  29    0    4    1   10   19    6  449    0    0    2    0]\n",
            " [   3    0    1    0    0    1    0    0  821    4    0    2]\n",
            " [   0    0    0    0    2    0    0    0    0   43    0    0]\n",
            " [   7    0    0    0   22    1    0    8    1    0  480    3]\n",
            " [   3    0    1    0    4    0    1    0    1    0    2  255]]\n",
            "              precision    recall  f1-score   support\n",
            "\n",
            "           A       0.94      0.95      0.95      4286\n",
            "           B       1.00      0.80      0.89         5\n",
            "           C       0.83      0.91      0.87       103\n",
            "           D       0.94      0.98      0.96       353\n",
            "           E       0.93      0.89      0.91      1095\n",
            "           F       0.92      0.90      0.91      1962\n",
            "           G       0.86      0.92      0.89       447\n",
            "           H       0.82      0.86      0.84       520\n",
            "           I       0.99      0.99      0.99       832\n",
            "           W       0.80      0.96      0.87        45\n",
            "           X       0.93      0.92      0.93       522\n",
            "           Y       0.96      0.96      0.96       267\n",
            "\n",
            "    accuracy                           0.93     10437\n",
            "   macro avg       0.91      0.92      0.91     10437\n",
            "weighted avg       0.93      0.93      0.93     10437\n",
            "\n",
            "0.9292900258695027\n"
          ]
        }
      ]
    },
    {
      "cell_type": "markdown",
      "source": [
        "## Os resultados agora foram menores que os valores fornecedidos pela execução de base"
      ],
      "metadata": {
        "id": "SKhuxfJXhBft"
      }
    },
    {
      "cell_type": "markdown",
      "source": [
        "## Agora, decidimos modificar apenas o MAX_DEPTH, que é a valor de expansão dos nós na arvore"
      ],
      "metadata": {
        "id": "cu2eR179hJ4P"
      }
    },
    {
      "cell_type": "code",
      "source": [
        "clf_best = DecisionTreeClassifier(max_depth=10)\n",
        "clf_best.fit(X_train, y_train)\n",
        "y_pred_valid = clf_best.predict(X_valid)\n",
        "y_pred_test = clf_best.predict(X_test)\n",
        "metrics(y_valid, y_pred_valid)\n",
        "print(\"\\n\")\n",
        "metrics(y_test, y_pred_test)"
      ],
      "metadata": {
        "id": "7tR_ttCXOnKc",
        "outputId": "90258994-fd44-47b6-f6c1-a2dc8d168d16",
        "colab": {
          "base_uri": "https://localhost:8080/"
        }
      },
      "execution_count": null,
      "outputs": [
        {
          "output_type": "stream",
          "name": "stdout",
          "text": [
            "[[782   0   0   9   9  49   5  24   1   0   2   0]\n",
            " [  0   2   0   1   0   0   0   0   0   0   0   0]\n",
            " [  1   0   6   6   2   3   0   0   0   0   0   0]\n",
            " [  9   0   0  43   8   5   0   0   0   0   1   0]\n",
            " [ 22   0   1  21 170  12   0   0   0   0   4   0]\n",
            " [153   0   0   3  13 224   3   6   0   0   0   0]\n",
            " [ 13   0   0   0   7  16  40   0   0   0   0   0]\n",
            " [ 10   0   0   1   0  12   0  82   0   0   1   0]\n",
            " [  6   0   0   0   0   0   0   0 140   0   1   0]\n",
            " [  1   0   0   0   5   1   0   0   0   1   3   0]\n",
            " [  6   0   0   0   5   1   0   0   1   0  82   2]\n",
            " [  3   0   0   0   2   1   0   0   0   0   4  39]]\n",
            "              precision    recall  f1-score   support\n",
            "\n",
            "           A       0.78      0.89      0.83       881\n",
            "           B       1.00      0.67      0.80         3\n",
            "           C       0.86      0.33      0.48        18\n",
            "           D       0.51      0.65      0.57        66\n",
            "           E       0.77      0.74      0.75       230\n",
            "           F       0.69      0.56      0.62       402\n",
            "           G       0.83      0.53      0.65        76\n",
            "           H       0.73      0.77      0.75       106\n",
            "           I       0.99      0.95      0.97       147\n",
            "           W       1.00      0.09      0.17        11\n",
            "           X       0.84      0.85      0.84        97\n",
            "           Y       0.95      0.80      0.87        49\n",
            "\n",
            "    accuracy                           0.77      2086\n",
            "   macro avg       0.83      0.65      0.69      2086\n",
            "weighted avg       0.77      0.77      0.77      2086\n",
            "\n",
            "0.7722914669223394\n",
            "\n",
            "\n",
            "[[3728    0    4   41   68  304   21  109    1    0   10    0]\n",
            " [   0    3    0    2    0    0    0    0    0    0    0    0]\n",
            " [  22    0   50   17   10    4    0    0    0    0    0    0]\n",
            " [  45    0    0  204   82   19    0    0    0    0    3    0]\n",
            " [  90    0    4   72  838   70    1    7    0    0   13    0]\n",
            " [ 687    0    0   23   51 1116   45   35    0    0    5    0]\n",
            " [  92    0    0    0   38   71  237    9    0    0    0    0]\n",
            " [  53    0    0    3    1   56    0  407    0    0    0    0]\n",
            " [  32    0    0    0    4    0    0    1  787    0    8    0]\n",
            " [   3    0    0    0   23    8    0    0    0   10    1    0]\n",
            " [  23    0    0    1   33    7    0    0    1    2  451    4]\n",
            " [  20    0    1    7    4    3    0    0    0    0   23  209]]\n",
            "              precision    recall  f1-score   support\n",
            "\n",
            "           A       0.78      0.87      0.82      4286\n",
            "           B       1.00      0.60      0.75         5\n",
            "           C       0.85      0.49      0.62       103\n",
            "           D       0.55      0.58      0.56       353\n",
            "           E       0.73      0.77      0.75      1095\n",
            "           F       0.67      0.57      0.62      1962\n",
            "           G       0.78      0.53      0.63       447\n",
            "           H       0.72      0.78      0.75       520\n",
            "           I       1.00      0.95      0.97       832\n",
            "           W       0.83      0.22      0.35        45\n",
            "           X       0.88      0.86      0.87       522\n",
            "           Y       0.98      0.78      0.87       267\n",
            "\n",
            "    accuracy                           0.77     10437\n",
            "   macro avg       0.81      0.67      0.71     10437\n",
            "weighted avg       0.77      0.77      0.77     10437\n",
            "\n",
            "0.7703363035354988\n"
          ]
        }
      ]
    },
    {
      "cell_type": "markdown",
      "source": [
        "## De todos os resultados, este até o momento foi considerado o 'pior'"
      ],
      "metadata": {
        "id": "GJqLql9jhfmQ"
      }
    },
    {
      "cell_type": "code",
      "source": [],
      "metadata": {
        "id": "59aOBDaaOnM2"
      },
      "execution_count": null,
      "outputs": []
    },
    {
      "cell_type": "markdown",
      "source": [
        "## Uma outra maneira de tentar modificar os hiperparametros é utilizando-se de uma ferramenta chamada de OPTUNA, que ajuda a definirmos alguns hiperparametros nos quais ele irá testar automaticamente"
      ],
      "metadata": {
        "id": "Ye-lzbgchlXw"
      }
    },
    {
      "cell_type": "code",
      "source": [
        "!pip install optuna"
      ],
      "metadata": {
        "id": "VXU-v04CfbRw",
        "outputId": "dafe162e-d48c-4053-f6df-7abaa28eb3be",
        "colab": {
          "base_uri": "https://localhost:8080/"
        }
      },
      "execution_count": null,
      "outputs": [
        {
          "output_type": "stream",
          "name": "stdout",
          "text": [
            "Looking in indexes: https://pypi.org/simple, https://us-python.pkg.dev/colab-wheels/public/simple/\n",
            "Collecting optuna\n",
            "  Downloading optuna-3.1.0-py3-none-any.whl (365 kB)\n",
            "\u001b[2K     \u001b[90m━━━━━━━━━━━━━━━━━━━━━━━━━━━━━━━━━━━━━━━\u001b[0m \u001b[32m365.3/365.3 KB\u001b[0m \u001b[31m7.0 MB/s\u001b[0m eta \u001b[36m0:00:00\u001b[0m\n",
            "\u001b[?25hRequirement already satisfied: sqlalchemy>=1.3.0 in /usr/local/lib/python3.8/dist-packages (from optuna) (1.4.46)\n",
            "Requirement already satisfied: tqdm in /usr/local/lib/python3.8/dist-packages (from optuna) (4.64.1)\n",
            "Requirement already satisfied: packaging>=20.0 in /usr/local/lib/python3.8/dist-packages (from optuna) (23.0)\n",
            "Requirement already satisfied: numpy in /usr/local/lib/python3.8/dist-packages (from optuna) (1.22.4)\n",
            "Requirement already satisfied: PyYAML in /usr/local/lib/python3.8/dist-packages (from optuna) (6.0)\n",
            "Collecting colorlog\n",
            "  Downloading colorlog-6.7.0-py2.py3-none-any.whl (11 kB)\n",
            "Collecting alembic>=1.5.0\n",
            "  Downloading alembic-1.9.4-py3-none-any.whl (210 kB)\n",
            "\u001b[2K     \u001b[90m━━━━━━━━━━━━━━━━━━━━━━━━━━━━━━━━━━━━━━\u001b[0m \u001b[32m210.5/210.5 KB\u001b[0m \u001b[31m18.8 MB/s\u001b[0m eta \u001b[36m0:00:00\u001b[0m\n",
            "\u001b[?25hCollecting cmaes>=0.9.1\n",
            "  Downloading cmaes-0.9.1-py3-none-any.whl (21 kB)\n",
            "Requirement already satisfied: importlib-resources in /usr/local/lib/python3.8/dist-packages (from alembic>=1.5.0->optuna) (5.12.0)\n",
            "Requirement already satisfied: importlib-metadata in /usr/local/lib/python3.8/dist-packages (from alembic>=1.5.0->optuna) (6.0.0)\n",
            "Collecting Mako\n",
            "  Downloading Mako-1.2.4-py3-none-any.whl (78 kB)\n",
            "\u001b[2K     \u001b[90m━━━━━━━━━━━━━━━━━━━━━━━━━━━━━━━━━━━━━━━━\u001b[0m \u001b[32m78.7/78.7 KB\u001b[0m \u001b[31m6.6 MB/s\u001b[0m eta \u001b[36m0:00:00\u001b[0m\n",
            "\u001b[?25hRequirement already satisfied: greenlet!=0.4.17 in /usr/local/lib/python3.8/dist-packages (from sqlalchemy>=1.3.0->optuna) (2.0.2)\n",
            "Requirement already satisfied: zipp>=0.5 in /usr/local/lib/python3.8/dist-packages (from importlib-metadata->alembic>=1.5.0->optuna) (3.15.0)\n",
            "Requirement already satisfied: MarkupSafe>=0.9.2 in /usr/local/lib/python3.8/dist-packages (from Mako->alembic>=1.5.0->optuna) (2.1.2)\n",
            "Installing collected packages: Mako, colorlog, cmaes, alembic, optuna\n",
            "Successfully installed Mako-1.2.4 alembic-1.9.4 cmaes-0.9.1 colorlog-6.7.0 optuna-3.1.0\n"
          ]
        }
      ]
    },
    {
      "cell_type": "code",
      "source": [
        "criterion = \"gini\" #What is the criterion used for the split\n",
        "#There is an scientific paper comparing gini and entropy and they diverge in only 2% of the cases, but entropy is a little slower because of logarithm\n",
        "\n",
        "splitter = \"best\" #The strategy used to choose the split at each node\n",
        "#If the model is suffering from overfitting we can change it to random, to avoid this fate\n",
        "\n",
        "max_depth = None #can be None to go forever till purity beeing achieved\n",
        "\n",
        "min_samples_split = 2 #if int, it is the minimal number to make a split\n",
        "                      #if float, it is the min_samples_split * n_samples\n",
        "\n",
        "min_samples_leaf = 1 #int, float\n",
        "\n",
        "#min_weight_fraction_leaf = \n",
        "\n",
        "max_features = None #there are few features, so I think"
      ],
      "metadata": {
        "id": "ocdbMMuRfbUU"
      },
      "execution_count": null,
      "outputs": []
    },
    {
      "cell_type": "code",
      "source": [
        "from sklearn.utils.extmath import weighted_mode\n",
        "import optuna"
      ],
      "metadata": {
        "id": "i5N4M9vwfdxN"
      },
      "execution_count": null,
      "outputs": []
    },
    {
      "cell_type": "code",
      "source": [
        "def objective(trial):\n",
        "    min_samples_split = trial.suggest_int(\"min_samples_split\",2,50)\n",
        "    min_samples_leaf = trial.suggest_int(\"min_samples_leaf\",1,30)\n",
        "    \n",
        "    clf = DecisionTreeClassifier(\n",
        "                                #criterion=criterion,\n",
        "                                #splitter=splitter,\n",
        "                                min_samples_split=min_samples_split,\n",
        "                                #max_depth=max_depth, \n",
        "                                #min_samples_leaf=min_samples_leaf, \n",
        "                                max_features=max_features\n",
        "                                )\n",
        "    clf.fit(X_train,y_train)\n",
        "    pred = clf.predict(X_valid)\n",
        "    return f1_score(pred,y_valid,average=\"weighted\")\n",
        "\n",
        "study = optuna.create_study(direction=\"maximize\")\n",
        "study.optimize(objective, n_trials=100)\n",
        "\n",
        "print(study.best_params)"
      ],
      "metadata": {
        "id": "w2lj-4sGfbWr",
        "outputId": "a61776e8-3637-4b74-a91f-6cf3674cf97e",
        "colab": {
          "base_uri": "https://localhost:8080/"
        }
      },
      "execution_count": null,
      "outputs": [
        {
          "output_type": "stream",
          "name": "stderr",
          "text": [
            "\u001b[32m[I 2023-03-03 03:33:02,329]\u001b[0m A new study created in memory with name: no-name-07f919cb-b6fb-4387-b481-c6f918b7ab19\u001b[0m\n",
            "\u001b[32m[I 2023-03-03 03:33:02,790]\u001b[0m Trial 0 finished with value: 0.8335548483356764 and parameters: {'min_samples_split': 47, 'min_samples_leaf': 1}. Best is trial 0 with value: 0.8335548483356764.\u001b[0m\n",
            "\u001b[32m[I 2023-03-03 03:33:03,240]\u001b[0m Trial 1 finished with value: 0.9362539166255994 and parameters: {'min_samples_split': 4, 'min_samples_leaf': 28}. Best is trial 1 with value: 0.9362539166255994.\u001b[0m\n",
            "\u001b[32m[I 2023-03-03 03:33:03,802]\u001b[0m Trial 2 finished with value: 0.8564726390379441 and parameters: {'min_samples_split': 33, 'min_samples_leaf': 19}. Best is trial 1 with value: 0.9362539166255994.\u001b[0m\n",
            "\u001b[32m[I 2023-03-03 03:33:04,144]\u001b[0m Trial 3 finished with value: 0.9361961368328338 and parameters: {'min_samples_split': 4, 'min_samples_leaf': 29}. Best is trial 1 with value: 0.9362539166255994.\u001b[0m\n",
            "\u001b[32m[I 2023-03-03 03:33:04,641]\u001b[0m Trial 4 finished with value: 0.9252994374414404 and parameters: {'min_samples_split': 9, 'min_samples_leaf': 6}. Best is trial 1 with value: 0.9362539166255994.\u001b[0m\n",
            "\u001b[32m[I 2023-03-03 03:33:05,047]\u001b[0m Trial 5 finished with value: 0.8304178735170696 and parameters: {'min_samples_split': 48, 'min_samples_leaf': 17}. Best is trial 1 with value: 0.9362539166255994.\u001b[0m\n",
            "\u001b[32m[I 2023-03-03 03:33:05,426]\u001b[0m Trial 6 finished with value: 0.8409629206921944 and parameters: {'min_samples_split': 39, 'min_samples_leaf': 3}. Best is trial 1 with value: 0.9362539166255994.\u001b[0m\n",
            "\u001b[32m[I 2023-03-03 03:33:05,646]\u001b[0m Trial 7 finished with value: 0.8957423432202192 and parameters: {'min_samples_split': 18, 'min_samples_leaf': 25}. Best is trial 1 with value: 0.9362539166255994.\u001b[0m\n",
            "\u001b[32m[I 2023-03-03 03:33:05,885]\u001b[0m Trial 8 finished with value: 0.9188059531061901 and parameters: {'min_samples_split': 8, 'min_samples_leaf': 9}. Best is trial 1 with value: 0.9362539166255994.\u001b[0m\n",
            "\u001b[32m[I 2023-03-03 03:33:06,046]\u001b[0m Trial 9 finished with value: 0.9206016797065457 and parameters: {'min_samples_split': 7, 'min_samples_leaf': 6}. Best is trial 1 with value: 0.9362539166255994.\u001b[0m\n",
            "\u001b[32m[I 2023-03-03 03:33:06,456]\u001b[0m Trial 10 finished with value: 0.8734279914039266 and parameters: {'min_samples_split': 22, 'min_samples_leaf': 22}. Best is trial 1 with value: 0.9362539166255994.\u001b[0m\n",
            "\u001b[32m[I 2023-03-03 03:33:06,843]\u001b[0m Trial 11 finished with value: 0.9423512092930586 and parameters: {'min_samples_split': 2, 'min_samples_leaf': 30}. Best is trial 11 with value: 0.9423512092930586.\u001b[0m\n",
            "\u001b[32m[I 2023-03-03 03:33:07,098]\u001b[0m Trial 12 finished with value: 0.905234105206092 and parameters: {'min_samples_split': 16, 'min_samples_leaf': 29}. Best is trial 11 with value: 0.9423512092930586.\u001b[0m\n",
            "\u001b[32m[I 2023-03-03 03:33:07,436]\u001b[0m Trial 13 finished with value: 0.9441499495467409 and parameters: {'min_samples_split': 2, 'min_samples_leaf': 25}. Best is trial 13 with value: 0.9441499495467409.\u001b[0m\n",
            "\u001b[32m[I 2023-03-03 03:33:07,723]\u001b[0m Trial 14 finished with value: 0.9047353898880756 and parameters: {'min_samples_split': 14, 'min_samples_leaf': 13}. Best is trial 13 with value: 0.9441499495467409.\u001b[0m\n",
            "\u001b[32m[I 2023-03-03 03:33:08,073]\u001b[0m Trial 15 finished with value: 0.8656319692258971 and parameters: {'min_samples_split': 27, 'min_samples_leaf': 24}. Best is trial 13 with value: 0.9441499495467409.\u001b[0m\n",
            "\u001b[32m[I 2023-03-03 03:33:08,300]\u001b[0m Trial 16 finished with value: 0.938660421367949 and parameters: {'min_samples_split': 2, 'min_samples_leaf': 21}. Best is trial 13 with value: 0.9441499495467409.\u001b[0m\n",
            "\u001b[32m[I 2023-03-03 03:33:08,649]\u001b[0m Trial 17 finished with value: 0.9071037794434462 and parameters: {'min_samples_split': 12, 'min_samples_leaf': 26}. Best is trial 13 with value: 0.9441499495467409.\u001b[0m\n",
            "\u001b[32m[I 2023-03-03 03:33:08,965]\u001b[0m Trial 18 finished with value: 0.8725845371789817 and parameters: {'min_samples_split': 24, 'min_samples_leaf': 30}. Best is trial 13 with value: 0.9441499495467409.\u001b[0m\n",
            "\u001b[32m[I 2023-03-03 03:33:09,225]\u001b[0m Trial 19 finished with value: 0.8568838770467897 and parameters: {'min_samples_split': 32, 'min_samples_leaf': 13}. Best is trial 13 with value: 0.9441499495467409.\u001b[0m\n",
            "\u001b[32m[I 2023-03-03 03:33:09,416]\u001b[0m Trial 20 finished with value: 0.8899433570754098 and parameters: {'min_samples_split': 20, 'min_samples_leaf': 22}. Best is trial 13 with value: 0.9441499495467409.\u001b[0m\n",
            "\u001b[32m[I 2023-03-03 03:33:09,690]\u001b[0m Trial 21 finished with value: 0.9382630666100444 and parameters: {'min_samples_split': 2, 'min_samples_leaf': 20}. Best is trial 13 with value: 0.9441499495467409.\u001b[0m\n",
            "\u001b[32m[I 2023-03-03 03:33:10,040]\u001b[0m Trial 22 finished with value: 0.9437439056182113 and parameters: {'min_samples_split': 2, 'min_samples_leaf': 26}. Best is trial 13 with value: 0.9441499495467409.\u001b[0m\n",
            "\u001b[32m[I 2023-03-03 03:33:10,282]\u001b[0m Trial 23 finished with value: 0.9200072286873785 and parameters: {'min_samples_split': 11, 'min_samples_leaf': 26}. Best is trial 13 with value: 0.9441499495467409.\u001b[0m\n",
            "\u001b[32m[I 2023-03-03 03:33:10,517]\u001b[0m Trial 24 finished with value: 0.9308365293856594 and parameters: {'min_samples_split': 6, 'min_samples_leaf': 27}. Best is trial 13 with value: 0.9441499495467409.\u001b[0m\n",
            "\u001b[32m[I 2023-03-03 03:33:10,724]\u001b[0m Trial 25 finished with value: 0.9042719953146988 and parameters: {'min_samples_split': 14, 'min_samples_leaf': 24}. Best is trial 13 with value: 0.9441499495467409.\u001b[0m\n",
            "\u001b[32m[I 2023-03-03 03:33:10,902]\u001b[0m Trial 26 finished with value: 0.921530021872165 and parameters: {'min_samples_split': 9, 'min_samples_leaf': 30}. Best is trial 13 with value: 0.9441499495467409.\u001b[0m\n",
            "\u001b[32m[I 2023-03-03 03:33:11,150]\u001b[0m Trial 27 finished with value: 0.9261589615806984 and parameters: {'min_samples_split': 6, 'min_samples_leaf': 18}. Best is trial 13 with value: 0.9441499495467409.\u001b[0m\n",
            "\u001b[32m[I 2023-03-03 03:33:11,366]\u001b[0m Trial 28 finished with value: 0.9128949209871106 and parameters: {'min_samples_split': 12, 'min_samples_leaf': 15}. Best is trial 13 with value: 0.9441499495467409.\u001b[0m\n",
            "\u001b[32m[I 2023-03-03 03:33:11,609]\u001b[0m Trial 29 finished with value: 0.8366341278237268 and parameters: {'min_samples_split': 42, 'min_samples_leaf': 23}. Best is trial 13 with value: 0.9441499495467409.\u001b[0m\n",
            "\u001b[32m[I 2023-03-03 03:33:11,840]\u001b[0m Trial 30 finished with value: 0.9409369292294312 and parameters: {'min_samples_split': 3, 'min_samples_leaf': 27}. Best is trial 13 with value: 0.9441499495467409.\u001b[0m\n",
            "\u001b[32m[I 2023-03-03 03:33:12,156]\u001b[0m Trial 31 finished with value: 0.9431676862999144 and parameters: {'min_samples_split': 2, 'min_samples_leaf': 27}. Best is trial 13 with value: 0.9441499495467409.\u001b[0m\n",
            "\u001b[32m[I 2023-03-03 03:33:12,354]\u001b[0m Trial 32 finished with value: 0.9320266289700568 and parameters: {'min_samples_split': 5, 'min_samples_leaf': 28}. Best is trial 13 with value: 0.9441499495467409.\u001b[0m\n",
            "\u001b[32m[I 2023-03-03 03:33:12,545]\u001b[0m Trial 33 finished with value: 0.9379730323007566 and parameters: {'min_samples_split': 3, 'min_samples_leaf': 25}. Best is trial 13 with value: 0.9441499495467409.\u001b[0m\n",
            "\u001b[32m[I 2023-03-03 03:33:12,772]\u001b[0m Trial 34 finished with value: 0.9411651514884131 and parameters: {'min_samples_split': 2, 'min_samples_leaf': 28}. Best is trial 13 with value: 0.9441499495467409.\u001b[0m\n",
            "\u001b[32m[I 2023-03-03 03:33:12,970]\u001b[0m Trial 35 finished with value: 0.9276012779893007 and parameters: {'min_samples_split': 9, 'min_samples_leaf': 30}. Best is trial 13 with value: 0.9441499495467409.\u001b[0m\n",
            "\u001b[32m[I 2023-03-03 03:33:13,158]\u001b[0m Trial 36 finished with value: 0.9247850913830038 and parameters: {'min_samples_split': 7, 'min_samples_leaf': 26}. Best is trial 13 with value: 0.9441499495467409.\u001b[0m\n",
            "\u001b[32m[I 2023-03-03 03:33:13,393]\u001b[0m Trial 37 finished with value: 0.9252966023634065 and parameters: {'min_samples_split': 5, 'min_samples_leaf': 28}. Best is trial 13 with value: 0.9441499495467409.\u001b[0m\n",
            "\u001b[32m[I 2023-03-03 03:33:13,613]\u001b[0m Trial 38 finished with value: 0.922944081071948 and parameters: {'min_samples_split': 10, 'min_samples_leaf': 20}. Best is trial 13 with value: 0.9441499495467409.\u001b[0m\n",
            "\u001b[32m[I 2023-03-03 03:33:13,851]\u001b[0m Trial 39 finished with value: 0.8600045858921962 and parameters: {'min_samples_split': 29, 'min_samples_leaf': 23}. Best is trial 13 with value: 0.9441499495467409.\u001b[0m\n",
            "\u001b[32m[I 2023-03-03 03:33:14,050]\u001b[0m Trial 40 finished with value: 0.9051709625070913 and parameters: {'min_samples_split': 16, 'min_samples_leaf': 16}. Best is trial 13 with value: 0.9441499495467409.\u001b[0m\n",
            "\u001b[32m[I 2023-03-03 03:33:14,256]\u001b[0m Trial 41 finished with value: 0.9403650018136285 and parameters: {'min_samples_split': 2, 'min_samples_leaf': 28}. Best is trial 13 with value: 0.9441499495467409.\u001b[0m\n",
            "\u001b[32m[I 2023-03-03 03:33:14,484]\u001b[0m Trial 42 finished with value: 0.9324206997921713 and parameters: {'min_samples_split': 5, 'min_samples_leaf': 29}. Best is trial 13 with value: 0.9441499495467409.\u001b[0m\n",
            "\u001b[32m[I 2023-03-03 03:33:14,692]\u001b[0m Trial 43 finished with value: 0.9361890271719041 and parameters: {'min_samples_split': 4, 'min_samples_leaf': 25}. Best is trial 13 with value: 0.9441499495467409.\u001b[0m\n",
            "\u001b[32m[I 2023-03-03 03:33:14,879]\u001b[0m Trial 44 finished with value: 0.9207007595689004 and parameters: {'min_samples_split': 8, 'min_samples_leaf': 27}. Best is trial 13 with value: 0.9441499495467409.\u001b[0m\n",
            "\u001b[32m[I 2023-03-03 03:33:15,063]\u001b[0m Trial 45 finished with value: 0.8399992138253107 and parameters: {'min_samples_split': 40, 'min_samples_leaf': 29}. Best is trial 13 with value: 0.9441499495467409.\u001b[0m\n",
            "\u001b[32m[I 2023-03-03 03:33:15,418]\u001b[0m Trial 46 finished with value: 0.93438699063981 and parameters: {'min_samples_split': 4, 'min_samples_leaf': 24}. Best is trial 13 with value: 0.9441499495467409.\u001b[0m\n",
            "\u001b[32m[I 2023-03-03 03:33:15,880]\u001b[0m Trial 47 finished with value: 0.9437138536606198 and parameters: {'min_samples_split': 2, 'min_samples_leaf': 9}. Best is trial 13 with value: 0.9441499495467409.\u001b[0m\n",
            "\u001b[32m[I 2023-03-03 03:33:16,580]\u001b[0m Trial 48 finished with value: 0.9218991963487912 and parameters: {'min_samples_split': 7, 'min_samples_leaf': 8}. Best is trial 13 with value: 0.9441499495467409.\u001b[0m\n",
            "\u001b[32m[I 2023-03-03 03:33:17,095]\u001b[0m Trial 49 finished with value: 0.8281516981366646 and parameters: {'min_samples_split': 50, 'min_samples_leaf': 3}. Best is trial 13 with value: 0.9441499495467409.\u001b[0m\n",
            "\u001b[32m[I 2023-03-03 03:33:17,510]\u001b[0m Trial 50 finished with value: 0.9089171280493005 and parameters: {'min_samples_split': 14, 'min_samples_leaf': 11}. Best is trial 13 with value: 0.9441499495467409.\u001b[0m\n",
            "\u001b[32m[I 2023-03-03 03:33:17,847]\u001b[0m Trial 51 finished with value: 0.9420324649450306 and parameters: {'min_samples_split': 2, 'min_samples_leaf': 6}. Best is trial 13 with value: 0.9441499495467409.\u001b[0m\n",
            "\u001b[32m[I 2023-03-03 03:33:18,673]\u001b[0m Trial 52 finished with value: 0.941285657431622 and parameters: {'min_samples_split': 2, 'min_samples_leaf': 6}. Best is trial 13 with value: 0.9441499495467409.\u001b[0m\n",
            "\u001b[32m[I 2023-03-03 03:33:18,991]\u001b[0m Trial 53 finished with value: 0.9270656242720172 and parameters: {'min_samples_split': 4, 'min_samples_leaf': 1}. Best is trial 13 with value: 0.9441499495467409.\u001b[0m\n",
            "\u001b[32m[I 2023-03-03 03:33:19,166]\u001b[0m Trial 54 finished with value: 0.9205967709990553 and parameters: {'min_samples_split': 7, 'min_samples_leaf': 9}. Best is trial 13 with value: 0.9441499495467409.\u001b[0m\n",
            "\u001b[32m[I 2023-03-03 03:33:19,337]\u001b[0m Trial 55 finished with value: 0.9142930819869199 and parameters: {'min_samples_split': 11, 'min_samples_leaf': 5}. Best is trial 13 with value: 0.9441499495467409.\u001b[0m\n",
            "\u001b[32m[I 2023-03-03 03:33:19,489]\u001b[0m Trial 56 finished with value: 0.9271358966398413 and parameters: {'min_samples_split': 5, 'min_samples_leaf': 11}. Best is trial 13 with value: 0.9441499495467409.\u001b[0m\n",
            "\u001b[32m[I 2023-03-03 03:33:19,604]\u001b[0m Trial 57 finished with value: 0.9267335838919312 and parameters: {'min_samples_split': 8, 'min_samples_leaf': 4}. Best is trial 13 with value: 0.9441499495467409.\u001b[0m\n",
            "\u001b[32m[I 2023-03-03 03:33:19,726]\u001b[0m Trial 58 finished with value: 0.9426677843893309 and parameters: {'min_samples_split': 2, 'min_samples_leaf': 7}. Best is trial 13 with value: 0.9441499495467409.\u001b[0m\n",
            "\u001b[32m[I 2023-03-03 03:33:19,844]\u001b[0m Trial 59 finished with value: 0.852478146082486 and parameters: {'min_samples_split': 34, 'min_samples_leaf': 8}. Best is trial 13 with value: 0.9441499495467409.\u001b[0m\n",
            "\u001b[32m[I 2023-03-03 03:33:19,960]\u001b[0m Trial 60 finished with value: 0.9308626811369566 and parameters: {'min_samples_split': 6, 'min_samples_leaf': 12}. Best is trial 13 with value: 0.9441499495467409.\u001b[0m\n",
            "\u001b[32m[I 2023-03-03 03:33:20,076]\u001b[0m Trial 61 finished with value: 0.9402789465474205 and parameters: {'min_samples_split': 2, 'min_samples_leaf': 7}. Best is trial 13 with value: 0.9441499495467409.\u001b[0m\n",
            "\u001b[32m[I 2023-03-03 03:33:20,194]\u001b[0m Trial 62 finished with value: 0.9400557192997661 and parameters: {'min_samples_split': 3, 'min_samples_leaf': 9}. Best is trial 13 with value: 0.9441499495467409.\u001b[0m\n",
            "\u001b[32m[I 2023-03-03 03:33:20,307]\u001b[0m Trial 63 finished with value: 0.9400105152735087 and parameters: {'min_samples_split': 4, 'min_samples_leaf': 7}. Best is trial 13 with value: 0.9441499495467409.\u001b[0m\n",
            "\u001b[32m[I 2023-03-03 03:33:20,422]\u001b[0m Trial 64 finished with value: 0.9280004222165484 and parameters: {'min_samples_split': 6, 'min_samples_leaf': 2}. Best is trial 13 with value: 0.9441499495467409.\u001b[0m\n",
            "\u001b[32m[I 2023-03-03 03:33:20,539]\u001b[0m Trial 65 finished with value: 0.9426036427986787 and parameters: {'min_samples_split': 2, 'min_samples_leaf': 5}. Best is trial 13 with value: 0.9441499495467409.\u001b[0m\n",
            "\u001b[32m[I 2023-03-03 03:33:20,660]\u001b[0m Trial 66 finished with value: 0.919545801864524 and parameters: {'min_samples_split': 10, 'min_samples_leaf': 4}. Best is trial 13 with value: 0.9441499495467409.\u001b[0m\n",
            "\u001b[32m[I 2023-03-03 03:33:20,780]\u001b[0m Trial 67 finished with value: 0.9376865066414011 and parameters: {'min_samples_split': 4, 'min_samples_leaf': 10}. Best is trial 13 with value: 0.9441499495467409.\u001b[0m\n",
            "\u001b[32m[I 2023-03-03 03:33:20,895]\u001b[0m Trial 68 finished with value: 0.9252121897581917 and parameters: {'min_samples_split': 8, 'min_samples_leaf': 14}. Best is trial 13 with value: 0.9441499495467409.\u001b[0m\n",
            "\u001b[32m[I 2023-03-03 03:33:21,011]\u001b[0m Trial 69 finished with value: 0.9283615100586905 and parameters: {'min_samples_split': 6, 'min_samples_leaf': 18}. Best is trial 13 with value: 0.9441499495467409.\u001b[0m\n",
            "\u001b[32m[I 2023-03-03 03:33:21,129]\u001b[0m Trial 70 finished with value: 0.8390265548798562 and parameters: {'min_samples_split': 44, 'min_samples_leaf': 26}. Best is trial 13 with value: 0.9441499495467409.\u001b[0m\n",
            "\u001b[32m[I 2023-03-03 03:33:21,244]\u001b[0m Trial 71 finished with value: 0.9402281589503493 and parameters: {'min_samples_split': 2, 'min_samples_leaf': 5}. Best is trial 13 with value: 0.9441499495467409.\u001b[0m\n",
            "\u001b[32m[I 2023-03-03 03:33:21,361]\u001b[0m Trial 72 finished with value: 0.9353325005333543 and parameters: {'min_samples_split': 3, 'min_samples_leaf': 6}. Best is trial 13 with value: 0.9441499495467409.\u001b[0m\n",
            "\u001b[32m[I 2023-03-03 03:33:21,480]\u001b[0m Trial 73 finished with value: 0.9423200751268304 and parameters: {'min_samples_split': 2, 'min_samples_leaf': 4}. Best is trial 13 with value: 0.9441499495467409.\u001b[0m\n",
            "\u001b[32m[I 2023-03-03 03:33:21,603]\u001b[0m Trial 74 finished with value: 0.9395655586243037 and parameters: {'min_samples_split': 4, 'min_samples_leaf': 3}. Best is trial 13 with value: 0.9441499495467409.\u001b[0m\n",
            "\u001b[32m[I 2023-03-03 03:33:21,717]\u001b[0m Trial 75 finished with value: 0.8759192734586525 and parameters: {'min_samples_split': 22, 'min_samples_leaf': 30}. Best is trial 13 with value: 0.9441499495467409.\u001b[0m\n",
            "\u001b[32m[I 2023-03-03 03:33:21,840]\u001b[0m Trial 76 finished with value: 0.922887410026581 and parameters: {'min_samples_split': 6, 'min_samples_leaf': 1}. Best is trial 13 with value: 0.9441499495467409.\u001b[0m\n",
            "\u001b[32m[I 2023-03-03 03:33:21,961]\u001b[0m Trial 77 finished with value: 0.9420261926395147 and parameters: {'min_samples_split': 3, 'min_samples_leaf': 27}. Best is trial 13 with value: 0.9441499495467409.\u001b[0m\n",
            "\u001b[32m[I 2023-03-03 03:33:22,087]\u001b[0m Trial 78 finished with value: 0.9304474478995995 and parameters: {'min_samples_split': 5, 'min_samples_leaf': 4}. Best is trial 13 with value: 0.9441499495467409.\u001b[0m\n",
            "\u001b[32m[I 2023-03-03 03:33:22,204]\u001b[0m Trial 79 finished with value: 0.9202114930778984 and parameters: {'min_samples_split': 9, 'min_samples_leaf': 7}. Best is trial 13 with value: 0.9441499495467409.\u001b[0m\n",
            "\u001b[32m[I 2023-03-03 03:33:22,320]\u001b[0m Trial 80 finished with value: 0.9248288786495699 and parameters: {'min_samples_split': 7, 'min_samples_leaf': 22}. Best is trial 13 with value: 0.9441499495467409.\u001b[0m\n",
            "\u001b[32m[I 2023-03-03 03:33:22,441]\u001b[0m Trial 81 finished with value: 0.9399522885229149 and parameters: {'min_samples_split': 2, 'min_samples_leaf': 8}. Best is trial 13 with value: 0.9441499495467409.\u001b[0m\n",
            "\u001b[32m[I 2023-03-03 03:33:22,556]\u001b[0m Trial 82 finished with value: 0.9362221039993152 and parameters: {'min_samples_split': 3, 'min_samples_leaf': 25}. Best is trial 13 with value: 0.9441499495467409.\u001b[0m\n",
            "\u001b[32m[I 2023-03-03 03:33:22,672]\u001b[0m Trial 83 finished with value: 0.9412671894868029 and parameters: {'min_samples_split': 2, 'min_samples_leaf': 5}. Best is trial 13 with value: 0.9441499495467409.\u001b[0m\n",
            "\u001b[32m[I 2023-03-03 03:33:22,800]\u001b[0m Trial 84 finished with value: 0.927179848460071 and parameters: {'min_samples_split': 5, 'min_samples_leaf': 3}. Best is trial 13 with value: 0.9441499495467409.\u001b[0m\n",
            "\u001b[32m[I 2023-03-03 03:33:22,921]\u001b[0m Trial 85 finished with value: 0.9352404546187376 and parameters: {'min_samples_split': 3, 'min_samples_leaf': 2}. Best is trial 13 with value: 0.9441499495467409.\u001b[0m\n",
            "\u001b[32m[I 2023-03-03 03:33:23,038]\u001b[0m Trial 86 finished with value: 0.9400027302859177 and parameters: {'min_samples_split': 4, 'min_samples_leaf': 5}. Best is trial 13 with value: 0.9441499495467409.\u001b[0m\n",
            "\u001b[32m[I 2023-03-03 03:33:23,161]\u001b[0m Trial 87 finished with value: 0.9436167832596115 and parameters: {'min_samples_split': 2, 'min_samples_leaf': 23}. Best is trial 13 with value: 0.9441499495467409.\u001b[0m\n",
            "\u001b[32m[I 2023-03-03 03:33:23,282]\u001b[0m Trial 88 finished with value: 0.9248780665042085 and parameters: {'min_samples_split': 7, 'min_samples_leaf': 23}. Best is trial 13 with value: 0.9441499495467409.\u001b[0m\n",
            "\u001b[32m[I 2023-03-03 03:33:23,403]\u001b[0m Trial 89 finished with value: 0.9334936517054507 and parameters: {'min_samples_split': 5, 'min_samples_leaf': 25}. Best is trial 13 with value: 0.9441499495467409.\u001b[0m\n",
            "\u001b[32m[I 2023-03-03 03:33:23,520]\u001b[0m Trial 90 finished with value: 0.9084866125123308 and parameters: {'min_samples_split': 12, 'min_samples_leaf': 29}. Best is trial 13 with value: 0.9441499495467409.\u001b[0m\n",
            "\u001b[32m[I 2023-03-03 03:33:23,642]\u001b[0m Trial 91 finished with value: 0.9445697388266386 and parameters: {'min_samples_split': 2, 'min_samples_leaf': 27}. Best is trial 91 with value: 0.9445697388266386.\u001b[0m\n",
            "\u001b[32m[I 2023-03-03 03:33:23,764]\u001b[0m Trial 92 finished with value: 0.9372590389300448 and parameters: {'min_samples_split': 4, 'min_samples_leaf': 26}. Best is trial 91 with value: 0.9445697388266386.\u001b[0m\n",
            "\u001b[32m[I 2023-03-03 03:33:23,912]\u001b[0m Trial 93 finished with value: 0.9438852139874132 and parameters: {'min_samples_split': 2, 'min_samples_leaf': 24}. Best is trial 91 with value: 0.9445697388266386.\u001b[0m\n",
            "\u001b[32m[I 2023-03-03 03:33:24,037]\u001b[0m Trial 94 finished with value: 0.9295599896559741 and parameters: {'min_samples_split': 5, 'min_samples_leaf': 21}. Best is trial 91 with value: 0.9445697388266386.\u001b[0m\n",
            "\u001b[32m[I 2023-03-03 03:33:24,164]\u001b[0m Trial 95 finished with value: 0.9294500038942299 and parameters: {'min_samples_split': 3, 'min_samples_leaf': 24}. Best is trial 91 with value: 0.9445697388266386.\u001b[0m\n",
            "\u001b[32m[I 2023-03-03 03:33:24,281]\u001b[0m Trial 96 finished with value: 0.9351421512302728 and parameters: {'min_samples_split': 3, 'min_samples_leaf': 27}. Best is trial 91 with value: 0.9445697388266386.\u001b[0m\n",
            "\u001b[32m[I 2023-03-03 03:33:24,410]\u001b[0m Trial 97 finished with value: 0.943416843354878 and parameters: {'min_samples_split': 2, 'min_samples_leaf': 28}. Best is trial 91 with value: 0.9445697388266386.\u001b[0m\n",
            "\u001b[32m[I 2023-03-03 03:33:24,558]\u001b[0m Trial 98 finished with value: 0.9190421998563877 and parameters: {'min_samples_split': 8, 'min_samples_leaf': 24}. Best is trial 91 with value: 0.9445697388266386.\u001b[0m\n",
            "\u001b[32m[I 2023-03-03 03:33:24,683]\u001b[0m Trial 99 finished with value: 0.9223531354788751 and parameters: {'min_samples_split': 6, 'min_samples_leaf': 28}. Best is trial 91 with value: 0.9445697388266386.\u001b[0m\n"
          ]
        },
        {
          "output_type": "stream",
          "name": "stdout",
          "text": [
            "{'min_samples_split': 2, 'min_samples_leaf': 27}\n"
          ]
        }
      ]
    },
    {
      "cell_type": "markdown",
      "source": [
        "## A resposta da automação em relação a otimização de HIPERPARAMETROS foi - **{'min_samples_split': 2, 'min_samples_leaf': 27}**\n"
      ],
      "metadata": {
        "id": "LN-4rfqkiNk4"
      }
    },
    {
      "cell_type": "code",
      "source": [
        "clf_best = DecisionTreeClassifier(min_samples_split=2, min_samples_leaf=27)\n",
        "clf_best.fit(X_train, y_train)\n",
        "y_pred_valid = clf_best.predict(X_valid)\n",
        "y_pred_test = clf_best.predict(X_test)\n",
        "metrics(y_valid, y_pred_valid)\n",
        "print(\"\\n\")\n",
        "metrics(y_test, y_pred_test)"
      ],
      "metadata": {
        "id": "f-QVcz-1OnPI",
        "outputId": "15ed1c35-36d3-40d5-d467-4a9179ff4409",
        "colab": {
          "base_uri": "https://localhost:8080/"
        }
      },
      "execution_count": null,
      "outputs": [
        {
          "output_type": "stream",
          "name": "stdout",
          "text": [
            "[[767   0   1  10   9  62  12  10   3   0   3   4]\n",
            " [  0   0   0   0   0   0   2   0   0   0   1   0]\n",
            " [  3   0   5   4   3   2   0   0   0   0   1   0]\n",
            " [  5   0   2  46   6   2   0   0   0   0   3   2]\n",
            " [ 34   0   1  22 161   4   0   2   0   0   5   1]\n",
            " [129   0   0   4   5 256   3   5   0   0   0   0]\n",
            " [ 12   0   0   1   4  14  40   4   0   0   1   0]\n",
            " [ 23   0   0   2  10   5   1  64   0   0   1   0]\n",
            " [  5   0   0   0   0   0   0   3 136   0   1   2]\n",
            " [  2   0   0   0   6   3   0   0   0   0   0   0]\n",
            " [  7   0   0   0   9   1   0   0   0   0  72   8]\n",
            " [  4   0   0   0   3   1   0   0   0   0   3  38]]\n",
            "              precision    recall  f1-score   support\n",
            "\n",
            "           A       0.77      0.87      0.82       881\n",
            "           B       0.00      0.00      0.00         3\n",
            "           C       0.56      0.28      0.37        18\n",
            "           D       0.52      0.70      0.59        66\n",
            "           E       0.75      0.70      0.72       230\n",
            "           F       0.73      0.64      0.68       402\n",
            "           G       0.69      0.53      0.60        76\n",
            "           H       0.73      0.60      0.66       106\n",
            "           I       0.98      0.93      0.95       147\n",
            "           W       0.00      0.00      0.00        11\n",
            "           X       0.79      0.74      0.77        97\n",
            "           Y       0.69      0.78      0.73        49\n",
            "\n",
            "    accuracy                           0.76      2086\n",
            "   macro avg       0.60      0.56      0.57      2086\n",
            "weighted avg       0.76      0.76      0.75      2086\n",
            "\n",
            "0.7598274209012464\n",
            "\n",
            "\n",
            "[[3656    0    7   51   66  352   47   55   18    0   17   17]\n",
            " [   0    0    0    0    0    0    3    0    0    0    2    0]\n",
            " [  13    0   20   21   16   29    0    0    0    0    2    2]\n",
            " [  43    0    9  234   39   10    2    0    0    0   13    3]\n",
            " [ 167    0    3   97  727   33    0   26    0    0   36    6]\n",
            " [ 584    0    0   26   29 1271   33   18    0    0    1    0]\n",
            " [  87    0    0    8   40   67  228   12    0    0    5    0]\n",
            " [  92    0    0    8   52   20    6  342    0    0    0    0]\n",
            " [  29    0    0    0    4    2    0   13  765    0    9   10]\n",
            " [  10    0    0    0   22   13    0    0    0    0    0    0]\n",
            " [  34    0    0    6   46    5    0    0    0    0  383   48]\n",
            " [  28    0    0    0    5    2    0    0    0    0   27  205]]\n"
          ]
        },
        {
          "output_type": "stream",
          "name": "stderr",
          "text": [
            "/usr/local/lib/python3.8/dist-packages/sklearn/metrics/_classification.py:1344: UndefinedMetricWarning: Precision and F-score are ill-defined and being set to 0.0 in labels with no predicted samples. Use `zero_division` parameter to control this behavior.\n",
            "  \n",
            "/usr/local/lib/python3.8/dist-packages/sklearn/metrics/_classification.py:1344: UndefinedMetricWarning: Precision and F-score are ill-defined and being set to 0.0 in labels with no predicted samples. Use `zero_division` parameter to control this behavior.\n",
            "  \n",
            "/usr/local/lib/python3.8/dist-packages/sklearn/metrics/_classification.py:1344: UndefinedMetricWarning: Precision and F-score are ill-defined and being set to 0.0 in labels with no predicted samples. Use `zero_division` parameter to control this behavior.\n",
            "  \n",
            "/usr/local/lib/python3.8/dist-packages/sklearn/metrics/_classification.py:1344: UndefinedMetricWarning: Precision and F-score are ill-defined and being set to 0.0 in labels with no predicted samples. Use `zero_division` parameter to control this behavior.\n",
            "  \n",
            "/usr/local/lib/python3.8/dist-packages/sklearn/metrics/_classification.py:1344: UndefinedMetricWarning: Precision and F-score are ill-defined and being set to 0.0 in labels with no predicted samples. Use `zero_division` parameter to control this behavior.\n",
            "  \n"
          ]
        },
        {
          "output_type": "stream",
          "name": "stdout",
          "text": [
            "              precision    recall  f1-score   support\n",
            "\n",
            "           A       0.77      0.85      0.81      4286\n",
            "           B       0.00      0.00      0.00         5\n",
            "           C       0.51      0.19      0.28       103\n",
            "           D       0.52      0.66      0.58       353\n",
            "           E       0.70      0.66      0.68      1095\n",
            "           F       0.70      0.65      0.67      1962\n",
            "           G       0.71      0.51      0.60       447\n",
            "           H       0.73      0.66      0.69       520\n",
            "           I       0.98      0.92      0.95       832\n",
            "           W       0.00      0.00      0.00        45\n",
            "           X       0.77      0.73      0.75       522\n",
            "           Y       0.70      0.77      0.73       267\n",
            "\n",
            "    accuracy                           0.75     10437\n",
            "   macro avg       0.59      0.55      0.56     10437\n",
            "weighted avg       0.75      0.75      0.75     10437\n",
            "\n",
            "0.7503113921624988\n"
          ]
        },
        {
          "output_type": "stream",
          "name": "stderr",
          "text": [
            "/usr/local/lib/python3.8/dist-packages/sklearn/metrics/_classification.py:1344: UndefinedMetricWarning: Precision and F-score are ill-defined and being set to 0.0 in labels with no predicted samples. Use `zero_division` parameter to control this behavior.\n",
            "  \n"
          ]
        }
      ]
    },
    {
      "cell_type": "code",
      "source": [],
      "metadata": {
        "id": "Vuf12DK0i-x_"
      },
      "execution_count": null,
      "outputs": []
    },
    {
      "cell_type": "markdown",
      "source": [
        "## Rodamos uma nova execução, já com a adição dos parametros identificados no OPTUNA por trazer maior de seus dads."
      ],
      "metadata": {
        "id": "aS99SrIzitGF"
      }
    },
    {
      "cell_type": "markdown",
      "source": [
        "## Porém, o resultado nao foi como o esperado, o modelo performou mal"
      ],
      "metadata": {
        "id": "mXs1x0X9jIkN"
      }
    },
    {
      "cell_type": "markdown",
      "source": [],
      "metadata": {
        "id": "OOvy8wZ9i9oU"
      }
    },
    {
      "cell_type": "code",
      "source": [],
      "metadata": {
        "id": "g3W3S8yLihOH"
      },
      "execution_count": null,
      "outputs": []
    }
  ]
}