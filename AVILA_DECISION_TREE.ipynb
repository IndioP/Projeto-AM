{
  "nbformat": 4,
  "nbformat_minor": 0,
  "metadata": {
    "colab": {
      "provenance": [],
      "include_colab_link": true
    },
    "kernelspec": {
      "name": "python3",
      "display_name": "Python 3"
    },
    "language_info": {
      "name": "python"
    }
  },
  "cells": [
    {
      "cell_type": "markdown",
      "metadata": {
        "id": "view-in-github",
        "colab_type": "text"
      },
      "source": [
        "<a href=\"https://colab.research.google.com/github/IndioP/Projeto-AM/blob/main/AVILA_DECISION_TREE.ipynb\" target=\"_parent\"><img src=\"https://colab.research.google.com/assets/colab-badge.svg\" alt=\"Open In Colab\"/></a>"
      ]
    },
    {
      "cell_type": "code",
      "source": [
        "!git clone https://github.com/IndioP/Projeto-AM"
      ],
      "metadata": {
        "colab": {
          "base_uri": "https://localhost:8080/"
        },
        "id": "3fowlwl44XDu",
        "outputId": "b30dd84a-449f-4d41-9c5a-355df6732989"
      },
      "execution_count": 1,
      "outputs": [
        {
          "output_type": "stream",
          "name": "stdout",
          "text": [
            "Cloning into 'Projeto-AM'...\n",
            "remote: Enumerating objects: 17, done.\u001b[K\n",
            "remote: Counting objects: 100% (17/17), done.\u001b[K\n",
            "remote: Compressing objects: 100% (17/17), done.\u001b[K\n",
            "remote: Total 17 (delta 5), reused 0 (delta 0), pack-reused 0\u001b[K\n",
            "Unpacking objects: 100% (17/17), 567.01 KiB | 1.67 MiB/s, done.\n"
          ]
        }
      ]
    },
    {
      "cell_type": "code",
      "source": [
        "from sklearn.metrics import classification_report,confusion_matrix,accuracy_score,plot_confusion_matrix\n",
        "from sklearn.metrics import f1_score,recall_score,precision_score\n",
        "from sklearn.model_selection import train_test_split\n",
        "import pandas as pd"
      ],
      "metadata": {
        "id": "iorlHYAJKVxz"
      },
      "execution_count": 59,
      "outputs": []
    },
    {
      "cell_type": "markdown",
      "source": [
        "##Funções auxiliares"
      ],
      "metadata": {
        "id": "uq2kKnfo94fh"
      }
    },
    {
      "cell_type": "code",
      "source": [
        "def metrics(test,pred):\n",
        "    print(confusion_matrix(test,pred))\n",
        "    print(classification_report(test,pred))\n",
        "    print(accuracy_score(test,pred))\n",
        "\n",
        "def confusion_matrix(model,x_test,y_test):\n",
        "    matrix = plot_confusion_matrix(model,x_test,y_test)\n",
        "    matrix.ax_.set_title('Confusion Matrix ', color ='black')\n",
        "    \n",
        "    plt.xlabel('PREDICTED LABEL',color='black')\n",
        "    plt.ylabel('TRUE LABEL',color='black')\n",
        "    \n",
        "    plt.gcf().axes[0].tick_params(colors='black')\n",
        "    plt.gcf().axes[1].tick_params(colors='black')\n",
        "    plt.gcf().set_size_inches(10,6)\n",
        "    plt.show()"
      ],
      "metadata": {
        "id": "MiZREaxy93yf"
      },
      "execution_count": 71,
      "outputs": []
    },
    {
      "cell_type": "code",
      "source": [],
      "metadata": {
        "id": "nHFMwllc9-RX"
      },
      "execution_count": 60,
      "outputs": []
    },
    {
      "cell_type": "markdown",
      "source": [],
      "metadata": {
        "id": "WXr68HyY9-kl"
      }
    },
    {
      "cell_type": "markdown",
      "source": [
        "##Lendo as tabelas de TREINAMENTO e de TESTE"
      ],
      "metadata": {
        "id": "x_eTrAMD9-pv"
      }
    },
    {
      "cell_type": "code",
      "execution_count": 61,
      "metadata": {
        "id": "h8HjT3TMJzQK"
      },
      "outputs": [],
      "source": [
        "names = ['F1','F2','F3','F4','F5','F6','F7','F8','F9','F10','Class']\n",
        "df_train = pd.read_csv(\"Projeto-AM/avila-tr.txt\",names = names)\n",
        "df_test = pd.read_csv(\"Projeto-AM/avila-ts.txt\",names = names)\n",
        "X_test = df_test.drop(\"Class\",axis=1)\n",
        "y_test = df_test[\"Class\"]"
      ]
    },
    {
      "cell_type": "code",
      "source": [
        "df_train.head()"
      ],
      "metadata": {
        "colab": {
          "base_uri": "https://localhost:8080/",
          "height": 206
        },
        "id": "Wz9UqFngKnOs",
        "outputId": "8e654675-7f64-463c-855a-e62a850dcafe"
      },
      "execution_count": 62,
      "outputs": [
        {
          "output_type": "execute_result",
          "data": {
            "text/plain": [
              "         F1        F2        F3        F4        F5        F6        F7  \\\n",
              "0  0.266074 -0.165620  0.320980  0.483299  0.172340  0.273364  0.371178   \n",
              "1  0.130292  0.870736 -3.210528  0.062493  0.261718  1.436060  1.465940   \n",
              "2 -0.116585  0.069915  0.068476 -0.783147  0.261718  0.439463 -0.081827   \n",
              "3  0.031541  0.297600 -3.210528 -0.583590 -0.721442 -0.307984  0.710932   \n",
              "4  0.229043  0.807926 -0.052442  0.082634  0.261718  0.148790  0.635431   \n",
              "\n",
              "         F8        F9       F10 Class  \n",
              "0  0.929823  0.251173  0.159345     A  \n",
              "1  0.636203  0.282354  0.515587     A  \n",
              "2 -0.888236 -0.123005  0.582939     A  \n",
              "3  1.051693  0.594169 -0.533994     A  \n",
              "4  0.051062  0.032902 -0.086652     F  "
            ],
            "text/html": [
              "\n",
              "  <div id=\"df-5a20f29d-9323-44ba-a249-074940d75eda\">\n",
              "    <div class=\"colab-df-container\">\n",
              "      <div>\n",
              "<style scoped>\n",
              "    .dataframe tbody tr th:only-of-type {\n",
              "        vertical-align: middle;\n",
              "    }\n",
              "\n",
              "    .dataframe tbody tr th {\n",
              "        vertical-align: top;\n",
              "    }\n",
              "\n",
              "    .dataframe thead th {\n",
              "        text-align: right;\n",
              "    }\n",
              "</style>\n",
              "<table border=\"1\" class=\"dataframe\">\n",
              "  <thead>\n",
              "    <tr style=\"text-align: right;\">\n",
              "      <th></th>\n",
              "      <th>F1</th>\n",
              "      <th>F2</th>\n",
              "      <th>F3</th>\n",
              "      <th>F4</th>\n",
              "      <th>F5</th>\n",
              "      <th>F6</th>\n",
              "      <th>F7</th>\n",
              "      <th>F8</th>\n",
              "      <th>F9</th>\n",
              "      <th>F10</th>\n",
              "      <th>Class</th>\n",
              "    </tr>\n",
              "  </thead>\n",
              "  <tbody>\n",
              "    <tr>\n",
              "      <th>0</th>\n",
              "      <td>0.266074</td>\n",
              "      <td>-0.165620</td>\n",
              "      <td>0.320980</td>\n",
              "      <td>0.483299</td>\n",
              "      <td>0.172340</td>\n",
              "      <td>0.273364</td>\n",
              "      <td>0.371178</td>\n",
              "      <td>0.929823</td>\n",
              "      <td>0.251173</td>\n",
              "      <td>0.159345</td>\n",
              "      <td>A</td>\n",
              "    </tr>\n",
              "    <tr>\n",
              "      <th>1</th>\n",
              "      <td>0.130292</td>\n",
              "      <td>0.870736</td>\n",
              "      <td>-3.210528</td>\n",
              "      <td>0.062493</td>\n",
              "      <td>0.261718</td>\n",
              "      <td>1.436060</td>\n",
              "      <td>1.465940</td>\n",
              "      <td>0.636203</td>\n",
              "      <td>0.282354</td>\n",
              "      <td>0.515587</td>\n",
              "      <td>A</td>\n",
              "    </tr>\n",
              "    <tr>\n",
              "      <th>2</th>\n",
              "      <td>-0.116585</td>\n",
              "      <td>0.069915</td>\n",
              "      <td>0.068476</td>\n",
              "      <td>-0.783147</td>\n",
              "      <td>0.261718</td>\n",
              "      <td>0.439463</td>\n",
              "      <td>-0.081827</td>\n",
              "      <td>-0.888236</td>\n",
              "      <td>-0.123005</td>\n",
              "      <td>0.582939</td>\n",
              "      <td>A</td>\n",
              "    </tr>\n",
              "    <tr>\n",
              "      <th>3</th>\n",
              "      <td>0.031541</td>\n",
              "      <td>0.297600</td>\n",
              "      <td>-3.210528</td>\n",
              "      <td>-0.583590</td>\n",
              "      <td>-0.721442</td>\n",
              "      <td>-0.307984</td>\n",
              "      <td>0.710932</td>\n",
              "      <td>1.051693</td>\n",
              "      <td>0.594169</td>\n",
              "      <td>-0.533994</td>\n",
              "      <td>A</td>\n",
              "    </tr>\n",
              "    <tr>\n",
              "      <th>4</th>\n",
              "      <td>0.229043</td>\n",
              "      <td>0.807926</td>\n",
              "      <td>-0.052442</td>\n",
              "      <td>0.082634</td>\n",
              "      <td>0.261718</td>\n",
              "      <td>0.148790</td>\n",
              "      <td>0.635431</td>\n",
              "      <td>0.051062</td>\n",
              "      <td>0.032902</td>\n",
              "      <td>-0.086652</td>\n",
              "      <td>F</td>\n",
              "    </tr>\n",
              "  </tbody>\n",
              "</table>\n",
              "</div>\n",
              "      <button class=\"colab-df-convert\" onclick=\"convertToInteractive('df-5a20f29d-9323-44ba-a249-074940d75eda')\"\n",
              "              title=\"Convert this dataframe to an interactive table.\"\n",
              "              style=\"display:none;\">\n",
              "        \n",
              "  <svg xmlns=\"http://www.w3.org/2000/svg\" height=\"24px\"viewBox=\"0 0 24 24\"\n",
              "       width=\"24px\">\n",
              "    <path d=\"M0 0h24v24H0V0z\" fill=\"none\"/>\n",
              "    <path d=\"M18.56 5.44l.94 2.06.94-2.06 2.06-.94-2.06-.94-.94-2.06-.94 2.06-2.06.94zm-11 1L8.5 8.5l.94-2.06 2.06-.94-2.06-.94L8.5 2.5l-.94 2.06-2.06.94zm10 10l.94 2.06.94-2.06 2.06-.94-2.06-.94-.94-2.06-.94 2.06-2.06.94z\"/><path d=\"M17.41 7.96l-1.37-1.37c-.4-.4-.92-.59-1.43-.59-.52 0-1.04.2-1.43.59L10.3 9.45l-7.72 7.72c-.78.78-.78 2.05 0 2.83L4 21.41c.39.39.9.59 1.41.59.51 0 1.02-.2 1.41-.59l7.78-7.78 2.81-2.81c.8-.78.8-2.07 0-2.86zM5.41 20L4 18.59l7.72-7.72 1.47 1.35L5.41 20z\"/>\n",
              "  </svg>\n",
              "      </button>\n",
              "      \n",
              "  <style>\n",
              "    .colab-df-container {\n",
              "      display:flex;\n",
              "      flex-wrap:wrap;\n",
              "      gap: 12px;\n",
              "    }\n",
              "\n",
              "    .colab-df-convert {\n",
              "      background-color: #E8F0FE;\n",
              "      border: none;\n",
              "      border-radius: 50%;\n",
              "      cursor: pointer;\n",
              "      display: none;\n",
              "      fill: #1967D2;\n",
              "      height: 32px;\n",
              "      padding: 0 0 0 0;\n",
              "      width: 32px;\n",
              "    }\n",
              "\n",
              "    .colab-df-convert:hover {\n",
              "      background-color: #E2EBFA;\n",
              "      box-shadow: 0px 1px 2px rgba(60, 64, 67, 0.3), 0px 1px 3px 1px rgba(60, 64, 67, 0.15);\n",
              "      fill: #174EA6;\n",
              "    }\n",
              "\n",
              "    [theme=dark] .colab-df-convert {\n",
              "      background-color: #3B4455;\n",
              "      fill: #D2E3FC;\n",
              "    }\n",
              "\n",
              "    [theme=dark] .colab-df-convert:hover {\n",
              "      background-color: #434B5C;\n",
              "      box-shadow: 0px 1px 3px 1px rgba(0, 0, 0, 0.15);\n",
              "      filter: drop-shadow(0px 1px 2px rgba(0, 0, 0, 0.3));\n",
              "      fill: #FFFFFF;\n",
              "    }\n",
              "  </style>\n",
              "\n",
              "      <script>\n",
              "        const buttonEl =\n",
              "          document.querySelector('#df-5a20f29d-9323-44ba-a249-074940d75eda button.colab-df-convert');\n",
              "        buttonEl.style.display =\n",
              "          google.colab.kernel.accessAllowed ? 'block' : 'none';\n",
              "\n",
              "        async function convertToInteractive(key) {\n",
              "          const element = document.querySelector('#df-5a20f29d-9323-44ba-a249-074940d75eda');\n",
              "          const dataTable =\n",
              "            await google.colab.kernel.invokeFunction('convertToInteractive',\n",
              "                                                     [key], {});\n",
              "          if (!dataTable) return;\n",
              "\n",
              "          const docLinkHtml = 'Like what you see? Visit the ' +\n",
              "            '<a target=\"_blank\" href=https://colab.research.google.com/notebooks/data_table.ipynb>data table notebook</a>'\n",
              "            + ' to learn more about interactive tables.';\n",
              "          element.innerHTML = '';\n",
              "          dataTable['output_type'] = 'display_data';\n",
              "          await google.colab.output.renderOutput(dataTable, element);\n",
              "          const docLink = document.createElement('div');\n",
              "          docLink.innerHTML = docLinkHtml;\n",
              "          element.appendChild(docLink);\n",
              "        }\n",
              "      </script>\n",
              "    </div>\n",
              "  </div>\n",
              "  "
            ]
          },
          "metadata": {},
          "execution_count": 62
        }
      ]
    },
    {
      "cell_type": "code",
      "source": [],
      "metadata": {
        "id": "KE7gVKSL72pA"
      },
      "execution_count": 62,
      "outputs": []
    },
    {
      "cell_type": "markdown",
      "source": [
        "## Os dados do projeto AVILA são referentes as informações extraidas das imagens das páginas copiadas da biblía de AVILA.\n",
        "## As CLASSES de [A, B, C, D, E, F, G, H, I, W, X, Y] fazem referência a qual copiador foi responsavel por aquele trecho/página\n",
        "## Então, a ideia é conseguir criar um bom classificador, que consiga por meio das informações extraidas dos trechos das páginas [F1,F2,F3,F4,F5,F6,F6,F7,F8,F9,F10] consiga-se identificar quem foi o copiador responsavél"
      ],
      "metadata": {
        "id": "4kOjuTpVxF2z"
      }
    },
    {
      "cell_type": "code",
      "source": [],
      "metadata": {
        "id": "9KWBtVUmxFBs"
      },
      "execution_count": 62,
      "outputs": []
    },
    {
      "cell_type": "markdown",
      "source": [
        "#Decision Tree Classifier"
      ],
      "metadata": {
        "id": "7Yei0Kn96tAM"
      }
    },
    {
      "cell_type": "code",
      "source": [
        "from sklearn.tree import DecisionTreeClassifier"
      ],
      "metadata": {
        "id": "rbRKGzqhzBC3"
      },
      "execution_count": 63,
      "outputs": []
    },
    {
      "cell_type": "markdown",
      "source": [
        "### Separando o DATASET de TREINAMENTO, utilizando 80% para o treino e 20% de seus valores para VALIDAÇÃO"
      ],
      "metadata": {
        "id": "kO8apkZN7XU5"
      }
    },
    {
      "cell_type": "code",
      "source": [
        "X_train,X_valid,y_train,y_valid = train_test_split(df_train.drop(\"Class\",axis=1), df_train[\"Class\"],test_size=0.2)\n",
        "X_train.shape,y_train.shape,X_valid.shape,y_valid.shape"
      ],
      "metadata": {
        "colab": {
          "base_uri": "https://localhost:8080/"
        },
        "id": "FCZBlYXm6yOO",
        "outputId": "14b69c64-4d48-4760-e33e-c5a00d1561a4"
      },
      "execution_count": 64,
      "outputs": [
        {
          "output_type": "execute_result",
          "data": {
            "text/plain": [
              "((8344, 10), (8344,), (2086, 10), (2086,))"
            ]
          },
          "metadata": {},
          "execution_count": 64
        }
      ]
    },
    {
      "cell_type": "markdown",
      "source": [
        "### O primeiro classificador que iremos testar é o DECISION TREE CLASSIFIER"
      ],
      "metadata": {
        "id": "CDwJLukK7nl0"
      }
    },
    {
      "cell_type": "code",
      "source": [
        "from sklearn.tree import DecisionTreeClassifier"
      ],
      "metadata": {
        "id": "wM7zDvP17iQS"
      },
      "execution_count": 65,
      "outputs": []
    },
    {
      "cell_type": "markdown",
      "source": [
        "### Utilizando os 80% para realizar o treinamento do modelo"
      ],
      "metadata": {
        "id": "yKhzCRrIBhge"
      }
    },
    {
      "cell_type": "code",
      "source": [
        "clf = DecisionTreeClassifier()\n",
        "clf.fit(X_train, y_train)"
      ],
      "metadata": {
        "colab": {
          "base_uri": "https://localhost:8080/"
        },
        "id": "yaP2d9fg8y9J",
        "outputId": "00f9c362-05f5-430c-82ad-31b869b41711"
      },
      "execution_count": 89,
      "outputs": [
        {
          "output_type": "execute_result",
          "data": {
            "text/plain": [
              "DecisionTreeClassifier()"
            ]
          },
          "metadata": {},
          "execution_count": 89
        }
      ]
    },
    {
      "cell_type": "markdown",
      "source": [
        "### Agora vamos verificar os valores de suas predições, tanto para o dataset de TEST quanto para o de VALID, que corresponde a 20% do dataframe de TEST inicialmente"
      ],
      "metadata": {
        "id": "XseNrOwNBmed"
      }
    },
    {
      "cell_type": "code",
      "source": [
        "y_pred_valid = clf.predict(X_valid)\n",
        "y_pred_test = clf.predict(X_test)"
      ],
      "metadata": {
        "id": "j0n8_vD69JMI"
      },
      "execution_count": 85,
      "outputs": []
    },
    {
      "cell_type": "markdown",
      "source": [
        "### Verificando o comportamento dessas PREDIÇÕES"
      ],
      "metadata": {
        "id": "a5DZc33ABwUY"
      }
    },
    {
      "cell_type": "code",
      "source": [
        "metrics(y_valid, y_pred_valid)"
      ],
      "metadata": {
        "colab": {
          "base_uri": "https://localhost:8080/"
        },
        "id": "QrZpaiXRBNsA",
        "outputId": "1ba58ea3-1d1b-4e16-f3da-2ae457fc112e"
      },
      "execution_count": 87,
      "outputs": [
        {
          "output_type": "stream",
          "name": "stdout",
          "text": [
            "[[825   0   0   1   2   9   4   1   0   0   2   1]\n",
            " [  0   2   0   0   0   0   0   0   0   0   0   0]\n",
            " [  0   0  20   1   1   1   0   0   0   0   0   0]\n",
            " [  0   0   0  72   0   0   0   0   0   1   0   0]\n",
            " [  5   0   0   7 205   2   0   1   1   0   5   0]\n",
            " [  5   0   0   0   0 376   2   0   0   0   0   0]\n",
            " [  0   0   0   0   0   0  93   0   0   0   0   0]\n",
            " [  4   0   0   0   1   2   0 105   0   0   0   0]\n",
            " [  1   0   0   0   0   0   0   0 163   0   0   1]\n",
            " [  0   0   0   0   0   0   0   0   3   6   0   0]\n",
            " [  3   0   0   0   2   0   0   0   0   0  94   0]\n",
            " [  0   0   0   0   2   0   0   1   0   0   1  52]]\n",
            "              precision    recall  f1-score   support\n",
            "\n",
            "           A       0.98      0.98      0.98       845\n",
            "           B       1.00      1.00      1.00         2\n",
            "           C       1.00      0.87      0.93        23\n",
            "           D       0.89      0.99      0.94        73\n",
            "           E       0.96      0.91      0.93       226\n",
            "           F       0.96      0.98      0.97       383\n",
            "           G       0.94      1.00      0.97        93\n",
            "           H       0.97      0.94      0.95       112\n",
            "           I       0.98      0.99      0.98       165\n",
            "           W       0.86      0.67      0.75         9\n",
            "           X       0.92      0.95      0.94        99\n",
            "           Y       0.96      0.93      0.95        56\n",
            "\n",
            "    accuracy                           0.97      2086\n",
            "   macro avg       0.95      0.93      0.94      2086\n",
            "weighted avg       0.97      0.97      0.96      2086\n",
            "\n",
            "0.9650047938638543\n"
          ]
        }
      ]
    },
    {
      "cell_type": "code",
      "source": [
        "metrics(y_test, y_pred_test)"
      ],
      "metadata": {
        "colab": {
          "base_uri": "https://localhost:8080/"
        },
        "id": "87QM3REw-wwg",
        "outputId": "4c531478-28f5-47bf-9e25-ae9e3427a3b1"
      },
      "execution_count": 88,
      "outputs": [
        {
          "output_type": "stream",
          "name": "stdout",
          "text": [
            "[[4192    0    1    4   24   33   11    9    4    0    5    3]\n",
            " [   0    5    0    0    0    0    0    0    0    0    0    0]\n",
            " [   4    0   94    2    2    0    0    1    0    0    0    0]\n",
            " [   0    0    0  345    5    0    0    0    0    1    2    0]\n",
            " [  29    0    0    8 1026    7    1    8    0    0   15    1]\n",
            " [  32    0    1    3    1 1909   10    6    0    0    0    0]\n",
            " [   8    0    0    0    0    1  436    2    0    0    0    0]\n",
            " [   8    0    3    0    3   17    0  487    0    0    1    1]\n",
            " [   3    0    0    0    0    0    0    2  824    2    1    0]\n",
            " [   0    0    0    1    0    0    0    0    1   43    0    0]\n",
            " [   8    0    0    3   13    0    0    0    1    0  484   13]\n",
            " [   3    0    0    0    0    0    0    4    0    0   11  249]]\n",
            "              precision    recall  f1-score   support\n",
            "\n",
            "           A       0.98      0.98      0.98      4286\n",
            "           B       1.00      1.00      1.00         5\n",
            "           C       0.95      0.91      0.93       103\n",
            "           D       0.94      0.98      0.96       353\n",
            "           E       0.96      0.94      0.95      1095\n",
            "           F       0.97      0.97      0.97      1962\n",
            "           G       0.95      0.98      0.96       447\n",
            "           H       0.94      0.94      0.94       520\n",
            "           I       0.99      0.99      0.99       832\n",
            "           W       0.93      0.96      0.95        45\n",
            "           X       0.93      0.93      0.93       522\n",
            "           Y       0.93      0.93      0.93       267\n",
            "\n",
            "    accuracy                           0.97     10437\n",
            "   macro avg       0.96      0.96      0.96     10437\n",
            "weighted avg       0.97      0.97      0.97     10437\n",
            "\n",
            "0.9671361502347418\n"
          ]
        }
      ]
    },
    {
      "cell_type": "code",
      "source": [],
      "metadata": {
        "id": "YqF4hmJnAjrD"
      },
      "execution_count": null,
      "outputs": []
    },
    {
      "cell_type": "code",
      "source": [],
      "metadata": {
        "id": "caQRJQR8Ajxj"
      },
      "execution_count": null,
      "outputs": []
    }
  ]
}