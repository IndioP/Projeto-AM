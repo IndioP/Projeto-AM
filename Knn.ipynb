{
  "cells": [
    {
      "cell_type": "markdown",
      "metadata": {
        "id": "view-in-github",
        "colab_type": "text"
      },
      "source": [
        "<a href=\"https://colab.research.google.com/github/IndioP/Projeto-AM/blob/main/Knn.ipynb\" target=\"_parent\"><img src=\"https://colab.research.google.com/assets/colab-badge.svg\" alt=\"Open In Colab\"/></a>"
      ]
    },
    {
      "cell_type": "code",
      "execution_count": 1,
      "metadata": {
        "colab": {
          "base_uri": "https://localhost:8080/"
        },
        "id": "3fowlwl44XDu",
        "outputId": "d53b5cca-3f12-4805-8232-1813e2002050"
      },
      "outputs": [
        {
          "output_type": "stream",
          "name": "stdout",
          "text": [
            "Cloning into 'Projeto-AM'...\n",
            "remote: Enumerating objects: 35, done.\u001b[K\n",
            "remote: Counting objects: 100% (35/35), done.\u001b[K\n",
            "remote: Compressing objects: 100% (33/33), done.\u001b[K\n",
            "remote: Total 35 (delta 17), reused 3 (delta 2), pack-reused 0\u001b[K\n",
            "Unpacking objects: 100% (35/35), 703.55 KiB | 2.40 MiB/s, done.\n"
          ]
        }
      ],
      "source": [
        "!git clone https://github.com/IndioP/Projeto-AM"
      ]
    },
    {
      "cell_type": "code",
      "execution_count": 35,
      "metadata": {
        "colab": {
          "base_uri": "https://localhost:8080/"
        },
        "id": "zkZFB8s8SzCL",
        "outputId": "a5be1ea8-469e-41d7-c790-8ec404600e77"
      },
      "outputs": [
        {
          "output_type": "stream",
          "name": "stdout",
          "text": [
            "Looking in indexes: https://pypi.org/simple, https://us-python.pkg.dev/colab-wheels/public/simple/\n",
            "Collecting optuna\n",
            "  Downloading optuna-3.1.0-py3-none-any.whl (365 kB)\n",
            "\u001b[2K     \u001b[90m━━━━━━━━━━━━━━━━━━━━━━━━━━━━━━━━━━━━━━\u001b[0m \u001b[32m365.3/365.3 KB\u001b[0m \u001b[31m20.1 MB/s\u001b[0m eta \u001b[36m0:00:00\u001b[0m\n",
            "\u001b[?25hRequirement already satisfied: sqlalchemy>=1.3.0 in /usr/local/lib/python3.8/dist-packages (from optuna) (1.4.46)\n",
            "Collecting cmaes>=0.9.1\n",
            "  Downloading cmaes-0.9.1-py3-none-any.whl (21 kB)\n",
            "Requirement already satisfied: tqdm in /usr/local/lib/python3.8/dist-packages (from optuna) (4.64.1)\n",
            "Requirement already satisfied: packaging>=20.0 in /usr/local/lib/python3.8/dist-packages (from optuna) (23.0)\n",
            "Requirement already satisfied: PyYAML in /usr/local/lib/python3.8/dist-packages (from optuna) (6.0)\n",
            "Requirement already satisfied: numpy in /usr/local/lib/python3.8/dist-packages (from optuna) (1.22.4)\n",
            "Collecting colorlog\n",
            "  Downloading colorlog-6.7.0-py2.py3-none-any.whl (11 kB)\n",
            "Collecting alembic>=1.5.0\n",
            "  Downloading alembic-1.9.4-py3-none-any.whl (210 kB)\n",
            "\u001b[2K     \u001b[90m━━━━━━━━━━━━━━━━━━━━━━━━━━━━━━━━━━━━━━\u001b[0m \u001b[32m210.5/210.5 KB\u001b[0m \u001b[31m21.9 MB/s\u001b[0m eta \u001b[36m0:00:00\u001b[0m\n",
            "\u001b[?25hCollecting Mako\n",
            "  Downloading Mako-1.2.4-py3-none-any.whl (78 kB)\n",
            "\u001b[2K     \u001b[90m━━━━━━━━━━━━━━━━━━━━━━━━━━━━━━━━━━━━━━━━\u001b[0m \u001b[32m78.7/78.7 KB\u001b[0m \u001b[31m7.8 MB/s\u001b[0m eta \u001b[36m0:00:00\u001b[0m\n",
            "\u001b[?25hRequirement already satisfied: importlib-metadata in /usr/local/lib/python3.8/dist-packages (from alembic>=1.5.0->optuna) (6.0.0)\n",
            "Requirement already satisfied: importlib-resources in /usr/local/lib/python3.8/dist-packages (from alembic>=1.5.0->optuna) (5.12.0)\n",
            "Requirement already satisfied: greenlet!=0.4.17 in /usr/local/lib/python3.8/dist-packages (from sqlalchemy>=1.3.0->optuna) (2.0.2)\n",
            "Requirement already satisfied: zipp>=0.5 in /usr/local/lib/python3.8/dist-packages (from importlib-metadata->alembic>=1.5.0->optuna) (3.15.0)\n",
            "Requirement already satisfied: MarkupSafe>=0.9.2 in /usr/local/lib/python3.8/dist-packages (from Mako->alembic>=1.5.0->optuna) (2.1.2)\n",
            "Installing collected packages: Mako, colorlog, cmaes, alembic, optuna\n",
            "Successfully installed Mako-1.2.4 alembic-1.9.4 cmaes-0.9.1 colorlog-6.7.0 optuna-3.1.0\n"
          ]
        }
      ],
      "source": [
        "!pip install optuna"
      ]
    },
    {
      "cell_type": "code",
      "execution_count": 2,
      "metadata": {
        "id": "iorlHYAJKVxz"
      },
      "outputs": [],
      "source": [
        "import pandas as pd"
      ]
    },
    {
      "cell_type": "code",
      "execution_count": 3,
      "metadata": {
        "id": "h8HjT3TMJzQK"
      },
      "outputs": [],
      "source": [
        "names = ['F1','F2','F3','F4','F5','F6','F7','F8','F9','F10','Class']\n",
        "df = pd.read_csv(\"Projeto-AM/avila-tr.txt\",names = names)"
      ]
    },
    {
      "cell_type": "code",
      "execution_count": 4,
      "metadata": {
        "colab": {
          "base_uri": "https://localhost:8080/",
          "height": 206
        },
        "id": "Wz9UqFngKnOs",
        "outputId": "f8a36f64-ab36-4762-e709-faca5b2a9145"
      },
      "outputs": [
        {
          "output_type": "execute_result",
          "data": {
            "text/plain": [
              "         F1        F2        F3        F4        F5        F6        F7  \\\n",
              "0  0.266074 -0.165620  0.320980  0.483299  0.172340  0.273364  0.371178   \n",
              "1  0.130292  0.870736 -3.210528  0.062493  0.261718  1.436060  1.465940   \n",
              "2 -0.116585  0.069915  0.068476 -0.783147  0.261718  0.439463 -0.081827   \n",
              "3  0.031541  0.297600 -3.210528 -0.583590 -0.721442 -0.307984  0.710932   \n",
              "4  0.229043  0.807926 -0.052442  0.082634  0.261718  0.148790  0.635431   \n",
              "\n",
              "         F8        F9       F10 Class  \n",
              "0  0.929823  0.251173  0.159345     A  \n",
              "1  0.636203  0.282354  0.515587     A  \n",
              "2 -0.888236 -0.123005  0.582939     A  \n",
              "3  1.051693  0.594169 -0.533994     A  \n",
              "4  0.051062  0.032902 -0.086652     F  "
            ],
            "text/html": [
              "\n",
              "  <div id=\"df-1f45e099-c7fb-4c93-ba1b-7cb72109ce1a\">\n",
              "    <div class=\"colab-df-container\">\n",
              "      <div>\n",
              "<style scoped>\n",
              "    .dataframe tbody tr th:only-of-type {\n",
              "        vertical-align: middle;\n",
              "    }\n",
              "\n",
              "    .dataframe tbody tr th {\n",
              "        vertical-align: top;\n",
              "    }\n",
              "\n",
              "    .dataframe thead th {\n",
              "        text-align: right;\n",
              "    }\n",
              "</style>\n",
              "<table border=\"1\" class=\"dataframe\">\n",
              "  <thead>\n",
              "    <tr style=\"text-align: right;\">\n",
              "      <th></th>\n",
              "      <th>F1</th>\n",
              "      <th>F2</th>\n",
              "      <th>F3</th>\n",
              "      <th>F4</th>\n",
              "      <th>F5</th>\n",
              "      <th>F6</th>\n",
              "      <th>F7</th>\n",
              "      <th>F8</th>\n",
              "      <th>F9</th>\n",
              "      <th>F10</th>\n",
              "      <th>Class</th>\n",
              "    </tr>\n",
              "  </thead>\n",
              "  <tbody>\n",
              "    <tr>\n",
              "      <th>0</th>\n",
              "      <td>0.266074</td>\n",
              "      <td>-0.165620</td>\n",
              "      <td>0.320980</td>\n",
              "      <td>0.483299</td>\n",
              "      <td>0.172340</td>\n",
              "      <td>0.273364</td>\n",
              "      <td>0.371178</td>\n",
              "      <td>0.929823</td>\n",
              "      <td>0.251173</td>\n",
              "      <td>0.159345</td>\n",
              "      <td>A</td>\n",
              "    </tr>\n",
              "    <tr>\n",
              "      <th>1</th>\n",
              "      <td>0.130292</td>\n",
              "      <td>0.870736</td>\n",
              "      <td>-3.210528</td>\n",
              "      <td>0.062493</td>\n",
              "      <td>0.261718</td>\n",
              "      <td>1.436060</td>\n",
              "      <td>1.465940</td>\n",
              "      <td>0.636203</td>\n",
              "      <td>0.282354</td>\n",
              "      <td>0.515587</td>\n",
              "      <td>A</td>\n",
              "    </tr>\n",
              "    <tr>\n",
              "      <th>2</th>\n",
              "      <td>-0.116585</td>\n",
              "      <td>0.069915</td>\n",
              "      <td>0.068476</td>\n",
              "      <td>-0.783147</td>\n",
              "      <td>0.261718</td>\n",
              "      <td>0.439463</td>\n",
              "      <td>-0.081827</td>\n",
              "      <td>-0.888236</td>\n",
              "      <td>-0.123005</td>\n",
              "      <td>0.582939</td>\n",
              "      <td>A</td>\n",
              "    </tr>\n",
              "    <tr>\n",
              "      <th>3</th>\n",
              "      <td>0.031541</td>\n",
              "      <td>0.297600</td>\n",
              "      <td>-3.210528</td>\n",
              "      <td>-0.583590</td>\n",
              "      <td>-0.721442</td>\n",
              "      <td>-0.307984</td>\n",
              "      <td>0.710932</td>\n",
              "      <td>1.051693</td>\n",
              "      <td>0.594169</td>\n",
              "      <td>-0.533994</td>\n",
              "      <td>A</td>\n",
              "    </tr>\n",
              "    <tr>\n",
              "      <th>4</th>\n",
              "      <td>0.229043</td>\n",
              "      <td>0.807926</td>\n",
              "      <td>-0.052442</td>\n",
              "      <td>0.082634</td>\n",
              "      <td>0.261718</td>\n",
              "      <td>0.148790</td>\n",
              "      <td>0.635431</td>\n",
              "      <td>0.051062</td>\n",
              "      <td>0.032902</td>\n",
              "      <td>-0.086652</td>\n",
              "      <td>F</td>\n",
              "    </tr>\n",
              "  </tbody>\n",
              "</table>\n",
              "</div>\n",
              "      <button class=\"colab-df-convert\" onclick=\"convertToInteractive('df-1f45e099-c7fb-4c93-ba1b-7cb72109ce1a')\"\n",
              "              title=\"Convert this dataframe to an interactive table.\"\n",
              "              style=\"display:none;\">\n",
              "        \n",
              "  <svg xmlns=\"http://www.w3.org/2000/svg\" height=\"24px\"viewBox=\"0 0 24 24\"\n",
              "       width=\"24px\">\n",
              "    <path d=\"M0 0h24v24H0V0z\" fill=\"none\"/>\n",
              "    <path d=\"M18.56 5.44l.94 2.06.94-2.06 2.06-.94-2.06-.94-.94-2.06-.94 2.06-2.06.94zm-11 1L8.5 8.5l.94-2.06 2.06-.94-2.06-.94L8.5 2.5l-.94 2.06-2.06.94zm10 10l.94 2.06.94-2.06 2.06-.94-2.06-.94-.94-2.06-.94 2.06-2.06.94z\"/><path d=\"M17.41 7.96l-1.37-1.37c-.4-.4-.92-.59-1.43-.59-.52 0-1.04.2-1.43.59L10.3 9.45l-7.72 7.72c-.78.78-.78 2.05 0 2.83L4 21.41c.39.39.9.59 1.41.59.51 0 1.02-.2 1.41-.59l7.78-7.78 2.81-2.81c.8-.78.8-2.07 0-2.86zM5.41 20L4 18.59l7.72-7.72 1.47 1.35L5.41 20z\"/>\n",
              "  </svg>\n",
              "      </button>\n",
              "      \n",
              "  <style>\n",
              "    .colab-df-container {\n",
              "      display:flex;\n",
              "      flex-wrap:wrap;\n",
              "      gap: 12px;\n",
              "    }\n",
              "\n",
              "    .colab-df-convert {\n",
              "      background-color: #E8F0FE;\n",
              "      border: none;\n",
              "      border-radius: 50%;\n",
              "      cursor: pointer;\n",
              "      display: none;\n",
              "      fill: #1967D2;\n",
              "      height: 32px;\n",
              "      padding: 0 0 0 0;\n",
              "      width: 32px;\n",
              "    }\n",
              "\n",
              "    .colab-df-convert:hover {\n",
              "      background-color: #E2EBFA;\n",
              "      box-shadow: 0px 1px 2px rgba(60, 64, 67, 0.3), 0px 1px 3px 1px rgba(60, 64, 67, 0.15);\n",
              "      fill: #174EA6;\n",
              "    }\n",
              "\n",
              "    [theme=dark] .colab-df-convert {\n",
              "      background-color: #3B4455;\n",
              "      fill: #D2E3FC;\n",
              "    }\n",
              "\n",
              "    [theme=dark] .colab-df-convert:hover {\n",
              "      background-color: #434B5C;\n",
              "      box-shadow: 0px 1px 3px 1px rgba(0, 0, 0, 0.15);\n",
              "      filter: drop-shadow(0px 1px 2px rgba(0, 0, 0, 0.3));\n",
              "      fill: #FFFFFF;\n",
              "    }\n",
              "  </style>\n",
              "\n",
              "      <script>\n",
              "        const buttonEl =\n",
              "          document.querySelector('#df-1f45e099-c7fb-4c93-ba1b-7cb72109ce1a button.colab-df-convert');\n",
              "        buttonEl.style.display =\n",
              "          google.colab.kernel.accessAllowed ? 'block' : 'none';\n",
              "\n",
              "        async function convertToInteractive(key) {\n",
              "          const element = document.querySelector('#df-1f45e099-c7fb-4c93-ba1b-7cb72109ce1a');\n",
              "          const dataTable =\n",
              "            await google.colab.kernel.invokeFunction('convertToInteractive',\n",
              "                                                     [key], {});\n",
              "          if (!dataTable) return;\n",
              "\n",
              "          const docLinkHtml = 'Like what you see? Visit the ' +\n",
              "            '<a target=\"_blank\" href=https://colab.research.google.com/notebooks/data_table.ipynb>data table notebook</a>'\n",
              "            + ' to learn more about interactive tables.';\n",
              "          element.innerHTML = '';\n",
              "          dataTable['output_type'] = 'display_data';\n",
              "          await google.colab.output.renderOutput(dataTable, element);\n",
              "          const docLink = document.createElement('div');\n",
              "          docLink.innerHTML = docLinkHtml;\n",
              "          element.appendChild(docLink);\n",
              "        }\n",
              "      </script>\n",
              "    </div>\n",
              "  </div>\n",
              "  "
            ]
          },
          "metadata": {},
          "execution_count": 4
        }
      ],
      "source": [
        "df.head()"
      ]
    },
    {
      "cell_type": "code",
      "execution_count": 5,
      "metadata": {
        "id": "--9H3OojKpV0"
      },
      "outputs": [],
      "source": [
        "from sklearn.model_selection import train_test_split"
      ]
    },
    {
      "cell_type": "code",
      "execution_count": 6,
      "metadata": {
        "id": "2INz5S4JK_1N"
      },
      "outputs": [],
      "source": [
        "X_train,X_valid,y_train,y_valid = train_test_split(df.drop(\"Class\",axis=1), df[\"Class\"],test_size=0.2,random_state=2023)"
      ]
    },
    {
      "cell_type": "code",
      "execution_count": 7,
      "metadata": {
        "colab": {
          "base_uri": "https://localhost:8080/"
        },
        "id": "4TIm0U14LQZN",
        "outputId": "573da162-d898-40a3-fda0-4d91805723a4"
      },
      "outputs": [
        {
          "output_type": "execute_result",
          "data": {
            "text/plain": [
              "((8344, 10), (8344,), (2086, 10), (2086,))"
            ]
          },
          "metadata": {},
          "execution_count": 7
        }
      ],
      "source": [
        "X_train.shape,y_train.shape,X_valid.shape,y_valid.shape"
      ]
    },
    {
      "cell_type": "code",
      "execution_count": 8,
      "metadata": {
        "id": "smM-R6KfLSWT"
      },
      "outputs": [],
      "source": [
        "\n",
        "from sklearn.neighbors import KNeighborsClassifier"
      ]
    },
    {
      "cell_type": "code",
      "execution_count": 9,
      "metadata": {
        "id": "8SAo3V0qQt-N"
      },
      "outputs": [],
      "source": [
        "from sklearn.metrics import f1_score,recall_score,precision_score"
      ]
    },
    {
      "cell_type": "code",
      "execution_count": 10,
      "metadata": {
        "id": "rFm0n_-4Dzgn"
      },
      "outputs": [],
      "source": [
        "import numpy as np\n",
        "import matplotlib.pyplot as plt"
      ]
    },
    {
      "cell_type": "code",
      "execution_count": 11,
      "metadata": {
        "id": "2ZOL-TaTKOtO"
      },
      "outputs": [],
      "source": [
        "import seaborn as sns"
      ]
    },
    {
      "cell_type": "code",
      "execution_count": 12,
      "metadata": {
        "id": "sRy7rcexMfMx"
      },
      "outputs": [],
      "source": [
        "df = pd.read_csv(\"Projeto-AM/avila-ts.txt\",names=names)"
      ]
    },
    {
      "cell_type": "code",
      "execution_count": 13,
      "metadata": {
        "id": "YVsQkGq1Qncf"
      },
      "outputs": [],
      "source": [
        "X_test = df.drop(\"Class\",axis=1)\n",
        "y_test = df[\"Class\"]"
      ]
    },
    {
      "cell_type": "code",
      "source": [
        "def check_f1_test(clf,X_test,y_test):\n",
        "  pred = clf.predict(X_test)\n",
        "  print(\"f1\",f1_score(pred,y_test,average=\"weighted\"))\n",
        "  print(\"recall\",recall_score(pred,y_test,average=\"weighted\"))\n",
        "  print(\"precision\",precision_score(pred,y_test,average=\"weighted\"))"
      ],
      "metadata": {
        "id": "zA3gWBjA529r"
      },
      "execution_count": 15,
      "outputs": []
    },
    {
      "cell_type": "code",
      "source": [],
      "metadata": {
        "id": "qjt9-gEBV9Tq"
      },
      "execution_count": null,
      "outputs": []
    },
    {
      "cell_type": "markdown",
      "metadata": {
        "id": "ykbMCvn_8SDY"
      },
      "source": [
        "# KNN parameters\n",
        "\n",
        "n_neighbors int, default=5\n",
        "\n",
        "weights {‘uniform’, ‘distance’}, callable or None, default=’uniform’\n",
        "\n",
        "algorithm {‘auto’, ‘ball_tree’, ‘kd_tree’, ‘brute’}, default=’auto’\n",
        "\n",
        "leaf_size int, default=30\n",
        "\n",
        "p int, default=2\n",
        "\n",
        "metric str or callable, default=’minkowski’\n"
      ]
    },
    {
      "cell_type": "code",
      "source": [
        "import numpy as np\n",
        "import matplotlib.pyplot as plt\n",
        "\n",
        "results_val = []\n",
        "results_train = []\n",
        "n_s = range(1,10)\n",
        "for n_neighbors in n_s:\n",
        "  clf = KNeighborsClassifier(n_neighbors = n_neighbors)\n",
        "  clf.fit(X_train,y_train)\n",
        "  pred = clf.predict(X_valid)\n",
        "  results_val.append(f1_score(pred,y_valid,average=\"weighted\"))\n",
        "  pred = clf.predict(X_train)\n",
        "  results_train.append(f1_score(pred,y_train,average=\"weighted\"))\n",
        "\n",
        "plt.plot(n_s,results_val,label='val')\n",
        "plt.plot(n_s,results_train,label='train')\n",
        "plt.ylabel(\"f1-score\")\n",
        "plt.xlabel(\"n_neighbors\")\n",
        "plt.legend()"
      ],
      "metadata": {
        "colab": {
          "base_uri": "https://localhost:8080/",
          "height": 298
        },
        "id": "4v0TBzuIWLjd",
        "outputId": "34059e40-2189-44c6-8580-4fbde73ff030"
      },
      "execution_count": 19,
      "outputs": [
        {
          "output_type": "execute_result",
          "data": {
            "text/plain": [
              "<matplotlib.legend.Legend at 0x7f2605d25ac0>"
            ]
          },
          "metadata": {},
          "execution_count": 19
        },
        {
          "output_type": "display_data",
          "data": {
            "text/plain": [
              "<Figure size 432x288 with 1 Axes>"
            ],
            "image/png": "[encoded data removed]"
          },
          "metadata": {
            "needs_background": "light"
          }
        }
      ]
    },
    {
      "cell_type": "code",
      "source": [
        "def make_df_metrics(methods,results_train,results_val):\n",
        "  return pd.concat([pd.DataFrame({\"x\":methods,'y':results_train,'label':['train']*len(results_train)}),pd.DataFrame({\"x\":methods,'y':results_val,'label':['val']*len(results_val)})])\n"
      ],
      "metadata": {
        "id": "4l7ylQy1cmjk"
      },
      "execution_count": 20,
      "outputs": []
    },
    {
      "cell_type": "code",
      "source": [
        "\n",
        "results_val = []\n",
        "results_train = []\n",
        "metrics = ['cityblock','cosine','euclidean','l1','l2','manhattan','nan_euclidean']\n",
        "#'haversine'\n",
        "for x in metrics:\n",
        "  clf = KNeighborsClassifier(metric = x)\n",
        "  clf.fit(X_train,y_train)\n",
        "  pred = clf.predict(X_valid)\n",
        "  results_val.append(f1_score(pred,y_valid,average=\"weighted\"))\n",
        "  pred = clf.predict(X_train)\n",
        "  results_train.append(f1_score(pred,y_train,average=\"weighted\"))\n",
        "  \n",
        "for x in range(3,8):\n",
        "  metrics.append(f'minkowski_p{x}')\n",
        "  clf = KNeighborsClassifier(metric = 'minkowski',p=x)\n",
        "  clf.fit(X_train,y_train)\n",
        "  pred = clf.predict(X_valid)\n",
        "  results_val.append(f1_score(pred,y_valid,average=\"weighted\"))\n",
        "  pred = clf.predict(X_train)\n",
        "  results_train.append(f1_score(pred,y_train,average=\"weighted\"))\n",
        "\n",
        "df_metrics = make_df_metrics(metrics,results_train,results_val)"
      ],
      "metadata": {
        "id": "raTy9f5XbDsn"
      },
      "execution_count": 22,
      "outputs": []
    },
    {
      "cell_type": "code",
      "source": [
        "sns.barplot(data=df_metrics,y='x',x='y',hue='label')\n",
        "plt.ylabel(\"metrics\")\n",
        "plt.xlabel(\"f1_score\")\n",
        "plt.xlim(0.6, 1.0)"
      ],
      "metadata": {
        "colab": {
          "base_uri": "https://localhost:8080/",
          "height": 298
        },
        "id": "ERGZNT5dcow_",
        "outputId": "2fe7cd37-b94d-4ae8-bb74-98c2330a107d"
      },
      "execution_count": 25,
      "outputs": [
        {
          "output_type": "execute_result",
          "data": {
            "text/plain": [
              "(0.6, 1.0)"
            ]
          },
          "metadata": {},
          "execution_count": 25
        },
        {
          "output_type": "display_data",
          "data": {
            "text/plain": [
              "<Figure size 432x288 with 1 Axes>"
            ],
            "image/png": "[encoded data removed]"
          },
          "metadata": {
            "needs_background": "light"
          }
        }
      ]
    },
    {
      "cell_type": "code",
      "source": [
        "df_metrics.sort_values(by='y',ascending=False).groupby(by='label').head(4)"
      ],
      "metadata": {
        "colab": {
          "base_uri": "https://localhost:8080/",
          "height": 300
        },
        "id": "WIa9KM4cctiS",
        "outputId": "a467b2b3-088e-495a-db4d-646f8856c5fd"
      },
      "execution_count": 28,
      "outputs": [
        {
          "output_type": "execute_result",
          "data": {
            "text/plain": [
              "           x         y  label\n",
              "0  cityblock  0.878461  train\n",
              "3         l1  0.878461  train\n",
              "5  manhattan  0.878461  train\n",
              "2  euclidean  0.821596  train\n",
              "5  manhattan  0.800712    val\n",
              "3         l1  0.800712    val\n",
              "0  cityblock  0.800712    val\n",
              "2  euclidean  0.722539    val"
            ],
            "text/html": [
              "\n",
              "  <div id=\"df-e48bbe21-579e-4d60-aafc-fae5e998185f\">\n",
              "    <div class=\"colab-df-container\">\n",
              "      <div>\n",
              "<style scoped>\n",
              "    .dataframe tbody tr th:only-of-type {\n",
              "        vertical-align: middle;\n",
              "    }\n",
              "\n",
              "    .dataframe tbody tr th {\n",
              "        vertical-align: top;\n",
              "    }\n",
              "\n",
              "    .dataframe thead th {\n",
              "        text-align: right;\n",
              "    }\n",
              "</style>\n",
              "<table border=\"1\" class=\"dataframe\">\n",
              "  <thead>\n",
              "    <tr style=\"text-align: right;\">\n",
              "      <th></th>\n",
              "      <th>x</th>\n",
              "      <th>y</th>\n",
              "      <th>label</th>\n",
              "    </tr>\n",
              "  </thead>\n",
              "  <tbody>\n",
              "    <tr>\n",
              "      <th>0</th>\n",
              "      <td>cityblock</td>\n",
              "      <td>0.878461</td>\n",
              "      <td>train</td>\n",
              "    </tr>\n",
              "    <tr>\n",
              "      <th>3</th>\n",
              "      <td>l1</td>\n",
              "      <td>0.878461</td>\n",
              "      <td>train</td>\n",
              "    </tr>\n",
              "    <tr>\n",
              "      <th>5</th>\n",
              "      <td>manhattan</td>\n",
              "      <td>0.878461</td>\n",
              "      <td>train</td>\n",
              "    </tr>\n",
              "    <tr>\n",
              "      <th>2</th>\n",
              "      <td>euclidean</td>\n",
              "      <td>0.821596</td>\n",
              "      <td>train</td>\n",
              "    </tr>\n",
              "    <tr>\n",
              "      <th>5</th>\n",
              "      <td>manhattan</td>\n",
              "      <td>0.800712</td>\n",
              "      <td>val</td>\n",
              "    </tr>\n",
              "    <tr>\n",
              "      <th>3</th>\n",
              "      <td>l1</td>\n",
              "      <td>0.800712</td>\n",
              "      <td>val</td>\n",
              "    </tr>\n",
              "    <tr>\n",
              "      <th>0</th>\n",
              "      <td>cityblock</td>\n",
              "      <td>0.800712</td>\n",
              "      <td>val</td>\n",
              "    </tr>\n",
              "    <tr>\n",
              "      <th>2</th>\n",
              "      <td>euclidean</td>\n",
              "      <td>0.722539</td>\n",
              "      <td>val</td>\n",
              "    </tr>\n",
              "  </tbody>\n",
              "</table>\n",
              "</div>\n",
              "      <button class=\"colab-df-convert\" onclick=\"convertToInteractive('df-e48bbe21-579e-4d60-aafc-fae5e998185f')\"\n",
              "              title=\"Convert this dataframe to an interactive table.\"\n",
              "              style=\"display:none;\">\n",
              "        \n",
              "  <svg xmlns=\"http://www.w3.org/2000/svg\" height=\"24px\"viewBox=\"0 0 24 24\"\n",
              "       width=\"24px\">\n",
              "    <path d=\"M0 0h24v24H0V0z\" fill=\"none\"/>\n",
              "    <path d=\"M18.56 5.44l.94 2.06.94-2.06 2.06-.94-2.06-.94-.94-2.06-.94 2.06-2.06.94zm-11 1L8.5 8.5l.94-2.06 2.06-.94-2.06-.94L8.5 2.5l-.94 2.06-2.06.94zm10 10l.94 2.06.94-2.06 2.06-.94-2.06-.94-.94-2.06-.94 2.06-2.06.94z\"/><path d=\"M17.41 7.96l-1.37-1.37c-.4-.4-.92-.59-1.43-.59-.52 0-1.04.2-1.43.59L10.3 9.45l-7.72 7.72c-.78.78-.78 2.05 0 2.83L4 21.41c.39.39.9.59 1.41.59.51 0 1.02-.2 1.41-.59l7.78-7.78 2.81-2.81c.8-.78.8-2.07 0-2.86zM5.41 20L4 18.59l7.72-7.72 1.47 1.35L5.41 20z\"/>\n",
              "  </svg>\n",
              "      </button>\n",
              "      \n",
              "  <style>\n",
              "    .colab-df-container {\n",
              "      display:flex;\n",
              "      flex-wrap:wrap;\n",
              "      gap: 12px;\n",
              "    }\n",
              "\n",
              "    .colab-df-convert {\n",
              "      background-color: #E8F0FE;\n",
              "      border: none;\n",
              "      border-radius: 50%;\n",
              "      cursor: pointer;\n",
              "      display: none;\n",
              "      fill: #1967D2;\n",
              "      height: 32px;\n",
              "      padding: 0 0 0 0;\n",
              "      width: 32px;\n",
              "    }\n",
              "\n",
              "    .colab-df-convert:hover {\n",
              "      background-color: #E2EBFA;\n",
              "      box-shadow: 0px 1px 2px rgba(60, 64, 67, 0.3), 0px 1px 3px 1px rgba(60, 64, 67, 0.15);\n",
              "      fill: #174EA6;\n",
              "    }\n",
              "\n",
              "    [theme=dark] .colab-df-convert {\n",
              "      background-color: #3B4455;\n",
              "      fill: #D2E3FC;\n",
              "    }\n",
              "\n",
              "    [theme=dark] .colab-df-convert:hover {\n",
              "      background-color: #434B5C;\n",
              "      box-shadow: 0px 1px 3px 1px rgba(0, 0, 0, 0.15);\n",
              "      filter: drop-shadow(0px 1px 2px rgba(0, 0, 0, 0.3));\n",
              "      fill: #FFFFFF;\n",
              "    }\n",
              "  </style>\n",
              "\n",
              "      <script>\n",
              "        const buttonEl =\n",
              "          document.querySelector('#df-e48bbe21-579e-4d60-aafc-fae5e998185f button.colab-df-convert');\n",
              "        buttonEl.style.display =\n",
              "          google.colab.kernel.accessAllowed ? 'block' : 'none';\n",
              "\n",
              "        async function convertToInteractive(key) {\n",
              "          const element = document.querySelector('#df-e48bbe21-579e-4d60-aafc-fae5e998185f');\n",
              "          const dataTable =\n",
              "            await google.colab.kernel.invokeFunction('convertToInteractive',\n",
              "                                                     [key], {});\n",
              "          if (!dataTable) return;\n",
              "\n",
              "          const docLinkHtml = 'Like what you see? Visit the ' +\n",
              "            '<a target=\"_blank\" href=https://colab.research.google.com/notebooks/data_table.ipynb>data table notebook</a>'\n",
              "            + ' to learn more about interactive tables.';\n",
              "          element.innerHTML = '';\n",
              "          dataTable['output_type'] = 'display_data';\n",
              "          await google.colab.output.renderOutput(dataTable, element);\n",
              "          const docLink = document.createElement('div');\n",
              "          docLink.innerHTML = docLinkHtml;\n",
              "          element.appendChild(docLink);\n",
              "        }\n",
              "      </script>\n",
              "    </div>\n",
              "  </div>\n",
              "  "
            ]
          },
          "metadata": {},
          "execution_count": 28
        }
      ]
    },
    {
      "cell_type": "code",
      "source": [
        "import numpy as np\n",
        "import matplotlib.pyplot as plt\n",
        "\n",
        "manhattan_val = []\n",
        "euclidean_val = []\n",
        "\n",
        "\n",
        "n_s = range(1,40)\n",
        "for n_neighbors in n_s:\n",
        "  clf = KNeighborsClassifier(n_neighbors = n_neighbors,metric='manhattan')\n",
        "  clf.fit(X_train,y_train)\n",
        "  pred = clf.predict(X_valid)\n",
        "  manhattan_val.append(f1_score(pred,y_valid,average=\"weighted\"))\n",
        "\n",
        "for n_neighbors in n_s:\n",
        "  clf = KNeighborsClassifier(n_neighbors = n_neighbors,metric='euclidean')\n",
        "  clf.fit(X_train,y_train)\n",
        "  pred = clf.predict(X_valid)\n",
        "  euclidean_val.append(f1_score(pred,y_valid,average=\"weighted\"))\n",
        "\n",
        "plt.plot(n_s,manhattan_val,label='manhattan')\n",
        "plt.plot(n_s,euclidean_val,label='euclidean')\n",
        "\n",
        "plt.ylabel(\"f1-score\")\n",
        "plt.xlabel(\"n_neighbors\")\n",
        "plt.legend()"
      ],
      "metadata": {
        "colab": {
          "base_uri": "https://localhost:8080/",
          "height": 298
        },
        "id": "gpxSDY7EebtZ",
        "outputId": "110f2f72-ac12-4e7a-e82c-f742813317a7"
      },
      "execution_count": 33,
      "outputs": [
        {
          "output_type": "execute_result",
          "data": {
            "text/plain": [
              "<matplotlib.legend.Legend at 0x7f26056bc670>"
            ]
          },
          "metadata": {},
          "execution_count": 33
        },
        {
          "output_type": "display_data",
          "data": {
            "text/plain": [
              "<Figure size 432x288 with 1 Axes>"
            ],
            "image/png": "[encoded data removed]"
          },
          "metadata": {
            "needs_background": "light"
          }
        }
      ]
    },
    {
      "cell_type": "code",
      "execution_count": 34,
      "metadata": {
        "colab": {
          "base_uri": "https://localhost:8080/"
        },
        "id": "Z9VuLxEPQuxL",
        "outputId": "7fcdd684-850f-40af-efcd-3168854112dd"
      },
      "outputs": [
        {
          "output_type": "stream",
          "name": "stdout",
          "text": [
            "f1 0.828563428389104\n",
            "recall 0.8293570949506563\n",
            "precision 0.8292224138422384\n"
          ]
        }
      ],
      "source": [
        "clf = KNeighborsClassifier(n_neighbors = 1,metric='manhattan')\n",
        "clf.fit(X_train,y_train)\n",
        "check_f1_test(clf,X_test,y_test)"
      ]
    },
    {
      "cell_type": "code",
      "execution_count": 36,
      "metadata": {
        "colab": {
          "base_uri": "https://localhost:8080/"
        },
        "id": "tMxekoKYHO3g",
        "outputId": "7fb0a03d-3dc9-4217-ebca-ac891a63839a"
      },
      "outputs": [
        {
          "output_type": "stream",
          "name": "stderr",
          "text": [
            "\u001b[32m[I 2023-03-05 16:10:01,817]\u001b[0m A new study created in memory with name: no-name-e7ef512e-bf98-4264-925e-e5bd2e2dba64\u001b[0m\n",
            "\u001b[32m[I 2023-03-05 16:10:02,262]\u001b[0m Trial 0 finished with value: 0.6851831109994547 and parameters: {'n_neighbors': 19, 'metric': 'euclidean'}. Best is trial 0 with value: 0.6851831109994547.\u001b[0m\n",
            "\u001b[32m[I 2023-03-05 16:10:02,720]\u001b[0m Trial 1 finished with value: 0.685741726544354 and parameters: {'n_neighbors': 18, 'metric': 'l2'}. Best is trial 1 with value: 0.685741726544354.\u001b[0m\n",
            "\u001b[32m[I 2023-03-05 16:10:03,419]\u001b[0m Trial 2 finished with value: 0.7420388175130715 and parameters: {'n_neighbors': 19, 'metric': 'manhattan'}. Best is trial 2 with value: 0.7420388175130715.\u001b[0m\n",
            "\u001b[32m[I 2023-03-05 16:10:03,814]\u001b[0m Trial 3 finished with value: 0.7225385508602775 and parameters: {'n_neighbors': 5, 'metric': 'euclidean'}. Best is trial 2 with value: 0.7420388175130715.\u001b[0m\n",
            "\u001b[32m[I 2023-03-05 16:10:04,227]\u001b[0m Trial 4 finished with value: 0.8064721624199659 and parameters: {'n_neighbors': 4, 'metric': 'cityblock'}. Best is trial 4 with value: 0.8064721624199659.\u001b[0m\n",
            "\u001b[32m[I 2023-03-05 16:10:04,681]\u001b[0m Trial 5 finished with value: 0.8000252436283004 and parameters: {'n_neighbors': 6, 'metric': 'manhattan'}. Best is trial 4 with value: 0.8064721624199659.\u001b[0m\n",
            "\u001b[32m[I 2023-03-05 16:10:05,894]\u001b[0m Trial 6 finished with value: 0.7225385508602775 and parameters: {'n_neighbors': 5, 'metric': 'nan_euclidean'}. Best is trial 4 with value: 0.8064721624199659.\u001b[0m\n",
            "\u001b[32m[I 2023-03-05 16:10:06,258]\u001b[0m Trial 7 finished with value: 0.687292284903444 and parameters: {'n_neighbors': 12, 'metric': 'l2'}. Best is trial 4 with value: 0.8064721624199659.\u001b[0m\n",
            "\u001b[32m[I 2023-03-05 16:10:06,636]\u001b[0m Trial 8 finished with value: 0.8010434519539569 and parameters: {'n_neighbors': 2, 'metric': 'manhattan'}. Best is trial 4 with value: 0.8064721624199659.\u001b[0m\n",
            "\u001b[32m[I 2023-03-05 16:10:07,162]\u001b[0m Trial 9 finished with value: 0.7457426042521802 and parameters: {'n_neighbors': 18, 'metric': 'manhattan'}. Best is trial 4 with value: 0.8064721624199659.\u001b[0m\n",
            "\u001b[32m[I 2023-03-05 16:10:07,683]\u001b[0m Trial 10 finished with value: 0.7679435885316858 and parameters: {'n_neighbors': 11, 'metric': 'cityblock'}. Best is trial 4 with value: 0.8064721624199659.\u001b[0m\n",
            "\u001b[32m[I 2023-03-05 16:10:07,997]\u001b[0m Trial 11 finished with value: 0.8239014195740391 and parameters: {'n_neighbors': 1, 'metric': 'cityblock'}. Best is trial 11 with value: 0.8239014195740391.\u001b[0m\n",
            "\u001b[32m[I 2023-03-05 16:10:08,361]\u001b[0m Trial 12 finished with value: 0.8010434519539569 and parameters: {'n_neighbors': 2, 'metric': 'cityblock'}. Best is trial 11 with value: 0.8239014195740391.\u001b[0m\n",
            "\u001b[32m[I 2023-03-05 16:10:08,699]\u001b[0m Trial 13 finished with value: 0.8239014195740391 and parameters: {'n_neighbors': 1, 'metric': 'l1'}. Best is trial 11 with value: 0.8239014195740391.\u001b[0m\n",
            "\u001b[32m[I 2023-03-05 16:10:09,186]\u001b[0m Trial 14 finished with value: 0.7757768099362072 and parameters: {'n_neighbors': 9, 'metric': 'l1'}. Best is trial 11 with value: 0.8239014195740391.\u001b[0m\n",
            "\u001b[32m[I 2023-03-05 16:10:09,566]\u001b[0m Trial 15 finished with value: 0.7247450187497955 and parameters: {'n_neighbors': 1, 'metric': 'cosine'}. Best is trial 11 with value: 0.8239014195740391.\u001b[0m\n",
            "\u001b[32m[I 2023-03-05 16:10:10,095]\u001b[0m Trial 16 finished with value: 0.7542132675500238 and parameters: {'n_neighbors': 15, 'metric': 'l1'}. Best is trial 11 with value: 0.8239014195740391.\u001b[0m\n",
            "\u001b[32m[I 2023-03-05 16:10:10,608]\u001b[0m Trial 17 finished with value: 0.7757768099362072 and parameters: {'n_neighbors': 9, 'metric': 'l1'}. Best is trial 11 with value: 0.8239014195740391.\u001b[0m\n",
            "\u001b[32m[I 2023-03-05 16:10:11,226]\u001b[0m Trial 18 finished with value: 0.6910285648806685 and parameters: {'n_neighbors': 7, 'metric': 'cosine'}. Best is trial 11 with value: 0.8239014195740391.\u001b[0m\n",
            "\u001b[32m[I 2023-03-05 16:10:12,841]\u001b[0m Trial 19 finished with value: 0.7371189355870021 and parameters: {'n_neighbors': 3, 'metric': 'nan_euclidean'}. Best is trial 11 with value: 0.8239014195740391.\u001b[0m\n",
            "\u001b[32m[I 2023-03-05 16:10:13,742]\u001b[0m Trial 20 finished with value: 0.7530758077966773 and parameters: {'n_neighbors': 14, 'metric': 'cityblock'}. Best is trial 11 with value: 0.8239014195740391.\u001b[0m\n",
            "\u001b[32m[I 2023-03-05 16:10:14,296]\u001b[0m Trial 21 finished with value: 0.8064721624199659 and parameters: {'n_neighbors': 4, 'metric': 'cityblock'}. Best is trial 11 with value: 0.8239014195740391.\u001b[0m\n",
            "\u001b[32m[I 2023-03-05 16:10:14,615]\u001b[0m Trial 22 finished with value: 0.8239014195740391 and parameters: {'n_neighbors': 1, 'metric': 'cityblock'}. Best is trial 11 with value: 0.8239014195740391.\u001b[0m\n",
            "\u001b[32m[I 2023-03-05 16:10:14,942]\u001b[0m Trial 23 finished with value: 0.8239014195740391 and parameters: {'n_neighbors': 1, 'metric': 'l1'}. Best is trial 11 with value: 0.8239014195740391.\u001b[0m\n",
            "\u001b[32m[I 2023-03-05 16:10:15,427]\u001b[0m Trial 24 finished with value: 0.783993945772343 and parameters: {'n_neighbors': 7, 'metric': 'cityblock'}. Best is trial 11 with value: 0.8239014195740391.\u001b[0m\n",
            "\u001b[32m[I 2023-03-05 16:10:15,762]\u001b[0m Trial 25 finished with value: 0.8239014195740391 and parameters: {'n_neighbors': 1, 'metric': 'cityblock'}. Best is trial 11 with value: 0.8239014195740391.\u001b[0m\n",
            "\u001b[32m[I 2023-03-05 16:10:16,158]\u001b[0m Trial 26 finished with value: 0.8174427391068446 and parameters: {'n_neighbors': 3, 'metric': 'l1'}. Best is trial 11 with value: 0.8239014195740391.\u001b[0m\n",
            "\u001b[32m[I 2023-03-05 16:10:16,565]\u001b[0m Trial 27 finished with value: 0.8174427391068446 and parameters: {'n_neighbors': 3, 'metric': 'cityblock'}. Best is trial 11 with value: 0.8239014195740391.\u001b[0m\n",
            "\u001b[32m[I 2023-03-05 16:10:16,946]\u001b[0m Trial 28 finished with value: 0.7040365669125833 and parameters: {'n_neighbors': 8, 'metric': 'euclidean'}. Best is trial 11 with value: 0.8239014195740391.\u001b[0m\n",
            "\u001b[32m[I 2023-03-05 16:10:17,284]\u001b[0m Trial 29 finished with value: 0.7225385508602775 and parameters: {'n_neighbors': 5, 'metric': 'l2'}. Best is trial 11 with value: 0.8239014195740391.\u001b[0m\n",
            "\u001b[32m[I 2023-03-05 16:10:18,294]\u001b[0m Trial 30 finished with value: 0.7397289262127136 and parameters: {'n_neighbors': 1, 'metric': 'nan_euclidean'}. Best is trial 11 with value: 0.8239014195740391.\u001b[0m\n",
            "\u001b[32m[I 2023-03-05 16:10:18,627]\u001b[0m Trial 31 finished with value: 0.8239014195740391 and parameters: {'n_neighbors': 1, 'metric': 'l1'}. Best is trial 11 with value: 0.8239014195740391.\u001b[0m\n",
            "\u001b[32m[I 2023-03-05 16:10:19,030]\u001b[0m Trial 32 finished with value: 0.8010434519539569 and parameters: {'n_neighbors': 2, 'metric': 'l1'}. Best is trial 11 with value: 0.8239014195740391.\u001b[0m\n",
            "\u001b[32m[I 2023-03-05 16:10:19,437]\u001b[0m Trial 33 finished with value: 0.8174427391068446 and parameters: {'n_neighbors': 3, 'metric': 'l1'}. Best is trial 11 with value: 0.8239014195740391.\u001b[0m\n",
            "\u001b[32m[I 2023-03-05 16:10:19,753]\u001b[0m Trial 34 finished with value: 0.7242516497900358 and parameters: {'n_neighbors': 4, 'metric': 'euclidean'}. Best is trial 11 with value: 0.8239014195740391.\u001b[0m\n",
            "\u001b[32m[I 2023-03-05 16:10:20,081]\u001b[0m Trial 35 finished with value: 0.8239014195740391 and parameters: {'n_neighbors': 1, 'metric': 'l1'}. Best is trial 11 with value: 0.8239014195740391.\u001b[0m\n",
            "\u001b[32m[I 2023-03-05 16:10:20,621]\u001b[0m Trial 36 finished with value: 0.6966364166470798 and parameters: {'n_neighbors': 6, 'metric': 'cosine'}. Best is trial 11 with value: 0.8239014195740391.\u001b[0m\n",
            "\u001b[32m[I 2023-03-05 16:10:21,067]\u001b[0m Trial 37 finished with value: 0.8064721624199659 and parameters: {'n_neighbors': 4, 'metric': 'cityblock'}. Best is trial 11 with value: 0.8239014195740391.\u001b[0m\n",
            "\u001b[32m[I 2023-03-05 16:10:21,355]\u001b[0m Trial 38 finished with value: 0.7204872438550871 and parameters: {'n_neighbors': 2, 'metric': 'l2'}. Best is trial 11 with value: 0.8239014195740391.\u001b[0m\n",
            "\u001b[32m[I 2023-03-05 16:10:21,799]\u001b[0m Trial 39 finished with value: 0.8007119689579971 and parameters: {'n_neighbors': 5, 'metric': 'l1'}. Best is trial 11 with value: 0.8239014195740391.\u001b[0m\n",
            "\u001b[32m[I 2023-03-05 16:10:22,218]\u001b[0m Trial 40 finished with value: 0.6817140257693007 and parameters: {'n_neighbors': 20, 'metric': 'euclidean'}. Best is trial 11 with value: 0.8239014195740391.\u001b[0m\n",
            "\u001b[32m[I 2023-03-05 16:10:22,557]\u001b[0m Trial 41 finished with value: 0.8239014195740391 and parameters: {'n_neighbors': 1, 'metric': 'cityblock'}. Best is trial 11 with value: 0.8239014195740391.\u001b[0m\n",
            "\u001b[32m[I 2023-03-05 16:10:22,944]\u001b[0m Trial 42 finished with value: 0.8010434519539569 and parameters: {'n_neighbors': 2, 'metric': 'cityblock'}. Best is trial 11 with value: 0.8239014195740391.\u001b[0m\n",
            "\u001b[32m[I 2023-03-05 16:10:23,287]\u001b[0m Trial 43 finished with value: 0.8239014195740391 and parameters: {'n_neighbors': 1, 'metric': 'cityblock'}. Best is trial 11 with value: 0.8239014195740391.\u001b[0m\n",
            "\u001b[32m[I 2023-03-05 16:10:23,741]\u001b[0m Trial 44 finished with value: 0.8174427391068446 and parameters: {'n_neighbors': 3, 'metric': 'manhattan'}. Best is trial 11 with value: 0.8239014195740391.\u001b[0m\n",
            "\u001b[32m[I 2023-03-05 16:10:24,154]\u001b[0m Trial 45 finished with value: 0.8010434519539569 and parameters: {'n_neighbors': 2, 'metric': 'cityblock'}. Best is trial 11 with value: 0.8239014195740391.\u001b[0m\n",
            "\u001b[32m[I 2023-03-05 16:10:24,908]\u001b[0m Trial 46 finished with value: 0.8007119689579971 and parameters: {'n_neighbors': 5, 'metric': 'cityblock'}. Best is trial 11 with value: 0.8239014195740391.\u001b[0m\n",
            "\u001b[32m[I 2023-03-05 16:10:28,078]\u001b[0m Trial 47 finished with value: 0.684152735479234 and parameters: {'n_neighbors': 17, 'metric': 'nan_euclidean'}. Best is trial 11 with value: 0.8239014195740391.\u001b[0m\n",
            "\u001b[32m[I 2023-03-05 16:10:28,805]\u001b[0m Trial 48 finished with value: 0.8010434519539569 and parameters: {'n_neighbors': 2, 'metric': 'l1'}. Best is trial 11 with value: 0.8239014195740391.\u001b[0m\n",
            "\u001b[32m[I 2023-03-05 16:10:30,119]\u001b[0m Trial 49 finished with value: 0.8000252436283004 and parameters: {'n_neighbors': 6, 'metric': 'cityblock'}. Best is trial 11 with value: 0.8239014195740391.\u001b[0m\n",
            "\u001b[32m[I 2023-03-05 16:10:31,281]\u001b[0m Trial 50 finished with value: 0.7599936772377407 and parameters: {'n_neighbors': 12, 'metric': 'manhattan'}. Best is trial 11 with value: 0.8239014195740391.\u001b[0m\n",
            "\u001b[32m[I 2023-03-05 16:10:31,929]\u001b[0m Trial 51 finished with value: 0.8239014195740391 and parameters: {'n_neighbors': 1, 'metric': 'l1'}. Best is trial 11 with value: 0.8239014195740391.\u001b[0m\n",
            "\u001b[32m[I 2023-03-05 16:10:32,690]\u001b[0m Trial 52 finished with value: 0.8239014195740391 and parameters: {'n_neighbors': 1, 'metric': 'l1'}. Best is trial 11 with value: 0.8239014195740391.\u001b[0m\n",
            "\u001b[32m[I 2023-03-05 16:10:33,746]\u001b[0m Trial 53 finished with value: 0.8064721624199659 and parameters: {'n_neighbors': 4, 'metric': 'l1'}. Best is trial 11 with value: 0.8239014195740391.\u001b[0m\n",
            "\u001b[32m[I 2023-03-05 16:10:34,564]\u001b[0m Trial 54 finished with value: 0.8174427391068446 and parameters: {'n_neighbors': 3, 'metric': 'l1'}. Best is trial 11 with value: 0.8239014195740391.\u001b[0m\n",
            "\u001b[32m[I 2023-03-05 16:10:35,192]\u001b[0m Trial 55 finished with value: 0.7104727423949986 and parameters: {'n_neighbors': 2, 'metric': 'cosine'}. Best is trial 11 with value: 0.8239014195740391.\u001b[0m\n",
            "\u001b[32m[I 2023-03-05 16:10:35,833]\u001b[0m Trial 56 finished with value: 0.8239014195740391 and parameters: {'n_neighbors': 1, 'metric': 'cityblock'}. Best is trial 11 with value: 0.8239014195740391.\u001b[0m\n",
            "\u001b[32m[I 2023-03-05 16:10:36,437]\u001b[0m Trial 57 finished with value: 0.7371189355870021 and parameters: {'n_neighbors': 3, 'metric': 'l2'}. Best is trial 11 with value: 0.8239014195740391.\u001b[0m\n",
            "\u001b[32m[I 2023-03-05 16:10:37,074]\u001b[0m Trial 58 finished with value: 0.8239014195740391 and parameters: {'n_neighbors': 1, 'metric': 'l1'}. Best is trial 11 with value: 0.8239014195740391.\u001b[0m\n",
            "\u001b[32m[I 2023-03-05 16:10:38,185]\u001b[0m Trial 59 finished with value: 0.8064721624199659 and parameters: {'n_neighbors': 4, 'metric': 'cityblock'}. Best is trial 11 with value: 0.8239014195740391.\u001b[0m\n",
            "\u001b[32m[I 2023-03-05 16:10:39,731]\u001b[0m Trial 60 finished with value: 0.8010434519539569 and parameters: {'n_neighbors': 2, 'metric': 'l1'}. Best is trial 11 with value: 0.8239014195740391.\u001b[0m\n",
            "\u001b[32m[I 2023-03-05 16:10:41,084]\u001b[0m Trial 61 finished with value: 0.8239014195740391 and parameters: {'n_neighbors': 1, 'metric': 'l1'}. Best is trial 11 with value: 0.8239014195740391.\u001b[0m\n",
            "\u001b[32m[I 2023-03-05 16:10:41,851]\u001b[0m Trial 62 finished with value: 0.8239014195740391 and parameters: {'n_neighbors': 1, 'metric': 'l1'}. Best is trial 11 with value: 0.8239014195740391.\u001b[0m\n",
            "\u001b[32m[I 2023-03-05 16:10:42,508]\u001b[0m Trial 63 finished with value: 0.8010434519539569 and parameters: {'n_neighbors': 2, 'metric': 'l1'}. Best is trial 11 with value: 0.8239014195740391.\u001b[0m\n",
            "\u001b[32m[I 2023-03-05 16:10:45,083]\u001b[0m Trial 64 finished with value: 0.7371189355870021 and parameters: {'n_neighbors': 3, 'metric': 'nan_euclidean'}. Best is trial 11 with value: 0.8239014195740391.\u001b[0m\n",
            "\u001b[32m[I 2023-03-05 16:10:46,108]\u001b[0m Trial 65 finished with value: 0.8239014195740391 and parameters: {'n_neighbors': 1, 'metric': 'l1'}. Best is trial 11 with value: 0.8239014195740391.\u001b[0m\n",
            "\u001b[32m[I 2023-03-05 16:10:47,045]\u001b[0m Trial 66 finished with value: 0.7371189355870021 and parameters: {'n_neighbors': 3, 'metric': 'euclidean'}. Best is trial 11 with value: 0.8239014195740391.\u001b[0m\n",
            "\u001b[32m[I 2023-03-05 16:10:47,910]\u001b[0m Trial 67 finished with value: 0.8010434519539569 and parameters: {'n_neighbors': 2, 'metric': 'cityblock'}. Best is trial 11 with value: 0.8239014195740391.\u001b[0m\n",
            "\u001b[32m[I 2023-03-05 16:10:48,505]\u001b[0m Trial 68 finished with value: 0.6868650957476536 and parameters: {'n_neighbors': 11, 'metric': 'cosine'}. Best is trial 11 with value: 0.8239014195740391.\u001b[0m\n",
            "\u001b[32m[I 2023-03-05 16:10:48,943]\u001b[0m Trial 69 finished with value: 0.8064721624199659 and parameters: {'n_neighbors': 4, 'metric': 'l1'}. Best is trial 11 with value: 0.8239014195740391.\u001b[0m\n",
            "\u001b[32m[I 2023-03-05 16:10:49,257]\u001b[0m Trial 70 finished with value: 0.8239014195740391 and parameters: {'n_neighbors': 1, 'metric': 'manhattan'}. Best is trial 11 with value: 0.8239014195740391.\u001b[0m\n",
            "\u001b[32m[I 2023-03-05 16:10:49,570]\u001b[0m Trial 71 finished with value: 0.8239014195740391 and parameters: {'n_neighbors': 1, 'metric': 'cityblock'}. Best is trial 11 with value: 0.8239014195740391.\u001b[0m\n",
            "\u001b[32m[I 2023-03-05 16:10:49,960]\u001b[0m Trial 72 finished with value: 0.8010434519539569 and parameters: {'n_neighbors': 2, 'metric': 'cityblock'}. Best is trial 11 with value: 0.8239014195740391.\u001b[0m\n",
            "\u001b[32m[I 2023-03-05 16:10:50,296]\u001b[0m Trial 73 finished with value: 0.8239014195740391 and parameters: {'n_neighbors': 1, 'metric': 'cityblock'}. Best is trial 11 with value: 0.8239014195740391.\u001b[0m\n",
            "\u001b[32m[I 2023-03-05 16:10:51,438]\u001b[0m Trial 74 finished with value: 0.8010434519539569 and parameters: {'n_neighbors': 2, 'metric': 'cityblock'}. Best is trial 11 with value: 0.8239014195740391.\u001b[0m\n",
            "\u001b[32m[I 2023-03-05 16:10:51,927]\u001b[0m Trial 75 finished with value: 0.7371189355870021 and parameters: {'n_neighbors': 3, 'metric': 'l2'}. Best is trial 11 with value: 0.8239014195740391.\u001b[0m\n",
            "\u001b[32m[I 2023-03-05 16:10:52,804]\u001b[0m Trial 76 finished with value: 0.7530758077966773 and parameters: {'n_neighbors': 14, 'metric': 'cityblock'}. Best is trial 11 with value: 0.8239014195740391.\u001b[0m\n",
            "\u001b[32m[I 2023-03-05 16:10:53,362]\u001b[0m Trial 77 finished with value: 0.8239014195740391 and parameters: {'n_neighbors': 1, 'metric': 'l1'}. Best is trial 11 with value: 0.8239014195740391.\u001b[0m\n",
            "\u001b[32m[I 2023-03-05 16:10:54,007]\u001b[0m Trial 78 finished with value: 0.8010434519539569 and parameters: {'n_neighbors': 2, 'metric': 'cityblock'}. Best is trial 11 with value: 0.8239014195740391.\u001b[0m\n",
            "\u001b[32m[I 2023-03-05 16:10:54,521]\u001b[0m Trial 79 finished with value: 0.8174427391068446 and parameters: {'n_neighbors': 3, 'metric': 'l1'}. Best is trial 11 with value: 0.8239014195740391.\u001b[0m\n",
            "\u001b[32m[I 2023-03-05 16:10:54,855]\u001b[0m Trial 80 finished with value: 0.8239014195740391 and parameters: {'n_neighbors': 1, 'metric': 'cityblock'}. Best is trial 11 with value: 0.8239014195740391.\u001b[0m\n",
            "\u001b[32m[I 2023-03-05 16:10:55,240]\u001b[0m Trial 81 finished with value: 0.8010434519539569 and parameters: {'n_neighbors': 2, 'metric': 'cityblock'}. Best is trial 11 with value: 0.8239014195740391.\u001b[0m\n",
            "\u001b[32m[I 2023-03-05 16:10:55,568]\u001b[0m Trial 82 finished with value: 0.8239014195740391 and parameters: {'n_neighbors': 1, 'metric': 'cityblock'}. Best is trial 11 with value: 0.8239014195740391.\u001b[0m\n",
            "\u001b[32m[I 2023-03-05 16:10:55,941]\u001b[0m Trial 83 finished with value: 0.8010434519539569 and parameters: {'n_neighbors': 2, 'metric': 'cityblock'}. Best is trial 11 with value: 0.8239014195740391.\u001b[0m\n",
            "\u001b[32m[I 2023-03-05 16:10:56,429]\u001b[0m Trial 84 finished with value: 0.7757768099362072 and parameters: {'n_neighbors': 9, 'metric': 'cityblock'}. Best is trial 11 with value: 0.8239014195740391.\u001b[0m\n",
            "\u001b[32m[I 2023-03-05 16:10:57,425]\u001b[0m Trial 85 finished with value: 0.7397289262127136 and parameters: {'n_neighbors': 1, 'metric': 'nan_euclidean'}. Best is trial 11 with value: 0.8239014195740391.\u001b[0m\n",
            "\u001b[32m[I 2023-03-05 16:10:57,799]\u001b[0m Trial 86 finished with value: 0.8010434519539569 and parameters: {'n_neighbors': 2, 'metric': 'l1'}. Best is trial 11 with value: 0.8239014195740391.\u001b[0m\n",
            "\u001b[32m[I 2023-03-05 16:10:58,051]\u001b[0m Trial 87 finished with value: 0.7397289262127136 and parameters: {'n_neighbors': 1, 'metric': 'euclidean'}. Best is trial 11 with value: 0.8239014195740391.\u001b[0m\n",
            "\u001b[32m[I 2023-03-05 16:10:58,468]\u001b[0m Trial 88 finished with value: 0.8174427391068446 and parameters: {'n_neighbors': 3, 'metric': 'cityblock'}. Best is trial 11 with value: 0.8239014195740391.\u001b[0m\n",
            "\u001b[32m[I 2023-03-05 16:10:58,843]\u001b[0m Trial 89 finished with value: 0.8010434519539569 and parameters: {'n_neighbors': 2, 'metric': 'manhattan'}. Best is trial 11 with value: 0.8239014195740391.\u001b[0m\n",
            "\u001b[32m[I 2023-03-05 16:10:59,373]\u001b[0m Trial 90 finished with value: 0.7116181695650001 and parameters: {'n_neighbors': 4, 'metric': 'cosine'}. Best is trial 11 with value: 0.8239014195740391.\u001b[0m\n",
            "\u001b[32m[I 2023-03-05 16:10:59,693]\u001b[0m Trial 91 finished with value: 0.8239014195740391 and parameters: {'n_neighbors': 1, 'metric': 'l1'}. Best is trial 11 with value: 0.8239014195740391.\u001b[0m\n",
            "\u001b[32m[I 2023-03-05 16:11:00,014]\u001b[0m Trial 92 finished with value: 0.8239014195740391 and parameters: {'n_neighbors': 1, 'metric': 'l1'}. Best is trial 11 with value: 0.8239014195740391.\u001b[0m\n",
            "\u001b[32m[I 2023-03-05 16:11:00,333]\u001b[0m Trial 93 finished with value: 0.8239014195740391 and parameters: {'n_neighbors': 1, 'metric': 'l1'}. Best is trial 11 with value: 0.8239014195740391.\u001b[0m\n",
            "\u001b[32m[I 2023-03-05 16:11:00,704]\u001b[0m Trial 94 finished with value: 0.8010434519539569 and parameters: {'n_neighbors': 2, 'metric': 'l1'}. Best is trial 11 with value: 0.8239014195740391.\u001b[0m\n",
            "\u001b[32m[I 2023-03-05 16:11:01,100]\u001b[0m Trial 95 finished with value: 0.8174427391068446 and parameters: {'n_neighbors': 3, 'metric': 'l1'}. Best is trial 11 with value: 0.8239014195740391.\u001b[0m\n",
            "\u001b[32m[I 2023-03-05 16:11:01,349]\u001b[0m Trial 96 finished with value: 0.7397289262127136 and parameters: {'n_neighbors': 1, 'metric': 'l2'}. Best is trial 11 with value: 0.8239014195740391.\u001b[0m\n",
            "\u001b[32m[I 2023-03-05 16:11:01,911]\u001b[0m Trial 97 finished with value: 0.751875569530463 and parameters: {'n_neighbors': 16, 'metric': 'cityblock'}. Best is trial 11 with value: 0.8239014195740391.\u001b[0m\n",
            "\u001b[32m[I 2023-03-05 16:11:02,316]\u001b[0m Trial 98 finished with value: 0.8010434519539569 and parameters: {'n_neighbors': 2, 'metric': 'l1'}. Best is trial 11 with value: 0.8239014195740391.\u001b[0m\n",
            "\u001b[32m[I 2023-03-05 16:11:02,652]\u001b[0m Trial 99 finished with value: 0.8239014195740391 and parameters: {'n_neighbors': 1, 'metric': 'cityblock'}. Best is trial 11 with value: 0.8239014195740391.\u001b[0m\n"
          ]
        },
        {
          "output_type": "stream",
          "name": "stdout",
          "text": [
            "{'n_neighbors': 1, 'metric': 'cityblock'}\n"
          ]
        }
      ],
      "source": [
        "from sklearn.utils.extmath import weighted_mode\n",
        "import optuna\n",
        "\n",
        "\n",
        "metrics = ['cityblock','cosine','euclidean','l1','l2','manhattan','nan_euclidean']\n",
        "def objective(trial):\n",
        "    n_neighbors = trial.suggest_int(\"n_neighbors\",1,20)\n",
        "    \n",
        "    metric = trial.suggest_categorical(\"metric\",metrics)\n",
        "    \n",
        "    clf = KNeighborsClassifier(\n",
        "                                n_neighbors=n_neighbors,\n",
        "                                metric=metric\n",
        "                                )\n",
        "    clf.fit(X_train,y_train)\n",
        "    pred = clf.predict(X_valid)\n",
        "    return f1_score(pred,y_valid,average=\"weighted\")\n",
        "\n",
        "study = optuna.create_study(direction=\"maximize\")\n",
        "study.optimize(objective, n_trials=100)\n",
        "\n",
        "print(study.best_params)"
      ]
    },
    {
      "cell_type": "code",
      "source": [
        "optuna.visualization.plot_optimization_history(study)"
      ],
      "metadata": {
        "colab": {
          "base_uri": "https://localhost:8080/",
          "height": 542
        },
        "id": "nQd1y7s86YFe",
        "outputId": "1c939df5-0de4-4467-f421-d835956a06db"
      },
      "execution_count": 37,
      "outputs": [
        {
          "output_type": "display_data",
          "data": {
            "text/html": [
              "<html>\n",
              "<head><meta charset=\"utf-8\" /></head>\n",
              "<body>\n",
              "    <div>            <script src=\"https://cdnjs.cloudflare.com/ajax/libs/mathjax/2.7.5/MathJax.js?config=TeX-AMS-MML_SVG\"></script><script type=\"text/javascript\">if (window.MathJax) {MathJax.Hub.Config({SVG: {font: \"STIX-Web\"}});}</script>                <script type=\"text/javascript\">window.PlotlyConfig = {MathJaxConfig: 'local'};</script>\n",
              "        <script src=\"https://cdn.plot.ly/plotly-2.8.3.min.js\"></script>                <div id=\"0a476ccc-e665-449c-bf36-fa3d850d8875\" class=\"plotly-graph-div\" style=\"height:525px; width:100%;\"></div>            <script type=\"text/javascript\">                                    window.PLOTLYENV=window.PLOTLYENV || {};                                    if (document.getElementById(\"0a476ccc-e665-449c-bf36-fa3d850d8875\")) {                    Plotly.newPlot(                        \"0a476ccc-e665-449c-bf36-fa3d850d8875\",                        [{\"mode\":\"markers\",\"name\":\"Objective Value\",\"x\":[0,1,2,3,4,5,6,7,8,9,10,11,12,13,14,15,16,17,18,19,20,21,22,23,24,25,26,27,28,29,30,31,32,33,34,35,36,37,38,39,40,41,42,43,44,45,46,47,48,49,50,51,52,53,54,55,56,57,58,59,60,61,62,63,64,65,66,67,68,69,70,71,72,73,74,75,76,77,78,79,80,81,82,83,84,85,86,87,88,89,90,91,92,93,94,95,96,97,98,99],\"y\":[0.6851831109994547,0.685741726544354,0.7420388175130715,0.7225385508602775,0.8064721624199659,0.8000252436283004,0.7225385508602775,0.687292284903444,0.8010434519539569,0.7457426042521802,0.7679435885316858,0.8239014195740391,0.8010434519539569,0.8239014195740391,0.7757768099362072,0.7247450187497955,0.7542132675500238,0.7757768099362072,0.6910285648806685,0.7371189355870021,0.7530758077966773,0.8064721624199659,0.8239014195740391,0.8239014195740391,0.783993945772343,0.8239014195740391,0.8174427391068446,0.8174427391068446,0.7040365669125833,0.7225385508602775,0.7397289262127136,0.8239014195740391,0.8010434519539569,0.8174427391068446,0.7242516497900358,0.8239014195740391,0.6966364166470798,0.8064721624199659,0.7204872438550871,0.8007119689579971,0.6817140257693007,0.8239014195740391,0.8010434519539569,0.8239014195740391,0.8174427391068446,0.8010434519539569,0.8007119689579971,0.684152735479234,0.8010434519539569,0.8000252436283004,0.7599936772377407,0.8239014195740391,0.8239014195740391,0.8064721624199659,0.8174427391068446,0.7104727423949986,0.8239014195740391,0.7371189355870021,0.8239014195740391,0.8064721624199659,0.8010434519539569,0.8239014195740391,0.8239014195740391,0.8010434519539569,0.7371189355870021,0.8239014195740391,0.7371189355870021,0.8010434519539569,0.6868650957476536,0.8064721624199659,0.8239014195740391,0.8239014195740391,0.8010434519539569,0.8239014195740391,0.8010434519539569,0.7371189355870021,0.7530758077966773,0.8239014195740391,0.8010434519539569,0.8174427391068446,0.8239014195740391,0.8010434519539569,0.8239014195740391,0.8010434519539569,0.7757768099362072,0.7397289262127136,0.8010434519539569,0.7397289262127136,0.8174427391068446,0.8010434519539569,0.7116181695650001,0.8239014195740391,0.8239014195740391,0.8239014195740391,0.8010434519539569,0.8174427391068446,0.7397289262127136,0.751875569530463,0.8010434519539569,0.8239014195740391],\"type\":\"scatter\"},{\"name\":\"Best Value\",\"x\":[0,1,2,3,4,5,6,7,8,9,10,11,12,13,14,15,16,17,18,19,20,21,22,23,24,25,26,27,28,29,30,31,32,33,34,35,36,37,38,39,40,41,42,43,44,45,46,47,48,49,50,51,52,53,54,55,56,57,58,59,60,61,62,63,64,65,66,67,68,69,70,71,72,73,74,75,76,77,78,79,80,81,82,83,84,85,86,87,88,89,90,91,92,93,94,95,96,97,98,99],\"y\":[0.6851831109994547,0.685741726544354,0.7420388175130715,0.7420388175130715,0.8064721624199659,0.8064721624199659,0.8064721624199659,0.8064721624199659,0.8064721624199659,0.8064721624199659,0.8064721624199659,0.8239014195740391,0.8239014195740391,0.8239014195740391,0.8239014195740391,0.8239014195740391,0.8239014195740391,0.8239014195740391,0.8239014195740391,0.8239014195740391,0.8239014195740391,0.8239014195740391,0.8239014195740391,0.8239014195740391,0.8239014195740391,0.8239014195740391,0.8239014195740391,0.8239014195740391,0.8239014195740391,0.8239014195740391,0.8239014195740391,0.8239014195740391,0.8239014195740391,0.8239014195740391,0.8239014195740391,0.8239014195740391,0.8239014195740391,0.8239014195740391,0.8239014195740391,0.8239014195740391,0.8239014195740391,0.8239014195740391,0.8239014195740391,0.8239014195740391,0.8239014195740391,0.8239014195740391,0.8239014195740391,0.8239014195740391,0.8239014195740391,0.8239014195740391,0.8239014195740391,0.8239014195740391,0.8239014195740391,0.8239014195740391,0.8239014195740391,0.8239014195740391,0.8239014195740391,0.8239014195740391,0.8239014195740391,0.8239014195740391,0.8239014195740391,0.8239014195740391,0.8239014195740391,0.8239014195740391,0.8239014195740391,0.8239014195740391,0.8239014195740391,0.8239014195740391,0.8239014195740391,0.8239014195740391,0.8239014195740391,0.8239014195740391,0.8239014195740391,0.8239014195740391,0.8239014195740391,0.8239014195740391,0.8239014195740391,0.8239014195740391,0.8239014195740391,0.8239014195740391,0.8239014195740391,0.8239014195740391,0.8239014195740391,0.8239014195740391,0.8239014195740391,0.8239014195740391,0.8239014195740391,0.8239014195740391,0.8239014195740391,0.8239014195740391,0.8239014195740391,0.8239014195740391,0.8239014195740391,0.8239014195740391,0.8239014195740391,0.8239014195740391,0.8239014195740391,0.8239014195740391,0.8239014195740391,0.8239014195740391],\"type\":\"scatter\"}],                        {\"title\":{\"text\":\"Optimization History Plot\"},\"xaxis\":{\"title\":{\"text\":\"Trial\"}},\"yaxis\":{\"title\":{\"text\":\"Objective Value\"}},\"template\":{\"data\":{\"bar\":[{\"error_x\":{\"color\":\"#2a3f5f\"},\"error_y\":{\"color\":\"#2a3f5f\"},\"marker\":{\"line\":{\"color\":\"#E5ECF6\",\"width\":0.5},\"pattern\":{\"fillmode\":\"overlay\",\"size\":10,\"solidity\":0.2}},\"type\":\"bar\"}],\"barpolar\":[{\"marker\":{\"line\":{\"color\":\"#E5ECF6\",\"width\":0.5},\"pattern\":{\"fillmode\":\"overlay\",\"size\":10,\"solidity\":0.2}},\"type\":\"barpolar\"}],\"carpet\":[{\"aaxis\":{\"endlinecolor\":\"#2a3f5f\",\"gridcolor\":\"white\",\"linecolor\":\"white\",\"minorgridcolor\":\"white\",\"startlinecolor\":\"#2a3f5f\"},\"baxis\":{\"endlinecolor\":\"#2a3f5f\",\"gridcolor\":\"white\",\"linecolor\":\"white\",\"minorgridcolor\":\"white\",\"startlinecolor\":\"#2a3f5f\"},\"type\":\"carpet\"}],\"choropleth\":[{\"colorbar\":{\"outlinewidth\":0,\"ticks\":\"\"},\"type\":\"choropleth\"}],\"contour\":[{\"colorbar\":{\"outlinewidth\":0,\"ticks\":\"\"},\"colorscale\":[[0.0,\"#0d0887\"],[0.1111111111111111,\"#46039f\"],[0.2222222222222222,\"#7201a8\"],[0.3333333333333333,\"#9c179e\"],[0.4444444444444444,\"#bd3786\"],[0.5555555555555556,\"#d8576b\"],[0.6666666666666666,\"#ed7953\"],[0.7777777777777778,\"#fb9f3a\"],[0.8888888888888888,\"#fdca26\"],[1.0,\"#f0f921\"]],\"type\":\"contour\"}],\"contourcarpet\":[{\"colorbar\":{\"outlinewidth\":0,\"ticks\":\"\"},\"type\":\"contourcarpet\"}],\"heatmap\":[{\"colorbar\":{\"outlinewidth\":0,\"ticks\":\"\"},\"colorscale\":[[0.0,\"#0d0887\"],[0.1111111111111111,\"#46039f\"],[0.2222222222222222,\"#7201a8\"],[0.3333333333333333,\"#9c179e\"],[0.4444444444444444,\"#bd3786\"],[0.5555555555555556,\"#d8576b\"],[0.6666666666666666,\"#ed7953\"],[0.7777777777777778,\"#fb9f3a\"],[0.8888888888888888,\"#fdca26\"],[1.0,\"#f0f921\"]],\"type\":\"heatmap\"}],\"heatmapgl\":[{\"colorbar\":{\"outlinewidth\":0,\"ticks\":\"\"},\"colorscale\":[[0.0,\"#0d0887\"],[0.1111111111111111,\"#46039f\"],[0.2222222222222222,\"#7201a8\"],[0.3333333333333333,\"#9c179e\"],[0.4444444444444444,\"#bd3786\"],[0.5555555555555556,\"#d8576b\"],[0.6666666666666666,\"#ed7953\"],[0.7777777777777778,\"#fb9f3a\"],[0.8888888888888888,\"#fdca26\"],[1.0,\"#f0f921\"]],\"type\":\"heatmapgl\"}],\"histogram\":[{\"marker\":{\"pattern\":{\"fillmode\":\"overlay\",\"size\":10,\"solidity\":0.2}},\"type\":\"histogram\"}],\"histogram2d\":[{\"colorbar\":{\"outlinewidth\":0,\"ticks\":\"\"},\"colorscale\":[[0.0,\"#0d0887\"],[0.1111111111111111,\"#46039f\"],[0.2222222222222222,\"#7201a8\"],[0.3333333333333333,\"#9c179e\"],[0.4444444444444444,\"#bd3786\"],[0.5555555555555556,\"#d8576b\"],[0.6666666666666666,\"#ed7953\"],[0.7777777777777778,\"#fb9f3a\"],[0.8888888888888888,\"#fdca26\"],[1.0,\"#f0f921\"]],\"type\":\"histogram2d\"}],\"histogram2dcontour\":[{\"colorbar\":{\"outlinewidth\":0,\"ticks\":\"\"},\"colorscale\":[[0.0,\"#0d0887\"],[0.1111111111111111,\"#46039f\"],[0.2222222222222222,\"#7201a8\"],[0.3333333333333333,\"#9c179e\"],[0.4444444444444444,\"#bd3786\"],[0.5555555555555556,\"#d8576b\"],[0.6666666666666666,\"#ed7953\"],[0.7777777777777778,\"#fb9f3a\"],[0.8888888888888888,\"#fdca26\"],[1.0,\"#f0f921\"]],\"type\":\"histogram2dcontour\"}],\"mesh3d\":[{\"colorbar\":{\"outlinewidth\":0,\"ticks\":\"\"},\"type\":\"mesh3d\"}],\"parcoords\":[{\"line\":{\"colorbar\":{\"outlinewidth\":0,\"ticks\":\"\"}},\"type\":\"parcoords\"}],\"pie\":[{\"automargin\":true,\"type\":\"pie\"}],\"scatter\":[{\"marker\":{\"colorbar\":{\"outlinewidth\":0,\"ticks\":\"\"}},\"type\":\"scatter\"}],\"scatter3d\":[{\"line\":{\"colorbar\":{\"outlinewidth\":0,\"ticks\":\"\"}},\"marker\":{\"colorbar\":{\"outlinewidth\":0,\"ticks\":\"\"}},\"type\":\"scatter3d\"}],\"scattercarpet\":[{\"marker\":{\"colorbar\":{\"outlinewidth\":0,\"ticks\":\"\"}},\"type\":\"scattercarpet\"}],\"scattergeo\":[{\"marker\":{\"colorbar\":{\"outlinewidth\":0,\"ticks\":\"\"}},\"type\":\"scattergeo\"}],\"scattergl\":[{\"marker\":{\"colorbar\":{\"outlinewidth\":0,\"ticks\":\"\"}},\"type\":\"scattergl\"}],\"scattermapbox\":[{\"marker\":{\"colorbar\":{\"outlinewidth\":0,\"ticks\":\"\"}},\"type\":\"scattermapbox\"}],\"scatterpolar\":[{\"marker\":{\"colorbar\":{\"outlinewidth\":0,\"ticks\":\"\"}},\"type\":\"scatterpolar\"}],\"scatterpolargl\":[{\"marker\":{\"colorbar\":{\"outlinewidth\":0,\"ticks\":\"\"}},\"type\":\"scatterpolargl\"}],\"scatterternary\":[{\"marker\":{\"colorbar\":{\"outlinewidth\":0,\"ticks\":\"\"}},\"type\":\"scatterternary\"}],\"surface\":[{\"colorbar\":{\"outlinewidth\":0,\"ticks\":\"\"},\"colorscale\":[[0.0,\"#0d0887\"],[0.1111111111111111,\"#46039f\"],[0.2222222222222222,\"#7201a8\"],[0.3333333333333333,\"#9c179e\"],[0.4444444444444444,\"#bd3786\"],[0.5555555555555556,\"#d8576b\"],[0.6666666666666666,\"#ed7953\"],[0.7777777777777778,\"#fb9f3a\"],[0.8888888888888888,\"#fdca26\"],[1.0,\"#f0f921\"]],\"type\":\"surface\"}],\"table\":[{\"cells\":{\"fill\":{\"color\":\"#EBF0F8\"},\"line\":{\"color\":\"white\"}},\"header\":{\"fill\":{\"color\":\"#C8D4E3\"},\"line\":{\"color\":\"white\"}},\"type\":\"table\"}]},\"layout\":{\"annotationdefaults\":{\"arrowcolor\":\"#2a3f5f\",\"arrowhead\":0,\"arrowwidth\":1},\"autotypenumbers\":\"strict\",\"coloraxis\":{\"colorbar\":{\"outlinewidth\":0,\"ticks\":\"\"}},\"colorscale\":{\"diverging\":[[0,\"#8e0152\"],[0.1,\"#c51b7d\"],[0.2,\"#de77ae\"],[0.3,\"#f1b6da\"],[0.4,\"#fde0ef\"],[0.5,\"#f7f7f7\"],[0.6,\"#e6f5d0\"],[0.7,\"#b8e186\"],[0.8,\"#7fbc41\"],[0.9,\"#4d9221\"],[1,\"#276419\"]],\"sequential\":[[0.0,\"#0d0887\"],[0.1111111111111111,\"#46039f\"],[0.2222222222222222,\"#7201a8\"],[0.3333333333333333,\"#9c179e\"],[0.4444444444444444,\"#bd3786\"],[0.5555555555555556,\"#d8576b\"],[0.6666666666666666,\"#ed7953\"],[0.7777777777777778,\"#fb9f3a\"],[0.8888888888888888,\"#fdca26\"],[1.0,\"#f0f921\"]],\"sequentialminus\":[[0.0,\"#0d0887\"],[0.1111111111111111,\"#46039f\"],[0.2222222222222222,\"#7201a8\"],[0.3333333333333333,\"#9c179e\"],[0.4444444444444444,\"#bd3786\"],[0.5555555555555556,\"#d8576b\"],[0.6666666666666666,\"#ed7953\"],[0.7777777777777778,\"#fb9f3a\"],[0.8888888888888888,\"#fdca26\"],[1.0,\"#f0f921\"]]},\"colorway\":[\"#636efa\",\"#EF553B\",\"#00cc96\",\"#ab63fa\",\"#FFA15A\",\"#19d3f3\",\"#FF6692\",\"#B6E880\",\"#FF97FF\",\"#FECB52\"],\"font\":{\"color\":\"#2a3f5f\"},\"geo\":{\"bgcolor\":\"white\",\"lakecolor\":\"white\",\"landcolor\":\"#E5ECF6\",\"showlakes\":true,\"showland\":true,\"subunitcolor\":\"white\"},\"hoverlabel\":{\"align\":\"left\"},\"hovermode\":\"closest\",\"mapbox\":{\"style\":\"light\"},\"paper_bgcolor\":\"white\",\"plot_bgcolor\":\"#E5ECF6\",\"polar\":{\"angularaxis\":{\"gridcolor\":\"white\",\"linecolor\":\"white\",\"ticks\":\"\"},\"bgcolor\":\"#E5ECF6\",\"radialaxis\":{\"gridcolor\":\"white\",\"linecolor\":\"white\",\"ticks\":\"\"}},\"scene\":{\"xaxis\":{\"backgroundcolor\":\"#E5ECF6\",\"gridcolor\":\"white\",\"gridwidth\":2,\"linecolor\":\"white\",\"showbackground\":true,\"ticks\":\"\",\"zerolinecolor\":\"white\"},\"yaxis\":{\"backgroundcolor\":\"#E5ECF6\",\"gridcolor\":\"white\",\"gridwidth\":2,\"linecolor\":\"white\",\"showbackground\":true,\"ticks\":\"\",\"zerolinecolor\":\"white\"},\"zaxis\":{\"backgroundcolor\":\"#E5ECF6\",\"gridcolor\":\"white\",\"gridwidth\":2,\"linecolor\":\"white\",\"showbackground\":true,\"ticks\":\"\",\"zerolinecolor\":\"white\"}},\"shapedefaults\":{\"line\":{\"color\":\"#2a3f5f\"}},\"ternary\":{\"aaxis\":{\"gridcolor\":\"white\",\"linecolor\":\"white\",\"ticks\":\"\"},\"baxis\":{\"gridcolor\":\"white\",\"linecolor\":\"white\",\"ticks\":\"\"},\"bgcolor\":\"#E5ECF6\",\"caxis\":{\"gridcolor\":\"white\",\"linecolor\":\"white\",\"ticks\":\"\"}},\"title\":{\"x\":0.05},\"xaxis\":{\"automargin\":true,\"gridcolor\":\"white\",\"linecolor\":\"white\",\"ticks\":\"\",\"title\":{\"standoff\":15},\"zerolinecolor\":\"white\",\"zerolinewidth\":2},\"yaxis\":{\"automargin\":true,\"gridcolor\":\"white\",\"linecolor\":\"white\",\"ticks\":\"\",\"title\":{\"standoff\":15},\"zerolinecolor\":\"white\",\"zerolinewidth\":2}}}},                        {\"responsive\": true}                    ).then(function(){\n",
              "                            \n",
              "var gd = document.getElementById('0a476ccc-e665-449c-bf36-fa3d850d8875');\n",
              "var x = new MutationObserver(function (mutations, observer) {{\n",
              "        var display = window.getComputedStyle(gd).display;\n",
              "        if (!display || display === 'none') {{\n",
              "            console.log([gd, 'removed!']);\n",
              "            Plotly.purge(gd);\n",
              "            observer.disconnect();\n",
              "        }}\n",
              "}});\n",
              "\n",
              "// Listen for the removal of the full notebook cells\n",
              "var notebookContainer = gd.closest('#notebook-container');\n",
              "if (notebookContainer) {{\n",
              "    x.observe(notebookContainer, {childList: true});\n",
              "}}\n",
              "\n",
              "// Listen for the clearing of the current output cell\n",
              "var outputEl = gd.closest('.output');\n",
              "if (outputEl) {{\n",
              "    x.observe(outputEl, {childList: true});\n",
              "}}\n",
              "\n",
              "                        })                };                            </script>        </div>\n",
              "</body>\n",
              "</html>"
            ]
          },
          "metadata": {}
        }
      ]
    },
    {
      "cell_type": "code",
      "source": [
        "optuna.visualization.plot_param_importances(study)"
      ],
      "metadata": {
        "colab": {
          "base_uri": "https://localhost:8080/",
          "height": 542
        },
        "id": "AGDrXn-hlTWj",
        "outputId": "55a09dfc-a8cb-4f21-d755-1a59d488a03e"
      },
      "execution_count": 38,
      "outputs": [
        {
          "output_type": "display_data",
          "data": {
            "text/html": [
              "<html>\n",
              "<head><meta charset=\"utf-8\" /></head>\n",
              "<body>\n",
              "    <div>            <script src=\"https://cdnjs.cloudflare.com/ajax/libs/mathjax/2.7.5/MathJax.js?config=TeX-AMS-MML_SVG\"></script><script type=\"text/javascript\">if (window.MathJax) {MathJax.Hub.Config({SVG: {font: \"STIX-Web\"}});}</script>                <script type=\"text/javascript\">window.PlotlyConfig = {MathJaxConfig: 'local'};</script>\n",
              "        <script src=\"https://cdn.plot.ly/plotly-2.8.3.min.js\"></script>                <div id=\"c677d633-8f89-4d6e-bbed-e16c7f059024\" class=\"plotly-graph-div\" style=\"height:525px; width:100%;\"></div>            <script type=\"text/javascript\">                                    window.PLOTLYENV=window.PLOTLYENV || {};                                    if (document.getElementById(\"c677d633-8f89-4d6e-bbed-e16c7f059024\")) {                    Plotly.newPlot(                        \"c677d633-8f89-4d6e-bbed-e16c7f059024\",                        [{\"cliponaxis\":false,\"hovertemplate\":[\"n_neighbors (IntDistribution): 0.321408967197069<extra></extra>\",\"metric (CategoricalDistribution): 0.678591032802931<extra></extra>\"],\"marker\":{\"color\":\"rgb(66,146,198)\"},\"orientation\":\"h\",\"text\":[\"0.32\",\"0.68\"],\"textposition\":\"outside\",\"x\":[0.321408967197069,0.678591032802931],\"y\":[\"n_neighbors\",\"metric\"],\"type\":\"bar\"}],                        {\"showlegend\":false,\"title\":{\"text\":\"Hyperparameter Importances\"},\"xaxis\":{\"title\":{\"text\":\"Importance for Objective Value\"}},\"yaxis\":{\"title\":{\"text\":\"Hyperparameter\"}},\"template\":{\"data\":{\"bar\":[{\"error_x\":{\"color\":\"#2a3f5f\"},\"error_y\":{\"color\":\"#2a3f5f\"},\"marker\":{\"line\":{\"color\":\"#E5ECF6\",\"width\":0.5},\"pattern\":{\"fillmode\":\"overlay\",\"size\":10,\"solidity\":0.2}},\"type\":\"bar\"}],\"barpolar\":[{\"marker\":{\"line\":{\"color\":\"#E5ECF6\",\"width\":0.5},\"pattern\":{\"fillmode\":\"overlay\",\"size\":10,\"solidity\":0.2}},\"type\":\"barpolar\"}],\"carpet\":[{\"aaxis\":{\"endlinecolor\":\"#2a3f5f\",\"gridcolor\":\"white\",\"linecolor\":\"white\",\"minorgridcolor\":\"white\",\"startlinecolor\":\"#2a3f5f\"},\"baxis\":{\"endlinecolor\":\"#2a3f5f\",\"gridcolor\":\"white\",\"linecolor\":\"white\",\"minorgridcolor\":\"white\",\"startlinecolor\":\"#2a3f5f\"},\"type\":\"carpet\"}],\"choropleth\":[{\"colorbar\":{\"outlinewidth\":0,\"ticks\":\"\"},\"type\":\"choropleth\"}],\"contour\":[{\"colorbar\":{\"outlinewidth\":0,\"ticks\":\"\"},\"colorscale\":[[0.0,\"#0d0887\"],[0.1111111111111111,\"#46039f\"],[0.2222222222222222,\"#7201a8\"],[0.3333333333333333,\"#9c179e\"],[0.4444444444444444,\"#bd3786\"],[0.5555555555555556,\"#d8576b\"],[0.6666666666666666,\"#ed7953\"],[0.7777777777777778,\"#fb9f3a\"],[0.8888888888888888,\"#fdca26\"],[1.0,\"#f0f921\"]],\"type\":\"contour\"}],\"contourcarpet\":[{\"colorbar\":{\"outlinewidth\":0,\"ticks\":\"\"},\"type\":\"contourcarpet\"}],\"heatmap\":[{\"colorbar\":{\"outlinewidth\":0,\"ticks\":\"\"},\"colorscale\":[[0.0,\"#0d0887\"],[0.1111111111111111,\"#46039f\"],[0.2222222222222222,\"#7201a8\"],[0.3333333333333333,\"#9c179e\"],[0.4444444444444444,\"#bd3786\"],[0.5555555555555556,\"#d8576b\"],[0.6666666666666666,\"#ed7953\"],[0.7777777777777778,\"#fb9f3a\"],[0.8888888888888888,\"#fdca26\"],[1.0,\"#f0f921\"]],\"type\":\"heatmap\"}],\"heatmapgl\":[{\"colorbar\":{\"outlinewidth\":0,\"ticks\":\"\"},\"colorscale\":[[0.0,\"#0d0887\"],[0.1111111111111111,\"#46039f\"],[0.2222222222222222,\"#7201a8\"],[0.3333333333333333,\"#9c179e\"],[0.4444444444444444,\"#bd3786\"],[0.5555555555555556,\"#d8576b\"],[0.6666666666666666,\"#ed7953\"],[0.7777777777777778,\"#fb9f3a\"],[0.8888888888888888,\"#fdca26\"],[1.0,\"#f0f921\"]],\"type\":\"heatmapgl\"}],\"histogram\":[{\"marker\":{\"pattern\":{\"fillmode\":\"overlay\",\"size\":10,\"solidity\":0.2}},\"type\":\"histogram\"}],\"histogram2d\":[{\"colorbar\":{\"outlinewidth\":0,\"ticks\":\"\"},\"colorscale\":[[0.0,\"#0d0887\"],[0.1111111111111111,\"#46039f\"],[0.2222222222222222,\"#7201a8\"],[0.3333333333333333,\"#9c179e\"],[0.4444444444444444,\"#bd3786\"],[0.5555555555555556,\"#d8576b\"],[0.6666666666666666,\"#ed7953\"],[0.7777777777777778,\"#fb9f3a\"],[0.8888888888888888,\"#fdca26\"],[1.0,\"#f0f921\"]],\"type\":\"histogram2d\"}],\"histogram2dcontour\":[{\"colorbar\":{\"outlinewidth\":0,\"ticks\":\"\"},\"colorscale\":[[0.0,\"#0d0887\"],[0.1111111111111111,\"#46039f\"],[0.2222222222222222,\"#7201a8\"],[0.3333333333333333,\"#9c179e\"],[0.4444444444444444,\"#bd3786\"],[0.5555555555555556,\"#d8576b\"],[0.6666666666666666,\"#ed7953\"],[0.7777777777777778,\"#fb9f3a\"],[0.8888888888888888,\"#fdca26\"],[1.0,\"#f0f921\"]],\"type\":\"histogram2dcontour\"}],\"mesh3d\":[{\"colorbar\":{\"outlinewidth\":0,\"ticks\":\"\"},\"type\":\"mesh3d\"}],\"parcoords\":[{\"line\":{\"colorbar\":{\"outlinewidth\":0,\"ticks\":\"\"}},\"type\":\"parcoords\"}],\"pie\":[{\"automargin\":true,\"type\":\"pie\"}],\"scatter\":[{\"marker\":{\"colorbar\":{\"outlinewidth\":0,\"ticks\":\"\"}},\"type\":\"scatter\"}],\"scatter3d\":[{\"line\":{\"colorbar\":{\"outlinewidth\":0,\"ticks\":\"\"}},\"marker\":{\"colorbar\":{\"outlinewidth\":0,\"ticks\":\"\"}},\"type\":\"scatter3d\"}],\"scattercarpet\":[{\"marker\":{\"colorbar\":{\"outlinewidth\":0,\"ticks\":\"\"}},\"type\":\"scattercarpet\"}],\"scattergeo\":[{\"marker\":{\"colorbar\":{\"outlinewidth\":0,\"ticks\":\"\"}},\"type\":\"scattergeo\"}],\"scattergl\":[{\"marker\":{\"colorbar\":{\"outlinewidth\":0,\"ticks\":\"\"}},\"type\":\"scattergl\"}],\"scattermapbox\":[{\"marker\":{\"colorbar\":{\"outlinewidth\":0,\"ticks\":\"\"}},\"type\":\"scattermapbox\"}],\"scatterpolar\":[{\"marker\":{\"colorbar\":{\"outlinewidth\":0,\"ticks\":\"\"}},\"type\":\"scatterpolar\"}],\"scatterpolargl\":[{\"marker\":{\"colorbar\":{\"outlinewidth\":0,\"ticks\":\"\"}},\"type\":\"scatterpolargl\"}],\"scatterternary\":[{\"marker\":{\"colorbar\":{\"outlinewidth\":0,\"ticks\":\"\"}},\"type\":\"scatterternary\"}],\"surface\":[{\"colorbar\":{\"outlinewidth\":0,\"ticks\":\"\"},\"colorscale\":[[0.0,\"#0d0887\"],[0.1111111111111111,\"#46039f\"],[0.2222222222222222,\"#7201a8\"],[0.3333333333333333,\"#9c179e\"],[0.4444444444444444,\"#bd3786\"],[0.5555555555555556,\"#d8576b\"],[0.6666666666666666,\"#ed7953\"],[0.7777777777777778,\"#fb9f3a\"],[0.8888888888888888,\"#fdca26\"],[1.0,\"#f0f921\"]],\"type\":\"surface\"}],\"table\":[{\"cells\":{\"fill\":{\"color\":\"#EBF0F8\"},\"line\":{\"color\":\"white\"}},\"header\":{\"fill\":{\"color\":\"#C8D4E3\"},\"line\":{\"color\":\"white\"}},\"type\":\"table\"}]},\"layout\":{\"annotationdefaults\":{\"arrowcolor\":\"#2a3f5f\",\"arrowhead\":0,\"arrowwidth\":1},\"autotypenumbers\":\"strict\",\"coloraxis\":{\"colorbar\":{\"outlinewidth\":0,\"ticks\":\"\"}},\"colorscale\":{\"diverging\":[[0,\"#8e0152\"],[0.1,\"#c51b7d\"],[0.2,\"#de77ae\"],[0.3,\"#f1b6da\"],[0.4,\"#fde0ef\"],[0.5,\"#f7f7f7\"],[0.6,\"#e6f5d0\"],[0.7,\"#b8e186\"],[0.8,\"#7fbc41\"],[0.9,\"#4d9221\"],[1,\"#276419\"]],\"sequential\":[[0.0,\"#0d0887\"],[0.1111111111111111,\"#46039f\"],[0.2222222222222222,\"#7201a8\"],[0.3333333333333333,\"#9c179e\"],[0.4444444444444444,\"#bd3786\"],[0.5555555555555556,\"#d8576b\"],[0.6666666666666666,\"#ed7953\"],[0.7777777777777778,\"#fb9f3a\"],[0.8888888888888888,\"#fdca26\"],[1.0,\"#f0f921\"]],\"sequentialminus\":[[0.0,\"#0d0887\"],[0.1111111111111111,\"#46039f\"],[0.2222222222222222,\"#7201a8\"],[0.3333333333333333,\"#9c179e\"],[0.4444444444444444,\"#bd3786\"],[0.5555555555555556,\"#d8576b\"],[0.6666666666666666,\"#ed7953\"],[0.7777777777777778,\"#fb9f3a\"],[0.8888888888888888,\"#fdca26\"],[1.0,\"#f0f921\"]]},\"colorway\":[\"#636efa\",\"#EF553B\",\"#00cc96\",\"#ab63fa\",\"#FFA15A\",\"#19d3f3\",\"#FF6692\",\"#B6E880\",\"#FF97FF\",\"#FECB52\"],\"font\":{\"color\":\"#2a3f5f\"},\"geo\":{\"bgcolor\":\"white\",\"lakecolor\":\"white\",\"landcolor\":\"#E5ECF6\",\"showlakes\":true,\"showland\":true,\"subunitcolor\":\"white\"},\"hoverlabel\":{\"align\":\"left\"},\"hovermode\":\"closest\",\"mapbox\":{\"style\":\"light\"},\"paper_bgcolor\":\"white\",\"plot_bgcolor\":\"#E5ECF6\",\"polar\":{\"angularaxis\":{\"gridcolor\":\"white\",\"linecolor\":\"white\",\"ticks\":\"\"},\"bgcolor\":\"#E5ECF6\",\"radialaxis\":{\"gridcolor\":\"white\",\"linecolor\":\"white\",\"ticks\":\"\"}},\"scene\":{\"xaxis\":{\"backgroundcolor\":\"#E5ECF6\",\"gridcolor\":\"white\",\"gridwidth\":2,\"linecolor\":\"white\",\"showbackground\":true,\"ticks\":\"\",\"zerolinecolor\":\"white\"},\"yaxis\":{\"backgroundcolor\":\"#E5ECF6\",\"gridcolor\":\"white\",\"gridwidth\":2,\"linecolor\":\"white\",\"showbackground\":true,\"ticks\":\"\",\"zerolinecolor\":\"white\"},\"zaxis\":{\"backgroundcolor\":\"#E5ECF6\",\"gridcolor\":\"white\",\"gridwidth\":2,\"linecolor\":\"white\",\"showbackground\":true,\"ticks\":\"\",\"zerolinecolor\":\"white\"}},\"shapedefaults\":{\"line\":{\"color\":\"#2a3f5f\"}},\"ternary\":{\"aaxis\":{\"gridcolor\":\"white\",\"linecolor\":\"white\",\"ticks\":\"\"},\"baxis\":{\"gridcolor\":\"white\",\"linecolor\":\"white\",\"ticks\":\"\"},\"bgcolor\":\"#E5ECF6\",\"caxis\":{\"gridcolor\":\"white\",\"linecolor\":\"white\",\"ticks\":\"\"}},\"title\":{\"x\":0.05},\"xaxis\":{\"automargin\":true,\"gridcolor\":\"white\",\"linecolor\":\"white\",\"ticks\":\"\",\"title\":{\"standoff\":15},\"zerolinecolor\":\"white\",\"zerolinewidth\":2},\"yaxis\":{\"automargin\":true,\"gridcolor\":\"white\",\"linecolor\":\"white\",\"ticks\":\"\",\"title\":{\"standoff\":15},\"zerolinecolor\":\"white\",\"zerolinewidth\":2}}}},                        {\"responsive\": true}                    ).then(function(){\n",
              "                            \n",
              "var gd = document.getElementById('c677d633-8f89-4d6e-bbed-e16c7f059024');\n",
              "var x = new MutationObserver(function (mutations, observer) {{\n",
              "        var display = window.getComputedStyle(gd).display;\n",
              "        if (!display || display === 'none') {{\n",
              "            console.log([gd, 'removed!']);\n",
              "            Plotly.purge(gd);\n",
              "            observer.disconnect();\n",
              "        }}\n",
              "}});\n",
              "\n",
              "// Listen for the removal of the full notebook cells\n",
              "var notebookContainer = gd.closest('#notebook-container');\n",
              "if (notebookContainer) {{\n",
              "    x.observe(notebookContainer, {childList: true});\n",
              "}}\n",
              "\n",
              "// Listen for the clearing of the current output cell\n",
              "var outputEl = gd.closest('.output');\n",
              "if (outputEl) {{\n",
              "    x.observe(outputEl, {childList: true});\n",
              "}}\n",
              "\n",
              "                        })                };                            </script>        </div>\n",
              "</body>\n",
              "</html>"
            ]
          },
          "metadata": {}
        }
      ]
    },
    {
      "cell_type": "code",
      "source": [
        "optuna.visualization.plot_contour(study, params=[\"metric\", \"n_neighbors\"])\n"
      ],
      "metadata": {
        "colab": {
          "base_uri": "https://localhost:8080/",
          "height": 542
        },
        "id": "uhhhaA6llxnu",
        "outputId": "017c018c-4ba6-4765-c3d1-790357d6538b"
      },
      "execution_count": 40,
      "outputs": [
        {
          "output_type": "display_data",
          "data": {
            "text/html": [
              "<html>\n",
              "<head><meta charset=\"utf-8\" /></head>\n",
              "<body>\n",
              "    <div>            <script src=\"https://cdnjs.cloudflare.com/ajax/libs/mathjax/2.7.5/MathJax.js?config=TeX-AMS-MML_SVG\"></script><script type=\"text/javascript\">if (window.MathJax) {MathJax.Hub.Config({SVG: {font: \"STIX-Web\"}});}</script>                <script type=\"text/javascript\">window.PlotlyConfig = {MathJaxConfig: 'local'};</script>\n",
              "        <script src=\"https://cdn.plot.ly/plotly-2.8.3.min.js\"></script>                <div id=\"d11f5d81-d23b-4478-a1c8-813ae1f84599\" class=\"plotly-graph-div\" style=\"height:525px; width:100%;\"></div>            <script type=\"text/javascript\">                                    window.PLOTLYENV=window.PLOTLYENV || {};                                    if (document.getElementById(\"d11f5d81-d23b-4478-a1c8-813ae1f84599\")) {                    Plotly.newPlot(                        \"d11f5d81-d23b-4478-a1c8-813ae1f84599\",                        [{\"colorbar\":{\"title\":{\"text\":\"Objective Value\"}},\"colorscale\":[[0.0,\"rgb(247,251,255)\"],[0.125,\"rgb(222,235,247)\"],[0.25,\"rgb(198,219,239)\"],[0.375,\"rgb(158,202,225)\"],[0.5,\"rgb(107,174,214)\"],[0.625,\"rgb(66,146,198)\"],[0.75,\"rgb(33,113,181)\"],[0.875,\"rgb(8,81,156)\"],[1.0,\"rgb(8,48,107)\"]],\"connectgaps\":true,\"contours\":{\"coloring\":\"heatmap\"},\"hoverinfo\":\"none\",\"line\":{\"smoothing\":1.3},\"reversescale\":false,\"x\":[\"cityblock\",\"cosine\",\"euclidean\",\"l1\",\"l2\",\"manhattan\",\"nan_euclidean\"],\"y\":[0.04999999999999993,1,2,3,4,5,6,7,8,9,11,12,14,15,16,17,18,19,20,20.95],\"z\":[[null,null,null,null,null,null,null],[0.8239014195740391,0.7247450187497955,0.7397289262127136,0.8239014195740391,0.7397289262127136,0.8239014195740391,0.7397289262127136],[0.8010434519539569,0.7104727423949986,null,0.8010434519539569,0.7204872438550871,0.8010434519539569,null],[0.8174427391068446,null,0.7371189355870021,0.8174427391068446,0.7371189355870021,0.8174427391068446,0.7371189355870021],[0.8064721624199659,0.7116181695650001,0.7242516497900358,0.8064721624199659,null,null,null],[0.8007119689579971,null,0.7225385508602775,0.8007119689579971,0.7225385508602775,null,0.7225385508602775],[0.8000252436283004,0.6966364166470798,null,null,null,0.8000252436283004,null],[0.783993945772343,0.6910285648806685,null,null,null,null,null],[null,null,0.7040365669125833,null,null,null,null],[0.7757768099362072,null,null,0.7757768099362072,null,null,null],[0.7679435885316858,0.6868650957476536,null,null,null,null,null],[null,null,null,null,0.687292284903444,0.7599936772377407,null],[0.7530758077966773,null,null,null,null,null,null],[null,null,null,0.7542132675500238,null,null,null],[0.751875569530463,null,null,null,null,null,null],[null,null,null,null,null,null,0.684152735479234],[null,null,null,null,0.685741726544354,0.7457426042521802,null],[null,null,0.6851831109994547,null,null,0.7420388175130715,null],[null,null,0.6817140257693007,null,null,null,null],[null,null,null,null,null,null,null]],\"type\":\"contour\"},{\"marker\":{\"color\":\"black\",\"line\":{\"color\":\"Grey\",\"width\":2.0}},\"mode\":\"markers\",\"showlegend\":false,\"x\":[\"euclidean\",\"l2\",\"manhattan\",\"euclidean\",\"cityblock\",\"manhattan\",\"nan_euclidean\",\"l2\",\"manhattan\",\"manhattan\",\"cityblock\",\"cityblock\",\"cityblock\",\"l1\",\"l1\",\"cosine\",\"l1\",\"l1\",\"cosine\",\"nan_euclidean\",\"cityblock\",\"cityblock\",\"cityblock\",\"l1\",\"cityblock\",\"cityblock\",\"l1\",\"cityblock\",\"euclidean\",\"l2\",\"nan_euclidean\",\"l1\",\"l1\",\"l1\",\"euclidean\",\"l1\",\"cosine\",\"cityblock\",\"l2\",\"l1\",\"euclidean\",\"cityblock\",\"cityblock\",\"cityblock\",\"manhattan\",\"cityblock\",\"cityblock\",\"nan_euclidean\",\"l1\",\"cityblock\",\"manhattan\",\"l1\",\"l1\",\"l1\",\"l1\",\"cosine\",\"cityblock\",\"l2\",\"l1\",\"cityblock\",\"l1\",\"l1\",\"l1\",\"l1\",\"nan_euclidean\",\"l1\",\"euclidean\",\"cityblock\",\"cosine\",\"l1\",\"manhattan\",\"cityblock\",\"cityblock\",\"cityblock\",\"cityblock\",\"l2\",\"cityblock\",\"l1\",\"cityblock\",\"l1\",\"cityblock\",\"cityblock\",\"cityblock\",\"cityblock\",\"cityblock\",\"nan_euclidean\",\"l1\",\"euclidean\",\"cityblock\",\"manhattan\",\"cosine\",\"l1\",\"l1\",\"l1\",\"l1\",\"l1\",\"l2\",\"cityblock\",\"l1\",\"cityblock\"],\"y\":[19,18,19,5,4,6,5,12,2,18,11,1,2,1,9,1,15,9,7,3,14,4,1,1,7,1,3,3,8,5,1,1,2,3,4,1,6,4,2,5,20,1,2,1,3,2,5,17,2,6,12,1,1,4,3,2,1,3,1,4,2,1,1,2,3,1,3,2,11,4,1,1,2,1,2,3,14,1,2,3,1,2,1,2,9,1,2,1,3,2,4,1,1,1,2,3,1,16,2,1],\"type\":\"scatter\"}],                        {\"title\":{\"text\":\"Contour Plot\"},\"template\":{\"data\":{\"bar\":[{\"error_x\":{\"color\":\"#2a3f5f\"},\"error_y\":{\"color\":\"#2a3f5f\"},\"marker\":{\"line\":{\"color\":\"#E5ECF6\",\"width\":0.5},\"pattern\":{\"fillmode\":\"overlay\",\"size\":10,\"solidity\":0.2}},\"type\":\"bar\"}],\"barpolar\":[{\"marker\":{\"line\":{\"color\":\"#E5ECF6\",\"width\":0.5},\"pattern\":{\"fillmode\":\"overlay\",\"size\":10,\"solidity\":0.2}},\"type\":\"barpolar\"}],\"carpet\":[{\"aaxis\":{\"endlinecolor\":\"#2a3f5f\",\"gridcolor\":\"white\",\"linecolor\":\"white\",\"minorgridcolor\":\"white\",\"startlinecolor\":\"#2a3f5f\"},\"baxis\":{\"endlinecolor\":\"#2a3f5f\",\"gridcolor\":\"white\",\"linecolor\":\"white\",\"minorgridcolor\":\"white\",\"startlinecolor\":\"#2a3f5f\"},\"type\":\"carpet\"}],\"choropleth\":[{\"colorbar\":{\"outlinewidth\":0,\"ticks\":\"\"},\"type\":\"choropleth\"}],\"contour\":[{\"colorbar\":{\"outlinewidth\":0,\"ticks\":\"\"},\"colorscale\":[[0.0,\"#0d0887\"],[0.1111111111111111,\"#46039f\"],[0.2222222222222222,\"#7201a8\"],[0.3333333333333333,\"#9c179e\"],[0.4444444444444444,\"#bd3786\"],[0.5555555555555556,\"#d8576b\"],[0.6666666666666666,\"#ed7953\"],[0.7777777777777778,\"#fb9f3a\"],[0.8888888888888888,\"#fdca26\"],[1.0,\"#f0f921\"]],\"type\":\"contour\"}],\"contourcarpet\":[{\"colorbar\":{\"outlinewidth\":0,\"ticks\":\"\"},\"type\":\"contourcarpet\"}],\"heatmap\":[{\"colorbar\":{\"outlinewidth\":0,\"ticks\":\"\"},\"colorscale\":[[0.0,\"#0d0887\"],[0.1111111111111111,\"#46039f\"],[0.2222222222222222,\"#7201a8\"],[0.3333333333333333,\"#9c179e\"],[0.4444444444444444,\"#bd3786\"],[0.5555555555555556,\"#d8576b\"],[0.6666666666666666,\"#ed7953\"],[0.7777777777777778,\"#fb9f3a\"],[0.8888888888888888,\"#fdca26\"],[1.0,\"#f0f921\"]],\"type\":\"heatmap\"}],\"heatmapgl\":[{\"colorbar\":{\"outlinewidth\":0,\"ticks\":\"\"},\"colorscale\":[[0.0,\"#0d0887\"],[0.1111111111111111,\"#46039f\"],[0.2222222222222222,\"#7201a8\"],[0.3333333333333333,\"#9c179e\"],[0.4444444444444444,\"#bd3786\"],[0.5555555555555556,\"#d8576b\"],[0.6666666666666666,\"#ed7953\"],[0.7777777777777778,\"#fb9f3a\"],[0.8888888888888888,\"#fdca26\"],[1.0,\"#f0f921\"]],\"type\":\"heatmapgl\"}],\"histogram\":[{\"marker\":{\"pattern\":{\"fillmode\":\"overlay\",\"size\":10,\"solidity\":0.2}},\"type\":\"histogram\"}],\"histogram2d\":[{\"colorbar\":{\"outlinewidth\":0,\"ticks\":\"\"},\"colorscale\":[[0.0,\"#0d0887\"],[0.1111111111111111,\"#46039f\"],[0.2222222222222222,\"#7201a8\"],[0.3333333333333333,\"#9c179e\"],[0.4444444444444444,\"#bd3786\"],[0.5555555555555556,\"#d8576b\"],[0.6666666666666666,\"#ed7953\"],[0.7777777777777778,\"#fb9f3a\"],[0.8888888888888888,\"#fdca26\"],[1.0,\"#f0f921\"]],\"type\":\"histogram2d\"}],\"histogram2dcontour\":[{\"colorbar\":{\"outlinewidth\":0,\"ticks\":\"\"},\"colorscale\":[[0.0,\"#0d0887\"],[0.1111111111111111,\"#46039f\"],[0.2222222222222222,\"#7201a8\"],[0.3333333333333333,\"#9c179e\"],[0.4444444444444444,\"#bd3786\"],[0.5555555555555556,\"#d8576b\"],[0.6666666666666666,\"#ed7953\"],[0.7777777777777778,\"#fb9f3a\"],[0.8888888888888888,\"#fdca26\"],[1.0,\"#f0f921\"]],\"type\":\"histogram2dcontour\"}],\"mesh3d\":[{\"colorbar\":{\"outlinewidth\":0,\"ticks\":\"\"},\"type\":\"mesh3d\"}],\"parcoords\":[{\"line\":{\"colorbar\":{\"outlinewidth\":0,\"ticks\":\"\"}},\"type\":\"parcoords\"}],\"pie\":[{\"automargin\":true,\"type\":\"pie\"}],\"scatter\":[{\"marker\":{\"colorbar\":{\"outlinewidth\":0,\"ticks\":\"\"}},\"type\":\"scatter\"}],\"scatter3d\":[{\"line\":{\"colorbar\":{\"outlinewidth\":0,\"ticks\":\"\"}},\"marker\":{\"colorbar\":{\"outlinewidth\":0,\"ticks\":\"\"}},\"type\":\"scatter3d\"}],\"scattercarpet\":[{\"marker\":{\"colorbar\":{\"outlinewidth\":0,\"ticks\":\"\"}},\"type\":\"scattercarpet\"}],\"scattergeo\":[{\"marker\":{\"colorbar\":{\"outlinewidth\":0,\"ticks\":\"\"}},\"type\":\"scattergeo\"}],\"scattergl\":[{\"marker\":{\"colorbar\":{\"outlinewidth\":0,\"ticks\":\"\"}},\"type\":\"scattergl\"}],\"scattermapbox\":[{\"marker\":{\"colorbar\":{\"outlinewidth\":0,\"ticks\":\"\"}},\"type\":\"scattermapbox\"}],\"scatterpolar\":[{\"marker\":{\"colorbar\":{\"outlinewidth\":0,\"ticks\":\"\"}},\"type\":\"scatterpolar\"}],\"scatterpolargl\":[{\"marker\":{\"colorbar\":{\"outlinewidth\":0,\"ticks\":\"\"}},\"type\":\"scatterpolargl\"}],\"scatterternary\":[{\"marker\":{\"colorbar\":{\"outlinewidth\":0,\"ticks\":\"\"}},\"type\":\"scatterternary\"}],\"surface\":[{\"colorbar\":{\"outlinewidth\":0,\"ticks\":\"\"},\"colorscale\":[[0.0,\"#0d0887\"],[0.1111111111111111,\"#46039f\"],[0.2222222222222222,\"#7201a8\"],[0.3333333333333333,\"#9c179e\"],[0.4444444444444444,\"#bd3786\"],[0.5555555555555556,\"#d8576b\"],[0.6666666666666666,\"#ed7953\"],[0.7777777777777778,\"#fb9f3a\"],[0.8888888888888888,\"#fdca26\"],[1.0,\"#f0f921\"]],\"type\":\"surface\"}],\"table\":[{\"cells\":{\"fill\":{\"color\":\"#EBF0F8\"},\"line\":{\"color\":\"white\"}},\"header\":{\"fill\":{\"color\":\"#C8D4E3\"},\"line\":{\"color\":\"white\"}},\"type\":\"table\"}]},\"layout\":{\"annotationdefaults\":{\"arrowcolor\":\"#2a3f5f\",\"arrowhead\":0,\"arrowwidth\":1},\"autotypenumbers\":\"strict\",\"coloraxis\":{\"colorbar\":{\"outlinewidth\":0,\"ticks\":\"\"}},\"colorscale\":{\"diverging\":[[0,\"#8e0152\"],[0.1,\"#c51b7d\"],[0.2,\"#de77ae\"],[0.3,\"#f1b6da\"],[0.4,\"#fde0ef\"],[0.5,\"#f7f7f7\"],[0.6,\"#e6f5d0\"],[0.7,\"#b8e186\"],[0.8,\"#7fbc41\"],[0.9,\"#4d9221\"],[1,\"#276419\"]],\"sequential\":[[0.0,\"#0d0887\"],[0.1111111111111111,\"#46039f\"],[0.2222222222222222,\"#7201a8\"],[0.3333333333333333,\"#9c179e\"],[0.4444444444444444,\"#bd3786\"],[0.5555555555555556,\"#d8576b\"],[0.6666666666666666,\"#ed7953\"],[0.7777777777777778,\"#fb9f3a\"],[0.8888888888888888,\"#fdca26\"],[1.0,\"#f0f921\"]],\"sequentialminus\":[[0.0,\"#0d0887\"],[0.1111111111111111,\"#46039f\"],[0.2222222222222222,\"#7201a8\"],[0.3333333333333333,\"#9c179e\"],[0.4444444444444444,\"#bd3786\"],[0.5555555555555556,\"#d8576b\"],[0.6666666666666666,\"#ed7953\"],[0.7777777777777778,\"#fb9f3a\"],[0.8888888888888888,\"#fdca26\"],[1.0,\"#f0f921\"]]},\"colorway\":[\"#636efa\",\"#EF553B\",\"#00cc96\",\"#ab63fa\",\"#FFA15A\",\"#19d3f3\",\"#FF6692\",\"#B6E880\",\"#FF97FF\",\"#FECB52\"],\"font\":{\"color\":\"#2a3f5f\"},\"geo\":{\"bgcolor\":\"white\",\"lakecolor\":\"white\",\"landcolor\":\"#E5ECF6\",\"showlakes\":true,\"showland\":true,\"subunitcolor\":\"white\"},\"hoverlabel\":{\"align\":\"left\"},\"hovermode\":\"closest\",\"mapbox\":{\"style\":\"light\"},\"paper_bgcolor\":\"white\",\"plot_bgcolor\":\"#E5ECF6\",\"polar\":{\"angularaxis\":{\"gridcolor\":\"white\",\"linecolor\":\"white\",\"ticks\":\"\"},\"bgcolor\":\"#E5ECF6\",\"radialaxis\":{\"gridcolor\":\"white\",\"linecolor\":\"white\",\"ticks\":\"\"}},\"scene\":{\"xaxis\":{\"backgroundcolor\":\"#E5ECF6\",\"gridcolor\":\"white\",\"gridwidth\":2,\"linecolor\":\"white\",\"showbackground\":true,\"ticks\":\"\",\"zerolinecolor\":\"white\"},\"yaxis\":{\"backgroundcolor\":\"#E5ECF6\",\"gridcolor\":\"white\",\"gridwidth\":2,\"linecolor\":\"white\",\"showbackground\":true,\"ticks\":\"\",\"zerolinecolor\":\"white\"},\"zaxis\":{\"backgroundcolor\":\"#E5ECF6\",\"gridcolor\":\"white\",\"gridwidth\":2,\"linecolor\":\"white\",\"showbackground\":true,\"ticks\":\"\",\"zerolinecolor\":\"white\"}},\"shapedefaults\":{\"line\":{\"color\":\"#2a3f5f\"}},\"ternary\":{\"aaxis\":{\"gridcolor\":\"white\",\"linecolor\":\"white\",\"ticks\":\"\"},\"baxis\":{\"gridcolor\":\"white\",\"linecolor\":\"white\",\"ticks\":\"\"},\"bgcolor\":\"#E5ECF6\",\"caxis\":{\"gridcolor\":\"white\",\"linecolor\":\"white\",\"ticks\":\"\"}},\"title\":{\"x\":0.05},\"xaxis\":{\"automargin\":true,\"gridcolor\":\"white\",\"linecolor\":\"white\",\"ticks\":\"\",\"title\":{\"standoff\":15},\"zerolinecolor\":\"white\",\"zerolinewidth\":2},\"yaxis\":{\"automargin\":true,\"gridcolor\":\"white\",\"linecolor\":\"white\",\"ticks\":\"\",\"title\":{\"standoff\":15},\"zerolinecolor\":\"white\",\"zerolinewidth\":2}}},\"xaxis\":{\"title\":{\"text\":\"metric\"},\"range\":[-0.30000000000000004,6.3],\"type\":\"category\"},\"yaxis\":{\"title\":{\"text\":\"n_neighbors\"},\"range\":[0.04999999999999993,20.95]}},                        {\"responsive\": true}                    ).then(function(){\n",
              "                            \n",
              "var gd = document.getElementById('d11f5d81-d23b-4478-a1c8-813ae1f84599');\n",
              "var x = new MutationObserver(function (mutations, observer) {{\n",
              "        var display = window.getComputedStyle(gd).display;\n",
              "        if (!display || display === 'none') {{\n",
              "            console.log([gd, 'removed!']);\n",
              "            Plotly.purge(gd);\n",
              "            observer.disconnect();\n",
              "        }}\n",
              "}});\n",
              "\n",
              "// Listen for the removal of the full notebook cells\n",
              "var notebookContainer = gd.closest('#notebook-container');\n",
              "if (notebookContainer) {{\n",
              "    x.observe(notebookContainer, {childList: true});\n",
              "}}\n",
              "\n",
              "// Listen for the clearing of the current output cell\n",
              "var outputEl = gd.closest('.output');\n",
              "if (outputEl) {{\n",
              "    x.observe(outputEl, {childList: true});\n",
              "}}\n",
              "\n",
              "                        })                };                            </script>        </div>\n",
              "</body>\n",
              "</html>"
            ]
          },
          "metadata": {}
        }
      ]
    },
    {
      "cell_type": "code",
      "source": [],
      "metadata": {
        "id": "rkU7nqB3mH6e"
      },
      "execution_count": null,
      "outputs": []
    }
  ],
  "metadata": {
    "colab": {
      "provenance": [],
      "include_colab_link": true
    },
    "kernelspec": {
      "display_name": "Python 3",
      "name": "python3"
    },
    "language_info": {
      "name": "python"
    }
  },
  "nbformat": 4,
  "nbformat_minor": 0
}