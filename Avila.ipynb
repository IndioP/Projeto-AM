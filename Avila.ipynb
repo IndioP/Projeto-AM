{
  "cells": [
    {
      "cell_type": "markdown",
      "metadata": {
        "id": "view-in-github",
        "colab_type": "text"
      },
      "source": [
        "<a href=\"https://colab.research.google.com/github/IndioP/Projeto-AM/blob/main/Avila.ipynb\" target=\"_parent\"><img src=\"https://colab.research.google.com/assets/colab-badge.svg\" alt=\"Open In Colab\"/></a>"
      ]
    },
    {
      "cell_type": "markdown",
      "metadata": {
        "id": "AkUTfpA_inV_"
      },
      "source": [
        "# Projeto 1 de Aprendizado de Máquina\n",
        "## Grupo\n",
        "- João Victor de Lima Peixoto\n",
        "- José Douglas Pontes Silva\n",
        "- Marcos Heitor Carvalho de Oliveira\n",
        "- Mikael Vidal da Silva\n",
        "\n",
        "# Introdução\n",
        "O projeto da cadeira de aprendizado de máquina visa aplicar as diferentes técnicas aprendidas na disciplina para fazer uma análise exploratoria sobre a `precisão`, `cobertura` e `f1-score` presentes no uso de cada algoritmo estudado em um `dataset` do mundo real.\n",
        "\n",
        "Os algoritmos aprendidos na cadeira e testados no projeto foram:\n",
        "- Árvores de Decisões\n",
        "- Bayesiano Ingenuo\n",
        "- Regressão Logistica\n",
        "- K Vizinhos\n",
        "\n",
        ", onde cada algoritmo apresenta parâmetros e logicas próprias que serão discutidas na fundamentação teórica deste relatório.\n",
        "\n",
        "O conjunto de dados testado no projeto foi o `Avila Data Set`. Em resumo, esse conjunto de dados foi extraido através de 800 imagens da Biblia de Avila, uma cópia em latim da Biblia produzida no século XII em um local entre a Itália e a Espanha. No capítulo do conjunto de dados, faremos uma descrição mais ampla de como esse dataset é dividido e também \n",
        "\n",
        "\n",
        "# Fundamentação Teórica\n",
        "## Decision Tree Classifier\n",
        "\n",
        "## Naive Bayes\n",
        "\n",
        "## Logistic Regression\n",
        "\n",
        "## K-Neighbors\n",
        "\n",
        "# Conjunto de Dados\n",
        "\n",
        "A analisa paleografica do manuscrito indicou a presença de 12 escrivãos responsáveis pela copia. A quantidade de páginas escritas por cada escrivão não é igual.\n",
        "\n",
        "Each pattern contains 10 features and corresponds to a group of 4 consecutive rows.\n",
        "\n",
        "The prediction task consists in associating each pattern to one of the 12 copyists (labeled as: A, B, C, D, E, F, G, H, I, W, X, Y).\n",
        "The data have has been normalized, by using the Z-normalization method, and divided in two data sets: a training set containing 10430 samples, and a test set  containing the 10437 samples.\n",
        "\n",
        "\n",
        "# Metodologia\n",
        "\n",
        "# Resultados\n"
      ]
    },
    {
      "cell_type": "code",
      "execution_count": 1,
      "metadata": {
        "colab": {
          "base_uri": "https://localhost:8080/"
        },
        "id": "3fowlwl44XDu",
        "outputId": "ff62eac9-ac78-43a8-923f-dbc14105e4f9"
      },
      "outputs": [
        {
          "output_type": "stream",
          "name": "stdout",
          "text": [
            "fatal: destination path 'Projeto-AM' already exists and is not an empty directory.\n"
          ]
        }
      ],
      "source": [
        "!git clone https://github.com/IndioP/Projeto-AM"
      ]
    },
    {
      "cell_type": "code",
      "execution_count": 2,
      "metadata": {
        "id": "iorlHYAJKVxz"
      },
      "outputs": [],
      "source": [
        "import pandas as pd"
      ]
    },
    {
      "cell_type": "code",
      "execution_count": 3,
      "metadata": {
        "id": "h8HjT3TMJzQK"
      },
      "outputs": [],
      "source": [
        "names = ['F1','F2','F3','F4','F5','F6','F7','F8','F9','F10','Class']\n",
        "df = pd.read_csv(\"Projeto-AM/avila-tr.txt\",names = names)"
      ]
    },
    {
      "cell_type": "code",
      "execution_count": 4,
      "metadata": {
        "colab": {
          "base_uri": "https://localhost:8080/",
          "height": 206
        },
        "id": "Wz9UqFngKnOs",
        "outputId": "a6510695-67d8-41c7-9d3e-ccd9dd01eba6"
      },
      "outputs": [
        {
          "output_type": "execute_result",
          "data": {
            "text/plain": [
              "         F1        F2        F3        F4        F5        F6        F7  \\\n",
              "0  0.266074 -0.165620  0.320980  0.483299  0.172340  0.273364  0.371178   \n",
              "1  0.130292  0.870736 -3.210528  0.062493  0.261718  1.436060  1.465940   \n",
              "2 -0.116585  0.069915  0.068476 -0.783147  0.261718  0.439463 -0.081827   \n",
              "3  0.031541  0.297600 -3.210528 -0.583590 -0.721442 -0.307984  0.710932   \n",
              "4  0.229043  0.807926 -0.052442  0.082634  0.261718  0.148790  0.635431   \n",
              "\n",
              "         F8        F9       F10 Class  \n",
              "0  0.929823  0.251173  0.159345     A  \n",
              "1  0.636203  0.282354  0.515587     A  \n",
              "2 -0.888236 -0.123005  0.582939     A  \n",
              "3  1.051693  0.594169 -0.533994     A  \n",
              "4  0.051062  0.032902 -0.086652     F  "
            ],
            "text/html": [
              "\n",
              "  <div id=\"df-cce63ca6-5238-442f-b7c5-98e64b6ed1ce\">\n",
              "    <div class=\"colab-df-container\">\n",
              "      <div>\n",
              "<style scoped>\n",
              "    .dataframe tbody tr th:only-of-type {\n",
              "        vertical-align: middle;\n",
              "    }\n",
              "\n",
              "    .dataframe tbody tr th {\n",
              "        vertical-align: top;\n",
              "    }\n",
              "\n",
              "    .dataframe thead th {\n",
              "        text-align: right;\n",
              "    }\n",
              "</style>\n",
              "<table border=\"1\" class=\"dataframe\">\n",
              "  <thead>\n",
              "    <tr style=\"text-align: right;\">\n",
              "      <th></th>\n",
              "      <th>F1</th>\n",
              "      <th>F2</th>\n",
              "      <th>F3</th>\n",
              "      <th>F4</th>\n",
              "      <th>F5</th>\n",
              "      <th>F6</th>\n",
              "      <th>F7</th>\n",
              "      <th>F8</th>\n",
              "      <th>F9</th>\n",
              "      <th>F10</th>\n",
              "      <th>Class</th>\n",
              "    </tr>\n",
              "  </thead>\n",
              "  <tbody>\n",
              "    <tr>\n",
              "      <th>0</th>\n",
              "      <td>0.266074</td>\n",
              "      <td>-0.165620</td>\n",
              "      <td>0.320980</td>\n",
              "      <td>0.483299</td>\n",
              "      <td>0.172340</td>\n",
              "      <td>0.273364</td>\n",
              "      <td>0.371178</td>\n",
              "      <td>0.929823</td>\n",
              "      <td>0.251173</td>\n",
              "      <td>0.159345</td>\n",
              "      <td>A</td>\n",
              "    </tr>\n",
              "    <tr>\n",
              "      <th>1</th>\n",
              "      <td>0.130292</td>\n",
              "      <td>0.870736</td>\n",
              "      <td>-3.210528</td>\n",
              "      <td>0.062493</td>\n",
              "      <td>0.261718</td>\n",
              "      <td>1.436060</td>\n",
              "      <td>1.465940</td>\n",
              "      <td>0.636203</td>\n",
              "      <td>0.282354</td>\n",
              "      <td>0.515587</td>\n",
              "      <td>A</td>\n",
              "    </tr>\n",
              "    <tr>\n",
              "      <th>2</th>\n",
              "      <td>-0.116585</td>\n",
              "      <td>0.069915</td>\n",
              "      <td>0.068476</td>\n",
              "      <td>-0.783147</td>\n",
              "      <td>0.261718</td>\n",
              "      <td>0.439463</td>\n",
              "      <td>-0.081827</td>\n",
              "      <td>-0.888236</td>\n",
              "      <td>-0.123005</td>\n",
              "      <td>0.582939</td>\n",
              "      <td>A</td>\n",
              "    </tr>\n",
              "    <tr>\n",
              "      <th>3</th>\n",
              "      <td>0.031541</td>\n",
              "      <td>0.297600</td>\n",
              "      <td>-3.210528</td>\n",
              "      <td>-0.583590</td>\n",
              "      <td>-0.721442</td>\n",
              "      <td>-0.307984</td>\n",
              "      <td>0.710932</td>\n",
              "      <td>1.051693</td>\n",
              "      <td>0.594169</td>\n",
              "      <td>-0.533994</td>\n",
              "      <td>A</td>\n",
              "    </tr>\n",
              "    <tr>\n",
              "      <th>4</th>\n",
              "      <td>0.229043</td>\n",
              "      <td>0.807926</td>\n",
              "      <td>-0.052442</td>\n",
              "      <td>0.082634</td>\n",
              "      <td>0.261718</td>\n",
              "      <td>0.148790</td>\n",
              "      <td>0.635431</td>\n",
              "      <td>0.051062</td>\n",
              "      <td>0.032902</td>\n",
              "      <td>-0.086652</td>\n",
              "      <td>F</td>\n",
              "    </tr>\n",
              "  </tbody>\n",
              "</table>\n",
              "</div>\n",
              "      <button class=\"colab-df-convert\" onclick=\"convertToInteractive('df-cce63ca6-5238-442f-b7c5-98e64b6ed1ce')\"\n",
              "              title=\"Convert this dataframe to an interactive table.\"\n",
              "              style=\"display:none;\">\n",
              "        \n",
              "  <svg xmlns=\"http://www.w3.org/2000/svg\" height=\"24px\"viewBox=\"0 0 24 24\"\n",
              "       width=\"24px\">\n",
              "    <path d=\"M0 0h24v24H0V0z\" fill=\"none\"/>\n",
              "    <path d=\"M18.56 5.44l.94 2.06.94-2.06 2.06-.94-2.06-.94-.94-2.06-.94 2.06-2.06.94zm-11 1L8.5 8.5l.94-2.06 2.06-.94-2.06-.94L8.5 2.5l-.94 2.06-2.06.94zm10 10l.94 2.06.94-2.06 2.06-.94-2.06-.94-.94-2.06-.94 2.06-2.06.94z\"/><path d=\"M17.41 7.96l-1.37-1.37c-.4-.4-.92-.59-1.43-.59-.52 0-1.04.2-1.43.59L10.3 9.45l-7.72 7.72c-.78.78-.78 2.05 0 2.83L4 21.41c.39.39.9.59 1.41.59.51 0 1.02-.2 1.41-.59l7.78-7.78 2.81-2.81c.8-.78.8-2.07 0-2.86zM5.41 20L4 18.59l7.72-7.72 1.47 1.35L5.41 20z\"/>\n",
              "  </svg>\n",
              "      </button>\n",
              "      \n",
              "  <style>\n",
              "    .colab-df-container {\n",
              "      display:flex;\n",
              "      flex-wrap:wrap;\n",
              "      gap: 12px;\n",
              "    }\n",
              "\n",
              "    .colab-df-convert {\n",
              "      background-color: #E8F0FE;\n",
              "      border: none;\n",
              "      border-radius: 50%;\n",
              "      cursor: pointer;\n",
              "      display: none;\n",
              "      fill: #1967D2;\n",
              "      height: 32px;\n",
              "      padding: 0 0 0 0;\n",
              "      width: 32px;\n",
              "    }\n",
              "\n",
              "    .colab-df-convert:hover {\n",
              "      background-color: #E2EBFA;\n",
              "      box-shadow: 0px 1px 2px rgba(60, 64, 67, 0.3), 0px 1px 3px 1px rgba(60, 64, 67, 0.15);\n",
              "      fill: #174EA6;\n",
              "    }\n",
              "\n",
              "    [theme=dark] .colab-df-convert {\n",
              "      background-color: #3B4455;\n",
              "      fill: #D2E3FC;\n",
              "    }\n",
              "\n",
              "    [theme=dark] .colab-df-convert:hover {\n",
              "      background-color: #434B5C;\n",
              "      box-shadow: 0px 1px 3px 1px rgba(0, 0, 0, 0.15);\n",
              "      filter: drop-shadow(0px 1px 2px rgba(0, 0, 0, 0.3));\n",
              "      fill: #FFFFFF;\n",
              "    }\n",
              "  </style>\n",
              "\n",
              "      <script>\n",
              "        const buttonEl =\n",
              "          document.querySelector('#df-cce63ca6-5238-442f-b7c5-98e64b6ed1ce button.colab-df-convert');\n",
              "        buttonEl.style.display =\n",
              "          google.colab.kernel.accessAllowed ? 'block' : 'none';\n",
              "\n",
              "        async function convertToInteractive(key) {\n",
              "          const element = document.querySelector('#df-cce63ca6-5238-442f-b7c5-98e64b6ed1ce');\n",
              "          const dataTable =\n",
              "            await google.colab.kernel.invokeFunction('convertToInteractive',\n",
              "                                                     [key], {});\n",
              "          if (!dataTable) return;\n",
              "\n",
              "          const docLinkHtml = 'Like what you see? Visit the ' +\n",
              "            '<a target=\"_blank\" href=https://colab.research.google.com/notebooks/data_table.ipynb>data table notebook</a>'\n",
              "            + ' to learn more about interactive tables.';\n",
              "          element.innerHTML = '';\n",
              "          dataTable['output_type'] = 'display_data';\n",
              "          await google.colab.output.renderOutput(dataTable, element);\n",
              "          const docLink = document.createElement('div');\n",
              "          docLink.innerHTML = docLinkHtml;\n",
              "          element.appendChild(docLink);\n",
              "        }\n",
              "      </script>\n",
              "    </div>\n",
              "  </div>\n",
              "  "
            ]
          },
          "metadata": {},
          "execution_count": 4
        }
      ],
      "source": [
        "df.head()"
      ]
    },
    {
      "cell_type": "code",
      "execution_count": 5,
      "metadata": {
        "id": "--9H3OojKpV0"
      },
      "outputs": [],
      "source": [
        "from sklearn.model_selection import train_test_split"
      ]
    },
    {
      "cell_type": "code",
      "execution_count": 6,
      "metadata": {
        "id": "2INz5S4JK_1N"
      },
      "outputs": [],
      "source": [
        "X_train,X_valid,y_train,y_valid = train_test_split(df.drop(\"Class\",axis=1), df[\"Class\"],test_size=0.2)"
      ]
    },
    {
      "cell_type": "code",
      "execution_count": 7,
      "metadata": {
        "colab": {
          "base_uri": "https://localhost:8080/"
        },
        "id": "4TIm0U14LQZN",
        "outputId": "46d45410-3df7-4fe0-b490-1f73940fab23"
      },
      "outputs": [
        {
          "output_type": "execute_result",
          "data": {
            "text/plain": [
              "((8344, 10), (8344,), (2086, 10), (2086,))"
            ]
          },
          "metadata": {},
          "execution_count": 7
        }
      ],
      "source": [
        "X_train.shape,y_train.shape,X_valid.shape,y_valid.shape"
      ]
    },
    {
      "cell_type": "code",
      "execution_count": 8,
      "metadata": {
        "id": "smM-R6KfLSWT"
      },
      "outputs": [],
      "source": [
        "from sklearn.tree import DecisionTreeClassifier\n",
        "from sklearn.naive_bayes import GaussianNB\n",
        "from sklearn.linear_model import LogisticRegression\n",
        "from sklearn.neighbors import KNeighborsClassifier"
      ]
    },
    {
      "cell_type": "code",
      "execution_count": 9,
      "metadata": {
        "id": "8SAo3V0qQt-N"
      },
      "outputs": [],
      "source": [
        "from sklearn.metrics import f1_score,recall_score,precision_score"
      ]
    },
    {
      "cell_type": "code",
      "source": [
        "import numpy as np\n",
        "import matplotlib.pyplot as plt\n",
        "from sklearn.preprocessing import StandardScaler\n",
        "from sklearn.pipeline import Pipeline"
      ],
      "metadata": {
        "id": "rFm0n_-4Dzgn"
      },
      "execution_count": 10,
      "outputs": []
    },
    {
      "cell_type": "code",
      "source": [
        "import seaborn as sns"
      ],
      "metadata": {
        "id": "2ZOL-TaTKOtO"
      },
      "execution_count": null,
      "outputs": []
    },
    {
      "cell_type": "code",
      "execution_count": 11,
      "metadata": {
        "id": "sRy7rcexMfMx"
      },
      "outputs": [],
      "source": [
        "df = pd.read_csv(\"Projeto-AM/avila-ts.txt\",names=names)"
      ]
    },
    {
      "cell_type": "code",
      "execution_count": 12,
      "metadata": {
        "id": "YVsQkGq1Qncf"
      },
      "outputs": [],
      "source": [
        "X_test = df.drop(\"Class\",axis=1)\n",
        "y_test = df[\"Class\"]"
      ]
    },
    {
      "cell_type": "code",
      "execution_count": 13,
      "metadata": {
        "colab": {
          "base_uri": "https://localhost:8080/"
        },
        "id": "lcFB1qdgMEzv",
        "outputId": "a0c7a224-3b21-43ef-c621-10c426e4a6c3"
      },
      "outputs": [
        {
          "output_type": "stream",
          "name": "stdout",
          "text": [
            "model  DecisionTreeClassifier\n",
            "acuracia = 0.9712368168744008\n",
            "f1 0.9711696874365253\n",
            "recall 0.9712368168744008\n",
            "precision 0.9713954712622084\n",
            "----------------------------------------------------------------------------------------------------\n",
            "model  GaussianNB\n",
            "acuracia = 0.32550335570469796\n",
            "f1 0.3379763036147888\n",
            "recall 0.32550335570469796\n",
            "precision 0.5032106173506128\n",
            "----------------------------------------------------------------------------------------------------\n",
            "model  LogisticRegression\n",
            "acuracia = 0.5661553211888782\n",
            "f1 0.6431117467190509\n",
            "recall 0.5661553211888782\n",
            "precision 0.8113580570471344\n",
            "----------------------------------------------------------------------------------------------------\n",
            "model  KNeighborsClassifier\n"
          ]
        },
        {
          "output_type": "stream",
          "name": "stderr",
          "text": [
            "/usr/local/lib/python3.8/dist-packages/sklearn/metrics/_classification.py:1344: UndefinedMetricWarning: Recall is ill-defined and being set to 0.0 in labels with no true samples. Use `zero_division` parameter to control this behavior.\n",
            "  _warn_prf(average, modifier, msg_start, len(result))\n"
          ]
        },
        {
          "output_type": "stream",
          "name": "stdout",
          "text": [
            "acuracia = 0.7186001917545541\n",
            "f1 0.7252437071074476\n",
            "recall 0.7186001917545541\n",
            "precision 0.7432706608776494\n",
            "----------------------------------------------------------------------------------------------------\n"
          ]
        }
      ],
      "source": [
        "models = [DecisionTreeClassifier(), GaussianNB(), Pipeline([('scaler', StandardScaler()), ('LR', LogisticRegression(max_iter=10000))]), KNeighborsClassifier()]\n",
        "models_names = [\"DecisionTreeClassifier\", \"GaussianNB\", \"LogisticRegression\", \"KNeighborsClassifier\"]\n",
        "for model,name in zip(models,models_names):\n",
        "  print(f'model ',name)\n",
        "  clf = model\n",
        "  clf.fit(X_train,y_train)\n",
        "  \n",
        "  print(\"acuracia =\",clf.score(X_valid,y_valid))\n",
        "  \n",
        "  pred = clf.predict(X_valid)\n",
        "  print(\"f1\",f1_score(pred,y_valid,average=\"weighted\"))\n",
        "  print(\"recall\",recall_score(pred,y_valid,average=\"weighted\"))\n",
        "  print(\"precision\",precision_score(pred,y_valid,average=\"weighted\"))\n",
        "  print(\"-\"*100)"
      ]
    },
    {
      "cell_type": "code",
      "execution_count": 14,
      "metadata": {
        "colab": {
          "base_uri": "https://localhost:8080/"
        },
        "id": "Z9VuLxEPQuxL",
        "outputId": "26ba1916-ed49-4ead-b40f-c2a0cd3fefed"
      },
      "outputs": [
        {
          "output_type": "stream",
          "name": "stdout",
          "text": [
            "f1 0.7356175724013824\n",
            "recall 0.7299032288971927\n",
            "precision 0.752692824527761\n"
          ]
        }
      ],
      "source": [
        "pred = clf.predict(X_test)\n",
        "print(\"f1\",f1_score(pred,y_test,average=\"weighted\"))\n",
        "print(\"recall\",recall_score(pred,y_test,average=\"weighted\"))\n",
        "print(\"precision\",precision_score(pred,y_test,average=\"weighted\"))"
      ]
    },
    {
      "cell_type": "code",
      "execution_count": 20,
      "metadata": {
        "colab": {
          "base_uri": "https://localhost:8080/"
        },
        "id": "zkZFB8s8SzCL",
        "outputId": "5f9572fa-4320-47a8-9a2e-c9a08b982048"
      },
      "outputs": [
        {
          "output_type": "stream",
          "name": "stdout",
          "text": [
            "Looking in indexes: https://pypi.org/simple, https://us-python.pkg.dev/colab-wheels/public/simple/\n",
            "Collecting optuna\n",
            "  Downloading optuna-3.1.0-py3-none-any.whl (365 kB)\n",
            "\u001b[2K     \u001b[90m━━━━━━━━━━━━━━━━━━━━━━━━━━━━━━━━━━━━━━\u001b[0m \u001b[32m365.3/365.3 KB\u001b[0m \u001b[31m18.0 MB/s\u001b[0m eta \u001b[36m0:00:00\u001b[0m\n",
            "\u001b[?25hCollecting cmaes>=0.9.1\n",
            "  Downloading cmaes-0.9.1-py3-none-any.whl (21 kB)\n",
            "Collecting alembic>=1.5.0\n",
            "  Downloading alembic-1.9.4-py3-none-any.whl (210 kB)\n",
            "\u001b[2K     \u001b[90m━━━━━━━━━━━━━━━━━━━━━━━━━━━━━━━━━━━━━━\u001b[0m \u001b[32m210.5/210.5 KB\u001b[0m \u001b[31m13.0 MB/s\u001b[0m eta \u001b[36m0:00:00\u001b[0m\n",
            "\u001b[?25hRequirement already satisfied: packaging>=20.0 in /usr/local/lib/python3.8/dist-packages (from optuna) (23.0)\n",
            "Requirement already satisfied: PyYAML in /usr/local/lib/python3.8/dist-packages (from optuna) (6.0)\n",
            "Requirement already satisfied: numpy in /usr/local/lib/python3.8/dist-packages (from optuna) (1.22.4)\n",
            "Requirement already satisfied: tqdm in /usr/local/lib/python3.8/dist-packages (from optuna) (4.64.1)\n",
            "Requirement already satisfied: sqlalchemy>=1.3.0 in /usr/local/lib/python3.8/dist-packages (from optuna) (1.4.46)\n",
            "Collecting colorlog\n",
            "  Downloading colorlog-6.7.0-py2.py3-none-any.whl (11 kB)\n",
            "Requirement already satisfied: importlib-resources in /usr/local/lib/python3.8/dist-packages (from alembic>=1.5.0->optuna) (5.12.0)\n",
            "Requirement already satisfied: importlib-metadata in /usr/local/lib/python3.8/dist-packages (from alembic>=1.5.0->optuna) (6.0.0)\n",
            "Collecting Mako\n",
            "  Downloading Mako-1.2.4-py3-none-any.whl (78 kB)\n",
            "\u001b[2K     \u001b[90m━━━━━━━━━━━━━━━━━━━━━━━━━━━━━━━━━━━━━━━━\u001b[0m \u001b[32m78.7/78.7 KB\u001b[0m \u001b[31m5.7 MB/s\u001b[0m eta \u001b[36m0:00:00\u001b[0m\n",
            "\u001b[?25hRequirement already satisfied: greenlet!=0.4.17 in /usr/local/lib/python3.8/dist-packages (from sqlalchemy>=1.3.0->optuna) (2.0.2)\n",
            "Requirement already satisfied: zipp>=0.5 in /usr/local/lib/python3.8/dist-packages (from importlib-metadata->alembic>=1.5.0->optuna) (3.15.0)\n",
            "Requirement already satisfied: MarkupSafe>=0.9.2 in /usr/local/lib/python3.8/dist-packages (from Mako->alembic>=1.5.0->optuna) (2.1.2)\n",
            "Installing collected packages: Mako, colorlog, cmaes, alembic, optuna\n",
            "Successfully installed Mako-1.2.4 alembic-1.9.4 cmaes-0.9.1 colorlog-6.7.0 optuna-3.1.0\n"
          ]
        }
      ],
      "source": [
        "!pip install optuna"
      ]
    },
    {
      "cell_type": "markdown",
      "metadata": {
        "id": "ykbMCvn_8SDY"
      },
      "source": [
        "# DecisionTreeClassifier parameters"
      ]
    },
    {
      "cell_type": "code",
      "execution_count": 13,
      "metadata": {
        "id": "fqHEoNio6Y9Z"
      },
      "outputs": [],
      "source": [
        "criterion = \"gini\" #What is the criterion used for the split\n",
        "#There is an scientific paper comparing gini and entropy and they diverge in only 2% of the cases, but entropy is a little slower because of logarithm\n",
        "\n",
        "splitter = \"best\" #The strategy used to choose the split at each node\n",
        "#If the model is suffering from overfitting we can change it to random, to avoid this fate\n",
        "\n",
        "max_depth = None #can be None to go forever till purity beeing achieved\n",
        "\n",
        "min_samples_split = 2 #if int, it is the minimal number to make a split\n",
        "                      #if float, it is the min_samples_split * n_samples\n",
        "\n",
        "min_samples_leaf = 1 #int, float\n",
        "\n",
        "#min_weight_fraction_leaf = \n",
        "\n",
        "max_features = None #there are few features, so I think"
      ]
    },
    {
      "cell_type": "code",
      "execution_count": 21,
      "metadata": {
        "colab": {
          "base_uri": "https://localhost:8080/"
        },
        "id": "tMxekoKYHO3g",
        "outputId": "d25337da-44d6-4340-ee17-d96701a51c05"
      },
      "outputs": [
        {
          "output_type": "stream",
          "name": "stderr",
          "text": [
            "\u001b[32m[I 2023-03-04 23:58:15,300]\u001b[0m A new study created in memory with name: no-name-cdc21410-0bf9-4596-9f9c-3686df8f856c\u001b[0m\n",
            "\u001b[32m[I 2023-03-04 23:58:15,395]\u001b[0m Trial 0 finished with value: 0.8637905596372175 and parameters: {'min_samples_split': 37, 'min_samples_leaf': 3}. Best is trial 0 with value: 0.8637905596372175.\u001b[0m\n",
            "\u001b[32m[I 2023-03-04 23:58:15,493]\u001b[0m Trial 1 finished with value: 0.9461868442834377 and parameters: {'min_samples_split': 13, 'min_samples_leaf': 12}. Best is trial 1 with value: 0.9461868442834377.\u001b[0m\n",
            "\u001b[32m[I 2023-03-04 23:58:15,589]\u001b[0m Trial 2 finished with value: 0.9477681258055469 and parameters: {'min_samples_split': 6, 'min_samples_leaf': 18}. Best is trial 2 with value: 0.9477681258055469.\u001b[0m\n",
            "\u001b[32m[I 2023-03-04 23:58:15,682]\u001b[0m Trial 3 finished with value: 0.8894368888294496 and parameters: {'min_samples_split': 27, 'min_samples_leaf': 5}. Best is trial 2 with value: 0.9477681258055469.\u001b[0m\n",
            "\u001b[32m[I 2023-03-04 23:58:15,798]\u001b[0m Trial 4 finished with value: 0.8486076424694531 and parameters: {'min_samples_split': 48, 'min_samples_leaf': 24}. Best is trial 2 with value: 0.9477681258055469.\u001b[0m\n",
            "\u001b[32m[I 2023-03-04 23:58:15,892]\u001b[0m Trial 5 finished with value: 0.8988755195279577 and parameters: {'min_samples_split': 25, 'min_samples_leaf': 28}. Best is trial 2 with value: 0.9477681258055469.\u001b[0m\n",
            "\u001b[32m[I 2023-03-04 23:58:15,982]\u001b[0m Trial 6 finished with value: 0.8581007191078202 and parameters: {'min_samples_split': 42, 'min_samples_leaf': 18}. Best is trial 2 with value: 0.9477681258055469.\u001b[0m\n",
            "\u001b[32m[I 2023-03-04 23:58:16,084]\u001b[0m Trial 7 finished with value: 0.890605265408402 and parameters: {'min_samples_split': 27, 'min_samples_leaf': 19}. Best is trial 2 with value: 0.9477681258055469.\u001b[0m\n",
            "\u001b[32m[I 2023-03-04 23:58:16,176]\u001b[0m Trial 8 finished with value: 0.931294234716355 and parameters: {'min_samples_split': 16, 'min_samples_leaf': 23}. Best is trial 2 with value: 0.9477681258055469.\u001b[0m\n",
            "\u001b[32m[I 2023-03-04 23:58:16,274]\u001b[0m Trial 9 finished with value: 0.9479351690287623 and parameters: {'min_samples_split': 9, 'min_samples_leaf': 5}. Best is trial 9 with value: 0.9479351690287623.\u001b[0m\n",
            "\u001b[32m[I 2023-03-04 23:58:16,394]\u001b[0m Trial 10 finished with value: 0.9576751439233674 and parameters: {'min_samples_split': 2, 'min_samples_leaf': 8}. Best is trial 10 with value: 0.9576751439233674.\u001b[0m\n",
            "\u001b[32m[I 2023-03-04 23:58:16,560]\u001b[0m Trial 11 finished with value: 0.9548993134784323 and parameters: {'min_samples_split': 2, 'min_samples_leaf': 10}. Best is trial 10 with value: 0.9576751439233674.\u001b[0m\n",
            "\u001b[32m[I 2023-03-04 23:58:16,729]\u001b[0m Trial 12 finished with value: 0.9555577556489452 and parameters: {'min_samples_split': 2, 'min_samples_leaf': 11}. Best is trial 10 with value: 0.9576751439233674.\u001b[0m\n",
            "\u001b[32m[I 2023-03-04 23:58:16,848]\u001b[0m Trial 13 finished with value: 0.9547692521826107 and parameters: {'min_samples_split': 3, 'min_samples_leaf': 10}. Best is trial 10 with value: 0.9576751439233674.\u001b[0m\n",
            "\u001b[32m[I 2023-03-04 23:58:16,960]\u001b[0m Trial 14 finished with value: 0.9212089509750563 and parameters: {'min_samples_split': 19, 'min_samples_leaf': 14}. Best is trial 10 with value: 0.9576751439233674.\u001b[0m\n",
            "\u001b[32m[I 2023-03-04 23:58:17,067]\u001b[0m Trial 15 finished with value: 0.9475512954021869 and parameters: {'min_samples_split': 10, 'min_samples_leaf': 8}. Best is trial 10 with value: 0.9576751439233674.\u001b[0m\n",
            "\u001b[32m[I 2023-03-04 23:58:17,208]\u001b[0m Trial 16 finished with value: 0.920088534750643 and parameters: {'min_samples_split': 20, 'min_samples_leaf': 1}. Best is trial 10 with value: 0.9576751439233674.\u001b[0m\n",
            "\u001b[32m[I 2023-03-04 23:58:17,323]\u001b[0m Trial 17 finished with value: 0.8704434707092533 and parameters: {'min_samples_split': 34, 'min_samples_leaf': 7}. Best is trial 10 with value: 0.9576751439233674.\u001b[0m\n",
            "\u001b[32m[I 2023-03-04 23:58:17,429]\u001b[0m Trial 18 finished with value: 0.9503443697571875 and parameters: {'min_samples_split': 8, 'min_samples_leaf': 15}. Best is trial 10 with value: 0.9576751439233674.\u001b[0m\n",
            "\u001b[32m[I 2023-03-04 23:58:17,546]\u001b[0m Trial 19 finished with value: 0.9427032152095046 and parameters: {'min_samples_split': 14, 'min_samples_leaf': 12}. Best is trial 10 with value: 0.9576751439233674.\u001b[0m\n",
            "\u001b[32m[I 2023-03-04 23:58:17,658]\u001b[0m Trial 20 finished with value: 0.9569901535349554 and parameters: {'min_samples_split': 2, 'min_samples_leaf': 8}. Best is trial 10 with value: 0.9576751439233674.\u001b[0m\n",
            "\u001b[32m[I 2023-03-04 23:58:17,768]\u001b[0m Trial 21 finished with value: 0.9494384640965656 and parameters: {'min_samples_split': 2, 'min_samples_leaf': 8}. Best is trial 10 with value: 0.9576751439233674.\u001b[0m\n",
            "\u001b[32m[I 2023-03-04 23:58:18,021]\u001b[0m Trial 22 finished with value: 0.949184132167796 and parameters: {'min_samples_split': 6, 'min_samples_leaf': 11}. Best is trial 10 with value: 0.9576751439233674.\u001b[0m\n",
            "\u001b[32m[I 2023-03-04 23:58:18,129]\u001b[0m Trial 23 finished with value: 0.9489384116030155 and parameters: {'min_samples_split': 10, 'min_samples_leaf': 5}. Best is trial 10 with value: 0.9576751439233674.\u001b[0m\n",
            "\u001b[32m[I 2023-03-04 23:58:18,254]\u001b[0m Trial 24 finished with value: 0.9533524963049246 and parameters: {'min_samples_split': 4, 'min_samples_leaf': 14}. Best is trial 10 with value: 0.9576751439233674.\u001b[0m\n",
            "\u001b[32m[I 2023-03-04 23:58:18,363]\u001b[0m Trial 25 finished with value: 0.948080567802402 and parameters: {'min_samples_split': 12, 'min_samples_leaf': 7}. Best is trial 10 with value: 0.9576751439233674.\u001b[0m\n",
            "\u001b[32m[I 2023-03-04 23:58:18,524]\u001b[0m Trial 26 finished with value: 0.9235782754504103 and parameters: {'min_samples_split': 17, 'min_samples_leaf': 1}. Best is trial 10 with value: 0.9576751439233674.\u001b[0m\n",
            "\u001b[32m[I 2023-03-04 23:58:18,737]\u001b[0m Trial 27 finished with value: 0.908266548366835 and parameters: {'min_samples_split': 22, 'min_samples_leaf': 10}. Best is trial 10 with value: 0.9576751439233674.\u001b[0m\n",
            "\u001b[32m[I 2023-03-04 23:58:19,164]\u001b[0m Trial 28 finished with value: 0.9468548909409259 and parameters: {'min_samples_split': 7, 'min_samples_leaf': 3}. Best is trial 10 with value: 0.9576751439233674.\u001b[0m\n",
            "\u001b[32m[I 2023-03-04 23:58:19,563]\u001b[0m Trial 29 finished with value: 0.8714706583001149 and parameters: {'min_samples_split': 33, 'min_samples_leaf': 3}. Best is trial 10 with value: 0.9576751439233674.\u001b[0m\n",
            "\u001b[32m[I 2023-03-04 23:58:20,040]\u001b[0m Trial 30 finished with value: 0.9512092091524866 and parameters: {'min_samples_split': 5, 'min_samples_leaf': 16}. Best is trial 10 with value: 0.9576751439233674.\u001b[0m\n",
            "\u001b[32m[I 2023-03-04 23:58:20,409]\u001b[0m Trial 31 finished with value: 0.9555376818151421 and parameters: {'min_samples_split': 2, 'min_samples_leaf': 9}. Best is trial 10 with value: 0.9576751439233674.\u001b[0m\n",
            "\u001b[32m[I 2023-03-04 23:58:20,697]\u001b[0m Trial 32 finished with value: 0.9579759850169584 and parameters: {'min_samples_split': 2, 'min_samples_leaf': 12}. Best is trial 32 with value: 0.9579759850169584.\u001b[0m\n",
            "\u001b[32m[I 2023-03-04 23:58:21,131]\u001b[0m Trial 33 finished with value: 0.9470726343374036 and parameters: {'min_samples_split': 12, 'min_samples_leaf': 14}. Best is trial 32 with value: 0.9579759850169584.\u001b[0m\n",
            "\u001b[32m[I 2023-03-04 23:58:21,421]\u001b[0m Trial 34 finished with value: 0.952949928068776 and parameters: {'min_samples_split': 6, 'min_samples_leaf': 12}. Best is trial 32 with value: 0.9579759850169584.\u001b[0m\n",
            "\u001b[32m[I 2023-03-04 23:58:21,721]\u001b[0m Trial 35 finished with value: 0.9514863048919923 and parameters: {'min_samples_split': 8, 'min_samples_leaf': 6}. Best is trial 32 with value: 0.9579759850169584.\u001b[0m\n",
            "\u001b[32m[I 2023-03-04 23:58:22,067]\u001b[0m Trial 36 finished with value: 0.9517654860002083 and parameters: {'min_samples_split': 5, 'min_samples_leaf': 17}. Best is trial 32 with value: 0.9579759850169584.\u001b[0m\n",
            "\u001b[32m[I 2023-03-04 23:58:22,246]\u001b[0m Trial 37 finished with value: 0.9452309988093023 and parameters: {'min_samples_split': 13, 'min_samples_leaf': 13}. Best is trial 32 with value: 0.9579759850169584.\u001b[0m\n",
            "\u001b[32m[I 2023-03-04 23:58:22,480]\u001b[0m Trial 38 finished with value: 0.8570824348342002 and parameters: {'min_samples_split': 42, 'min_samples_leaf': 20}. Best is trial 32 with value: 0.9579759850169584.\u001b[0m\n",
            "\u001b[32m[I 2023-03-04 23:58:22,682]\u001b[0m Trial 39 finished with value: 0.952214633587689 and parameters: {'min_samples_split': 4, 'min_samples_leaf': 11}. Best is trial 32 with value: 0.9579759850169584.\u001b[0m\n",
            "\u001b[32m[I 2023-03-04 23:58:22,939]\u001b[0m Trial 40 finished with value: 0.9473635866635122 and parameters: {'min_samples_split': 10, 'min_samples_leaf': 30}. Best is trial 32 with value: 0.9579759850169584.\u001b[0m\n",
            "\u001b[32m[I 2023-03-04 23:58:23,130]\u001b[0m Trial 41 finished with value: 0.9574143753288415 and parameters: {'min_samples_split': 2, 'min_samples_leaf': 9}. Best is trial 32 with value: 0.9579759850169584.\u001b[0m\n",
            "\u001b[32m[I 2023-03-04 23:58:23,313]\u001b[0m Trial 42 finished with value: 0.9592896695194653 and parameters: {'min_samples_split': 2, 'min_samples_leaf': 8}. Best is trial 42 with value: 0.9592896695194653.\u001b[0m\n",
            "\u001b[32m[I 2023-03-04 23:58:23,544]\u001b[0m Trial 43 finished with value: 0.9502607099275047 and parameters: {'min_samples_split': 7, 'min_samples_leaf': 9}. Best is trial 42 with value: 0.9592896695194653.\u001b[0m\n",
            "\u001b[32m[I 2023-03-04 23:58:23,738]\u001b[0m Trial 44 finished with value: 0.9540987660518007 and parameters: {'min_samples_split': 4, 'min_samples_leaf': 4}. Best is trial 42 with value: 0.9592896695194653.\u001b[0m\n",
            "\u001b[32m[I 2023-03-04 23:58:23,918]\u001b[0m Trial 45 finished with value: 0.846633676305666 and parameters: {'min_samples_split': 49, 'min_samples_leaf': 6}. Best is trial 42 with value: 0.9592896695194653.\u001b[0m\n",
            "\u001b[32m[I 2023-03-04 23:58:24,128]\u001b[0m Trial 46 finished with value: 0.9572596050639455 and parameters: {'min_samples_split': 2, 'min_samples_leaf': 9}. Best is trial 42 with value: 0.9592896695194653.\u001b[0m\n",
            "\u001b[32m[I 2023-03-04 23:58:24,353]\u001b[0m Trial 47 finished with value: 0.9478944979537475 and parameters: {'min_samples_split': 9, 'min_samples_leaf': 6}. Best is trial 42 with value: 0.9592896695194653.\u001b[0m\n",
            "\u001b[32m[I 2023-03-04 23:58:24,564]\u001b[0m Trial 48 finished with value: 0.9382242591899861 and parameters: {'min_samples_split': 15, 'min_samples_leaf': 9}. Best is trial 42 with value: 0.9592896695194653.\u001b[0m\n",
            "\u001b[32m[I 2023-03-04 23:58:24,801]\u001b[0m Trial 49 finished with value: 0.9532480086424461 and parameters: {'min_samples_split': 5, 'min_samples_leaf': 13}. Best is trial 42 with value: 0.9592896695194653.\u001b[0m\n",
            "\u001b[32m[I 2023-03-04 23:58:24,990]\u001b[0m Trial 50 finished with value: 0.9029448296638685 and parameters: {'min_samples_split': 24, 'min_samples_leaf': 7}. Best is trial 42 with value: 0.9592896695194653.\u001b[0m\n",
            "\u001b[32m[I 2023-03-04 23:58:25,222]\u001b[0m Trial 51 finished with value: 0.954192295218523 and parameters: {'min_samples_split': 2, 'min_samples_leaf': 8}. Best is trial 42 with value: 0.9592896695194653.\u001b[0m\n",
            "\u001b[32m[I 2023-03-04 23:58:25,350]\u001b[0m Trial 52 finished with value: 0.9558242263872996 and parameters: {'min_samples_split': 2, 'min_samples_leaf': 10}. Best is trial 42 with value: 0.9592896695194653.\u001b[0m\n",
            "\u001b[32m[I 2023-03-04 23:58:25,458]\u001b[0m Trial 53 finished with value: 0.8832960434474044 and parameters: {'min_samples_split': 30, 'min_samples_leaf': 12}. Best is trial 42 with value: 0.9592896695194653.\u001b[0m\n",
            "\u001b[32m[I 2023-03-04 23:58:25,598]\u001b[0m Trial 54 finished with value: 0.9549149065768561 and parameters: {'min_samples_split': 4, 'min_samples_leaf': 4}. Best is trial 42 with value: 0.9592896695194653.\u001b[0m\n",
            "\u001b[32m[I 2023-03-04 23:58:25,779]\u001b[0m Trial 55 finished with value: 0.9521843103725033 and parameters: {'min_samples_split': 7, 'min_samples_leaf': 8}. Best is trial 42 with value: 0.9592896695194653.\u001b[0m\n",
            "\u001b[32m[I 2023-03-04 23:58:26,029]\u001b[0m Trial 56 finished with value: 0.9470814954835666 and parameters: {'min_samples_split': 11, 'min_samples_leaf': 9}. Best is trial 42 with value: 0.9592896695194653.\u001b[0m\n",
            "\u001b[32m[I 2023-03-04 23:58:26,167]\u001b[0m Trial 57 finished with value: 0.9562348302721688 and parameters: {'min_samples_split': 3, 'min_samples_leaf': 7}. Best is trial 42 with value: 0.9592896695194653.\u001b[0m\n",
            "\u001b[32m[I 2023-03-04 23:58:26,283]\u001b[0m Trial 58 finished with value: 0.9507996540900505 and parameters: {'min_samples_split': 8, 'min_samples_leaf': 11}. Best is trial 42 with value: 0.9592896695194653.\u001b[0m\n",
            "\u001b[32m[I 2023-03-04 23:58:26,408]\u001b[0m Trial 59 finished with value: 0.8525835704518256 and parameters: {'min_samples_split': 44, 'min_samples_leaf': 5}. Best is trial 42 with value: 0.9592896695194653.\u001b[0m\n",
            "\u001b[32m[I 2023-03-04 23:58:26,526]\u001b[0m Trial 60 finished with value: 0.9516669765740162 and parameters: {'min_samples_split': 6, 'min_samples_leaf': 10}. Best is trial 42 with value: 0.9592896695194653.\u001b[0m\n",
            "\u001b[32m[I 2023-03-04 23:58:26,646]\u001b[0m Trial 61 finished with value: 0.9576662162770514 and parameters: {'min_samples_split': 3, 'min_samples_leaf': 7}. Best is trial 42 with value: 0.9592896695194653.\u001b[0m\n",
            "\u001b[32m[I 2023-03-04 23:58:26,787]\u001b[0m Trial 62 finished with value: 0.9524498132234219 and parameters: {'min_samples_split': 3, 'min_samples_leaf': 8}. Best is trial 42 with value: 0.9592896695194653.\u001b[0m\n",
            "\u001b[32m[I 2023-03-04 23:58:26,905]\u001b[0m Trial 63 finished with value: 0.9571658982873779 and parameters: {'min_samples_split': 2, 'min_samples_leaf': 6}. Best is trial 42 with value: 0.9592896695194653.\u001b[0m\n",
            "\u001b[32m[I 2023-03-04 23:58:27,065]\u001b[0m Trial 64 finished with value: 0.9531406788553968 and parameters: {'min_samples_split': 4, 'min_samples_leaf': 2}. Best is trial 42 with value: 0.9592896695194653.\u001b[0m\n",
            "\u001b[32m[I 2023-03-04 23:58:27,353]\u001b[0m Trial 65 finished with value: 0.9520108875405218 and parameters: {'min_samples_split': 6, 'min_samples_leaf': 4}. Best is trial 42 with value: 0.9592896695194653.\u001b[0m\n",
            "\u001b[32m[I 2023-03-04 23:58:27,620]\u001b[0m Trial 66 finished with value: 0.9535696563164934 and parameters: {'min_samples_split': 2, 'min_samples_leaf': 6}. Best is trial 42 with value: 0.9592896695194653.\u001b[0m\n",
            "\u001b[32m[I 2023-03-04 23:58:27,918]\u001b[0m Trial 67 finished with value: 0.9517662643122491 and parameters: {'min_samples_split': 8, 'min_samples_leaf': 26}. Best is trial 42 with value: 0.9592896695194653.\u001b[0m\n",
            "\u001b[32m[I 2023-03-04 23:58:28,159]\u001b[0m Trial 68 finished with value: 0.9522431757350887 and parameters: {'min_samples_split': 4, 'min_samples_leaf': 7}. Best is trial 42 with value: 0.9592896695194653.\u001b[0m\n",
            "\u001b[32m[I 2023-03-04 23:58:28,397]\u001b[0m Trial 69 finished with value: 0.9507982779107689 and parameters: {'min_samples_split': 6, 'min_samples_leaf': 9}. Best is trial 42 with value: 0.9592896695194653.\u001b[0m\n",
            "\u001b[32m[I 2023-03-04 23:58:28,632]\u001b[0m Trial 70 finished with value: 0.9507327553645903 and parameters: {'min_samples_split': 9, 'min_samples_leaf': 5}. Best is trial 42 with value: 0.9592896695194653.\u001b[0m\n",
            "\u001b[32m[I 2023-03-04 23:58:28,828]\u001b[0m Trial 71 finished with value: 0.9543392107031776 and parameters: {'min_samples_split': 2, 'min_samples_leaf': 8}. Best is trial 42 with value: 0.9592896695194653.\u001b[0m\n",
            "\u001b[32m[I 2023-03-04 23:58:29,028]\u001b[0m Trial 72 finished with value: 0.9536816416997207 and parameters: {'min_samples_split': 5, 'min_samples_leaf': 10}. Best is trial 42 with value: 0.9592896695194653.\u001b[0m\n",
            "\u001b[32m[I 2023-03-04 23:58:29,275]\u001b[0m Trial 73 finished with value: 0.9541507200345684 and parameters: {'min_samples_split': 3, 'min_samples_leaf': 11}. Best is trial 42 with value: 0.9592896695194653.\u001b[0m\n",
            "\u001b[32m[I 2023-03-04 23:58:29,505]\u001b[0m Trial 74 finished with value: 0.9548476660461802 and parameters: {'min_samples_split': 3, 'min_samples_leaf': 6}. Best is trial 42 with value: 0.9592896695194653.\u001b[0m\n",
            "\u001b[32m[I 2023-03-04 23:58:29,711]\u001b[0m Trial 75 finished with value: 0.9526085424095763 and parameters: {'min_samples_split': 5, 'min_samples_leaf': 13}. Best is trial 42 with value: 0.9592896695194653.\u001b[0m\n",
            "\u001b[32m[I 2023-03-04 23:58:30,000]\u001b[0m Trial 76 finished with value: 0.9550924029937373 and parameters: {'min_samples_split': 7, 'min_samples_leaf': 7}. Best is trial 42 with value: 0.9592896695194653.\u001b[0m\n",
            "\u001b[32m[I 2023-03-04 23:58:30,200]\u001b[0m Trial 77 finished with value: 0.9547782152003067 and parameters: {'min_samples_split': 2, 'min_samples_leaf': 15}. Best is trial 42 with value: 0.9592896695194653.\u001b[0m\n",
            "\u001b[32m[I 2023-03-04 23:58:30,471]\u001b[0m Trial 78 finished with value: 0.9546433071470242 and parameters: {'min_samples_split': 4, 'min_samples_leaf': 9}. Best is trial 42 with value: 0.9592896695194653.\u001b[0m\n",
            "\u001b[32m[I 2023-03-04 23:58:30,708]\u001b[0m Trial 79 finished with value: 0.9506217506741581 and parameters: {'min_samples_split': 6, 'min_samples_leaf': 2}. Best is trial 42 with value: 0.9592896695194653.\u001b[0m\n",
            "\u001b[32m[I 2023-03-04 23:58:30,906]\u001b[0m Trial 80 finished with value: 0.8643028907358001 and parameters: {'min_samples_split': 37, 'min_samples_leaf': 12}. Best is trial 42 with value: 0.9592896695194653.\u001b[0m\n",
            "\u001b[32m[I 2023-03-04 23:58:31,064]\u001b[0m Trial 81 finished with value: 0.9581825052769372 and parameters: {'min_samples_split': 3, 'min_samples_leaf': 7}. Best is trial 42 with value: 0.9592896695194653.\u001b[0m\n",
            "\u001b[32m[I 2023-03-04 23:58:31,180]\u001b[0m Trial 82 finished with value: 0.9572970216546772 and parameters: {'min_samples_split': 3, 'min_samples_leaf': 7}. Best is trial 42 with value: 0.9592896695194653.\u001b[0m\n",
            "\u001b[32m[I 2023-03-04 23:58:31,335]\u001b[0m Trial 83 finished with value: 0.9566226943805952 and parameters: {'min_samples_split': 3, 'min_samples_leaf': 7}. Best is trial 42 with value: 0.9592896695194653.\u001b[0m\n",
            "\u001b[32m[I 2023-03-04 23:58:31,449]\u001b[0m Trial 84 finished with value: 0.9544245631685467 and parameters: {'min_samples_split': 5, 'min_samples_leaf': 5}. Best is trial 42 with value: 0.9592896695194653.\u001b[0m\n",
            "\u001b[32m[I 2023-03-04 23:58:31,591]\u001b[0m Trial 85 finished with value: 0.9560758705253749 and parameters: {'min_samples_split': 3, 'min_samples_leaf': 6}. Best is trial 42 with value: 0.9592896695194653.\u001b[0m\n",
            "\u001b[32m[I 2023-03-04 23:58:31,727]\u001b[0m Trial 86 finished with value: 0.9488047546376643 and parameters: {'min_samples_split': 10, 'min_samples_leaf': 8}. Best is trial 42 with value: 0.9592896695194653.\u001b[0m\n",
            "\u001b[32m[I 2023-03-04 23:58:31,855]\u001b[0m Trial 87 finished with value: 0.9236401199050257 and parameters: {'min_samples_split': 18, 'min_samples_leaf': 10}. Best is trial 42 with value: 0.9592896695194653.\u001b[0m\n",
            "\u001b[32m[I 2023-03-04 23:58:32,023]\u001b[0m Trial 88 finished with value: 0.953755433903103 and parameters: {'min_samples_split': 8, 'min_samples_leaf': 4}. Best is trial 42 with value: 0.9592896695194653.\u001b[0m\n",
            "\u001b[32m[I 2023-03-04 23:58:32,246]\u001b[0m Trial 89 finished with value: 0.9551987968314102 and parameters: {'min_samples_split': 4, 'min_samples_leaf': 8}. Best is trial 42 with value: 0.9592896695194653.\u001b[0m\n",
            "\u001b[32m[I 2023-03-04 23:58:32,434]\u001b[0m Trial 90 finished with value: 0.953453134129646 and parameters: {'min_samples_split': 2, 'min_samples_leaf': 9}. Best is trial 42 with value: 0.9592896695194653.\u001b[0m\n",
            "\u001b[32m[I 2023-03-04 23:58:32,668]\u001b[0m Trial 91 finished with value: 0.9544001102240887 and parameters: {'min_samples_split': 5, 'min_samples_leaf': 7}. Best is trial 42 with value: 0.9592896695194653.\u001b[0m\n",
            "\u001b[32m[I 2023-03-04 23:58:32,866]\u001b[0m Trial 92 finished with value: 0.9571562212912955 and parameters: {'min_samples_split': 2, 'min_samples_leaf': 6}. Best is trial 42 with value: 0.9592896695194653.\u001b[0m\n",
            "\u001b[32m[I 2023-03-04 23:58:33,044]\u001b[0m Trial 93 finished with value: 0.952883032745328 and parameters: {'min_samples_split': 3, 'min_samples_leaf': 5}. Best is trial 42 with value: 0.9592896695194653.\u001b[0m\n",
            "\u001b[32m[I 2023-03-04 23:58:33,235]\u001b[0m Trial 94 finished with value: 0.9526359744463166 and parameters: {'min_samples_split': 7, 'min_samples_leaf': 6}. Best is trial 42 with value: 0.9592896695194653.\u001b[0m\n",
            "\u001b[32m[I 2023-03-04 23:58:33,510]\u001b[0m Trial 95 finished with value: 0.9557790087898078 and parameters: {'min_samples_split': 2, 'min_samples_leaf': 11}. Best is trial 42 with value: 0.9592896695194653.\u001b[0m\n",
            "\u001b[32m[I 2023-03-04 23:58:34,036]\u001b[0m Trial 96 finished with value: 0.9531675117562504 and parameters: {'min_samples_split': 4, 'min_samples_leaf': 20}. Best is trial 42 with value: 0.9592896695194653.\u001b[0m\n",
            "\u001b[32m[I 2023-03-04 23:58:34,559]\u001b[0m Trial 97 finished with value: 0.953190464217997 and parameters: {'min_samples_split': 6, 'min_samples_leaf': 7}. Best is trial 42 with value: 0.9592896695194653.\u001b[0m\n",
            "\u001b[32m[I 2023-03-04 23:58:35,129]\u001b[0m Trial 98 finished with value: 0.9539187710047143 and parameters: {'min_samples_split': 5, 'min_samples_leaf': 10}. Best is trial 42 with value: 0.9592896695194653.\u001b[0m\n",
            "\u001b[32m[I 2023-03-04 23:58:35,637]\u001b[0m Trial 99 finished with value: 0.8873256692725965 and parameters: {'min_samples_split': 29, 'min_samples_leaf': 3}. Best is trial 42 with value: 0.9592896695194653.\u001b[0m\n"
          ]
        },
        {
          "output_type": "stream",
          "name": "stdout",
          "text": [
            "{'min_samples_split': 2, 'min_samples_leaf': 8}\n"
          ]
        }
      ],
      "source": [
        "from sklearn.utils.extmath import weighted_mode\n",
        "import optuna\n",
        "\n",
        "\n",
        "\n",
        "def objective(trial):\n",
        "    min_samples_split = trial.suggest_int(\"min_samples_split\",2,50)\n",
        "    min_samples_leaf = trial.suggest_int(\"min_samples_leaf\",1,30)\n",
        "    \n",
        "    clf = DecisionTreeClassifier(\n",
        "                                #criterion=criterion,\n",
        "                                #splitter=splitter,\n",
        "                                min_samples_split=min_samples_split,\n",
        "                                #max_depth=max_depth, \n",
        "                                #min_samples_leaf=min_samples_leaf, \n",
        "                                max_features=max_features\n",
        "                                )\n",
        "    clf.fit(X_train,y_train)\n",
        "    pred = clf.predict(X_valid)\n",
        "    return f1_score(pred,y_valid,average=\"weighted\")\n",
        "\n",
        "study = optuna.create_study(direction=\"maximize\")\n",
        "study.optimize(objective, n_trials=100)\n",
        "\n",
        "print(study.best_params)"
      ]
    },
    {
      "cell_type": "markdown",
      "metadata": {
        "id": "bHNuGbxXTCb8"
      },
      "source": [
        "# Naive Bayes"
      ]
    },
    {
      "cell_type": "code",
      "execution_count": null,
      "metadata": {
        "colab": {
          "base_uri": "https://localhost:8080/",
          "height": 298
        },
        "id": "SL34sA7zJzYM",
        "outputId": "de8749c4-ae16-4ae6-e47a-7b716c319d04"
      },
      "outputs": [
        {
          "data": {
            "text/plain": [
              "<matplotlib.legend.Legend at 0x7fbb97bc5e80>"
            ]
          },
          "execution_count": 23,
          "metadata": {},
          "output_type": "execute_result"
        },
        {
          "data": {
            "image/png": "[encoded data removed]",
            "text/plain": [
              "<Figure size 432x288 with 1 Axes>"
            ]
          },
          "metadata": {
            "needs_background": "light"
          },
          "output_type": "display_data"
        }
      ],
      "source": [
        "import numpy as np\n",
        "import matplotlib.pyplot as plt\n",
        "\n",
        "results_val = []\n",
        "results_train = []\n",
        "x = np.linspace(1e-3,5,1000) #unico parametro que parece ser relevante????\n",
        "for i in x:\n",
        "  clf = GaussianNB(var_smoothing = i)\n",
        "  clf.fit(X_train,y_train)\n",
        "  pred = clf.predict(X_valid)\n",
        "  results_val.append(f1_score(pred,y_valid,average=\"weighted\"))\n",
        "  pred = clf.predict(X_train)\n",
        "  results_train.append(f1_score(pred,y_train,average=\"weighted\"))\n",
        "\n",
        "plt.plot(x,results_val,label='val')\n",
        "plt.plot(x,results_train,label='train')\n",
        "plt.ylabel(\"f1-score\")\n",
        "plt.xlabel(\"var_smoothing\")\n",
        "plt.legend()"
      ]
    },
    {
      "cell_type": "code",
      "execution_count": null,
      "metadata": {
        "colab": {
          "base_uri": "https://localhost:8080/"
        },
        "id": "KLM6ee3KShEL",
        "outputId": "5ac72c72-343c-4af7-e616-f9bf47508824"
      },
      "outputs": [
        {
          "name": "stdout",
          "output_type": "stream",
          "text": [
            "acuracia = 0.41083413231064236\n",
            "f1 0.5688927350446688\n",
            "recall 0.41083413231064236\n",
            "precision 0.9596600957668628\n",
            "----------------------------------------------------------------------------------------------------\n"
          ]
        },
        {
          "name": "stderr",
          "output_type": "stream",
          "text": [
            "/usr/local/lib/python3.8/dist-packages/sklearn/metrics/_classification.py:1318: UndefinedMetricWarning: Recall is ill-defined and being set to 0.0 in labels with no true samples. Use `zero_division` parameter to control this behavior.\n",
            "  _warn_prf(average, modifier, msg_start, len(result))\n"
          ]
        }
      ],
      "source": [
        "clf = GaussianNB(var_smoothing = 3)\n",
        "clf.fit(X_train,y_train)\n",
        "print(\"acuracia =\",clf.score(X_valid,y_valid))\n",
        "\n",
        "pred = clf.predict(X_valid)\n",
        "print(\"f1\",f1_score(pred,y_valid,average=\"weighted\"))\n",
        "print(\"recall\",recall_score(pred,y_valid,average=\"weighted\"))\n",
        "print(\"precision\",precision_score(pred,y_valid,average=\"weighted\"))\n",
        "print(\"-\"*100)"
      ]
    },
    {
      "cell_type": "markdown",
      "metadata": {
        "id": "M_PdH-nNS-tu"
      },
      "source": [
        "## Conclusão:\n",
        "**Com essa modificação no var_smoothing de 1e-9 para 3 o modelo teve ganhos significativos em todas as metricas**"
      ]
    },
    {
      "cell_type": "markdown",
      "source": [
        "# LogisticRegression\n",
        "penalty = {l1, l2, elasticnet, None}\n",
        "\n",
        "dual= {True or False} Prefer dual=False when n_samples > n_features.\n",
        "\n",
        "tol = 1e-4\n",
        "\n",
        "C = 1.0\n",
        "\n",
        "fit_intercept = True\n",
        "\n",
        "intercept_scaling = 1\n",
        "\n",
        "class_weight = **dict** or ‘balanced’, default=None\n",
        "\n",
        "solver = {‘lbfgs’, ‘liblinear’, ‘newton-cg’, ‘newton-cholesky’, ‘sag’, ‘saga’}\n",
        "For multiclass problems, only ‘newton-cg’, ‘sag’, ‘saga’ and ‘lbfgs’ handle multinomial loss; \n",
        "\n",
        "random_state = None **Used when solver == ‘sag’, ‘saga’**\n",
        "\n"
      ],
      "metadata": {
        "id": "-bEV8n_SjjVp"
      }
    },
    {
      "cell_type": "code",
      "source": [
        "def make_df_metrics(methods,results_train,results_val):\n",
        "  return pd.concat([pd.DataFrame({\"x\":methods,'y':results_train,'label':['train']*len(results_train)}),pd.DataFrame({\"x\":methods,'y':results_val,'label':['val']*len(results_val)})])\n"
      ],
      "metadata": {
        "id": "TY6AJS_bJon-"
      },
      "execution_count": 55,
      "outputs": []
    },
    {
      "cell_type": "code",
      "execution_count": 62,
      "metadata": {
        "id": "UFxxWK48StYy",
        "outputId": "76d944df-6239-4b74-aeb2-b3013bcc8504",
        "colab": {
          "base_uri": "https://localhost:8080/"
        }
      },
      "outputs": [
        {
          "output_type": "stream",
          "name": "stderr",
          "text": [
            "/usr/local/lib/python3.8/dist-packages/sklearn/linear_model/_sag.py:350: ConvergenceWarning: The max_iter was reached which means the coef_ did not converge\n",
            "  warnings.warn(\n",
            "/usr/local/lib/python3.8/dist-packages/sklearn/linear_model/_sag.py:350: ConvergenceWarning: The max_iter was reached which means the coef_ did not converge\n",
            "  warnings.warn(\n",
            "/usr/local/lib/python3.8/dist-packages/sklearn/linear_model/_sag.py:350: ConvergenceWarning: The max_iter was reached which means the coef_ did not converge\n",
            "  warnings.warn(\n",
            "/usr/local/lib/python3.8/dist-packages/sklearn/linear_model/_sag.py:350: ConvergenceWarning: The max_iter was reached which means the coef_ did not converge\n",
            "  warnings.warn(\n",
            "/usr/local/lib/python3.8/dist-packages/sklearn/linear_model/_sag.py:350: ConvergenceWarning: The max_iter was reached which means the coef_ did not converge\n",
            "  warnings.warn(\n",
            "/usr/local/lib/python3.8/dist-packages/sklearn/linear_model/_sag.py:350: ConvergenceWarning: The max_iter was reached which means the coef_ did not converge\n",
            "  warnings.warn(\n",
            "/usr/local/lib/python3.8/dist-packages/sklearn/linear_model/_sag.py:350: ConvergenceWarning: The max_iter was reached which means the coef_ did not converge\n",
            "  warnings.warn(\n"
          ]
        }
      ],
      "source": [
        "\n",
        "results_val = []\n",
        "results_train = []\n",
        "penalties = ['l1','l2',None]\n",
        "for penalty in penalties:\n",
        "  clf = pipe = Pipeline([('scaler', StandardScaler()), ('LR', LogisticRegression(penalty=penalty,solver='saga',max_iter=10000))])\n",
        "  clf.fit(X_train,y_train)\n",
        "  pred = clf.predict(X_valid)\n",
        "  results_val.append(f1_score(pred,y_valid,average=\"weighted\"))\n",
        "  pred = clf.predict(X_train)\n",
        "  results_train.append(f1_score(pred,y_train,average=\"weighted\"))\n",
        "\n",
        "for l1_ratio in np.linspace(0.1,1.0,10):\n",
        "  penalties.append(f\"elasticnet_{l1_ratio}\")\n",
        "  clf = Pipeline([('scaler', StandardScaler()), ('LR', LogisticRegression(penalty='elasticnet',solver='saga',l1_ratio=l1_ratio,max_iter=10000))])\n",
        "  clf.fit(X_train,y_train)\n",
        "  pred = clf.predict(X_valid)\n",
        "  results_val.append(f1_score(pred,y_valid,average=\"weighted\"))\n",
        "  pred = clf.predict(X_train)\n",
        "  results_train.append(f1_score(pred,y_train,average=\"weighted\"))\n",
        "\n",
        "df_metrics = make_df_metrics(penalties,results_train,results_val)"
      ]
    },
    {
      "cell_type": "code",
      "source": [
        "sns.barplot(data=df_metrics,y='x',x='y',hue='label')\n",
        "plt.ylabel(\"penalties\")\n",
        "plt.xlabel(\"f1_score\")\n",
        "plt.xlim(0.63, 0.66)"
      ],
      "metadata": {
        "colab": {
          "base_uri": "https://localhost:8080/",
          "height": 298
        },
        "id": "6E6bLf48KLz1",
        "outputId": "9acd1363-f9d3-4204-cba7-5907e0abf914"
      },
      "execution_count": 63,
      "outputs": [
        {
          "output_type": "execute_result",
          "data": {
            "text/plain": [
              "(0.63, 0.66)"
            ]
          },
          "metadata": {},
          "execution_count": 63
        },
        {
          "output_type": "display_data",
          "data": {
            "text/plain": [
              "<Figure size 432x288 with 1 Axes>"
            ],
            "image/png": "[encoded data removed]"
          },
          "metadata": {
            "needs_background": "light"
          }
        }
      ]
    },
    {
      "cell_type": "code",
      "source": [
        "df_metrics.sort_values(by='y',ascending=False).groupby(by='label').head(2)"
      ],
      "metadata": {
        "colab": {
          "base_uri": "https://localhost:8080/",
          "height": 175
        },
        "id": "KbQC3S_4MKxY",
        "outputId": "05c7f314-7e9a-4c31-8cc2-41f890ff7707"
      },
      "execution_count": 64,
      "outputs": [
        {
          "output_type": "execute_result",
          "data": {
            "text/plain": [
              "                                x         y  label\n",
              "11                 elasticnet_0.9  0.646392  train\n",
              "9   elasticnet_0.7000000000000001  0.646330  train\n",
              "0                              l1  0.644204    val\n",
              "12                 elasticnet_1.0  0.644204    val"
            ],
            "text/html": [
              "\n",
              "  <div id=\"df-011b584d-f350-47a8-8ed4-2825fc32d763\">\n",
              "    <div class=\"colab-df-container\">\n",
              "      <div>\n",
              "<style scoped>\n",
              "    .dataframe tbody tr th:only-of-type {\n",
              "        vertical-align: middle;\n",
              "    }\n",
              "\n",
              "    .dataframe tbody tr th {\n",
              "        vertical-align: top;\n",
              "    }\n",
              "\n",
              "    .dataframe thead th {\n",
              "        text-align: right;\n",
              "    }\n",
              "</style>\n",
              "<table border=\"1\" class=\"dataframe\">\n",
              "  <thead>\n",
              "    <tr style=\"text-align: right;\">\n",
              "      <th></th>\n",
              "      <th>x</th>\n",
              "      <th>y</th>\n",
              "      <th>label</th>\n",
              "    </tr>\n",
              "  </thead>\n",
              "  <tbody>\n",
              "    <tr>\n",
              "      <th>11</th>\n",
              "      <td>elasticnet_0.9</td>\n",
              "      <td>0.646392</td>\n",
              "      <td>train</td>\n",
              "    </tr>\n",
              "    <tr>\n",
              "      <th>9</th>\n",
              "      <td>elasticnet_0.7000000000000001</td>\n",
              "      <td>0.646330</td>\n",
              "      <td>train</td>\n",
              "    </tr>\n",
              "    <tr>\n",
              "      <th>0</th>\n",
              "      <td>l1</td>\n",
              "      <td>0.644204</td>\n",
              "      <td>val</td>\n",
              "    </tr>\n",
              "    <tr>\n",
              "      <th>12</th>\n",
              "      <td>elasticnet_1.0</td>\n",
              "      <td>0.644204</td>\n",
              "      <td>val</td>\n",
              "    </tr>\n",
              "  </tbody>\n",
              "</table>\n",
              "</div>\n",
              "      <button class=\"colab-df-convert\" onclick=\"convertToInteractive('df-011b584d-f350-47a8-8ed4-2825fc32d763')\"\n",
              "              title=\"Convert this dataframe to an interactive table.\"\n",
              "              style=\"display:none;\">\n",
              "        \n",
              "  <svg xmlns=\"http://www.w3.org/2000/svg\" height=\"24px\"viewBox=\"0 0 24 24\"\n",
              "       width=\"24px\">\n",
              "    <path d=\"M0 0h24v24H0V0z\" fill=\"none\"/>\n",
              "    <path d=\"M18.56 5.44l.94 2.06.94-2.06 2.06-.94-2.06-.94-.94-2.06-.94 2.06-2.06.94zm-11 1L8.5 8.5l.94-2.06 2.06-.94-2.06-.94L8.5 2.5l-.94 2.06-2.06.94zm10 10l.94 2.06.94-2.06 2.06-.94-2.06-.94-.94-2.06-.94 2.06-2.06.94z\"/><path d=\"M17.41 7.96l-1.37-1.37c-.4-.4-.92-.59-1.43-.59-.52 0-1.04.2-1.43.59L10.3 9.45l-7.72 7.72c-.78.78-.78 2.05 0 2.83L4 21.41c.39.39.9.59 1.41.59.51 0 1.02-.2 1.41-.59l7.78-7.78 2.81-2.81c.8-.78.8-2.07 0-2.86zM5.41 20L4 18.59l7.72-7.72 1.47 1.35L5.41 20z\"/>\n",
              "  </svg>\n",
              "      </button>\n",
              "      \n",
              "  <style>\n",
              "    .colab-df-container {\n",
              "      display:flex;\n",
              "      flex-wrap:wrap;\n",
              "      gap: 12px;\n",
              "    }\n",
              "\n",
              "    .colab-df-convert {\n",
              "      background-color: #E8F0FE;\n",
              "      border: none;\n",
              "      border-radius: 50%;\n",
              "      cursor: pointer;\n",
              "      display: none;\n",
              "      fill: #1967D2;\n",
              "      height: 32px;\n",
              "      padding: 0 0 0 0;\n",
              "      width: 32px;\n",
              "    }\n",
              "\n",
              "    .colab-df-convert:hover {\n",
              "      background-color: #E2EBFA;\n",
              "      box-shadow: 0px 1px 2px rgba(60, 64, 67, 0.3), 0px 1px 3px 1px rgba(60, 64, 67, 0.15);\n",
              "      fill: #174EA6;\n",
              "    }\n",
              "\n",
              "    [theme=dark] .colab-df-convert {\n",
              "      background-color: #3B4455;\n",
              "      fill: #D2E3FC;\n",
              "    }\n",
              "\n",
              "    [theme=dark] .colab-df-convert:hover {\n",
              "      background-color: #434B5C;\n",
              "      box-shadow: 0px 1px 3px 1px rgba(0, 0, 0, 0.15);\n",
              "      filter: drop-shadow(0px 1px 2px rgba(0, 0, 0, 0.3));\n",
              "      fill: #FFFFFF;\n",
              "    }\n",
              "  </style>\n",
              "\n",
              "      <script>\n",
              "        const buttonEl =\n",
              "          document.querySelector('#df-011b584d-f350-47a8-8ed4-2825fc32d763 button.colab-df-convert');\n",
              "        buttonEl.style.display =\n",
              "          google.colab.kernel.accessAllowed ? 'block' : 'none';\n",
              "\n",
              "        async function convertToInteractive(key) {\n",
              "          const element = document.querySelector('#df-011b584d-f350-47a8-8ed4-2825fc32d763');\n",
              "          const dataTable =\n",
              "            await google.colab.kernel.invokeFunction('convertToInteractive',\n",
              "                                                     [key], {});\n",
              "          if (!dataTable) return;\n",
              "\n",
              "          const docLinkHtml = 'Like what you see? Visit the ' +\n",
              "            '<a target=\"_blank\" href=https://colab.research.google.com/notebooks/data_table.ipynb>data table notebook</a>'\n",
              "            + ' to learn more about interactive tables.';\n",
              "          element.innerHTML = '';\n",
              "          dataTable['output_type'] = 'display_data';\n",
              "          await google.colab.output.renderOutput(dataTable, element);\n",
              "          const docLink = document.createElement('div');\n",
              "          docLink.innerHTML = docLinkHtml;\n",
              "          element.appendChild(docLink);\n",
              "        }\n",
              "      </script>\n",
              "    </div>\n",
              "  </div>\n",
              "  "
            ]
          },
          "metadata": {},
          "execution_count": 64
        }
      ]
    },
    {
      "cell_type": "code",
      "source": [
        "results_val = []\n",
        "results_train = []\n",
        "solvers = [\"lbfgs\", \"liblinear\", \"newton-cg\", \"newton-cholesky\", \"sag\", \"saga\"]\n",
        "for solver in solvers:\n",
        "  clf = pipe = Pipeline([('scaler', StandardScaler()), ('LR', LogisticRegression(solver = solver,max_iter=10000,random_state=42))])\n",
        "  clf.fit(X_train,y_train)\n",
        "  pred = clf.predict(X_valid)\n",
        "  results_val.append(f1_score(pred,y_valid,average=\"weighted\"))\n",
        "  pred = clf.predict(X_train)\n",
        "  results_train.append(f1_score(pred,y_train,average=\"weighted\"))\n",
        "\n",
        "df_metrics = make_df_metrics(solvers,results_train,results_val)"
      ],
      "metadata": {
        "id": "7yVDWcPozAI9"
      },
      "execution_count": 65,
      "outputs": []
    },
    {
      "cell_type": "code",
      "source": [
        "sns.barplot(data=df_metrics,y='x',x='y',hue='label')\n",
        "plt.ylabel(\"solver\")\n",
        "plt.xlabel(\"f1_score\")\n",
        "plt.xlim(0.62, 0.66)"
      ],
      "metadata": {
        "colab": {
          "base_uri": "https://localhost:8080/",
          "height": 298
        },
        "id": "n-W3JCbcFfB0",
        "outputId": "ee0de0ef-4ed4-42b4-ebc2-0ce2c88ea624"
      },
      "execution_count": 66,
      "outputs": [
        {
          "output_type": "execute_result",
          "data": {
            "text/plain": [
              "(0.62, 0.66)"
            ]
          },
          "metadata": {},
          "execution_count": 66
        },
        {
          "output_type": "display_data",
          "data": {
            "text/plain": [
              "<Figure size 432x288 with 1 Axes>"
            ],
            "image/png": "[encoded data removed]"
          },
          "metadata": {
            "needs_background": "light"
          }
        }
      ]
    },
    {
      "cell_type": "code",
      "source": [
        "df_metrics.sort_values(by='y',ascending=False).groupby(by='label').head(2)"
      ],
      "metadata": {
        "colab": {
          "base_uri": "https://localhost:8080/",
          "height": 175
        },
        "id": "W6Vw4NpdNv17",
        "outputId": "1cf4fefe-9903-4f75-a763-5f3dab6539bc"
      },
      "execution_count": 67,
      "outputs": [
        {
          "output_type": "execute_result",
          "data": {
            "text/plain": [
              "                 x         y  label\n",
              "3  newton-cholesky  0.647501  train\n",
              "1        liblinear  0.647176  train\n",
              "0            lbfgs  0.643112    val\n",
              "2        newton-cg  0.643112    val"
            ],
            "text/html": [
              "\n",
              "  <div id=\"df-f76bcb6e-9c54-42f5-b328-2c96f53d800c\">\n",
              "    <div class=\"colab-df-container\">\n",
              "      <div>\n",
              "<style scoped>\n",
              "    .dataframe tbody tr th:only-of-type {\n",
              "        vertical-align: middle;\n",
              "    }\n",
              "\n",
              "    .dataframe tbody tr th {\n",
              "        vertical-align: top;\n",
              "    }\n",
              "\n",
              "    .dataframe thead th {\n",
              "        text-align: right;\n",
              "    }\n",
              "</style>\n",
              "<table border=\"1\" class=\"dataframe\">\n",
              "  <thead>\n",
              "    <tr style=\"text-align: right;\">\n",
              "      <th></th>\n",
              "      <th>x</th>\n",
              "      <th>y</th>\n",
              "      <th>label</th>\n",
              "    </tr>\n",
              "  </thead>\n",
              "  <tbody>\n",
              "    <tr>\n",
              "      <th>3</th>\n",
              "      <td>newton-cholesky</td>\n",
              "      <td>0.647501</td>\n",
              "      <td>train</td>\n",
              "    </tr>\n",
              "    <tr>\n",
              "      <th>1</th>\n",
              "      <td>liblinear</td>\n",
              "      <td>0.647176</td>\n",
              "      <td>train</td>\n",
              "    </tr>\n",
              "    <tr>\n",
              "      <th>0</th>\n",
              "      <td>lbfgs</td>\n",
              "      <td>0.643112</td>\n",
              "      <td>val</td>\n",
              "    </tr>\n",
              "    <tr>\n",
              "      <th>2</th>\n",
              "      <td>newton-cg</td>\n",
              "      <td>0.643112</td>\n",
              "      <td>val</td>\n",
              "    </tr>\n",
              "  </tbody>\n",
              "</table>\n",
              "</div>\n",
              "      <button class=\"colab-df-convert\" onclick=\"convertToInteractive('df-f76bcb6e-9c54-42f5-b328-2c96f53d800c')\"\n",
              "              title=\"Convert this dataframe to an interactive table.\"\n",
              "              style=\"display:none;\">\n",
              "        \n",
              "  <svg xmlns=\"http://www.w3.org/2000/svg\" height=\"24px\"viewBox=\"0 0 24 24\"\n",
              "       width=\"24px\">\n",
              "    <path d=\"M0 0h24v24H0V0z\" fill=\"none\"/>\n",
              "    <path d=\"M18.56 5.44l.94 2.06.94-2.06 2.06-.94-2.06-.94-.94-2.06-.94 2.06-2.06.94zm-11 1L8.5 8.5l.94-2.06 2.06-.94-2.06-.94L8.5 2.5l-.94 2.06-2.06.94zm10 10l.94 2.06.94-2.06 2.06-.94-2.06-.94-.94-2.06-.94 2.06-2.06.94z\"/><path d=\"M17.41 7.96l-1.37-1.37c-.4-.4-.92-.59-1.43-.59-.52 0-1.04.2-1.43.59L10.3 9.45l-7.72 7.72c-.78.78-.78 2.05 0 2.83L4 21.41c.39.39.9.59 1.41.59.51 0 1.02-.2 1.41-.59l7.78-7.78 2.81-2.81c.8-.78.8-2.07 0-2.86zM5.41 20L4 18.59l7.72-7.72 1.47 1.35L5.41 20z\"/>\n",
              "  </svg>\n",
              "      </button>\n",
              "      \n",
              "  <style>\n",
              "    .colab-df-container {\n",
              "      display:flex;\n",
              "      flex-wrap:wrap;\n",
              "      gap: 12px;\n",
              "    }\n",
              "\n",
              "    .colab-df-convert {\n",
              "      background-color: #E8F0FE;\n",
              "      border: none;\n",
              "      border-radius: 50%;\n",
              "      cursor: pointer;\n",
              "      display: none;\n",
              "      fill: #1967D2;\n",
              "      height: 32px;\n",
              "      padding: 0 0 0 0;\n",
              "      width: 32px;\n",
              "    }\n",
              "\n",
              "    .colab-df-convert:hover {\n",
              "      background-color: #E2EBFA;\n",
              "      box-shadow: 0px 1px 2px rgba(60, 64, 67, 0.3), 0px 1px 3px 1px rgba(60, 64, 67, 0.15);\n",
              "      fill: #174EA6;\n",
              "    }\n",
              "\n",
              "    [theme=dark] .colab-df-convert {\n",
              "      background-color: #3B4455;\n",
              "      fill: #D2E3FC;\n",
              "    }\n",
              "\n",
              "    [theme=dark] .colab-df-convert:hover {\n",
              "      background-color: #434B5C;\n",
              "      box-shadow: 0px 1px 3px 1px rgba(0, 0, 0, 0.15);\n",
              "      filter: drop-shadow(0px 1px 2px rgba(0, 0, 0, 0.3));\n",
              "      fill: #FFFFFF;\n",
              "    }\n",
              "  </style>\n",
              "\n",
              "      <script>\n",
              "        const buttonEl =\n",
              "          document.querySelector('#df-f76bcb6e-9c54-42f5-b328-2c96f53d800c button.colab-df-convert');\n",
              "        buttonEl.style.display =\n",
              "          google.colab.kernel.accessAllowed ? 'block' : 'none';\n",
              "\n",
              "        async function convertToInteractive(key) {\n",
              "          const element = document.querySelector('#df-f76bcb6e-9c54-42f5-b328-2c96f53d800c');\n",
              "          const dataTable =\n",
              "            await google.colab.kernel.invokeFunction('convertToInteractive',\n",
              "                                                     [key], {});\n",
              "          if (!dataTable) return;\n",
              "\n",
              "          const docLinkHtml = 'Like what you see? Visit the ' +\n",
              "            '<a target=\"_blank\" href=https://colab.research.google.com/notebooks/data_table.ipynb>data table notebook</a>'\n",
              "            + ' to learn more about interactive tables.';\n",
              "          element.innerHTML = '';\n",
              "          dataTable['output_type'] = 'display_data';\n",
              "          await google.colab.output.renderOutput(dataTable, element);\n",
              "          const docLink = document.createElement('div');\n",
              "          docLink.innerHTML = docLinkHtml;\n",
              "          element.appendChild(docLink);\n",
              "        }\n",
              "      </script>\n",
              "    </div>\n",
              "  </div>\n",
              "  "
            ]
          },
          "metadata": {},
          "execution_count": 67
        }
      ]
    },
    {
      "cell_type": "code",
      "source": [
        "results_val = []\n",
        "results_train = []\n",
        "\n",
        "for C in np.linspace(1.0,7.5,200):\n",
        "  clf = pipe = Pipeline([('scaler', StandardScaler()), ('LR', LogisticRegression(max_iter=10000,C=C))])\n",
        "  clf.fit(X_train,y_train)\n",
        "  pred = clf.predict(X_valid)\n",
        "  results_val.append(f1_score(pred,y_valid,average=\"weighted\"))\n",
        "  pred = clf.predict(X_train)\n",
        "  results_train.append(f1_score(pred,y_train,average=\"weighted\"))\n",
        "    \n",
        "\n",
        "\n",
        "plt.title(\"testing for C\")\n",
        "plt.plot(np.linspace(0.05,7.5,200),results_val,label='val')\n",
        "plt.plot(np.linspace(0.05,7.5,200),results_train,label='train')\n",
        "plt.ylabel(\"f1-score\")\n",
        "plt.xlabel(\"C\")\n",
        "plt.legend()"
      ],
      "metadata": {
        "id": "g4Xvh7Oin5GK"
      },
      "execution_count": null,
      "outputs": []
    },
    {
      "cell_type": "code",
      "source": [
        "results_val = []\n",
        "results_train = []\n",
        "\n",
        "for tol in np.linspace(0.00001,1.0,200):\n",
        "  clf = pipe = Pipeline([('scaler', StandardScaler()), ('LR', LogisticRegression(max_iter=10000,tol=tol))])\n",
        "  clf.fit(X_train,y_train)\n",
        "  pred = clf.predict(X_valid)\n",
        "  results_val.append(f1_score(pred,y_valid,average=\"weighted\"))\n",
        "  pred = clf.predict(X_train)\n",
        "  results_train.append(f1_score(pred,y_train,average=\"weighted\"))\n",
        "    \n",
        "\n",
        "\n",
        "plt.title(\"testing for tol\")\n",
        "plt.plot(np.linspace(0.00001,1.0,200),results_val,label='val')\n",
        "plt.plot(np.linspace(0.00001,1.0,200),results_train,label='train')\n",
        "plt.ylabel(\"f1-score\")\n",
        "plt.xlabel(\"tol\")\n",
        "plt.legend()"
      ],
      "metadata": {
        "id": "36uQ6t2f3TtY"
      },
      "execution_count": null,
      "outputs": []
    },
    {
      "cell_type": "code",
      "source": [],
      "metadata": {
        "id": "b7Td-o4z9USi"
      },
      "execution_count": null,
      "outputs": []
    }
  ],
  "metadata": {
    "colab": {
      "provenance": [],
      "include_colab_link": true
    },
    "kernelspec": {
      "display_name": "Python 3",
      "name": "python3"
    },
    "language_info": {
      "name": "python"
    }
  },
  "nbformat": 4,
  "nbformat_minor": 0
}