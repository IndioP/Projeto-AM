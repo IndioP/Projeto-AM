{
  "cells": [
    {
      "cell_type": "markdown",
      "metadata": {
        "colab_type": "text",
        "id": "view-in-github"
      },
      "source": [
        "<a href=\"https://colab.research.google.com/github/IndioP/Projeto-AM/blob/main/Avila.ipynb\" target=\"_parent\"><img src=\"https://colab.research.google.com/assets/colab-badge.svg\" alt=\"Open In Colab\"/></a>"
      ]
    },
    {
      "attachments": {},
      "cell_type": "markdown",
      "metadata": {
        "id": "AkUTfpA_inV_"
      },
      "source": [
        "# Projeto 1 de Aprendizado de Máquina\n",
        "## Grupo\n",
        "- João Victor de Lima Peixoto\n",
        "- José Douglas Pontes Silva\n",
        "- Marcos Heitor Carvalho de Oliveira\n",
        "- Mikael Vidal da Silva\n",
        "\n",
        "# Introdução\n",
        "O projeto da cadeira de aprendizado de máquina visa aplicar as diferentes técnicas aprendidas na disciplina para fazer uma análise exploratoria sobre a `precisão (precision)`, `cobertura (recall)` e `f1-score` presentes no uso de cada algoritmo estudado em um `dataset` do mundo real.\n",
        "\n",
        "Os algoritmos aprendidos na cadeira e testados no projeto foram:\n",
        "- Árvores de Decisões\n",
        "- Bayesiano Ingenuo\n",
        "- Regressão Logistica\n",
        "- K Vizinhos\n",
        "\n",
        ", onde cada algoritmo apresenta parâmetros e logicas próprias que serão discutidas na fundamentação teórica deste relatório.\n",
        "\n",
        "O conjunto de dados testado no projeto foi o `Avila Data Set`. Em resumo, esse conjunto de dados foi extraido através de 800 imagens da Biblia de Avila, uma cópia em latim da Biblia produzida no século XII em um local entre a Itália e a Espanha. No capítulo \"Conjunto de dados\", faremos uma descrição mais ampla de como esse dataset é dividido e também das suas features.\n",
        "\n",
        "Por fim, mostraremos os resultados e conclusões obtidas dos nossos experimentos.\n",
        "\n",
        "# Objetivos\n",
        "\n",
        "O objetivo geral do projeto é explorar os algoritmos aprendidos na cadeira de Aprendizagem de Máquina. Essa objetivo geral engloba os seguintes objetivos especificos:\n",
        "\n",
        "- I. Explorar o conjunto de dados de `Avila` e verificar as features relevantes para cada método utilizado.\n",
        "- II. Realizar o treinamento e classificação de cada um dos algoritmos aprendidos utilizando o `Avila Data Set`.\n",
        "- III. Realizar uma analise exploratoria de mudanças dps hiper-parametros de cada algoritmo para buscar valores melhores de `precision`, `recall` e `f1-score`.\n",
        "\n",
        "# Fundamentação Teórica\n",
        "\n",
        "Nesse cápitulo abordaremos alguns dos fundamentos básicos para que o leitor possa entender o projeto. Inicialmente falaremos sobre as métricas usadas para avaliar cada modelo e em seguida falaremos sobre cada modelo em si.\n",
        "\n",
        "## Métricas\n",
        "\n",
        "Em geral, quando estamos trabalhando com modelos de classificação, precisamos de algumas métricas para avaliar se a performance de um modelo é melhor do que a de outro modelo ao realizar uma classificação. Nesse contexto, `precision`, `recall` e `f1-score` servem como essas métricas para prover o quão bem um modelo é capaz de prever corretamente a classificação de uma instância com sua classe real. Além disso, essas métricas nos ajudam a comparar diferentes modelos ou parâmetros usados em algum classificador para otimizar sua performance. \n",
        "\n",
        "### Precision\n",
        "\n",
        "A métrica de precisão (ou `precision`) mede a proporção de predições verdadeiras sobre todas as predições positivas feitas pelo modelo. A precisão é calculada como na fórmula abaixo:\n",
        "\n",
        "<img src=\"http://www.sciweavers.org/tex2img.php?eq=%20%5Cfrac%7BTP%7D%7BTP%20%2B%20FP%7D%20&bc=White&fc=Black&im=jpg&fs=12&ff=arev&edit=0\" align=\"center\" border=\"0\" alt=\" \\frac{TP}{TP + FP} \" width=\"67\" height=\"43\" />\n",
        "\n",
        ", onde `TP` é número de predições positivas enquando `FP` é o número de predições falso-positivas. Uma precisão alta indica que o modelo é bom em indentificar instâncias e tem uma taxa baixa de falso-positivos.\n",
        "\n",
        "### Recall \n",
        "\n",
        "A métrica de cobertura (ou `recall`) mede a proporção de precições verdadeiras sobre todas as instâncias verdadeiramente positivas nos dados. A cobertura é calculada como na fórmula abaixo:\n",
        "\n",
        "<img src=\"http://www.sciweavers.org/tex2img.php?eq=%20%5Cfrac%7BTP%7D%7BTP%20%2B%20FN%7D%20&bc=White&fc=Black&im=jpg&fs=12&ff=arev&edit=0\" align=\"center\" border=\"0\" alt=\" \\frac{TP}{TP + FN} \" width=\"69\" height=\"43\" />\n",
        "\n",
        ", onde `TP` é número de predições positivas enquando `FN` é o número de predições falso-negativas. Uma cobertura alta indica que o modelo é bom em indentificar todas as intâncias positivas e tem uma taxa baixa de falso-negativos.\n",
        "\n",
        "### F1-Score\n",
        "\n",
        "A métrica `f1-score` combina tanto a precisão como a cobertura em uma unica métrica. O `f1-score` pode ser calculada da seguinte forma:\n",
        "\n",
        "<img src=\"http://www.sciweavers.org/tex2img.php?eq=%202%20%2A%20%5Cfrac%7Bprecision%20%2A%20recall%7D%7Bprecision%20%2B%20recall%7D%20&bc=White&fc=Black&im=jpg&fs=12&ff=arev&edit=0\" align=\"center\" border=\"0\" alt=\" 2 * \\frac{precision * recall}{precision + recall} \" width=\"187\" height=\"47\" />\n",
        "\n",
        "Essa métrica serve para avaliar a performance de um modelo onde ambas precisão e cobertura são desejadas.\n",
        "\n",
        "## Algoritmos\n",
        "\n",
        "Dentro do assunto de aprendizado de máquina, os algoritmos que nós aprendemos servem como modelos de classificação. Esses modelos de classificação servem para prever uma classe categorica sobre uma instância de entrada levando em consideração suas `features`, ou parâmetros de entrada.\n",
        "\n",
        "No caso do projeto, faremos um aprendizado supervisionado, onde usaremos um conjunto de dados já rotulados com a classe correta na entrada para treinar os modelos de classifação. Com isso, os modelos serão capazes de predizer a classe de dados ainda não vistos. \n",
        "\n",
        "Existem muitos tipos de modelos de classificação na literatura. Entraremos agora em detalhe sobre os modelos de classificação usados no projeto.\n",
        "\n",
        "### Decision Tree Classifier\n",
        "\n",
        "O classificador baseado em árvores de decisão (ou decision tree classifier) é um modelo que faz partições nas features em ramos que correspondem à um espaço que representa especifica classe baseado em um conjunto de regras.\n",
        "\n",
        "Existem várias formas de se dividir a árvore de decisão. Alguns dos parâmetros que valem a pena ser considerados são: a altura máxima da árvore, a estrátegia de divisão de cada nó da árvore, o críterio de divisão e o número máximo de features usadas. A altura máxima da árvore nos ajuda a decidir quantos critérios iremos considerar no nosso modelo, deixando assim a análise de cada feature mais complexa. Uma árvore curta dará respostas mais facilmente, no entanto, com menos precisão. A estrátegia de divisão do nó nos ajuda a escolher o modo de melhor dividir a árvore, escolhendo métricas que priorizam a qualidade e ganho de informação do sistema. \n",
        "\n",
        "### Naive Bayes\n",
        "\n",
        "Naive Bayes (ou classificador Bayesiano Ingênuo) é um modelo probabilistido que usa o teorema de Bayes para calcular a probabilidade das features da entrada pertencerem ou não à uma determinda classe. \n",
        "\n",
        "Dado conjunto de entrada, com um vetor X de features e a classe Y, o modelo primeiro calcula as probabilidades à priori P(Y) para cada class, o que representa a proporção de instancias no conjunto de treinamento que pertencem à cada classe. Em sequencia, o modelo calcula as probabilidades condicionais P(X | Y) para cada feature de entrada em cada classe, o que representa a probabilidade de observar cada valor da feature numa dada classe. Usando o teorema de Bayes, o modelo então calcula a probabiliade à posteriore P(Y | X) de cada classe dada a instância observada, o que indica a probabilidade de cada classe dado o vetor de features, então o modelo simplesmente seleciona a classe com maior probabilidade posteriore.\n",
        "\n",
        "### Logistic Regression\n",
        "\n",
        "A regressão logística (ou logistic regression) é um tipo de modelo de classificação linear utilizado comumente em problemas de classificação binária, onde o objetivo é prever um dos dois possíveis resultados com base em características de entrada. O modelo é chamado de \"logístico\" porque usa a função logística (também conhecida como função sigmoidal) para mapear a saída de uma função linear para um valor de probabilidade entre 0 e 1. No entanto, o modelo também pode ser usado para problemas com multiplas classes, onde a função logistica irá funcionar de maneira semelhante, mas agora calculando a probabilidade do vetor de entrada pertencer à uma das multiplas classes possíveis.\n",
        "\n",
        "\n",
        "Dado um conjunto de dados de treinamento com características de entrada X e rótulos de classe binários Y, o modelo primeiro aprender uma função que mapeia as características de entrada para um valor de saída continuo. Essa função linear pode ser expressa como:\n",
        "\n",
        "```\n",
        "    z = b0 + b1x1 + b2x2 + ... + bnxn\n",
        "```\n",
        "\n",
        ", onde z é a função linear das características de entrada, `b0` é o termo de viés e cada `b_x` com `x` indo de `1` à  `n` são os coeficientes (ou pesos) que correspondem a cada feature da entrada. A saída da função linear é então passada pela função logística, que mapeia a saída para um valor de probabilidade entre 0 e 1. O modelo então usa o valor de probabilidade para tomar uma decisão de classificação. \n",
        "\n",
        "O modelo é treinado pela minimização de uma função de custo que mede o erro entre as probabilidades previstas e os rótulos de classe verdadeiros. Uma função de custo comumente usada para regressão logística é a função de perda de entropia cruzada binária.\n",
        "\n",
        "### K-Neighbors\n",
        "\n",
        "O K neighbors (ou K-Vizinhos, ou até mesmo K-nearest neighbors: KNN) é um tipo de modelo de classificação não paramétrico e baseado em suas instâncias. O KNN são faz suposições sobre as distribuições dos dados e pode trabalhar com features categoricas ou númericas. No KNN, a classificação é feita com base nos rótulos de classe dos k vizinhos mais próximos no espaço de características. No entanto, o valor de seu hiperparâmetro `k` deve ser escolhido com base no problema específico e nas características dos dados.\n",
        "\n",
        "Dado uma nova instância para classificar, o modelo KNN calcula as distâncias entre a nova instância e todas as instâncias no conjunto de treinamento. Essa função de distância depende do problema selecionado. O KNN seleciona as k instâncias mais próximas da nova instância de entrada baseado na função escolhida e, assim, atribui a nova instância à classe que é mais frequente entre esses k vizinhos.\n",
        "\n",
        "Uma das desvantagens do KNN é que pode ser computacionalmente caro para conjuntos de dados grandes, pois requer o cálculo das distâncias entre a nova instância e todas as instâncias no conjunto de treinamento. Além disso, KNN pode não funcionar bem em espaços de características de alta dimensão ou quando os dados são esparsos.\n",
        "\n",
        "# Conjunto de Dados\n",
        "\n",
        "Os dados do projeto são referentes as informações extraidas das imagens de páginas copiadas da biblía de `Avila`. A analise paleografica do manuscrito indicou a presença de 12 escrivãos responsáveis pela copia. A quantidade de páginas escritas por cada escrivão não é igual. Cada classe do `dataset` está dividida entre os tipos: A, B, C, D, E, F, G, H, I, W, X, e Y, onde cada classe faz referência à qual copiador foi responsável por aquele trecho / página.\n",
        "\n",
        "Cada padrão de escrivão contém 10 features. Os dados foram normalizados usando o `Z-normalization` método. Essa normalização é uma técnica usada para transformar um conjunto de características de entrada para ter uma média zero e um desvio padrão de um. Isso é feito subtraindo o valor médio de cada característica de cada ponto de dados e, em seguida, dividindo pelo desvio padrão dessa característica. A normalização Z é comumente usada em aprendizado de máquina para garantir que todas as características de entrada estejam na mesma escala e tenham uma faixa de valores semelhante. Isso é particularmente importante para modelos que dependem de métricas baseadas em distância ou algoritmos de otimização, pois características com escalas ou variâncias maiores podem dominar o processo de tomada de decisão do modelo. A normalização Z pode ajudar a evitar esse problema e garantir que todas as características sejam igualmente importantes nas previsões do modelo.\n",
        "\n",
        "O `dataset` foi dividido em duas partes, uma parte para treino, contendo 10430 amostras e outra parte para os testes, contendo 10437 amostras.\n",
        "\n",
        "# Metodologia\n",
        "\n",
        "A metodologia utilizada neste projeto foi dividida em três etapas principais:\n",
        "- 1. Realizamos o treinamento e classificação utilizando os valores default dos respectivos métodos para obter o valor primordial do `precision`, `recall`\n",
        " e `f1_score` em cada um dos modelos propostos. \n",
        "- 2. Realizamos uma analise exploratória em cada um dos hiperparâmetros para buscar otimizar os valores da métricas obtidas.\n",
        "- 3. Por fim, utilizamos o Optuna, uma ferramenta que automatiza o processo de testagem de hiperparâmetros, para os modelos que tinham uma variação maior de parâmetros. \n",
        "\n",
        "\n",
        "Para cada modelo de classificação diferente, alteramos os parâmetros que mais influenciavam na nossa classificação. \n",
        "\n",
        "No caso do Decision Tree Classifier alteramos altura máxima da árvore, a estrátegia de divisão de cada nó da árvore, o critério de divisão e o número máximo de features usadas. A altura máxima tenta regular o feedback da resposta, equanto a estrátegia de divisão de cada nó diz como separar os nós baseado em suas features e critério de divisão. \n",
        "\n",
        "No Naive Bayes Classifier, alteramos o parâmetro que regula a porção da maior variância de todas as características que é adicionada às variâncias para garantir a estabilidade dos cálculos. Apenas esse parâmetro é usado para a construção do modelo e foi o unico variado.\n",
        "\n",
        "No Logic Regression Classifier, alteramos os parâmetros de tolerância, penalidade, a função de regulação e o coeficiente de força de regulação. Cada parâmetro influência no calculo final do modelo, seja nas subdivisões espaciais para a entrada da classe ou como o modelo se comportará com entradas de pequena ordem.\n",
        "\n",
        "Por fim, no KNN Classifier, testamos diferentes valores de `k` para o classificador e também a influência de que outras funções de distância faziam na composição do classificador.\n",
        "\n",
        "A escolha de todos os hiperparâmetros foram feitos utilizando como o base `f1_score` em cima do conjunto de validação. Todos os testes foram utilizados usando a biblioteca do `sklearn` que disponibiliza todos esses classificadores e parâmetros estudados, além disso utilizamos o `dataset` do `Avila` em ambos os testes comentados.\n",
        "\n",
        "# Resultados\n"
      ]
    },
    {
      "cell_type": "markdown",
      "metadata": {
        "id": "fGJmsO_OYf7A"
      },
      "source": [
        "## Import's iniciais do projeto"
      ]
    },
    {
      "cell_type": "code",
      "execution_count": 1,
      "metadata": {
        "colab": {
          "base_uri": "https://localhost:8080/"
        },
        "id": "3fowlwl44XDu",
        "outputId": "e4286bbf-cc6a-452e-f0c4-0fc4dd663704"
      },
      "outputs": [
        {
          "name": "stdout",
          "output_type": "stream",
          "text": [
            "Cloning into 'Projeto-AM'...\n",
            "remote: Enumerating objects: 59, done.\u001b[K\n",
            "remote: Counting objects: 100% (59/59), done.\u001b[K\n",
            "remote: Compressing objects: 100% (52/52), done.\u001b[K\n",
            "remote: Total 59 (delta 31), reused 14 (delta 7), pack-reused 0\u001b[K\n",
            "Unpacking objects: 100% (59/59), 778.18 KiB | 2.20 MiB/s, done.\n"
          ]
        }
      ],
      "source": [
        "!git clone https://github.com/IndioP/Projeto-AM"
      ]
    },
    {
      "cell_type": "code",
      "execution_count": 2,
      "metadata": {
        "id": "iorlHYAJKVxz"
      },
      "outputs": [],
      "source": [
        "import pandas as pd\n",
        "from sklearn.model_selection import train_test_split\n",
        "from sklearn.tree import DecisionTreeClassifier\n",
        "from sklearn.naive_bayes import GaussianNB\n",
        "from sklearn.linear_model import LogisticRegression\n",
        "from sklearn.neighbors import KNeighborsClassifier\n",
        "from sklearn.metrics import f1_score,recall_score,precision_score\n",
        "import numpy as np\n",
        "import matplotlib.pyplot as plt\n",
        "from sklearn.preprocessing import StandardScaler\n",
        "from sklearn.pipeline import Pipeline\n",
        "import seaborn as sns"
      ]
    },
    {
      "cell_type": "code",
      "execution_count": 11,
      "metadata": {
        "id": "5pzo_Jy3lrxp"
      },
      "outputs": [],
      "source": [
        "def display_metrics(model,x_test,y_test):\n",
        "    predicted = model.predict(x_test)\n",
        "    report = classification_report(y_test, predicted)\n",
        "    accuracy = accuracy_score(y_test, predicted)\n",
        "    print(report)\n",
        "    print(f\"accuracy: {accuracy}\")\n",
        "\n",
        "    cm = confusion_matrix(y_test, predicted)\n",
        "    plt.figure(figsize=(12,10))\n",
        "    sns.heatmap(cm, center=True, annot=True, yticklabels=model.classes_, xticklabels=model.classes_)\n"
      ]
    },
    {
      "cell_type": "code",
      "execution_count": 3,
      "metadata": {
        "id": "h8HjT3TMJzQK"
      },
      "outputs": [],
      "source": [
        "names = ['F1','F2','F3','F4','F5','F6','F7','F8','F9','F10','Class']\n",
        "df = pd.read_csv(\"Projeto-AM/avila-tr.txt\",names = names)\n",
        "df_ts = pd.read_csv(\"Projeto-AM/avila-ts.txt\",names=names)\n",
        "X_test = df_ts.drop(\"Class\",axis=1)\n",
        "y_test = df_ts[\"Class\"]"
      ]
    },
    {
      "attachments": {},
      "cell_type": "markdown",
      "metadata": {},
      "source": [
        "## Observando o conjunto de dados"
      ]
    },
    {
      "cell_type": "code",
      "execution_count": 4,
      "metadata": {
        "colab": {
          "base_uri": "https://localhost:8080/",
          "height": 206
        },
        "id": "Wz9UqFngKnOs",
        "outputId": "ba719233-c37d-4ceb-c841-929642e43307"
      },
      "outputs": [
        {
          "data": {
            "text/html": [
              "\n",
              "  <div id=\"df-f74f1bbb-c03e-4f57-af60-de0ae654bc5b\">\n",
              "    <div class=\"colab-df-container\">\n",
              "      <div>\n",
              "<style scoped>\n",
              "    .dataframe tbody tr th:only-of-type {\n",
              "        vertical-align: middle;\n",
              "    }\n",
              "\n",
              "    .dataframe tbody tr th {\n",
              "        vertical-align: top;\n",
              "    }\n",
              "\n",
              "    .dataframe thead th {\n",
              "        text-align: right;\n",
              "    }\n",
              "</style>\n",
              "<table border=\"1\" class=\"dataframe\">\n",
              "  <thead>\n",
              "    <tr style=\"text-align: right;\">\n",
              "      <th></th>\n",
              "      <th>F1</th>\n",
              "      <th>F2</th>\n",
              "      <th>F3</th>\n",
              "      <th>F4</th>\n",
              "      <th>F5</th>\n",
              "      <th>F6</th>\n",
              "      <th>F7</th>\n",
              "      <th>F8</th>\n",
              "      <th>F9</th>\n",
              "      <th>F10</th>\n",
              "      <th>Class</th>\n",
              "    </tr>\n",
              "  </thead>\n",
              "  <tbody>\n",
              "    <tr>\n",
              "      <th>0</th>\n",
              "      <td>0.266074</td>\n",
              "      <td>-0.165620</td>\n",
              "      <td>0.320980</td>\n",
              "      <td>0.483299</td>\n",
              "      <td>0.172340</td>\n",
              "      <td>0.273364</td>\n",
              "      <td>0.371178</td>\n",
              "      <td>0.929823</td>\n",
              "      <td>0.251173</td>\n",
              "      <td>0.159345</td>\n",
              "      <td>A</td>\n",
              "    </tr>\n",
              "    <tr>\n",
              "      <th>1</th>\n",
              "      <td>0.130292</td>\n",
              "      <td>0.870736</td>\n",
              "      <td>-3.210528</td>\n",
              "      <td>0.062493</td>\n",
              "      <td>0.261718</td>\n",
              "      <td>1.436060</td>\n",
              "      <td>1.465940</td>\n",
              "      <td>0.636203</td>\n",
              "      <td>0.282354</td>\n",
              "      <td>0.515587</td>\n",
              "      <td>A</td>\n",
              "    </tr>\n",
              "    <tr>\n",
              "      <th>2</th>\n",
              "      <td>-0.116585</td>\n",
              "      <td>0.069915</td>\n",
              "      <td>0.068476</td>\n",
              "      <td>-0.783147</td>\n",
              "      <td>0.261718</td>\n",
              "      <td>0.439463</td>\n",
              "      <td>-0.081827</td>\n",
              "      <td>-0.888236</td>\n",
              "      <td>-0.123005</td>\n",
              "      <td>0.582939</td>\n",
              "      <td>A</td>\n",
              "    </tr>\n",
              "    <tr>\n",
              "      <th>3</th>\n",
              "      <td>0.031541</td>\n",
              "      <td>0.297600</td>\n",
              "      <td>-3.210528</td>\n",
              "      <td>-0.583590</td>\n",
              "      <td>-0.721442</td>\n",
              "      <td>-0.307984</td>\n",
              "      <td>0.710932</td>\n",
              "      <td>1.051693</td>\n",
              "      <td>0.594169</td>\n",
              "      <td>-0.533994</td>\n",
              "      <td>A</td>\n",
              "    </tr>\n",
              "    <tr>\n",
              "      <th>4</th>\n",
              "      <td>0.229043</td>\n",
              "      <td>0.807926</td>\n",
              "      <td>-0.052442</td>\n",
              "      <td>0.082634</td>\n",
              "      <td>0.261718</td>\n",
              "      <td>0.148790</td>\n",
              "      <td>0.635431</td>\n",
              "      <td>0.051062</td>\n",
              "      <td>0.032902</td>\n",
              "      <td>-0.086652</td>\n",
              "      <td>F</td>\n",
              "    </tr>\n",
              "  </tbody>\n",
              "</table>\n",
              "</div>\n",
              "      <button class=\"colab-df-convert\" onclick=\"convertToInteractive('df-f74f1bbb-c03e-4f57-af60-de0ae654bc5b')\"\n",
              "              title=\"Convert this dataframe to an interactive table.\"\n",
              "              style=\"display:none;\">\n",
              "        \n",
              "  <svg xmlns=\"http://www.w3.org/2000/svg\" height=\"24px\"viewBox=\"0 0 24 24\"\n",
              "       width=\"24px\">\n",
              "    <path d=\"M0 0h24v24H0V0z\" fill=\"none\"/>\n",
              "    <path d=\"M18.56 5.44l.94 2.06.94-2.06 2.06-.94-2.06-.94-.94-2.06-.94 2.06-2.06.94zm-11 1L8.5 8.5l.94-2.06 2.06-.94-2.06-.94L8.5 2.5l-.94 2.06-2.06.94zm10 10l.94 2.06.94-2.06 2.06-.94-2.06-.94-.94-2.06-.94 2.06-2.06.94z\"/><path d=\"M17.41 7.96l-1.37-1.37c-.4-.4-.92-.59-1.43-.59-.52 0-1.04.2-1.43.59L10.3 9.45l-7.72 7.72c-.78.78-.78 2.05 0 2.83L4 21.41c.39.39.9.59 1.41.59.51 0 1.02-.2 1.41-.59l7.78-7.78 2.81-2.81c.8-.78.8-2.07 0-2.86zM5.41 20L4 18.59l7.72-7.72 1.47 1.35L5.41 20z\"/>\n",
              "  </svg>\n",
              "      </button>\n",
              "      \n",
              "  <style>\n",
              "    .colab-df-container {\n",
              "      display:flex;\n",
              "      flex-wrap:wrap;\n",
              "      gap: 12px;\n",
              "    }\n",
              "\n",
              "    .colab-df-convert {\n",
              "      background-color: #E8F0FE;\n",
              "      border: none;\n",
              "      border-radius: 50%;\n",
              "      cursor: pointer;\n",
              "      display: none;\n",
              "      fill: #1967D2;\n",
              "      height: 32px;\n",
              "      padding: 0 0 0 0;\n",
              "      width: 32px;\n",
              "    }\n",
              "\n",
              "    .colab-df-convert:hover {\n",
              "      background-color: #E2EBFA;\n",
              "      box-shadow: 0px 1px 2px rgba(60, 64, 67, 0.3), 0px 1px 3px 1px rgba(60, 64, 67, 0.15);\n",
              "      fill: #174EA6;\n",
              "    }\n",
              "\n",
              "    [theme=dark] .colab-df-convert {\n",
              "      background-color: #3B4455;\n",
              "      fill: #D2E3FC;\n",
              "    }\n",
              "\n",
              "    [theme=dark] .colab-df-convert:hover {\n",
              "      background-color: #434B5C;\n",
              "      box-shadow: 0px 1px 3px 1px rgba(0, 0, 0, 0.15);\n",
              "      filter: drop-shadow(0px 1px 2px rgba(0, 0, 0, 0.3));\n",
              "      fill: #FFFFFF;\n",
              "    }\n",
              "  </style>\n",
              "\n",
              "      <script>\n",
              "        const buttonEl =\n",
              "          document.querySelector('#df-f74f1bbb-c03e-4f57-af60-de0ae654bc5b button.colab-df-convert');\n",
              "        buttonEl.style.display =\n",
              "          google.colab.kernel.accessAllowed ? 'block' : 'none';\n",
              "\n",
              "        async function convertToInteractive(key) {\n",
              "          const element = document.querySelector('#df-f74f1bbb-c03e-4f57-af60-de0ae654bc5b');\n",
              "          const dataTable =\n",
              "            await google.colab.kernel.invokeFunction('convertToInteractive',\n",
              "                                                     [key], {});\n",
              "          if (!dataTable) return;\n",
              "\n",
              "          const docLinkHtml = 'Like what you see? Visit the ' +\n",
              "            '<a target=\"_blank\" href=https://colab.research.google.com/notebooks/data_table.ipynb>data table notebook</a>'\n",
              "            + ' to learn more about interactive tables.';\n",
              "          element.innerHTML = '';\n",
              "          dataTable['output_type'] = 'display_data';\n",
              "          await google.colab.output.renderOutput(dataTable, element);\n",
              "          const docLink = document.createElement('div');\n",
              "          docLink.innerHTML = docLinkHtml;\n",
              "          element.appendChild(docLink);\n",
              "        }\n",
              "      </script>\n",
              "    </div>\n",
              "  </div>\n",
              "  "
            ],
            "text/plain": [
              "         F1        F2        F3        F4        F5        F6        F7  \\\n",
              "0  0.266074 -0.165620  0.320980  0.483299  0.172340  0.273364  0.371178   \n",
              "1  0.130292  0.870736 -3.210528  0.062493  0.261718  1.436060  1.465940   \n",
              "2 -0.116585  0.069915  0.068476 -0.783147  0.261718  0.439463 -0.081827   \n",
              "3  0.031541  0.297600 -3.210528 -0.583590 -0.721442 -0.307984  0.710932   \n",
              "4  0.229043  0.807926 -0.052442  0.082634  0.261718  0.148790  0.635431   \n",
              "\n",
              "         F8        F9       F10 Class  \n",
              "0  0.929823  0.251173  0.159345     A  \n",
              "1  0.636203  0.282354  0.515587     A  \n",
              "2 -0.888236 -0.123005  0.582939     A  \n",
              "3  1.051693  0.594169 -0.533994     A  \n",
              "4  0.051062  0.032902 -0.086652     F  "
            ]
          },
          "execution_count": 4,
          "metadata": {},
          "output_type": "execute_result"
        }
      ],
      "source": [
        "df.head()"
      ]
    },
    {
      "attachments": {},
      "cell_type": "markdown",
      "metadata": {
        "id": "0wKLthUdYs0l"
      },
      "source": [
        "## Separando o conjunto de treinamento em TREINO 80% | VALIDAÇÃO 20%"
      ]
    },
    {
      "cell_type": "code",
      "execution_count": 5,
      "metadata": {
        "id": "2INz5S4JK_1N"
      },
      "outputs": [],
      "source": [
        "X_train,X_valid,y_train,y_valid = train_test_split(df.drop(\"Class\",axis=1), df[\"Class\"],test_size=0.2,random_state=2023)"
      ]
    },
    {
      "cell_type": "code",
      "execution_count": 6,
      "metadata": {
        "colab": {
          "base_uri": "https://localhost:8080/"
        },
        "id": "4TIm0U14LQZN",
        "outputId": "6117fea2-15c1-454d-cfd1-55d6d1640204"
      },
      "outputs": [
        {
          "data": {
            "text/plain": [
              "((8344, 10), (8344,), (2086, 10), (2086,))"
            ]
          },
          "execution_count": 6,
          "metadata": {},
          "output_type": "execute_result"
        }
      ],
      "source": [
        "X_train.shape,y_train.shape,X_valid.shape,y_valid.shape"
      ]
    },
    {
      "attachments": {},
      "cell_type": "markdown",
      "metadata": {
        "id": "1xKeOyElY1Kf"
      },
      "source": [
        "## Primeira análise dos modelos com valores default's dos métodos utilizados pelo Scikit Learn para cada um dos classificadores:\n",
        "- Decisition Tree\n",
        "- Gaussian NB\n",
        "- LOgistic Regression\n",
        "- KNN"
      ]
    },
    {
      "cell_type": "code",
      "execution_count": 7,
      "metadata": {
        "id": "q_DvgdguY5Yy"
      },
      "outputs": [],
      "source": [
        "models = [DecisionTreeClassifier(), GaussianNB(), Pipeline([('scaler', StandardScaler()), ('LR', LogisticRegression(max_iter=10000))]), KNeighborsClassifier()]\n",
        "models_names = [\"DecisionTreeClassifier\", \"GaussianNB\", \"LogisticRegression\", \"KNeighborsClassifier\"]"
      ]
    },
    {
      "cell_type": "code",
      "execution_count": 8,
      "metadata": {
        "colab": {
          "base_uri": "https://localhost:8080/"
        },
        "id": "lcFB1qdgMEzv",
        "outputId": "231100a5-4a41-426d-96d5-f5ae43152ea2"
      },
      "outputs": [
        {
          "name": "stdout",
          "output_type": "stream",
          "text": [
            "\n",
            "Model:  DecisionTreeClassifier\n",
            "Accuracy:  0.9755512943432406\n",
            "Precision:  0.9756802227477329\n",
            "Recall:  0.9755512943432406\n",
            "F1-score:  0.9755513504533896\n",
            "----------------------------------------------------------------------------------------------------\n",
            "\n",
            "Model:  GaussianNB\n",
            "Accuracy:  0.28044103547459254\n",
            "Precision:  0.4869461008434287\n",
            "Recall:  0.28044103547459254\n",
            "F1-score:  0.31269471946758487\n",
            "----------------------------------------------------------------------------------------------------\n",
            "\n",
            "Model:  LogisticRegression\n",
            "Accuracy:  0.5522531160115053\n",
            "Precision:  0.8055085318695356\n",
            "Recall:  0.5522531160115053\n",
            "F1-score:  0.631349791534737\n",
            "----------------------------------------------------------------------------------------------------\n",
            "\n",
            "Model:  KNeighborsClassifier\n"
          ]
        },
        {
          "name": "stderr",
          "output_type": "stream",
          "text": [
            "/usr/local/lib/python3.8/dist-packages/sklearn/metrics/_classification.py:1344: UndefinedMetricWarning: Recall is ill-defined and being set to 0.0 in labels with no true samples. Use `zero_division` parameter to control this behavior.\n",
            "  _warn_prf(average, modifier, msg_start, len(result))\n"
          ]
        },
        {
          "name": "stdout",
          "output_type": "stream",
          "text": [
            "Accuracy:  0.7157238734419943\n",
            "Precision:  0.7428505624498204\n",
            "Recall:  0.7157238734419943\n",
            "F1-score:  0.7225385508602775\n",
            "----------------------------------------------------------------------------------------------------\n"
          ]
        }
      ],
      "source": [
        "for model,name in zip(models,models_names):\n",
        "  print(f'\\nModel: ',name)\n",
        "  clf = model\n",
        "  clf.fit(X_train,y_train)\n",
        "  \n",
        "  print(\"Accuracy: \",clf.score(X_valid,y_valid))\n",
        "  \n",
        "  pred = clf.predict(X_valid)\n",
        "  print(\"Precision: \",precision_score(pred,y_valid,average=\"weighted\"))\n",
        "  print(\"Recall: \",recall_score(pred,y_valid,average=\"weighted\"))\n",
        "  print(\"F1-score: \",f1_score(pred,y_valid,average=\"weighted\"))\n",
        "  print(\"-\"*100)"
      ]
    },
    {
      "cell_type": "code",
      "execution_count": 10,
      "metadata": {
        "colab": {
          "base_uri": "https://localhost:8080/"
        },
        "id": "Z9VuLxEPQuxL",
        "outputId": "f0d3a2fa-2db0-41e6-f849-f432e7819b54"
      },
      "outputs": [
        {
          "name": "stdout",
          "output_type": "stream",
          "text": [
            "Precision:  0.7552854027850691\n",
            "Recall:  0.7311487975471879\n",
            "F1-score:  0.7369839317135863\n",
            "----------------------------------------------------------------------------------------------------\n"
          ]
        }
      ],
      "source": [
        "def check_test(clf,X_test,y_test):\n",
        "  pred = clf.predict(X_test)\n",
        "  print(\"Precision: \",precision_score(pred,y_test,average=\"weighted\"))\n",
        "  print(\"Recall: \",recall_score(pred,y_test,average=\"weighted\"))\n",
        "  print(\"F1-score: \",f1_score(pred,y_test,average=\"weighted\"))\n",
        "  print(\"-\"*100)\n",
        "\n",
        "check_test(clf,X_test,y_test)"
      ]
    },
    {
      "attachments": {},
      "cell_type": "markdown",
      "metadata": {},
      "source": [
        "De início já podemos observar que, utilizando apenas os valores defaults de cada um dos classificadores, o DecisionTreeClassifier apresenta um melhor comportamento em relação à todas as métricas do que nos outros classificadores. Esse comportamento se deve ao fato de que as árvores de decisão tomam vantagem sobre a divisão das features para classificar o espaço de escrita de cada escrivão, tendo assim uma vantagem natural na classificação pela própria natureza dos dados.\n"
      ]
    },
    {
      "attachments": {},
      "cell_type": "markdown",
      "metadata": {
        "id": "ykbMCvn_8SDY"
      },
      "source": [
        "## DecisionTreeClassifier parameters"
      ]
    },
    {
      "cell_type": "code",
      "execution_count": 17,
      "metadata": {
        "id": "kBHWUWhJlmxi"
      },
      "outputs": [],
      "source": [
        "from sklearn.tree import DecisionTreeClassifier\n",
        "from sklearn.metrics import classification_report\n",
        "from sklearn.metrics import confusion_matrix\n",
        "from sklearn.metrics import accuracy_score"
      ]
    },
    {
      "cell_type": "code",
      "execution_count": 13,
      "metadata": {
        "colab": {
          "base_uri": "https://localhost:8080/",
          "height": 75
        },
        "id": "LLefsg9dlnL0",
        "outputId": "30ccb107-dad7-4cac-eaae-27f439d03ee7"
      },
      "outputs": [
        {
          "data": {
            "text/html": [
              "<style>#sk-container-id-1 {color: black;background-color: white;}#sk-container-id-1 pre{padding: 0;}#sk-container-id-1 div.sk-toggleable {background-color: white;}#sk-container-id-1 label.sk-toggleable__label {cursor: pointer;display: block;width: 100%;margin-bottom: 0;padding: 0.3em;box-sizing: border-box;text-align: center;}#sk-container-id-1 label.sk-toggleable__label-arrow:before {content: \"▸\";float: left;margin-right: 0.25em;color: #696969;}#sk-container-id-1 label.sk-toggleable__label-arrow:hover:before {color: black;}#sk-container-id-1 div.sk-estimator:hover label.sk-toggleable__label-arrow:before {color: black;}#sk-container-id-1 div.sk-toggleable__content {max-height: 0;max-width: 0;overflow: hidden;text-align: left;background-color: #f0f8ff;}#sk-container-id-1 div.sk-toggleable__content pre {margin: 0.2em;color: black;border-radius: 0.25em;background-color: #f0f8ff;}#sk-container-id-1 input.sk-toggleable__control:checked~div.sk-toggleable__content {max-height: 200px;max-width: 100%;overflow: auto;}#sk-container-id-1 input.sk-toggleable__control:checked~label.sk-toggleable__label-arrow:before {content: \"▾\";}#sk-container-id-1 div.sk-estimator input.sk-toggleable__control:checked~label.sk-toggleable__label {background-color: #d4ebff;}#sk-container-id-1 div.sk-label input.sk-toggleable__control:checked~label.sk-toggleable__label {background-color: #d4ebff;}#sk-container-id-1 input.sk-hidden--visually {border: 0;clip: rect(1px 1px 1px 1px);clip: rect(1px, 1px, 1px, 1px);height: 1px;margin: -1px;overflow: hidden;padding: 0;position: absolute;width: 1px;}#sk-container-id-1 div.sk-estimator {font-family: monospace;background-color: #f0f8ff;border: 1px dotted black;border-radius: 0.25em;box-sizing: border-box;margin-bottom: 0.5em;}#sk-container-id-1 div.sk-estimator:hover {background-color: #d4ebff;}#sk-container-id-1 div.sk-parallel-item::after {content: \"\";width: 100%;border-bottom: 1px solid gray;flex-grow: 1;}#sk-container-id-1 div.sk-label:hover label.sk-toggleable__label {background-color: #d4ebff;}#sk-container-id-1 div.sk-serial::before {content: \"\";position: absolute;border-left: 1px solid gray;box-sizing: border-box;top: 0;bottom: 0;left: 50%;z-index: 0;}#sk-container-id-1 div.sk-serial {display: flex;flex-direction: column;align-items: center;background-color: white;padding-right: 0.2em;padding-left: 0.2em;position: relative;}#sk-container-id-1 div.sk-item {position: relative;z-index: 1;}#sk-container-id-1 div.sk-parallel {display: flex;align-items: stretch;justify-content: center;background-color: white;position: relative;}#sk-container-id-1 div.sk-item::before, #sk-container-id-1 div.sk-parallel-item::before {content: \"\";position: absolute;border-left: 1px solid gray;box-sizing: border-box;top: 0;bottom: 0;left: 50%;z-index: -1;}#sk-container-id-1 div.sk-parallel-item {display: flex;flex-direction: column;z-index: 1;position: relative;background-color: white;}#sk-container-id-1 div.sk-parallel-item:first-child::after {align-self: flex-end;width: 50%;}#sk-container-id-1 div.sk-parallel-item:last-child::after {align-self: flex-start;width: 50%;}#sk-container-id-1 div.sk-parallel-item:only-child::after {width: 0;}#sk-container-id-1 div.sk-dashed-wrapped {border: 1px dashed gray;margin: 0 0.4em 0.5em 0.4em;box-sizing: border-box;padding-bottom: 0.4em;background-color: white;}#sk-container-id-1 div.sk-label label {font-family: monospace;font-weight: bold;display: inline-block;line-height: 1.2em;}#sk-container-id-1 div.sk-label-container {text-align: center;}#sk-container-id-1 div.sk-container {/* jupyter's `normalize.less` sets `[hidden] { display: none; }` but bootstrap.min.css set `[hidden] { display: none !important; }` so we also need the `!important` here to be able to override the default hidden behavior on the sphinx rendered scikit-learn.org. See: https://github.com/scikit-learn/scikit-learn/issues/21755 */display: inline-block !important;position: relative;}#sk-container-id-1 div.sk-text-repr-fallback {display: none;}</style><div id=\"sk-container-id-1\" class=\"sk-top-container\"><div class=\"sk-text-repr-fallback\"><pre>DecisionTreeClassifier()</pre><b>In a Jupyter environment, please rerun this cell to show the HTML representation or trust the notebook. <br />On GitHub, the HTML representation is unable to render, please try loading this page with nbviewer.org.</b></div><div class=\"sk-container\" hidden><div class=\"sk-item\"><div class=\"sk-estimator sk-toggleable\"><input class=\"sk-toggleable__control sk-hidden--visually\" id=\"sk-estimator-id-1\" type=\"checkbox\" checked><label for=\"sk-estimator-id-1\" class=\"sk-toggleable__label sk-toggleable__label-arrow\">DecisionTreeClassifier</label><div class=\"sk-toggleable__content\"><pre>DecisionTreeClassifier()</pre></div></div></div></div></div>"
            ],
            "text/plain": [
              "DecisionTreeClassifier()"
            ]
          },
          "execution_count": 13,
          "metadata": {},
          "output_type": "execute_result"
        }
      ],
      "source": [
        "clf = DecisionTreeClassifier()\n",
        "clf.fit(X_train, y_train)"
      ]
    },
    {
      "cell_type": "code",
      "execution_count": 18,
      "metadata": {
        "colab": {
          "base_uri": "https://localhost:8080/",
          "height": 939
        },
        "id": "6HB0NljklnOI",
        "outputId": "3f6575bd-4ad0-4ec7-e8d5-d5c0e42fe9ef"
      },
      "outputs": [
        {
          "name": "stdout",
          "output_type": "stream",
          "text": [
            "              precision    recall  f1-score   support\n",
            "\n",
            "           A       0.99      0.99      0.99       850\n",
            "           B       1.00      1.00      1.00         2\n",
            "           C       0.96      1.00      0.98        26\n",
            "           D       0.97      1.00      0.99        69\n",
            "           E       0.97      0.95      0.96       231\n",
            "           F       0.98      1.00      0.99       379\n",
            "           G       1.00      0.97      0.98        89\n",
            "           H       0.98      0.97      0.98       112\n",
            "           I       1.00      0.99      1.00       180\n",
            "           W       1.00      0.88      0.93         8\n",
            "           X       0.93      0.92      0.93        92\n",
            "           Y       0.86      0.92      0.89        48\n",
            "\n",
            "    accuracy                           0.98      2086\n",
            "   macro avg       0.97      0.97      0.97      2086\n",
            "weighted avg       0.98      0.98      0.98      2086\n",
            "\n",
            "accuracy: 0.9793863854266539\n"
          ]
        },
        {
          "data": {
            "image/png": "[encoded data removed]",
            "text/plain": [
              "<Figure size 864x720 with 2 Axes>"
            ]
          },
          "metadata": {
            "needs_background": "light"
          },
          "output_type": "display_data"
        }
      ],
      "source": [
        "display_metrics(clf, X_valid, y_valid)"
      ]
    },
    {
      "cell_type": "markdown",
      "metadata": {
        "id": "u4Vgh16JmKKi"
      },
      "source": [
        "## De que formas poderiamos melhorar o atual modelo?"
      ]
    },
    {
      "attachments": {},
      "cell_type": "markdown",
      "metadata": {
        "id": "6ELVG_8zmMaO"
      },
      "source": [
        "Primeiro começamos fazendo uma avaliação geral e mudando alguns hiperparametros para observar a variação de resultado da árvore. Para isso \n",
        "variamos cada um dos parâmetros comentados na métodologia e o resultados pode ser visto nas imagens abaixo:\n"
      ]
    },
    {
      "cell_type": "code",
      "execution_count": 19,
      "metadata": {
        "colab": {
          "base_uri": "https://localhost:8080/",
          "height": 939
        },
        "id": "RYSufoTUlnTN",
        "outputId": "24f99db4-1b90-4402-8b60-081f585f364f"
      },
      "outputs": [
        {
          "name": "stdout",
          "output_type": "stream",
          "text": [
            "              precision    recall  f1-score   support\n",
            "\n",
            "           A       0.90      0.96      0.93       850\n",
            "           B       1.00      1.00      1.00         2\n",
            "           C       1.00      0.77      0.87        26\n",
            "           D       0.77      0.83      0.80        69\n",
            "           E       0.92      0.83      0.87       231\n",
            "           F       0.91      0.90      0.91       379\n",
            "           G       0.92      0.79      0.85        89\n",
            "           H       0.96      0.87      0.91       112\n",
            "           I       0.99      0.99      0.99       180\n",
            "           W       1.00      0.88      0.93         8\n",
            "           X       0.92      0.87      0.89        92\n",
            "           Y       0.83      0.92      0.87        48\n",
            "\n",
            "    accuracy                           0.91      2086\n",
            "   macro avg       0.93      0.88      0.90      2086\n",
            "weighted avg       0.91      0.91      0.91      2086\n",
            "\n",
            "accuracy: 0.9132310642377757\n"
          ]
        },
        {
          "data": {
            "image/png": "[encoded data removed]",
            "text/plain": [
              "<Figure size 864x720 with 2 Axes>"
            ]
          },
          "metadata": {
            "needs_background": "light"
          },
          "output_type": "display_data"
        }
      ],
      "source": [
        "clf_best = DecisionTreeClassifier(max_depth=12)\n",
        "clf_best.fit(X_train, y_train)\n",
        "display_metrics(clf_best, X_valid, y_valid)"
      ]
    },
    {
      "attachments": {},
      "cell_type": "markdown",
      "metadata": {},
      "source": [
        "Alterando apenas a altura máxima da árvore (max_depth), observamos que o valor geral das métricas do nosso modelo diminui. O que indica que apenas podar a árvore para ter uma resposta mais rápido não influência tanto na qualidade do modelo.\n",
        " "
      ]
    },
    {
      "cell_type": "code",
      "execution_count": 20,
      "metadata": {
        "colab": {
          "base_uri": "https://localhost:8080/",
          "height": 939
        },
        "id": "uufS8RTylnWZ",
        "outputId": "62616734-fc1c-4ee7-cd92-b299134c55b9"
      },
      "outputs": [
        {
          "name": "stdout",
          "output_type": "stream",
          "text": [
            "              precision    recall  f1-score   support\n",
            "\n",
            "           A       0.82      0.83      0.83       850\n",
            "           B       1.00      0.50      0.67         2\n",
            "           C       0.58      0.42      0.49        26\n",
            "           D       0.54      0.57      0.55        69\n",
            "           E       0.76      0.75      0.76       231\n",
            "           F       0.73      0.69      0.71       379\n",
            "           G       0.63      0.64      0.63        89\n",
            "           H       0.66      0.71      0.69       112\n",
            "           I       0.96      0.97      0.96       180\n",
            "           W       0.86      0.75      0.80         8\n",
            "           X       0.92      0.89      0.91        92\n",
            "           Y       0.86      0.92      0.89        48\n",
            "\n",
            "    accuracy                           0.79      2086\n",
            "   macro avg       0.78      0.72      0.74      2086\n",
            "weighted avg       0.79      0.79      0.79      2086\n",
            "\n",
            "accuracy: 0.7857142857142857\n"
          ]
        },
        {
          "data": {
            "image/png": "[encoded data removed]",
            "text/plain": [
              "<Figure size 864x720 with 2 Axes>"
            ]
          },
          "metadata": {
            "needs_background": "light"
          },
          "output_type": "display_data"
        }
      ],
      "source": [
        "clf_best = DecisionTreeClassifier(splitter=\"random\")\n",
        "clf_best.fit(X_train, y_train)\n",
        "display_metrics(clf_best, X_valid, y_valid)"
      ]
    },
    {
      "attachments": {},
      "cell_type": "markdown",
      "metadata": {},
      "source": [
        "Ao alteramos a estrátegia de divisão de cada nó da árvore (splitter), podemos ver que uma divisão randomica dos dados para gerar os nós da árvore diminui bastante cada uma das métricas do sistema, gerando assim um modelo que seja 20% menos eficiente do que nosso modelo básico.  "
      ]
    },
    {
      "cell_type": "code",
      "execution_count": 21,
      "metadata": {
        "colab": {
          "base_uri": "https://localhost:8080/",
          "height": 939
        },
        "id": "Um1NYsxVma-X",
        "outputId": "78236c0b-e4f7-4b0a-e729-1e621b23242d"
      },
      "outputs": [
        {
          "name": "stdout",
          "output_type": "stream",
          "text": [
            "              precision    recall  f1-score   support\n",
            "\n",
            "           A       0.99      1.00      0.99       850\n",
            "           B       1.00      0.50      0.67         2\n",
            "           C       1.00      0.85      0.92        26\n",
            "           D       1.00      0.97      0.99        69\n",
            "           E       0.99      0.97      0.98       231\n",
            "           F       0.99      0.99      0.99       379\n",
            "           G       0.97      0.98      0.97        89\n",
            "           H       0.96      0.96      0.96       112\n",
            "           I       1.00      0.99      1.00       180\n",
            "           W       0.86      0.75      0.80         8\n",
            "           X       0.98      0.97      0.97        92\n",
            "           Y       0.92      1.00      0.96        48\n",
            "\n",
            "    accuracy                           0.98      2086\n",
            "   macro avg       0.97      0.91      0.93      2086\n",
            "weighted avg       0.98      0.98      0.98      2086\n",
            "\n",
            "accuracy: 0.9846596356663471\n"
          ]
        },
        {
          "data": {
            "image/png": "[encoded data removed]",
            "text/plain": [
              "<Figure size 864x720 with 2 Axes>"
            ]
          },
          "metadata": {
            "needs_background": "light"
          },
          "output_type": "display_data"
        }
      ],
      "source": [
        "clf_best = DecisionTreeClassifier(criterion=\"entropy\")\n",
        "clf_best.fit(X_train, y_train)\n",
        "display_metrics(clf_best, X_valid, y_valid)"
      ]
    },
    {
      "attachments": {},
      "cell_type": "markdown",
      "metadata": {},
      "source": [
        "Ao alterarmos o critério de divisão (criterion) do nosso modelo podemos observar que o críterio que prioriza a entropia otimiza um pouco mais nossas métricas, visto que ao priorizar a entropia do sistema criamos uma árvore que valoriza mais as features do nosso problema."
      ]
    },
    {
      "cell_type": "code",
      "execution_count": 27,
      "metadata": {
        "colab": {
          "base_uri": "https://localhost:8080/",
          "height": 939
        },
        "id": "cFzeE6mOmaP0",
        "outputId": "352ea97e-33d1-493a-ac27-8578fc503519"
      },
      "outputs": [
        {
          "name": "stdout",
          "output_type": "stream",
          "text": [
            "              precision    recall  f1-score   support\n",
            "\n",
            "           A       0.99      1.00      0.99       850\n",
            "           B       1.00      0.50      0.67         2\n",
            "           C       1.00      0.88      0.94        26\n",
            "           D       0.99      0.99      0.99        69\n",
            "           E       0.98      0.97      0.98       231\n",
            "           F       0.99      0.99      0.99       379\n",
            "           G       0.98      0.98      0.98        89\n",
            "           H       0.97      0.96      0.96       112\n",
            "           I       1.00      1.00      1.00       180\n",
            "           W       1.00      0.88      0.93         8\n",
            "           X       0.98      0.96      0.97        92\n",
            "           Y       0.94      1.00      0.97        48\n",
            "\n",
            "    accuracy                           0.99      2086\n",
            "   macro avg       0.98      0.92      0.95      2086\n",
            "weighted avg       0.99      0.99      0.99      2086\n",
            "\n",
            "accuracy: 0.986097794822627\n"
          ]
        },
        {
          "data": {
            "image/png": "[encoded data removed]",
            "text/plain": [
              "<Figure size 864x720 with 2 Axes>"
            ]
          },
          "metadata": {
            "needs_background": "light"
          },
          "output_type": "display_data"
        }
      ],
      "source": [
        "clf_best = DecisionTreeClassifier(criterion=\"log_loss\")\n",
        "clf_best.fit(X_train, y_train)\n",
        "display_metrics(clf_best, X_valid, y_valid)"
      ]
    },
    {
      "attachments": {},
      "cell_type": "markdown",
      "metadata": {},
      "source": [
        "Também temos uma melhora quando utilizamos o método de `log_loss` também temos uma otimização por não gerarmos uma árvore de qualquer maneira e sim uma que prioriza nosso granho de informação.\n"
      ]
    },
    {
      "cell_type": "code",
      "execution_count": 28,
      "metadata": {
        "colab": {
          "base_uri": "https://localhost:8080/",
          "height": 940
        },
        "id": "BocefcJLmnZm",
        "outputId": "483f1b14-61ac-4b65-a04c-65af0415e418"
      },
      "outputs": [
        {
          "name": "stdout",
          "output_type": "stream",
          "text": [
            "              precision    recall  f1-score   support\n",
            "\n",
            "           A       0.95      0.94      0.95       850\n",
            "           B       1.00      1.00      1.00         2\n",
            "           C       0.91      0.81      0.86        26\n",
            "           D       0.83      0.87      0.85        69\n",
            "           E       0.87      0.87      0.87       231\n",
            "           F       0.94      0.95      0.95       379\n",
            "           G       0.90      0.92      0.91        89\n",
            "           H       0.86      0.91      0.89       112\n",
            "           I       0.99      0.99      0.99       180\n",
            "           W       0.70      0.88      0.78         8\n",
            "           X       0.92      0.88      0.90        92\n",
            "           Y       0.89      0.83      0.86        48\n",
            "\n",
            "    accuracy                           0.93      2086\n",
            "   macro avg       0.90      0.91      0.90      2086\n",
            "weighted avg       0.93      0.93      0.93      2086\n",
            "\n",
            "accuracy: 0.9295302013422819\n"
          ]
        },
        {
          "data": {
            "image/png": "[encoded data removed]",
            "text/plain": [
              "<Figure size 864x720 with 2 Axes>"
            ]
          },
          "metadata": {
            "needs_background": "light"
          },
          "output_type": "display_data"
        }
      ],
      "source": [
        "clf_best = DecisionTreeClassifier(max_features=\"sqrt\")\n",
        "clf_best.fit(X_train, y_train)\n",
        "display_metrics(clf_best, X_valid, y_valid)"
      ]
    },
    {
      "cell_type": "code",
      "execution_count": 29,
      "metadata": {
        "colab": {
          "base_uri": "https://localhost:8080/",
          "height": 939
        },
        "id": "53cY2NVHmnb2",
        "outputId": "f4c2df79-66f4-4025-e7e0-77e3facf27a4"
      },
      "outputs": [
        {
          "name": "stdout",
          "output_type": "stream",
          "text": [
            "              precision    recall  f1-score   support\n",
            "\n",
            "           A       0.97      0.97      0.97       850\n",
            "           B       1.00      1.00      1.00         2\n",
            "           C       1.00      0.88      0.94        26\n",
            "           D       0.97      0.97      0.97        69\n",
            "           E       0.96      0.94      0.95       231\n",
            "           F       0.94      0.97      0.95       379\n",
            "           G       0.95      0.94      0.95        89\n",
            "           H       0.95      0.91      0.93       112\n",
            "           I       0.98      1.00      0.99       180\n",
            "           W       1.00      0.88      0.93         8\n",
            "           X       0.94      0.97      0.95        92\n",
            "           Y       0.98      0.96      0.97        48\n",
            "\n",
            "    accuracy                           0.96      2086\n",
            "   macro avg       0.97      0.95      0.96      2086\n",
            "weighted avg       0.96      0.96      0.96      2086\n",
            "\n",
            "accuracy: 0.964046021093001\n"
          ]
        },
        {
          "data": {
            "image/png": "[encoded data removed]",
            "text/plain": [
              "<Figure size 864x720 with 2 Axes>"
            ]
          },
          "metadata": {
            "needs_background": "light"
          },
          "output_type": "display_data"
        }
      ],
      "source": [
        "clf_best = DecisionTreeClassifier(max_features=\"log2\")\n",
        "clf_best.fit(X_train, y_train)\n",
        "display_metrics(clf_best, X_valid, y_valid)"
      ]
    },
    {
      "attachments": {},
      "cell_type": "markdown",
      "metadata": {},
      "source": [
        "Ao alterarmos o número máximo de features usadas (max_features), podemos ver que ao considerarmos um número menor de features do que os usados antes, nossas métricas tem um desempenho pior. Isso se deve ao fato de que as features tem uma importância consideravel ao processo de classificação. Ao removermos essas informações, perdemos precisão."
      ]
    },
    {
      "cell_type": "markdown",
      "metadata": {
        "id": "-YvsHPkinS5z"
      },
      "source": [
        "## Melhor combinação de hiperparametros no testes realizados"
      ]
    },
    {
      "cell_type": "code",
      "execution_count": 31,
      "metadata": {
        "colab": {
          "base_uri": "https://localhost:8080/",
          "height": 939
        },
        "id": "a7yK1gkvnQj4",
        "outputId": "402d230d-cd4a-46d8-822f-0609653c6ed7"
      },
      "outputs": [
        {
          "name": "stdout",
          "output_type": "stream",
          "text": [
            "              precision    recall  f1-score   support\n",
            "\n",
            "           A       0.99      0.99      0.99       850\n",
            "           B       1.00      0.50      0.67         2\n",
            "           C       1.00      0.85      0.92        26\n",
            "           D       0.99      1.00      0.99        69\n",
            "           E       0.97      0.97      0.97       231\n",
            "           F       0.99      0.99      0.99       379\n",
            "           G       0.97      0.98      0.97        89\n",
            "           H       0.96      0.96      0.96       112\n",
            "           I       1.00      1.00      1.00       180\n",
            "           W       1.00      0.88      0.93         8\n",
            "           X       0.98      0.96      0.97        92\n",
            "           Y       0.94      1.00      0.97        48\n",
            "\n",
            "    accuracy                           0.99      2086\n",
            "   macro avg       0.98      0.92      0.94      2086\n",
            "weighted avg       0.99      0.99      0.98      2086\n",
            "\n",
            "accuracy: 0.9851390220517737\n"
          ]
        },
        {
          "data": {
            "image/png": "[encoded data removed]",
            "text/plain": [
              "<Figure size 864x720 with 2 Axes>"
            ]
          },
          "metadata": {
            "needs_background": "light"
          },
          "output_type": "display_data"
        }
      ],
      "source": [
        "clf_best = DecisionTreeClassifier(max_depth=20, criterion=\"entropy\")\n",
        "clf_best.fit(X_train, y_train)\n",
        "display_metrics(clf_best, X_valid, y_valid)"
      ]
    },
    {
      "attachments": {},
      "cell_type": "markdown",
      "metadata": {},
      "source": [
        "No processo final, podemos observar que ao combinarmos melhor a quantidade de parâmetros usadas pelo modelo, podemos obter uma melhora no sistema de classificação devido à analise feita anteriormente nos parâmetros."
      ]
    },
    {
      "attachments": {},
      "cell_type": "markdown",
      "metadata": {
        "id": "zbPHOfPynbrv"
      },
      "source": [
        "## Uma outra maneira de tentar modificar os hiperparametros é utilizando-se de uma ferramenta chamada de Optuna, que ajuda a definirmos alguns hiperparametros nos quais ele irá testar automaticamente"
      ]
    },
    {
      "cell_type": "code",
      "execution_count": 32,
      "metadata": {
        "colab": {
          "base_uri": "https://localhost:8080/"
        },
        "id": "b6CtuRJHmaUX",
        "outputId": "c678b7aa-ceaa-45fc-af5a-3f73ffa509a3"
      },
      "outputs": [
        {
          "name": "stdout",
          "output_type": "stream",
          "text": [
            "Looking in indexes: https://pypi.org/simple, https://us-python.pkg.dev/colab-wheels/public/simple/\n",
            "Collecting optuna\n",
            "  Downloading optuna-3.1.0-py3-none-any.whl (365 kB)\n",
            "\u001b[2K     \u001b[90m━━━━━━━━━━━━━━━━━━━━━━━━━━━━━━━━━━━━━━━\u001b[0m \u001b[32m365.3/365.3 KB\u001b[0m \u001b[31m7.0 MB/s\u001b[0m eta \u001b[36m0:00:00\u001b[0m\n",
            "\u001b[?25hRequirement already satisfied: sqlalchemy>=1.3.0 in /usr/local/lib/python3.8/dist-packages (from optuna) (1.4.46)\n",
            "Requirement already satisfied: numpy in /usr/local/lib/python3.8/dist-packages (from optuna) (1.22.4)\n",
            "Collecting alembic>=1.5.0\n",
            "  Downloading alembic-1.10.0-py3-none-any.whl (211 kB)\n",
            "\u001b[2K     \u001b[90m━━━━━━━━━━━━━━━━━━━━━━━━━━━━━━━━━━━━━━\u001b[0m \u001b[32m211.9/211.9 KB\u001b[0m \u001b[31m16.0 MB/s\u001b[0m eta \u001b[36m0:00:00\u001b[0m\n",
            "\u001b[?25hRequirement already satisfied: PyYAML in /usr/local/lib/python3.8/dist-packages (from optuna) (6.0)\n",
            "Requirement already satisfied: packaging>=20.0 in /usr/local/lib/python3.8/dist-packages (from optuna) (23.0)\n",
            "Requirement already satisfied: tqdm in /usr/local/lib/python3.8/dist-packages (from optuna) (4.64.1)\n",
            "Collecting cmaes>=0.9.1\n",
            "  Downloading cmaes-0.9.1-py3-none-any.whl (21 kB)\n",
            "Collecting colorlog\n",
            "  Downloading colorlog-6.7.0-py2.py3-none-any.whl (11 kB)\n",
            "Requirement already satisfied: typing-extensions>=4 in /usr/local/lib/python3.8/dist-packages (from alembic>=1.5.0->optuna) (4.5.0)\n",
            "Requirement already satisfied: importlib-resources in /usr/local/lib/python3.8/dist-packages (from alembic>=1.5.0->optuna) (5.12.0)\n",
            "Collecting Mako\n",
            "  Downloading Mako-1.2.4-py3-none-any.whl (78 kB)\n",
            "\u001b[2K     \u001b[90m━━━━━━━━━━━━━━━━━━━━━━━━━━━━━━━━━━━━━━━━\u001b[0m \u001b[32m78.7/78.7 KB\u001b[0m \u001b[31m8.6 MB/s\u001b[0m eta \u001b[36m0:00:00\u001b[0m\n",
            "\u001b[?25hRequirement already satisfied: importlib-metadata in /usr/local/lib/python3.8/dist-packages (from alembic>=1.5.0->optuna) (6.0.0)\n",
            "Requirement already satisfied: greenlet!=0.4.17 in /usr/local/lib/python3.8/dist-packages (from sqlalchemy>=1.3.0->optuna) (2.0.2)\n",
            "Requirement already satisfied: zipp>=0.5 in /usr/local/lib/python3.8/dist-packages (from importlib-metadata->alembic>=1.5.0->optuna) (3.15.0)\n",
            "Requirement already satisfied: MarkupSafe>=0.9.2 in /usr/local/lib/python3.8/dist-packages (from Mako->alembic>=1.5.0->optuna) (2.1.2)\n",
            "Installing collected packages: Mako, colorlog, cmaes, alembic, optuna\n",
            "Successfully installed Mako-1.2.4 alembic-1.10.0 cmaes-0.9.1 colorlog-6.7.0 optuna-3.1.0\n"
          ]
        }
      ],
      "source": [
        "!pip install optuna"
      ]
    },
    {
      "cell_type": "code",
      "execution_count": null,
      "metadata": {
        "id": "fqHEoNio6Y9Z"
      },
      "outputs": [],
      "source": [
        "criterion = \"entropy\" #What is the criterion used for the split\n",
        "#There is an scientific paper comparing gini and entropy and they diverge in only 2% of the cases, but entropy is a little slower because of logarithm\n",
        "\n",
        "splitter = \"best\" #The strategy used to choose the split at each node\n",
        "#If the model is suffering from overfitting we can change it to random, to avoid this fate\n",
        "\n",
        "max_depth = 20 #can be None to go forever till purity beeing achieved\n",
        "\n",
        "min_samples_split = 2 #if int, it is the minimal number to make a split\n",
        "                      #if float, it is the min_samples_split * n_samples\n",
        "\n",
        "min_samples_leaf = 1 #int, float\n",
        "\n",
        "#min_weight_fraction_leaf = \n",
        "\n",
        "max_features = None #there are few features, so I think"
      ]
    },
    {
      "cell_type": "code",
      "execution_count": null,
      "metadata": {
        "id": "xW-I47qqllqf"
      },
      "outputs": [],
      "source": [
        "!pip install optuna"
      ]
    },
    {
      "cell_type": "code",
      "execution_count": null,
      "metadata": {
        "colab": {
          "base_uri": "https://localhost:8080/"
        },
        "id": "tMxekoKYHO3g",
        "outputId": "2a773b2f-57a4-443c-c8e0-06960ec1d77b"
      },
      "outputs": [
        {
          "name": "stderr",
          "output_type": "stream",
          "text": [
            "\u001b[32m[I 2023-03-05 14:42:31,615]\u001b[0m A new study created in memory with name: no-name-a759c063-2c38-436e-bee5-47d53eecddad\u001b[0m\n",
            "\u001b[32m[I 2023-03-05 14:42:31,707]\u001b[0m Trial 0 finished with value: 0.8841244291729367 and parameters: {'min_samples_split': 39, 'min_samples_leaf': 10}. Best is trial 0 with value: 0.8841244291729367.\u001b[0m\n",
            "\u001b[32m[I 2023-03-05 14:42:31,803]\u001b[0m Trial 1 finished with value: 0.9170424581061433 and parameters: {'min_samples_split': 25, 'min_samples_leaf': 27}. Best is trial 1 with value: 0.9170424581061433.\u001b[0m\n",
            "\u001b[32m[I 2023-03-05 14:42:31,900]\u001b[0m Trial 2 finished with value: 0.9471279855591596 and parameters: {'min_samples_split': 15, 'min_samples_leaf': 22}. Best is trial 2 with value: 0.9471279855591596.\u001b[0m\n",
            "\u001b[32m[I 2023-03-05 14:42:32,020]\u001b[0m Trial 3 finished with value: 0.9503280310832801 and parameters: {'min_samples_split': 13, 'min_samples_leaf': 26}. Best is trial 3 with value: 0.9503280310832801.\u001b[0m\n",
            "\u001b[32m[I 2023-03-05 14:42:32,180]\u001b[0m Trial 4 finished with value: 0.8536972179229775 and parameters: {'min_samples_split': 48, 'min_samples_leaf': 25}. Best is trial 3 with value: 0.9503280310832801.\u001b[0m\n",
            "\u001b[32m[I 2023-03-05 14:42:32,310]\u001b[0m Trial 5 finished with value: 0.8534188114979873 and parameters: {'min_samples_split': 47, 'min_samples_leaf': 8}. Best is trial 3 with value: 0.9503280310832801.\u001b[0m\n",
            "\u001b[32m[I 2023-03-05 14:42:32,406]\u001b[0m Trial 6 finished with value: 0.890729740559113 and parameters: {'min_samples_split': 36, 'min_samples_leaf': 21}. Best is trial 3 with value: 0.9503280310832801.\u001b[0m\n",
            "\u001b[32m[I 2023-03-05 14:42:32,498]\u001b[0m Trial 7 finished with value: 0.8647611478643226 and parameters: {'min_samples_split': 47, 'min_samples_leaf': 27}. Best is trial 3 with value: 0.9503280310832801.\u001b[0m\n",
            "\u001b[32m[I 2023-03-05 14:42:32,587]\u001b[0m Trial 8 finished with value: 0.8896521566810252 and parameters: {'min_samples_split': 36, 'min_samples_leaf': 26}. Best is trial 3 with value: 0.9503280310832801.\u001b[0m\n",
            "\u001b[32m[I 2023-03-05 14:42:32,678]\u001b[0m Trial 9 finished with value: 0.894078685533184 and parameters: {'min_samples_split': 34, 'min_samples_leaf': 28}. Best is trial 3 with value: 0.9503280310832801.\u001b[0m\n",
            "\u001b[32m[I 2023-03-05 14:42:32,797]\u001b[0m Trial 10 finished with value: 0.9713983299541559 and parameters: {'min_samples_split': 4, 'min_samples_leaf': 1}. Best is trial 10 with value: 0.9713983299541559.\u001b[0m\n",
            "\u001b[32m[I 2023-03-05 14:42:32,909]\u001b[0m Trial 11 finished with value: 0.9723446684963984 and parameters: {'min_samples_split': 3, 'min_samples_leaf': 1}. Best is trial 11 with value: 0.9723446684963984.\u001b[0m\n",
            "\u001b[32m[I 2023-03-05 14:42:33,041]\u001b[0m Trial 12 finished with value: 0.9760114064336336 and parameters: {'min_samples_split': 2, 'min_samples_leaf': 2}. Best is trial 12 with value: 0.9760114064336336.\u001b[0m\n",
            "\u001b[32m[I 2023-03-05 14:42:33,188]\u001b[0m Trial 13 finished with value: 0.9741945272574176 and parameters: {'min_samples_split': 2, 'min_samples_leaf': 1}. Best is trial 12 with value: 0.9760114064336336.\u001b[0m\n",
            "\u001b[32m[I 2023-03-05 14:42:33,351]\u001b[0m Trial 14 finished with value: 0.9546368278069198 and parameters: {'min_samples_split': 11, 'min_samples_leaf': 6}. Best is trial 12 with value: 0.9760114064336336.\u001b[0m\n",
            "\u001b[32m[I 2023-03-05 14:42:33,512]\u001b[0m Trial 15 finished with value: 0.9380140557434806 and parameters: {'min_samples_split': 18, 'min_samples_leaf': 14}. Best is trial 12 with value: 0.9760114064336336.\u001b[0m\n",
            "\u001b[32m[I 2023-03-05 14:42:33,708]\u001b[0m Trial 16 finished with value: 0.9670565197018924 and parameters: {'min_samples_split': 8, 'min_samples_leaf': 5}. Best is trial 12 with value: 0.9760114064336336.\u001b[0m\n",
            "\u001b[32m[I 2023-03-05 14:42:33,911]\u001b[0m Trial 17 finished with value: 0.9314651662019661 and parameters: {'min_samples_split': 21, 'min_samples_leaf': 14}. Best is trial 12 with value: 0.9760114064336336.\u001b[0m\n",
            "\u001b[32m[I 2023-03-05 14:42:34,251]\u001b[0m Trial 18 finished with value: 0.9770056355787458 and parameters: {'min_samples_split': 2, 'min_samples_leaf': 4}. Best is trial 18 with value: 0.9770056355787458.\u001b[0m\n",
            "\u001b[32m[I 2023-03-05 14:42:34,424]\u001b[0m Trial 19 finished with value: 0.960860027692842 and parameters: {'min_samples_split': 9, 'min_samples_leaf': 5}. Best is trial 18 with value: 0.9770056355787458.\u001b[0m\n",
            "\u001b[32m[I 2023-03-05 14:42:34,583]\u001b[0m Trial 20 finished with value: 0.9132057500065504 and parameters: {'min_samples_split': 28, 'min_samples_leaf': 11}. Best is trial 18 with value: 0.9770056355787458.\u001b[0m\n",
            "\u001b[32m[I 2023-03-05 14:42:34,748]\u001b[0m Trial 21 finished with value: 0.9737378482935788 and parameters: {'min_samples_split': 2, 'min_samples_leaf': 3}. Best is trial 18 with value: 0.9770056355787458.\u001b[0m\n",
            "\u001b[32m[I 2023-03-05 14:42:34,923]\u001b[0m Trial 22 finished with value: 0.9714110738642816 and parameters: {'min_samples_split': 7, 'min_samples_leaf': 1}. Best is trial 18 with value: 0.9770056355787458.\u001b[0m\n",
            "\u001b[32m[I 2023-03-05 14:42:35,091]\u001b[0m Trial 23 finished with value: 0.9719009071707865 and parameters: {'min_samples_split': 6, 'min_samples_leaf': 8}. Best is trial 18 with value: 0.9770056355787458.\u001b[0m\n",
            "\u001b[32m[I 2023-03-05 14:42:35,254]\u001b[0m Trial 24 finished with value: 0.974177437375959 and parameters: {'min_samples_split': 2, 'min_samples_leaf': 4}. Best is trial 18 with value: 0.9770056355787458.\u001b[0m\n",
            "\u001b[32m[I 2023-03-05 14:42:35,429]\u001b[0m Trial 25 finished with value: 0.9457991295577389 and parameters: {'min_samples_split': 16, 'min_samples_leaf': 17}. Best is trial 18 with value: 0.9770056355787458.\u001b[0m\n",
            "\u001b[32m[I 2023-03-05 14:42:35,608]\u001b[0m Trial 26 finished with value: 0.9541746859755718 and parameters: {'min_samples_split': 11, 'min_samples_leaf': 7}. Best is trial 18 with value: 0.9770056355787458.\u001b[0m\n",
            "\u001b[32m[I 2023-03-05 14:42:35,777]\u001b[0m Trial 27 finished with value: 0.9300254529804286 and parameters: {'min_samples_split': 21, 'min_samples_leaf': 3}. Best is trial 18 with value: 0.9770056355787458.\u001b[0m\n",
            "\u001b[32m[I 2023-03-05 14:42:35,952]\u001b[0m Trial 28 finished with value: 0.9705699547282572 and parameters: {'min_samples_split': 6, 'min_samples_leaf': 11}. Best is trial 18 with value: 0.9770056355787458.\u001b[0m\n",
            "\u001b[32m[I 2023-03-05 14:42:36,120]\u001b[0m Trial 29 finished with value: 0.953202219030853 and parameters: {'min_samples_split': 11, 'min_samples_leaf': 9}. Best is trial 18 with value: 0.9770056355787458.\u001b[0m\n",
            "\u001b[32m[I 2023-03-05 14:42:36,248]\u001b[0m Trial 30 finished with value: 0.8723516475900003 and parameters: {'min_samples_split': 43, 'min_samples_leaf': 3}. Best is trial 18 with value: 0.9770056355787458.\u001b[0m\n",
            "\u001b[32m[I 2023-03-05 14:42:36,352]\u001b[0m Trial 31 finished with value: 0.9728383291127087 and parameters: {'min_samples_split': 2, 'min_samples_leaf': 4}. Best is trial 18 with value: 0.9770056355787458.\u001b[0m\n",
            "\u001b[32m[I 2023-03-05 14:42:36,463]\u001b[0m Trial 32 finished with value: 0.9680312171029787 and parameters: {'min_samples_split': 6, 'min_samples_leaf': 2}. Best is trial 18 with value: 0.9770056355787458.\u001b[0m\n",
            "\u001b[32m[I 2023-03-05 14:42:36,721]\u001b[0m Trial 33 finished with value: 0.9732094748999212 and parameters: {'min_samples_split': 2, 'min_samples_leaf': 6}. Best is trial 18 with value: 0.9770056355787458.\u001b[0m\n",
            "\u001b[32m[I 2023-03-05 14:42:36,896]\u001b[0m Trial 34 finished with value: 0.9628107860156456 and parameters: {'min_samples_split': 9, 'min_samples_leaf': 10}. Best is trial 18 with value: 0.9770056355787458.\u001b[0m\n",
            "\u001b[32m[I 2023-03-05 14:42:37,084]\u001b[0m Trial 35 finished with value: 0.9719212601384409 and parameters: {'min_samples_split': 5, 'min_samples_leaf': 5}. Best is trial 18 with value: 0.9770056355787458.\u001b[0m\n",
            "\u001b[32m[I 2023-03-05 14:42:37,273]\u001b[0m Trial 36 finished with value: 0.9498918200264828 and parameters: {'min_samples_split': 14, 'min_samples_leaf': 4}. Best is trial 18 with value: 0.9770056355787458.\u001b[0m\n",
            "\u001b[32m[I 2023-03-05 14:42:37,471]\u001b[0m Trial 37 finished with value: 0.9072005730533447 and parameters: {'min_samples_split': 29, 'min_samples_leaf': 30}. Best is trial 18 with value: 0.9770056355787458.\u001b[0m\n",
            "\u001b[32m[I 2023-03-05 14:42:37,702]\u001b[0m Trial 38 finished with value: 0.9727995189568847 and parameters: {'min_samples_split': 4, 'min_samples_leaf': 18}. Best is trial 18 with value: 0.9770056355787458.\u001b[0m\n",
            "\u001b[32m[I 2023-03-05 14:42:37,851]\u001b[0m Trial 39 finished with value: 0.9532924377403 and parameters: {'min_samples_split': 12, 'min_samples_leaf': 7}. Best is trial 18 with value: 0.9770056355787458.\u001b[0m\n",
            "\u001b[32m[I 2023-03-05 14:42:38,008]\u001b[0m Trial 40 finished with value: 0.9428435221106475 and parameters: {'min_samples_split': 17, 'min_samples_leaf': 2}. Best is trial 18 with value: 0.9770056355787458.\u001b[0m\n",
            "\u001b[32m[I 2023-03-05 14:42:38,229]\u001b[0m Trial 41 finished with value: 0.9774722657465068 and parameters: {'min_samples_split': 2, 'min_samples_leaf': 3}. Best is trial 41 with value: 0.9774722657465068.\u001b[0m\n",
            "\u001b[32m[I 2023-03-05 14:42:38,414]\u001b[0m Trial 42 finished with value: 0.9661589716154518 and parameters: {'min_samples_split': 8, 'min_samples_leaf': 1}. Best is trial 41 with value: 0.9774722657465068.\u001b[0m\n",
            "\u001b[32m[I 2023-03-05 14:42:38,634]\u001b[0m Trial 43 finished with value: 0.9742794745604325 and parameters: {'min_samples_split': 4, 'min_samples_leaf': 3}. Best is trial 41 with value: 0.9774722657465068.\u001b[0m\n",
            "\u001b[32m[I 2023-03-05 14:42:38,825]\u001b[0m Trial 44 finished with value: 0.9695067130903471 and parameters: {'min_samples_split': 4, 'min_samples_leaf': 22}. Best is trial 41 with value: 0.9774722657465068.\u001b[0m\n",
            "\u001b[32m[I 2023-03-05 14:42:39,032]\u001b[0m Trial 45 finished with value: 0.9723412739666746 and parameters: {'min_samples_split': 5, 'min_samples_leaf': 2}. Best is trial 41 with value: 0.9774722657465068.\u001b[0m\n",
            "\u001b[32m[I 2023-03-05 14:42:39,226]\u001b[0m Trial 46 finished with value: 0.9589822335356893 and parameters: {'min_samples_split': 10, 'min_samples_leaf': 6}. Best is trial 41 with value: 0.9774722657465068.\u001b[0m\n",
            "\u001b[32m[I 2023-03-05 14:42:39,464]\u001b[0m Trial 47 finished with value: 0.9709313072316825 and parameters: {'min_samples_split': 7, 'min_samples_leaf': 3}. Best is trial 41 with value: 0.9774722657465068.\u001b[0m\n",
            "\u001b[32m[I 2023-03-05 14:42:39,634]\u001b[0m Trial 48 finished with value: 0.9527797059805615 and parameters: {'min_samples_split': 13, 'min_samples_leaf': 1}. Best is trial 41 with value: 0.9774722657465068.\u001b[0m\n",
            "\u001b[32m[I 2023-03-05 14:42:39,816]\u001b[0m Trial 49 finished with value: 0.9718502172022628 and parameters: {'min_samples_split': 4, 'min_samples_leaf': 8}. Best is trial 41 with value: 0.9774722657465068.\u001b[0m\n",
            "\u001b[32m[I 2023-03-05 14:42:40,042]\u001b[0m Trial 50 finished with value: 0.9676028474674441 and parameters: {'min_samples_split': 8, 'min_samples_leaf': 12}. Best is trial 41 with value: 0.9774722657465068.\u001b[0m\n",
            "\u001b[32m[I 2023-03-05 14:42:40,259]\u001b[0m Trial 51 finished with value: 0.9745939062760707 and parameters: {'min_samples_split': 2, 'min_samples_leaf': 4}. Best is trial 41 with value: 0.9774722657465068.\u001b[0m\n",
            "\u001b[32m[I 2023-03-05 14:42:40,424]\u001b[0m Trial 52 finished with value: 0.9741619298300281 and parameters: {'min_samples_split': 2, 'min_samples_leaf': 5}. Best is trial 41 with value: 0.9774722657465068.\u001b[0m\n",
            "\u001b[32m[I 2023-03-05 14:42:40,667]\u001b[0m Trial 53 finished with value: 0.8533295367828465 and parameters: {'min_samples_split': 50, 'min_samples_leaf': 4}. Best is trial 41 with value: 0.9774722657465068.\u001b[0m\n",
            "\u001b[32m[I 2023-03-05 14:42:40,903]\u001b[0m Trial 54 finished with value: 0.9704124201403991 and parameters: {'min_samples_split': 4, 'min_samples_leaf': 2}. Best is trial 41 with value: 0.9774722657465068.\u001b[0m\n",
            "\u001b[32m[I 2023-03-05 14:42:41,120]\u001b[0m Trial 55 finished with value: 0.9685763229883186 and parameters: {'min_samples_split': 6, 'min_samples_leaf': 6}. Best is trial 41 with value: 0.9774722657465068.\u001b[0m\n",
            "\u001b[32m[I 2023-03-05 14:42:41,347]\u001b[0m Trial 56 finished with value: 0.9751126610929683 and parameters: {'min_samples_split': 2, 'min_samples_leaf': 3}. Best is trial 41 with value: 0.9774722657465068.\u001b[0m\n",
            "\u001b[32m[I 2023-03-05 14:42:41,526]\u001b[0m Trial 57 finished with value: 0.8965240595570616 and parameters: {'min_samples_split': 32, 'min_samples_leaf': 7}. Best is trial 41 with value: 0.9774722657465068.\u001b[0m\n",
            "\u001b[32m[I 2023-03-05 14:42:41,776]\u001b[0m Trial 58 finished with value: 0.968993757538376 and parameters: {'min_samples_split': 4, 'min_samples_leaf': 4}. Best is trial 41 with value: 0.9774722657465068.\u001b[0m\n",
            "\u001b[32m[I 2023-03-05 14:42:42,010]\u001b[0m Trial 59 finished with value: 0.8762949230119176 and parameters: {'min_samples_split': 41, 'min_samples_leaf': 3}. Best is trial 41 with value: 0.9774722657465068.\u001b[0m\n",
            "\u001b[32m[I 2023-03-05 14:42:42,349]\u001b[0m Trial 60 finished with value: 0.9239376480519227 and parameters: {'min_samples_split': 23, 'min_samples_leaf': 24}. Best is trial 41 with value: 0.9774722657465068.\u001b[0m\n",
            "\u001b[32m[I 2023-03-05 14:42:42,666]\u001b[0m Trial 61 finished with value: 0.9780288365148425 and parameters: {'min_samples_split': 2, 'min_samples_leaf': 1}. Best is trial 61 with value: 0.9780288365148425.\u001b[0m\n",
            "\u001b[32m[I 2023-03-05 14:42:42,899]\u001b[0m Trial 62 finished with value: 0.9750998506352573 and parameters: {'min_samples_split': 2, 'min_samples_leaf': 2}. Best is trial 61 with value: 0.9780288365148425.\u001b[0m\n",
            "\u001b[32m[I 2023-03-05 14:42:43,062]\u001b[0m Trial 63 finished with value: 0.9750624495507181 and parameters: {'min_samples_split': 2, 'min_samples_leaf': 2}. Best is trial 61 with value: 0.9780288365148425.\u001b[0m\n",
            "\u001b[32m[I 2023-03-05 14:42:43,279]\u001b[0m Trial 64 finished with value: 0.9694697393078145 and parameters: {'min_samples_split': 7, 'min_samples_leaf': 1}. Best is trial 61 with value: 0.9780288365148425.\u001b[0m\n",
            "\u001b[32m[I 2023-03-05 14:42:43,473]\u001b[0m Trial 65 finished with value: 0.9618152781760009 and parameters: {'min_samples_split': 9, 'min_samples_leaf': 2}. Best is trial 61 with value: 0.9780288365148425.\u001b[0m\n",
            "\u001b[32m[I 2023-03-05 14:42:43,699]\u001b[0m Trial 66 finished with value: 0.972387147164669 and parameters: {'min_samples_split': 3, 'min_samples_leaf': 1}. Best is trial 61 with value: 0.9780288365148425.\u001b[0m\n",
            "\u001b[32m[I 2023-03-05 14:42:43,887]\u001b[0m Trial 67 finished with value: 0.9689818830121404 and parameters: {'min_samples_split': 5, 'min_samples_leaf': 5}. Best is trial 61 with value: 0.9780288365148425.\u001b[0m\n",
            "\u001b[32m[I 2023-03-05 14:42:44,089]\u001b[0m Trial 68 finished with value: 0.977061451850712 and parameters: {'min_samples_split': 2, 'min_samples_leaf': 2}. Best is trial 61 with value: 0.9780288365148425.\u001b[0m\n",
            "\u001b[32m[I 2023-03-05 14:42:44,390]\u001b[0m Trial 69 finished with value: 0.9724035325330966 and parameters: {'min_samples_split': 6, 'min_samples_leaf': 3}. Best is trial 61 with value: 0.9780288365148425.\u001b[0m\n",
            "\u001b[32m[I 2023-03-05 14:42:44,644]\u001b[0m Trial 70 finished with value: 0.9708631501900694 and parameters: {'min_samples_split': 3, 'min_samples_leaf': 5}. Best is trial 61 with value: 0.9780288365148425.\u001b[0m\n",
            "\u001b[32m[I 2023-03-05 14:42:44,870]\u001b[0m Trial 71 finished with value: 0.9756406184393625 and parameters: {'min_samples_split': 2, 'min_samples_leaf': 2}. Best is trial 61 with value: 0.9780288365148425.\u001b[0m\n",
            "\u001b[32m[I 2023-03-05 14:42:45,049]\u001b[0m Trial 72 finished with value: 0.9733135965377228 and parameters: {'min_samples_split': 3, 'min_samples_leaf': 2}. Best is trial 61 with value: 0.9780288365148425.\u001b[0m\n",
            "\u001b[32m[I 2023-03-05 14:42:45,255]\u001b[0m Trial 73 finished with value: 0.9690301903194135 and parameters: {'min_samples_split': 5, 'min_samples_leaf': 1}. Best is trial 61 with value: 0.9780288365148425.\u001b[0m\n",
            "\u001b[32m[I 2023-03-05 14:42:45,427]\u001b[0m Trial 74 finished with value: 0.9675745819355062 and parameters: {'min_samples_split': 7, 'min_samples_leaf': 4}. Best is trial 61 with value: 0.9780288365148425.\u001b[0m\n",
            "\u001b[32m[I 2023-03-05 14:42:45,645]\u001b[0m Trial 75 finished with value: 0.974117487559733 and parameters: {'min_samples_split': 2, 'min_samples_leaf': 3}. Best is trial 61 with value: 0.9780288365148425.\u001b[0m\n",
            "\u001b[32m[I 2023-03-05 14:42:45,884]\u001b[0m Trial 76 finished with value: 0.9579218777998901 and parameters: {'min_samples_split': 10, 'min_samples_leaf': 2}. Best is trial 61 with value: 0.9780288365148425.\u001b[0m\n",
            "\u001b[32m[I 2023-03-05 14:42:46,089]\u001b[0m Trial 77 finished with value: 0.9685855268213656 and parameters: {'min_samples_split': 5, 'min_samples_leaf': 5}. Best is trial 61 with value: 0.9780288365148425.\u001b[0m\n",
            "\u001b[32m[I 2023-03-05 14:42:46,289]\u001b[0m Trial 78 finished with value: 0.9694599125329966 and parameters: {'min_samples_split': 8, 'min_samples_leaf': 6}. Best is trial 61 with value: 0.9780288365148425.\u001b[0m\n",
            "\u001b[32m[I 2023-03-05 14:42:46,669]\u001b[0m Trial 79 finished with value: 0.9728553950559705 and parameters: {'min_samples_split': 3, 'min_samples_leaf': 1}. Best is trial 61 with value: 0.9780288365148425.\u001b[0m\n",
            "\u001b[32m[I 2023-03-05 14:42:47,128]\u001b[0m Trial 80 finished with value: 0.9695014970827736 and parameters: {'min_samples_split': 6, 'min_samples_leaf': 3}. Best is trial 61 with value: 0.9780288365148425.\u001b[0m\n",
            "\u001b[32m[I 2023-03-05 14:42:47,536]\u001b[0m Trial 81 finished with value: 0.9751323787250294 and parameters: {'min_samples_split': 2, 'min_samples_leaf': 2}. Best is trial 61 with value: 0.9780288365148425.\u001b[0m\n",
            "\u001b[32m[I 2023-03-05 14:42:47,998]\u001b[0m Trial 82 finished with value: 0.9704421539665365 and parameters: {'min_samples_split': 3, 'min_samples_leaf': 2}. Best is trial 61 with value: 0.9780288365148425.\u001b[0m\n",
            "\u001b[32m[I 2023-03-05 14:42:48,407]\u001b[0m Trial 83 finished with value: 0.9700764806695441 and parameters: {'min_samples_split': 5, 'min_samples_leaf': 4}. Best is trial 61 with value: 0.9780288365148425.\u001b[0m\n",
            "\u001b[32m[I 2023-03-05 14:42:48,714]\u001b[0m Trial 84 finished with value: 0.9722085619109957 and parameters: {'min_samples_split': 2, 'min_samples_leaf': 19}. Best is trial 61 with value: 0.9780288365148425.\u001b[0m\n",
            "\u001b[32m[I 2023-03-05 14:42:49,185]\u001b[0m Trial 85 finished with value: 0.9704446378960825 and parameters: {'min_samples_split': 4, 'min_samples_leaf': 15}. Best is trial 61 with value: 0.9780288365148425.\u001b[0m\n",
            "\u001b[32m[I 2023-03-05 14:42:49,746]\u001b[0m Trial 86 finished with value: 0.9676168883969392 and parameters: {'min_samples_split': 3, 'min_samples_leaf': 1}. Best is trial 61 with value: 0.9780288365148425.\u001b[0m\n",
            "\u001b[32m[I 2023-03-05 14:42:50,095]\u001b[0m Trial 87 finished with value: 0.9694528570506628 and parameters: {'min_samples_split': 7, 'min_samples_leaf': 3}. Best is trial 61 with value: 0.9780288365148425.\u001b[0m\n",
            "\u001b[32m[I 2023-03-05 14:42:50,317]\u001b[0m Trial 88 finished with value: 0.9721797343531148 and parameters: {'min_samples_split': 2, 'min_samples_leaf': 2}. Best is trial 61 with value: 0.9780288365148425.\u001b[0m\n",
            "\u001b[32m[I 2023-03-05 14:42:50,588]\u001b[0m Trial 89 finished with value: 0.9579559573278337 and parameters: {'min_samples_split': 10, 'min_samples_leaf': 4}. Best is trial 61 with value: 0.9780288365148425.\u001b[0m\n",
            "\u001b[32m[I 2023-03-05 14:42:50,903]\u001b[0m Trial 90 finished with value: 0.9339404170471675 and parameters: {'min_samples_split': 19, 'min_samples_leaf': 1}. Best is trial 61 with value: 0.9780288365148425.\u001b[0m\n",
            "\u001b[32m[I 2023-03-05 14:42:51,249]\u001b[0m Trial 91 finished with value: 0.9755411582315952 and parameters: {'min_samples_split': 2, 'min_samples_leaf': 2}. Best is trial 61 with value: 0.9780288365148425.\u001b[0m\n",
            "\u001b[32m[I 2023-03-05 14:42:51,602]\u001b[0m Trial 92 finished with value: 0.9737767454481263 and parameters: {'min_samples_split': 4, 'min_samples_leaf': 2}. Best is trial 61 with value: 0.9780288365148425.\u001b[0m\n",
            "\u001b[32m[I 2023-03-05 14:42:52,013]\u001b[0m Trial 93 finished with value: 0.9719262243655654 and parameters: {'min_samples_split': 5, 'min_samples_leaf': 3}. Best is trial 61 with value: 0.9780288365148425.\u001b[0m\n",
            "\u001b[32m[I 2023-03-05 14:42:52,499]\u001b[0m Trial 94 finished with value: 0.9714044040080937 and parameters: {'min_samples_split': 3, 'min_samples_leaf': 5}. Best is trial 61 with value: 0.9780288365148425.\u001b[0m\n",
            "\u001b[32m[I 2023-03-05 14:42:52,983]\u001b[0m Trial 95 finished with value: 0.975160140463485 and parameters: {'min_samples_split': 2, 'min_samples_leaf': 1}. Best is trial 61 with value: 0.9780288365148425.\u001b[0m\n",
            "\u001b[32m[I 2023-03-05 14:42:53,392]\u001b[0m Trial 96 finished with value: 0.9690881128489981 and parameters: {'min_samples_split': 6, 'min_samples_leaf': 1}. Best is trial 61 with value: 0.9780288365148425.\u001b[0m\n",
            "\u001b[32m[I 2023-03-05 14:42:54,005]\u001b[0m Trial 97 finished with value: 0.9689985751982351 and parameters: {'min_samples_split': 4, 'min_samples_leaf': 3}. Best is trial 61 with value: 0.9780288365148425.\u001b[0m\n",
            "\u001b[32m[I 2023-03-05 14:42:54,503]\u001b[0m Trial 98 finished with value: 0.9699472222033398 and parameters: {'min_samples_split': 7, 'min_samples_leaf': 4}. Best is trial 61 with value: 0.9780288365148425.\u001b[0m\n",
            "\u001b[32m[I 2023-03-05 14:42:55,058]\u001b[0m Trial 99 finished with value: 0.9742109998651042 and parameters: {'min_samples_split': 2, 'min_samples_leaf': 7}. Best is trial 61 with value: 0.9780288365148425.\u001b[0m\n"
          ]
        },
        {
          "name": "stdout",
          "output_type": "stream",
          "text": [
            "{'min_samples_split': 2, 'min_samples_leaf': 1}\n"
          ]
        }
      ],
      "source": [
        "from sklearn.utils.extmath import weighted_mode\n",
        "import optuna\n",
        "\n",
        "\n",
        "\n",
        "def objective(trial):\n",
        "    min_samples_split = trial.suggest_int(\"min_samples_split\",2,50)\n",
        "    min_samples_leaf = trial.suggest_int(\"min_samples_leaf\",1,30)\n",
        "    \n",
        "    clf = DecisionTreeClassifier(\n",
        "                                #criterion=criterion,\n",
        "                                #splitter=splitter,\n",
        "                                min_samples_split=min_samples_split,\n",
        "                                #max_depth=max_depth, \n",
        "                                #min_samples_leaf=min_samples_leaf, \n",
        "                                max_features=max_features\n",
        "                                )\n",
        "    clf.fit(X_train,y_train)\n",
        "    pred = clf.predict(X_valid)\n",
        "    return f1_score(pred,y_valid,average=\"weighted\")\n",
        "\n",
        "study = optuna.create_study(direction=\"maximize\")\n",
        "study.optimize(objective, n_trials=100)\n",
        "\n",
        "print(study.best_params)"
      ]
    },
    {
      "attachments": {},
      "cell_type": "markdown",
      "metadata": {
        "id": "_IOd-Jz4oBxB"
      },
      "source": [
        "Os melhores valores encontrados e sugeridos pelo optuna são: - {'min_samples_split': 2, 'min_samples_leaf': 1}\n"
      ]
    },
    {
      "cell_type": "code",
      "execution_count": 33,
      "metadata": {
        "colab": {
          "base_uri": "https://localhost:8080/",
          "height": 75
        },
        "id": "K1JewcCpn_h9",
        "outputId": "cb4423b6-1bc4-411a-9071-29cd22220f72"
      },
      "outputs": [
        {
          "data": {
            "text/html": [
              "<style>#sk-container-id-2 {color: black;background-color: white;}#sk-container-id-2 pre{padding: 0;}#sk-container-id-2 div.sk-toggleable {background-color: white;}#sk-container-id-2 label.sk-toggleable__label {cursor: pointer;display: block;width: 100%;margin-bottom: 0;padding: 0.3em;box-sizing: border-box;text-align: center;}#sk-container-id-2 label.sk-toggleable__label-arrow:before {content: \"▸\";float: left;margin-right: 0.25em;color: #696969;}#sk-container-id-2 label.sk-toggleable__label-arrow:hover:before {color: black;}#sk-container-id-2 div.sk-estimator:hover label.sk-toggleable__label-arrow:before {color: black;}#sk-container-id-2 div.sk-toggleable__content {max-height: 0;max-width: 0;overflow: hidden;text-align: left;background-color: #f0f8ff;}#sk-container-id-2 div.sk-toggleable__content pre {margin: 0.2em;color: black;border-radius: 0.25em;background-color: #f0f8ff;}#sk-container-id-2 input.sk-toggleable__control:checked~div.sk-toggleable__content {max-height: 200px;max-width: 100%;overflow: auto;}#sk-container-id-2 input.sk-toggleable__control:checked~label.sk-toggleable__label-arrow:before {content: \"▾\";}#sk-container-id-2 div.sk-estimator input.sk-toggleable__control:checked~label.sk-toggleable__label {background-color: #d4ebff;}#sk-container-id-2 div.sk-label input.sk-toggleable__control:checked~label.sk-toggleable__label {background-color: #d4ebff;}#sk-container-id-2 input.sk-hidden--visually {border: 0;clip: rect(1px 1px 1px 1px);clip: rect(1px, 1px, 1px, 1px);height: 1px;margin: -1px;overflow: hidden;padding: 0;position: absolute;width: 1px;}#sk-container-id-2 div.sk-estimator {font-family: monospace;background-color: #f0f8ff;border: 1px dotted black;border-radius: 0.25em;box-sizing: border-box;margin-bottom: 0.5em;}#sk-container-id-2 div.sk-estimator:hover {background-color: #d4ebff;}#sk-container-id-2 div.sk-parallel-item::after {content: \"\";width: 100%;border-bottom: 1px solid gray;flex-grow: 1;}#sk-container-id-2 div.sk-label:hover label.sk-toggleable__label {background-color: #d4ebff;}#sk-container-id-2 div.sk-serial::before {content: \"\";position: absolute;border-left: 1px solid gray;box-sizing: border-box;top: 0;bottom: 0;left: 50%;z-index: 0;}#sk-container-id-2 div.sk-serial {display: flex;flex-direction: column;align-items: center;background-color: white;padding-right: 0.2em;padding-left: 0.2em;position: relative;}#sk-container-id-2 div.sk-item {position: relative;z-index: 1;}#sk-container-id-2 div.sk-parallel {display: flex;align-items: stretch;justify-content: center;background-color: white;position: relative;}#sk-container-id-2 div.sk-item::before, #sk-container-id-2 div.sk-parallel-item::before {content: \"\";position: absolute;border-left: 1px solid gray;box-sizing: border-box;top: 0;bottom: 0;left: 50%;z-index: -1;}#sk-container-id-2 div.sk-parallel-item {display: flex;flex-direction: column;z-index: 1;position: relative;background-color: white;}#sk-container-id-2 div.sk-parallel-item:first-child::after {align-self: flex-end;width: 50%;}#sk-container-id-2 div.sk-parallel-item:last-child::after {align-self: flex-start;width: 50%;}#sk-container-id-2 div.sk-parallel-item:only-child::after {width: 0;}#sk-container-id-2 div.sk-dashed-wrapped {border: 1px dashed gray;margin: 0 0.4em 0.5em 0.4em;box-sizing: border-box;padding-bottom: 0.4em;background-color: white;}#sk-container-id-2 div.sk-label label {font-family: monospace;font-weight: bold;display: inline-block;line-height: 1.2em;}#sk-container-id-2 div.sk-label-container {text-align: center;}#sk-container-id-2 div.sk-container {/* jupyter's `normalize.less` sets `[hidden] { display: none; }` but bootstrap.min.css set `[hidden] { display: none !important; }` so we also need the `!important` here to be able to override the default hidden behavior on the sphinx rendered scikit-learn.org. See: https://github.com/scikit-learn/scikit-learn/issues/21755 */display: inline-block !important;position: relative;}#sk-container-id-2 div.sk-text-repr-fallback {display: none;}</style><div id=\"sk-container-id-2\" class=\"sk-top-container\"><div class=\"sk-text-repr-fallback\"><pre>DecisionTreeClassifier(criterion=&#x27;entropy&#x27;, max_depth=20)</pre><b>In a Jupyter environment, please rerun this cell to show the HTML representation or trust the notebook. <br />On GitHub, the HTML representation is unable to render, please try loading this page with nbviewer.org.</b></div><div class=\"sk-container\" hidden><div class=\"sk-item\"><div class=\"sk-estimator sk-toggleable\"><input class=\"sk-toggleable__control sk-hidden--visually\" id=\"sk-estimator-id-2\" type=\"checkbox\" checked><label for=\"sk-estimator-id-2\" class=\"sk-toggleable__label sk-toggleable__label-arrow\">DecisionTreeClassifier</label><div class=\"sk-toggleable__content\"><pre>DecisionTreeClassifier(criterion=&#x27;entropy&#x27;, max_depth=20)</pre></div></div></div></div></div>"
            ],
            "text/plain": [
              "DecisionTreeClassifier(criterion='entropy', max_depth=20)"
            ]
          },
          "execution_count": 33,
          "metadata": {},
          "output_type": "execute_result"
        }
      ],
      "source": [
        "clf_optuna_best = DecisionTreeClassifier(max_depth = 20, criterion=\"entropy\",min_samples_split=2, min_samples_leaf=1)\n",
        "clf_optuna_best.fit(X_train, y_train)"
      ]
    },
    {
      "cell_type": "code",
      "execution_count": 34,
      "metadata": {
        "colab": {
          "base_uri": "https://localhost:8080/",
          "height": 939
        },
        "id": "Gf1wStgNn_km",
        "outputId": "2ee5848a-f465-40cb-fa59-733c59ac1793"
      },
      "outputs": [
        {
          "name": "stdout",
          "output_type": "stream",
          "text": [
            "              precision    recall  f1-score   support\n",
            "\n",
            "           A       0.99      1.00      0.99       850\n",
            "           B       1.00      0.50      0.67         2\n",
            "           C       1.00      0.85      0.92        26\n",
            "           D       0.97      1.00      0.99        69\n",
            "           E       0.99      0.96      0.97       231\n",
            "           F       0.99      1.00      0.99       379\n",
            "           G       0.99      0.98      0.98        89\n",
            "           H       0.96      0.96      0.96       112\n",
            "           I       0.99      1.00      1.00       180\n",
            "           W       1.00      0.75      0.86         8\n",
            "           X       0.98      0.97      0.97        92\n",
            "           Y       0.94      1.00      0.97        48\n",
            "\n",
            "    accuracy                           0.99      2086\n",
            "   macro avg       0.98      0.91      0.94      2086\n",
            "weighted avg       0.99      0.99      0.99      2086\n",
            "\n",
            "accuracy: 0.9856184084372004\n"
          ]
        },
        {
          "data": {
            "image/png": "[encoded data removed]",
            "text/plain": [
              "<Figure size 864x720 with 2 Axes>"
            ]
          },
          "metadata": {
            "needs_background": "light"
          },
          "output_type": "display_data"
        }
      ],
      "source": [
        "display_metrics(clf_optuna_best,X_valid,y_valid)"
      ]
    },
    {
      "cell_type": "code",
      "execution_count": 35,
      "metadata": {
        "colab": {
          "base_uri": "https://localhost:8080/",
          "height": 939
        },
        "id": "mwnn96kZn65C",
        "outputId": "d7ce33c3-29ee-445d-98fd-8f3066c47204"
      },
      "outputs": [
        {
          "name": "stdout",
          "output_type": "stream",
          "text": [
            "              precision    recall  f1-score   support\n",
            "\n",
            "           A       0.99      0.99      0.99      4286\n",
            "           B       1.00      1.00      1.00         5\n",
            "           C       0.96      0.94      0.95       103\n",
            "           D       0.97      0.97      0.97       353\n",
            "           E       0.97      0.97      0.97      1095\n",
            "           F       0.99      0.99      0.99      1962\n",
            "           G       1.00      0.96      0.98       447\n",
            "           H       0.97      0.98      0.98       520\n",
            "           I       1.00      1.00      1.00       832\n",
            "           W       0.95      0.93      0.94        45\n",
            "           X       0.95      0.96      0.95       522\n",
            "           Y       0.96      0.99      0.97       267\n",
            "\n",
            "    accuracy                           0.99     10437\n",
            "   macro avg       0.98      0.97      0.98     10437\n",
            "weighted avg       0.99      0.99      0.99     10437\n",
            "\n",
            "accuracy: 0.9852448021462106\n"
          ]
        },
        {
          "data": {
            "image/png": "[encoded data removed]",
            "text/plain": [
              "<Figure size 864x720 with 2 Axes>"
            ]
          },
          "metadata": {
            "needs_background": "light"
          },
          "output_type": "display_data"
        }
      ],
      "source": [
        "display_metrics(clf_optuna_best,X_test,y_test)"
      ]
    },
    {
      "attachments": {},
      "cell_type": "markdown",
      "metadata": {},
      "source": [
        "Podemos observar que, ao usarmos o optuna, conseguimos otimizar ainda um pouco mais os parâmetros devido a busca pela melhor configuração dos parâmetros extras."
      ]
    },
    {
      "cell_type": "markdown",
      "metadata": {
        "id": "bHNuGbxXTCb8"
      },
      "source": [
        "# Naive Bayes"
      ]
    },
    {
      "cell_type": "code",
      "execution_count": 36,
      "metadata": {
        "colab": {
          "base_uri": "https://localhost:8080/",
          "height": 297
        },
        "id": "SL34sA7zJzYM",
        "outputId": "38bc749e-b806-47dc-a030-e3b2698c2106"
      },
      "outputs": [
        {
          "data": {
            "text/plain": [
              "<matplotlib.legend.Legend at 0x7fe5b14491c0>"
            ]
          },
          "execution_count": 36,
          "metadata": {},
          "output_type": "execute_result"
        },
        {
          "data": {
            "image/png": "[encoded data removed]",
            "text/plain": [
              "<Figure size 432x288 with 1 Axes>"
            ]
          },
          "metadata": {
            "needs_background": "light"
          },
          "output_type": "display_data"
        }
      ],
      "source": [
        "import numpy as np\n",
        "import matplotlib.pyplot as plt\n",
        "\n",
        "results_val = []\n",
        "results_train = []\n",
        "x = np.linspace(1e-3,2,1000) #unico parametro que parece ser relevante????\n",
        "for i in x:\n",
        "  clf = GaussianNB(var_smoothing = i)\n",
        "  clf.fit(X_train,y_train)\n",
        "  pred = clf.predict(X_valid)\n",
        "  results_val.append(f1_score(pred,y_valid,average=\"weighted\"))\n",
        "  pred = clf.predict(X_train)\n",
        "  results_train.append(f1_score(pred,y_train,average=\"weighted\"))\n",
        "\n",
        "plt.plot(x,results_val,label='val')\n",
        "plt.plot(x,results_train,label='train')\n",
        "plt.ylabel(\"f1-score\")\n",
        "plt.xlabel(\"var_smoothing\")\n",
        "plt.legend()"
      ]
    },
    {
      "attachments": {},
      "cell_type": "markdown",
      "metadata": {},
      "source": [
        "Com o Naive Bayes, variamos o valor do smoothing e plotamos quais os valores da métrica de `f1_score` para cada valor testado. Pelo gráfico acima podemos observar que com um `var_smoothing` de aproximadamente 1.225 nós estabilizamos o `f1_score` do nosso modelo e deixamos ele mais otimizado."
      ]
    },
    {
      "cell_type": "code",
      "execution_count": 37,
      "metadata": {
        "colab": {
          "base_uri": "https://localhost:8080/"
        },
        "id": "KLM6ee3KShEL",
        "outputId": "de4d2aba-2787-4d24-b8d5-cdf5890bb98b"
      },
      "outputs": [
        {
          "name": "stdout",
          "output_type": "stream",
          "text": [
            "acuracia = 0.4074784276126558\n",
            "f1 0.5790190735694823\n",
            "recall 0.4074784276126558\n",
            "precision 1.0\n",
            "----------------------------------------------------------------------------------------------------\n"
          ]
        },
        {
          "name": "stderr",
          "output_type": "stream",
          "text": [
            "/usr/local/lib/python3.8/dist-packages/sklearn/metrics/_classification.py:1344: UndefinedMetricWarning: Recall is ill-defined and being set to 0.0 in labels with no true samples. Use `zero_division` parameter to control this behavior.\n",
            "  _warn_prf(average, modifier, msg_start, len(result))\n"
          ]
        }
      ],
      "source": [
        "clf = GaussianNB(var_smoothing = 1.225)\n",
        "clf.fit(X_train,y_train)\n",
        "print(\"acuracia =\",clf.score(X_valid,y_valid))\n",
        "\n",
        "pred = clf.predict(X_valid)\n",
        "print(\"f1\",f1_score(pred,y_valid,average=\"weighted\"))\n",
        "print(\"recall\",recall_score(pred,y_valid,average=\"weighted\"))\n",
        "print(\"precision\",precision_score(pred,y_valid,average=\"weighted\"))\n",
        "print(\"-\"*100)"
      ]
    },
    {
      "cell_type": "code",
      "execution_count": 38,
      "metadata": {
        "colab": {
          "base_uri": "https://localhost:8080/"
        },
        "id": "9dME9UE5KWwP",
        "outputId": "e317756d-c434-45c6-f520-54217e82389e"
      },
      "outputs": [
        {
          "name": "stdout",
          "output_type": "stream",
          "text": [
            "Precision:  0.9997128540868042\n",
            "Recall:  0.410846028552266\n",
            "F1-score:  0.5821701553337219\n",
            "----------------------------------------------------------------------------------------------------\n"
          ]
        },
        {
          "name": "stderr",
          "output_type": "stream",
          "text": [
            "/usr/local/lib/python3.8/dist-packages/sklearn/metrics/_classification.py:1344: UndefinedMetricWarning: Recall is ill-defined and being set to 0.0 in labels with no true samples. Use `zero_division` parameter to control this behavior.\n",
            "  _warn_prf(average, modifier, msg_start, len(result))\n"
          ]
        }
      ],
      "source": [
        "check_test(clf,X_test,y_test)"
      ]
    },
    {
      "attachments": {},
      "cell_type": "markdown",
      "metadata": {
        "id": "M_PdH-nNS-tu"
      },
      "source": [
        "\n",
        "Podemos verificar no grafico acima, que com o valor alterado do `var_smoothing` nós conseguimos um valor maior das nossas métricas do que apenas deixando na configuração default, otimizando assim nosso modelo."
      ]
    },
    {
      "attachments": {},
      "cell_type": "markdown",
      "metadata": {
        "id": "-bEV8n_SjjVp"
      },
      "source": [
        "## LogisticRegression\n",
        "\n"
      ]
    },
    {
      "cell_type": "code",
      "execution_count": 39,
      "metadata": {
        "id": "TY6AJS_bJon-"
      },
      "outputs": [],
      "source": [
        "def make_df_metrics(methods,results_train,results_val):\n",
        "  return pd.concat([pd.DataFrame({\"x\":methods,'y':results_train,'label':['train']*len(results_train)}),pd.DataFrame({\"x\":methods,'y':results_val,'label':['val']*len(results_val)})])\n"
      ]
    },
    {
      "cell_type": "markdown",
      "metadata": {
        "id": "ppcT59xxOAdD"
      },
      "source": [
        "### Check penalty"
      ]
    },
    {
      "cell_type": "code",
      "execution_count": 40,
      "metadata": {
        "id": "UFxxWK48StYy"
      },
      "outputs": [],
      "source": [
        "\n",
        "results_val = []\n",
        "results_train = []\n",
        "penalties = ['l1','l2',None]\n",
        "for penalty in penalties:\n",
        "  clf = Pipeline([('scaler', StandardScaler()), ('LR', LogisticRegression(penalty=penalty,solver='saga',max_iter=10000))])\n",
        "  clf.fit(X_train,y_train)\n",
        "  pred = clf.predict(X_valid)\n",
        "  results_val.append(f1_score(pred,y_valid,average=\"weighted\"))\n",
        "  pred = clf.predict(X_train)\n",
        "  results_train.append(f1_score(pred,y_train,average=\"weighted\"))\n",
        "\n",
        "for l1_ratio in np.linspace(0.1,1.0,10):\n",
        "  penalties.append(f\"elasticnet_{l1_ratio}\")\n",
        "  clf = Pipeline([('scaler', StandardScaler()), ('LR', LogisticRegression(penalty='elasticnet',solver='saga',l1_ratio=l1_ratio,max_iter=10000))])\n",
        "  clf.fit(X_train,y_train)\n",
        "  pred = clf.predict(X_valid)\n",
        "  results_val.append(f1_score(pred,y_valid,average=\"weighted\"))\n",
        "  pred = clf.predict(X_train)\n",
        "  results_train.append(f1_score(pred,y_train,average=\"weighted\"))\n",
        "\n",
        "df_metrics = make_df_metrics(penalties,results_train,results_val)"
      ]
    },
    {
      "cell_type": "code",
      "execution_count": 41,
      "metadata": {
        "colab": {
          "base_uri": "https://localhost:8080/",
          "height": 297
        },
        "id": "6E6bLf48KLz1",
        "outputId": "f5c09b66-fed7-4f3f-e0eb-98c916398319"
      },
      "outputs": [
        {
          "data": {
            "text/plain": [
              "(0.58, 0.66)"
            ]
          },
          "execution_count": 41,
          "metadata": {},
          "output_type": "execute_result"
        },
        {
          "data": {
            "image/png": "[encoded data removed]",
            "text/plain": [
              "<Figure size 432x288 with 1 Axes>"
            ]
          },
          "metadata": {
            "needs_background": "light"
          },
          "output_type": "display_data"
        }
      ],
      "source": [
        "sns.barplot(data=df_metrics,y='x',x='y',hue='label')\n",
        "plt.ylabel(\"penalties\")\n",
        "plt.xlabel(\"f1_score\")\n",
        "plt.xlim(0.58, 0.66)"
      ]
    },
    {
      "cell_type": "code",
      "execution_count": 42,
      "metadata": {
        "colab": {
          "base_uri": "https://localhost:8080/",
          "height": 175
        },
        "id": "KbQC3S_4MKxY",
        "outputId": "27d81e9b-727d-4460-fcfd-5b80d0100bd3"
      },
      "outputs": [
        {
          "data": {
            "text/html": [
              "\n",
              "  <div id=\"df-c3ada74c-1642-4d84-92b8-3357b2724de4\">\n",
              "    <div class=\"colab-df-container\">\n",
              "      <div>\n",
              "<style scoped>\n",
              "    .dataframe tbody tr th:only-of-type {\n",
              "        vertical-align: middle;\n",
              "    }\n",
              "\n",
              "    .dataframe tbody tr th {\n",
              "        vertical-align: top;\n",
              "    }\n",
              "\n",
              "    .dataframe thead th {\n",
              "        text-align: right;\n",
              "    }\n",
              "</style>\n",
              "<table border=\"1\" class=\"dataframe\">\n",
              "  <thead>\n",
              "    <tr style=\"text-align: right;\">\n",
              "      <th></th>\n",
              "      <th>x</th>\n",
              "      <th>y</th>\n",
              "      <th>label</th>\n",
              "    </tr>\n",
              "  </thead>\n",
              "  <tbody>\n",
              "    <tr>\n",
              "      <th>2</th>\n",
              "      <td>None</td>\n",
              "      <td>0.645557</td>\n",
              "      <td>train</td>\n",
              "    </tr>\n",
              "    <tr>\n",
              "      <th>9</th>\n",
              "      <td>elasticnet_0.7000000000000001</td>\n",
              "      <td>0.645010</td>\n",
              "      <td>train</td>\n",
              "    </tr>\n",
              "    <tr>\n",
              "      <th>1</th>\n",
              "      <td>l2</td>\n",
              "      <td>0.632305</td>\n",
              "      <td>val</td>\n",
              "    </tr>\n",
              "    <tr>\n",
              "      <th>3</th>\n",
              "      <td>elasticnet_0.1</td>\n",
              "      <td>0.632305</td>\n",
              "      <td>val</td>\n",
              "    </tr>\n",
              "  </tbody>\n",
              "</table>\n",
              "</div>\n",
              "      <button class=\"colab-df-convert\" onclick=\"convertToInteractive('df-c3ada74c-1642-4d84-92b8-3357b2724de4')\"\n",
              "              title=\"Convert this dataframe to an interactive table.\"\n",
              "              style=\"display:none;\">\n",
              "        \n",
              "  <svg xmlns=\"http://www.w3.org/2000/svg\" height=\"24px\"viewBox=\"0 0 24 24\"\n",
              "       width=\"24px\">\n",
              "    <path d=\"M0 0h24v24H0V0z\" fill=\"none\"/>\n",
              "    <path d=\"M18.56 5.44l.94 2.06.94-2.06 2.06-.94-2.06-.94-.94-2.06-.94 2.06-2.06.94zm-11 1L8.5 8.5l.94-2.06 2.06-.94-2.06-.94L8.5 2.5l-.94 2.06-2.06.94zm10 10l.94 2.06.94-2.06 2.06-.94-2.06-.94-.94-2.06-.94 2.06-2.06.94z\"/><path d=\"M17.41 7.96l-1.37-1.37c-.4-.4-.92-.59-1.43-.59-.52 0-1.04.2-1.43.59L10.3 9.45l-7.72 7.72c-.78.78-.78 2.05 0 2.83L4 21.41c.39.39.9.59 1.41.59.51 0 1.02-.2 1.41-.59l7.78-7.78 2.81-2.81c.8-.78.8-2.07 0-2.86zM5.41 20L4 18.59l7.72-7.72 1.47 1.35L5.41 20z\"/>\n",
              "  </svg>\n",
              "      </button>\n",
              "      \n",
              "  <style>\n",
              "    .colab-df-container {\n",
              "      display:flex;\n",
              "      flex-wrap:wrap;\n",
              "      gap: 12px;\n",
              "    }\n",
              "\n",
              "    .colab-df-convert {\n",
              "      background-color: #E8F0FE;\n",
              "      border: none;\n",
              "      border-radius: 50%;\n",
              "      cursor: pointer;\n",
              "      display: none;\n",
              "      fill: #1967D2;\n",
              "      height: 32px;\n",
              "      padding: 0 0 0 0;\n",
              "      width: 32px;\n",
              "    }\n",
              "\n",
              "    .colab-df-convert:hover {\n",
              "      background-color: #E2EBFA;\n",
              "      box-shadow: 0px 1px 2px rgba(60, 64, 67, 0.3), 0px 1px 3px 1px rgba(60, 64, 67, 0.15);\n",
              "      fill: #174EA6;\n",
              "    }\n",
              "\n",
              "    [theme=dark] .colab-df-convert {\n",
              "      background-color: #3B4455;\n",
              "      fill: #D2E3FC;\n",
              "    }\n",
              "\n",
              "    [theme=dark] .colab-df-convert:hover {\n",
              "      background-color: #434B5C;\n",
              "      box-shadow: 0px 1px 3px 1px rgba(0, 0, 0, 0.15);\n",
              "      filter: drop-shadow(0px 1px 2px rgba(0, 0, 0, 0.3));\n",
              "      fill: #FFFFFF;\n",
              "    }\n",
              "  </style>\n",
              "\n",
              "      <script>\n",
              "        const buttonEl =\n",
              "          document.querySelector('#df-c3ada74c-1642-4d84-92b8-3357b2724de4 button.colab-df-convert');\n",
              "        buttonEl.style.display =\n",
              "          google.colab.kernel.accessAllowed ? 'block' : 'none';\n",
              "\n",
              "        async function convertToInteractive(key) {\n",
              "          const element = document.querySelector('#df-c3ada74c-1642-4d84-92b8-3357b2724de4');\n",
              "          const dataTable =\n",
              "            await google.colab.kernel.invokeFunction('convertToInteractive',\n",
              "                                                     [key], {});\n",
              "          if (!dataTable) return;\n",
              "\n",
              "          const docLinkHtml = 'Like what you see? Visit the ' +\n",
              "            '<a target=\"_blank\" href=https://colab.research.google.com/notebooks/data_table.ipynb>data table notebook</a>'\n",
              "            + ' to learn more about interactive tables.';\n",
              "          element.innerHTML = '';\n",
              "          dataTable['output_type'] = 'display_data';\n",
              "          await google.colab.output.renderOutput(dataTable, element);\n",
              "          const docLink = document.createElement('div');\n",
              "          docLink.innerHTML = docLinkHtml;\n",
              "          element.appendChild(docLink);\n",
              "        }\n",
              "      </script>\n",
              "    </div>\n",
              "  </div>\n",
              "  "
            ],
            "text/plain": [
              "                               x         y  label\n",
              "2                           None  0.645557  train\n",
              "9  elasticnet_0.7000000000000001  0.645010  train\n",
              "1                             l2  0.632305    val\n",
              "3                 elasticnet_0.1  0.632305    val"
            ]
          },
          "execution_count": 42,
          "metadata": {},
          "output_type": "execute_result"
        }
      ],
      "source": [
        "df_metrics.sort_values(by='y',ascending=False).groupby(by='label').head(2)"
      ]
    },
    {
      "cell_type": "markdown",
      "metadata": {
        "id": "Hnb2Zv6NN9HP"
      },
      "source": [
        "### Check solver"
      ]
    },
    {
      "cell_type": "code",
      "execution_count": 43,
      "metadata": {
        "id": "7yVDWcPozAI9"
      },
      "outputs": [],
      "source": [
        "results_val = []\n",
        "results_train = []\n",
        "solvers = [\"lbfgs\", \"liblinear\", \"newton-cg\", \"newton-cholesky\", \"sag\", \"saga\"]\n",
        "for solver in solvers:\n",
        "  clf = Pipeline([('scaler', StandardScaler()), ('LR', LogisticRegression(solver = solver,max_iter=10000,random_state=42))])\n",
        "  clf.fit(X_train,y_train)\n",
        "  pred = clf.predict(X_valid)\n",
        "  results_val.append(f1_score(pred,y_valid,average=\"weighted\"))\n",
        "  pred = clf.predict(X_train)\n",
        "  results_train.append(f1_score(pred,y_train,average=\"weighted\"))\n",
        "\n",
        "df_metrics = make_df_metrics(solvers,results_train,results_val)"
      ]
    },
    {
      "cell_type": "code",
      "execution_count": 44,
      "metadata": {
        "colab": {
          "base_uri": "https://localhost:8080/",
          "height": 297
        },
        "id": "n-W3JCbcFfB0",
        "outputId": "dd3326b9-5589-4659-91da-52903f4a2889"
      },
      "outputs": [
        {
          "data": {
            "text/plain": [
              "(0.62, 0.66)"
            ]
          },
          "execution_count": 44,
          "metadata": {},
          "output_type": "execute_result"
        },
        {
          "data": {
            "image/png": "[encoded data removed]",
            "text/plain": [
              "<Figure size 432x288 with 1 Axes>"
            ]
          },
          "metadata": {
            "needs_background": "light"
          },
          "output_type": "display_data"
        }
      ],
      "source": [
        "sns.barplot(data=df_metrics,y='x',x='y',hue='label')\n",
        "plt.ylabel(\"solver\")\n",
        "plt.xlabel(\"f1_score\")\n",
        "plt.xlim(0.62, 0.66)"
      ]
    },
    {
      "cell_type": "code",
      "execution_count": 45,
      "metadata": {
        "colab": {
          "base_uri": "https://localhost:8080/",
          "height": 175
        },
        "id": "W6Vw4NpdNv17",
        "outputId": "0088115b-88e5-4b26-e50f-c485846e1181"
      },
      "outputs": [
        {
          "data": {
            "text/html": [
              "\n",
              "  <div id=\"df-ca5e15ed-2067-4a37-924a-049373678e52\">\n",
              "    <div class=\"colab-df-container\">\n",
              "      <div>\n",
              "<style scoped>\n",
              "    .dataframe tbody tr th:only-of-type {\n",
              "        vertical-align: middle;\n",
              "    }\n",
              "\n",
              "    .dataframe tbody tr th {\n",
              "        vertical-align: top;\n",
              "    }\n",
              "\n",
              "    .dataframe thead th {\n",
              "        text-align: right;\n",
              "    }\n",
              "</style>\n",
              "<table border=\"1\" class=\"dataframe\">\n",
              "  <thead>\n",
              "    <tr style=\"text-align: right;\">\n",
              "      <th></th>\n",
              "      <th>x</th>\n",
              "      <th>y</th>\n",
              "      <th>label</th>\n",
              "    </tr>\n",
              "  </thead>\n",
              "  <tbody>\n",
              "    <tr>\n",
              "      <th>1</th>\n",
              "      <td>liblinear</td>\n",
              "      <td>0.646720</td>\n",
              "      <td>train</td>\n",
              "    </tr>\n",
              "    <tr>\n",
              "      <th>3</th>\n",
              "      <td>newton-cholesky</td>\n",
              "      <td>0.646420</td>\n",
              "      <td>train</td>\n",
              "    </tr>\n",
              "    <tr>\n",
              "      <th>3</th>\n",
              "      <td>newton-cholesky</td>\n",
              "      <td>0.635404</td>\n",
              "      <td>val</td>\n",
              "    </tr>\n",
              "    <tr>\n",
              "      <th>1</th>\n",
              "      <td>liblinear</td>\n",
              "      <td>0.634668</td>\n",
              "      <td>val</td>\n",
              "    </tr>\n",
              "  </tbody>\n",
              "</table>\n",
              "</div>\n",
              "      <button class=\"colab-df-convert\" onclick=\"convertToInteractive('df-ca5e15ed-2067-4a37-924a-049373678e52')\"\n",
              "              title=\"Convert this dataframe to an interactive table.\"\n",
              "              style=\"display:none;\">\n",
              "        \n",
              "  <svg xmlns=\"http://www.w3.org/2000/svg\" height=\"24px\"viewBox=\"0 0 24 24\"\n",
              "       width=\"24px\">\n",
              "    <path d=\"M0 0h24v24H0V0z\" fill=\"none\"/>\n",
              "    <path d=\"M18.56 5.44l.94 2.06.94-2.06 2.06-.94-2.06-.94-.94-2.06-.94 2.06-2.06.94zm-11 1L8.5 8.5l.94-2.06 2.06-.94-2.06-.94L8.5 2.5l-.94 2.06-2.06.94zm10 10l.94 2.06.94-2.06 2.06-.94-2.06-.94-.94-2.06-.94 2.06-2.06.94z\"/><path d=\"M17.41 7.96l-1.37-1.37c-.4-.4-.92-.59-1.43-.59-.52 0-1.04.2-1.43.59L10.3 9.45l-7.72 7.72c-.78.78-.78 2.05 0 2.83L4 21.41c.39.39.9.59 1.41.59.51 0 1.02-.2 1.41-.59l7.78-7.78 2.81-2.81c.8-.78.8-2.07 0-2.86zM5.41 20L4 18.59l7.72-7.72 1.47 1.35L5.41 20z\"/>\n",
              "  </svg>\n",
              "      </button>\n",
              "      \n",
              "  <style>\n",
              "    .colab-df-container {\n",
              "      display:flex;\n",
              "      flex-wrap:wrap;\n",
              "      gap: 12px;\n",
              "    }\n",
              "\n",
              "    .colab-df-convert {\n",
              "      background-color: #E8F0FE;\n",
              "      border: none;\n",
              "      border-radius: 50%;\n",
              "      cursor: pointer;\n",
              "      display: none;\n",
              "      fill: #1967D2;\n",
              "      height: 32px;\n",
              "      padding: 0 0 0 0;\n",
              "      width: 32px;\n",
              "    }\n",
              "\n",
              "    .colab-df-convert:hover {\n",
              "      background-color: #E2EBFA;\n",
              "      box-shadow: 0px 1px 2px rgba(60, 64, 67, 0.3), 0px 1px 3px 1px rgba(60, 64, 67, 0.15);\n",
              "      fill: #174EA6;\n",
              "    }\n",
              "\n",
              "    [theme=dark] .colab-df-convert {\n",
              "      background-color: #3B4455;\n",
              "      fill: #D2E3FC;\n",
              "    }\n",
              "\n",
              "    [theme=dark] .colab-df-convert:hover {\n",
              "      background-color: #434B5C;\n",
              "      box-shadow: 0px 1px 3px 1px rgba(0, 0, 0, 0.15);\n",
              "      filter: drop-shadow(0px 1px 2px rgba(0, 0, 0, 0.3));\n",
              "      fill: #FFFFFF;\n",
              "    }\n",
              "  </style>\n",
              "\n",
              "      <script>\n",
              "        const buttonEl =\n",
              "          document.querySelector('#df-ca5e15ed-2067-4a37-924a-049373678e52 button.colab-df-convert');\n",
              "        buttonEl.style.display =\n",
              "          google.colab.kernel.accessAllowed ? 'block' : 'none';\n",
              "\n",
              "        async function convertToInteractive(key) {\n",
              "          const element = document.querySelector('#df-ca5e15ed-2067-4a37-924a-049373678e52');\n",
              "          const dataTable =\n",
              "            await google.colab.kernel.invokeFunction('convertToInteractive',\n",
              "                                                     [key], {});\n",
              "          if (!dataTable) return;\n",
              "\n",
              "          const docLinkHtml = 'Like what you see? Visit the ' +\n",
              "            '<a target=\"_blank\" href=https://colab.research.google.com/notebooks/data_table.ipynb>data table notebook</a>'\n",
              "            + ' to learn more about interactive tables.';\n",
              "          element.innerHTML = '';\n",
              "          dataTable['output_type'] = 'display_data';\n",
              "          await google.colab.output.renderOutput(dataTable, element);\n",
              "          const docLink = document.createElement('div');\n",
              "          docLink.innerHTML = docLinkHtml;\n",
              "          element.appendChild(docLink);\n",
              "        }\n",
              "      </script>\n",
              "    </div>\n",
              "  </div>\n",
              "  "
            ],
            "text/plain": [
              "                 x         y  label\n",
              "1        liblinear  0.646720  train\n",
              "3  newton-cholesky  0.646420  train\n",
              "3  newton-cholesky  0.635404    val\n",
              "1        liblinear  0.634668    val"
            ]
          },
          "execution_count": 45,
          "metadata": {},
          "output_type": "execute_result"
        }
      ],
      "source": [
        "df_metrics.sort_values(by='y',ascending=False).groupby(by='label').head(2)"
      ]
    },
    {
      "cell_type": "code",
      "execution_count": 46,
      "metadata": {
        "id": "eVBYlQWuMho2"
      },
      "outputs": [],
      "source": [
        "def plot_line(x,results_val,results_train,xlabel):\n",
        "  plt.title(\"testing for \"+xlabel)\n",
        "  plt.plot(Cs,results_val,label='val')\n",
        "  plt.plot(Cs,results_train,label='train')\n",
        "  plt.ylabel(\"f1-score\")\n",
        "  plt.xlabel(xlabel)\n",
        "  plt.legend()"
      ]
    },
    {
      "cell_type": "markdown",
      "metadata": {
        "id": "OUN8gVo9N61N"
      },
      "source": [
        "### Check C"
      ]
    },
    {
      "cell_type": "code",
      "execution_count": 47,
      "metadata": {
        "colab": {
          "base_uri": "https://localhost:8080/",
          "height": 295
        },
        "id": "g4Xvh7Oin5GK",
        "outputId": "d11392d2-545b-48fb-8b7e-d73727a24de4"
      },
      "outputs": [
        {
          "data": {
            "image/png": "[encoded data removed]",
            "text/plain": [
              "<Figure size 432x288 with 1 Axes>"
            ]
          },
          "metadata": {
            "needs_background": "light"
          },
          "output_type": "display_data"
        }
      ],
      "source": [
        "results_val = []\n",
        "results_train = []\n",
        "Cs = np.linspace(0.05,7.5,200)\n",
        "for C in Cs:\n",
        "  clf = Pipeline([('scaler', StandardScaler()), ('LR', LogisticRegression(max_iter=10000,C=C))])\n",
        "  clf.fit(X_train,y_train)\n",
        "  pred = clf.predict(X_valid)\n",
        "  results_val.append(f1_score(pred,y_valid,average=\"weighted\"))\n",
        "  pred = clf.predict(X_train)\n",
        "  results_train.append(f1_score(pred,y_train,average=\"weighted\"))\n",
        "\n",
        "df_metrics = make_df_metrics(Cs,results_train,results_val)\n",
        "\n",
        "plot_line(Cs,results_val,results_train,\"C\")\n"
      ]
    },
    {
      "cell_type": "code",
      "execution_count": 48,
      "metadata": {
        "colab": {
          "base_uri": "https://localhost:8080/",
          "height": 175
        },
        "id": "-AuAo5h8LmCO",
        "outputId": "b2f76864-df85-49c5-f3fd-336fe838fc72"
      },
      "outputs": [
        {
          "data": {
            "text/html": [
              "\n",
              "  <div id=\"df-20371026-568f-4187-96ad-32e434920654\">\n",
              "    <div class=\"colab-df-container\">\n",
              "      <div>\n",
              "<style scoped>\n",
              "    .dataframe tbody tr th:only-of-type {\n",
              "        vertical-align: middle;\n",
              "    }\n",
              "\n",
              "    .dataframe tbody tr th {\n",
              "        vertical-align: top;\n",
              "    }\n",
              "\n",
              "    .dataframe thead th {\n",
              "        text-align: right;\n",
              "    }\n",
              "</style>\n",
              "<table border=\"1\" class=\"dataframe\">\n",
              "  <thead>\n",
              "    <tr style=\"text-align: right;\">\n",
              "      <th></th>\n",
              "      <th>x</th>\n",
              "      <th>y</th>\n",
              "      <th>label</th>\n",
              "    </tr>\n",
              "  </thead>\n",
              "  <tbody>\n",
              "    <tr>\n",
              "      <th>3</th>\n",
              "      <td>0.162312</td>\n",
              "      <td>0.645993</td>\n",
              "      <td>train</td>\n",
              "    </tr>\n",
              "    <tr>\n",
              "      <th>12</th>\n",
              "      <td>0.499246</td>\n",
              "      <td>0.645962</td>\n",
              "      <td>train</td>\n",
              "    </tr>\n",
              "    <tr>\n",
              "      <th>2</th>\n",
              "      <td>0.124874</td>\n",
              "      <td>0.635943</td>\n",
              "      <td>val</td>\n",
              "    </tr>\n",
              "    <tr>\n",
              "      <th>1</th>\n",
              "      <td>0.087437</td>\n",
              "      <td>0.635612</td>\n",
              "      <td>val</td>\n",
              "    </tr>\n",
              "  </tbody>\n",
              "</table>\n",
              "</div>\n",
              "      <button class=\"colab-df-convert\" onclick=\"convertToInteractive('df-20371026-568f-4187-96ad-32e434920654')\"\n",
              "              title=\"Convert this dataframe to an interactive table.\"\n",
              "              style=\"display:none;\">\n",
              "        \n",
              "  <svg xmlns=\"http://www.w3.org/2000/svg\" height=\"24px\"viewBox=\"0 0 24 24\"\n",
              "       width=\"24px\">\n",
              "    <path d=\"M0 0h24v24H0V0z\" fill=\"none\"/>\n",
              "    <path d=\"M18.56 5.44l.94 2.06.94-2.06 2.06-.94-2.06-.94-.94-2.06-.94 2.06-2.06.94zm-11 1L8.5 8.5l.94-2.06 2.06-.94-2.06-.94L8.5 2.5l-.94 2.06-2.06.94zm10 10l.94 2.06.94-2.06 2.06-.94-2.06-.94-.94-2.06-.94 2.06-2.06.94z\"/><path d=\"M17.41 7.96l-1.37-1.37c-.4-.4-.92-.59-1.43-.59-.52 0-1.04.2-1.43.59L10.3 9.45l-7.72 7.72c-.78.78-.78 2.05 0 2.83L4 21.41c.39.39.9.59 1.41.59.51 0 1.02-.2 1.41-.59l7.78-7.78 2.81-2.81c.8-.78.8-2.07 0-2.86zM5.41 20L4 18.59l7.72-7.72 1.47 1.35L5.41 20z\"/>\n",
              "  </svg>\n",
              "      </button>\n",
              "      \n",
              "  <style>\n",
              "    .colab-df-container {\n",
              "      display:flex;\n",
              "      flex-wrap:wrap;\n",
              "      gap: 12px;\n",
              "    }\n",
              "\n",
              "    .colab-df-convert {\n",
              "      background-color: #E8F0FE;\n",
              "      border: none;\n",
              "      border-radius: 50%;\n",
              "      cursor: pointer;\n",
              "      display: none;\n",
              "      fill: #1967D2;\n",
              "      height: 32px;\n",
              "      padding: 0 0 0 0;\n",
              "      width: 32px;\n",
              "    }\n",
              "\n",
              "    .colab-df-convert:hover {\n",
              "      background-color: #E2EBFA;\n",
              "      box-shadow: 0px 1px 2px rgba(60, 64, 67, 0.3), 0px 1px 3px 1px rgba(60, 64, 67, 0.15);\n",
              "      fill: #174EA6;\n",
              "    }\n",
              "\n",
              "    [theme=dark] .colab-df-convert {\n",
              "      background-color: #3B4455;\n",
              "      fill: #D2E3FC;\n",
              "    }\n",
              "\n",
              "    [theme=dark] .colab-df-convert:hover {\n",
              "      background-color: #434B5C;\n",
              "      box-shadow: 0px 1px 3px 1px rgba(0, 0, 0, 0.15);\n",
              "      filter: drop-shadow(0px 1px 2px rgba(0, 0, 0, 0.3));\n",
              "      fill: #FFFFFF;\n",
              "    }\n",
              "  </style>\n",
              "\n",
              "      <script>\n",
              "        const buttonEl =\n",
              "          document.querySelector('#df-20371026-568f-4187-96ad-32e434920654 button.colab-df-convert');\n",
              "        buttonEl.style.display =\n",
              "          google.colab.kernel.accessAllowed ? 'block' : 'none';\n",
              "\n",
              "        async function convertToInteractive(key) {\n",
              "          const element = document.querySelector('#df-20371026-568f-4187-96ad-32e434920654');\n",
              "          const dataTable =\n",
              "            await google.colab.kernel.invokeFunction('convertToInteractive',\n",
              "                                                     [key], {});\n",
              "          if (!dataTable) return;\n",
              "\n",
              "          const docLinkHtml = 'Like what you see? Visit the ' +\n",
              "            '<a target=\"_blank\" href=https://colab.research.google.com/notebooks/data_table.ipynb>data table notebook</a>'\n",
              "            + ' to learn more about interactive tables.';\n",
              "          element.innerHTML = '';\n",
              "          dataTable['output_type'] = 'display_data';\n",
              "          await google.colab.output.renderOutput(dataTable, element);\n",
              "          const docLink = document.createElement('div');\n",
              "          docLink.innerHTML = docLinkHtml;\n",
              "          element.appendChild(docLink);\n",
              "        }\n",
              "      </script>\n",
              "    </div>\n",
              "  </div>\n",
              "  "
            ],
            "text/plain": [
              "           x         y  label\n",
              "3   0.162312  0.645993  train\n",
              "12  0.499246  0.645962  train\n",
              "2   0.124874  0.635943    val\n",
              "1   0.087437  0.635612    val"
            ]
          },
          "execution_count": 48,
          "metadata": {},
          "output_type": "execute_result"
        }
      ],
      "source": [
        "df_metrics.sort_values(by='y',ascending=False).groupby(by='label').head(2)"
      ]
    },
    {
      "cell_type": "markdown",
      "metadata": {
        "id": "pttwvqIRN4En"
      },
      "source": [
        "### Check tol"
      ]
    },
    {
      "cell_type": "code",
      "execution_count": 49,
      "metadata": {
        "colab": {
          "base_uri": "https://localhost:8080/",
          "height": 295
        },
        "id": "36uQ6t2f3TtY",
        "outputId": "8c170c23-6d57-4b1d-83b4-a41494f3cb78"
      },
      "outputs": [
        {
          "data": {
            "image/png": "[encoded data removed]",
            "text/plain": [
              "<Figure size 432x288 with 1 Axes>"
            ]
          },
          "metadata": {
            "needs_background": "light"
          },
          "output_type": "display_data"
        }
      ],
      "source": [
        "results_val = []\n",
        "results_train = []\n",
        "tols = np.linspace(0.00001,1.0,200)\n",
        "for tol in tols:\n",
        "  clf = Pipeline([('scaler', StandardScaler()), ('LR', LogisticRegression(max_iter=10000,tol=tol))])\n",
        "  clf.fit(X_train,y_train)\n",
        "  pred = clf.predict(X_valid)\n",
        "  results_val.append(f1_score(pred,y_valid,average=\"weighted\"))\n",
        "  pred = clf.predict(X_train)\n",
        "  results_train.append(f1_score(pred,y_train,average=\"weighted\"))\n",
        "    \n",
        "df_metrics = make_df_metrics(tols,results_train,results_val)\n",
        "\n",
        "plot_line(tols,results_val,results_train,\"tol\")"
      ]
    },
    {
      "cell_type": "code",
      "execution_count": 50,
      "metadata": {
        "colab": {
          "base_uri": "https://localhost:8080/",
          "height": 175
        },
        "id": "b7Td-o4z9USi",
        "outputId": "b24fd1e9-3d6e-49f3-82ad-c9c1385cbfd4"
      },
      "outputs": [
        {
          "data": {
            "text/html": [
              "\n",
              "  <div id=\"df-8914e0df-953c-465b-86de-3ac66176d4b5\">\n",
              "    <div class=\"colab-df-container\">\n",
              "      <div>\n",
              "<style scoped>\n",
              "    .dataframe tbody tr th:only-of-type {\n",
              "        vertical-align: middle;\n",
              "    }\n",
              "\n",
              "    .dataframe tbody tr th {\n",
              "        vertical-align: top;\n",
              "    }\n",
              "\n",
              "    .dataframe thead th {\n",
              "        text-align: right;\n",
              "    }\n",
              "</style>\n",
              "<table border=\"1\" class=\"dataframe\">\n",
              "  <thead>\n",
              "    <tr style=\"text-align: right;\">\n",
              "      <th></th>\n",
              "      <th>x</th>\n",
              "      <th>y</th>\n",
              "      <th>label</th>\n",
              "    </tr>\n",
              "  </thead>\n",
              "  <tbody>\n",
              "    <tr>\n",
              "      <th>164</th>\n",
              "      <td>0.824122</td>\n",
              "      <td>0.644970</td>\n",
              "      <td>train</td>\n",
              "    </tr>\n",
              "    <tr>\n",
              "      <th>163</th>\n",
              "      <td>0.819097</td>\n",
              "      <td>0.644970</td>\n",
              "      <td>train</td>\n",
              "    </tr>\n",
              "    <tr>\n",
              "      <th>188</th>\n",
              "      <td>0.944724</td>\n",
              "      <td>0.631973</td>\n",
              "      <td>val</td>\n",
              "    </tr>\n",
              "    <tr>\n",
              "      <th>178</th>\n",
              "      <td>0.894473</td>\n",
              "      <td>0.631973</td>\n",
              "      <td>val</td>\n",
              "    </tr>\n",
              "  </tbody>\n",
              "</table>\n",
              "</div>\n",
              "      <button class=\"colab-df-convert\" onclick=\"convertToInteractive('df-8914e0df-953c-465b-86de-3ac66176d4b5')\"\n",
              "              title=\"Convert this dataframe to an interactive table.\"\n",
              "              style=\"display:none;\">\n",
              "        \n",
              "  <svg xmlns=\"http://www.w3.org/2000/svg\" height=\"24px\"viewBox=\"0 0 24 24\"\n",
              "       width=\"24px\">\n",
              "    <path d=\"M0 0h24v24H0V0z\" fill=\"none\"/>\n",
              "    <path d=\"M18.56 5.44l.94 2.06.94-2.06 2.06-.94-2.06-.94-.94-2.06-.94 2.06-2.06.94zm-11 1L8.5 8.5l.94-2.06 2.06-.94-2.06-.94L8.5 2.5l-.94 2.06-2.06.94zm10 10l.94 2.06.94-2.06 2.06-.94-2.06-.94-.94-2.06-.94 2.06-2.06.94z\"/><path d=\"M17.41 7.96l-1.37-1.37c-.4-.4-.92-.59-1.43-.59-.52 0-1.04.2-1.43.59L10.3 9.45l-7.72 7.72c-.78.78-.78 2.05 0 2.83L4 21.41c.39.39.9.59 1.41.59.51 0 1.02-.2 1.41-.59l7.78-7.78 2.81-2.81c.8-.78.8-2.07 0-2.86zM5.41 20L4 18.59l7.72-7.72 1.47 1.35L5.41 20z\"/>\n",
              "  </svg>\n",
              "      </button>\n",
              "      \n",
              "  <style>\n",
              "    .colab-df-container {\n",
              "      display:flex;\n",
              "      flex-wrap:wrap;\n",
              "      gap: 12px;\n",
              "    }\n",
              "\n",
              "    .colab-df-convert {\n",
              "      background-color: #E8F0FE;\n",
              "      border: none;\n",
              "      border-radius: 50%;\n",
              "      cursor: pointer;\n",
              "      display: none;\n",
              "      fill: #1967D2;\n",
              "      height: 32px;\n",
              "      padding: 0 0 0 0;\n",
              "      width: 32px;\n",
              "    }\n",
              "\n",
              "    .colab-df-convert:hover {\n",
              "      background-color: #E2EBFA;\n",
              "      box-shadow: 0px 1px 2px rgba(60, 64, 67, 0.3), 0px 1px 3px 1px rgba(60, 64, 67, 0.15);\n",
              "      fill: #174EA6;\n",
              "    }\n",
              "\n",
              "    [theme=dark] .colab-df-convert {\n",
              "      background-color: #3B4455;\n",
              "      fill: #D2E3FC;\n",
              "    }\n",
              "\n",
              "    [theme=dark] .colab-df-convert:hover {\n",
              "      background-color: #434B5C;\n",
              "      box-shadow: 0px 1px 3px 1px rgba(0, 0, 0, 0.15);\n",
              "      filter: drop-shadow(0px 1px 2px rgba(0, 0, 0, 0.3));\n",
              "      fill: #FFFFFF;\n",
              "    }\n",
              "  </style>\n",
              "\n",
              "      <script>\n",
              "        const buttonEl =\n",
              "          document.querySelector('#df-8914e0df-953c-465b-86de-3ac66176d4b5 button.colab-df-convert');\n",
              "        buttonEl.style.display =\n",
              "          google.colab.kernel.accessAllowed ? 'block' : 'none';\n",
              "\n",
              "        async function convertToInteractive(key) {\n",
              "          const element = document.querySelector('#df-8914e0df-953c-465b-86de-3ac66176d4b5');\n",
              "          const dataTable =\n",
              "            await google.colab.kernel.invokeFunction('convertToInteractive',\n",
              "                                                     [key], {});\n",
              "          if (!dataTable) return;\n",
              "\n",
              "          const docLinkHtml = 'Like what you see? Visit the ' +\n",
              "            '<a target=\"_blank\" href=https://colab.research.google.com/notebooks/data_table.ipynb>data table notebook</a>'\n",
              "            + ' to learn more about interactive tables.';\n",
              "          element.innerHTML = '';\n",
              "          dataTable['output_type'] = 'display_data';\n",
              "          await google.colab.output.renderOutput(dataTable, element);\n",
              "          const docLink = document.createElement('div');\n",
              "          docLink.innerHTML = docLinkHtml;\n",
              "          element.appendChild(docLink);\n",
              "        }\n",
              "      </script>\n",
              "    </div>\n",
              "  </div>\n",
              "  "
            ],
            "text/plain": [
              "            x         y  label\n",
              "164  0.824122  0.644970  train\n",
              "163  0.819097  0.644970  train\n",
              "188  0.944724  0.631973    val\n",
              "178  0.894473  0.631973    val"
            ]
          },
          "execution_count": 50,
          "metadata": {},
          "output_type": "execute_result"
        }
      ],
      "source": [
        "df_metrics.sort_values(by='y',ascending=False).groupby(by='label').head(2)"
      ]
    },
    {
      "cell_type": "code",
      "execution_count": 51,
      "metadata": {
        "colab": {
          "base_uri": "https://localhost:8080/"
        },
        "id": "L8Yp_3EUOFF3",
        "outputId": "04e4d8b1-74e6-4d5c-af62-4377db99ecd3"
      },
      "outputs": [
        {
          "name": "stdout",
          "output_type": "stream",
          "text": [
            "f1_val 0.630486257692258\n",
            "f1_train 0.6294553093819075\n"
          ]
        }
      ],
      "source": [
        "clf =  Pipeline([('scaler', StandardScaler()), ('LR', LogisticRegression(penalty='l2',solver='newton-cholesky',C=0.12,tol=5.5,max_iter=10000))])\n",
        "clf.fit(X_train,y_train)\n",
        "pred = clf.predict(X_valid)\n",
        "print(\"f1_val\",f1_score(pred,y_valid,average=\"weighted\"))\n",
        "pred = clf.predict(X_train)\n",
        "print(\"f1_train\",f1_score(pred,y_train,average=\"weighted\"))\n"
      ]
    },
    {
      "cell_type": "code",
      "execution_count": 52,
      "metadata": {
        "colab": {
          "base_uri": "https://localhost:8080/"
        },
        "id": "a_IbvesIOLCH",
        "outputId": "d973b0fa-676b-4e8c-9ed8-b5f3333c72fb"
      },
      "outputs": [
        {
          "name": "stdout",
          "output_type": "stream",
          "text": [
            "Precision:  0.9295033156936094\n",
            "Recall:  0.4789690524096963\n",
            "F1-score:  0.6232209067693982\n",
            "----------------------------------------------------------------------------------------------------\n"
          ]
        },
        {
          "name": "stderr",
          "output_type": "stream",
          "text": [
            "/usr/local/lib/python3.8/dist-packages/sklearn/metrics/_classification.py:1344: UndefinedMetricWarning: Recall is ill-defined and being set to 0.0 in labels with no true samples. Use `zero_division` parameter to control this behavior.\n",
            "  _warn_prf(average, modifier, msg_start, len(result))\n"
          ]
        }
      ],
      "source": [
        "check_test(clf,X_test,y_test)"
      ]
    },
    {
      "cell_type": "markdown",
      "metadata": {
        "id": "Hk9uLHLOsZRt"
      },
      "source": [
        "## KNN"
      ]
    },
    {
      "cell_type": "code",
      "execution_count": 54,
      "metadata": {
        "id": "N-GECrMWspRl"
      },
      "outputs": [],
      "source": [
        "from sklearn.neighbors import KNeighborsClassifier\n",
        "from sklearn.utils.extmath import weighted_mode\n",
        "import matplotlib.pyplot as plt\n",
        "import numpy as np\n",
        "import optuna"
      ]
    },
    {
      "cell_type": "markdown",
      "metadata": {
        "id": "oratcnM7sk0x"
      },
      "source": [
        "## KNN parameters\n",
        "\n",
        "#n_neighbors int, default=5\n",
        "#weights {‘uniform’, ‘distance’}, callable or None, default=’uniform’\n",
        "#algorithm {‘auto’, ‘ball_tree’, ‘kd_tree’, ‘brute’}, default=’auto’\n",
        "#leaf_size int, default=30\n",
        "#p int, default=2\n",
        "#metric str or callable, default=’minkowski’\n"
      ]
    },
    {
      "cell_type": "code",
      "execution_count": 55,
      "metadata": {
        "id": "OFQyseoBsy7H"
      },
      "outputs": [],
      "source": [
        "def check_f1_test(clf,X_test,y_test):\n",
        "  pred = clf.predict(X_test)\n",
        "  print(\"f1\",f1_score(pred,y_test,average=\"weighted\"))\n",
        "  print(\"recall\",recall_score(pred,y_test,average=\"weighted\"))\n",
        "  print(\"precision\",precision_score(pred,y_test,average=\"weighted\"))"
      ]
    },
    {
      "cell_type": "code",
      "execution_count": 56,
      "metadata": {
        "colab": {
          "base_uri": "https://localhost:8080/",
          "height": 297
        },
        "id": "Y0T2Gt9usani",
        "outputId": "63275454-63e1-4b84-eabe-1b29d402ef0c"
      },
      "outputs": [
        {
          "data": {
            "text/plain": [
              "<matplotlib.legend.Legend at 0x7fe5b02a4e20>"
            ]
          },
          "execution_count": 56,
          "metadata": {},
          "output_type": "execute_result"
        },
        {
          "data": {
            "image/png": "[encoded data removed]",
            "text/plain": [
              "<Figure size 432x288 with 1 Axes>"
            ]
          },
          "metadata": {
            "needs_background": "light"
          },
          "output_type": "display_data"
        }
      ],
      "source": [
        "results_val = []\n",
        "results_train = []\n",
        "n_s = range(1,10)\n",
        "for n_neighbors in n_s:\n",
        "  clf = KNeighborsClassifier(n_neighbors = n_neighbors)\n",
        "  clf.fit(X_train,y_train)\n",
        "  pred = clf.predict(X_valid)\n",
        "  results_val.append(f1_score(pred,y_valid,average=\"weighted\"))\n",
        "  pred = clf.predict(X_train)\n",
        "  results_train.append(f1_score(pred,y_train,average=\"weighted\"))\n",
        "\n",
        "plt.plot(n_s,results_val,label='val')\n",
        "plt.plot(n_s,results_train,label='train')\n",
        "plt.ylabel(\"f1-score\")\n",
        "plt.xlabel(\"n_neighbors\")\n",
        "plt.legend()"
      ]
    },
    {
      "cell_type": "markdown",
      "metadata": {
        "id": "u2WdSBkfvURu"
      },
      "source": [
        "**Obs: como podemos constatar na documentação do sklearn, a metrica default é minkowski, mas como p default é 2 ela é equivalente a metrica euclidean**"
      ]
    },
    {
      "cell_type": "code",
      "execution_count": 57,
      "metadata": {
        "id": "JVxQfhifsjG8"
      },
      "outputs": [],
      "source": [
        "def make_df_metrics(methods,results_train,results_val):\n",
        "  return pd.concat([pd.DataFrame({\"x\":methods,'y':results_train,'label':['train']*len(results_train)}),pd.DataFrame({\"x\":methods,'y':results_val,'label':['val']*len(results_val)})])\n"
      ]
    },
    {
      "cell_type": "code",
      "execution_count": 58,
      "metadata": {
        "id": "0WeeVnIssjJO"
      },
      "outputs": [],
      "source": [
        "results_val = []\n",
        "results_train = []\n",
        "metrics = ['cityblock','cosine','euclidean','l1','l2','manhattan','nan_euclidean']\n",
        "#'haversine'\n",
        "for x in metrics:\n",
        "  clf = KNeighborsClassifier(metric = x)\n",
        "  clf.fit(X_train,y_train)\n",
        "  pred = clf.predict(X_valid)\n",
        "  results_val.append(f1_score(pred,y_valid,average=\"weighted\"))\n",
        "  pred = clf.predict(X_train)\n",
        "  results_train.append(f1_score(pred,y_train,average=\"weighted\"))\n",
        "  \n",
        "for x in range(3,8):\n",
        "  metrics.append(f'minkowski_p{x}')\n",
        "  clf = KNeighborsClassifier(metric = 'minkowski',p=x)\n",
        "  clf.fit(X_train,y_train)\n",
        "  pred = clf.predict(X_valid)\n",
        "  results_val.append(f1_score(pred,y_valid,average=\"weighted\"))\n",
        "  pred = clf.predict(X_train)\n",
        "  results_train.append(f1_score(pred,y_train,average=\"weighted\"))\n",
        "\n",
        "df_metrics = make_df_metrics(metrics,results_train,results_val)"
      ]
    },
    {
      "cell_type": "code",
      "execution_count": 59,
      "metadata": {
        "colab": {
          "base_uri": "https://localhost:8080/",
          "height": 297
        },
        "id": "s4M-TBlps4Mq",
        "outputId": "0aaaad96-c50f-46b0-8bbd-0807f9b4a680"
      },
      "outputs": [
        {
          "data": {
            "text/plain": [
              "(0.6, 1.0)"
            ]
          },
          "execution_count": 59,
          "metadata": {},
          "output_type": "execute_result"
        },
        {
          "data": {
            "image/png": "[encoded data removed]",
            "text/plain": [
              "<Figure size 432x288 with 1 Axes>"
            ]
          },
          "metadata": {
            "needs_background": "light"
          },
          "output_type": "display_data"
        }
      ],
      "source": [
        "sns.barplot(data=df_metrics,y='x',x='y',hue='label')\n",
        "plt.ylabel(\"metrics\")\n",
        "plt.xlabel(\"f1_score\")\n",
        "plt.xlim(0.6, 1.0)"
      ]
    },
    {
      "cell_type": "code",
      "execution_count": 60,
      "metadata": {
        "colab": {
          "base_uri": "https://localhost:8080/",
          "height": 300
        },
        "id": "pig3KMAKs4T7",
        "outputId": "4247f0d1-3da1-44ba-8ec5-df37bc197451"
      },
      "outputs": [
        {
          "data": {
            "text/html": [
              "\n",
              "  <div id=\"df-dd0964b1-5b4e-4473-826f-f262f2799b7f\">\n",
              "    <div class=\"colab-df-container\">\n",
              "      <div>\n",
              "<style scoped>\n",
              "    .dataframe tbody tr th:only-of-type {\n",
              "        vertical-align: middle;\n",
              "    }\n",
              "\n",
              "    .dataframe tbody tr th {\n",
              "        vertical-align: top;\n",
              "    }\n",
              "\n",
              "    .dataframe thead th {\n",
              "        text-align: right;\n",
              "    }\n",
              "</style>\n",
              "<table border=\"1\" class=\"dataframe\">\n",
              "  <thead>\n",
              "    <tr style=\"text-align: right;\">\n",
              "      <th></th>\n",
              "      <th>x</th>\n",
              "      <th>y</th>\n",
              "      <th>label</th>\n",
              "    </tr>\n",
              "  </thead>\n",
              "  <tbody>\n",
              "    <tr>\n",
              "      <th>0</th>\n",
              "      <td>cityblock</td>\n",
              "      <td>0.878461</td>\n",
              "      <td>train</td>\n",
              "    </tr>\n",
              "    <tr>\n",
              "      <th>3</th>\n",
              "      <td>l1</td>\n",
              "      <td>0.878461</td>\n",
              "      <td>train</td>\n",
              "    </tr>\n",
              "    <tr>\n",
              "      <th>5</th>\n",
              "      <td>manhattan</td>\n",
              "      <td>0.878461</td>\n",
              "      <td>train</td>\n",
              "    </tr>\n",
              "    <tr>\n",
              "      <th>2</th>\n",
              "      <td>euclidean</td>\n",
              "      <td>0.821596</td>\n",
              "      <td>train</td>\n",
              "    </tr>\n",
              "    <tr>\n",
              "      <th>5</th>\n",
              "      <td>manhattan</td>\n",
              "      <td>0.800712</td>\n",
              "      <td>val</td>\n",
              "    </tr>\n",
              "    <tr>\n",
              "      <th>3</th>\n",
              "      <td>l1</td>\n",
              "      <td>0.800712</td>\n",
              "      <td>val</td>\n",
              "    </tr>\n",
              "    <tr>\n",
              "      <th>0</th>\n",
              "      <td>cityblock</td>\n",
              "      <td>0.800712</td>\n",
              "      <td>val</td>\n",
              "    </tr>\n",
              "    <tr>\n",
              "      <th>2</th>\n",
              "      <td>euclidean</td>\n",
              "      <td>0.722539</td>\n",
              "      <td>val</td>\n",
              "    </tr>\n",
              "  </tbody>\n",
              "</table>\n",
              "</div>\n",
              "      <button class=\"colab-df-convert\" onclick=\"convertToInteractive('df-dd0964b1-5b4e-4473-826f-f262f2799b7f')\"\n",
              "              title=\"Convert this dataframe to an interactive table.\"\n",
              "              style=\"display:none;\">\n",
              "        \n",
              "  <svg xmlns=\"http://www.w3.org/2000/svg\" height=\"24px\"viewBox=\"0 0 24 24\"\n",
              "       width=\"24px\">\n",
              "    <path d=\"M0 0h24v24H0V0z\" fill=\"none\"/>\n",
              "    <path d=\"M18.56 5.44l.94 2.06.94-2.06 2.06-.94-2.06-.94-.94-2.06-.94 2.06-2.06.94zm-11 1L8.5 8.5l.94-2.06 2.06-.94-2.06-.94L8.5 2.5l-.94 2.06-2.06.94zm10 10l.94 2.06.94-2.06 2.06-.94-2.06-.94-.94-2.06-.94 2.06-2.06.94z\"/><path d=\"M17.41 7.96l-1.37-1.37c-.4-.4-.92-.59-1.43-.59-.52 0-1.04.2-1.43.59L10.3 9.45l-7.72 7.72c-.78.78-.78 2.05 0 2.83L4 21.41c.39.39.9.59 1.41.59.51 0 1.02-.2 1.41-.59l7.78-7.78 2.81-2.81c.8-.78.8-2.07 0-2.86zM5.41 20L4 18.59l7.72-7.72 1.47 1.35L5.41 20z\"/>\n",
              "  </svg>\n",
              "      </button>\n",
              "      \n",
              "  <style>\n",
              "    .colab-df-container {\n",
              "      display:flex;\n",
              "      flex-wrap:wrap;\n",
              "      gap: 12px;\n",
              "    }\n",
              "\n",
              "    .colab-df-convert {\n",
              "      background-color: #E8F0FE;\n",
              "      border: none;\n",
              "      border-radius: 50%;\n",
              "      cursor: pointer;\n",
              "      display: none;\n",
              "      fill: #1967D2;\n",
              "      height: 32px;\n",
              "      padding: 0 0 0 0;\n",
              "      width: 32px;\n",
              "    }\n",
              "\n",
              "    .colab-df-convert:hover {\n",
              "      background-color: #E2EBFA;\n",
              "      box-shadow: 0px 1px 2px rgba(60, 64, 67, 0.3), 0px 1px 3px 1px rgba(60, 64, 67, 0.15);\n",
              "      fill: #174EA6;\n",
              "    }\n",
              "\n",
              "    [theme=dark] .colab-df-convert {\n",
              "      background-color: #3B4455;\n",
              "      fill: #D2E3FC;\n",
              "    }\n",
              "\n",
              "    [theme=dark] .colab-df-convert:hover {\n",
              "      background-color: #434B5C;\n",
              "      box-shadow: 0px 1px 3px 1px rgba(0, 0, 0, 0.15);\n",
              "      filter: drop-shadow(0px 1px 2px rgba(0, 0, 0, 0.3));\n",
              "      fill: #FFFFFF;\n",
              "    }\n",
              "  </style>\n",
              "\n",
              "      <script>\n",
              "        const buttonEl =\n",
              "          document.querySelector('#df-dd0964b1-5b4e-4473-826f-f262f2799b7f button.colab-df-convert');\n",
              "        buttonEl.style.display =\n",
              "          google.colab.kernel.accessAllowed ? 'block' : 'none';\n",
              "\n",
              "        async function convertToInteractive(key) {\n",
              "          const element = document.querySelector('#df-dd0964b1-5b4e-4473-826f-f262f2799b7f');\n",
              "          const dataTable =\n",
              "            await google.colab.kernel.invokeFunction('convertToInteractive',\n",
              "                                                     [key], {});\n",
              "          if (!dataTable) return;\n",
              "\n",
              "          const docLinkHtml = 'Like what you see? Visit the ' +\n",
              "            '<a target=\"_blank\" href=https://colab.research.google.com/notebooks/data_table.ipynb>data table notebook</a>'\n",
              "            + ' to learn more about interactive tables.';\n",
              "          element.innerHTML = '';\n",
              "          dataTable['output_type'] = 'display_data';\n",
              "          await google.colab.output.renderOutput(dataTable, element);\n",
              "          const docLink = document.createElement('div');\n",
              "          docLink.innerHTML = docLinkHtml;\n",
              "          element.appendChild(docLink);\n",
              "        }\n",
              "      </script>\n",
              "    </div>\n",
              "  </div>\n",
              "  "
            ],
            "text/plain": [
              "           x         y  label\n",
              "0  cityblock  0.878461  train\n",
              "3         l1  0.878461  train\n",
              "5  manhattan  0.878461  train\n",
              "2  euclidean  0.821596  train\n",
              "5  manhattan  0.800712    val\n",
              "3         l1  0.800712    val\n",
              "0  cityblock  0.800712    val\n",
              "2  euclidean  0.722539    val"
            ]
          },
          "execution_count": 60,
          "metadata": {},
          "output_type": "execute_result"
        }
      ],
      "source": [
        "df_metrics.sort_values(by='y',ascending=False).groupby(by='label').head(4)"
      ]
    },
    {
      "cell_type": "code",
      "execution_count": 61,
      "metadata": {
        "colab": {
          "base_uri": "https://localhost:8080/",
          "height": 297
        },
        "id": "HzobJ3dzs4ca",
        "outputId": "6a454c24-5dbc-409c-810d-b0ccbb811753"
      },
      "outputs": [
        {
          "data": {
            "text/plain": [
              "<matplotlib.legend.Legend at 0x7fe5b1bdcf70>"
            ]
          },
          "execution_count": 61,
          "metadata": {},
          "output_type": "execute_result"
        },
        {
          "data": {
            "image/png": "[encoded data removed]",
            "text/plain": [
              "<Figure size 432x288 with 1 Axes>"
            ]
          },
          "metadata": {
            "needs_background": "light"
          },
          "output_type": "display_data"
        }
      ],
      "source": [
        "manhattan_val = []\n",
        "euclidean_val = []\n",
        "\n",
        "\n",
        "n_s = range(1,40)\n",
        "for n_neighbors in n_s:\n",
        "  clf = KNeighborsClassifier(n_neighbors = n_neighbors,metric='manhattan')\n",
        "  clf.fit(X_train,y_train)\n",
        "  pred = clf.predict(X_valid)\n",
        "  manhattan_val.append(f1_score(pred,y_valid,average=\"weighted\"))\n",
        "\n",
        "for n_neighbors in n_s:\n",
        "  clf = KNeighborsClassifier(n_neighbors = n_neighbors,metric='euclidean')\n",
        "  clf.fit(X_train,y_train)\n",
        "  pred = clf.predict(X_valid)\n",
        "  euclidean_val.append(f1_score(pred,y_valid,average=\"weighted\"))\n",
        "\n",
        "plt.plot(n_s,manhattan_val,label='manhattan')\n",
        "plt.plot(n_s,euclidean_val,label='euclidean')\n",
        "\n",
        "plt.ylabel(\"f1-score\")\n",
        "plt.xlabel(\"n_neighbors\")\n",
        "plt.legend()"
      ]
    },
    {
      "cell_type": "code",
      "execution_count": 62,
      "metadata": {
        "colab": {
          "base_uri": "https://localhost:8080/"
        },
        "id": "ljMXneRos-tD",
        "outputId": "31642e5b-4a24-438b-ea5d-4ecabf63cf27"
      },
      "outputs": [
        {
          "name": "stdout",
          "output_type": "stream",
          "text": [
            "f1 0.828563428389104\n",
            "recall 0.8293570949506563\n",
            "precision 0.8292224138422384\n"
          ]
        }
      ],
      "source": [
        "clf = KNeighborsClassifier(n_neighbors = 1,metric='manhattan')\n",
        "clf.fit(X_train,y_train)\n",
        "check_f1_test(clf,X_test,y_test)"
      ]
    },
    {
      "cell_type": "markdown",
      "metadata": {
        "id": "ldkjkb_wtIjd"
      },
      "source": [
        "## Utilizando o OPTUNA para tentar encontrar os melhores parametros para utilizar no KNN"
      ]
    },
    {
      "cell_type": "code",
      "execution_count": 63,
      "metadata": {
        "colab": {
          "base_uri": "https://localhost:8080/"
        },
        "id": "uL0ItrSPs-yV",
        "outputId": "6e8b3723-21fb-4219-c24a-255d2b2e54c0"
      },
      "outputs": [
        {
          "name": "stderr",
          "output_type": "stream",
          "text": [
            "\u001b[32m[I 2023-03-07 01:46:08,601]\u001b[0m A new study created in memory with name: no-name-23c4f1b7-0b8c-4066-8306-b8a135cc00fc\u001b[0m\n",
            "\u001b[32m[I 2023-03-07 01:46:09,377]\u001b[0m Trial 0 finished with value: 0.8007119689579971 and parameters: {'n_neighbors': 5, 'metric': 'manhattan'}. Best is trial 0 with value: 0.8007119689579971.\u001b[0m\n",
            "\u001b[32m[I 2023-03-07 01:46:10,577]\u001b[0m Trial 1 finished with value: 0.6863984699867234 and parameters: {'n_neighbors': 13, 'metric': 'l2'}. Best is trial 0 with value: 0.8007119689579971.\u001b[0m\n",
            "\u001b[32m[I 2023-03-07 01:46:11,641]\u001b[0m Trial 2 finished with value: 0.7013040991307802 and parameters: {'n_neighbors': 9, 'metric': 'nan_euclidean'}. Best is trial 0 with value: 0.8007119689579971.\u001b[0m\n",
            "\u001b[32m[I 2023-03-07 01:46:12,166]\u001b[0m Trial 3 finished with value: 0.687000851117372 and parameters: {'n_neighbors': 15, 'metric': 'cosine'}. Best is trial 0 with value: 0.8007119689579971.\u001b[0m\n",
            "\u001b[32m[I 2023-03-07 01:46:12,709]\u001b[0m Trial 4 finished with value: 0.7388132787038474 and parameters: {'n_neighbors': 20, 'metric': 'l1'}. Best is trial 0 with value: 0.8007119689579971.\u001b[0m\n",
            "\u001b[32m[I 2023-03-07 01:46:13,195]\u001b[0m Trial 5 finished with value: 0.7799978413488236 and parameters: {'n_neighbors': 8, 'metric': 'manhattan'}. Best is trial 0 with value: 0.8007119689579971.\u001b[0m\n",
            "\u001b[32m[I 2023-03-07 01:46:13,716]\u001b[0m Trial 6 finished with value: 0.6829757439991109 and parameters: {'n_neighbors': 19, 'metric': 'cosine'}. Best is trial 0 with value: 0.8007119689579971.\u001b[0m\n",
            "\u001b[32m[I 2023-03-07 01:46:14,166]\u001b[0m Trial 7 finished with value: 0.8000252436283004 and parameters: {'n_neighbors': 6, 'metric': 'manhattan'}. Best is trial 0 with value: 0.8007119689579971.\u001b[0m\n",
            "\u001b[32m[I 2023-03-07 01:46:14,703]\u001b[0m Trial 8 finished with value: 0.692452358893998 and parameters: {'n_neighbors': 10, 'metric': 'cosine'}. Best is trial 0 with value: 0.8007119689579971.\u001b[0m\n",
            "\u001b[32m[I 2023-03-07 01:46:15,153]\u001b[0m Trial 9 finished with value: 0.8000252436283004 and parameters: {'n_neighbors': 6, 'metric': 'cityblock'}. Best is trial 0 with value: 0.8007119689579971.\u001b[0m\n",
            "\u001b[32m[I 2023-03-07 01:46:15,403]\u001b[0m Trial 10 finished with value: 0.7397289262127136 and parameters: {'n_neighbors': 1, 'metric': 'euclidean'}. Best is trial 0 with value: 0.8007119689579971.\u001b[0m\n",
            "\u001b[32m[I 2023-03-07 01:46:15,808]\u001b[0m Trial 11 finished with value: 0.8174427391068446 and parameters: {'n_neighbors': 3, 'metric': 'manhattan'}. Best is trial 11 with value: 0.8174427391068446.\u001b[0m\n",
            "\u001b[32m[I 2023-03-07 01:46:16,184]\u001b[0m Trial 12 finished with value: 0.8010434519539569 and parameters: {'n_neighbors': 2, 'metric': 'manhattan'}. Best is trial 11 with value: 0.8174427391068446.\u001b[0m\n",
            "\u001b[32m[I 2023-03-07 01:46:16,516]\u001b[0m Trial 13 finished with value: 0.8239014195740391 and parameters: {'n_neighbors': 1, 'metric': 'manhattan'}. Best is trial 13 with value: 0.8239014195740391.\u001b[0m\n",
            "\u001b[32m[I 2023-03-07 01:46:16,925]\u001b[0m Trial 14 finished with value: 0.8174427391068446 and parameters: {'n_neighbors': 3, 'metric': 'manhattan'}. Best is trial 13 with value: 0.8239014195740391.\u001b[0m\n",
            "\u001b[32m[I 2023-03-07 01:46:17,366]\u001b[0m Trial 15 finished with value: 0.8064721624199659 and parameters: {'n_neighbors': 4, 'metric': 'l1'}. Best is trial 13 with value: 0.8239014195740391.\u001b[0m\n",
            "\u001b[32m[I 2023-03-07 01:46:17,683]\u001b[0m Trial 16 finished with value: 0.8239014195740391 and parameters: {'n_neighbors': 1, 'metric': 'cityblock'}. Best is trial 13 with value: 0.8239014195740391.\u001b[0m\n",
            "\u001b[32m[I 2023-03-07 01:46:18,006]\u001b[0m Trial 17 finished with value: 0.8239014195740391 and parameters: {'n_neighbors': 1, 'metric': 'cityblock'}. Best is trial 13 with value: 0.8239014195740391.\u001b[0m\n",
            "\u001b[32m[I 2023-03-07 01:46:18,538]\u001b[0m Trial 18 finished with value: 0.7563885266247056 and parameters: {'n_neighbors': 13, 'metric': 'cityblock'}. Best is trial 13 with value: 0.8239014195740391.\u001b[0m\n",
            "\u001b[32m[I 2023-03-07 01:46:19,059]\u001b[0m Trial 19 finished with value: 0.7144368616960081 and parameters: {'n_neighbors': 7, 'metric': 'l2'}. Best is trial 13 with value: 0.8239014195740391.\u001b[0m\n",
            "\u001b[32m[I 2023-03-07 01:46:19,679]\u001b[0m Trial 20 finished with value: 0.684152735479234 and parameters: {'n_neighbors': 17, 'metric': 'euclidean'}. Best is trial 13 with value: 0.8239014195740391.\u001b[0m\n",
            "\u001b[32m[I 2023-03-07 01:46:20,217]\u001b[0m Trial 21 finished with value: 0.8239014195740391 and parameters: {'n_neighbors': 1, 'metric': 'cityblock'}. Best is trial 13 with value: 0.8239014195740391.\u001b[0m\n",
            "\u001b[32m[I 2023-03-07 01:46:20,789]\u001b[0m Trial 22 finished with value: 0.8239014195740391 and parameters: {'n_neighbors': 1, 'metric': 'cityblock'}. Best is trial 13 with value: 0.8239014195740391.\u001b[0m\n",
            "\u001b[32m[I 2023-03-07 01:46:21,519]\u001b[0m Trial 23 finished with value: 0.8064721624199659 and parameters: {'n_neighbors': 4, 'metric': 'cityblock'}. Best is trial 13 with value: 0.8239014195740391.\u001b[0m\n",
            "\u001b[32m[I 2023-03-07 01:46:22,580]\u001b[0m Trial 24 finished with value: 0.7204872438550871 and parameters: {'n_neighbors': 2, 'metric': 'nan_euclidean'}. Best is trial 13 with value: 0.8239014195740391.\u001b[0m\n",
            "\u001b[32m[I 2023-03-07 01:46:23,004]\u001b[0m Trial 25 finished with value: 0.8064721624199659 and parameters: {'n_neighbors': 4, 'metric': 'cityblock'}. Best is trial 13 with value: 0.8239014195740391.\u001b[0m\n",
            "\u001b[32m[I 2023-03-07 01:46:23,504]\u001b[0m Trial 26 finished with value: 0.7599936772377407 and parameters: {'n_neighbors': 12, 'metric': 'cityblock'}. Best is trial 13 with value: 0.8239014195740391.\u001b[0m\n",
            "\u001b[32m[I 2023-03-07 01:46:23,913]\u001b[0m Trial 27 finished with value: 0.8174427391068446 and parameters: {'n_neighbors': 3, 'metric': 'cityblock'}. Best is trial 13 with value: 0.8239014195740391.\u001b[0m\n",
            "\u001b[32m[I 2023-03-07 01:46:24,241]\u001b[0m Trial 28 finished with value: 0.7191920372339778 and parameters: {'n_neighbors': 6, 'metric': 'euclidean'}. Best is trial 13 with value: 0.8239014195740391.\u001b[0m\n",
            "\u001b[32m[I 2023-03-07 01:46:24,580]\u001b[0m Trial 29 finished with value: 0.7225385508602775 and parameters: {'n_neighbors': 5, 'metric': 'l2'}. Best is trial 13 with value: 0.8239014195740391.\u001b[0m\n",
            "\u001b[32m[I 2023-03-07 01:46:25,504]\u001b[0m Trial 30 finished with value: 0.7397289262127136 and parameters: {'n_neighbors': 1, 'metric': 'nan_euclidean'}. Best is trial 13 with value: 0.8239014195740391.\u001b[0m\n",
            "\u001b[32m[I 2023-03-07 01:46:25,821]\u001b[0m Trial 31 finished with value: 0.8239014195740391 and parameters: {'n_neighbors': 1, 'metric': 'cityblock'}. Best is trial 13 with value: 0.8239014195740391.\u001b[0m\n",
            "\u001b[32m[I 2023-03-07 01:46:26,185]\u001b[0m Trial 32 finished with value: 0.8010434519539569 and parameters: {'n_neighbors': 2, 'metric': 'cityblock'}. Best is trial 13 with value: 0.8239014195740391.\u001b[0m\n",
            "\u001b[32m[I 2023-03-07 01:46:26,616]\u001b[0m Trial 33 finished with value: 0.8174427391068446 and parameters: {'n_neighbors': 3, 'metric': 'cityblock'}. Best is trial 13 with value: 0.8239014195740391.\u001b[0m\n",
            "\u001b[32m[I 2023-03-07 01:46:27,068]\u001b[0m Trial 34 finished with value: 0.8007119689579971 and parameters: {'n_neighbors': 5, 'metric': 'cityblock'}. Best is trial 13 with value: 0.8239014195740391.\u001b[0m\n",
            "\u001b[32m[I 2023-03-07 01:46:27,380]\u001b[0m Trial 35 finished with value: 0.8239014195740391 and parameters: {'n_neighbors': 1, 'metric': 'l1'}. Best is trial 13 with value: 0.8239014195740391.\u001b[0m\n",
            "\u001b[32m[I 2023-03-07 01:46:27,857]\u001b[0m Trial 36 finished with value: 0.7799978413488236 and parameters: {'n_neighbors': 8, 'metric': 'manhattan'}. Best is trial 13 with value: 0.8239014195740391.\u001b[0m\n",
            "\u001b[32m[I 2023-03-07 01:46:28,130]\u001b[0m Trial 37 finished with value: 0.7204872438550871 and parameters: {'n_neighbors': 2, 'metric': 'l2'}. Best is trial 13 with value: 0.8239014195740391.\u001b[0m\n",
            "\u001b[32m[I 2023-03-07 01:46:28,654]\u001b[0m Trial 38 finished with value: 0.6807913508142217 and parameters: {'n_neighbors': 16, 'metric': 'cosine'}. Best is trial 13 with value: 0.8239014195740391.\u001b[0m\n",
            "\u001b[32m[I 2023-03-07 01:46:29,715]\u001b[0m Trial 39 finished with value: 0.7242516497900358 and parameters: {'n_neighbors': 4, 'metric': 'nan_euclidean'}. Best is trial 13 with value: 0.8239014195740391.\u001b[0m\n",
            "\u001b[32m[I 2023-03-07 01:46:30,201]\u001b[0m Trial 40 finished with value: 0.767927275684109 and parameters: {'n_neighbors': 10, 'metric': 'cityblock'}. Best is trial 13 with value: 0.8239014195740391.\u001b[0m\n",
            "\u001b[32m[I 2023-03-07 01:46:30,553]\u001b[0m Trial 41 finished with value: 0.8239014195740391 and parameters: {'n_neighbors': 1, 'metric': 'cityblock'}. Best is trial 13 with value: 0.8239014195740391.\u001b[0m\n",
            "\u001b[32m[I 2023-03-07 01:46:30,935]\u001b[0m Trial 42 finished with value: 0.8010434519539569 and parameters: {'n_neighbors': 2, 'metric': 'cityblock'}. Best is trial 13 with value: 0.8239014195740391.\u001b[0m\n",
            "\u001b[32m[I 2023-03-07 01:46:31,264]\u001b[0m Trial 43 finished with value: 0.8239014195740391 and parameters: {'n_neighbors': 1, 'metric': 'cityblock'}. Best is trial 13 with value: 0.8239014195740391.\u001b[0m\n",
            "\u001b[32m[I 2023-03-07 01:46:31,665]\u001b[0m Trial 44 finished with value: 0.8174427391068446 and parameters: {'n_neighbors': 3, 'metric': 'manhattan'}. Best is trial 13 with value: 0.8239014195740391.\u001b[0m\n",
            "\u001b[32m[I 2023-03-07 01:46:32,167]\u001b[0m Trial 45 finished with value: 0.7104727423949986 and parameters: {'n_neighbors': 2, 'metric': 'cosine'}. Best is trial 13 with value: 0.8239014195740391.\u001b[0m\n",
            "\u001b[32m[I 2023-03-07 01:46:32,908]\u001b[0m Trial 46 finished with value: 0.8007119689579971 and parameters: {'n_neighbors': 5, 'metric': 'l1'}. Best is trial 13 with value: 0.8239014195740391.\u001b[0m\n",
            "\u001b[32m[I 2023-03-07 01:46:33,448]\u001b[0m Trial 47 finished with value: 0.8239014195740391 and parameters: {'n_neighbors': 1, 'metric': 'manhattan'}. Best is trial 13 with value: 0.8239014195740391.\u001b[0m\n",
            "\u001b[32m[I 2023-03-07 01:46:34,124]\u001b[0m Trial 48 finished with value: 0.8174427391068446 and parameters: {'n_neighbors': 3, 'metric': 'cityblock'}. Best is trial 13 with value: 0.8239014195740391.\u001b[0m\n",
            "\u001b[32m[I 2023-03-07 01:46:34,765]\u001b[0m Trial 49 finished with value: 0.8010434519539569 and parameters: {'n_neighbors': 2, 'metric': 'cityblock'}. Best is trial 13 with value: 0.8239014195740391.\u001b[0m\n",
            "\u001b[32m[I 2023-03-07 01:46:35,183]\u001b[0m Trial 50 finished with value: 0.7144368616960081 and parameters: {'n_neighbors': 7, 'metric': 'euclidean'}. Best is trial 13 with value: 0.8239014195740391.\u001b[0m\n",
            "\u001b[32m[I 2023-03-07 01:46:35,532]\u001b[0m Trial 51 finished with value: 0.8239014195740391 and parameters: {'n_neighbors': 1, 'metric': 'cityblock'}. Best is trial 13 with value: 0.8239014195740391.\u001b[0m\n",
            "\u001b[32m[I 2023-03-07 01:46:35,866]\u001b[0m Trial 52 finished with value: 0.8239014195740391 and parameters: {'n_neighbors': 1, 'metric': 'cityblock'}. Best is trial 13 with value: 0.8239014195740391.\u001b[0m\n",
            "\u001b[32m[I 2023-03-07 01:46:36,313]\u001b[0m Trial 53 finished with value: 0.8064721624199659 and parameters: {'n_neighbors': 4, 'metric': 'cityblock'}. Best is trial 13 with value: 0.8239014195740391.\u001b[0m\n",
            "\u001b[32m[I 2023-03-07 01:46:36,682]\u001b[0m Trial 54 finished with value: 0.8010434519539569 and parameters: {'n_neighbors': 2, 'metric': 'manhattan'}. Best is trial 13 with value: 0.8239014195740391.\u001b[0m\n",
            "\u001b[32m[I 2023-03-07 01:46:37,088]\u001b[0m Trial 55 finished with value: 0.8174427391068446 and parameters: {'n_neighbors': 3, 'metric': 'cityblock'}. Best is trial 13 with value: 0.8239014195740391.\u001b[0m\n",
            "\u001b[32m[I 2023-03-07 01:46:37,636]\u001b[0m Trial 56 finished with value: 0.7420388175130715 and parameters: {'n_neighbors': 19, 'metric': 'cityblock'}. Best is trial 13 with value: 0.8239014195740391.\u001b[0m\n",
            "\u001b[32m[I 2023-03-07 01:46:37,966]\u001b[0m Trial 57 finished with value: 0.8239014195740391 and parameters: {'n_neighbors': 1, 'metric': 'cityblock'}. Best is trial 13 with value: 0.8239014195740391.\u001b[0m\n",
            "\u001b[32m[I 2023-03-07 01:46:38,243]\u001b[0m Trial 58 finished with value: 0.7204872438550871 and parameters: {'n_neighbors': 2, 'metric': 'l2'}. Best is trial 13 with value: 0.8239014195740391.\u001b[0m\n",
            "\u001b[32m[I 2023-03-07 01:46:38,704]\u001b[0m Trial 59 finished with value: 0.7120050293788066 and parameters: {'n_neighbors': 3, 'metric': 'cosine'}. Best is trial 13 with value: 0.8239014195740391.\u001b[0m\n",
            "\u001b[32m[I 2023-03-07 01:46:39,781]\u001b[0m Trial 60 finished with value: 0.7225385508602775 and parameters: {'n_neighbors': 5, 'metric': 'nan_euclidean'}. Best is trial 13 with value: 0.8239014195740391.\u001b[0m\n",
            "\u001b[32m[I 2023-03-07 01:46:40,105]\u001b[0m Trial 61 finished with value: 0.8239014195740391 and parameters: {'n_neighbors': 1, 'metric': 'l1'}. Best is trial 13 with value: 0.8239014195740391.\u001b[0m\n",
            "\u001b[32m[I 2023-03-07 01:46:40,433]\u001b[0m Trial 62 finished with value: 0.8239014195740391 and parameters: {'n_neighbors': 1, 'metric': 'l1'}. Best is trial 13 with value: 0.8239014195740391.\u001b[0m\n",
            "\u001b[32m[I 2023-03-07 01:46:40,948]\u001b[0m Trial 63 finished with value: 0.7599936772377407 and parameters: {'n_neighbors': 12, 'metric': 'l1'}. Best is trial 13 with value: 0.8239014195740391.\u001b[0m\n",
            "\u001b[32m[I 2023-03-07 01:46:41,339]\u001b[0m Trial 64 finished with value: 0.8010434519539569 and parameters: {'n_neighbors': 2, 'metric': 'l1'}. Best is trial 13 with value: 0.8239014195740391.\u001b[0m\n",
            "\u001b[32m[I 2023-03-07 01:46:41,768]\u001b[0m Trial 65 finished with value: 0.8064721624199659 and parameters: {'n_neighbors': 4, 'metric': 'manhattan'}. Best is trial 13 with value: 0.8239014195740391.\u001b[0m\n",
            "\u001b[32m[I 2023-03-07 01:46:42,019]\u001b[0m Trial 66 finished with value: 0.7397289262127136 and parameters: {'n_neighbors': 1, 'metric': 'euclidean'}. Best is trial 13 with value: 0.8239014195740391.\u001b[0m\n",
            "\u001b[32m[I 2023-03-07 01:46:42,429]\u001b[0m Trial 67 finished with value: 0.8010434519539569 and parameters: {'n_neighbors': 2, 'metric': 'cityblock'}. Best is trial 13 with value: 0.8239014195740391.\u001b[0m\n",
            "\u001b[32m[I 2023-03-07 01:46:42,829]\u001b[0m Trial 68 finished with value: 0.8174427391068446 and parameters: {'n_neighbors': 3, 'metric': 'l1'}. Best is trial 13 with value: 0.8239014195740391.\u001b[0m\n",
            "\u001b[32m[I 2023-03-07 01:46:43,208]\u001b[0m Trial 69 finished with value: 0.8010434519539569 and parameters: {'n_neighbors': 2, 'metric': 'cityblock'}. Best is trial 13 with value: 0.8239014195740391.\u001b[0m\n",
            "\u001b[32m[I 2023-03-07 01:46:43,634]\u001b[0m Trial 70 finished with value: 0.8064721624199659 and parameters: {'n_neighbors': 4, 'metric': 'cityblock'}. Best is trial 13 with value: 0.8239014195740391.\u001b[0m\n",
            "\u001b[32m[I 2023-03-07 01:46:43,957]\u001b[0m Trial 71 finished with value: 0.8239014195740391 and parameters: {'n_neighbors': 1, 'metric': 'cityblock'}. Best is trial 13 with value: 0.8239014195740391.\u001b[0m\n",
            "\u001b[32m[I 2023-03-07 01:46:44,290]\u001b[0m Trial 72 finished with value: 0.8239014195740391 and parameters: {'n_neighbors': 1, 'metric': 'cityblock'}. Best is trial 13 with value: 0.8239014195740391.\u001b[0m\n",
            "\u001b[32m[I 2023-03-07 01:46:44,688]\u001b[0m Trial 73 finished with value: 0.8174427391068446 and parameters: {'n_neighbors': 3, 'metric': 'cityblock'}. Best is trial 13 with value: 0.8239014195740391.\u001b[0m\n",
            "\u001b[32m[I 2023-03-07 01:46:45,044]\u001b[0m Trial 74 finished with value: 0.8239014195740391 and parameters: {'n_neighbors': 1, 'metric': 'cityblock'}. Best is trial 13 with value: 0.8239014195740391.\u001b[0m\n",
            "\u001b[32m[I 2023-03-07 01:46:45,692]\u001b[0m Trial 75 finished with value: 0.8010434519539569 and parameters: {'n_neighbors': 2, 'metric': 'manhattan'}. Best is trial 13 with value: 0.8239014195740391.\u001b[0m\n",
            "\u001b[32m[I 2023-03-07 01:46:46,251]\u001b[0m Trial 76 finished with value: 0.8239014195740391 and parameters: {'n_neighbors': 1, 'metric': 'cityblock'}. Best is trial 13 with value: 0.8239014195740391.\u001b[0m\n",
            "\u001b[32m[I 2023-03-07 01:46:46,734]\u001b[0m Trial 77 finished with value: 0.7371189355870021 and parameters: {'n_neighbors': 3, 'metric': 'l2'}. Best is trial 13 with value: 0.8239014195740391.\u001b[0m\n",
            "\u001b[32m[I 2023-03-07 01:46:48,244]\u001b[0m Trial 78 finished with value: 0.6870288765266944 and parameters: {'n_neighbors': 14, 'metric': 'nan_euclidean'}. Best is trial 13 with value: 0.8239014195740391.\u001b[0m\n",
            "\u001b[32m[I 2023-03-07 01:46:48,622]\u001b[0m Trial 79 finished with value: 0.8010434519539569 and parameters: {'n_neighbors': 2, 'metric': 'cityblock'}. Best is trial 13 with value: 0.8239014195740391.\u001b[0m\n",
            "\u001b[32m[I 2023-03-07 01:46:49,024]\u001b[0m Trial 80 finished with value: 0.7104727423949986 and parameters: {'n_neighbors': 2, 'metric': 'cosine'}. Best is trial 13 with value: 0.8239014195740391.\u001b[0m\n",
            "\u001b[32m[I 2023-03-07 01:46:49,347]\u001b[0m Trial 81 finished with value: 0.8239014195740391 and parameters: {'n_neighbors': 1, 'metric': 'cityblock'}. Best is trial 13 with value: 0.8239014195740391.\u001b[0m\n",
            "\u001b[32m[I 2023-03-07 01:46:49,676]\u001b[0m Trial 82 finished with value: 0.8239014195740391 and parameters: {'n_neighbors': 1, 'metric': 'cityblock'}. Best is trial 13 with value: 0.8239014195740391.\u001b[0m\n",
            "\u001b[32m[I 2023-03-07 01:46:50,062]\u001b[0m Trial 83 finished with value: 0.8010434519539569 and parameters: {'n_neighbors': 2, 'metric': 'cityblock'}. Best is trial 13 with value: 0.8239014195740391.\u001b[0m\n",
            "\u001b[32m[I 2023-03-07 01:46:50,395]\u001b[0m Trial 84 finished with value: 0.8239014195740391 and parameters: {'n_neighbors': 1, 'metric': 'cityblock'}. Best is trial 13 with value: 0.8239014195740391.\u001b[0m\n",
            "\u001b[32m[I 2023-03-07 01:46:50,804]\u001b[0m Trial 85 finished with value: 0.8174427391068446 and parameters: {'n_neighbors': 3, 'metric': 'manhattan'}. Best is trial 13 with value: 0.8239014195740391.\u001b[0m\n",
            "\u001b[32m[I 2023-03-07 01:46:51,118]\u001b[0m Trial 86 finished with value: 0.8239014195740391 and parameters: {'n_neighbors': 1, 'metric': 'cityblock'}. Best is trial 13 with value: 0.8239014195740391.\u001b[0m\n",
            "\u001b[32m[I 2023-03-07 01:46:51,481]\u001b[0m Trial 87 finished with value: 0.7013040991307802 and parameters: {'n_neighbors': 9, 'metric': 'euclidean'}. Best is trial 13 with value: 0.8239014195740391.\u001b[0m\n",
            "\u001b[32m[I 2023-03-07 01:46:51,891]\u001b[0m Trial 88 finished with value: 0.8174427391068446 and parameters: {'n_neighbors': 3, 'metric': 'l1'}. Best is trial 13 with value: 0.8239014195740391.\u001b[0m\n",
            "\u001b[32m[I 2023-03-07 01:46:52,307]\u001b[0m Trial 89 finished with value: 0.8064721624199659 and parameters: {'n_neighbors': 4, 'metric': 'cityblock'}. Best is trial 13 with value: 0.8239014195740391.\u001b[0m\n",
            "\u001b[32m[I 2023-03-07 01:46:52,675]\u001b[0m Trial 90 finished with value: 0.8010434519539569 and parameters: {'n_neighbors': 2, 'metric': 'cityblock'}. Best is trial 13 with value: 0.8239014195740391.\u001b[0m\n",
            "\u001b[32m[I 2023-03-07 01:46:52,996]\u001b[0m Trial 91 finished with value: 0.8239014195740391 and parameters: {'n_neighbors': 1, 'metric': 'manhattan'}. Best is trial 13 with value: 0.8239014195740391.\u001b[0m\n",
            "\u001b[32m[I 2023-03-07 01:46:53,331]\u001b[0m Trial 92 finished with value: 0.8239014195740391 and parameters: {'n_neighbors': 1, 'metric': 'manhattan'}. Best is trial 13 with value: 0.8239014195740391.\u001b[0m\n",
            "\u001b[32m[I 2023-03-07 01:46:53,712]\u001b[0m Trial 93 finished with value: 0.8010434519539569 and parameters: {'n_neighbors': 2, 'metric': 'manhattan'}. Best is trial 13 with value: 0.8239014195740391.\u001b[0m\n",
            "\u001b[32m[I 2023-03-07 01:46:54,026]\u001b[0m Trial 94 finished with value: 0.8239014195740391 and parameters: {'n_neighbors': 1, 'metric': 'manhattan'}. Best is trial 13 with value: 0.8239014195740391.\u001b[0m\n",
            "\u001b[32m[I 2023-03-07 01:46:54,406]\u001b[0m Trial 95 finished with value: 0.8010434519539569 and parameters: {'n_neighbors': 2, 'metric': 'cityblock'}. Best is trial 13 with value: 0.8239014195740391.\u001b[0m\n",
            "\u001b[32m[I 2023-03-07 01:46:54,728]\u001b[0m Trial 96 finished with value: 0.8239014195740391 and parameters: {'n_neighbors': 1, 'metric': 'manhattan'}. Best is trial 13 with value: 0.8239014195740391.\u001b[0m\n",
            "\u001b[32m[I 2023-03-07 01:46:55,011]\u001b[0m Trial 97 finished with value: 0.7204872438550871 and parameters: {'n_neighbors': 2, 'metric': 'l2'}. Best is trial 13 with value: 0.8239014195740391.\u001b[0m\n",
            "\u001b[32m[I 2023-03-07 01:46:55,425]\u001b[0m Trial 98 finished with value: 0.8174427391068446 and parameters: {'n_neighbors': 3, 'metric': 'l1'}. Best is trial 13 with value: 0.8239014195740391.\u001b[0m\n",
            "\u001b[32m[I 2023-03-07 01:46:55,747]\u001b[0m Trial 99 finished with value: 0.8239014195740391 and parameters: {'n_neighbors': 1, 'metric': 'cityblock'}. Best is trial 13 with value: 0.8239014195740391.\u001b[0m\n"
          ]
        },
        {
          "name": "stdout",
          "output_type": "stream",
          "text": [
            "{'n_neighbors': 1, 'metric': 'manhattan'}\n"
          ]
        }
      ],
      "source": [
        "metrics = ['cityblock','cosine','euclidean','l1','l2','manhattan','nan_euclidean']\n",
        "def objective(trial):\n",
        "    n_neighbors = trial.suggest_int(\"n_neighbors\",1,20)\n",
        "    \n",
        "    metric = trial.suggest_categorical(\"metric\",metrics)\n",
        "    \n",
        "    clf = KNeighborsClassifier(\n",
        "                                n_neighbors=n_neighbors,\n",
        "                                metric=metric\n",
        "                                )\n",
        "    clf.fit(X_train,y_train)\n",
        "    pred = clf.predict(X_valid)\n",
        "    return f1_score(pred,y_valid,average=\"weighted\")\n",
        "\n",
        "study = optuna.create_study(direction=\"maximize\")\n",
        "study.optimize(objective, n_trials=100)\n",
        "\n",
        "print(study.best_params)"
      ]
    },
    {
      "cell_type": "code",
      "execution_count": 64,
      "metadata": {
        "colab": {
          "base_uri": "https://localhost:8080/",
          "height": 542
        },
        "id": "axjJ_JCVtUMU",
        "outputId": "5ac6299d-200c-4283-aa25-03fa705de016"
      },
      "outputs": [
        {
          "data": {
            "text/html": [
              "<html>\n",
              "<head><meta charset=\"utf-8\" /></head>\n",
              "<body>\n",
              "    <div>            <script src=\"https://cdnjs.cloudflare.com/ajax/libs/mathjax/2.7.5/MathJax.js?config=TeX-AMS-MML_SVG\"></script><script type=\"text/javascript\">if (window.MathJax) {MathJax.Hub.Config({SVG: {font: \"STIX-Web\"}});}</script>                <script type=\"text/javascript\">window.PlotlyConfig = {MathJaxConfig: 'local'};</script>\n",
              "        <script src=\"https://cdn.plot.ly/plotly-2.8.3.min.js\"></script>                <div id=\"ed9f215d-887a-4411-a2d5-41a14420d051\" class=\"plotly-graph-div\" style=\"height:525px; width:100%;\"></div>            <script type=\"text/javascript\">                                    window.PLOTLYENV=window.PLOTLYENV || {};                                    if (document.getElementById(\"ed9f215d-887a-4411-a2d5-41a14420d051\")) {                    Plotly.newPlot(                        \"ed9f215d-887a-4411-a2d5-41a14420d051\",                        [{\"mode\":\"markers\",\"name\":\"Objective Value\",\"x\":[0,1,2,3,4,5,6,7,8,9,10,11,12,13,14,15,16,17,18,19,20,21,22,23,24,25,26,27,28,29,30,31,32,33,34,35,36,37,38,39,40,41,42,43,44,45,46,47,48,49,50,51,52,53,54,55,56,57,58,59,60,61,62,63,64,65,66,67,68,69,70,71,72,73,74,75,76,77,78,79,80,81,82,83,84,85,86,87,88,89,90,91,92,93,94,95,96,97,98,99],\"y\":[0.8007119689579971,0.6863984699867234,0.7013040991307802,0.687000851117372,0.7388132787038474,0.7799978413488236,0.6829757439991109,0.8000252436283004,0.692452358893998,0.8000252436283004,0.7397289262127136,0.8174427391068446,0.8010434519539569,0.8239014195740391,0.8174427391068446,0.8064721624199659,0.8239014195740391,0.8239014195740391,0.7563885266247056,0.7144368616960081,0.684152735479234,0.8239014195740391,0.8239014195740391,0.8064721624199659,0.7204872438550871,0.8064721624199659,0.7599936772377407,0.8174427391068446,0.7191920372339778,0.7225385508602775,0.7397289262127136,0.8239014195740391,0.8010434519539569,0.8174427391068446,0.8007119689579971,0.8239014195740391,0.7799978413488236,0.7204872438550871,0.6807913508142217,0.7242516497900358,0.767927275684109,0.8239014195740391,0.8010434519539569,0.8239014195740391,0.8174427391068446,0.7104727423949986,0.8007119689579971,0.8239014195740391,0.8174427391068446,0.8010434519539569,0.7144368616960081,0.8239014195740391,0.8239014195740391,0.8064721624199659,0.8010434519539569,0.8174427391068446,0.7420388175130715,0.8239014195740391,0.7204872438550871,0.7120050293788066,0.7225385508602775,0.8239014195740391,0.8239014195740391,0.7599936772377407,0.8010434519539569,0.8064721624199659,0.7397289262127136,0.8010434519539569,0.8174427391068446,0.8010434519539569,0.8064721624199659,0.8239014195740391,0.8239014195740391,0.8174427391068446,0.8239014195740391,0.8010434519539569,0.8239014195740391,0.7371189355870021,0.6870288765266944,0.8010434519539569,0.7104727423949986,0.8239014195740391,0.8239014195740391,0.8010434519539569,0.8239014195740391,0.8174427391068446,0.8239014195740391,0.7013040991307802,0.8174427391068446,0.8064721624199659,0.8010434519539569,0.8239014195740391,0.8239014195740391,0.8010434519539569,0.8239014195740391,0.8010434519539569,0.8239014195740391,0.7204872438550871,0.8174427391068446,0.8239014195740391],\"type\":\"scatter\"},{\"name\":\"Best Value\",\"x\":[0,1,2,3,4,5,6,7,8,9,10,11,12,13,14,15,16,17,18,19,20,21,22,23,24,25,26,27,28,29,30,31,32,33,34,35,36,37,38,39,40,41,42,43,44,45,46,47,48,49,50,51,52,53,54,55,56,57,58,59,60,61,62,63,64,65,66,67,68,69,70,71,72,73,74,75,76,77,78,79,80,81,82,83,84,85,86,87,88,89,90,91,92,93,94,95,96,97,98,99],\"y\":[0.8007119689579971,0.8007119689579971,0.8007119689579971,0.8007119689579971,0.8007119689579971,0.8007119689579971,0.8007119689579971,0.8007119689579971,0.8007119689579971,0.8007119689579971,0.8007119689579971,0.8174427391068446,0.8174427391068446,0.8239014195740391,0.8239014195740391,0.8239014195740391,0.8239014195740391,0.8239014195740391,0.8239014195740391,0.8239014195740391,0.8239014195740391,0.8239014195740391,0.8239014195740391,0.8239014195740391,0.8239014195740391,0.8239014195740391,0.8239014195740391,0.8239014195740391,0.8239014195740391,0.8239014195740391,0.8239014195740391,0.8239014195740391,0.8239014195740391,0.8239014195740391,0.8239014195740391,0.8239014195740391,0.8239014195740391,0.8239014195740391,0.8239014195740391,0.8239014195740391,0.8239014195740391,0.8239014195740391,0.8239014195740391,0.8239014195740391,0.8239014195740391,0.8239014195740391,0.8239014195740391,0.8239014195740391,0.8239014195740391,0.8239014195740391,0.8239014195740391,0.8239014195740391,0.8239014195740391,0.8239014195740391,0.8239014195740391,0.8239014195740391,0.8239014195740391,0.8239014195740391,0.8239014195740391,0.8239014195740391,0.8239014195740391,0.8239014195740391,0.8239014195740391,0.8239014195740391,0.8239014195740391,0.8239014195740391,0.8239014195740391,0.8239014195740391,0.8239014195740391,0.8239014195740391,0.8239014195740391,0.8239014195740391,0.8239014195740391,0.8239014195740391,0.8239014195740391,0.8239014195740391,0.8239014195740391,0.8239014195740391,0.8239014195740391,0.8239014195740391,0.8239014195740391,0.8239014195740391,0.8239014195740391,0.8239014195740391,0.8239014195740391,0.8239014195740391,0.8239014195740391,0.8239014195740391,0.8239014195740391,0.8239014195740391,0.8239014195740391,0.8239014195740391,0.8239014195740391,0.8239014195740391,0.8239014195740391,0.8239014195740391,0.8239014195740391,0.8239014195740391,0.8239014195740391,0.8239014195740391],\"type\":\"scatter\"}],                        {\"title\":{\"text\":\"Optimization History Plot\"},\"xaxis\":{\"title\":{\"text\":\"Trial\"}},\"yaxis\":{\"title\":{\"text\":\"Objective Value\"}},\"template\":{\"data\":{\"bar\":[{\"error_x\":{\"color\":\"#2a3f5f\"},\"error_y\":{\"color\":\"#2a3f5f\"},\"marker\":{\"line\":{\"color\":\"#E5ECF6\",\"width\":0.5},\"pattern\":{\"fillmode\":\"overlay\",\"size\":10,\"solidity\":0.2}},\"type\":\"bar\"}],\"barpolar\":[{\"marker\":{\"line\":{\"color\":\"#E5ECF6\",\"width\":0.5},\"pattern\":{\"fillmode\":\"overlay\",\"size\":10,\"solidity\":0.2}},\"type\":\"barpolar\"}],\"carpet\":[{\"aaxis\":{\"endlinecolor\":\"#2a3f5f\",\"gridcolor\":\"white\",\"linecolor\":\"white\",\"minorgridcolor\":\"white\",\"startlinecolor\":\"#2a3f5f\"},\"baxis\":{\"endlinecolor\":\"#2a3f5f\",\"gridcolor\":\"white\",\"linecolor\":\"white\",\"minorgridcolor\":\"white\",\"startlinecolor\":\"#2a3f5f\"},\"type\":\"carpet\"}],\"choropleth\":[{\"colorbar\":{\"outlinewidth\":0,\"ticks\":\"\"},\"type\":\"choropleth\"}],\"contour\":[{\"colorbar\":{\"outlinewidth\":0,\"ticks\":\"\"},\"colorscale\":[[0.0,\"#0d0887\"],[0.1111111111111111,\"#46039f\"],[0.2222222222222222,\"#7201a8\"],[0.3333333333333333,\"#9c179e\"],[0.4444444444444444,\"#bd3786\"],[0.5555555555555556,\"#d8576b\"],[0.6666666666666666,\"#ed7953\"],[0.7777777777777778,\"#fb9f3a\"],[0.8888888888888888,\"#fdca26\"],[1.0,\"#f0f921\"]],\"type\":\"contour\"}],\"contourcarpet\":[{\"colorbar\":{\"outlinewidth\":0,\"ticks\":\"\"},\"type\":\"contourcarpet\"}],\"heatmap\":[{\"colorbar\":{\"outlinewidth\":0,\"ticks\":\"\"},\"colorscale\":[[0.0,\"#0d0887\"],[0.1111111111111111,\"#46039f\"],[0.2222222222222222,\"#7201a8\"],[0.3333333333333333,\"#9c179e\"],[0.4444444444444444,\"#bd3786\"],[0.5555555555555556,\"#d8576b\"],[0.6666666666666666,\"#ed7953\"],[0.7777777777777778,\"#fb9f3a\"],[0.8888888888888888,\"#fdca26\"],[1.0,\"#f0f921\"]],\"type\":\"heatmap\"}],\"heatmapgl\":[{\"colorbar\":{\"outlinewidth\":0,\"ticks\":\"\"},\"colorscale\":[[0.0,\"#0d0887\"],[0.1111111111111111,\"#46039f\"],[0.2222222222222222,\"#7201a8\"],[0.3333333333333333,\"#9c179e\"],[0.4444444444444444,\"#bd3786\"],[0.5555555555555556,\"#d8576b\"],[0.6666666666666666,\"#ed7953\"],[0.7777777777777778,\"#fb9f3a\"],[0.8888888888888888,\"#fdca26\"],[1.0,\"#f0f921\"]],\"type\":\"heatmapgl\"}],\"histogram\":[{\"marker\":{\"pattern\":{\"fillmode\":\"overlay\",\"size\":10,\"solidity\":0.2}},\"type\":\"histogram\"}],\"histogram2d\":[{\"colorbar\":{\"outlinewidth\":0,\"ticks\":\"\"},\"colorscale\":[[0.0,\"#0d0887\"],[0.1111111111111111,\"#46039f\"],[0.2222222222222222,\"#7201a8\"],[0.3333333333333333,\"#9c179e\"],[0.4444444444444444,\"#bd3786\"],[0.5555555555555556,\"#d8576b\"],[0.6666666666666666,\"#ed7953\"],[0.7777777777777778,\"#fb9f3a\"],[0.8888888888888888,\"#fdca26\"],[1.0,\"#f0f921\"]],\"type\":\"histogram2d\"}],\"histogram2dcontour\":[{\"colorbar\":{\"outlinewidth\":0,\"ticks\":\"\"},\"colorscale\":[[0.0,\"#0d0887\"],[0.1111111111111111,\"#46039f\"],[0.2222222222222222,\"#7201a8\"],[0.3333333333333333,\"#9c179e\"],[0.4444444444444444,\"#bd3786\"],[0.5555555555555556,\"#d8576b\"],[0.6666666666666666,\"#ed7953\"],[0.7777777777777778,\"#fb9f3a\"],[0.8888888888888888,\"#fdca26\"],[1.0,\"#f0f921\"]],\"type\":\"histogram2dcontour\"}],\"mesh3d\":[{\"colorbar\":{\"outlinewidth\":0,\"ticks\":\"\"},\"type\":\"mesh3d\"}],\"parcoords\":[{\"line\":{\"colorbar\":{\"outlinewidth\":0,\"ticks\":\"\"}},\"type\":\"parcoords\"}],\"pie\":[{\"automargin\":true,\"type\":\"pie\"}],\"scatter\":[{\"marker\":{\"colorbar\":{\"outlinewidth\":0,\"ticks\":\"\"}},\"type\":\"scatter\"}],\"scatter3d\":[{\"line\":{\"colorbar\":{\"outlinewidth\":0,\"ticks\":\"\"}},\"marker\":{\"colorbar\":{\"outlinewidth\":0,\"ticks\":\"\"}},\"type\":\"scatter3d\"}],\"scattercarpet\":[{\"marker\":{\"colorbar\":{\"outlinewidth\":0,\"ticks\":\"\"}},\"type\":\"scattercarpet\"}],\"scattergeo\":[{\"marker\":{\"colorbar\":{\"outlinewidth\":0,\"ticks\":\"\"}},\"type\":\"scattergeo\"}],\"scattergl\":[{\"marker\":{\"colorbar\":{\"outlinewidth\":0,\"ticks\":\"\"}},\"type\":\"scattergl\"}],\"scattermapbox\":[{\"marker\":{\"colorbar\":{\"outlinewidth\":0,\"ticks\":\"\"}},\"type\":\"scattermapbox\"}],\"scatterpolar\":[{\"marker\":{\"colorbar\":{\"outlinewidth\":0,\"ticks\":\"\"}},\"type\":\"scatterpolar\"}],\"scatterpolargl\":[{\"marker\":{\"colorbar\":{\"outlinewidth\":0,\"ticks\":\"\"}},\"type\":\"scatterpolargl\"}],\"scatterternary\":[{\"marker\":{\"colorbar\":{\"outlinewidth\":0,\"ticks\":\"\"}},\"type\":\"scatterternary\"}],\"surface\":[{\"colorbar\":{\"outlinewidth\":0,\"ticks\":\"\"},\"colorscale\":[[0.0,\"#0d0887\"],[0.1111111111111111,\"#46039f\"],[0.2222222222222222,\"#7201a8\"],[0.3333333333333333,\"#9c179e\"],[0.4444444444444444,\"#bd3786\"],[0.5555555555555556,\"#d8576b\"],[0.6666666666666666,\"#ed7953\"],[0.7777777777777778,\"#fb9f3a\"],[0.8888888888888888,\"#fdca26\"],[1.0,\"#f0f921\"]],\"type\":\"surface\"}],\"table\":[{\"cells\":{\"fill\":{\"color\":\"#EBF0F8\"},\"line\":{\"color\":\"white\"}},\"header\":{\"fill\":{\"color\":\"#C8D4E3\"},\"line\":{\"color\":\"white\"}},\"type\":\"table\"}]},\"layout\":{\"annotationdefaults\":{\"arrowcolor\":\"#2a3f5f\",\"arrowhead\":0,\"arrowwidth\":1},\"autotypenumbers\":\"strict\",\"coloraxis\":{\"colorbar\":{\"outlinewidth\":0,\"ticks\":\"\"}},\"colorscale\":{\"diverging\":[[0,\"#8e0152\"],[0.1,\"#c51b7d\"],[0.2,\"#de77ae\"],[0.3,\"#f1b6da\"],[0.4,\"#fde0ef\"],[0.5,\"#f7f7f7\"],[0.6,\"#e6f5d0\"],[0.7,\"#b8e186\"],[0.8,\"#7fbc41\"],[0.9,\"#4d9221\"],[1,\"#276419\"]],\"sequential\":[[0.0,\"#0d0887\"],[0.1111111111111111,\"#46039f\"],[0.2222222222222222,\"#7201a8\"],[0.3333333333333333,\"#9c179e\"],[0.4444444444444444,\"#bd3786\"],[0.5555555555555556,\"#d8576b\"],[0.6666666666666666,\"#ed7953\"],[0.7777777777777778,\"#fb9f3a\"],[0.8888888888888888,\"#fdca26\"],[1.0,\"#f0f921\"]],\"sequentialminus\":[[0.0,\"#0d0887\"],[0.1111111111111111,\"#46039f\"],[0.2222222222222222,\"#7201a8\"],[0.3333333333333333,\"#9c179e\"],[0.4444444444444444,\"#bd3786\"],[0.5555555555555556,\"#d8576b\"],[0.6666666666666666,\"#ed7953\"],[0.7777777777777778,\"#fb9f3a\"],[0.8888888888888888,\"#fdca26\"],[1.0,\"#f0f921\"]]},\"colorway\":[\"#636efa\",\"#EF553B\",\"#00cc96\",\"#ab63fa\",\"#FFA15A\",\"#19d3f3\",\"#FF6692\",\"#B6E880\",\"#FF97FF\",\"#FECB52\"],\"font\":{\"color\":\"#2a3f5f\"},\"geo\":{\"bgcolor\":\"white\",\"lakecolor\":\"white\",\"landcolor\":\"#E5ECF6\",\"showlakes\":true,\"showland\":true,\"subunitcolor\":\"white\"},\"hoverlabel\":{\"align\":\"left\"},\"hovermode\":\"closest\",\"mapbox\":{\"style\":\"light\"},\"paper_bgcolor\":\"white\",\"plot_bgcolor\":\"#E5ECF6\",\"polar\":{\"angularaxis\":{\"gridcolor\":\"white\",\"linecolor\":\"white\",\"ticks\":\"\"},\"bgcolor\":\"#E5ECF6\",\"radialaxis\":{\"gridcolor\":\"white\",\"linecolor\":\"white\",\"ticks\":\"\"}},\"scene\":{\"xaxis\":{\"backgroundcolor\":\"#E5ECF6\",\"gridcolor\":\"white\",\"gridwidth\":2,\"linecolor\":\"white\",\"showbackground\":true,\"ticks\":\"\",\"zerolinecolor\":\"white\"},\"yaxis\":{\"backgroundcolor\":\"#E5ECF6\",\"gridcolor\":\"white\",\"gridwidth\":2,\"linecolor\":\"white\",\"showbackground\":true,\"ticks\":\"\",\"zerolinecolor\":\"white\"},\"zaxis\":{\"backgroundcolor\":\"#E5ECF6\",\"gridcolor\":\"white\",\"gridwidth\":2,\"linecolor\":\"white\",\"showbackground\":true,\"ticks\":\"\",\"zerolinecolor\":\"white\"}},\"shapedefaults\":{\"line\":{\"color\":\"#2a3f5f\"}},\"ternary\":{\"aaxis\":{\"gridcolor\":\"white\",\"linecolor\":\"white\",\"ticks\":\"\"},\"baxis\":{\"gridcolor\":\"white\",\"linecolor\":\"white\",\"ticks\":\"\"},\"bgcolor\":\"#E5ECF6\",\"caxis\":{\"gridcolor\":\"white\",\"linecolor\":\"white\",\"ticks\":\"\"}},\"title\":{\"x\":0.05},\"xaxis\":{\"automargin\":true,\"gridcolor\":\"white\",\"linecolor\":\"white\",\"ticks\":\"\",\"title\":{\"standoff\":15},\"zerolinecolor\":\"white\",\"zerolinewidth\":2},\"yaxis\":{\"automargin\":true,\"gridcolor\":\"white\",\"linecolor\":\"white\",\"ticks\":\"\",\"title\":{\"standoff\":15},\"zerolinecolor\":\"white\",\"zerolinewidth\":2}}}},                        {\"responsive\": true}                    ).then(function(){\n",
              "                            \n",
              "var gd = document.getElementById('ed9f215d-887a-4411-a2d5-41a14420d051');\n",
              "var x = new MutationObserver(function (mutations, observer) {{\n",
              "        var display = window.getComputedStyle(gd).display;\n",
              "        if (!display || display === 'none') {{\n",
              "            console.log([gd, 'removed!']);\n",
              "            Plotly.purge(gd);\n",
              "            observer.disconnect();\n",
              "        }}\n",
              "}});\n",
              "\n",
              "// Listen for the removal of the full notebook cells\n",
              "var notebookContainer = gd.closest('#notebook-container');\n",
              "if (notebookContainer) {{\n",
              "    x.observe(notebookContainer, {childList: true});\n",
              "}}\n",
              "\n",
              "// Listen for the clearing of the current output cell\n",
              "var outputEl = gd.closest('.output');\n",
              "if (outputEl) {{\n",
              "    x.observe(outputEl, {childList: true});\n",
              "}}\n",
              "\n",
              "                        })                };                            </script>        </div>\n",
              "</body>\n",
              "</html>"
            ]
          },
          "metadata": {},
          "output_type": "display_data"
        }
      ],
      "source": [
        "optuna.visualization.plot_optimization_history(study)"
      ]
    },
    {
      "cell_type": "code",
      "execution_count": 65,
      "metadata": {
        "colab": {
          "base_uri": "https://localhost:8080/",
          "height": 542
        },
        "id": "TXINTZPqtUOw",
        "outputId": "f167ab5d-e290-441b-ef66-f318eb314101"
      },
      "outputs": [
        {
          "data": {
            "text/html": [
              "<html>\n",
              "<head><meta charset=\"utf-8\" /></head>\n",
              "<body>\n",
              "    <div>            <script src=\"https://cdnjs.cloudflare.com/ajax/libs/mathjax/2.7.5/MathJax.js?config=TeX-AMS-MML_SVG\"></script><script type=\"text/javascript\">if (window.MathJax) {MathJax.Hub.Config({SVG: {font: \"STIX-Web\"}});}</script>                <script type=\"text/javascript\">window.PlotlyConfig = {MathJaxConfig: 'local'};</script>\n",
              "        <script src=\"https://cdn.plot.ly/plotly-2.8.3.min.js\"></script>                <div id=\"57b07f4c-29b4-4c17-b214-e818bb94c5bf\" class=\"plotly-graph-div\" style=\"height:525px; width:100%;\"></div>            <script type=\"text/javascript\">                                    window.PLOTLYENV=window.PLOTLYENV || {};                                    if (document.getElementById(\"57b07f4c-29b4-4c17-b214-e818bb94c5bf\")) {                    Plotly.newPlot(                        \"57b07f4c-29b4-4c17-b214-e818bb94c5bf\",                        [{\"cliponaxis\":false,\"hovertemplate\":[\"n_neighbors (IntDistribution): 0.2768812522232209<extra></extra>\",\"metric (CategoricalDistribution): 0.7231187477767791<extra></extra>\"],\"marker\":{\"color\":\"rgb(66,146,198)\"},\"orientation\":\"h\",\"text\":[\"0.28\",\"0.72\"],\"textposition\":\"outside\",\"x\":[0.2768812522232209,0.7231187477767791],\"y\":[\"n_neighbors\",\"metric\"],\"type\":\"bar\"}],                        {\"showlegend\":false,\"title\":{\"text\":\"Hyperparameter Importances\"},\"xaxis\":{\"title\":{\"text\":\"Importance for Objective Value\"}},\"yaxis\":{\"title\":{\"text\":\"Hyperparameter\"}},\"template\":{\"data\":{\"bar\":[{\"error_x\":{\"color\":\"#2a3f5f\"},\"error_y\":{\"color\":\"#2a3f5f\"},\"marker\":{\"line\":{\"color\":\"#E5ECF6\",\"width\":0.5},\"pattern\":{\"fillmode\":\"overlay\",\"size\":10,\"solidity\":0.2}},\"type\":\"bar\"}],\"barpolar\":[{\"marker\":{\"line\":{\"color\":\"#E5ECF6\",\"width\":0.5},\"pattern\":{\"fillmode\":\"overlay\",\"size\":10,\"solidity\":0.2}},\"type\":\"barpolar\"}],\"carpet\":[{\"aaxis\":{\"endlinecolor\":\"#2a3f5f\",\"gridcolor\":\"white\",\"linecolor\":\"white\",\"minorgridcolor\":\"white\",\"startlinecolor\":\"#2a3f5f\"},\"baxis\":{\"endlinecolor\":\"#2a3f5f\",\"gridcolor\":\"white\",\"linecolor\":\"white\",\"minorgridcolor\":\"white\",\"startlinecolor\":\"#2a3f5f\"},\"type\":\"carpet\"}],\"choropleth\":[{\"colorbar\":{\"outlinewidth\":0,\"ticks\":\"\"},\"type\":\"choropleth\"}],\"contour\":[{\"colorbar\":{\"outlinewidth\":0,\"ticks\":\"\"},\"colorscale\":[[0.0,\"#0d0887\"],[0.1111111111111111,\"#46039f\"],[0.2222222222222222,\"#7201a8\"],[0.3333333333333333,\"#9c179e\"],[0.4444444444444444,\"#bd3786\"],[0.5555555555555556,\"#d8576b\"],[0.6666666666666666,\"#ed7953\"],[0.7777777777777778,\"#fb9f3a\"],[0.8888888888888888,\"#fdca26\"],[1.0,\"#f0f921\"]],\"type\":\"contour\"}],\"contourcarpet\":[{\"colorbar\":{\"outlinewidth\":0,\"ticks\":\"\"},\"type\":\"contourcarpet\"}],\"heatmap\":[{\"colorbar\":{\"outlinewidth\":0,\"ticks\":\"\"},\"colorscale\":[[0.0,\"#0d0887\"],[0.1111111111111111,\"#46039f\"],[0.2222222222222222,\"#7201a8\"],[0.3333333333333333,\"#9c179e\"],[0.4444444444444444,\"#bd3786\"],[0.5555555555555556,\"#d8576b\"],[0.6666666666666666,\"#ed7953\"],[0.7777777777777778,\"#fb9f3a\"],[0.8888888888888888,\"#fdca26\"],[1.0,\"#f0f921\"]],\"type\":\"heatmap\"}],\"heatmapgl\":[{\"colorbar\":{\"outlinewidth\":0,\"ticks\":\"\"},\"colorscale\":[[0.0,\"#0d0887\"],[0.1111111111111111,\"#46039f\"],[0.2222222222222222,\"#7201a8\"],[0.3333333333333333,\"#9c179e\"],[0.4444444444444444,\"#bd3786\"],[0.5555555555555556,\"#d8576b\"],[0.6666666666666666,\"#ed7953\"],[0.7777777777777778,\"#fb9f3a\"],[0.8888888888888888,\"#fdca26\"],[1.0,\"#f0f921\"]],\"type\":\"heatmapgl\"}],\"histogram\":[{\"marker\":{\"pattern\":{\"fillmode\":\"overlay\",\"size\":10,\"solidity\":0.2}},\"type\":\"histogram\"}],\"histogram2d\":[{\"colorbar\":{\"outlinewidth\":0,\"ticks\":\"\"},\"colorscale\":[[0.0,\"#0d0887\"],[0.1111111111111111,\"#46039f\"],[0.2222222222222222,\"#7201a8\"],[0.3333333333333333,\"#9c179e\"],[0.4444444444444444,\"#bd3786\"],[0.5555555555555556,\"#d8576b\"],[0.6666666666666666,\"#ed7953\"],[0.7777777777777778,\"#fb9f3a\"],[0.8888888888888888,\"#fdca26\"],[1.0,\"#f0f921\"]],\"type\":\"histogram2d\"}],\"histogram2dcontour\":[{\"colorbar\":{\"outlinewidth\":0,\"ticks\":\"\"},\"colorscale\":[[0.0,\"#0d0887\"],[0.1111111111111111,\"#46039f\"],[0.2222222222222222,\"#7201a8\"],[0.3333333333333333,\"#9c179e\"],[0.4444444444444444,\"#bd3786\"],[0.5555555555555556,\"#d8576b\"],[0.6666666666666666,\"#ed7953\"],[0.7777777777777778,\"#fb9f3a\"],[0.8888888888888888,\"#fdca26\"],[1.0,\"#f0f921\"]],\"type\":\"histogram2dcontour\"}],\"mesh3d\":[{\"colorbar\":{\"outlinewidth\":0,\"ticks\":\"\"},\"type\":\"mesh3d\"}],\"parcoords\":[{\"line\":{\"colorbar\":{\"outlinewidth\":0,\"ticks\":\"\"}},\"type\":\"parcoords\"}],\"pie\":[{\"automargin\":true,\"type\":\"pie\"}],\"scatter\":[{\"marker\":{\"colorbar\":{\"outlinewidth\":0,\"ticks\":\"\"}},\"type\":\"scatter\"}],\"scatter3d\":[{\"line\":{\"colorbar\":{\"outlinewidth\":0,\"ticks\":\"\"}},\"marker\":{\"colorbar\":{\"outlinewidth\":0,\"ticks\":\"\"}},\"type\":\"scatter3d\"}],\"scattercarpet\":[{\"marker\":{\"colorbar\":{\"outlinewidth\":0,\"ticks\":\"\"}},\"type\":\"scattercarpet\"}],\"scattergeo\":[{\"marker\":{\"colorbar\":{\"outlinewidth\":0,\"ticks\":\"\"}},\"type\":\"scattergeo\"}],\"scattergl\":[{\"marker\":{\"colorbar\":{\"outlinewidth\":0,\"ticks\":\"\"}},\"type\":\"scattergl\"}],\"scattermapbox\":[{\"marker\":{\"colorbar\":{\"outlinewidth\":0,\"ticks\":\"\"}},\"type\":\"scattermapbox\"}],\"scatterpolar\":[{\"marker\":{\"colorbar\":{\"outlinewidth\":0,\"ticks\":\"\"}},\"type\":\"scatterpolar\"}],\"scatterpolargl\":[{\"marker\":{\"colorbar\":{\"outlinewidth\":0,\"ticks\":\"\"}},\"type\":\"scatterpolargl\"}],\"scatterternary\":[{\"marker\":{\"colorbar\":{\"outlinewidth\":0,\"ticks\":\"\"}},\"type\":\"scatterternary\"}],\"surface\":[{\"colorbar\":{\"outlinewidth\":0,\"ticks\":\"\"},\"colorscale\":[[0.0,\"#0d0887\"],[0.1111111111111111,\"#46039f\"],[0.2222222222222222,\"#7201a8\"],[0.3333333333333333,\"#9c179e\"],[0.4444444444444444,\"#bd3786\"],[0.5555555555555556,\"#d8576b\"],[0.6666666666666666,\"#ed7953\"],[0.7777777777777778,\"#fb9f3a\"],[0.8888888888888888,\"#fdca26\"],[1.0,\"#f0f921\"]],\"type\":\"surface\"}],\"table\":[{\"cells\":{\"fill\":{\"color\":\"#EBF0F8\"},\"line\":{\"color\":\"white\"}},\"header\":{\"fill\":{\"color\":\"#C8D4E3\"},\"line\":{\"color\":\"white\"}},\"type\":\"table\"}]},\"layout\":{\"annotationdefaults\":{\"arrowcolor\":\"#2a3f5f\",\"arrowhead\":0,\"arrowwidth\":1},\"autotypenumbers\":\"strict\",\"coloraxis\":{\"colorbar\":{\"outlinewidth\":0,\"ticks\":\"\"}},\"colorscale\":{\"diverging\":[[0,\"#8e0152\"],[0.1,\"#c51b7d\"],[0.2,\"#de77ae\"],[0.3,\"#f1b6da\"],[0.4,\"#fde0ef\"],[0.5,\"#f7f7f7\"],[0.6,\"#e6f5d0\"],[0.7,\"#b8e186\"],[0.8,\"#7fbc41\"],[0.9,\"#4d9221\"],[1,\"#276419\"]],\"sequential\":[[0.0,\"#0d0887\"],[0.1111111111111111,\"#46039f\"],[0.2222222222222222,\"#7201a8\"],[0.3333333333333333,\"#9c179e\"],[0.4444444444444444,\"#bd3786\"],[0.5555555555555556,\"#d8576b\"],[0.6666666666666666,\"#ed7953\"],[0.7777777777777778,\"#fb9f3a\"],[0.8888888888888888,\"#fdca26\"],[1.0,\"#f0f921\"]],\"sequentialminus\":[[0.0,\"#0d0887\"],[0.1111111111111111,\"#46039f\"],[0.2222222222222222,\"#7201a8\"],[0.3333333333333333,\"#9c179e\"],[0.4444444444444444,\"#bd3786\"],[0.5555555555555556,\"#d8576b\"],[0.6666666666666666,\"#ed7953\"],[0.7777777777777778,\"#fb9f3a\"],[0.8888888888888888,\"#fdca26\"],[1.0,\"#f0f921\"]]},\"colorway\":[\"#636efa\",\"#EF553B\",\"#00cc96\",\"#ab63fa\",\"#FFA15A\",\"#19d3f3\",\"#FF6692\",\"#B6E880\",\"#FF97FF\",\"#FECB52\"],\"font\":{\"color\":\"#2a3f5f\"},\"geo\":{\"bgcolor\":\"white\",\"lakecolor\":\"white\",\"landcolor\":\"#E5ECF6\",\"showlakes\":true,\"showland\":true,\"subunitcolor\":\"white\"},\"hoverlabel\":{\"align\":\"left\"},\"hovermode\":\"closest\",\"mapbox\":{\"style\":\"light\"},\"paper_bgcolor\":\"white\",\"plot_bgcolor\":\"#E5ECF6\",\"polar\":{\"angularaxis\":{\"gridcolor\":\"white\",\"linecolor\":\"white\",\"ticks\":\"\"},\"bgcolor\":\"#E5ECF6\",\"radialaxis\":{\"gridcolor\":\"white\",\"linecolor\":\"white\",\"ticks\":\"\"}},\"scene\":{\"xaxis\":{\"backgroundcolor\":\"#E5ECF6\",\"gridcolor\":\"white\",\"gridwidth\":2,\"linecolor\":\"white\",\"showbackground\":true,\"ticks\":\"\",\"zerolinecolor\":\"white\"},\"yaxis\":{\"backgroundcolor\":\"#E5ECF6\",\"gridcolor\":\"white\",\"gridwidth\":2,\"linecolor\":\"white\",\"showbackground\":true,\"ticks\":\"\",\"zerolinecolor\":\"white\"},\"zaxis\":{\"backgroundcolor\":\"#E5ECF6\",\"gridcolor\":\"white\",\"gridwidth\":2,\"linecolor\":\"white\",\"showbackground\":true,\"ticks\":\"\",\"zerolinecolor\":\"white\"}},\"shapedefaults\":{\"line\":{\"color\":\"#2a3f5f\"}},\"ternary\":{\"aaxis\":{\"gridcolor\":\"white\",\"linecolor\":\"white\",\"ticks\":\"\"},\"baxis\":{\"gridcolor\":\"white\",\"linecolor\":\"white\",\"ticks\":\"\"},\"bgcolor\":\"#E5ECF6\",\"caxis\":{\"gridcolor\":\"white\",\"linecolor\":\"white\",\"ticks\":\"\"}},\"title\":{\"x\":0.05},\"xaxis\":{\"automargin\":true,\"gridcolor\":\"white\",\"linecolor\":\"white\",\"ticks\":\"\",\"title\":{\"standoff\":15},\"zerolinecolor\":\"white\",\"zerolinewidth\":2},\"yaxis\":{\"automargin\":true,\"gridcolor\":\"white\",\"linecolor\":\"white\",\"ticks\":\"\",\"title\":{\"standoff\":15},\"zerolinecolor\":\"white\",\"zerolinewidth\":2}}}},                        {\"responsive\": true}                    ).then(function(){\n",
              "                            \n",
              "var gd = document.getElementById('57b07f4c-29b4-4c17-b214-e818bb94c5bf');\n",
              "var x = new MutationObserver(function (mutations, observer) {{\n",
              "        var display = window.getComputedStyle(gd).display;\n",
              "        if (!display || display === 'none') {{\n",
              "            console.log([gd, 'removed!']);\n",
              "            Plotly.purge(gd);\n",
              "            observer.disconnect();\n",
              "        }}\n",
              "}});\n",
              "\n",
              "// Listen for the removal of the full notebook cells\n",
              "var notebookContainer = gd.closest('#notebook-container');\n",
              "if (notebookContainer) {{\n",
              "    x.observe(notebookContainer, {childList: true});\n",
              "}}\n",
              "\n",
              "// Listen for the clearing of the current output cell\n",
              "var outputEl = gd.closest('.output');\n",
              "if (outputEl) {{\n",
              "    x.observe(outputEl, {childList: true});\n",
              "}}\n",
              "\n",
              "                        })                };                            </script>        </div>\n",
              "</body>\n",
              "</html>"
            ]
          },
          "metadata": {},
          "output_type": "display_data"
        }
      ],
      "source": [
        "optuna.visualization.plot_param_importances(study)"
      ]
    },
    {
      "cell_type": "code",
      "execution_count": 66,
      "metadata": {
        "colab": {
          "base_uri": "https://localhost:8080/",
          "height": 542
        },
        "id": "8ouVZmjbtUQ6",
        "outputId": "2130a586-3384-4b13-d8af-6177d1c8da55"
      },
      "outputs": [
        {
          "data": {
            "text/html": [
              "<html>\n",
              "<head><meta charset=\"utf-8\" /></head>\n",
              "<body>\n",
              "    <div>            <script src=\"https://cdnjs.cloudflare.com/ajax/libs/mathjax/2.7.5/MathJax.js?config=TeX-AMS-MML_SVG\"></script><script type=\"text/javascript\">if (window.MathJax) {MathJax.Hub.Config({SVG: {font: \"STIX-Web\"}});}</script>                <script type=\"text/javascript\">window.PlotlyConfig = {MathJaxConfig: 'local'};</script>\n",
              "        <script src=\"https://cdn.plot.ly/plotly-2.8.3.min.js\"></script>                <div id=\"4cb70ea6-16d1-4ab8-b819-3cd07a52c9a3\" class=\"plotly-graph-div\" style=\"height:525px; width:100%;\"></div>            <script type=\"text/javascript\">                                    window.PLOTLYENV=window.PLOTLYENV || {};                                    if (document.getElementById(\"4cb70ea6-16d1-4ab8-b819-3cd07a52c9a3\")) {                    Plotly.newPlot(                        \"4cb70ea6-16d1-4ab8-b819-3cd07a52c9a3\",                        [{\"colorbar\":{\"title\":{\"text\":\"Objective Value\"}},\"colorscale\":[[0.0,\"rgb(247,251,255)\"],[0.125,\"rgb(222,235,247)\"],[0.25,\"rgb(198,219,239)\"],[0.375,\"rgb(158,202,225)\"],[0.5,\"rgb(107,174,214)\"],[0.625,\"rgb(66,146,198)\"],[0.75,\"rgb(33,113,181)\"],[0.875,\"rgb(8,81,156)\"],[1.0,\"rgb(8,48,107)\"]],\"connectgaps\":true,\"contours\":{\"coloring\":\"heatmap\"},\"hoverinfo\":\"none\",\"line\":{\"smoothing\":1.3},\"reversescale\":false,\"x\":[\"cityblock\",\"cosine\",\"euclidean\",\"l1\",\"l2\",\"manhattan\",\"nan_euclidean\"],\"y\":[0.04999999999999993,1,2,3,4,5,6,7,8,9,10,12,13,14,15,16,17,19,20,20.95],\"z\":[[null,null,null,null,null,null,null],[0.8239014195740391,null,0.7397289262127136,0.8239014195740391,null,0.8239014195740391,0.7397289262127136],[0.8010434519539569,0.7104727423949986,null,0.8010434519539569,0.7204872438550871,0.8010434519539569,0.7204872438550871],[0.8174427391068446,0.7120050293788066,null,0.8174427391068446,0.7371189355870021,0.8174427391068446,null],[0.8064721624199659,null,null,0.8064721624199659,null,0.8064721624199659,0.7242516497900358],[0.8007119689579971,null,null,0.8007119689579971,0.7225385508602775,0.8007119689579971,0.7225385508602775],[0.8000252436283004,null,0.7191920372339778,null,null,0.8000252436283004,null],[null,null,0.7144368616960081,null,0.7144368616960081,null,null],[null,null,null,null,null,0.7799978413488236,null],[null,null,0.7013040991307802,null,null,null,0.7013040991307802],[0.767927275684109,0.692452358893998,null,null,null,null,null],[0.7599936772377407,null,null,0.7599936772377407,null,null,null],[0.7563885266247056,null,null,null,0.6863984699867234,null,null],[null,null,null,null,null,null,0.6870288765266944],[null,0.687000851117372,null,null,null,null,null],[null,0.6807913508142217,null,null,null,null,null],[null,null,0.684152735479234,null,null,null,null],[0.7420388175130715,0.6829757439991109,null,null,null,null,null],[null,null,null,0.7388132787038474,null,null,null],[null,null,null,null,null,null,null]],\"type\":\"contour\"},{\"marker\":{\"color\":\"black\",\"line\":{\"color\":\"Grey\",\"width\":2.0}},\"mode\":\"markers\",\"showlegend\":false,\"x\":[\"manhattan\",\"l2\",\"nan_euclidean\",\"cosine\",\"l1\",\"manhattan\",\"cosine\",\"manhattan\",\"cosine\",\"cityblock\",\"euclidean\",\"manhattan\",\"manhattan\",\"manhattan\",\"manhattan\",\"l1\",\"cityblock\",\"cityblock\",\"cityblock\",\"l2\",\"euclidean\",\"cityblock\",\"cityblock\",\"cityblock\",\"nan_euclidean\",\"cityblock\",\"cityblock\",\"cityblock\",\"euclidean\",\"l2\",\"nan_euclidean\",\"cityblock\",\"cityblock\",\"cityblock\",\"cityblock\",\"l1\",\"manhattan\",\"l2\",\"cosine\",\"nan_euclidean\",\"cityblock\",\"cityblock\",\"cityblock\",\"cityblock\",\"manhattan\",\"cosine\",\"l1\",\"manhattan\",\"cityblock\",\"cityblock\",\"euclidean\",\"cityblock\",\"cityblock\",\"cityblock\",\"manhattan\",\"cityblock\",\"cityblock\",\"cityblock\",\"l2\",\"cosine\",\"nan_euclidean\",\"l1\",\"l1\",\"l1\",\"l1\",\"manhattan\",\"euclidean\",\"cityblock\",\"l1\",\"cityblock\",\"cityblock\",\"cityblock\",\"cityblock\",\"cityblock\",\"cityblock\",\"manhattan\",\"cityblock\",\"l2\",\"nan_euclidean\",\"cityblock\",\"cosine\",\"cityblock\",\"cityblock\",\"cityblock\",\"cityblock\",\"manhattan\",\"cityblock\",\"euclidean\",\"l1\",\"cityblock\",\"cityblock\",\"manhattan\",\"manhattan\",\"manhattan\",\"manhattan\",\"cityblock\",\"manhattan\",\"l2\",\"l1\",\"cityblock\"],\"y\":[5,13,9,15,20,8,19,6,10,6,1,3,2,1,3,4,1,1,13,7,17,1,1,4,2,4,12,3,6,5,1,1,2,3,5,1,8,2,16,4,10,1,2,1,3,2,5,1,3,2,7,1,1,4,2,3,19,1,2,3,5,1,1,12,2,4,1,2,3,2,4,1,1,3,1,2,1,3,14,2,2,1,1,2,1,3,1,9,3,4,2,1,1,2,1,2,1,2,3,1],\"type\":\"scatter\"}],                        {\"title\":{\"text\":\"Contour Plot\"},\"template\":{\"data\":{\"bar\":[{\"error_x\":{\"color\":\"#2a3f5f\"},\"error_y\":{\"color\":\"#2a3f5f\"},\"marker\":{\"line\":{\"color\":\"#E5ECF6\",\"width\":0.5},\"pattern\":{\"fillmode\":\"overlay\",\"size\":10,\"solidity\":0.2}},\"type\":\"bar\"}],\"barpolar\":[{\"marker\":{\"line\":{\"color\":\"#E5ECF6\",\"width\":0.5},\"pattern\":{\"fillmode\":\"overlay\",\"size\":10,\"solidity\":0.2}},\"type\":\"barpolar\"}],\"carpet\":[{\"aaxis\":{\"endlinecolor\":\"#2a3f5f\",\"gridcolor\":\"white\",\"linecolor\":\"white\",\"minorgridcolor\":\"white\",\"startlinecolor\":\"#2a3f5f\"},\"baxis\":{\"endlinecolor\":\"#2a3f5f\",\"gridcolor\":\"white\",\"linecolor\":\"white\",\"minorgridcolor\":\"white\",\"startlinecolor\":\"#2a3f5f\"},\"type\":\"carpet\"}],\"choropleth\":[{\"colorbar\":{\"outlinewidth\":0,\"ticks\":\"\"},\"type\":\"choropleth\"}],\"contour\":[{\"colorbar\":{\"outlinewidth\":0,\"ticks\":\"\"},\"colorscale\":[[0.0,\"#0d0887\"],[0.1111111111111111,\"#46039f\"],[0.2222222222222222,\"#7201a8\"],[0.3333333333333333,\"#9c179e\"],[0.4444444444444444,\"#bd3786\"],[0.5555555555555556,\"#d8576b\"],[0.6666666666666666,\"#ed7953\"],[0.7777777777777778,\"#fb9f3a\"],[0.8888888888888888,\"#fdca26\"],[1.0,\"#f0f921\"]],\"type\":\"contour\"}],\"contourcarpet\":[{\"colorbar\":{\"outlinewidth\":0,\"ticks\":\"\"},\"type\":\"contourcarpet\"}],\"heatmap\":[{\"colorbar\":{\"outlinewidth\":0,\"ticks\":\"\"},\"colorscale\":[[0.0,\"#0d0887\"],[0.1111111111111111,\"#46039f\"],[0.2222222222222222,\"#7201a8\"],[0.3333333333333333,\"#9c179e\"],[0.4444444444444444,\"#bd3786\"],[0.5555555555555556,\"#d8576b\"],[0.6666666666666666,\"#ed7953\"],[0.7777777777777778,\"#fb9f3a\"],[0.8888888888888888,\"#fdca26\"],[1.0,\"#f0f921\"]],\"type\":\"heatmap\"}],\"heatmapgl\":[{\"colorbar\":{\"outlinewidth\":0,\"ticks\":\"\"},\"colorscale\":[[0.0,\"#0d0887\"],[0.1111111111111111,\"#46039f\"],[0.2222222222222222,\"#7201a8\"],[0.3333333333333333,\"#9c179e\"],[0.4444444444444444,\"#bd3786\"],[0.5555555555555556,\"#d8576b\"],[0.6666666666666666,\"#ed7953\"],[0.7777777777777778,\"#fb9f3a\"],[0.8888888888888888,\"#fdca26\"],[1.0,\"#f0f921\"]],\"type\":\"heatmapgl\"}],\"histogram\":[{\"marker\":{\"pattern\":{\"fillmode\":\"overlay\",\"size\":10,\"solidity\":0.2}},\"type\":\"histogram\"}],\"histogram2d\":[{\"colorbar\":{\"outlinewidth\":0,\"ticks\":\"\"},\"colorscale\":[[0.0,\"#0d0887\"],[0.1111111111111111,\"#46039f\"],[0.2222222222222222,\"#7201a8\"],[0.3333333333333333,\"#9c179e\"],[0.4444444444444444,\"#bd3786\"],[0.5555555555555556,\"#d8576b\"],[0.6666666666666666,\"#ed7953\"],[0.7777777777777778,\"#fb9f3a\"],[0.8888888888888888,\"#fdca26\"],[1.0,\"#f0f921\"]],\"type\":\"histogram2d\"}],\"histogram2dcontour\":[{\"colorbar\":{\"outlinewidth\":0,\"ticks\":\"\"},\"colorscale\":[[0.0,\"#0d0887\"],[0.1111111111111111,\"#46039f\"],[0.2222222222222222,\"#7201a8\"],[0.3333333333333333,\"#9c179e\"],[0.4444444444444444,\"#bd3786\"],[0.5555555555555556,\"#d8576b\"],[0.6666666666666666,\"#ed7953\"],[0.7777777777777778,\"#fb9f3a\"],[0.8888888888888888,\"#fdca26\"],[1.0,\"#f0f921\"]],\"type\":\"histogram2dcontour\"}],\"mesh3d\":[{\"colorbar\":{\"outlinewidth\":0,\"ticks\":\"\"},\"type\":\"mesh3d\"}],\"parcoords\":[{\"line\":{\"colorbar\":{\"outlinewidth\":0,\"ticks\":\"\"}},\"type\":\"parcoords\"}],\"pie\":[{\"automargin\":true,\"type\":\"pie\"}],\"scatter\":[{\"marker\":{\"colorbar\":{\"outlinewidth\":0,\"ticks\":\"\"}},\"type\":\"scatter\"}],\"scatter3d\":[{\"line\":{\"colorbar\":{\"outlinewidth\":0,\"ticks\":\"\"}},\"marker\":{\"colorbar\":{\"outlinewidth\":0,\"ticks\":\"\"}},\"type\":\"scatter3d\"}],\"scattercarpet\":[{\"marker\":{\"colorbar\":{\"outlinewidth\":0,\"ticks\":\"\"}},\"type\":\"scattercarpet\"}],\"scattergeo\":[{\"marker\":{\"colorbar\":{\"outlinewidth\":0,\"ticks\":\"\"}},\"type\":\"scattergeo\"}],\"scattergl\":[{\"marker\":{\"colorbar\":{\"outlinewidth\":0,\"ticks\":\"\"}},\"type\":\"scattergl\"}],\"scattermapbox\":[{\"marker\":{\"colorbar\":{\"outlinewidth\":0,\"ticks\":\"\"}},\"type\":\"scattermapbox\"}],\"scatterpolar\":[{\"marker\":{\"colorbar\":{\"outlinewidth\":0,\"ticks\":\"\"}},\"type\":\"scatterpolar\"}],\"scatterpolargl\":[{\"marker\":{\"colorbar\":{\"outlinewidth\":0,\"ticks\":\"\"}},\"type\":\"scatterpolargl\"}],\"scatterternary\":[{\"marker\":{\"colorbar\":{\"outlinewidth\":0,\"ticks\":\"\"}},\"type\":\"scatterternary\"}],\"surface\":[{\"colorbar\":{\"outlinewidth\":0,\"ticks\":\"\"},\"colorscale\":[[0.0,\"#0d0887\"],[0.1111111111111111,\"#46039f\"],[0.2222222222222222,\"#7201a8\"],[0.3333333333333333,\"#9c179e\"],[0.4444444444444444,\"#bd3786\"],[0.5555555555555556,\"#d8576b\"],[0.6666666666666666,\"#ed7953\"],[0.7777777777777778,\"#fb9f3a\"],[0.8888888888888888,\"#fdca26\"],[1.0,\"#f0f921\"]],\"type\":\"surface\"}],\"table\":[{\"cells\":{\"fill\":{\"color\":\"#EBF0F8\"},\"line\":{\"color\":\"white\"}},\"header\":{\"fill\":{\"color\":\"#C8D4E3\"},\"line\":{\"color\":\"white\"}},\"type\":\"table\"}]},\"layout\":{\"annotationdefaults\":{\"arrowcolor\":\"#2a3f5f\",\"arrowhead\":0,\"arrowwidth\":1},\"autotypenumbers\":\"strict\",\"coloraxis\":{\"colorbar\":{\"outlinewidth\":0,\"ticks\":\"\"}},\"colorscale\":{\"diverging\":[[0,\"#8e0152\"],[0.1,\"#c51b7d\"],[0.2,\"#de77ae\"],[0.3,\"#f1b6da\"],[0.4,\"#fde0ef\"],[0.5,\"#f7f7f7\"],[0.6,\"#e6f5d0\"],[0.7,\"#b8e186\"],[0.8,\"#7fbc41\"],[0.9,\"#4d9221\"],[1,\"#276419\"]],\"sequential\":[[0.0,\"#0d0887\"],[0.1111111111111111,\"#46039f\"],[0.2222222222222222,\"#7201a8\"],[0.3333333333333333,\"#9c179e\"],[0.4444444444444444,\"#bd3786\"],[0.5555555555555556,\"#d8576b\"],[0.6666666666666666,\"#ed7953\"],[0.7777777777777778,\"#fb9f3a\"],[0.8888888888888888,\"#fdca26\"],[1.0,\"#f0f921\"]],\"sequentialminus\":[[0.0,\"#0d0887\"],[0.1111111111111111,\"#46039f\"],[0.2222222222222222,\"#7201a8\"],[0.3333333333333333,\"#9c179e\"],[0.4444444444444444,\"#bd3786\"],[0.5555555555555556,\"#d8576b\"],[0.6666666666666666,\"#ed7953\"],[0.7777777777777778,\"#fb9f3a\"],[0.8888888888888888,\"#fdca26\"],[1.0,\"#f0f921\"]]},\"colorway\":[\"#636efa\",\"#EF553B\",\"#00cc96\",\"#ab63fa\",\"#FFA15A\",\"#19d3f3\",\"#FF6692\",\"#B6E880\",\"#FF97FF\",\"#FECB52\"],\"font\":{\"color\":\"#2a3f5f\"},\"geo\":{\"bgcolor\":\"white\",\"lakecolor\":\"white\",\"landcolor\":\"#E5ECF6\",\"showlakes\":true,\"showland\":true,\"subunitcolor\":\"white\"},\"hoverlabel\":{\"align\":\"left\"},\"hovermode\":\"closest\",\"mapbox\":{\"style\":\"light\"},\"paper_bgcolor\":\"white\",\"plot_bgcolor\":\"#E5ECF6\",\"polar\":{\"angularaxis\":{\"gridcolor\":\"white\",\"linecolor\":\"white\",\"ticks\":\"\"},\"bgcolor\":\"#E5ECF6\",\"radialaxis\":{\"gridcolor\":\"white\",\"linecolor\":\"white\",\"ticks\":\"\"}},\"scene\":{\"xaxis\":{\"backgroundcolor\":\"#E5ECF6\",\"gridcolor\":\"white\",\"gridwidth\":2,\"linecolor\":\"white\",\"showbackground\":true,\"ticks\":\"\",\"zerolinecolor\":\"white\"},\"yaxis\":{\"backgroundcolor\":\"#E5ECF6\",\"gridcolor\":\"white\",\"gridwidth\":2,\"linecolor\":\"white\",\"showbackground\":true,\"ticks\":\"\",\"zerolinecolor\":\"white\"},\"zaxis\":{\"backgroundcolor\":\"#E5ECF6\",\"gridcolor\":\"white\",\"gridwidth\":2,\"linecolor\":\"white\",\"showbackground\":true,\"ticks\":\"\",\"zerolinecolor\":\"white\"}},\"shapedefaults\":{\"line\":{\"color\":\"#2a3f5f\"}},\"ternary\":{\"aaxis\":{\"gridcolor\":\"white\",\"linecolor\":\"white\",\"ticks\":\"\"},\"baxis\":{\"gridcolor\":\"white\",\"linecolor\":\"white\",\"ticks\":\"\"},\"bgcolor\":\"#E5ECF6\",\"caxis\":{\"gridcolor\":\"white\",\"linecolor\":\"white\",\"ticks\":\"\"}},\"title\":{\"x\":0.05},\"xaxis\":{\"automargin\":true,\"gridcolor\":\"white\",\"linecolor\":\"white\",\"ticks\":\"\",\"title\":{\"standoff\":15},\"zerolinecolor\":\"white\",\"zerolinewidth\":2},\"yaxis\":{\"automargin\":true,\"gridcolor\":\"white\",\"linecolor\":\"white\",\"ticks\":\"\",\"title\":{\"standoff\":15},\"zerolinecolor\":\"white\",\"zerolinewidth\":2}}},\"xaxis\":{\"title\":{\"text\":\"metric\"},\"range\":[-0.30000000000000004,6.3],\"type\":\"category\"},\"yaxis\":{\"title\":{\"text\":\"n_neighbors\"},\"range\":[0.04999999999999993,20.95]}},                        {\"responsive\": true}                    ).then(function(){\n",
              "                            \n",
              "var gd = document.getElementById('4cb70ea6-16d1-4ab8-b819-3cd07a52c9a3');\n",
              "var x = new MutationObserver(function (mutations, observer) {{\n",
              "        var display = window.getComputedStyle(gd).display;\n",
              "        if (!display || display === 'none') {{\n",
              "            console.log([gd, 'removed!']);\n",
              "            Plotly.purge(gd);\n",
              "            observer.disconnect();\n",
              "        }}\n",
              "}});\n",
              "\n",
              "// Listen for the removal of the full notebook cells\n",
              "var notebookContainer = gd.closest('#notebook-container');\n",
              "if (notebookContainer) {{\n",
              "    x.observe(notebookContainer, {childList: true});\n",
              "}}\n",
              "\n",
              "// Listen for the clearing of the current output cell\n",
              "var outputEl = gd.closest('.output');\n",
              "if (outputEl) {{\n",
              "    x.observe(outputEl, {childList: true});\n",
              "}}\n",
              "\n",
              "                        })                };                            </script>        </div>\n",
              "</body>\n",
              "</html>"
            ]
          },
          "metadata": {},
          "output_type": "display_data"
        }
      ],
      "source": [
        "optuna.visualization.plot_contour(study, params=[\"metric\", \"n_neighbors\"])"
      ]
    },
    {
      "attachments": {},
      "cell_type": "markdown",
      "metadata": {},
      "source": [
        "# Conclusão:"
      ]
    }
  ],
  "metadata": {
    "colab": {
      "include_colab_link": true,
      "provenance": []
    },
    "kernelspec": {
      "display_name": "Python 3",
      "name": "python3"
    },
    "language_info": {
      "name": "python"
    }
  },
  "nbformat": 4,
  "nbformat_minor": 0
}
