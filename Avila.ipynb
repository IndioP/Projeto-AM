{
  "nbformat": 4,
  "nbformat_minor": 0,
  "metadata": {
    "colab": {
      "provenance": [],
      "authorship_tag": "ABX9TyMyjfWFNL8mBzCSL6+0V8Og",
      "include_colab_link": true
    },
    "kernelspec": {
      "name": "python3",
      "display_name": "Python 3"
    },
    "language_info": {
      "name": "python"
    }
  },
  "cells": [
    {
      "cell_type": "markdown",
      "metadata": {
        "id": "view-in-github",
        "colab_type": "text"
      },
      "source": [
        "<a href=\"https://colab.research.google.com/github/IndioP/Projeto-AM/blob/main/Avila.ipynb\" target=\"_parent\"><img src=\"https://colab.research.google.com/assets/colab-badge.svg\" alt=\"Open In Colab\"/></a>"
      ]
    },
    {
      "cell_type": "code",
      "source": [
        "!git clone https://github.com/IndioP/Projeto-AM"
      ],
      "metadata": {
        "colab": {
          "base_uri": "https://localhost:8080/"
        },
        "id": "3fowlwl44XDu",
        "outputId": "2411c5f0-5a6a-4796-935a-84b420a180b0"
      },
      "execution_count": 1,
      "outputs": [
        {
          "output_type": "stream",
          "name": "stdout",
          "text": [
            "Cloning into 'Projeto-AM'...\n",
            "remote: Enumerating objects: 5, done.\u001b[K\n",
            "remote: Counting objects: 100% (5/5), done.\u001b[K\n",
            "remote: Compressing objects: 100% (5/5), done.\u001b[K\n",
            "remote: Total 5 (delta 1), reused 0 (delta 0), pack-reused 0\u001b[K\n",
            "Unpacking objects: 100% (5/5), 530.08 KiB | 3.08 MiB/s, done.\n"
          ]
        }
      ]
    },
    {
      "cell_type": "code",
      "source": [
        "import pandas as pd"
      ],
      "metadata": {
        "id": "iorlHYAJKVxz"
      },
      "execution_count": 2,
      "outputs": []
    },
    {
      "cell_type": "code",
      "execution_count": 3,
      "metadata": {
        "id": "h8HjT3TMJzQK"
      },
      "outputs": [],
      "source": [
        "names = ['F1','F2','F3','F4','F5','F6','F7','F8','F9','F10','Class']\n",
        "df = pd.read_csv(\"Projeto-AM/avila-tr.txt\",names = names)"
      ]
    },
    {
      "cell_type": "code",
      "source": [
        "df.head()"
      ],
      "metadata": {
        "colab": {
          "base_uri": "https://localhost:8080/",
          "height": 206
        },
        "id": "Wz9UqFngKnOs",
        "outputId": "2a0698e9-b349-4df4-971a-61b4b10aa4f0"
      },
      "execution_count": 4,
      "outputs": [
        {
          "output_type": "execute_result",
          "data": {
            "text/plain": [
              "         F1        F2        F3        F4        F5        F6        F7  \\\n",
              "0  0.266074 -0.165620  0.320980  0.483299  0.172340  0.273364  0.371178   \n",
              "1  0.130292  0.870736 -3.210528  0.062493  0.261718  1.436060  1.465940   \n",
              "2 -0.116585  0.069915  0.068476 -0.783147  0.261718  0.439463 -0.081827   \n",
              "3  0.031541  0.297600 -3.210528 -0.583590 -0.721442 -0.307984  0.710932   \n",
              "4  0.229043  0.807926 -0.052442  0.082634  0.261718  0.148790  0.635431   \n",
              "\n",
              "         F8        F9       F10 Class  \n",
              "0  0.929823  0.251173  0.159345     A  \n",
              "1  0.636203  0.282354  0.515587     A  \n",
              "2 -0.888236 -0.123005  0.582939     A  \n",
              "3  1.051693  0.594169 -0.533994     A  \n",
              "4  0.051062  0.032902 -0.086652     F  "
            ],
            "text/html": [
              "\n",
              "  <div id=\"df-60828f46-9008-4b28-8441-86d75fcffd9b\">\n",
              "    <div class=\"colab-df-container\">\n",
              "      <div>\n",
              "<style scoped>\n",
              "    .dataframe tbody tr th:only-of-type {\n",
              "        vertical-align: middle;\n",
              "    }\n",
              "\n",
              "    .dataframe tbody tr th {\n",
              "        vertical-align: top;\n",
              "    }\n",
              "\n",
              "    .dataframe thead th {\n",
              "        text-align: right;\n",
              "    }\n",
              "</style>\n",
              "<table border=\"1\" class=\"dataframe\">\n",
              "  <thead>\n",
              "    <tr style=\"text-align: right;\">\n",
              "      <th></th>\n",
              "      <th>F1</th>\n",
              "      <th>F2</th>\n",
              "      <th>F3</th>\n",
              "      <th>F4</th>\n",
              "      <th>F5</th>\n",
              "      <th>F6</th>\n",
              "      <th>F7</th>\n",
              "      <th>F8</th>\n",
              "      <th>F9</th>\n",
              "      <th>F10</th>\n",
              "      <th>Class</th>\n",
              "    </tr>\n",
              "  </thead>\n",
              "  <tbody>\n",
              "    <tr>\n",
              "      <th>0</th>\n",
              "      <td>0.266074</td>\n",
              "      <td>-0.165620</td>\n",
              "      <td>0.320980</td>\n",
              "      <td>0.483299</td>\n",
              "      <td>0.172340</td>\n",
              "      <td>0.273364</td>\n",
              "      <td>0.371178</td>\n",
              "      <td>0.929823</td>\n",
              "      <td>0.251173</td>\n",
              "      <td>0.159345</td>\n",
              "      <td>A</td>\n",
              "    </tr>\n",
              "    <tr>\n",
              "      <th>1</th>\n",
              "      <td>0.130292</td>\n",
              "      <td>0.870736</td>\n",
              "      <td>-3.210528</td>\n",
              "      <td>0.062493</td>\n",
              "      <td>0.261718</td>\n",
              "      <td>1.436060</td>\n",
              "      <td>1.465940</td>\n",
              "      <td>0.636203</td>\n",
              "      <td>0.282354</td>\n",
              "      <td>0.515587</td>\n",
              "      <td>A</td>\n",
              "    </tr>\n",
              "    <tr>\n",
              "      <th>2</th>\n",
              "      <td>-0.116585</td>\n",
              "      <td>0.069915</td>\n",
              "      <td>0.068476</td>\n",
              "      <td>-0.783147</td>\n",
              "      <td>0.261718</td>\n",
              "      <td>0.439463</td>\n",
              "      <td>-0.081827</td>\n",
              "      <td>-0.888236</td>\n",
              "      <td>-0.123005</td>\n",
              "      <td>0.582939</td>\n",
              "      <td>A</td>\n",
              "    </tr>\n",
              "    <tr>\n",
              "      <th>3</th>\n",
              "      <td>0.031541</td>\n",
              "      <td>0.297600</td>\n",
              "      <td>-3.210528</td>\n",
              "      <td>-0.583590</td>\n",
              "      <td>-0.721442</td>\n",
              "      <td>-0.307984</td>\n",
              "      <td>0.710932</td>\n",
              "      <td>1.051693</td>\n",
              "      <td>0.594169</td>\n",
              "      <td>-0.533994</td>\n",
              "      <td>A</td>\n",
              "    </tr>\n",
              "    <tr>\n",
              "      <th>4</th>\n",
              "      <td>0.229043</td>\n",
              "      <td>0.807926</td>\n",
              "      <td>-0.052442</td>\n",
              "      <td>0.082634</td>\n",
              "      <td>0.261718</td>\n",
              "      <td>0.148790</td>\n",
              "      <td>0.635431</td>\n",
              "      <td>0.051062</td>\n",
              "      <td>0.032902</td>\n",
              "      <td>-0.086652</td>\n",
              "      <td>F</td>\n",
              "    </tr>\n",
              "  </tbody>\n",
              "</table>\n",
              "</div>\n",
              "      <button class=\"colab-df-convert\" onclick=\"convertToInteractive('df-60828f46-9008-4b28-8441-86d75fcffd9b')\"\n",
              "              title=\"Convert this dataframe to an interactive table.\"\n",
              "              style=\"display:none;\">\n",
              "        \n",
              "  <svg xmlns=\"http://www.w3.org/2000/svg\" height=\"24px\"viewBox=\"0 0 24 24\"\n",
              "       width=\"24px\">\n",
              "    <path d=\"M0 0h24v24H0V0z\" fill=\"none\"/>\n",
              "    <path d=\"M18.56 5.44l.94 2.06.94-2.06 2.06-.94-2.06-.94-.94-2.06-.94 2.06-2.06.94zm-11 1L8.5 8.5l.94-2.06 2.06-.94-2.06-.94L8.5 2.5l-.94 2.06-2.06.94zm10 10l.94 2.06.94-2.06 2.06-.94-2.06-.94-.94-2.06-.94 2.06-2.06.94z\"/><path d=\"M17.41 7.96l-1.37-1.37c-.4-.4-.92-.59-1.43-.59-.52 0-1.04.2-1.43.59L10.3 9.45l-7.72 7.72c-.78.78-.78 2.05 0 2.83L4 21.41c.39.39.9.59 1.41.59.51 0 1.02-.2 1.41-.59l7.78-7.78 2.81-2.81c.8-.78.8-2.07 0-2.86zM5.41 20L4 18.59l7.72-7.72 1.47 1.35L5.41 20z\"/>\n",
              "  </svg>\n",
              "      </button>\n",
              "      \n",
              "  <style>\n",
              "    .colab-df-container {\n",
              "      display:flex;\n",
              "      flex-wrap:wrap;\n",
              "      gap: 12px;\n",
              "    }\n",
              "\n",
              "    .colab-df-convert {\n",
              "      background-color: #E8F0FE;\n",
              "      border: none;\n",
              "      border-radius: 50%;\n",
              "      cursor: pointer;\n",
              "      display: none;\n",
              "      fill: #1967D2;\n",
              "      height: 32px;\n",
              "      padding: 0 0 0 0;\n",
              "      width: 32px;\n",
              "    }\n",
              "\n",
              "    .colab-df-convert:hover {\n",
              "      background-color: #E2EBFA;\n",
              "      box-shadow: 0px 1px 2px rgba(60, 64, 67, 0.3), 0px 1px 3px 1px rgba(60, 64, 67, 0.15);\n",
              "      fill: #174EA6;\n",
              "    }\n",
              "\n",
              "    [theme=dark] .colab-df-convert {\n",
              "      background-color: #3B4455;\n",
              "      fill: #D2E3FC;\n",
              "    }\n",
              "\n",
              "    [theme=dark] .colab-df-convert:hover {\n",
              "      background-color: #434B5C;\n",
              "      box-shadow: 0px 1px 3px 1px rgba(0, 0, 0, 0.15);\n",
              "      filter: drop-shadow(0px 1px 2px rgba(0, 0, 0, 0.3));\n",
              "      fill: #FFFFFF;\n",
              "    }\n",
              "  </style>\n",
              "\n",
              "      <script>\n",
              "        const buttonEl =\n",
              "          document.querySelector('#df-60828f46-9008-4b28-8441-86d75fcffd9b button.colab-df-convert');\n",
              "        buttonEl.style.display =\n",
              "          google.colab.kernel.accessAllowed ? 'block' : 'none';\n",
              "\n",
              "        async function convertToInteractive(key) {\n",
              "          const element = document.querySelector('#df-60828f46-9008-4b28-8441-86d75fcffd9b');\n",
              "          const dataTable =\n",
              "            await google.colab.kernel.invokeFunction('convertToInteractive',\n",
              "                                                     [key], {});\n",
              "          if (!dataTable) return;\n",
              "\n",
              "          const docLinkHtml = 'Like what you see? Visit the ' +\n",
              "            '<a target=\"_blank\" href=https://colab.research.google.com/notebooks/data_table.ipynb>data table notebook</a>'\n",
              "            + ' to learn more about interactive tables.';\n",
              "          element.innerHTML = '';\n",
              "          dataTable['output_type'] = 'display_data';\n",
              "          await google.colab.output.renderOutput(dataTable, element);\n",
              "          const docLink = document.createElement('div');\n",
              "          docLink.innerHTML = docLinkHtml;\n",
              "          element.appendChild(docLink);\n",
              "        }\n",
              "      </script>\n",
              "    </div>\n",
              "  </div>\n",
              "  "
            ]
          },
          "metadata": {},
          "execution_count": 4
        }
      ]
    },
    {
      "cell_type": "code",
      "source": [
        "from sklearn.model_selection import train_test_split"
      ],
      "metadata": {
        "id": "--9H3OojKpV0"
      },
      "execution_count": 10,
      "outputs": []
    },
    {
      "cell_type": "code",
      "source": [
        "X_train,X_valid,y_train,y_valid = train_test_split(df.drop(\"Class\",axis=1), df[\"Class\"],test_size=0.2)"
      ],
      "metadata": {
        "id": "2INz5S4JK_1N"
      },
      "execution_count": 11,
      "outputs": []
    },
    {
      "cell_type": "code",
      "source": [
        "X_train.shape,y_train.shape,X_valid.shape,y_valid.shape"
      ],
      "metadata": {
        "colab": {
          "base_uri": "https://localhost:8080/"
        },
        "id": "4TIm0U14LQZN",
        "outputId": "cc4a2dee-73dc-42d9-ed2a-4ee04f0196f9"
      },
      "execution_count": 12,
      "outputs": [
        {
          "output_type": "execute_result",
          "data": {
            "text/plain": [
              "((8344, 10), (8344,), (2086, 10), (2086,))"
            ]
          },
          "metadata": {},
          "execution_count": 12
        }
      ]
    },
    {
      "cell_type": "code",
      "source": [
        "from sklearn.tree import DecisionTreeClassifier\n",
        "from sklearn.naive_bayes import GaussianNB\n",
        "from sklearn.linear_model import LogisticRegression\n",
        "from sklearn.neighbors import KNeighborsClassifier"
      ],
      "metadata": {
        "id": "smM-R6KfLSWT"
      },
      "execution_count": 13,
      "outputs": []
    },
    {
      "cell_type": "code",
      "source": [
        "from sklearn.metrics import f1_score,recall_score,precision_score"
      ],
      "metadata": {
        "id": "8SAo3V0qQt-N"
      },
      "execution_count": 14,
      "outputs": []
    },
    {
      "cell_type": "code",
      "source": [
        "df = pd.read_csv(\"Projeto-AM/avila-ts.txt\",names=names)"
      ],
      "metadata": {
        "id": "sRy7rcexMfMx"
      },
      "execution_count": 15,
      "outputs": []
    },
    {
      "cell_type": "code",
      "source": [
        "X_test = df.drop(\"Class\",axis=1)\n",
        "y_test = df[\"Class\"]"
      ],
      "metadata": {
        "id": "YVsQkGq1Qncf"
      },
      "execution_count": 16,
      "outputs": []
    },
    {
      "cell_type": "code",
      "source": [
        "models = [DecisionTreeClassifier, GaussianNB, LogisticRegression, KNeighborsClassifier]\n",
        "models_names = [\"DecisionTreeClassifier\", \"GaussianNB\", \"LogisticRegression\", \"KNeighborsClassifier\"]\n",
        "for model,name in zip(models,models_names):\n",
        "  print(f'model ',name)\n",
        "  clf = model()\n",
        "  clf.fit(X_train,y_train)\n",
        "  \n",
        "  print(\"acuracia =\",clf.score(X_valid,y_valid))\n",
        "  \n",
        "  pred = clf.predict(X_valid)\n",
        "  print(\"f1\",f1_score(pred,y_valid,average=\"weighted\"))\n",
        "  print(\"recall\",recall_score(pred,y_valid,average=\"weighted\"))\n",
        "  print(\"precision\",precision_score(pred,y_valid,average=\"weighted\"))\n",
        "  print(\"-\"*100)"
      ],
      "metadata": {
        "colab": {
          "base_uri": "https://localhost:8080/"
        },
        "id": "lcFB1qdgMEzv",
        "outputId": "824f3f11-a9f8-443e-c20a-0524716e6f54"
      },
      "execution_count": null,
      "outputs": [
        {
          "output_type": "stream",
          "name": "stdout",
          "text": [
            "model  DecisionTreeClassifier\n",
            "acuracia = 0.975071907957814\n",
            "f1 0.9751963107779517\n",
            "recall 0.975071907957814\n",
            "precision 0.9757014863257263\n",
            "----------------------------------------------------------------------------------------------------\n",
            "model  GaussianNB\n",
            "acuracia = 0.28044103547459254\n",
            "f1 0.3086948794381711\n",
            "recall 0.28044103547459254\n",
            "precision 0.5123149354026125\n",
            "----------------------------------------------------------------------------------------------------\n",
            "model  LogisticRegression\n"
          ]
        },
        {
          "output_type": "stream",
          "name": "stderr",
          "text": [
            "/usr/local/lib/python3.8/dist-packages/sklearn/linear_model/_logistic.py:814: ConvergenceWarning: lbfgs failed to converge (status=1):\n",
            "STOP: TOTAL NO. of ITERATIONS REACHED LIMIT.\n",
            "\n",
            "Increase the number of iterations (max_iter) or scale the data as shown in:\n",
            "    https://scikit-learn.org/stable/modules/preprocessing.html\n",
            "Please also refer to the documentation for alternative solver options:\n",
            "    https://scikit-learn.org/stable/modules/linear_model.html#logistic-regression\n",
            "  n_iter_i = _check_optimize_result(\n",
            "/usr/local/lib/python3.8/dist-packages/sklearn/metrics/_classification.py:1318: UndefinedMetricWarning: Recall is ill-defined and being set to 0.0 in labels with no true samples. Use `zero_division` parameter to control this behavior.\n",
            "  _warn_prf(average, modifier, msg_start, len(result))\n"
          ]
        },
        {
          "output_type": "stream",
          "name": "stdout",
          "text": [
            "acuracia = 0.5503355704697986\n",
            "f1 0.6319413275297111\n",
            "recall 0.5503355704697986\n",
            "precision 0.8193301833244239\n",
            "----------------------------------------------------------------------------------------------------\n",
            "model  KNeighborsClassifier\n",
            "acuracia = 0.7018216682646213\n",
            "f1 0.7106669851031273\n",
            "recall 0.7018216682646213\n",
            "precision 0.7375681763153333\n",
            "----------------------------------------------------------------------------------------------------\n"
          ]
        }
      ]
    },
    {
      "cell_type": "code",
      "source": [
        "pred = clf.predict(X_test)\n",
        "print(\"f1\",f1_score(pred,y_test,average=\"weighted\"))\n",
        "print(\"recall\",recall_score(pred,y_test,average=\"weighted\"))\n",
        "print(\"precision\",precision_score(pred,y_test,average=\"weighted\"))"
      ],
      "metadata": {
        "colab": {
          "base_uri": "https://localhost:8080/"
        },
        "id": "Z9VuLxEPQuxL",
        "outputId": "8b5f9fd8-60e3-4f22-f380-4464276a075b"
      },
      "execution_count": null,
      "outputs": [
        {
          "output_type": "stream",
          "name": "stdout",
          "text": [
            "f1 0.7352893756009118\n",
            "recall 0.7290409121395037\n",
            "precision 0.7545241308464905\n"
          ]
        }
      ]
    },
    {
      "cell_type": "code",
      "source": [
        "!pip install optuna"
      ],
      "metadata": {
        "id": "zkZFB8s8SzCL",
        "colab": {
          "base_uri": "https://localhost:8080/"
        },
        "outputId": "bbb2c0f9-87d3-4ffb-d5a5-7aea1caf4c23"
      },
      "execution_count": 9,
      "outputs": [
        {
          "output_type": "stream",
          "name": "stdout",
          "text": [
            "Looking in indexes: https://pypi.org/simple, https://us-python.pkg.dev/colab-wheels/public/simple/\n",
            "Collecting optuna\n",
            "  Downloading optuna-3.1.0-py3-none-any.whl (365 kB)\n",
            "\u001b[2K     \u001b[90m━━━━━━━━━━━━━━━━━━━━━━━━━━━━━━━━━━━━━━\u001b[0m \u001b[32m365.3/365.3 KB\u001b[0m \u001b[31m22.8 MB/s\u001b[0m eta \u001b[36m0:00:00\u001b[0m\n",
            "\u001b[?25hRequirement already satisfied: tqdm in /usr/local/lib/python3.8/dist-packages (from optuna) (4.64.1)\n",
            "Collecting alembic>=1.5.0\n",
            "  Downloading alembic-1.9.3-py3-none-any.whl (210 kB)\n",
            "\u001b[2K     \u001b[90m━━━━━━━━━━━━━━━━━━━━━━━━━━━━━━━━━━━━━━\u001b[0m \u001b[32m210.6/210.6 KB\u001b[0m \u001b[31m28.7 MB/s\u001b[0m eta \u001b[36m0:00:00\u001b[0m\n",
            "\u001b[?25hCollecting colorlog\n",
            "  Downloading colorlog-6.7.0-py2.py3-none-any.whl (11 kB)\n",
            "Requirement already satisfied: packaging>=20.0 in /usr/local/lib/python3.8/dist-packages (from optuna) (23.0)\n",
            "Requirement already satisfied: numpy in /usr/local/lib/python3.8/dist-packages (from optuna) (1.21.6)\n",
            "Collecting cmaes>=0.9.1\n",
            "  Downloading cmaes-0.9.1-py3-none-any.whl (21 kB)\n",
            "Requirement already satisfied: sqlalchemy>=1.3.0 in /usr/local/lib/python3.8/dist-packages (from optuna) (1.4.46)\n",
            "Requirement already satisfied: PyYAML in /usr/local/lib/python3.8/dist-packages (from optuna) (6.0)\n",
            "Requirement already satisfied: importlib-resources in /usr/local/lib/python3.8/dist-packages (from alembic>=1.5.0->optuna) (5.10.2)\n",
            "Requirement already satisfied: importlib-metadata in /usr/local/lib/python3.8/dist-packages (from alembic>=1.5.0->optuna) (6.0.0)\n",
            "Collecting Mako\n",
            "  Downloading Mako-1.2.4-py3-none-any.whl (78 kB)\n",
            "\u001b[2K     \u001b[90m━━━━━━━━━━━━━━━━━━━━━━━━━━━━━━━━━━━━━━━━\u001b[0m \u001b[32m78.7/78.7 KB\u001b[0m \u001b[31m6.3 MB/s\u001b[0m eta \u001b[36m0:00:00\u001b[0m\n",
            "\u001b[?25hRequirement already satisfied: greenlet!=0.4.17 in /usr/local/lib/python3.8/dist-packages (from sqlalchemy>=1.3.0->optuna) (2.0.2)\n",
            "Requirement already satisfied: zipp>=0.5 in /usr/local/lib/python3.8/dist-packages (from importlib-metadata->alembic>=1.5.0->optuna) (3.12.1)\n",
            "Requirement already satisfied: MarkupSafe>=0.9.2 in /usr/local/lib/python3.8/dist-packages (from Mako->alembic>=1.5.0->optuna) (2.0.1)\n",
            "Installing collected packages: Mako, colorlog, cmaes, alembic, optuna\n",
            "Successfully installed Mako-1.2.4 alembic-1.9.3 cmaes-0.9.1 colorlog-6.7.0 optuna-3.1.0\n"
          ]
        }
      ]
    },
    {
      "cell_type": "markdown",
      "source": [
        "# DecisionTreeClassifier parameters"
      ],
      "metadata": {
        "id": "ykbMCvn_8SDY"
      }
    },
    {
      "cell_type": "code",
      "source": [
        "criterion = \"gini\" #What is the criterion used for the split\n",
        "#There is an scientific paper comparing gini and entropy and they diverge in only 2% of the cases, but entropy is a little slower because of logarithm\n",
        "\n",
        "splitter = \"best\" #The strategy used to choose the split at each node\n",
        "#If the model is suffering from overfitting we can change it to random, to avoid this fate\n",
        "\n",
        "max_depth = None #can be None to go forever till purity beeing achieved\n",
        "\n",
        "min_samples_split = 2 #if int, it is the minimal number to make a split\n",
        "                      #if float, it is the min_samples_split * n_samples\n",
        "\n",
        "min_samples_leaf = 1 #int, float\n",
        "\n",
        "#min_weight_fraction_leaf = \n",
        "\n",
        "max_features = None #there are few features, so I think"
      ],
      "metadata": {
        "id": "fqHEoNio6Y9Z"
      },
      "execution_count": 7,
      "outputs": []
    },
    {
      "cell_type": "code",
      "source": [
        "from sklearn.utils.extmath import weighted_mode\n",
        "import optuna\n",
        "\n",
        "\n",
        "\n",
        "def objective(trial):\n",
        "    min_samples_split = trial.suggest_int(\"min_samples_split\",2,50)\n",
        "    min_samples_leaf = trial.suggest_int(\"min_samples_leaf\",1,30)\n",
        "    \n",
        "    clf = DecisionTreeClassifier(\n",
        "                                #criterion=criterion,\n",
        "                                #splitter=splitter,\n",
        "                                min_samples_split=min_samples_split,\n",
        "                                #max_depth=max_depth, \n",
        "                                #min_samples_leaf=min_samples_leaf, \n",
        "                                max_features=max_features\n",
        "                                )\n",
        "    clf.fit(X_train,y_train)\n",
        "    pred = clf.predict(X_valid)\n",
        "    return f1_score(pred,y_valid,average=\"weighted\")\n",
        "\n",
        "study = optuna.create_study(direction=\"maximize\")\n",
        "study.optimize(objective, n_trials=100)\n",
        "\n",
        "print(study.best_params)"
      ],
      "metadata": {
        "colab": {
          "base_uri": "https://localhost:8080/",
          "height": 1000
        },
        "id": "tMxekoKYHO3g",
        "outputId": "a4c986fe-6a97-4ecb-e301-a056bf309ca1"
      },
      "execution_count": 42,
      "outputs": [
        {
          "output_type": "stream",
          "name": "stderr",
          "text": [
            "\u001b[32m[I 2023-02-15 04:07:26,558]\u001b[0m A new study created in memory with name: no-name-3563c78c-f2aa-4ab2-a811-0b76dbfe3271\u001b[0m\n",
            "\u001b[32m[I 2023-02-15 04:07:26,653]\u001b[0m Trial 0 finished with value: 0.7843459221056069 and parameters: {'min_samples_split': 29, 'min_samples_leaf': 30}. Best is trial 0 with value: 0.7843459221056069.\u001b[0m\n",
            "\u001b[32m[I 2023-02-15 04:07:26,734]\u001b[0m Trial 1 finished with value: 0.8168443551952949 and parameters: {'min_samples_split': 19, 'min_samples_leaf': 27}. Best is trial 1 with value: 0.8168443551952949.\u001b[0m\n",
            "\u001b[32m[I 2023-02-15 04:07:26,838]\u001b[0m Trial 2 finished with value: 0.7726110571160898 and parameters: {'min_samples_split': 30, 'min_samples_leaf': 21}. Best is trial 1 with value: 0.8168443551952949.\u001b[0m\n",
            "\u001b[32m[I 2023-02-15 04:07:26,940]\u001b[0m Trial 3 finished with value: 0.819542710821096 and parameters: {'min_samples_split': 47, 'min_samples_leaf': 11}. Best is trial 3 with value: 0.819542710821096.\u001b[0m\n",
            "\u001b[32m[I 2023-02-15 04:07:27,022]\u001b[0m Trial 4 finished with value: 0.8378032043142403 and parameters: {'min_samples_split': 16, 'min_samples_leaf': 29}. Best is trial 4 with value: 0.8378032043142403.\u001b[0m\n",
            "\u001b[32m[I 2023-02-15 04:07:27,114]\u001b[0m Trial 5 finished with value: 0.8983826009912003 and parameters: {'min_samples_split': 10, 'min_samples_leaf': 23}. Best is trial 5 with value: 0.8983826009912003.\u001b[0m\n",
            "\u001b[32m[I 2023-02-15 04:07:27,196]\u001b[0m Trial 6 finished with value: 0.7377471405747401 and parameters: {'min_samples_split': 49, 'min_samples_leaf': 5}. Best is trial 5 with value: 0.8983826009912003.\u001b[0m\n",
            "\u001b[32m[I 2023-02-15 04:07:27,311]\u001b[0m Trial 7 finished with value: 0.796624544038386 and parameters: {'min_samples_split': 24, 'min_samples_leaf': 24}. Best is trial 5 with value: 0.8983826009912003.\u001b[0m\n",
            "\u001b[32m[I 2023-02-15 04:07:27,395]\u001b[0m Trial 8 finished with value: 0.7599284386820786 and parameters: {'min_samples_split': 26, 'min_samples_leaf': 20}. Best is trial 5 with value: 0.8983826009912003.\u001b[0m\n",
            "\u001b[32m[I 2023-02-15 04:07:27,496]\u001b[0m Trial 9 finished with value: 0.8322599581554234 and parameters: {'min_samples_split': 19, 'min_samples_leaf': 18}. Best is trial 5 with value: 0.8983826009912003.\u001b[0m\n",
            "\u001b[32m[I 2023-02-15 04:07:27,561]\u001b[0m Trial 10 finished with value: 0.8697655666950369 and parameters: {'min_samples_split': 2, 'min_samples_leaf': 11}. Best is trial 5 with value: 0.8983826009912003.\u001b[0m\n",
            "\u001b[32m[I 2023-02-15 04:07:27,640]\u001b[0m Trial 11 finished with value: 0.9121581618247794 and parameters: {'min_samples_split': 2, 'min_samples_leaf': 12}. Best is trial 11 with value: 0.9121581618247794.\u001b[0m\n",
            "\u001b[32m[I 2023-02-15 04:07:27,703]\u001b[0m Trial 12 finished with value: 0.9176946747493967 and parameters: {'min_samples_split': 3, 'min_samples_leaf': 12}. Best is trial 12 with value: 0.9176946747493967.\u001b[0m\n",
            "\u001b[32m[I 2023-02-15 04:07:27,765]\u001b[0m Trial 13 finished with value: 0.9184975579368152 and parameters: {'min_samples_split': 5, 'min_samples_leaf': 13}. Best is trial 13 with value: 0.9184975579368152.\u001b[0m\n",
            "\u001b[32m[I 2023-02-15 04:07:27,832]\u001b[0m Trial 14 finished with value: 0.8967161396136742 and parameters: {'min_samples_split': 9, 'min_samples_leaf': 4}. Best is trial 13 with value: 0.9184975579368152.\u001b[0m\n",
            "\u001b[32m[I 2023-02-15 04:07:27,895]\u001b[0m Trial 15 finished with value: 0.8693958516874004 and parameters: {'min_samples_split': 11, 'min_samples_leaf': 14}. Best is trial 13 with value: 0.9184975579368152.\u001b[0m\n",
            "\u001b[32m[I 2023-02-15 04:07:27,956]\u001b[0m Trial 16 finished with value: 0.7803250451835014 and parameters: {'min_samples_split': 39, 'min_samples_leaf': 8}. Best is trial 13 with value: 0.9184975579368152.\u001b[0m\n",
            "\u001b[32m[I 2023-02-15 04:07:28,022]\u001b[0m Trial 17 finished with value: 0.8896754060345419 and parameters: {'min_samples_split': 7, 'min_samples_leaf': 1}. Best is trial 13 with value: 0.9184975579368152.\u001b[0m\n",
            "\u001b[32m[I 2023-02-15 04:07:28,086]\u001b[0m Trial 18 finished with value: 0.835827311055261 and parameters: {'min_samples_split': 14, 'min_samples_leaf': 17}. Best is trial 13 with value: 0.9184975579368152.\u001b[0m\n",
            "\u001b[32m[I 2023-02-15 04:07:28,149]\u001b[0m Trial 19 finished with value: 0.9159632902696407 and parameters: {'min_samples_split': 6, 'min_samples_leaf': 8}. Best is trial 13 with value: 0.9184975579368152.\u001b[0m\n",
            "\u001b[32m[I 2023-02-15 04:07:28,215]\u001b[0m Trial 20 finished with value: 0.8208155033615895 and parameters: {'min_samples_split': 38, 'min_samples_leaf': 14}. Best is trial 13 with value: 0.9184975579368152.\u001b[0m\n",
            "\u001b[32m[I 2023-02-15 04:07:28,278]\u001b[0m Trial 21 finished with value: 0.885939185863027 and parameters: {'min_samples_split': 4, 'min_samples_leaf': 8}. Best is trial 13 with value: 0.9184975579368152.\u001b[0m\n",
            "\u001b[32m[I 2023-02-15 04:07:28,347]\u001b[0m Trial 22 finished with value: 0.8955408364690806 and parameters: {'min_samples_split': 6, 'min_samples_leaf': 8}. Best is trial 13 with value: 0.9184975579368152.\u001b[0m\n",
            "\u001b[32m[I 2023-02-15 04:07:28,413]\u001b[0m Trial 23 finished with value: 0.8065810780203241 and parameters: {'min_samples_split': 14, 'min_samples_leaf': 15}. Best is trial 13 with value: 0.9184975579368152.\u001b[0m\n",
            "\u001b[32m[I 2023-02-15 04:07:28,474]\u001b[0m Trial 24 finished with value: 0.9188176141651655 and parameters: {'min_samples_split': 8, 'min_samples_leaf': 5}. Best is trial 24 with value: 0.9188176141651655.\u001b[0m\n",
            "\u001b[32m[I 2023-02-15 04:07:28,542]\u001b[0m Trial 25 finished with value: 0.8283576263980816 and parameters: {'min_samples_split': 12, 'min_samples_leaf': 4}. Best is trial 24 with value: 0.9188176141651655.\u001b[0m\n",
            "\u001b[32m[I 2023-02-15 04:07:28,608]\u001b[0m Trial 26 finished with value: 0.8615197485122653 and parameters: {'min_samples_split': 7, 'min_samples_leaf': 2}. Best is trial 24 with value: 0.9188176141651655.\u001b[0m\n",
            "\u001b[32m[I 2023-02-15 04:07:28,677]\u001b[0m Trial 27 finished with value: 0.7943686672286246 and parameters: {'min_samples_split': 19, 'min_samples_leaf': 10}. Best is trial 24 with value: 0.9188176141651655.\u001b[0m\n",
            "\u001b[32m[I 2023-02-15 04:07:28,745]\u001b[0m Trial 28 finished with value: 0.937848534409317 and parameters: {'min_samples_split': 3, 'min_samples_leaf': 6}. Best is trial 28 with value: 0.937848534409317.\u001b[0m\n",
            "\u001b[32m[I 2023-02-15 04:07:28,807]\u001b[0m Trial 29 finished with value: 0.778501667946242 and parameters: {'min_samples_split': 34, 'min_samples_leaf': 6}. Best is trial 28 with value: 0.937848534409317.\u001b[0m\n",
            "\u001b[32m[I 2023-02-15 04:07:28,870]\u001b[0m Trial 30 finished with value: 0.78730987992175 and parameters: {'min_samples_split': 23, 'min_samples_leaf': 3}. Best is trial 28 with value: 0.937848534409317.\u001b[0m\n",
            "\u001b[32m[I 2023-02-15 04:07:28,936]\u001b[0m Trial 31 finished with value: 0.891646927924455 and parameters: {'min_samples_split': 4, 'min_samples_leaf': 6}. Best is trial 28 with value: 0.937848534409317.\u001b[0m\n",
            "\u001b[32m[I 2023-02-15 04:07:29,009]\u001b[0m Trial 32 finished with value: 0.8086400151959237 and parameters: {'min_samples_split': 2, 'min_samples_leaf': 13}. Best is trial 28 with value: 0.937848534409317.\u001b[0m\n",
            "\u001b[32m[I 2023-02-15 04:07:29,072]\u001b[0m Trial 33 finished with value: 0.8986220071165432 and parameters: {'min_samples_split': 9, 'min_samples_leaf': 10}. Best is trial 28 with value: 0.937848534409317.\u001b[0m\n",
            "\u001b[32m[I 2023-02-15 04:07:29,135]\u001b[0m Trial 34 finished with value: 0.9386846080389991 and parameters: {'min_samples_split': 5, 'min_samples_leaf': 17}. Best is trial 34 with value: 0.9386846080389991.\u001b[0m\n",
            "\u001b[32m[I 2023-02-15 04:07:29,197]\u001b[0m Trial 35 finished with value: 0.8887107285817566 and parameters: {'min_samples_split': 14, 'min_samples_leaf': 17}. Best is trial 34 with value: 0.9386846080389991.\u001b[0m\n",
            "\u001b[32m[I 2023-02-15 04:07:29,261]\u001b[0m Trial 36 finished with value: 0.8346216893292189 and parameters: {'min_samples_split': 17, 'min_samples_leaf': 19}. Best is trial 34 with value: 0.9386846080389991.\u001b[0m\n",
            "\u001b[32m[I 2023-02-15 04:07:29,329]\u001b[0m Trial 37 finished with value: 0.8338344511625345 and parameters: {'min_samples_split': 8, 'min_samples_leaf': 16}. Best is trial 34 with value: 0.9386846080389991.\u001b[0m\n",
            "\u001b[32m[I 2023-02-15 04:07:29,397]\u001b[0m Trial 38 finished with value: 0.8274142610920349 and parameters: {'min_samples_split': 12, 'min_samples_leaf': 27}. Best is trial 34 with value: 0.9386846080389991.\u001b[0m\n",
            "\u001b[32m[I 2023-02-15 04:07:29,462]\u001b[0m Trial 39 finished with value: 0.855907623611843 and parameters: {'min_samples_split': 5, 'min_samples_leaf': 6}. Best is trial 34 with value: 0.9386846080389991.\u001b[0m\n",
            "\u001b[32m[I 2023-02-15 04:07:29,523]\u001b[0m Trial 40 finished with value: 0.858384313609643 and parameters: {'min_samples_split': 10, 'min_samples_leaf': 22}. Best is trial 34 with value: 0.9386846080389991.\u001b[0m\n",
            "\u001b[32m[I 2023-02-15 04:07:29,589]\u001b[0m Trial 41 finished with value: 0.8883972018895755 and parameters: {'min_samples_split': 3, 'min_samples_leaf': 10}. Best is trial 34 with value: 0.9386846080389991.\u001b[0m\n",
            "\u001b[32m[I 2023-02-15 04:07:29,667]\u001b[0m Trial 42 finished with value: 0.8481463455586881 and parameters: {'min_samples_split': 5, 'min_samples_leaf': 13}. Best is trial 34 with value: 0.9386846080389991.\u001b[0m\n",
            "\u001b[32m[I 2023-02-15 04:07:29,733]\u001b[0m Trial 43 finished with value: 0.8978478589719441 and parameters: {'min_samples_split': 2, 'min_samples_leaf': 19}. Best is trial 34 with value: 0.9386846080389991.\u001b[0m\n",
            "\u001b[32m[I 2023-02-15 04:07:29,795]\u001b[0m Trial 44 finished with value: 0.8807577159285919 and parameters: {'min_samples_split': 8, 'min_samples_leaf': 12}. Best is trial 34 with value: 0.9386846080389991.\u001b[0m\n",
            "\u001b[32m[I 2023-02-15 04:07:29,857]\u001b[0m Trial 45 finished with value: 0.9197459716213855 and parameters: {'min_samples_split': 5, 'min_samples_leaf': 24}. Best is trial 34 with value: 0.9386846080389991.\u001b[0m\n",
            "\u001b[32m[I 2023-02-15 04:07:29,918]\u001b[0m Trial 46 finished with value: 0.8349142938325756 and parameters: {'min_samples_split': 30, 'min_samples_leaf': 26}. Best is trial 34 with value: 0.9386846080389991.\u001b[0m\n",
            "\u001b[32m[I 2023-02-15 04:07:29,988]\u001b[0m Trial 47 finished with value: 0.8025753056719369 and parameters: {'min_samples_split': 11, 'min_samples_leaf': 30}. Best is trial 34 with value: 0.9386846080389991.\u001b[0m\n",
            "\u001b[32m[I 2023-02-15 04:07:30,052]\u001b[0m Trial 48 finished with value: 0.8464007522857222 and parameters: {'min_samples_split': 22, 'min_samples_leaf': 23}. Best is trial 34 with value: 0.9386846080389991.\u001b[0m\n",
            "\u001b[32m[I 2023-02-15 04:07:30,112]\u001b[0m Trial 49 finished with value: 0.8216606502758688 and parameters: {'min_samples_split': 46, 'min_samples_leaf': 25}. Best is trial 34 with value: 0.9386846080389991.\u001b[0m\n",
            "\u001b[32m[I 2023-02-15 04:07:30,177]\u001b[0m Trial 50 finished with value: 0.7650521401987909 and parameters: {'min_samples_split': 27, 'min_samples_leaf': 20}. Best is trial 34 with value: 0.9386846080389991.\u001b[0m\n",
            "\u001b[32m[I 2023-02-15 04:07:30,247]\u001b[0m Trial 51 finished with value: 0.848142447419447 and parameters: {'min_samples_split': 4, 'min_samples_leaf': 15}. Best is trial 34 with value: 0.9386846080389991.\u001b[0m\n",
            "\u001b[32m[I 2023-02-15 04:07:30,312]\u001b[0m Trial 52 finished with value: 0.8591007546170967 and parameters: {'min_samples_split': 6, 'min_samples_leaf': 9}. Best is trial 34 with value: 0.9386846080389991.\u001b[0m\n",
            "\u001b[32m[I 2023-02-15 04:07:30,376]\u001b[0m Trial 53 finished with value: 0.8801455474729694 and parameters: {'min_samples_split': 8, 'min_samples_leaf': 5}. Best is trial 34 with value: 0.9386846080389991.\u001b[0m\n",
            "\u001b[32m[I 2023-02-15 04:07:30,442]\u001b[0m Trial 54 finished with value: 0.8204068325892546 and parameters: {'min_samples_split': 2, 'min_samples_leaf': 21}. Best is trial 34 with value: 0.9386846080389991.\u001b[0m\n",
            "\u001b[32m[I 2023-02-15 04:07:30,506]\u001b[0m Trial 55 finished with value: 0.8871668955670241 and parameters: {'min_samples_split': 5, 'min_samples_leaf': 7}. Best is trial 34 with value: 0.9386846080389991.\u001b[0m\n",
            "\u001b[32m[I 2023-02-15 04:07:30,574]\u001b[0m Trial 56 finished with value: 0.8931826381158067 and parameters: {'min_samples_split': 10, 'min_samples_leaf': 1}. Best is trial 34 with value: 0.9386846080389991.\u001b[0m\n",
            "\u001b[32m[I 2023-02-15 04:07:30,641]\u001b[0m Trial 57 finished with value: 0.8711603713335375 and parameters: {'min_samples_split': 7, 'min_samples_leaf': 12}. Best is trial 34 with value: 0.9386846080389991.\u001b[0m\n",
            "\u001b[32m[I 2023-02-15 04:07:30,712]\u001b[0m Trial 58 finished with value: 0.8961809633870416 and parameters: {'min_samples_split': 13, 'min_samples_leaf': 16}. Best is trial 34 with value: 0.9386846080389991.\u001b[0m\n",
            "\u001b[32m[I 2023-02-15 04:07:30,777]\u001b[0m Trial 59 finished with value: 0.7695713324362432 and parameters: {'min_samples_split': 17, 'min_samples_leaf': 4}. Best is trial 34 with value: 0.9386846080389991.\u001b[0m\n",
            "\u001b[32m[I 2023-02-15 04:07:30,841]\u001b[0m Trial 60 finished with value: 0.9161470791820648 and parameters: {'min_samples_split': 4, 'min_samples_leaf': 11}. Best is trial 34 with value: 0.9386846080389991.\u001b[0m\n",
            "\u001b[32m[I 2023-02-15 04:07:30,906]\u001b[0m Trial 61 finished with value: 0.9205781735964249 and parameters: {'min_samples_split': 4, 'min_samples_leaf': 14}. Best is trial 34 with value: 0.9386846080389991.\u001b[0m\n",
            "\u001b[32m[I 2023-02-15 04:07:30,978]\u001b[0m Trial 62 finished with value: 0.8728786638506588 and parameters: {'min_samples_split': 6, 'min_samples_leaf': 14}. Best is trial 34 with value: 0.9386846080389991.\u001b[0m\n",
            "\u001b[32m[I 2023-02-15 04:07:31,044]\u001b[0m Trial 63 finished with value: 0.9100174084935634 and parameters: {'min_samples_split': 3, 'min_samples_leaf': 28}. Best is trial 34 with value: 0.9386846080389991.\u001b[0m\n",
            "\u001b[32m[I 2023-02-15 04:07:31,108]\u001b[0m Trial 64 finished with value: 0.8515891855831731 and parameters: {'min_samples_split': 9, 'min_samples_leaf': 13}. Best is trial 34 with value: 0.9386846080389991.\u001b[0m\n",
            "\u001b[32m[I 2023-02-15 04:07:31,172]\u001b[0m Trial 65 finished with value: 0.9172448031401579 and parameters: {'min_samples_split': 4, 'min_samples_leaf': 17}. Best is trial 34 with value: 0.9386846080389991.\u001b[0m\n",
            "\u001b[32m[I 2023-02-15 04:07:31,237]\u001b[0m Trial 66 finished with value: 0.8837881949811053 and parameters: {'min_samples_split': 7, 'min_samples_leaf': 9}. Best is trial 34 with value: 0.9386846080389991.\u001b[0m\n",
            "\u001b[32m[I 2023-02-15 04:07:31,300]\u001b[0m Trial 67 finished with value: 0.8986229642776818 and parameters: {'min_samples_split': 2, 'min_samples_leaf': 18}. Best is trial 34 with value: 0.9386846080389991.\u001b[0m\n",
            "\u001b[32m[I 2023-02-15 04:07:31,374]\u001b[0m Trial 68 finished with value: 0.8587028633505395 and parameters: {'min_samples_split': 10, 'min_samples_leaf': 3}. Best is trial 34 with value: 0.9386846080389991.\u001b[0m\n",
            "\u001b[32m[I 2023-02-15 04:07:31,436]\u001b[0m Trial 69 finished with value: 0.912563165775666 and parameters: {'min_samples_split': 6, 'min_samples_leaf': 15}. Best is trial 34 with value: 0.9386846080389991.\u001b[0m\n",
            "\u001b[32m[I 2023-02-15 04:07:31,500]\u001b[0m Trial 70 finished with value: 0.8026572813867979 and parameters: {'min_samples_split': 33, 'min_samples_leaf': 11}. Best is trial 34 with value: 0.9386846080389991.\u001b[0m\n",
            "\u001b[32m[I 2023-02-15 04:07:31,564]\u001b[0m Trial 71 finished with value: 0.8692253512427031 and parameters: {'min_samples_split': 4, 'min_samples_leaf': 17}. Best is trial 34 with value: 0.9386846080389991.\u001b[0m\n",
            "\u001b[32m[I 2023-02-15 04:07:31,632]\u001b[0m Trial 72 finished with value: 0.8766582872537502 and parameters: {'min_samples_split': 3, 'min_samples_leaf': 14}. Best is trial 34 with value: 0.9386846080389991.\u001b[0m\n",
            "\u001b[32m[I 2023-02-15 04:07:31,698]\u001b[0m Trial 73 finished with value: 0.8715086147020302 and parameters: {'min_samples_split': 5, 'min_samples_leaf': 18}. Best is trial 34 with value: 0.9386846080389991.\u001b[0m\n",
            "\u001b[32m[I 2023-02-15 04:07:31,776]\u001b[0m Trial 74 finished with value: 0.8642800683718458 and parameters: {'min_samples_split': 8, 'min_samples_leaf': 7}. Best is trial 34 with value: 0.9386846080389991.\u001b[0m\n",
            "\u001b[32m[I 2023-02-15 04:07:31,843]\u001b[0m Trial 75 finished with value: 0.8455730992244 and parameters: {'min_samples_split': 3, 'min_samples_leaf': 16}. Best is trial 34 with value: 0.9386846080389991.\u001b[0m\n",
            "\u001b[32m[I 2023-02-15 04:07:31,909]\u001b[0m Trial 76 finished with value: 0.9211374415832474 and parameters: {'min_samples_split': 5, 'min_samples_leaf': 19}. Best is trial 34 with value: 0.9386846080389991.\u001b[0m\n",
            "\u001b[32m[I 2023-02-15 04:07:31,972]\u001b[0m Trial 77 finished with value: 0.8854605111929685 and parameters: {'min_samples_split': 7, 'min_samples_leaf': 23}. Best is trial 34 with value: 0.9386846080389991.\u001b[0m\n",
            "\u001b[32m[I 2023-02-15 04:07:32,041]\u001b[0m Trial 78 finished with value: 0.8311647844323755 and parameters: {'min_samples_split': 11, 'min_samples_leaf': 21}. Best is trial 34 with value: 0.9386846080389991.\u001b[0m\n",
            "\u001b[32m[I 2023-02-15 04:07:32,110]\u001b[0m Trial 79 finished with value: 0.8971147371847987 and parameters: {'min_samples_split': 5, 'min_samples_leaf': 19}. Best is trial 34 with value: 0.9386846080389991.\u001b[0m\n",
            "\u001b[32m[I 2023-02-15 04:07:32,182]\u001b[0m Trial 80 finished with value: 0.8162095010141032 and parameters: {'min_samples_split': 15, 'min_samples_leaf': 13}. Best is trial 34 with value: 0.9386846080389991.\u001b[0m\n",
            "\u001b[32m[I 2023-02-15 04:07:32,251]\u001b[0m Trial 81 finished with value: 0.8734667570222227 and parameters: {'min_samples_split': 4, 'min_samples_leaf': 17}. Best is trial 34 with value: 0.9386846080389991.\u001b[0m\n",
            "\u001b[32m[I 2023-02-15 04:07:32,317]\u001b[0m Trial 82 finished with value: 0.8543114178632089 and parameters: {'min_samples_split': 6, 'min_samples_leaf': 20}. Best is trial 34 with value: 0.9386846080389991.\u001b[0m\n",
            "\u001b[32m[I 2023-02-15 04:07:32,380]\u001b[0m Trial 83 finished with value: 0.9232209000830834 and parameters: {'min_samples_split': 2, 'min_samples_leaf': 24}. Best is trial 34 with value: 0.9386846080389991.\u001b[0m\n",
            "\u001b[32m[I 2023-02-15 04:07:32,451]\u001b[0m Trial 84 finished with value: 0.8746708803957146 and parameters: {'min_samples_split': 2, 'min_samples_leaf': 25}. Best is trial 34 with value: 0.9386846080389991.\u001b[0m\n",
            "\u001b[32m[I 2023-02-15 04:07:32,519]\u001b[0m Trial 85 finished with value: 0.8822750030618746 and parameters: {'min_samples_split': 3, 'min_samples_leaf': 24}. Best is trial 34 with value: 0.9386846080389991.\u001b[0m\n",
            "\u001b[32m[I 2023-02-15 04:07:32,587]\u001b[0m Trial 86 finished with value: 0.8936826363439405 and parameters: {'min_samples_split': 8, 'min_samples_leaf': 22}. Best is trial 34 with value: 0.9386846080389991.\u001b[0m\n",
            "\u001b[32m[I 2023-02-15 04:07:32,652]\u001b[0m Trial 87 finished with value: 0.917355963892441 and parameters: {'min_samples_split': 9, 'min_samples_leaf': 27}. Best is trial 34 with value: 0.9386846080389991.\u001b[0m\n",
            "\u001b[32m[I 2023-02-15 04:07:32,723]\u001b[0m Trial 88 finished with value: 0.9075018458258829 and parameters: {'min_samples_split': 2, 'min_samples_leaf': 14}. Best is trial 34 with value: 0.9386846080389991.\u001b[0m\n",
            "\u001b[32m[I 2023-02-15 04:07:32,798]\u001b[0m Trial 89 finished with value: 0.9107369848846212 and parameters: {'min_samples_split': 6, 'min_samples_leaf': 5}. Best is trial 34 with value: 0.9386846080389991.\u001b[0m\n",
            "\u001b[32m[I 2023-02-15 04:07:32,865]\u001b[0m Trial 90 finished with value: 0.8625304751456109 and parameters: {'min_samples_split': 5, 'min_samples_leaf': 24}. Best is trial 34 with value: 0.9386846080389991.\u001b[0m\n",
            "\u001b[32m[I 2023-02-15 04:07:32,933]\u001b[0m Trial 91 finished with value: 0.8447288789080596 and parameters: {'min_samples_split': 9, 'min_samples_leaf': 27}. Best is trial 34 with value: 0.9386846080389991.\u001b[0m\n",
            "\u001b[32m[I 2023-02-15 04:07:33,002]\u001b[0m Trial 92 finished with value: 0.8691771986019854 and parameters: {'min_samples_split': 7, 'min_samples_leaf': 29}. Best is trial 34 with value: 0.9386846080389991.\u001b[0m\n",
            "\u001b[32m[I 2023-02-15 04:07:33,070]\u001b[0m Trial 93 finished with value: 0.8625526173767251 and parameters: {'min_samples_split': 9, 'min_samples_leaf': 27}. Best is trial 34 with value: 0.9386846080389991.\u001b[0m\n",
            "\u001b[32m[I 2023-02-15 04:07:33,141]\u001b[0m Trial 94 finished with value: 0.837315575132575 and parameters: {'min_samples_split': 12, 'min_samples_leaf': 25}. Best is trial 34 with value: 0.9386846080389991.\u001b[0m\n",
            "\u001b[32m[I 2023-02-15 04:07:33,208]\u001b[0m Trial 95 finished with value: 0.7541562047629047 and parameters: {'min_samples_split': 43, 'min_samples_leaf': 26}. Best is trial 34 with value: 0.9386846080389991.\u001b[0m\n",
            "\u001b[32m[I 2023-02-15 04:07:33,279]\u001b[0m Trial 96 finished with value: 0.8616680908766987 and parameters: {'min_samples_split': 3, 'min_samples_leaf': 26}. Best is trial 34 with value: 0.9386846080389991.\u001b[0m\n",
            "\u001b[32m[I 2023-02-15 04:07:33,350]\u001b[0m Trial 97 finished with value: 0.8473291642335091 and parameters: {'min_samples_split': 5, 'min_samples_leaf': 29}. Best is trial 34 with value: 0.9386846080389991.\u001b[0m\n",
            "\u001b[32m[I 2023-02-15 04:07:33,419]\u001b[0m Trial 98 finished with value: 0.8580655630979356 and parameters: {'min_samples_split': 4, 'min_samples_leaf': 11}. Best is trial 34 with value: 0.9386846080389991.\u001b[0m\n",
            "\u001b[32m[I 2023-02-15 04:07:33,485]\u001b[0m Trial 99 finished with value: 0.9047679334793162 and parameters: {'min_samples_split': 7, 'min_samples_leaf': 15}. Best is trial 34 with value: 0.9386846080389991.\u001b[0m\n",
            "\u001b[32m[I 2023-02-15 04:07:33,557]\u001b[0m Trial 100 finished with value: 0.8252563482363837 and parameters: {'min_samples_split': 11, 'min_samples_leaf': 28}. Best is trial 34 with value: 0.9386846080389991.\u001b[0m\n",
            "\u001b[32m[I 2023-02-15 04:07:33,628]\u001b[0m Trial 101 finished with value: 0.8851281151069544 and parameters: {'min_samples_split': 4, 'min_samples_leaf': 18}. Best is trial 34 with value: 0.9386846080389991.\u001b[0m\n",
            "\u001b[32m[I 2023-02-15 04:07:33,695]\u001b[0m Trial 102 finished with value: 0.9144997955541839 and parameters: {'min_samples_split': 2, 'min_samples_leaf': 2}. Best is trial 34 with value: 0.9386846080389991.\u001b[0m\n",
            "\u001b[32m[I 2023-02-15 04:07:33,770]\u001b[0m Trial 103 finished with value: 0.8822634375742169 and parameters: {'min_samples_split': 5, 'min_samples_leaf': 22}. Best is trial 34 with value: 0.9386846080389991.\u001b[0m\n",
            "\u001b[32m[I 2023-02-15 04:07:33,837]\u001b[0m Trial 104 finished with value: 0.9008686031004154 and parameters: {'min_samples_split': 3, 'min_samples_leaf': 16}. Best is trial 34 with value: 0.9386846080389991.\u001b[0m\n",
            "\u001b[32m[I 2023-02-15 04:07:33,908]\u001b[0m Trial 105 finished with value: 0.8568096151787031 and parameters: {'min_samples_split': 6, 'min_samples_leaf': 15}. Best is trial 34 with value: 0.9386846080389991.\u001b[0m\n",
            "\u001b[32m[I 2023-02-15 04:07:33,974]\u001b[0m Trial 106 finished with value: 0.8739700967071924 and parameters: {'min_samples_split': 8, 'min_samples_leaf': 17}. Best is trial 34 with value: 0.9386846080389991.\u001b[0m\n",
            "\u001b[32m[I 2023-02-15 04:07:34,042]\u001b[0m Trial 107 finished with value: 0.8755863819276252 and parameters: {'min_samples_split': 4, 'min_samples_leaf': 13}. Best is trial 34 with value: 0.9386846080389991.\u001b[0m\n",
            "\u001b[32m[I 2023-02-15 04:07:34,104]\u001b[0m Trial 108 finished with value: 0.888617019365462 and parameters: {'min_samples_split': 20, 'min_samples_leaf': 12}. Best is trial 34 with value: 0.9386846080389991.\u001b[0m\n",
            "\u001b[32m[I 2023-02-15 04:07:34,169]\u001b[0m Trial 109 finished with value: 0.9205706616525486 and parameters: {'min_samples_split': 3, 'min_samples_leaf': 20}. Best is trial 34 with value: 0.9386846080389991.\u001b[0m\n",
            "\u001b[32m[I 2023-02-15 04:07:34,246]\u001b[0m Trial 110 finished with value: 0.8822866973831061 and parameters: {'min_samples_split': 3, 'min_samples_leaf': 21}. Best is trial 34 with value: 0.9386846080389991.\u001b[0m\n",
            "\u001b[32m[I 2023-02-15 04:07:34,311]\u001b[0m Trial 111 finished with value: 0.9029364807649568 and parameters: {'min_samples_split': 5, 'min_samples_leaf': 20}. Best is trial 34 with value: 0.9386846080389991.\u001b[0m\n",
            "\u001b[32m[I 2023-02-15 04:07:34,380]\u001b[0m Trial 112 finished with value: 0.8966567444436682 and parameters: {'min_samples_split': 7, 'min_samples_leaf': 18}. Best is trial 34 with value: 0.9386846080389991.\u001b[0m\n",
            "\u001b[32m[I 2023-02-15 04:07:34,448]\u001b[0m Trial 113 finished with value: 0.9070372985599701 and parameters: {'min_samples_split': 2, 'min_samples_leaf': 23}. Best is trial 34 with value: 0.9386846080389991.\u001b[0m\n",
            "\u001b[32m[I 2023-02-15 04:07:34,515]\u001b[0m Trial 114 finished with value: 0.8625124574088069 and parameters: {'min_samples_split': 6, 'min_samples_leaf': 19}. Best is trial 34 with value: 0.9386846080389991.\u001b[0m\n",
            "\u001b[32m[I 2023-02-15 04:07:34,583]\u001b[0m Trial 115 finished with value: 0.8478929683908253 and parameters: {'min_samples_split': 4, 'min_samples_leaf': 24}. Best is trial 34 with value: 0.9386846080389991.\u001b[0m\n",
            "\u001b[32m[I 2023-02-15 04:07:34,657]\u001b[0m Trial 116 finished with value: 0.9024391800867771 and parameters: {'min_samples_split': 2, 'min_samples_leaf': 17}. Best is trial 34 with value: 0.9386846080389991.\u001b[0m\n",
            "\u001b[32m[I 2023-02-15 04:07:34,723]\u001b[0m Trial 117 finished with value: 0.9210106149542501 and parameters: {'min_samples_split': 8, 'min_samples_leaf': 19}. Best is trial 34 with value: 0.9386846080389991.\u001b[0m\n",
            "\u001b[32m[I 2023-02-15 04:07:34,793]\u001b[0m Trial 118 finished with value: 0.8941178295109137 and parameters: {'min_samples_split': 8, 'min_samples_leaf': 21}. Best is trial 34 with value: 0.9386846080389991.\u001b[0m\n",
            "\u001b[32m[I 2023-02-15 04:07:34,860]\u001b[0m Trial 119 finished with value: 0.8470705305283218 and parameters: {'min_samples_split': 9, 'min_samples_leaf': 20}. Best is trial 34 with value: 0.9386846080389991.\u001b[0m\n",
            "\u001b[32m[I 2023-02-15 04:07:34,932]\u001b[0m Trial 120 finished with value: 0.8971005068828553 and parameters: {'min_samples_split': 10, 'min_samples_leaf': 7}. Best is trial 34 with value: 0.9386846080389991.\u001b[0m\n",
            "\u001b[32m[I 2023-02-15 04:07:35,001]\u001b[0m Trial 121 finished with value: 0.870306424603854 and parameters: {'min_samples_split': 6, 'min_samples_leaf': 19}. Best is trial 34 with value: 0.9386846080389991.\u001b[0m\n",
            "\u001b[32m[I 2023-02-15 04:07:35,072]\u001b[0m Trial 122 finished with value: 0.9077311248598787 and parameters: {'min_samples_split': 3, 'min_samples_leaf': 5}. Best is trial 34 with value: 0.9386846080389991.\u001b[0m\n",
            "\u001b[32m[I 2023-02-15 04:07:35,144]\u001b[0m Trial 123 finished with value: 0.9177296056204934 and parameters: {'min_samples_split': 4, 'min_samples_leaf': 18}. Best is trial 34 with value: 0.9386846080389991.\u001b[0m\n",
            "\u001b[32m[I 2023-02-15 04:07:35,211]\u001b[0m Trial 124 finished with value: 0.8894554051084556 and parameters: {'min_samples_split': 5, 'min_samples_leaf': 18}. Best is trial 34 with value: 0.9386846080389991.\u001b[0m\n",
            "\u001b[32m[I 2023-02-15 04:07:35,279]\u001b[0m Trial 125 finished with value: 0.8974160156039614 and parameters: {'min_samples_split': 7, 'min_samples_leaf': 19}. Best is trial 34 with value: 0.9386846080389991.\u001b[0m\n",
            "\u001b[32m[I 2023-02-15 04:07:35,345]\u001b[0m Trial 126 finished with value: 0.8625668101087552 and parameters: {'min_samples_split': 4, 'min_samples_leaf': 20}. Best is trial 34 with value: 0.9386846080389991.\u001b[0m\n",
            "\u001b[32m[I 2023-02-15 04:07:35,410]\u001b[0m Trial 127 finished with value: 0.8044646234186125 and parameters: {'min_samples_split': 26, 'min_samples_leaf': 22}. Best is trial 34 with value: 0.9386846080389991.\u001b[0m\n",
            "\u001b[32m[I 2023-02-15 04:07:35,477]\u001b[0m Trial 128 finished with value: 0.9169837520275268 and parameters: {'min_samples_split': 3, 'min_samples_leaf': 16}. Best is trial 34 with value: 0.9386846080389991.\u001b[0m\n",
            "\u001b[32m[I 2023-02-15 04:07:35,544]\u001b[0m Trial 129 finished with value: 0.8745082542220814 and parameters: {'min_samples_split': 6, 'min_samples_leaf': 6}. Best is trial 34 with value: 0.9386846080389991.\u001b[0m\n",
            "\u001b[32m[I 2023-02-15 04:07:35,611]\u001b[0m Trial 130 finished with value: 0.9140880899708729 and parameters: {'min_samples_split': 2, 'min_samples_leaf': 4}. Best is trial 34 with value: 0.9386846080389991.\u001b[0m\n",
            "\u001b[32m[I 2023-02-15 04:07:35,686]\u001b[0m Trial 131 finished with value: 0.8988333933965262 and parameters: {'min_samples_split': 5, 'min_samples_leaf': 17}. Best is trial 34 with value: 0.9386846080389991.\u001b[0m\n",
            "\u001b[32m[I 2023-02-15 04:07:35,754]\u001b[0m Trial 132 finished with value: 0.9000968884055514 and parameters: {'min_samples_split': 4, 'min_samples_leaf': 18}. Best is trial 34 with value: 0.9386846080389991.\u001b[0m\n",
            "\u001b[32m[I 2023-02-15 04:07:35,829]\u001b[0m Trial 133 finished with value: 0.845180825011693 and parameters: {'min_samples_split': 3, 'min_samples_leaf': 14}. Best is trial 34 with value: 0.9386846080389991.\u001b[0m\n",
            "\u001b[32m[I 2023-02-15 04:07:35,899]\u001b[0m Trial 134 finished with value: 0.8949565499090093 and parameters: {'min_samples_split': 5, 'min_samples_leaf': 19}. Best is trial 34 with value: 0.9386846080389991.\u001b[0m\n",
            "\u001b[32m[I 2023-02-15 04:07:35,968]\u001b[0m Trial 135 finished with value: 0.8230709030731146 and parameters: {'min_samples_split': 8, 'min_samples_leaf': 12}. Best is trial 34 with value: 0.9386846080389991.\u001b[0m\n",
            "\u001b[32m[I 2023-02-15 04:07:36,046]\u001b[0m Trial 136 finished with value: 0.79369851532244 and parameters: {'min_samples_split': 4, 'min_samples_leaf': 16}. Best is trial 34 with value: 0.9386846080389991.\u001b[0m\n",
            "\u001b[32m[I 2023-02-15 04:07:36,114]\u001b[0m Trial 137 finished with value: 0.8254644492404865 and parameters: {'min_samples_split': 7, 'min_samples_leaf': 18}. Best is trial 34 with value: 0.9386846080389991.\u001b[0m\n",
            "\u001b[32m[I 2023-02-15 04:07:36,183]\u001b[0m Trial 138 finished with value: 0.8640591886713469 and parameters: {'min_samples_split': 6, 'min_samples_leaf': 30}. Best is trial 34 with value: 0.9386846080389991.\u001b[0m\n",
            "\u001b[32m[I 2023-02-15 04:07:36,252]\u001b[0m Trial 139 finished with value: 0.8057607999071769 and parameters: {'min_samples_split': 32, 'min_samples_leaf': 9}. Best is trial 34 with value: 0.9386846080389991.\u001b[0m\n"
          ]
        },
        {
          "output_type": "error",
          "ename": "KeyboardInterrupt",
          "evalue": "ignored",
          "traceback": [
            "\u001b[0;31m---------------------------------------------------------------------------\u001b[0m",
            "\u001b[0;31mKeyboardInterrupt\u001b[0m                         Traceback (most recent call last)",
            "\u001b[0;32m<ipython-input-42-627bdbd8a00e>\u001b[0m in \u001b[0;36m<module>\u001b[0;34m\u001b[0m\n\u001b[1;32m     22\u001b[0m \u001b[0;34m\u001b[0m\u001b[0m\n\u001b[1;32m     23\u001b[0m \u001b[0mstudy\u001b[0m \u001b[0;34m=\u001b[0m \u001b[0moptuna\u001b[0m\u001b[0;34m.\u001b[0m\u001b[0mcreate_study\u001b[0m\u001b[0;34m(\u001b[0m\u001b[0mdirection\u001b[0m\u001b[0;34m=\u001b[0m\u001b[0;34m\"maximize\"\u001b[0m\u001b[0;34m)\u001b[0m\u001b[0;34m\u001b[0m\u001b[0;34m\u001b[0m\u001b[0m\n\u001b[0;32m---> 24\u001b[0;31m \u001b[0mstudy\u001b[0m\u001b[0;34m.\u001b[0m\u001b[0moptimize\u001b[0m\u001b[0;34m(\u001b[0m\u001b[0mobjective\u001b[0m\u001b[0;34m,\u001b[0m \u001b[0mn_trials\u001b[0m\u001b[0;34m=\u001b[0m\u001b[0;36m1000\u001b[0m\u001b[0;34m)\u001b[0m\u001b[0;34m\u001b[0m\u001b[0;34m\u001b[0m\u001b[0m\n\u001b[0m\u001b[1;32m     25\u001b[0m \u001b[0;34m\u001b[0m\u001b[0m\n\u001b[1;32m     26\u001b[0m \u001b[0mprint\u001b[0m\u001b[0;34m(\u001b[0m\u001b[0mstudy\u001b[0m\u001b[0;34m.\u001b[0m\u001b[0mbest_params\u001b[0m\u001b[0;34m)\u001b[0m\u001b[0;34m\u001b[0m\u001b[0;34m\u001b[0m\u001b[0m\n",
            "\u001b[0;32m/usr/local/lib/python3.8/dist-packages/optuna/study/study.py\u001b[0m in \u001b[0;36moptimize\u001b[0;34m(self, func, n_trials, timeout, n_jobs, catch, callbacks, gc_after_trial, show_progress_bar)\u001b[0m\n\u001b[1;32m    423\u001b[0m         \"\"\"\n\u001b[1;32m    424\u001b[0m \u001b[0;34m\u001b[0m\u001b[0m\n\u001b[0;32m--> 425\u001b[0;31m         _optimize(\n\u001b[0m\u001b[1;32m    426\u001b[0m             \u001b[0mstudy\u001b[0m\u001b[0;34m=\u001b[0m\u001b[0mself\u001b[0m\u001b[0;34m,\u001b[0m\u001b[0;34m\u001b[0m\u001b[0;34m\u001b[0m\u001b[0m\n\u001b[1;32m    427\u001b[0m             \u001b[0mfunc\u001b[0m\u001b[0;34m=\u001b[0m\u001b[0mfunc\u001b[0m\u001b[0;34m,\u001b[0m\u001b[0;34m\u001b[0m\u001b[0;34m\u001b[0m\u001b[0m\n",
            "\u001b[0;32m/usr/local/lib/python3.8/dist-packages/optuna/study/_optimize.py\u001b[0m in \u001b[0;36m_optimize\u001b[0;34m(study, func, n_trials, timeout, n_jobs, catch, callbacks, gc_after_trial, show_progress_bar)\u001b[0m\n\u001b[1;32m     64\u001b[0m     \u001b[0;32mtry\u001b[0m\u001b[0;34m:\u001b[0m\u001b[0;34m\u001b[0m\u001b[0;34m\u001b[0m\u001b[0m\n\u001b[1;32m     65\u001b[0m         \u001b[0;32mif\u001b[0m \u001b[0mn_jobs\u001b[0m \u001b[0;34m==\u001b[0m \u001b[0;36m1\u001b[0m\u001b[0;34m:\u001b[0m\u001b[0;34m\u001b[0m\u001b[0;34m\u001b[0m\u001b[0m\n\u001b[0;32m---> 66\u001b[0;31m             _optimize_sequential(\n\u001b[0m\u001b[1;32m     67\u001b[0m                 \u001b[0mstudy\u001b[0m\u001b[0;34m,\u001b[0m\u001b[0;34m\u001b[0m\u001b[0;34m\u001b[0m\u001b[0m\n\u001b[1;32m     68\u001b[0m                 \u001b[0mfunc\u001b[0m\u001b[0;34m,\u001b[0m\u001b[0;34m\u001b[0m\u001b[0;34m\u001b[0m\u001b[0m\n",
            "\u001b[0;32m/usr/local/lib/python3.8/dist-packages/optuna/study/_optimize.py\u001b[0m in \u001b[0;36m_optimize_sequential\u001b[0;34m(study, func, n_trials, timeout, catch, callbacks, gc_after_trial, reseed_sampler_rng, time_start, progress_bar)\u001b[0m\n\u001b[1;32m    161\u001b[0m \u001b[0;34m\u001b[0m\u001b[0m\n\u001b[1;32m    162\u001b[0m         \u001b[0;32mtry\u001b[0m\u001b[0;34m:\u001b[0m\u001b[0;34m\u001b[0m\u001b[0;34m\u001b[0m\u001b[0m\n\u001b[0;32m--> 163\u001b[0;31m             \u001b[0mfrozen_trial\u001b[0m \u001b[0;34m=\u001b[0m \u001b[0m_run_trial\u001b[0m\u001b[0;34m(\u001b[0m\u001b[0mstudy\u001b[0m\u001b[0;34m,\u001b[0m \u001b[0mfunc\u001b[0m\u001b[0;34m,\u001b[0m \u001b[0mcatch\u001b[0m\u001b[0;34m)\u001b[0m\u001b[0;34m\u001b[0m\u001b[0;34m\u001b[0m\u001b[0m\n\u001b[0m\u001b[1;32m    164\u001b[0m         \u001b[0;32mfinally\u001b[0m\u001b[0;34m:\u001b[0m\u001b[0;34m\u001b[0m\u001b[0;34m\u001b[0m\u001b[0m\n\u001b[1;32m    165\u001b[0m             \u001b[0;31m# The following line mitigates memory problems that can be occurred in some\u001b[0m\u001b[0;34m\u001b[0m\u001b[0;34m\u001b[0m\u001b[0;34m\u001b[0m\u001b[0m\n",
            "\u001b[0;32m/usr/local/lib/python3.8/dist-packages/optuna/study/_optimize.py\u001b[0m in \u001b[0;36m_run_trial\u001b[0;34m(study, func, catch)\u001b[0m\n\u001b[1;32m    222\u001b[0m     \u001b[0;32mfinally\u001b[0m\u001b[0;34m:\u001b[0m\u001b[0;34m\u001b[0m\u001b[0;34m\u001b[0m\u001b[0m\n\u001b[1;32m    223\u001b[0m         \u001b[0;32mif\u001b[0m \u001b[0mfrozen_trial\u001b[0m\u001b[0;34m.\u001b[0m\u001b[0mstate\u001b[0m \u001b[0;34m==\u001b[0m \u001b[0mTrialState\u001b[0m\u001b[0;34m.\u001b[0m\u001b[0mCOMPLETE\u001b[0m\u001b[0;34m:\u001b[0m\u001b[0;34m\u001b[0m\u001b[0;34m\u001b[0m\u001b[0m\n\u001b[0;32m--> 224\u001b[0;31m             \u001b[0mstudy\u001b[0m\u001b[0;34m.\u001b[0m\u001b[0m_log_completed_trial\u001b[0m\u001b[0;34m(\u001b[0m\u001b[0mfrozen_trial\u001b[0m\u001b[0;34m)\u001b[0m\u001b[0;34m\u001b[0m\u001b[0;34m\u001b[0m\u001b[0m\n\u001b[0m\u001b[1;32m    225\u001b[0m         \u001b[0;32melif\u001b[0m \u001b[0mfrozen_trial\u001b[0m\u001b[0;34m.\u001b[0m\u001b[0mstate\u001b[0m \u001b[0;34m==\u001b[0m \u001b[0mTrialState\u001b[0m\u001b[0;34m.\u001b[0m\u001b[0mPRUNED\u001b[0m\u001b[0;34m:\u001b[0m\u001b[0;34m\u001b[0m\u001b[0;34m\u001b[0m\u001b[0m\n\u001b[1;32m    226\u001b[0m             \u001b[0m_logger\u001b[0m\u001b[0;34m.\u001b[0m\u001b[0minfo\u001b[0m\u001b[0;34m(\u001b[0m\u001b[0;34m\"Trial {} pruned. {}\"\u001b[0m\u001b[0;34m.\u001b[0m\u001b[0mformat\u001b[0m\u001b[0;34m(\u001b[0m\u001b[0mfrozen_trial\u001b[0m\u001b[0;34m.\u001b[0m\u001b[0mnumber\u001b[0m\u001b[0;34m,\u001b[0m \u001b[0mstr\u001b[0m\u001b[0;34m(\u001b[0m\u001b[0mfunc_err\u001b[0m\u001b[0;34m)\u001b[0m\u001b[0;34m)\u001b[0m\u001b[0;34m)\u001b[0m\u001b[0;34m\u001b[0m\u001b[0;34m\u001b[0m\u001b[0m\n",
            "\u001b[0;32m/usr/local/lib/python3.8/dist-packages/optuna/study/study.py\u001b[0m in \u001b[0;36m_log_completed_trial\u001b[0;34m(self, trial)\u001b[0m\n\u001b[1;32m   1018\u001b[0m         \u001b[0;32melif\u001b[0m \u001b[0mlen\u001b[0m\u001b[0;34m(\u001b[0m\u001b[0mtrial\u001b[0m\u001b[0;34m.\u001b[0m\u001b[0mvalues\u001b[0m\u001b[0;34m)\u001b[0m \u001b[0;34m==\u001b[0m \u001b[0;36m1\u001b[0m\u001b[0;34m:\u001b[0m\u001b[0;34m\u001b[0m\u001b[0;34m\u001b[0m\u001b[0m\n\u001b[1;32m   1019\u001b[0m             \u001b[0mbest_trial\u001b[0m \u001b[0;34m=\u001b[0m \u001b[0mself\u001b[0m\u001b[0;34m.\u001b[0m\u001b[0mbest_trial\u001b[0m\u001b[0;34m\u001b[0m\u001b[0;34m\u001b[0m\u001b[0m\n\u001b[0;32m-> 1020\u001b[0;31m             _logger.info(\n\u001b[0m\u001b[1;32m   1021\u001b[0m                 \u001b[0;34m\"Trial {} finished with value: {} and parameters: {}. \"\u001b[0m\u001b[0;34m\u001b[0m\u001b[0;34m\u001b[0m\u001b[0m\n\u001b[1;32m   1022\u001b[0m                 \"Best is trial {} with value: {}.\".format(\n",
            "\u001b[0;32m/usr/lib/python3.8/logging/__init__.py\u001b[0m in \u001b[0;36minfo\u001b[0;34m(self, msg, *args, **kwargs)\u001b[0m\n\u001b[1;32m   1444\u001b[0m         \"\"\"\n\u001b[1;32m   1445\u001b[0m         \u001b[0;32mif\u001b[0m \u001b[0mself\u001b[0m\u001b[0;34m.\u001b[0m\u001b[0misEnabledFor\u001b[0m\u001b[0;34m(\u001b[0m\u001b[0mINFO\u001b[0m\u001b[0;34m)\u001b[0m\u001b[0;34m:\u001b[0m\u001b[0;34m\u001b[0m\u001b[0;34m\u001b[0m\u001b[0m\n\u001b[0;32m-> 1446\u001b[0;31m             \u001b[0mself\u001b[0m\u001b[0;34m.\u001b[0m\u001b[0m_log\u001b[0m\u001b[0;34m(\u001b[0m\u001b[0mINFO\u001b[0m\u001b[0;34m,\u001b[0m \u001b[0mmsg\u001b[0m\u001b[0;34m,\u001b[0m \u001b[0margs\u001b[0m\u001b[0;34m,\u001b[0m \u001b[0;34m**\u001b[0m\u001b[0mkwargs\u001b[0m\u001b[0;34m)\u001b[0m\u001b[0;34m\u001b[0m\u001b[0;34m\u001b[0m\u001b[0m\n\u001b[0m\u001b[1;32m   1447\u001b[0m \u001b[0;34m\u001b[0m\u001b[0m\n\u001b[1;32m   1448\u001b[0m     \u001b[0;32mdef\u001b[0m \u001b[0mwarning\u001b[0m\u001b[0;34m(\u001b[0m\u001b[0mself\u001b[0m\u001b[0;34m,\u001b[0m \u001b[0mmsg\u001b[0m\u001b[0;34m,\u001b[0m \u001b[0;34m*\u001b[0m\u001b[0margs\u001b[0m\u001b[0;34m,\u001b[0m \u001b[0;34m**\u001b[0m\u001b[0mkwargs\u001b[0m\u001b[0;34m)\u001b[0m\u001b[0;34m:\u001b[0m\u001b[0;34m\u001b[0m\u001b[0;34m\u001b[0m\u001b[0m\n",
            "\u001b[0;32m/usr/lib/python3.8/logging/__init__.py\u001b[0m in \u001b[0;36m_log\u001b[0;34m(self, level, msg, args, exc_info, extra, stack_info, stacklevel)\u001b[0m\n\u001b[1;32m   1587\u001b[0m         record = self.makeRecord(self.name, level, fn, lno, msg, args,\n\u001b[1;32m   1588\u001b[0m                                  exc_info, func, extra, sinfo)\n\u001b[0;32m-> 1589\u001b[0;31m         \u001b[0mself\u001b[0m\u001b[0;34m.\u001b[0m\u001b[0mhandle\u001b[0m\u001b[0;34m(\u001b[0m\u001b[0mrecord\u001b[0m\u001b[0;34m)\u001b[0m\u001b[0;34m\u001b[0m\u001b[0;34m\u001b[0m\u001b[0m\n\u001b[0m\u001b[1;32m   1590\u001b[0m \u001b[0;34m\u001b[0m\u001b[0m\n\u001b[1;32m   1591\u001b[0m     \u001b[0;32mdef\u001b[0m \u001b[0mhandle\u001b[0m\u001b[0;34m(\u001b[0m\u001b[0mself\u001b[0m\u001b[0;34m,\u001b[0m \u001b[0mrecord\u001b[0m\u001b[0;34m)\u001b[0m\u001b[0;34m:\u001b[0m\u001b[0;34m\u001b[0m\u001b[0;34m\u001b[0m\u001b[0m\n",
            "\u001b[0;32m/usr/lib/python3.8/logging/__init__.py\u001b[0m in \u001b[0;36mhandle\u001b[0;34m(self, record)\u001b[0m\n\u001b[1;32m   1597\u001b[0m         \"\"\"\n\u001b[1;32m   1598\u001b[0m         \u001b[0;32mif\u001b[0m \u001b[0;34m(\u001b[0m\u001b[0;32mnot\u001b[0m \u001b[0mself\u001b[0m\u001b[0;34m.\u001b[0m\u001b[0mdisabled\u001b[0m\u001b[0;34m)\u001b[0m \u001b[0;32mand\u001b[0m \u001b[0mself\u001b[0m\u001b[0;34m.\u001b[0m\u001b[0mfilter\u001b[0m\u001b[0;34m(\u001b[0m\u001b[0mrecord\u001b[0m\u001b[0;34m)\u001b[0m\u001b[0;34m:\u001b[0m\u001b[0;34m\u001b[0m\u001b[0;34m\u001b[0m\u001b[0m\n\u001b[0;32m-> 1599\u001b[0;31m             \u001b[0mself\u001b[0m\u001b[0;34m.\u001b[0m\u001b[0mcallHandlers\u001b[0m\u001b[0;34m(\u001b[0m\u001b[0mrecord\u001b[0m\u001b[0;34m)\u001b[0m\u001b[0;34m\u001b[0m\u001b[0;34m\u001b[0m\u001b[0m\n\u001b[0m\u001b[1;32m   1600\u001b[0m \u001b[0;34m\u001b[0m\u001b[0m\n\u001b[1;32m   1601\u001b[0m     \u001b[0;32mdef\u001b[0m \u001b[0maddHandler\u001b[0m\u001b[0;34m(\u001b[0m\u001b[0mself\u001b[0m\u001b[0;34m,\u001b[0m \u001b[0mhdlr\u001b[0m\u001b[0;34m)\u001b[0m\u001b[0;34m:\u001b[0m\u001b[0;34m\u001b[0m\u001b[0;34m\u001b[0m\u001b[0m\n",
            "\u001b[0;32m/usr/lib/python3.8/logging/__init__.py\u001b[0m in \u001b[0;36mcallHandlers\u001b[0;34m(self, record)\u001b[0m\n\u001b[1;32m   1659\u001b[0m                 \u001b[0mfound\u001b[0m \u001b[0;34m=\u001b[0m \u001b[0mfound\u001b[0m \u001b[0;34m+\u001b[0m \u001b[0;36m1\u001b[0m\u001b[0;34m\u001b[0m\u001b[0;34m\u001b[0m\u001b[0m\n\u001b[1;32m   1660\u001b[0m                 \u001b[0;32mif\u001b[0m \u001b[0mrecord\u001b[0m\u001b[0;34m.\u001b[0m\u001b[0mlevelno\u001b[0m \u001b[0;34m>=\u001b[0m \u001b[0mhdlr\u001b[0m\u001b[0;34m.\u001b[0m\u001b[0mlevel\u001b[0m\u001b[0;34m:\u001b[0m\u001b[0;34m\u001b[0m\u001b[0;34m\u001b[0m\u001b[0m\n\u001b[0;32m-> 1661\u001b[0;31m                     \u001b[0mhdlr\u001b[0m\u001b[0;34m.\u001b[0m\u001b[0mhandle\u001b[0m\u001b[0;34m(\u001b[0m\u001b[0mrecord\u001b[0m\u001b[0;34m)\u001b[0m\u001b[0;34m\u001b[0m\u001b[0;34m\u001b[0m\u001b[0m\n\u001b[0m\u001b[1;32m   1662\u001b[0m             \u001b[0;32mif\u001b[0m \u001b[0;32mnot\u001b[0m \u001b[0mc\u001b[0m\u001b[0;34m.\u001b[0m\u001b[0mpropagate\u001b[0m\u001b[0;34m:\u001b[0m\u001b[0;34m\u001b[0m\u001b[0;34m\u001b[0m\u001b[0m\n\u001b[1;32m   1663\u001b[0m                 \u001b[0mc\u001b[0m \u001b[0;34m=\u001b[0m \u001b[0;32mNone\u001b[0m    \u001b[0;31m#break out\u001b[0m\u001b[0;34m\u001b[0m\u001b[0;34m\u001b[0m\u001b[0m\n",
            "\u001b[0;32m/usr/lib/python3.8/logging/__init__.py\u001b[0m in \u001b[0;36mhandle\u001b[0;34m(self, record)\u001b[0m\n\u001b[1;32m    952\u001b[0m             \u001b[0mself\u001b[0m\u001b[0;34m.\u001b[0m\u001b[0macquire\u001b[0m\u001b[0;34m(\u001b[0m\u001b[0;34m)\u001b[0m\u001b[0;34m\u001b[0m\u001b[0;34m\u001b[0m\u001b[0m\n\u001b[1;32m    953\u001b[0m             \u001b[0;32mtry\u001b[0m\u001b[0;34m:\u001b[0m\u001b[0;34m\u001b[0m\u001b[0;34m\u001b[0m\u001b[0m\n\u001b[0;32m--> 954\u001b[0;31m                 \u001b[0mself\u001b[0m\u001b[0;34m.\u001b[0m\u001b[0memit\u001b[0m\u001b[0;34m(\u001b[0m\u001b[0mrecord\u001b[0m\u001b[0;34m)\u001b[0m\u001b[0;34m\u001b[0m\u001b[0;34m\u001b[0m\u001b[0m\n\u001b[0m\u001b[1;32m    955\u001b[0m             \u001b[0;32mfinally\u001b[0m\u001b[0;34m:\u001b[0m\u001b[0;34m\u001b[0m\u001b[0;34m\u001b[0m\u001b[0m\n\u001b[1;32m    956\u001b[0m                 \u001b[0mself\u001b[0m\u001b[0;34m.\u001b[0m\u001b[0mrelease\u001b[0m\u001b[0;34m(\u001b[0m\u001b[0;34m)\u001b[0m\u001b[0;34m\u001b[0m\u001b[0;34m\u001b[0m\u001b[0m\n",
            "\u001b[0;32m/usr/lib/python3.8/logging/__init__.py\u001b[0m in \u001b[0;36memit\u001b[0;34m(self, record)\u001b[0m\n\u001b[1;32m   1087\u001b[0m             \u001b[0;31m# issue 35046: merged two stream.writes into one.\u001b[0m\u001b[0;34m\u001b[0m\u001b[0;34m\u001b[0m\u001b[0;34m\u001b[0m\u001b[0m\n\u001b[1;32m   1088\u001b[0m             \u001b[0mstream\u001b[0m\u001b[0;34m.\u001b[0m\u001b[0mwrite\u001b[0m\u001b[0;34m(\u001b[0m\u001b[0mmsg\u001b[0m \u001b[0;34m+\u001b[0m \u001b[0mself\u001b[0m\u001b[0;34m.\u001b[0m\u001b[0mterminator\u001b[0m\u001b[0;34m)\u001b[0m\u001b[0;34m\u001b[0m\u001b[0;34m\u001b[0m\u001b[0m\n\u001b[0;32m-> 1089\u001b[0;31m             \u001b[0mself\u001b[0m\u001b[0;34m.\u001b[0m\u001b[0mflush\u001b[0m\u001b[0;34m(\u001b[0m\u001b[0;34m)\u001b[0m\u001b[0;34m\u001b[0m\u001b[0;34m\u001b[0m\u001b[0m\n\u001b[0m\u001b[1;32m   1090\u001b[0m         \u001b[0;32mexcept\u001b[0m \u001b[0mRecursionError\u001b[0m\u001b[0;34m:\u001b[0m  \u001b[0;31m# See issue 36272\u001b[0m\u001b[0;34m\u001b[0m\u001b[0;34m\u001b[0m\u001b[0m\n\u001b[1;32m   1091\u001b[0m             \u001b[0;32mraise\u001b[0m\u001b[0;34m\u001b[0m\u001b[0;34m\u001b[0m\u001b[0m\n",
            "\u001b[0;32m/usr/lib/python3.8/logging/__init__.py\u001b[0m in \u001b[0;36mflush\u001b[0;34m(self)\u001b[0m\n\u001b[1;32m   1067\u001b[0m         \u001b[0;32mtry\u001b[0m\u001b[0;34m:\u001b[0m\u001b[0;34m\u001b[0m\u001b[0;34m\u001b[0m\u001b[0m\n\u001b[1;32m   1068\u001b[0m             \u001b[0;32mif\u001b[0m \u001b[0mself\u001b[0m\u001b[0;34m.\u001b[0m\u001b[0mstream\u001b[0m \u001b[0;32mand\u001b[0m \u001b[0mhasattr\u001b[0m\u001b[0;34m(\u001b[0m\u001b[0mself\u001b[0m\u001b[0;34m.\u001b[0m\u001b[0mstream\u001b[0m\u001b[0;34m,\u001b[0m \u001b[0;34m\"flush\"\u001b[0m\u001b[0;34m)\u001b[0m\u001b[0;34m:\u001b[0m\u001b[0;34m\u001b[0m\u001b[0;34m\u001b[0m\u001b[0m\n\u001b[0;32m-> 1069\u001b[0;31m                 \u001b[0mself\u001b[0m\u001b[0;34m.\u001b[0m\u001b[0mstream\u001b[0m\u001b[0;34m.\u001b[0m\u001b[0mflush\u001b[0m\u001b[0;34m(\u001b[0m\u001b[0;34m)\u001b[0m\u001b[0;34m\u001b[0m\u001b[0;34m\u001b[0m\u001b[0m\n\u001b[0m\u001b[1;32m   1070\u001b[0m         \u001b[0;32mfinally\u001b[0m\u001b[0;34m:\u001b[0m\u001b[0;34m\u001b[0m\u001b[0;34m\u001b[0m\u001b[0m\n\u001b[1;32m   1071\u001b[0m             \u001b[0mself\u001b[0m\u001b[0;34m.\u001b[0m\u001b[0mrelease\u001b[0m\u001b[0;34m(\u001b[0m\u001b[0;34m)\u001b[0m\u001b[0;34m\u001b[0m\u001b[0;34m\u001b[0m\u001b[0m\n",
            "\u001b[0;32m/usr/local/lib/python3.8/dist-packages/ipykernel/iostream.py\u001b[0m in \u001b[0;36mflush\u001b[0;34m(self)\u001b[0m\n\u001b[1;32m    350\u001b[0m                 \u001b[0mself\u001b[0m\u001b[0;34m.\u001b[0m\u001b[0mpub_thread\u001b[0m\u001b[0;34m.\u001b[0m\u001b[0mschedule\u001b[0m\u001b[0;34m(\u001b[0m\u001b[0mevt\u001b[0m\u001b[0;34m.\u001b[0m\u001b[0mset\u001b[0m\u001b[0;34m)\u001b[0m\u001b[0;34m\u001b[0m\u001b[0;34m\u001b[0m\u001b[0m\n\u001b[1;32m    351\u001b[0m                 \u001b[0;31m# and give a timeout to avoid\u001b[0m\u001b[0;34m\u001b[0m\u001b[0;34m\u001b[0m\u001b[0;34m\u001b[0m\u001b[0m\n\u001b[0;32m--> 352\u001b[0;31m                 \u001b[0;32mif\u001b[0m \u001b[0;32mnot\u001b[0m \u001b[0mevt\u001b[0m\u001b[0;34m.\u001b[0m\u001b[0mwait\u001b[0m\u001b[0;34m(\u001b[0m\u001b[0mself\u001b[0m\u001b[0;34m.\u001b[0m\u001b[0mflush_timeout\u001b[0m\u001b[0;34m)\u001b[0m\u001b[0;34m:\u001b[0m\u001b[0;34m\u001b[0m\u001b[0;34m\u001b[0m\u001b[0m\n\u001b[0m\u001b[1;32m    353\u001b[0m                     \u001b[0;31m# write directly to __stderr__ instead of warning because\u001b[0m\u001b[0;34m\u001b[0m\u001b[0;34m\u001b[0m\u001b[0;34m\u001b[0m\u001b[0m\n\u001b[1;32m    354\u001b[0m                     \u001b[0;31m# if this is happening sys.stderr may be the problem.\u001b[0m\u001b[0;34m\u001b[0m\u001b[0;34m\u001b[0m\u001b[0;34m\u001b[0m\u001b[0m\n",
            "\u001b[0;32m/usr/lib/python3.8/threading.py\u001b[0m in \u001b[0;36mwait\u001b[0;34m(self, timeout)\u001b[0m\n\u001b[1;32m    556\u001b[0m             \u001b[0msignaled\u001b[0m \u001b[0;34m=\u001b[0m \u001b[0mself\u001b[0m\u001b[0;34m.\u001b[0m\u001b[0m_flag\u001b[0m\u001b[0;34m\u001b[0m\u001b[0;34m\u001b[0m\u001b[0m\n\u001b[1;32m    557\u001b[0m             \u001b[0;32mif\u001b[0m \u001b[0;32mnot\u001b[0m \u001b[0msignaled\u001b[0m\u001b[0;34m:\u001b[0m\u001b[0;34m\u001b[0m\u001b[0;34m\u001b[0m\u001b[0m\n\u001b[0;32m--> 558\u001b[0;31m                 \u001b[0msignaled\u001b[0m \u001b[0;34m=\u001b[0m \u001b[0mself\u001b[0m\u001b[0;34m.\u001b[0m\u001b[0m_cond\u001b[0m\u001b[0;34m.\u001b[0m\u001b[0mwait\u001b[0m\u001b[0;34m(\u001b[0m\u001b[0mtimeout\u001b[0m\u001b[0;34m)\u001b[0m\u001b[0;34m\u001b[0m\u001b[0;34m\u001b[0m\u001b[0m\n\u001b[0m\u001b[1;32m    559\u001b[0m             \u001b[0;32mreturn\u001b[0m \u001b[0msignaled\u001b[0m\u001b[0;34m\u001b[0m\u001b[0;34m\u001b[0m\u001b[0m\n\u001b[1;32m    560\u001b[0m \u001b[0;34m\u001b[0m\u001b[0m\n",
            "\u001b[0;32m/usr/lib/python3.8/threading.py\u001b[0m in \u001b[0;36mwait\u001b[0;34m(self, timeout)\u001b[0m\n\u001b[1;32m    304\u001b[0m             \u001b[0;32melse\u001b[0m\u001b[0;34m:\u001b[0m\u001b[0;34m\u001b[0m\u001b[0;34m\u001b[0m\u001b[0m\n\u001b[1;32m    305\u001b[0m                 \u001b[0;32mif\u001b[0m \u001b[0mtimeout\u001b[0m \u001b[0;34m>\u001b[0m \u001b[0;36m0\u001b[0m\u001b[0;34m:\u001b[0m\u001b[0;34m\u001b[0m\u001b[0;34m\u001b[0m\u001b[0m\n\u001b[0;32m--> 306\u001b[0;31m                     \u001b[0mgotit\u001b[0m \u001b[0;34m=\u001b[0m \u001b[0mwaiter\u001b[0m\u001b[0;34m.\u001b[0m\u001b[0macquire\u001b[0m\u001b[0;34m(\u001b[0m\u001b[0;32mTrue\u001b[0m\u001b[0;34m,\u001b[0m \u001b[0mtimeout\u001b[0m\u001b[0;34m)\u001b[0m\u001b[0;34m\u001b[0m\u001b[0;34m\u001b[0m\u001b[0m\n\u001b[0m\u001b[1;32m    307\u001b[0m                 \u001b[0;32melse\u001b[0m\u001b[0;34m:\u001b[0m\u001b[0;34m\u001b[0m\u001b[0;34m\u001b[0m\u001b[0m\n\u001b[1;32m    308\u001b[0m                     \u001b[0mgotit\u001b[0m \u001b[0;34m=\u001b[0m \u001b[0mwaiter\u001b[0m\u001b[0;34m.\u001b[0m\u001b[0macquire\u001b[0m\u001b[0;34m(\u001b[0m\u001b[0;32mFalse\u001b[0m\u001b[0;34m)\u001b[0m\u001b[0;34m\u001b[0m\u001b[0;34m\u001b[0m\u001b[0m\n",
            "\u001b[0;31mKeyboardInterrupt\u001b[0m: "
          ]
        }
      ]
    },
    {
      "cell_type": "code",
      "source": [],
      "metadata": {
        "id": "0IDU8D7yQmq2"
      },
      "execution_count": null,
      "outputs": []
    }
  ]
}