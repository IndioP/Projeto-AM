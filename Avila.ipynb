{
  "cells": [
    {
      "cell_type": "markdown",
      "metadata": {
        "id": "AkUTfpA_inV_"
      },
      "source": [
        "# Projeto 1 de Aprendizado de Máquina\n",
        "## Grupo\n",
        "- João Victor de Lima Peixoto\n",
        "- José Douglas Pontes Silva\n",
        "- Marcos Heitor Carvalho de Oliveira\n",
        "- Mikael Vidal da Silva\n",
        "\n",
        "# Introdução\n",
        "O projeto da cadeira de aprendizado de máquina visa aplicar as diferentes técnicas aprendidas na disciplina para fazer uma análise exploratoria sobre a `precisão (precision)`, `cobertura (recall)` e `f1-score` presentes no uso de cada algoritmo estudado em um `dataset` do mundo real.\n",
        "\n",
        "Os algoritmos aprendidos na cadeira e testados no projeto foram:\n",
        "- Árvores de Decisões\n",
        "- Bayesiano Ingenuo\n",
        "- Regressão Logistica\n",
        "- K Vizinhos\n",
        "\n",
        ", onde cada algoritmo apresenta parâmetros e logicas próprias que serão discutidas na fundamentação teórica deste relatório.\n",
        "\n",
        "O conjunto de dados testado no projeto foi o `Avila Data Set`. Em resumo, esse conjunto de dados foi extraido através de 800 imagens da Biblia de Avila, uma cópia em latim da Biblia produzida no século XII em um local entre a Itália e a Espanha. No capítulo \"Conjunto de dados\", faremos uma descrição mais ampla de como esse dataset é dividido e também das suas features.\n",
        "\n",
        "Por fim, mostraremos os resultados e conclusões obtidas dos nossos experimentos.\n",
        "\n",
        "# Objetivos\n",
        "\n",
        "O objetivo geral do projeto é explorar os algoritmos aprendidos na cadeira de Aprendizagem de Máquina. Essa objetivo geral engloba os seguintes objetivos especificos:\n",
        "\n",
        "- I. Explorar o conjunto de dados de `Avila` e verificar as features relevantes para cada método utilizado.\n",
        "- II. Realizar o treinamento e classificação de cada um dos algoritmos aprendidos utilizando o `Avila Data Set`.\n",
        "- III. Realizar uma analise exploratoria de mudanças dps hiper-parametros de cada algoritmo para buscar valores melhores de `precision`, `recall` e `f1-score`.\n",
        "\n",
        "# Fundamentação Teórica\n",
        "\n",
        "Nesse cápitulo abordaremos alguns dos fundamentos básicos para que o leitor possa entender o projeto. Inicialmente falaremos sobre as métricas usadas para avaliar cada modelo e em seguida falaremos sobre cada modelo em si.\n",
        "\n",
        "## Métricas\n",
        "\n",
        "Em geral, quando estamos trabalhando com modelos de classificação, precisamos de algumas métricas para avaliar se a performance de um modelo é melhor do que a de outro modelo ao realizar uma classificação. Nesse contexto, `precision`, `recall` e `f1-score` servem como essas métricas para prover o quão bem um modelo é capaz de prever corretamente a classificação de uma instância com sua classe real. Além disso, essas métricas nos ajudam a comparar diferentes modelos ou parâmetros usados em algum classificador para otimizar sua performance. \n",
        "\n",
        "### Precision\n",
        "\n",
        "A métrica de precisão (ou `precision`) mede a proporção de predições verdadeiras sobre todas as predições positivas feitas pelo modelo. A precisão é calculada como na fórmula abaixo:\n",
        "\n",
        "$$\n",
        "\\frac{TP}{TP + FP} \n",
        "$$\n",
        "\n",
        ", onde `TP` é número de predições positivas enquando `FP` é o número de predições falso-positivas. Uma precisão alta indica que o modelo é bom em indentificar instâncias e tem uma taxa baixa de falso-positivos.\n",
        "\n",
        "### Recall \n",
        "\n",
        "A métrica de cobertura (ou `recall`) mede a proporção de precições verdadeiras sobre todas as instâncias verdadeiramente positivas nos dados. A cobertura é calculada como na fórmula abaixo:\n",
        "\n",
        "$$\n",
        "\\frac{TP}{TP + FN} \n",
        "$$\n",
        "\n",
        ", onde `TP` é número de predições positivas enquando `FN` é o número de predições falso-negativas. Uma cobertura alta indica que o modelo é bom em indentificar todas as intâncias positivas e tem uma taxa baixa de falso-negativos.\n",
        "\n",
        "### F1-Score\n",
        "\n",
        "A métrica `f1-score` combina tanto a precisão como a cobertura em uma unica métrica. O `f1-score` pode ser calculada da seguinte forma:\n",
        "\n",
        "$$\n",
        "2 * \\frac{precision * recall}{precision + recall} \n",
        "$$\n",
        "\n",
        "\n",
        "Essa métrica serve para avaliar a performance de um modelo onde ambas precisão e cobertura são desejadas.\n",
        "\n",
        "## Algoritmos\n",
        "\n",
        "Dentro do assunto de aprendizado de máquina, os algoritmos que nós aprendemos servem como modelos de classificação. Esses modelos de classificação servem para prever uma classe categorica sobre uma instância de entrada levando em consideração suas `features`, ou parâmetros de entrada.\n",
        "\n",
        "No caso do projeto, faremos um aprendizado supervisionado, onde usaremos um conjunto de dados já rotulados com a classe correta na entrada para treinar os modelos de classifação. Com isso, os modelos serão capazes de predizer a classe de dados ainda não vistos. \n",
        "\n",
        "Existem muitos tipos de modelos de classificação na literatura. Entraremos agora em detalhe sobre os modelos de classificação usados no projeto.\n",
        "\n",
        "### Decision Tree Classifier\n",
        "\n",
        "O classificador baseado em árvores de decisão (ou decision tree classifier) é um modelo que faz partições nas features em ramos que correspondem à um espaço que representa especifica classe baseado em um conjunto de regras.\n",
        "\n",
        "Existem várias formas de se dividir a árvore de decisão. Alguns dos parâmetros que valem a pena ser considerados são: a altura máxima da árvore, a estrátegia de divisão de cada nó da árvore, o críterio de divisão e o número máximo de features usadas. A altura máxima da árvore nos ajuda a decidir quantos critérios iremos considerar no nosso modelo, deixando assim a análise de cada feature mais complexa. Uma árvore curta dará respostas mais facilmente, no entanto, com menos precisão. A estrátegia de divisão do nó nos ajuda a escolher o modo de melhor dividir a árvore, escolhendo métricas que priorizam a qualidade e ganho de informação do sistema. \n",
        "\n",
        "### Naive Bayes\n",
        "\n",
        "Naive Bayes (ou classificador Bayesiano Ingênuo) é um modelo probabilistido que usa o teorema de Bayes para calcular a probabilidade das features da entrada pertencerem ou não à uma determinda classe. \n",
        "\n",
        "Dado conjunto de entrada, com um vetor X de features e a classe Y, o modelo primeiro calcula as probabilidades à priori P(Y) para cada class, o que representa a proporção de instancias no conjunto de treinamento que pertencem à cada classe. Em sequencia, o modelo calcula as probabilidades condicionais P(X | Y) para cada feature de entrada em cada classe, o que representa a probabilidade de observar cada valor da feature numa dada classe. Usando o teorema de Bayes, o modelo então calcula a probabiliade à posteriore P(Y | X) de cada classe dada a instância observada, o que indica a probabilidade de cada classe dado o vetor de features, então o modelo simplesmente seleciona a classe com maior probabilidade posteriore.\n",
        "\n",
        "### Logistic Regression\n",
        "\n",
        "A regressão logística (ou logistic regression) é um tipo de modelo de classificação linear utilizado comumente em problemas de classificação binária, onde o objetivo é prever um dos dois possíveis resultados com base em características de entrada. O modelo é chamado de \"logístico\" porque usa a função logística (também conhecida como função sigmoidal) para mapear a saída de uma função linear para um valor de probabilidade entre 0 e 1. No entanto, o modelo também pode ser usado para problemas com multiplas classes, onde a função logistica irá funcionar de maneira semelhante, mas agora calculando a probabilidade do vetor de entrada pertencer à uma das multiplas classes possíveis.\n",
        "\n",
        "\n",
        "Dado um conjunto de dados de treinamento com características de entrada X e rótulos de classe binários Y, o modelo primeiro aprender uma função que mapeia as características de entrada para um valor de saída continuo. Essa função linear pode ser expressa como:\n",
        "\n",
        "```\n",
        "    z = b0 + b1x1 + b2x2 + ... + bnxn\n",
        "```\n",
        "\n",
        ", onde z é a função linear das características de entrada, `b0` é o termo de viés e cada `b_x` com `x` indo de `1` à  `n` são os coeficientes (ou pesos) que correspondem a cada feature da entrada. A saída da função linear é então passada pela função logística, que mapeia a saída para um valor de probabilidade entre 0 e 1. O modelo então usa o valor de probabilidade para tomar uma decisão de classificação. \n",
        "\n",
        "O modelo é treinado pela minimização de uma função de custo que mede o erro entre as probabilidades previstas e os rótulos de classe verdadeiros. Uma função de custo comumente usada para regressão logística é a função de perda de entropia cruzada binária.\n",
        "\n",
        "### K-Neighbors\n",
        "\n",
        "O K neighbors (ou K-Vizinhos, ou até mesmo K-nearest neighbors: KNN) é um tipo de modelo de classificação não paramétrico e baseado em suas instâncias. O KNN são faz suposições sobre as distribuições dos dados e pode trabalhar com features categoricas ou númericas. No KNN, a classificação é feita com base nos rótulos de classe dos k vizinhos mais próximos no espaço de características. No entanto, o valor de seu hiperparâmetro `k` deve ser escolhido com base no problema específico e nas características dos dados.\n",
        "\n",
        "Dado uma nova instância para classificar, o modelo KNN calcula as distâncias entre a nova instância e todas as instâncias no conjunto de treinamento. Essa função de distância depende do problema selecionado. O KNN seleciona as k instâncias mais próximas da nova instância de entrada baseado na função escolhida e, assim, atribui a nova instância à classe que é mais frequente entre esses k vizinhos.\n",
        "\n",
        "Uma das desvantagens do KNN é que pode ser computacionalmente caro para conjuntos de dados grandes, pois requer o cálculo das distâncias entre a nova instância e todas as instâncias no conjunto de treinamento. Além disso, KNN pode não funcionar bem em espaços de características de alta dimensão ou quando os dados são esparsos.\n",
        "\n",
        "# Conjunto de Dados\n",
        "\n",
        "Os dados do projeto são referentes as informações extraidas das imagens de páginas copiadas da biblía de `Avila`. A analise paleografica do manuscrito indicou a presença de 12 escrivãos responsáveis pela copia. A quantidade de páginas escritas por cada escrivão não é igual. Cada classe do `dataset` está dividida entre os tipos: A, B, C, D, E, F, G, H, I, W, X, e Y, onde cada classe faz referência à qual copiador foi responsável por aquele trecho / página.\n",
        "\n",
        "Cada padrão de escrivão contém 10 features. Os dados foram normalizados usando o `Z-normalization` método. Essa normalização é uma técnica usada para transformar um conjunto de características de entrada para ter uma média zero e um desvio padrão de um. Isso é feito subtraindo o valor médio de cada característica de cada ponto de dados e, em seguida, dividindo pelo desvio padrão dessa característica. A normalização Z é comumente usada em aprendizado de máquina para garantir que todas as características de entrada estejam na mesma escala e tenham uma faixa de valores semelhante. Isso é particularmente importante para modelos que dependem de métricas baseadas em distância ou algoritmos de otimização, pois características com escalas ou variâncias maiores podem dominar o processo de tomada de decisão do modelo. A normalização Z pode ajudar a evitar esse problema e garantir que todas as características sejam igualmente importantes nas previsões do modelo.\n",
        "\n",
        "O `dataset` foi dividido em duas partes, uma parte para treino, contendo 10430 amostras e outra parte para os testes, contendo 10437 amostras.\n",
        "\n",
        "# Metodologia\n",
        "\n",
        "A metodologia utilizada neste projeto foi dividida em três etapas principais:\n",
        "- 1. Realizamos o treinamento e classificação utilizando os valores default dos respectivos métodos para obter o valor primordial do `precision`, `recall`\n",
        " e `f1_score` em cada um dos modelos propostos. \n",
        "- 2. Realizamos uma analise exploratória em cada um dos hiperparâmetros para buscar otimizar os valores da métricas obtidas.\n",
        "- 3. Por fim, utilizamos o Optuna, uma ferramenta que automatiza o processo de testagem de hiperparâmetros, para os modelos que tinham uma variação maior de parâmetros. \n",
        "\n",
        "\n",
        "Para cada modelo de classificação diferente, alteramos os parâmetros que mais influenciavam na nossa classificação. \n",
        "\n",
        "No caso do Decision Tree Classifier alteramos altura máxima da árvore, a estrátegia de divisão de cada nó da árvore, o critério de divisão e o número máximo de features usadas. A altura máxima tenta regular o feedback da resposta, equanto a estrátegia de divisão de cada nó diz como separar os nós baseado em suas features e critério de divisão. \n",
        "\n",
        "No Naive Bayes Classifier, alteramos o parâmetro que regula a porção da maior variância de todas as características que é adicionada às variâncias para garantir a estabilidade dos cálculos. Apenas esse parâmetro é usado para a construção do modelo e foi o unico variado.\n",
        "\n",
        "No Logic Regression Classifier, alteramos os parâmetros de tolerância, penalidade, a função de regulação e o coeficiente de força de regulação. Cada parâmetro influência no calculo final do modelo, seja nas subdivisões espaciais para a entrada da classe ou como o modelo se comportará com entradas de pequena ordem.\n",
        "\n",
        "Por fim, no KNN Classifier, testamos diferentes valores de `k` para o classificador e também a influência de que outras funções de distância faziam na composição do classificador.\n",
        "\n",
        "A escolha de todos os hiperparâmetros foram feitos utilizando como o base `f1_score` em cima do conjunto de validação. Todos os testes foram utilizados usando a biblioteca do `sklearn` que disponibiliza todos esses classificadores e parâmetros estudados, além disso utilizamos o `dataset` do `Avila` em ambos os testes comentados.\n",
        "\n",
        "# Resultados\n"
      ]
    },
    {
      "cell_type": "markdown",
      "metadata": {
        "id": "fGJmsO_OYf7A"
      },
      "source": [
        "## Import's iniciais do projeto"
      ]
    },
    {
      "cell_type": "code",
      "execution_count": 1,
      "metadata": {
        "colab": {
          "base_uri": "https://localhost:8080/"
        },
        "id": "3fowlwl44XDu",
        "outputId": "030c0bf4-18ab-4204-addc-5f5f7ddd6f38"
      },
      "outputs": [
        {
          "output_type": "stream",
          "name": "stdout",
          "text": [
            "Cloning into 'Projeto-AM'...\n",
            "remote: Enumerating objects: 74, done.\u001b[K\n",
            "remote: Counting objects: 100% (74/74), done.\u001b[K\n",
            "remote: Compressing objects: 100% (62/62), done.\u001b[K\n",
            "remote: Total 74 (delta 38), reused 26 (delta 12), pack-reused 0\u001b[K\n",
            "Unpacking objects: 100% (74/74), 2.58 MiB | 2.50 MiB/s, done.\n"
          ]
        }
      ],
      "source": [
        "!git clone https://github.com/IndioP/Projeto-AM"
      ]
    },
    {
      "cell_type": "code",
      "execution_count": 2,
      "metadata": {
        "id": "iorlHYAJKVxz"
      },
      "outputs": [],
      "source": [
        "import pandas as pd\n",
        "from sklearn.model_selection import train_test_split\n",
        "from sklearn.tree import DecisionTreeClassifier\n",
        "from sklearn.naive_bayes import GaussianNB\n",
        "from sklearn.linear_model import LogisticRegression\n",
        "from sklearn.neighbors import KNeighborsClassifier\n",
        "from sklearn.metrics import f1_score,recall_score,precision_score\n",
        "import numpy as np\n",
        "import matplotlib.pyplot as plt\n",
        "from sklearn.preprocessing import StandardScaler\n",
        "from sklearn.pipeline import Pipeline\n",
        "import seaborn as sns"
      ]
    },
    {
      "cell_type": "code",
      "execution_count": 3,
      "metadata": {
        "id": "5pzo_Jy3lrxp"
      },
      "outputs": [],
      "source": [
        "def display_metrics(model,x_test,y_test):\n",
        "    predicted = model.predict(x_test)\n",
        "    report = classification_report(y_test, predicted)\n",
        "    accuracy = accuracy_score(y_test, predicted)\n",
        "    print(report)\n",
        "    print(f\"accuracy: {accuracy}\")\n",
        "\n",
        "    cm = confusion_matrix(y_test, predicted)\n",
        "    plt.figure(figsize=(12,10))\n",
        "    sns.heatmap(cm, center=True, annot=True, yticklabels=model.classes_, xticklabels=model.classes_)\n"
      ]
    },
    {
      "cell_type": "code",
      "execution_count": 4,
      "metadata": {
        "id": "h8HjT3TMJzQK"
      },
      "outputs": [],
      "source": [
        "names = ['F1','F2','F3','F4','F5','F6','F7','F8','F9','F10','Class']\n",
        "df = pd.read_csv(\"Projeto-AM/avila-tr.txt\",names = names)\n",
        "df_ts = pd.read_csv(\"Projeto-AM/avila-ts.txt\",names=names)\n",
        "X_test = df_ts.drop(\"Class\",axis=1)\n",
        "y_test = df_ts[\"Class\"]"
      ]
    },
    {
      "cell_type": "markdown",
      "metadata": {
        "id": "xCopTlb0CVPP"
      },
      "source": [
        "## Observando o conjunto de dados"
      ]
    },
    {
      "cell_type": "code",
      "execution_count": 5,
      "metadata": {
        "colab": {
          "base_uri": "https://localhost:8080/",
          "height": 206
        },
        "id": "Wz9UqFngKnOs",
        "outputId": "91f0e1d9-630f-465b-941d-c61948d7f63e"
      },
      "outputs": [
        {
          "output_type": "execute_result",
          "data": {
            "text/plain": [
              "         F1        F2        F3        F4        F5        F6        F7  \\\n",
              "0  0.266074 -0.165620  0.320980  0.483299  0.172340  0.273364  0.371178   \n",
              "1  0.130292  0.870736 -3.210528  0.062493  0.261718  1.436060  1.465940   \n",
              "2 -0.116585  0.069915  0.068476 -0.783147  0.261718  0.439463 -0.081827   \n",
              "3  0.031541  0.297600 -3.210528 -0.583590 -0.721442 -0.307984  0.710932   \n",
              "4  0.229043  0.807926 -0.052442  0.082634  0.261718  0.148790  0.635431   \n",
              "\n",
              "         F8        F9       F10 Class  \n",
              "0  0.929823  0.251173  0.159345     A  \n",
              "1  0.636203  0.282354  0.515587     A  \n",
              "2 -0.888236 -0.123005  0.582939     A  \n",
              "3  1.051693  0.594169 -0.533994     A  \n",
              "4  0.051062  0.032902 -0.086652     F  "
            ],
            "text/html": [
              "\n",
              "  <div id=\"df-d0a05ad4-d883-49f9-9129-c6616fbd8114\">\n",
              "    <div class=\"colab-df-container\">\n",
              "      <div>\n",
              "<style scoped>\n",
              "    .dataframe tbody tr th:only-of-type {\n",
              "        vertical-align: middle;\n",
              "    }\n",
              "\n",
              "    .dataframe tbody tr th {\n",
              "        vertical-align: top;\n",
              "    }\n",
              "\n",
              "    .dataframe thead th {\n",
              "        text-align: right;\n",
              "    }\n",
              "</style>\n",
              "<table border=\"1\" class=\"dataframe\">\n",
              "  <thead>\n",
              "    <tr style=\"text-align: right;\">\n",
              "      <th></th>\n",
              "      <th>F1</th>\n",
              "      <th>F2</th>\n",
              "      <th>F3</th>\n",
              "      <th>F4</th>\n",
              "      <th>F5</th>\n",
              "      <th>F6</th>\n",
              "      <th>F7</th>\n",
              "      <th>F8</th>\n",
              "      <th>F9</th>\n",
              "      <th>F10</th>\n",
              "      <th>Class</th>\n",
              "    </tr>\n",
              "  </thead>\n",
              "  <tbody>\n",
              "    <tr>\n",
              "      <th>0</th>\n",
              "      <td>0.266074</td>\n",
              "      <td>-0.165620</td>\n",
              "      <td>0.320980</td>\n",
              "      <td>0.483299</td>\n",
              "      <td>0.172340</td>\n",
              "      <td>0.273364</td>\n",
              "      <td>0.371178</td>\n",
              "      <td>0.929823</td>\n",
              "      <td>0.251173</td>\n",
              "      <td>0.159345</td>\n",
              "      <td>A</td>\n",
              "    </tr>\n",
              "    <tr>\n",
              "      <th>1</th>\n",
              "      <td>0.130292</td>\n",
              "      <td>0.870736</td>\n",
              "      <td>-3.210528</td>\n",
              "      <td>0.062493</td>\n",
              "      <td>0.261718</td>\n",
              "      <td>1.436060</td>\n",
              "      <td>1.465940</td>\n",
              "      <td>0.636203</td>\n",
              "      <td>0.282354</td>\n",
              "      <td>0.515587</td>\n",
              "      <td>A</td>\n",
              "    </tr>\n",
              "    <tr>\n",
              "      <th>2</th>\n",
              "      <td>-0.116585</td>\n",
              "      <td>0.069915</td>\n",
              "      <td>0.068476</td>\n",
              "      <td>-0.783147</td>\n",
              "      <td>0.261718</td>\n",
              "      <td>0.439463</td>\n",
              "      <td>-0.081827</td>\n",
              "      <td>-0.888236</td>\n",
              "      <td>-0.123005</td>\n",
              "      <td>0.582939</td>\n",
              "      <td>A</td>\n",
              "    </tr>\n",
              "    <tr>\n",
              "      <th>3</th>\n",
              "      <td>0.031541</td>\n",
              "      <td>0.297600</td>\n",
              "      <td>-3.210528</td>\n",
              "      <td>-0.583590</td>\n",
              "      <td>-0.721442</td>\n",
              "      <td>-0.307984</td>\n",
              "      <td>0.710932</td>\n",
              "      <td>1.051693</td>\n",
              "      <td>0.594169</td>\n",
              "      <td>-0.533994</td>\n",
              "      <td>A</td>\n",
              "    </tr>\n",
              "    <tr>\n",
              "      <th>4</th>\n",
              "      <td>0.229043</td>\n",
              "      <td>0.807926</td>\n",
              "      <td>-0.052442</td>\n",
              "      <td>0.082634</td>\n",
              "      <td>0.261718</td>\n",
              "      <td>0.148790</td>\n",
              "      <td>0.635431</td>\n",
              "      <td>0.051062</td>\n",
              "      <td>0.032902</td>\n",
              "      <td>-0.086652</td>\n",
              "      <td>F</td>\n",
              "    </tr>\n",
              "  </tbody>\n",
              "</table>\n",
              "</div>\n",
              "      <button class=\"colab-df-convert\" onclick=\"convertToInteractive('df-d0a05ad4-d883-49f9-9129-c6616fbd8114')\"\n",
              "              title=\"Convert this dataframe to an interactive table.\"\n",
              "              style=\"display:none;\">\n",
              "        \n",
              "  <svg xmlns=\"http://www.w3.org/2000/svg\" height=\"24px\"viewBox=\"0 0 24 24\"\n",
              "       width=\"24px\">\n",
              "    <path d=\"M0 0h24v24H0V0z\" fill=\"none\"/>\n",
              "    <path d=\"M18.56 5.44l.94 2.06.94-2.06 2.06-.94-2.06-.94-.94-2.06-.94 2.06-2.06.94zm-11 1L8.5 8.5l.94-2.06 2.06-.94-2.06-.94L8.5 2.5l-.94 2.06-2.06.94zm10 10l.94 2.06.94-2.06 2.06-.94-2.06-.94-.94-2.06-.94 2.06-2.06.94z\"/><path d=\"M17.41 7.96l-1.37-1.37c-.4-.4-.92-.59-1.43-.59-.52 0-1.04.2-1.43.59L10.3 9.45l-7.72 7.72c-.78.78-.78 2.05 0 2.83L4 21.41c.39.39.9.59 1.41.59.51 0 1.02-.2 1.41-.59l7.78-7.78 2.81-2.81c.8-.78.8-2.07 0-2.86zM5.41 20L4 18.59l7.72-7.72 1.47 1.35L5.41 20z\"/>\n",
              "  </svg>\n",
              "      </button>\n",
              "      \n",
              "  <style>\n",
              "    .colab-df-container {\n",
              "      display:flex;\n",
              "      flex-wrap:wrap;\n",
              "      gap: 12px;\n",
              "    }\n",
              "\n",
              "    .colab-df-convert {\n",
              "      background-color: #E8F0FE;\n",
              "      border: none;\n",
              "      border-radius: 50%;\n",
              "      cursor: pointer;\n",
              "      display: none;\n",
              "      fill: #1967D2;\n",
              "      height: 32px;\n",
              "      padding: 0 0 0 0;\n",
              "      width: 32px;\n",
              "    }\n",
              "\n",
              "    .colab-df-convert:hover {\n",
              "      background-color: #E2EBFA;\n",
              "      box-shadow: 0px 1px 2px rgba(60, 64, 67, 0.3), 0px 1px 3px 1px rgba(60, 64, 67, 0.15);\n",
              "      fill: #174EA6;\n",
              "    }\n",
              "\n",
              "    [theme=dark] .colab-df-convert {\n",
              "      background-color: #3B4455;\n",
              "      fill: #D2E3FC;\n",
              "    }\n",
              "\n",
              "    [theme=dark] .colab-df-convert:hover {\n",
              "      background-color: #434B5C;\n",
              "      box-shadow: 0px 1px 3px 1px rgba(0, 0, 0, 0.15);\n",
              "      filter: drop-shadow(0px 1px 2px rgba(0, 0, 0, 0.3));\n",
              "      fill: #FFFFFF;\n",
              "    }\n",
              "  </style>\n",
              "\n",
              "      <script>\n",
              "        const buttonEl =\n",
              "          document.querySelector('#df-d0a05ad4-d883-49f9-9129-c6616fbd8114 button.colab-df-convert');\n",
              "        buttonEl.style.display =\n",
              "          google.colab.kernel.accessAllowed ? 'block' : 'none';\n",
              "\n",
              "        async function convertToInteractive(key) {\n",
              "          const element = document.querySelector('#df-d0a05ad4-d883-49f9-9129-c6616fbd8114');\n",
              "          const dataTable =\n",
              "            await google.colab.kernel.invokeFunction('convertToInteractive',\n",
              "                                                     [key], {});\n",
              "          if (!dataTable) return;\n",
              "\n",
              "          const docLinkHtml = 'Like what you see? Visit the ' +\n",
              "            '<a target=\"_blank\" href=https://colab.research.google.com/notebooks/data_table.ipynb>data table notebook</a>'\n",
              "            + ' to learn more about interactive tables.';\n",
              "          element.innerHTML = '';\n",
              "          dataTable['output_type'] = 'display_data';\n",
              "          await google.colab.output.renderOutput(dataTable, element);\n",
              "          const docLink = document.createElement('div');\n",
              "          docLink.innerHTML = docLinkHtml;\n",
              "          element.appendChild(docLink);\n",
              "        }\n",
              "      </script>\n",
              "    </div>\n",
              "  </div>\n",
              "  "
            ]
          },
          "metadata": {},
          "execution_count": 5
        }
      ],
      "source": [
        "df.head()"
      ]
    },
    {
      "cell_type": "markdown",
      "metadata": {
        "id": "0wKLthUdYs0l"
      },
      "source": [
        "## Separando o conjunto de treinamento em TREINO 80% | VALIDAÇÃO 20%"
      ]
    },
    {
      "cell_type": "code",
      "execution_count": 6,
      "metadata": {
        "id": "2INz5S4JK_1N"
      },
      "outputs": [],
      "source": [
        "X_train,X_valid,y_train,y_valid = train_test_split(df.drop(\"Class\",axis=1), df[\"Class\"],test_size=0.2,random_state=2023)"
      ]
    },
    {
      "cell_type": "code",
      "execution_count": 7,
      "metadata": {
        "colab": {
          "base_uri": "https://localhost:8080/"
        },
        "id": "4TIm0U14LQZN",
        "outputId": "441cc597-f5f4-41ed-9667-4952b95bb9ca"
      },
      "outputs": [
        {
          "output_type": "execute_result",
          "data": {
            "text/plain": [
              "((8344, 10), (8344,), (2086, 10), (2086,))"
            ]
          },
          "metadata": {},
          "execution_count": 7
        }
      ],
      "source": [
        "X_train.shape,y_train.shape,X_valid.shape,y_valid.shape"
      ]
    },
    {
      "cell_type": "markdown",
      "metadata": {
        "id": "1xKeOyElY1Kf"
      },
      "source": [
        "## Primeira análise dos modelos com valores default's dos métodos utilizados pelo Scikit Learn para cada um dos classificadores:\n",
        "- Decisition Tree\n",
        "- Gaussian NB\n",
        "- LOgistic Regression\n",
        "- KNN"
      ]
    },
    {
      "cell_type": "code",
      "execution_count": 8,
      "metadata": {
        "id": "q_DvgdguY5Yy"
      },
      "outputs": [],
      "source": [
        "models = [DecisionTreeClassifier(), GaussianNB(), Pipeline([('scaler', StandardScaler()), ('LR', LogisticRegression(max_iter=10000))]), KNeighborsClassifier()]\n",
        "models_names = [\"DecisionTreeClassifier\", \"GaussianNB\", \"LogisticRegression\", \"KNeighborsClassifier\"]"
      ]
    },
    {
      "cell_type": "code",
      "execution_count": 9,
      "metadata": {
        "colab": {
          "base_uri": "https://localhost:8080/"
        },
        "id": "lcFB1qdgMEzv",
        "outputId": "e41f8b84-8cfc-4c78-badd-6256174f16b3"
      },
      "outputs": [
        {
          "output_type": "stream",
          "name": "stdout",
          "text": [
            "\n",
            "Model:  DecisionTreeClassifier\n",
            "Accuracy:  0.9765100671140939\n",
            "Precision:  0.9767182652993905\n",
            "Recall:  0.9765100671140939\n",
            "F1-score:  0.9765438476646547\n",
            "----------------------------------------------------------------------------------------------------\n",
            "\n",
            "Model:  GaussianNB\n",
            "Accuracy:  0.28044103547459254\n",
            "Precision:  0.4869461008434287\n",
            "Recall:  0.28044103547459254\n",
            "F1-score:  0.31269471946758487\n",
            "----------------------------------------------------------------------------------------------------\n",
            "\n",
            "Model:  LogisticRegression\n",
            "Accuracy:  0.5522531160115053\n",
            "Precision:  0.8055085318695356\n",
            "Recall:  0.5522531160115053\n",
            "F1-score:  0.631349791534737\n",
            "----------------------------------------------------------------------------------------------------\n",
            "\n",
            "Model:  KNeighborsClassifier\n"
          ]
        },
        {
          "output_type": "stream",
          "name": "stderr",
          "text": [
            "/usr/local/lib/python3.8/dist-packages/sklearn/metrics/_classification.py:1344: UndefinedMetricWarning: Recall is ill-defined and being set to 0.0 in labels with no true samples. Use `zero_division` parameter to control this behavior.\n",
            "  _warn_prf(average, modifier, msg_start, len(result))\n"
          ]
        },
        {
          "output_type": "stream",
          "name": "stdout",
          "text": [
            "Accuracy:  0.7157238734419943\n",
            "Precision:  0.7428505624498204\n",
            "Recall:  0.7157238734419943\n",
            "F1-score:  0.7225385508602775\n",
            "----------------------------------------------------------------------------------------------------\n"
          ]
        }
      ],
      "source": [
        "for model,name in zip(models,models_names):\n",
        "  print(f'\\nModel: ',name)\n",
        "  clf = model\n",
        "  clf.fit(X_train,y_train)\n",
        "  \n",
        "  print(\"Accuracy: \",clf.score(X_valid,y_valid))\n",
        "  \n",
        "  pred = clf.predict(X_valid)\n",
        "  print(\"Precision: \",precision_score(pred,y_valid,average=\"weighted\"))\n",
        "  print(\"Recall: \",recall_score(pred,y_valid,average=\"weighted\"))\n",
        "  print(\"F1-score: \",f1_score(pred,y_valid,average=\"weighted\"))\n",
        "  print(\"-\"*100)"
      ]
    },
    {
      "cell_type": "code",
      "execution_count": 10,
      "metadata": {
        "colab": {
          "base_uri": "https://localhost:8080/"
        },
        "id": "Z9VuLxEPQuxL",
        "outputId": "66eee1a3-0358-48ce-9d25-03187d84d67b"
      },
      "outputs": [
        {
          "output_type": "stream",
          "name": "stdout",
          "text": [
            "Precision:  0.7552854027850691\n",
            "Recall:  0.7311487975471879\n",
            "F1-score:  0.7369839317135863\n",
            "----------------------------------------------------------------------------------------------------\n"
          ]
        }
      ],
      "source": [
        "def check_test(clf,X_test,y_test):\n",
        "  pred = clf.predict(X_test)\n",
        "  print(\"Precision: \",precision_score(pred,y_test,average=\"weighted\"))\n",
        "  print(\"Recall: \",recall_score(pred,y_test,average=\"weighted\"))\n",
        "  print(\"F1-score: \",f1_score(pred,y_test,average=\"weighted\"))\n",
        "  print(\"-\"*100)\n",
        "\n",
        "check_test(clf,X_test,y_test)"
      ]
    },
    {
      "cell_type": "markdown",
      "metadata": {
        "id": "0JsB9c5HCVPR"
      },
      "source": [
        "De início já podemos observar que, utilizando apenas os valores defaults de cada um dos classificadores, o DecisionTreeClassifier apresenta um melhor comportamento em relação à todas as métricas do que nos outros classificadores. Esse comportamento se deve ao fato de que as árvores de decisão tomam vantagem sobre a divisão das features para classificar o espaço de escrita de cada escrivão, tendo assim uma vantagem natural na classificação pela própria natureza dos dados.\n"
      ]
    },
    {
      "cell_type": "markdown",
      "metadata": {
        "id": "ykbMCvn_8SDY"
      },
      "source": [
        "## DecisionTreeClassifier parameters"
      ]
    },
    {
      "cell_type": "code",
      "execution_count": 11,
      "metadata": {
        "id": "kBHWUWhJlmxi"
      },
      "outputs": [],
      "source": [
        "from sklearn.tree import DecisionTreeClassifier\n",
        "from sklearn.metrics import classification_report\n",
        "from sklearn.metrics import confusion_matrix\n",
        "from sklearn.metrics import accuracy_score"
      ]
    },
    {
      "cell_type": "code",
      "execution_count": 12,
      "metadata": {
        "colab": {
          "base_uri": "https://localhost:8080/",
          "height": 75
        },
        "id": "LLefsg9dlnL0",
        "outputId": "ef3703b7-b62e-47c7-d4fb-a00d45bebe9a"
      },
      "outputs": [
        {
          "output_type": "execute_result",
          "data": {
            "text/plain": [
              "DecisionTreeClassifier()"
            ],
            "text/html": [
              "<style>#sk-container-id-1 {color: black;background-color: white;}#sk-container-id-1 pre{padding: 0;}#sk-container-id-1 div.sk-toggleable {background-color: white;}#sk-container-id-1 label.sk-toggleable__label {cursor: pointer;display: block;width: 100%;margin-bottom: 0;padding: 0.3em;box-sizing: border-box;text-align: center;}#sk-container-id-1 label.sk-toggleable__label-arrow:before {content: \"▸\";float: left;margin-right: 0.25em;color: #696969;}#sk-container-id-1 label.sk-toggleable__label-arrow:hover:before {color: black;}#sk-container-id-1 div.sk-estimator:hover label.sk-toggleable__label-arrow:before {color: black;}#sk-container-id-1 div.sk-toggleable__content {max-height: 0;max-width: 0;overflow: hidden;text-align: left;background-color: #f0f8ff;}#sk-container-id-1 div.sk-toggleable__content pre {margin: 0.2em;color: black;border-radius: 0.25em;background-color: #f0f8ff;}#sk-container-id-1 input.sk-toggleable__control:checked~div.sk-toggleable__content {max-height: 200px;max-width: 100%;overflow: auto;}#sk-container-id-1 input.sk-toggleable__control:checked~label.sk-toggleable__label-arrow:before {content: \"▾\";}#sk-container-id-1 div.sk-estimator input.sk-toggleable__control:checked~label.sk-toggleable__label {background-color: #d4ebff;}#sk-container-id-1 div.sk-label input.sk-toggleable__control:checked~label.sk-toggleable__label {background-color: #d4ebff;}#sk-container-id-1 input.sk-hidden--visually {border: 0;clip: rect(1px 1px 1px 1px);clip: rect(1px, 1px, 1px, 1px);height: 1px;margin: -1px;overflow: hidden;padding: 0;position: absolute;width: 1px;}#sk-container-id-1 div.sk-estimator {font-family: monospace;background-color: #f0f8ff;border: 1px dotted black;border-radius: 0.25em;box-sizing: border-box;margin-bottom: 0.5em;}#sk-container-id-1 div.sk-estimator:hover {background-color: #d4ebff;}#sk-container-id-1 div.sk-parallel-item::after {content: \"\";width: 100%;border-bottom: 1px solid gray;flex-grow: 1;}#sk-container-id-1 div.sk-label:hover label.sk-toggleable__label {background-color: #d4ebff;}#sk-container-id-1 div.sk-serial::before {content: \"\";position: absolute;border-left: 1px solid gray;box-sizing: border-box;top: 0;bottom: 0;left: 50%;z-index: 0;}#sk-container-id-1 div.sk-serial {display: flex;flex-direction: column;align-items: center;background-color: white;padding-right: 0.2em;padding-left: 0.2em;position: relative;}#sk-container-id-1 div.sk-item {position: relative;z-index: 1;}#sk-container-id-1 div.sk-parallel {display: flex;align-items: stretch;justify-content: center;background-color: white;position: relative;}#sk-container-id-1 div.sk-item::before, #sk-container-id-1 div.sk-parallel-item::before {content: \"\";position: absolute;border-left: 1px solid gray;box-sizing: border-box;top: 0;bottom: 0;left: 50%;z-index: -1;}#sk-container-id-1 div.sk-parallel-item {display: flex;flex-direction: column;z-index: 1;position: relative;background-color: white;}#sk-container-id-1 div.sk-parallel-item:first-child::after {align-self: flex-end;width: 50%;}#sk-container-id-1 div.sk-parallel-item:last-child::after {align-self: flex-start;width: 50%;}#sk-container-id-1 div.sk-parallel-item:only-child::after {width: 0;}#sk-container-id-1 div.sk-dashed-wrapped {border: 1px dashed gray;margin: 0 0.4em 0.5em 0.4em;box-sizing: border-box;padding-bottom: 0.4em;background-color: white;}#sk-container-id-1 div.sk-label label {font-family: monospace;font-weight: bold;display: inline-block;line-height: 1.2em;}#sk-container-id-1 div.sk-label-container {text-align: center;}#sk-container-id-1 div.sk-container {/* jupyter's `normalize.less` sets `[hidden] { display: none; }` but bootstrap.min.css set `[hidden] { display: none !important; }` so we also need the `!important` here to be able to override the default hidden behavior on the sphinx rendered scikit-learn.org. See: https://github.com/scikit-learn/scikit-learn/issues/21755 */display: inline-block !important;position: relative;}#sk-container-id-1 div.sk-text-repr-fallback {display: none;}</style><div id=\"sk-container-id-1\" class=\"sk-top-container\"><div class=\"sk-text-repr-fallback\"><pre>DecisionTreeClassifier()</pre><b>In a Jupyter environment, please rerun this cell to show the HTML representation or trust the notebook. <br />On GitHub, the HTML representation is unable to render, please try loading this page with nbviewer.org.</b></div><div class=\"sk-container\" hidden><div class=\"sk-item\"><div class=\"sk-estimator sk-toggleable\"><input class=\"sk-toggleable__control sk-hidden--visually\" id=\"sk-estimator-id-1\" type=\"checkbox\" checked><label for=\"sk-estimator-id-1\" class=\"sk-toggleable__label sk-toggleable__label-arrow\">DecisionTreeClassifier</label><div class=\"sk-toggleable__content\"><pre>DecisionTreeClassifier()</pre></div></div></div></div></div>"
            ]
          },
          "metadata": {},
          "execution_count": 12
        }
      ],
      "source": [
        "clf = DecisionTreeClassifier()\n",
        "clf.fit(X_train, y_train)"
      ]
    },
    {
      "cell_type": "code",
      "execution_count": 13,
      "metadata": {
        "colab": {
          "base_uri": "https://localhost:8080/",
          "height": 939
        },
        "id": "6HB0NljklnOI",
        "outputId": "e72148af-2a24-43b4-f5eb-16ef3e22e04a"
      },
      "outputs": [
        {
          "output_type": "stream",
          "name": "stdout",
          "text": [
            "              precision    recall  f1-score   support\n",
            "\n",
            "           A       0.98      0.99      0.99       850\n",
            "           B       1.00      1.00      1.00         2\n",
            "           C       0.96      0.96      0.96        26\n",
            "           D       0.99      0.96      0.97        69\n",
            "           E       0.96      0.96      0.96       231\n",
            "           F       0.99      1.00      0.99       379\n",
            "           G       0.98      0.99      0.98        89\n",
            "           H       0.98      0.96      0.97       112\n",
            "           I       0.99      0.99      0.99       180\n",
            "           W       1.00      0.88      0.93         8\n",
            "           X       0.93      0.90      0.92        92\n",
            "           Y       0.83      0.90      0.86        48\n",
            "\n",
            "    accuracy                           0.98      2086\n",
            "   macro avg       0.97      0.96      0.96      2086\n",
            "weighted avg       0.98      0.98      0.98      2086\n",
            "\n",
            "accuracy: 0.9765100671140939\n"
          ]
        },
        {
          "output_type": "display_data",
          "data": {
            "text/plain": [
              "<Figure size 864x720 with 2 Axes>"
            ],
            "image/png": "[encoded data removed]"
          },
          "metadata": {
            "needs_background": "light"
          }
        }
      ],
      "source": [
        "display_metrics(clf, X_valid, y_valid)"
      ]
    },
    {
      "cell_type": "markdown",
      "metadata": {
        "id": "u4Vgh16JmKKi"
      },
      "source": [
        "## De que formas poderiamos melhorar o atual modelo?"
      ]
    },
    {
      "cell_type": "markdown",
      "metadata": {
        "id": "6ELVG_8zmMaO"
      },
      "source": [
        "Primeiro começamos fazendo uma avaliação geral e mudando alguns hiperparametros para observar a variação de resultado da árvore. Para isso \n",
        "variamos cada um dos parâmetros comentados na métodologia e o resultados pode ser visto nas imagens abaixo:\n"
      ]
    },
    {
      "cell_type": "code",
      "execution_count": 14,
      "metadata": {
        "colab": {
          "base_uri": "https://localhost:8080/",
          "height": 1000
        },
        "id": "RYSufoTUlnTN",
        "outputId": "b21d3efc-3e7b-42c5-8510-15fa5614c2e2"
      },
      "outputs": [
        {
          "output_type": "stream",
          "name": "stderr",
          "text": [
            "/usr/local/lib/python3.8/dist-packages/sklearn/metrics/_classification.py:1344: UndefinedMetricWarning: Precision and F-score are ill-defined and being set to 0.0 in labels with no predicted samples. Use `zero_division` parameter to control this behavior.\n",
            "  _warn_prf(average, modifier, msg_start, len(result))\n",
            "/usr/local/lib/python3.8/dist-packages/sklearn/metrics/_classification.py:1344: UndefinedMetricWarning: Precision and F-score are ill-defined and being set to 0.0 in labels with no predicted samples. Use `zero_division` parameter to control this behavior.\n",
            "  _warn_prf(average, modifier, msg_start, len(result))\n",
            "/usr/local/lib/python3.8/dist-packages/sklearn/metrics/_classification.py:1344: UndefinedMetricWarning: Precision and F-score are ill-defined and being set to 0.0 in labels with no predicted samples. Use `zero_division` parameter to control this behavior.\n",
            "  _warn_prf(average, modifier, msg_start, len(result))\n"
          ]
        },
        {
          "output_type": "stream",
          "name": "stdout",
          "text": [
            "              precision    recall  f1-score   support\n",
            "\n",
            "           A       0.90      0.96      0.93       850\n",
            "           B       0.00      0.00      0.00         2\n",
            "           C       1.00      0.73      0.84        26\n",
            "           D       0.77      0.83      0.80        69\n",
            "           E       0.91      0.83      0.87       231\n",
            "           F       0.91      0.90      0.91       379\n",
            "           G       0.90      0.79      0.84        89\n",
            "           H       0.94      0.86      0.90       112\n",
            "           I       0.99      0.99      0.99       180\n",
            "           W       1.00      0.88      0.93         8\n",
            "           X       0.92      0.86      0.89        92\n",
            "           Y       0.82      0.85      0.84        48\n",
            "\n",
            "    accuracy                           0.91      2086\n",
            "   macro avg       0.84      0.79      0.81      2086\n",
            "weighted avg       0.91      0.91      0.91      2086\n",
            "\n",
            "accuracy: 0.9079578139980825\n"
          ]
        },
        {
          "output_type": "display_data",
          "data": {
            "text/plain": [
              "<Figure size 864x720 with 2 Axes>"
            ],
            "image/png": "[encoded data removed]"
          },
          "metadata": {
            "needs_background": "light"
          }
        }
      ],
      "source": [
        "clf_best = DecisionTreeClassifier(max_depth=12)\n",
        "clf_best.fit(X_train, y_train)\n",
        "display_metrics(clf_best, X_valid, y_valid)"
      ]
    },
    {
      "cell_type": "markdown",
      "metadata": {
        "id": "W2Z1xGxYCVPT"
      },
      "source": [
        "Alterando apenas a altura máxima da árvore (max_depth), observamos que o valor geral das métricas do nosso modelo diminui. O que indica que apenas podar a árvore para ter uma resposta mais rápido não influência tanto na qualidade do modelo.\n",
        " "
      ]
    },
    {
      "cell_type": "code",
      "execution_count": 15,
      "metadata": {
        "colab": {
          "base_uri": "https://localhost:8080/",
          "height": 939
        },
        "id": "uufS8RTylnWZ",
        "outputId": "de996149-fc27-41d5-e536-4633deb10d9c"
      },
      "outputs": [
        {
          "output_type": "stream",
          "name": "stdout",
          "text": [
            "              precision    recall  f1-score   support\n",
            "\n",
            "           A       0.84      0.83      0.84       850\n",
            "           B       1.00      0.50      0.67         2\n",
            "           C       0.58      0.42      0.49        26\n",
            "           D       0.72      0.78      0.75        69\n",
            "           E       0.87      0.84      0.85       231\n",
            "           F       0.66      0.70      0.68       379\n",
            "           G       0.66      0.65      0.66        89\n",
            "           H       0.73      0.74      0.74       112\n",
            "           I       0.98      0.98      0.98       180\n",
            "           W       0.80      1.00      0.89         8\n",
            "           X       0.95      0.93      0.94        92\n",
            "           Y       0.94      0.92      0.93        48\n",
            "\n",
            "    accuracy                           0.81      2086\n",
            "   macro avg       0.81      0.78      0.78      2086\n",
            "weighted avg       0.81      0.81      0.81      2086\n",
            "\n",
            "accuracy: 0.8082454458293384\n"
          ]
        },
        {
          "output_type": "display_data",
          "data": {
            "text/plain": [
              "<Figure size 864x720 with 2 Axes>"
            ],
            "image/png": "[encoded data removed]"
          },
          "metadata": {
            "needs_background": "light"
          }
        }
      ],
      "source": [
        "clf_best = DecisionTreeClassifier(splitter=\"random\")\n",
        "clf_best.fit(X_train, y_train)\n",
        "display_metrics(clf_best, X_valid, y_valid)"
      ]
    },
    {
      "cell_type": "markdown",
      "metadata": {
        "id": "39qfkGsbCVPT"
      },
      "source": [
        "Ao alteramos a estrátegia de divisão de cada nó da árvore (splitter), podemos ver que uma divisão randomica dos dados para gerar os nós da árvore diminui bastante cada uma das métricas do sistema, gerando assim um modelo que seja 20% menos eficiente do que nosso modelo básico.  "
      ]
    },
    {
      "cell_type": "code",
      "execution_count": 16,
      "metadata": {
        "colab": {
          "base_uri": "https://localhost:8080/",
          "height": 939
        },
        "id": "Um1NYsxVma-X",
        "outputId": "f8819f65-1c99-4e77-9ec2-412b0304407b"
      },
      "outputs": [
        {
          "output_type": "stream",
          "name": "stdout",
          "text": [
            "              precision    recall  f1-score   support\n",
            "\n",
            "           A       0.99      0.99      0.99       850\n",
            "           B       1.00      0.50      0.67         2\n",
            "           C       1.00      0.85      0.92        26\n",
            "           D       0.99      1.00      0.99        69\n",
            "           E       0.97      0.97      0.97       231\n",
            "           F       0.99      0.99      0.99       379\n",
            "           G       0.98      0.98      0.98        89\n",
            "           H       0.96      0.96      0.96       112\n",
            "           I       1.00      0.99      1.00       180\n",
            "           W       0.88      0.88      0.88         8\n",
            "           X       0.98      0.96      0.97        92\n",
            "           Y       0.94      1.00      0.97        48\n",
            "\n",
            "    accuracy                           0.99      2086\n",
            "   macro avg       0.97      0.92      0.94      2086\n",
            "weighted avg       0.99      0.99      0.99      2086\n",
            "\n",
            "accuracy: 0.9851390220517737\n"
          ]
        },
        {
          "output_type": "display_data",
          "data": {
            "text/plain": [
              "<Figure size 864x720 with 2 Axes>"
            ],
            "image/png": "[encoded data removed]"
          },
          "metadata": {
            "needs_background": "light"
          }
        }
      ],
      "source": [
        "clf_best = DecisionTreeClassifier(criterion=\"entropy\")\n",
        "clf_best.fit(X_train, y_train)\n",
        "display_metrics(clf_best, X_valid, y_valid)"
      ]
    },
    {
      "cell_type": "markdown",
      "metadata": {
        "id": "ZI7ZUzVJCVPT"
      },
      "source": [
        "Ao alterarmos o critério de divisão (criterion) do nosso modelo podemos observar que o críterio que prioriza a entropia otimiza um pouco mais nossas métricas, visto que ao priorizar a entropia do sistema criamos uma árvore que valoriza mais as features do nosso problema."
      ]
    },
    {
      "cell_type": "code",
      "execution_count": 17,
      "metadata": {
        "colab": {
          "base_uri": "https://localhost:8080/",
          "height": 939
        },
        "id": "cFzeE6mOmaP0",
        "outputId": "f620b542-3e0d-4924-fcf7-ed0287d79c7b"
      },
      "outputs": [
        {
          "output_type": "stream",
          "name": "stdout",
          "text": [
            "              precision    recall  f1-score   support\n",
            "\n",
            "           A       0.99      1.00      0.99       850\n",
            "           B       1.00      0.50      0.67         2\n",
            "           C       1.00      0.88      0.94        26\n",
            "           D       0.99      0.97      0.98        69\n",
            "           E       0.99      0.97      0.98       231\n",
            "           F       0.99      0.99      0.99       379\n",
            "           G       0.99      0.98      0.98        89\n",
            "           H       0.96      0.96      0.96       112\n",
            "           I       1.00      0.99      1.00       180\n",
            "           W       0.86      0.75      0.80         8\n",
            "           X       0.98      0.97      0.97        92\n",
            "           Y       0.92      1.00      0.96        48\n",
            "\n",
            "    accuracy                           0.99      2086\n",
            "   macro avg       0.97      0.91      0.93      2086\n",
            "weighted avg       0.99      0.99      0.98      2086\n",
            "\n",
            "accuracy: 0.9851390220517737\n"
          ]
        },
        {
          "output_type": "display_data",
          "data": {
            "text/plain": [
              "<Figure size 864x720 with 2 Axes>"
            ],
            "image/png": "[encoded data removed]"
          },
          "metadata": {
            "needs_background": "light"
          }
        }
      ],
      "source": [
        "clf_best = DecisionTreeClassifier(criterion=\"log_loss\")\n",
        "clf_best.fit(X_train, y_train)\n",
        "display_metrics(clf_best, X_valid, y_valid)"
      ]
    },
    {
      "cell_type": "markdown",
      "metadata": {
        "id": "dzLoQcjMCVPT"
      },
      "source": [
        "Também temos uma melhora quando utilizamos o método de `log_loss` também temos uma otimização por não gerarmos uma árvore de qualquer maneira e sim uma que prioriza nosso granho de informação.\n"
      ]
    },
    {
      "cell_type": "code",
      "execution_count": 18,
      "metadata": {
        "colab": {
          "base_uri": "https://localhost:8080/",
          "height": 939
        },
        "id": "BocefcJLmnZm",
        "outputId": "821c95b9-0a01-4bed-87b4-f685d3ab7899"
      },
      "outputs": [
        {
          "output_type": "stream",
          "name": "stdout",
          "text": [
            "              precision    recall  f1-score   support\n",
            "\n",
            "           A       0.91      0.91      0.91       850\n",
            "           B       0.00      0.00      0.00         2\n",
            "           C       0.70      0.81      0.75        26\n",
            "           D       0.76      0.90      0.82        69\n",
            "           E       0.92      0.82      0.87       231\n",
            "           F       0.86      0.85      0.86       379\n",
            "           G       0.84      0.87      0.85        89\n",
            "           H       0.85      0.90      0.87       112\n",
            "           I       0.98      0.98      0.98       180\n",
            "           W       0.75      0.75      0.75         8\n",
            "           X       0.93      0.92      0.93        92\n",
            "           Y       0.92      0.96      0.94        48\n",
            "\n",
            "    accuracy                           0.89      2086\n",
            "   macro avg       0.78      0.81      0.79      2086\n",
            "weighted avg       0.89      0.89      0.89      2086\n",
            "\n",
            "accuracy: 0.8921380632790029\n"
          ]
        },
        {
          "output_type": "display_data",
          "data": {
            "text/plain": [
              "<Figure size 864x720 with 2 Axes>"
            ],
            "image/png": "[encoded data removed]"
          },
          "metadata": {
            "needs_background": "light"
          }
        }
      ],
      "source": [
        "clf_best = DecisionTreeClassifier(max_features=\"sqrt\")\n",
        "clf_best.fit(X_train, y_train)\n",
        "display_metrics(clf_best, X_valid, y_valid)"
      ]
    },
    {
      "cell_type": "code",
      "execution_count": 19,
      "metadata": {
        "colab": {
          "base_uri": "https://localhost:8080/",
          "height": 939
        },
        "id": "53cY2NVHmnb2",
        "outputId": "479055b9-155e-43ac-f618-1fe3e453d198"
      },
      "outputs": [
        {
          "output_type": "stream",
          "name": "stdout",
          "text": [
            "              precision    recall  f1-score   support\n",
            "\n",
            "           A       0.93      0.95      0.94       850\n",
            "           B       1.00      0.50      0.67         2\n",
            "           C       1.00      0.85      0.92        26\n",
            "           D       0.87      0.94      0.90        69\n",
            "           E       0.90      0.86      0.88       231\n",
            "           F       0.93      0.94      0.93       379\n",
            "           G       0.87      0.75      0.81        89\n",
            "           H       0.88      0.88      0.88       112\n",
            "           I       0.99      0.97      0.98       180\n",
            "           W       1.00      0.88      0.93         8\n",
            "           X       0.88      0.88      0.88        92\n",
            "           Y       0.90      0.96      0.93        48\n",
            "\n",
            "    accuracy                           0.92      2086\n",
            "   macro avg       0.93      0.86      0.89      2086\n",
            "weighted avg       0.92      0.92      0.92      2086\n",
            "\n",
            "accuracy: 0.9232981783317353\n"
          ]
        },
        {
          "output_type": "display_data",
          "data": {
            "text/plain": [
              "<Figure size 864x720 with 2 Axes>"
            ],
            "image/png": "[encoded data removed]"
          },
          "metadata": {
            "needs_background": "light"
          }
        }
      ],
      "source": [
        "clf_best = DecisionTreeClassifier(max_features=\"log2\")\n",
        "clf_best.fit(X_train, y_train)\n",
        "display_metrics(clf_best, X_valid, y_valid)"
      ]
    },
    {
      "cell_type": "markdown",
      "metadata": {
        "id": "O6w6EtihCVPU"
      },
      "source": [
        "Ao alterarmos o número máximo de features usadas (max_features), podemos ver que ao considerarmos um número menor de features do que os usados antes, nossas métricas tem um desempenho pior. Isso se deve ao fato de que as features tem uma importância consideravel ao processo de classificação. Ao removermos essas informações, perdemos precisão."
      ]
    },
    {
      "cell_type": "markdown",
      "metadata": {
        "id": "-YvsHPkinS5z"
      },
      "source": [
        "## Melhor combinação de hiperparametros no testes realizados"
      ]
    },
    {
      "cell_type": "code",
      "execution_count": 20,
      "metadata": {
        "colab": {
          "base_uri": "https://localhost:8080/",
          "height": 1000
        },
        "id": "a7yK1gkvnQj4",
        "outputId": "2d5bf15c-9375-4613-d00f-0a81deb34674"
      },
      "outputs": [
        {
          "output_type": "stream",
          "name": "stderr",
          "text": [
            "/usr/local/lib/python3.8/dist-packages/sklearn/metrics/_classification.py:1344: UndefinedMetricWarning: Precision and F-score are ill-defined and being set to 0.0 in labels with no predicted samples. Use `zero_division` parameter to control this behavior.\n",
            "  _warn_prf(average, modifier, msg_start, len(result))\n",
            "/usr/local/lib/python3.8/dist-packages/sklearn/metrics/_classification.py:1344: UndefinedMetricWarning: Precision and F-score are ill-defined and being set to 0.0 in labels with no predicted samples. Use `zero_division` parameter to control this behavior.\n",
            "  _warn_prf(average, modifier, msg_start, len(result))\n",
            "/usr/local/lib/python3.8/dist-packages/sklearn/metrics/_classification.py:1344: UndefinedMetricWarning: Precision and F-score are ill-defined and being set to 0.0 in labels with no predicted samples. Use `zero_division` parameter to control this behavior.\n",
            "  _warn_prf(average, modifier, msg_start, len(result))\n"
          ]
        },
        {
          "output_type": "stream",
          "name": "stdout",
          "text": [
            "              precision    recall  f1-score   support\n",
            "\n",
            "           A       0.99      1.00      0.99       850\n",
            "           B       0.00      0.00      0.00         2\n",
            "           C       1.00      0.85      0.92        26\n",
            "           D       0.99      1.00      0.99        69\n",
            "           E       0.99      0.97      0.98       231\n",
            "           F       0.99      0.99      0.99       379\n",
            "           G       0.97      0.98      0.97        89\n",
            "           H       0.96      0.96      0.96       112\n",
            "           I       0.99      1.00      1.00       180\n",
            "           W       1.00      0.62      0.77         8\n",
            "           X       0.97      0.97      0.97        92\n",
            "           Y       0.94      1.00      0.97        48\n",
            "\n",
            "    accuracy                           0.98      2086\n",
            "   macro avg       0.90      0.86      0.88      2086\n",
            "weighted avg       0.98      0.98      0.98      2086\n",
            "\n",
            "accuracy: 0.9841802492809204\n"
          ]
        },
        {
          "output_type": "display_data",
          "data": {
            "text/plain": [
              "<Figure size 864x720 with 2 Axes>"
            ],
            "image/png": "[encoded data removed]"
          },
          "metadata": {
            "needs_background": "light"
          }
        }
      ],
      "source": [
        "clf_best = DecisionTreeClassifier(max_depth=20, criterion=\"entropy\")\n",
        "clf_best.fit(X_train, y_train)\n",
        "display_metrics(clf_best, X_valid, y_valid)"
      ]
    },
    {
      "cell_type": "markdown",
      "metadata": {
        "id": "p7xSXGlRCVPU"
      },
      "source": [
        "No processo final, podemos observar que ao combinarmos melhor a quantidade de parâmetros usadas pelo modelo, podemos obter uma melhora no sistema de classificação devido à analise feita anteriormente nos parâmetros."
      ]
    },
    {
      "cell_type": "markdown",
      "metadata": {
        "id": "zbPHOfPynbrv"
      },
      "source": [
        "## Uma outra maneira de tentar modificar os hiperparametros é utilizando-se de uma ferramenta chamada de Optuna, que ajuda a definirmos alguns hiperparametros nos quais ele irá testar automaticamente"
      ]
    },
    {
      "cell_type": "code",
      "execution_count": 21,
      "metadata": {
        "colab": {
          "base_uri": "https://localhost:8080/"
        },
        "id": "b6CtuRJHmaUX",
        "outputId": "8d90f2f4-6877-4d4c-bc45-34ff216d9d55"
      },
      "outputs": [
        {
          "output_type": "stream",
          "name": "stdout",
          "text": [
            "Looking in indexes: https://pypi.org/simple, https://us-python.pkg.dev/colab-wheels/public/simple/\n",
            "Collecting optuna\n",
            "  Downloading optuna-3.1.0-py3-none-any.whl (365 kB)\n",
            "\u001b[2K     \u001b[90m━━━━━━━━━━━━━━━━━━━━━━━━━━━━━━━━━━━━━━\u001b[0m \u001b[32m365.3/365.3 KB\u001b[0m \u001b[31m19.3 MB/s\u001b[0m eta \u001b[36m0:00:00\u001b[0m\n",
            "\u001b[?25hCollecting colorlog\n",
            "  Downloading colorlog-6.7.0-py2.py3-none-any.whl (11 kB)\n",
            "Requirement already satisfied: PyYAML in /usr/local/lib/python3.8/dist-packages (from optuna) (6.0)\n",
            "Requirement already satisfied: sqlalchemy>=1.3.0 in /usr/local/lib/python3.8/dist-packages (from optuna) (1.4.46)\n",
            "Requirement already satisfied: packaging>=20.0 in /usr/local/lib/python3.8/dist-packages (from optuna) (23.0)\n",
            "Collecting cmaes>=0.9.1\n",
            "  Downloading cmaes-0.9.1-py3-none-any.whl (21 kB)\n",
            "Collecting alembic>=1.5.0\n",
            "  Downloading alembic-1.10.1-py3-none-any.whl (212 kB)\n",
            "\u001b[2K     \u001b[90m━━━━━━━━━━━━━━━━━━━━━━━━━━━━━━━━━━━━━━\u001b[0m \u001b[32m212.2/212.2 KB\u001b[0m \u001b[31m25.4 MB/s\u001b[0m eta \u001b[36m0:00:00\u001b[0m\n",
            "\u001b[?25hRequirement already satisfied: tqdm in /usr/local/lib/python3.8/dist-packages (from optuna) (4.64.1)\n",
            "Requirement already satisfied: numpy in /usr/local/lib/python3.8/dist-packages (from optuna) (1.22.4)\n",
            "Requirement already satisfied: importlib-metadata in /usr/local/lib/python3.8/dist-packages (from alembic>=1.5.0->optuna) (6.0.0)\n",
            "Requirement already satisfied: typing-extensions>=4 in /usr/local/lib/python3.8/dist-packages (from alembic>=1.5.0->optuna) (4.5.0)\n",
            "Requirement already satisfied: importlib-resources in /usr/local/lib/python3.8/dist-packages (from alembic>=1.5.0->optuna) (5.12.0)\n",
            "Collecting Mako\n",
            "  Downloading Mako-1.2.4-py3-none-any.whl (78 kB)\n",
            "\u001b[2K     \u001b[90m━━━━━━━━━━━━━━━━━━━━━━━━━━━━━━━━━━━━━━━━\u001b[0m \u001b[32m78.7/78.7 KB\u001b[0m \u001b[31m11.5 MB/s\u001b[0m eta \u001b[36m0:00:00\u001b[0m\n",
            "\u001b[?25hRequirement already satisfied: greenlet!=0.4.17 in /usr/local/lib/python3.8/dist-packages (from sqlalchemy>=1.3.0->optuna) (2.0.2)\n",
            "Requirement already satisfied: zipp>=0.5 in /usr/local/lib/python3.8/dist-packages (from importlib-metadata->alembic>=1.5.0->optuna) (3.15.0)\n",
            "Requirement already satisfied: MarkupSafe>=0.9.2 in /usr/local/lib/python3.8/dist-packages (from Mako->alembic>=1.5.0->optuna) (2.1.2)\n",
            "Installing collected packages: Mako, colorlog, cmaes, alembic, optuna\n",
            "Successfully installed Mako-1.2.4 alembic-1.10.1 cmaes-0.9.1 colorlog-6.7.0 optuna-3.1.0\n"
          ]
        }
      ],
      "source": [
        "!pip install optuna"
      ]
    },
    {
      "cell_type": "code",
      "execution_count": 22,
      "metadata": {
        "id": "fqHEoNio6Y9Z"
      },
      "outputs": [],
      "source": [
        "criterion = \"entropy\" #What is the criterion used for the split\n",
        "#There is an scientific paper comparing gini and entropy and they diverge in only 2% of the cases, but entropy is a little slower because of logarithm\n",
        "\n",
        "splitter = \"best\" #The strategy used to choose the split at each node\n",
        "#If the model is suffering from overfitting we can change it to random, to avoid this fate\n",
        "\n",
        "max_depth = 20 #can be None to go forever till purity beeing achieved\n",
        "\n",
        "min_samples_split = 2 #if int, it is the minimal number to make a split\n",
        "                      #if float, it is the min_samples_split * n_samples\n",
        "\n",
        "min_samples_leaf = 1 #int, float\n",
        "\n",
        "#min_weight_fraction_leaf = \n",
        "\n",
        "max_features = None #there are few features, so I think"
      ]
    },
    {
      "cell_type": "code",
      "execution_count": 23,
      "metadata": {
        "id": "xW-I47qqllqf",
        "colab": {
          "base_uri": "https://localhost:8080/"
        },
        "outputId": "218adb30-5e49-45d3-80fd-eb024ee00300"
      },
      "outputs": [
        {
          "output_type": "stream",
          "name": "stdout",
          "text": [
            "Looking in indexes: https://pypi.org/simple, https://us-python.pkg.dev/colab-wheels/public/simple/\n",
            "Requirement already satisfied: optuna in /usr/local/lib/python3.8/dist-packages (3.1.0)\n",
            "Requirement already satisfied: cmaes>=0.9.1 in /usr/local/lib/python3.8/dist-packages (from optuna) (0.9.1)\n",
            "Requirement already satisfied: sqlalchemy>=1.3.0 in /usr/local/lib/python3.8/dist-packages (from optuna) (1.4.46)\n",
            "Requirement already satisfied: tqdm in /usr/local/lib/python3.8/dist-packages (from optuna) (4.64.1)\n",
            "Requirement already satisfied: numpy in /usr/local/lib/python3.8/dist-packages (from optuna) (1.22.4)\n",
            "Requirement already satisfied: packaging>=20.0 in /usr/local/lib/python3.8/dist-packages (from optuna) (23.0)\n",
            "Requirement already satisfied: alembic>=1.5.0 in /usr/local/lib/python3.8/dist-packages (from optuna) (1.10.1)\n",
            "Requirement already satisfied: colorlog in /usr/local/lib/python3.8/dist-packages (from optuna) (6.7.0)\n",
            "Requirement already satisfied: PyYAML in /usr/local/lib/python3.8/dist-packages (from optuna) (6.0)\n",
            "Requirement already satisfied: importlib-resources in /usr/local/lib/python3.8/dist-packages (from alembic>=1.5.0->optuna) (5.12.0)\n",
            "Requirement already satisfied: importlib-metadata in /usr/local/lib/python3.8/dist-packages (from alembic>=1.5.0->optuna) (6.0.0)\n",
            "Requirement already satisfied: Mako in /usr/local/lib/python3.8/dist-packages (from alembic>=1.5.0->optuna) (1.2.4)\n",
            "Requirement already satisfied: typing-extensions>=4 in /usr/local/lib/python3.8/dist-packages (from alembic>=1.5.0->optuna) (4.5.0)\n",
            "Requirement already satisfied: greenlet!=0.4.17 in /usr/local/lib/python3.8/dist-packages (from sqlalchemy>=1.3.0->optuna) (2.0.2)\n",
            "Requirement already satisfied: zipp>=0.5 in /usr/local/lib/python3.8/dist-packages (from importlib-metadata->alembic>=1.5.0->optuna) (3.15.0)\n",
            "Requirement already satisfied: MarkupSafe>=0.9.2 in /usr/local/lib/python3.8/dist-packages (from Mako->alembic>=1.5.0->optuna) (2.1.2)\n"
          ]
        }
      ],
      "source": [
        "!pip install optuna"
      ]
    },
    {
      "cell_type": "code",
      "execution_count": 25,
      "metadata": {
        "colab": {
          "base_uri": "https://localhost:8080/"
        },
        "id": "tMxekoKYHO3g",
        "outputId": "2f3c0c87-ef16-4dec-c35e-55a7f5ca6fc7"
      },
      "outputs": [
        {
          "output_type": "stream",
          "name": "stderr",
          "text": [
            "\u001b[32m[I 2023-03-08 16:38:59,710]\u001b[0m A new study created in memory with name: no-name-311cbe99-0583-4b94-b187-8f1cf57aff80\u001b[0m\n",
            "\u001b[32m[I 2023-03-08 16:38:59,821]\u001b[0m Trial 0 finished with value: 0.8649775361810775 and parameters: {'min_samples_split': 44, 'min_samples_leaf': 9, 'max_depth': 13, 'criterion': 'entropy', 'splitter': 'best'}. Best is trial 0 with value: 0.8649775361810775.\u001b[0m\n",
            "\u001b[32m[I 2023-03-08 16:38:59,906]\u001b[0m Trial 1 finished with value: 0.8638056311842964 and parameters: {'min_samples_split': 42, 'min_samples_leaf': 14, 'max_depth': 15, 'criterion': 'entropy', 'splitter': 'best'}. Best is trial 0 with value: 0.8649775361810775.\u001b[0m\n",
            "\u001b[32m[I 2023-03-08 16:38:59,989]\u001b[0m Trial 2 finished with value: 0.8425478747373548 and parameters: {'min_samples_split': 7, 'min_samples_leaf': 23, 'max_depth': 16, 'criterion': 'log_loss', 'splitter': 'best'}. Best is trial 0 with value: 0.8649775361810775.\u001b[0m\n",
            "\u001b[32m[I 2023-03-08 16:39:00,052]\u001b[0m Trial 3 finished with value: 0.7929821124804716 and parameters: {'min_samples_split': 33, 'min_samples_leaf': 26, 'max_depth': 11, 'criterion': 'gini', 'splitter': 'best'}. Best is trial 0 with value: 0.8649775361810775.\u001b[0m\n",
            "\u001b[32m[I 2023-03-08 16:39:00,079]\u001b[0m Trial 4 finished with value: 0.6350654484065507 and parameters: {'min_samples_split': 5, 'min_samples_leaf': 22, 'max_depth': 13, 'criterion': 'entropy', 'splitter': 'random'}. Best is trial 0 with value: 0.8649775361810775.\u001b[0m\n",
            "\u001b[32m[I 2023-03-08 16:39:00,102]\u001b[0m Trial 5 finished with value: 0.6232908408705302 and parameters: {'min_samples_split': 42, 'min_samples_leaf': 19, 'max_depth': 10, 'criterion': 'log_loss', 'splitter': 'random'}. Best is trial 0 with value: 0.8649775361810775.\u001b[0m\n",
            "\u001b[32m[I 2023-03-08 16:39:00,171]\u001b[0m Trial 6 finished with value: 0.8998954960386203 and parameters: {'min_samples_split': 14, 'min_samples_leaf': 4, 'max_depth': 12, 'criterion': 'gini', 'splitter': 'best'}. Best is trial 6 with value: 0.8998954960386203.\u001b[0m\n",
            "\u001b[32m[I 2023-03-08 16:39:00,253]\u001b[0m Trial 7 finished with value: 0.848237568576636 and parameters: {'min_samples_split': 34, 'min_samples_leaf': 20, 'max_depth': 15, 'criterion': 'entropy', 'splitter': 'best'}. Best is trial 6 with value: 0.8998954960386203.\u001b[0m\n",
            "\u001b[32m[I 2023-03-08 16:39:00,347]\u001b[0m Trial 8 finished with value: 0.9508373572466734 and parameters: {'min_samples_split': 17, 'min_samples_leaf': 8, 'max_depth': 18, 'criterion': 'log_loss', 'splitter': 'best'}. Best is trial 8 with value: 0.9508373572466734.\u001b[0m\n",
            "\u001b[32m[I 2023-03-08 16:39:00,382]\u001b[0m Trial 9 finished with value: 0.8111154750977586 and parameters: {'min_samples_split': 15, 'min_samples_leaf': 1, 'max_depth': 17, 'criterion': 'gini', 'splitter': 'random'}. Best is trial 8 with value: 0.9508373572466734.\u001b[0m\n",
            "\u001b[32m[I 2023-03-08 16:39:00,426]\u001b[0m Trial 10 finished with value: 0.8164810668958454 and parameters: {'min_samples_split': 23, 'min_samples_leaf': 11, 'max_depth': 20, 'criterion': 'log_loss', 'splitter': 'random'}. Best is trial 8 with value: 0.9508373572466734.\u001b[0m\n",
            "\u001b[32m[I 2023-03-08 16:39:00,512]\u001b[0m Trial 11 finished with value: 0.9390223534247711 and parameters: {'min_samples_split': 17, 'min_samples_leaf': 4, 'max_depth': 19, 'criterion': 'gini', 'splitter': 'best'}. Best is trial 8 with value: 0.9508373572466734.\u001b[0m\n",
            "\u001b[32m[I 2023-03-08 16:39:00,598]\u001b[0m Trial 12 finished with value: 0.924199750728846 and parameters: {'min_samples_split': 20, 'min_samples_leaf': 6, 'max_depth': 20, 'criterion': 'gini', 'splitter': 'best'}. Best is trial 8 with value: 0.9508373572466734.\u001b[0m\n",
            "\u001b[32m[I 2023-03-08 16:39:00,701]\u001b[0m Trial 13 finished with value: 0.930580933852538 and parameters: {'min_samples_split': 29, 'min_samples_leaf': 7, 'max_depth': 18, 'criterion': 'log_loss', 'splitter': 'best'}. Best is trial 8 with value: 0.9508373572466734.\u001b[0m\n",
            "\u001b[32m[I 2023-03-08 16:39:00,812]\u001b[0m Trial 14 finished with value: 0.9761176007747523 and parameters: {'min_samples_split': 13, 'min_samples_leaf': 1, 'max_depth': 18, 'criterion': 'log_loss', 'splitter': 'best'}. Best is trial 14 with value: 0.9761176007747523.\u001b[0m\n",
            "\u001b[32m[I 2023-03-08 16:39:00,949]\u001b[0m Trial 15 finished with value: 0.9842886077869795 and parameters: {'min_samples_split': 9, 'min_samples_leaf': 1, 'max_depth': 18, 'criterion': 'log_loss', 'splitter': 'best'}. Best is trial 15 with value: 0.9842886077869795.\u001b[0m\n",
            "\u001b[32m[I 2023-03-08 16:39:01,094]\u001b[0m Trial 16 finished with value: 0.9876088939031861 and parameters: {'min_samples_split': 2, 'min_samples_leaf': 1, 'max_depth': 17, 'criterion': 'log_loss', 'splitter': 'best'}. Best is trial 16 with value: 0.9876088939031861.\u001b[0m\n",
            "\u001b[32m[I 2023-03-08 16:39:01,235]\u001b[0m Trial 17 finished with value: 0.8884501130726589 and parameters: {'min_samples_split': 2, 'min_samples_leaf': 14, 'max_depth': 16, 'criterion': 'log_loss', 'splitter': 'best'}. Best is trial 16 with value: 0.9876088939031861.\u001b[0m\n",
            "\u001b[32m[I 2023-03-08 16:39:01,300]\u001b[0m Trial 18 finished with value: 0.6521388705721222 and parameters: {'min_samples_split': 9, 'min_samples_leaf': 11, 'max_depth': 15, 'criterion': 'log_loss', 'splitter': 'random'}. Best is trial 16 with value: 0.9876088939031861.\u001b[0m\n",
            "\u001b[32m[I 2023-03-08 16:39:01,451]\u001b[0m Trial 19 finished with value: 0.8062937002366604 and parameters: {'min_samples_split': 2, 'min_samples_leaf': 30, 'max_depth': 17, 'criterion': 'log_loss', 'splitter': 'best'}. Best is trial 16 with value: 0.9876088939031861.\u001b[0m\n",
            "\u001b[32m[I 2023-03-08 16:39:01,602]\u001b[0m Trial 20 finished with value: 0.9780912606255104 and parameters: {'min_samples_split': 10, 'min_samples_leaf': 4, 'max_depth': 19, 'criterion': 'log_loss', 'splitter': 'best'}. Best is trial 16 with value: 0.9876088939031861.\u001b[0m\n",
            "\u001b[32m[I 2023-03-08 16:39:01,751]\u001b[0m Trial 21 finished with value: 0.9771120710712382 and parameters: {'min_samples_split': 11, 'min_samples_leaf': 3, 'max_depth': 19, 'criterion': 'log_loss', 'splitter': 'best'}. Best is trial 16 with value: 0.9876088939031861.\u001b[0m\n",
            "\u001b[32m[I 2023-03-08 16:39:01,898]\u001b[0m Trial 22 finished with value: 0.9861884571740912 and parameters: {'min_samples_split': 6, 'min_samples_leaf': 1, 'max_depth': 17, 'criterion': 'log_loss', 'splitter': 'best'}. Best is trial 16 with value: 0.9876088939031861.\u001b[0m\n",
            "\u001b[32m[I 2023-03-08 16:39:02,045]\u001b[0m Trial 23 finished with value: 0.9858063959693802 and parameters: {'min_samples_split': 5, 'min_samples_leaf': 1, 'max_depth': 17, 'criterion': 'log_loss', 'splitter': 'best'}. Best is trial 16 with value: 0.9876088939031861.\u001b[0m\n",
            "\u001b[32m[I 2023-03-08 16:39:02,192]\u001b[0m Trial 24 finished with value: 0.9646411647048219 and parameters: {'min_samples_split': 5, 'min_samples_leaf': 6, 'max_depth': 16, 'criterion': 'log_loss', 'splitter': 'best'}. Best is trial 16 with value: 0.9876088939031861.\u001b[0m\n",
            "\u001b[32m[I 2023-03-08 16:39:02,342]\u001b[0m Trial 25 finished with value: 0.9234919275998545 and parameters: {'min_samples_split': 3, 'min_samples_leaf': 10, 'max_depth': 17, 'criterion': 'log_loss', 'splitter': 'best'}. Best is trial 16 with value: 0.9876088939031861.\u001b[0m\n",
            "\u001b[32m[I 2023-03-08 16:39:02,402]\u001b[0m Trial 26 finished with value: 0.819895517285113 and parameters: {'min_samples_split': 22, 'min_samples_leaf': 3, 'max_depth': 14, 'criterion': 'log_loss', 'splitter': 'random'}. Best is trial 16 with value: 0.9876088939031861.\u001b[0m\n",
            "\u001b[32m[I 2023-03-08 16:39:02,556]\u001b[0m Trial 27 finished with value: 0.8818427420891329 and parameters: {'min_samples_split': 50, 'min_samples_leaf': 1, 'max_depth': 17, 'criterion': 'log_loss', 'splitter': 'best'}. Best is trial 16 with value: 0.9876088939031861.\u001b[0m\n",
            "\u001b[32m[I 2023-03-08 16:39:02,705]\u001b[0m Trial 28 finished with value: 0.9652027142577508 and parameters: {'min_samples_split': 6, 'min_samples_leaf': 6, 'max_depth': 16, 'criterion': 'entropy', 'splitter': 'best'}. Best is trial 16 with value: 0.9876088939031861.\u001b[0m\n",
            "\u001b[32m[I 2023-03-08 16:39:02,852]\u001b[0m Trial 29 finished with value: 0.9189709018136141 and parameters: {'min_samples_split': 7, 'min_samples_leaf': 9, 'max_depth': 14, 'criterion': 'log_loss', 'splitter': 'best'}. Best is trial 16 with value: 0.9876088939031861.\u001b[0m\n",
            "\u001b[32m[I 2023-03-08 16:39:02,956]\u001b[0m Trial 30 finished with value: 0.8780465257585599 and parameters: {'min_samples_split': 28, 'min_samples_leaf': 13, 'max_depth': 14, 'criterion': 'entropy', 'splitter': 'best'}. Best is trial 16 with value: 0.9876088939031861.\u001b[0m\n",
            "\u001b[32m[I 2023-03-08 16:39:03,061]\u001b[0m Trial 31 finished with value: 0.9824208333854022 and parameters: {'min_samples_split': 10, 'min_samples_leaf': 1, 'max_depth': 18, 'criterion': 'log_loss', 'splitter': 'best'}. Best is trial 16 with value: 0.9876088939031861.\u001b[0m\n",
            "\u001b[32m[I 2023-03-08 16:39:03,169]\u001b[0m Trial 32 finished with value: 0.9814976858039398 and parameters: {'min_samples_split': 2, 'min_samples_leaf': 3, 'max_depth': 17, 'criterion': 'log_loss', 'splitter': 'best'}. Best is trial 16 with value: 0.9876088939031861.\u001b[0m\n",
            "\u001b[32m[I 2023-03-08 16:39:03,271]\u001b[0m Trial 33 finished with value: 0.9714036976391381 and parameters: {'min_samples_split': 7, 'min_samples_leaf': 5, 'max_depth': 19, 'criterion': 'log_loss', 'splitter': 'best'}. Best is trial 16 with value: 0.9876088939031861.\u001b[0m\n",
            "\u001b[32m[I 2023-03-08 16:39:03,386]\u001b[0m Trial 34 finished with value: 0.974755160887645 and parameters: {'min_samples_split': 13, 'min_samples_leaf': 1, 'max_depth': 16, 'criterion': 'log_loss', 'splitter': 'best'}. Best is trial 16 with value: 0.9876088939031861.\u001b[0m\n",
            "\u001b[32m[I 2023-03-08 16:39:03,496]\u001b[0m Trial 35 finished with value: 0.9755849351761609 and parameters: {'min_samples_split': 5, 'min_samples_leaf': 3, 'max_depth': 15, 'criterion': 'log_loss', 'splitter': 'best'}. Best is trial 16 with value: 0.9876088939031861.\u001b[0m\n",
            "\u001b[32m[I 2023-03-08 16:39:03,599]\u001b[0m Trial 36 finished with value: 0.9546400553576977 and parameters: {'min_samples_split': 8, 'min_samples_leaf': 8, 'max_depth': 18, 'criterion': 'entropy', 'splitter': 'best'}. Best is trial 16 with value: 0.9876088939031861.\u001b[0m\n",
            "\u001b[32m[I 2023-03-08 16:39:03,643]\u001b[0m Trial 37 finished with value: 0.6744777485330287 and parameters: {'min_samples_split': 11, 'min_samples_leaf': 16, 'max_depth': 17, 'criterion': 'log_loss', 'splitter': 'random'}. Best is trial 16 with value: 0.9876088939031861.\u001b[0m\n",
            "\u001b[32m[I 2023-03-08 16:39:03,730]\u001b[0m Trial 38 finished with value: 0.9321270239294244 and parameters: {'min_samples_split': 5, 'min_samples_leaf': 5, 'max_depth': 16, 'criterion': 'gini', 'splitter': 'best'}. Best is trial 16 with value: 0.9876088939031861.\u001b[0m\n",
            "\u001b[32m[I 2023-03-08 16:39:03,838]\u001b[0m Trial 39 finished with value: 0.919856223190192 and parameters: {'min_samples_split': 36, 'min_samples_leaf': 2, 'max_depth': 18, 'criterion': 'log_loss', 'splitter': 'best'}. Best is trial 16 with value: 0.9876088939031861.\u001b[0m\n",
            "\u001b[32m[I 2023-03-08 16:39:03,937]\u001b[0m Trial 40 finished with value: 0.8611897239797048 and parameters: {'min_samples_split': 17, 'min_samples_leaf': 18, 'max_depth': 20, 'criterion': 'entropy', 'splitter': 'best'}. Best is trial 16 with value: 0.9876088939031861.\u001b[0m\n",
            "\u001b[32m[I 2023-03-08 16:39:04,052]\u001b[0m Trial 41 finished with value: 0.9819368670193672 and parameters: {'min_samples_split': 10, 'min_samples_leaf': 2, 'max_depth': 18, 'criterion': 'log_loss', 'splitter': 'best'}. Best is trial 16 with value: 0.9876088939031861.\u001b[0m\n",
            "\u001b[32m[I 2023-03-08 16:39:04,165]\u001b[0m Trial 42 finished with value: 0.9856950585599352 and parameters: {'min_samples_split': 4, 'min_samples_leaf': 1, 'max_depth': 19, 'criterion': 'log_loss', 'splitter': 'best'}. Best is trial 16 with value: 0.9876088939031861.\u001b[0m\n",
            "\u001b[32m[I 2023-03-08 16:39:04,270]\u001b[0m Trial 43 finished with value: 0.9705211101144159 and parameters: {'min_samples_split': 5, 'min_samples_leaf': 5, 'max_depth': 19, 'criterion': 'log_loss', 'splitter': 'best'}. Best is trial 16 with value: 0.9876088939031861.\u001b[0m\n",
            "\u001b[32m[I 2023-03-08 16:39:04,312]\u001b[0m Trial 44 finished with value: 0.686753502537653 and parameters: {'min_samples_split': 8, 'min_samples_leaf': 25, 'max_depth': 17, 'criterion': 'log_loss', 'splitter': 'random'}. Best is trial 16 with value: 0.9876088939031861.\u001b[0m\n",
            "\u001b[32m[I 2023-03-08 16:39:04,401]\u001b[0m Trial 45 finished with value: 0.825128556242402 and parameters: {'min_samples_split': 4, 'min_samples_leaf': 2, 'max_depth': 10, 'criterion': 'gini', 'splitter': 'best'}. Best is trial 16 with value: 0.9876088939031861.\u001b[0m\n",
            "\u001b[32m[I 2023-03-08 16:39:04,512]\u001b[0m Trial 46 finished with value: 0.9714168657569502 and parameters: {'min_samples_split': 14, 'min_samples_leaf': 4, 'max_depth': 20, 'criterion': 'log_loss', 'splitter': 'best'}. Best is trial 16 with value: 0.9876088939031861.\u001b[0m\n",
            "\u001b[32m[I 2023-03-08 16:39:04,617]\u001b[0m Trial 47 finished with value: 0.9596840305820238 and parameters: {'min_samples_split': 2, 'min_samples_leaf': 7, 'max_depth': 19, 'criterion': 'log_loss', 'splitter': 'best'}. Best is trial 16 with value: 0.9876088939031861.\u001b[0m\n",
            "\u001b[32m[I 2023-03-08 16:39:04,722]\u001b[0m Trial 48 finished with value: 0.9463823690993256 and parameters: {'min_samples_split': 7, 'min_samples_leaf': 2, 'max_depth': 12, 'criterion': 'log_loss', 'splitter': 'best'}. Best is trial 16 with value: 0.9876088939031861.\u001b[0m\n",
            "\u001b[32m[I 2023-03-08 16:39:04,765]\u001b[0m Trial 49 finished with value: 0.8129164232494885 and parameters: {'min_samples_split': 12, 'min_samples_leaf': 4, 'max_depth': 18, 'criterion': 'gini', 'splitter': 'random'}. Best is trial 16 with value: 0.9876088939031861.\u001b[0m\n",
            "\u001b[32m[I 2023-03-08 16:39:04,863]\u001b[0m Trial 50 finished with value: 0.8396456298382062 and parameters: {'min_samples_split': 17, 'min_samples_leaf': 22, 'max_depth': 16, 'criterion': 'log_loss', 'splitter': 'best'}. Best is trial 16 with value: 0.9876088939031861.\u001b[0m\n",
            "\u001b[32m[I 2023-03-08 16:39:04,969]\u001b[0m Trial 51 finished with value: 0.9847134212167273 and parameters: {'min_samples_split': 9, 'min_samples_leaf': 1, 'max_depth': 18, 'criterion': 'log_loss', 'splitter': 'best'}. Best is trial 16 with value: 0.9876088939031861.\u001b[0m\n",
            "\u001b[32m[I 2023-03-08 16:39:05,083]\u001b[0m Trial 52 finished with value: 0.9852775972707483 and parameters: {'min_samples_split': 4, 'min_samples_leaf': 1, 'max_depth': 19, 'criterion': 'log_loss', 'splitter': 'best'}. Best is trial 16 with value: 0.9876088939031861.\u001b[0m\n",
            "\u001b[32m[I 2023-03-08 16:39:05,196]\u001b[0m Trial 53 finished with value: 0.9872499407557381 and parameters: {'min_samples_split': 4, 'min_samples_leaf': 1, 'max_depth': 19, 'criterion': 'log_loss', 'splitter': 'best'}. Best is trial 16 with value: 0.9876088939031861.\u001b[0m\n",
            "\u001b[32m[I 2023-03-08 16:39:05,312]\u001b[0m Trial 54 finished with value: 0.9793953219028677 and parameters: {'min_samples_split': 4, 'min_samples_leaf': 3, 'max_depth': 20, 'criterion': 'log_loss', 'splitter': 'best'}. Best is trial 16 with value: 0.9876088939031861.\u001b[0m\n",
            "\u001b[32m[I 2023-03-08 16:39:05,425]\u001b[0m Trial 55 finished with value: 0.9849704100638761 and parameters: {'min_samples_split': 3, 'min_samples_leaf': 2, 'max_depth': 19, 'criterion': 'log_loss', 'splitter': 'best'}. Best is trial 16 with value: 0.9876088939031861.\u001b[0m\n",
            "\u001b[32m[I 2023-03-08 16:39:05,546]\u001b[0m Trial 56 finished with value: 0.9724580283692017 and parameters: {'min_samples_split': 6, 'min_samples_leaf': 5, 'max_depth': 20, 'criterion': 'log_loss', 'splitter': 'best'}. Best is trial 16 with value: 0.9876088939031861.\u001b[0m\n",
            "\u001b[32m[I 2023-03-08 16:39:05,653]\u001b[0m Trial 57 finished with value: 0.9615117170024527 and parameters: {'min_samples_split': 4, 'min_samples_leaf': 7, 'max_depth': 19, 'criterion': 'log_loss', 'splitter': 'best'}. Best is trial 16 with value: 0.9876088939031861.\u001b[0m\n",
            "\u001b[32m[I 2023-03-08 16:39:05,760]\u001b[0m Trial 58 finished with value: 0.9805444964924153 and parameters: {'min_samples_split': 2, 'min_samples_leaf': 3, 'max_depth': 19, 'criterion': 'entropy', 'splitter': 'best'}. Best is trial 16 with value: 0.9876088939031861.\u001b[0m\n",
            "\u001b[32m[I 2023-03-08 16:39:05,806]\u001b[0m Trial 59 finished with value: 0.672083573803736 and parameters: {'min_samples_split': 15, 'min_samples_leaf': 29, 'max_depth': 17, 'criterion': 'log_loss', 'splitter': 'random'}. Best is trial 16 with value: 0.9876088939031861.\u001b[0m\n",
            "\u001b[32m[I 2023-03-08 16:39:05,893]\u001b[0m Trial 60 finished with value: 0.8632842840769666 and parameters: {'min_samples_split': 43, 'min_samples_leaf': 1, 'max_depth': 15, 'criterion': 'gini', 'splitter': 'best'}. Best is trial 16 with value: 0.9876088939031861.\u001b[0m\n",
            "\u001b[32m[I 2023-03-08 16:39:06,001]\u001b[0m Trial 61 finished with value: 0.9859153093335955 and parameters: {'min_samples_split': 3, 'min_samples_leaf': 2, 'max_depth': 19, 'criterion': 'log_loss', 'splitter': 'best'}. Best is trial 16 with value: 0.9876088939031861.\u001b[0m\n",
            "\u001b[32m[I 2023-03-08 16:39:06,113]\u001b[0m Trial 62 finished with value: 0.9789875841212733 and parameters: {'min_samples_split': 6, 'min_samples_leaf': 4, 'max_depth': 20, 'criterion': 'log_loss', 'splitter': 'best'}. Best is trial 16 with value: 0.9876088939031861.\u001b[0m\n",
            "\u001b[32m[I 2023-03-08 16:39:06,220]\u001b[0m Trial 63 finished with value: 0.9830888089953431 and parameters: {'min_samples_split': 4, 'min_samples_leaf': 2, 'max_depth': 19, 'criterion': 'log_loss', 'splitter': 'best'}. Best is trial 16 with value: 0.9876088939031861.\u001b[0m\n",
            "\u001b[32m[I 2023-03-08 16:39:06,326]\u001b[0m Trial 64 finished with value: 0.9842499530145219 and parameters: {'min_samples_split': 8, 'min_samples_leaf': 1, 'max_depth': 18, 'criterion': 'log_loss', 'splitter': 'best'}. Best is trial 16 with value: 0.9876088939031861.\u001b[0m\n",
            "\u001b[32m[I 2023-03-08 16:39:06,432]\u001b[0m Trial 65 finished with value: 0.9814459412091839 and parameters: {'min_samples_split': 3, 'min_samples_leaf': 3, 'max_depth': 20, 'criterion': 'log_loss', 'splitter': 'best'}. Best is trial 16 with value: 0.9876088939031861.\u001b[0m\n",
            "\u001b[32m[I 2023-03-08 16:39:06,550]\u001b[0m Trial 66 finished with value: 0.9037525945246867 and parameters: {'min_samples_split': 40, 'min_samples_leaf': 4, 'max_depth': 19, 'criterion': 'log_loss', 'splitter': 'best'}. Best is trial 16 with value: 0.9876088939031861.\u001b[0m\n",
            "\u001b[32m[I 2023-03-08 16:39:06,658]\u001b[0m Trial 67 finished with value: 0.9670564464005261 and parameters: {'min_samples_split': 6, 'min_samples_leaf': 6, 'max_depth': 17, 'criterion': 'log_loss', 'splitter': 'best'}. Best is trial 16 with value: 0.9876088939031861.\u001b[0m\n",
            "\u001b[32m[I 2023-03-08 16:39:06,767]\u001b[0m Trial 68 finished with value: 0.9578292177443601 and parameters: {'min_samples_split': 20, 'min_samples_leaf': 2, 'max_depth': 18, 'criterion': 'log_loss', 'splitter': 'best'}. Best is trial 16 with value: 0.9876088939031861.\u001b[0m\n",
            "\u001b[32m[I 2023-03-08 16:39:06,878]\u001b[0m Trial 69 finished with value: 0.9857765557003024 and parameters: {'min_samples_split': 2, 'min_samples_leaf': 1, 'max_depth': 19, 'criterion': 'log_loss', 'splitter': 'best'}. Best is trial 16 with value: 0.9876088939031861.\u001b[0m\n",
            "\u001b[32m[I 2023-03-08 16:39:06,989]\u001b[0m Trial 70 finished with value: 0.9790022805533696 and parameters: {'min_samples_split': 2, 'min_samples_leaf': 4, 'max_depth': 18, 'criterion': 'log_loss', 'splitter': 'best'}. Best is trial 16 with value: 0.9876088939031861.\u001b[0m\n",
            "\u001b[32m[I 2023-03-08 16:39:07,106]\u001b[0m Trial 71 finished with value: 0.9848534272213152 and parameters: {'min_samples_split': 4, 'min_samples_leaf': 1, 'max_depth': 19, 'criterion': 'log_loss', 'splitter': 'best'}. Best is trial 16 with value: 0.9876088939031861.\u001b[0m\n",
            "\u001b[32m[I 2023-03-08 16:39:07,214]\u001b[0m Trial 72 finished with value: 0.9820066317499058 and parameters: {'min_samples_split': 7, 'min_samples_leaf': 2, 'max_depth': 20, 'criterion': 'log_loss', 'splitter': 'best'}. Best is trial 16 with value: 0.9876088939031861.\u001b[0m\n",
            "\u001b[32m[I 2023-03-08 16:39:07,322]\u001b[0m Trial 73 finished with value: 0.9840213066711457 and parameters: {'min_samples_split': 3, 'min_samples_leaf': 1, 'max_depth': 19, 'criterion': 'log_loss', 'splitter': 'best'}. Best is trial 16 with value: 0.9876088939031861.\u001b[0m\n",
            "\u001b[32m[I 2023-03-08 16:39:07,432]\u001b[0m Trial 74 finished with value: 0.9802332583035708 and parameters: {'min_samples_split': 9, 'min_samples_leaf': 3, 'max_depth': 17, 'criterion': 'log_loss', 'splitter': 'best'}. Best is trial 16 with value: 0.9876088939031861.\u001b[0m\n",
            "\u001b[32m[I 2023-03-08 16:39:07,546]\u001b[0m Trial 75 finished with value: 0.9867719860561299 and parameters: {'min_samples_split': 6, 'min_samples_leaf': 1, 'max_depth': 18, 'criterion': 'entropy', 'splitter': 'best'}. Best is trial 16 with value: 0.9876088939031861.\u001b[0m\n",
            "\u001b[32m[I 2023-03-08 16:39:07,589]\u001b[0m Trial 76 finished with value: 0.7378790585594263 and parameters: {'min_samples_split': 31, 'min_samples_leaf': 5, 'max_depth': 18, 'criterion': 'entropy', 'splitter': 'random'}. Best is trial 16 with value: 0.9876088939031861.\u001b[0m\n",
            "\u001b[32m[I 2023-03-08 16:39:07,703]\u001b[0m Trial 77 finished with value: 0.9795262892653802 and parameters: {'min_samples_split': 11, 'min_samples_leaf': 2, 'max_depth': 17, 'criterion': 'entropy', 'splitter': 'best'}. Best is trial 16 with value: 0.9876088939031861.\u001b[0m\n",
            "\u001b[32m[I 2023-03-08 16:39:07,812]\u001b[0m Trial 78 finished with value: 0.9487620612049842 and parameters: {'min_samples_split': 25, 'min_samples_leaf': 3, 'max_depth': 18, 'criterion': 'entropy', 'splitter': 'best'}. Best is trial 16 with value: 0.9876088939031861.\u001b[0m\n",
            "\u001b[32m[I 2023-03-08 16:39:07,928]\u001b[0m Trial 79 finished with value: 0.9828768402264646 and parameters: {'min_samples_split': 6, 'min_samples_leaf': 2, 'max_depth': 16, 'criterion': 'entropy', 'splitter': 'best'}. Best is trial 16 with value: 0.9876088939031861.\u001b[0m\n",
            "\u001b[32m[I 2023-03-08 16:39:08,039]\u001b[0m Trial 80 finished with value: 0.8828492660855638 and parameters: {'min_samples_split': 47, 'min_samples_leaf': 3, 'max_depth': 17, 'criterion': 'entropy', 'splitter': 'best'}. Best is trial 16 with value: 0.9876088939031861.\u001b[0m\n",
            "\u001b[32m[I 2023-03-08 16:39:08,156]\u001b[0m Trial 81 finished with value: 0.9857009463156224 and parameters: {'min_samples_split': 5, 'min_samples_leaf': 1, 'max_depth': 19, 'criterion': 'log_loss', 'splitter': 'best'}. Best is trial 16 with value: 0.9876088939031861.\u001b[0m\n",
            "\u001b[32m[I 2023-03-08 16:39:08,273]\u001b[0m Trial 82 finished with value: 0.9842330978995922 and parameters: {'min_samples_split': 8, 'min_samples_leaf': 1, 'max_depth': 19, 'criterion': 'log_loss', 'splitter': 'best'}. Best is trial 16 with value: 0.9876088939031861.\u001b[0m\n",
            "\u001b[32m[I 2023-03-08 16:39:08,387]\u001b[0m Trial 83 finished with value: 0.9847650385657617 and parameters: {'min_samples_split': 5, 'min_samples_leaf': 1, 'max_depth': 18, 'criterion': 'log_loss', 'splitter': 'best'}. Best is trial 16 with value: 0.9876088939031861.\u001b[0m\n",
            "\u001b[32m[I 2023-03-08 16:39:08,482]\u001b[0m Trial 84 finished with value: 0.9691318186461436 and parameters: {'min_samples_split': 2, 'min_samples_leaf': 2, 'max_depth': 19, 'criterion': 'gini', 'splitter': 'best'}. Best is trial 16 with value: 0.9876088939031861.\u001b[0m\n",
            "\u001b[32m[I 2023-03-08 16:39:08,594]\u001b[0m Trial 85 finished with value: 0.9719692412089634 and parameters: {'min_samples_split': 7, 'min_samples_leaf': 5, 'max_depth': 20, 'criterion': 'log_loss', 'splitter': 'best'}. Best is trial 16 with value: 0.9876088939031861.\u001b[0m\n",
            "\u001b[32m[I 2023-03-08 16:39:08,706]\u001b[0m Trial 86 finished with value: 0.9770693314166594 and parameters: {'min_samples_split': 3, 'min_samples_leaf': 4, 'max_depth': 19, 'criterion': 'log_loss', 'splitter': 'best'}. Best is trial 16 with value: 0.9876088939031861.\u001b[0m\n",
            "\u001b[32m[I 2023-03-08 16:39:08,817]\u001b[0m Trial 87 finished with value: 0.985936077546074 and parameters: {'min_samples_split': 5, 'min_samples_leaf': 1, 'max_depth': 18, 'criterion': 'entropy', 'splitter': 'best'}. Best is trial 16 with value: 0.9876088939031861.\u001b[0m\n",
            "\u001b[32m[I 2023-03-08 16:39:08,862]\u001b[0m Trial 88 finished with value: 0.6673834574442953 and parameters: {'min_samples_split': 10, 'min_samples_leaf': 12, 'max_depth': 17, 'criterion': 'entropy', 'splitter': 'random'}. Best is trial 16 with value: 0.9876088939031861.\u001b[0m\n",
            "\u001b[32m[I 2023-03-08 16:39:08,972]\u001b[0m Trial 89 finished with value: 0.9806192561242182 and parameters: {'min_samples_split': 6, 'min_samples_leaf': 3, 'max_depth': 18, 'criterion': 'entropy', 'splitter': 'best'}. Best is trial 16 with value: 0.9876088939031861.\u001b[0m\n",
            "\u001b[32m[I 2023-03-08 16:39:09,086]\u001b[0m Trial 90 finished with value: 0.8699703593182683 and parameters: {'min_samples_split': 5, 'min_samples_leaf': 16, 'max_depth': 16, 'criterion': 'entropy', 'splitter': 'best'}. Best is trial 16 with value: 0.9876088939031861.\u001b[0m\n",
            "\u001b[32m[I 2023-03-08 16:39:09,190]\u001b[0m Trial 91 finished with value: 0.9858397770548436 and parameters: {'min_samples_split': 3, 'min_samples_leaf': 1, 'max_depth': 18, 'criterion': 'entropy', 'splitter': 'best'}. Best is trial 16 with value: 0.9876088939031861.\u001b[0m\n",
            "\u001b[32m[I 2023-03-08 16:39:09,296]\u001b[0m Trial 92 finished with value: 0.9820377924670392 and parameters: {'min_samples_split': 3, 'min_samples_leaf': 2, 'max_depth': 18, 'criterion': 'entropy', 'splitter': 'best'}. Best is trial 16 with value: 0.9876088939031861.\u001b[0m\n",
            "\u001b[32m[I 2023-03-08 16:39:09,402]\u001b[0m Trial 93 finished with value: 0.9829301573540548 and parameters: {'min_samples_split': 8, 'min_samples_leaf': 1, 'max_depth': 18, 'criterion': 'entropy', 'splitter': 'best'}. Best is trial 16 with value: 0.9876088939031861.\u001b[0m\n",
            "\u001b[32m[I 2023-03-08 16:39:09,517]\u001b[0m Trial 94 finished with value: 0.985344936276678 and parameters: {'min_samples_split': 5, 'min_samples_leaf': 2, 'max_depth': 17, 'criterion': 'entropy', 'splitter': 'best'}. Best is trial 16 with value: 0.9876088939031861.\u001b[0m\n",
            "\u001b[32m[I 2023-03-08 16:39:09,637]\u001b[0m Trial 95 finished with value: 0.9867394850947733 and parameters: {'min_samples_split': 2, 'min_samples_leaf': 1, 'max_depth': 18, 'criterion': 'entropy', 'splitter': 'best'}. Best is trial 16 with value: 0.9876088939031861.\u001b[0m\n",
            "\u001b[32m[I 2023-03-08 16:39:09,748]\u001b[0m Trial 96 finished with value: 0.9808991013214616 and parameters: {'min_samples_split': 2, 'min_samples_leaf': 3, 'max_depth': 18, 'criterion': 'entropy', 'splitter': 'best'}. Best is trial 16 with value: 0.9876088939031861.\u001b[0m\n",
            "\u001b[32m[I 2023-03-08 16:39:09,863]\u001b[0m Trial 97 finished with value: 0.9871933379281481 and parameters: {'min_samples_split': 2, 'min_samples_leaf': 1, 'max_depth': 17, 'criterion': 'entropy', 'splitter': 'best'}. Best is trial 16 with value: 0.9876088939031861.\u001b[0m\n",
            "\u001b[32m[I 2023-03-08 16:39:09,969]\u001b[0m Trial 98 finished with value: 0.9781233097319554 and parameters: {'min_samples_split': 4, 'min_samples_leaf': 4, 'max_depth': 17, 'criterion': 'entropy', 'splitter': 'best'}. Best is trial 16 with value: 0.9876088939031861.\u001b[0m\n",
            "\u001b[32m[I 2023-03-08 16:39:10,076]\u001b[0m Trial 99 finished with value: 0.9796555460212172 and parameters: {'min_samples_split': 7, 'min_samples_leaf': 2, 'max_depth': 16, 'criterion': 'entropy', 'splitter': 'best'}. Best is trial 16 with value: 0.9876088939031861.\u001b[0m\n"
          ]
        },
        {
          "output_type": "stream",
          "name": "stdout",
          "text": [
            "{'min_samples_split': 2, 'min_samples_leaf': 1, 'max_depth': 17, 'criterion': 'log_loss', 'splitter': 'best'}\n"
          ]
        }
      ],
      "source": [
        "from sklearn.utils.extmath import weighted_mode\n",
        "import optuna\n",
        "\n",
        "\n",
        "\n",
        "def objective(trial):\n",
        "    min_samples_split = trial.suggest_int(\"min_samples_split\",2,50)\n",
        "    min_samples_leaf = trial.suggest_int(\"min_samples_leaf\",1,30)\n",
        "    max_depth = trial.suggest_int(\"max_depth\",10, 20)\n",
        "    criterion = trial.suggest_categorical(\"criterion\", [\"gini\", \"entropy\", \"log_loss\"])\n",
        "    splitter = trial.suggest_categorical(\"splitter\", [\"best\", \"random\"])\n",
        "\n",
        "    \n",
        "    clf = DecisionTreeClassifier(\n",
        "                                criterion=criterion,\n",
        "                                splitter=splitter,\n",
        "                                min_samples_split=min_samples_split,\n",
        "                                max_depth=max_depth, \n",
        "                                min_samples_leaf=min_samples_leaf, \n",
        "                                max_features=max_features\n",
        "                                )\n",
        "    clf.fit(X_train,y_train)\n",
        "    pred = clf.predict(X_valid)\n",
        "    return f1_score(pred,y_valid,average=\"weighted\")\n",
        "\n",
        "study = optuna.create_study(direction=\"maximize\")\n",
        "study.optimize(objective, n_trials=100)\n",
        "\n",
        "print(study.best_params)"
      ]
    },
    {
      "cell_type": "markdown",
      "metadata": {
        "id": "_IOd-Jz4oBxB"
      },
      "source": [
        "Os melhores valores encontrados e sugeridos pelo optuna são: - {'min_samples_split': 2, 'min_samples_leaf': 1, 'max_depth': 17, 'criterion': 'log_loss', 'splitter': 'best'}\n"
      ]
    },
    {
      "cell_type": "code",
      "execution_count": 26,
      "metadata": {
        "colab": {
          "base_uri": "https://localhost:8080/",
          "height": 75
        },
        "id": "K1JewcCpn_h9",
        "outputId": "75cb449e-63af-432c-b89c-aade3f144693"
      },
      "outputs": [
        {
          "output_type": "execute_result",
          "data": {
            "text/plain": [
              "DecisionTreeClassifier(criterion='log_loss', max_depth=17)"
            ],
            "text/html": [
              "<style>#sk-container-id-2 {color: black;background-color: white;}#sk-container-id-2 pre{padding: 0;}#sk-container-id-2 div.sk-toggleable {background-color: white;}#sk-container-id-2 label.sk-toggleable__label {cursor: pointer;display: block;width: 100%;margin-bottom: 0;padding: 0.3em;box-sizing: border-box;text-align: center;}#sk-container-id-2 label.sk-toggleable__label-arrow:before {content: \"▸\";float: left;margin-right: 0.25em;color: #696969;}#sk-container-id-2 label.sk-toggleable__label-arrow:hover:before {color: black;}#sk-container-id-2 div.sk-estimator:hover label.sk-toggleable__label-arrow:before {color: black;}#sk-container-id-2 div.sk-toggleable__content {max-height: 0;max-width: 0;overflow: hidden;text-align: left;background-color: #f0f8ff;}#sk-container-id-2 div.sk-toggleable__content pre {margin: 0.2em;color: black;border-radius: 0.25em;background-color: #f0f8ff;}#sk-container-id-2 input.sk-toggleable__control:checked~div.sk-toggleable__content {max-height: 200px;max-width: 100%;overflow: auto;}#sk-container-id-2 input.sk-toggleable__control:checked~label.sk-toggleable__label-arrow:before {content: \"▾\";}#sk-container-id-2 div.sk-estimator input.sk-toggleable__control:checked~label.sk-toggleable__label {background-color: #d4ebff;}#sk-container-id-2 div.sk-label input.sk-toggleable__control:checked~label.sk-toggleable__label {background-color: #d4ebff;}#sk-container-id-2 input.sk-hidden--visually {border: 0;clip: rect(1px 1px 1px 1px);clip: rect(1px, 1px, 1px, 1px);height: 1px;margin: -1px;overflow: hidden;padding: 0;position: absolute;width: 1px;}#sk-container-id-2 div.sk-estimator {font-family: monospace;background-color: #f0f8ff;border: 1px dotted black;border-radius: 0.25em;box-sizing: border-box;margin-bottom: 0.5em;}#sk-container-id-2 div.sk-estimator:hover {background-color: #d4ebff;}#sk-container-id-2 div.sk-parallel-item::after {content: \"\";width: 100%;border-bottom: 1px solid gray;flex-grow: 1;}#sk-container-id-2 div.sk-label:hover label.sk-toggleable__label {background-color: #d4ebff;}#sk-container-id-2 div.sk-serial::before {content: \"\";position: absolute;border-left: 1px solid gray;box-sizing: border-box;top: 0;bottom: 0;left: 50%;z-index: 0;}#sk-container-id-2 div.sk-serial {display: flex;flex-direction: column;align-items: center;background-color: white;padding-right: 0.2em;padding-left: 0.2em;position: relative;}#sk-container-id-2 div.sk-item {position: relative;z-index: 1;}#sk-container-id-2 div.sk-parallel {display: flex;align-items: stretch;justify-content: center;background-color: white;position: relative;}#sk-container-id-2 div.sk-item::before, #sk-container-id-2 div.sk-parallel-item::before {content: \"\";position: absolute;border-left: 1px solid gray;box-sizing: border-box;top: 0;bottom: 0;left: 50%;z-index: -1;}#sk-container-id-2 div.sk-parallel-item {display: flex;flex-direction: column;z-index: 1;position: relative;background-color: white;}#sk-container-id-2 div.sk-parallel-item:first-child::after {align-self: flex-end;width: 50%;}#sk-container-id-2 div.sk-parallel-item:last-child::after {align-self: flex-start;width: 50%;}#sk-container-id-2 div.sk-parallel-item:only-child::after {width: 0;}#sk-container-id-2 div.sk-dashed-wrapped {border: 1px dashed gray;margin: 0 0.4em 0.5em 0.4em;box-sizing: border-box;padding-bottom: 0.4em;background-color: white;}#sk-container-id-2 div.sk-label label {font-family: monospace;font-weight: bold;display: inline-block;line-height: 1.2em;}#sk-container-id-2 div.sk-label-container {text-align: center;}#sk-container-id-2 div.sk-container {/* jupyter's `normalize.less` sets `[hidden] { display: none; }` but bootstrap.min.css set `[hidden] { display: none !important; }` so we also need the `!important` here to be able to override the default hidden behavior on the sphinx rendered scikit-learn.org. See: https://github.com/scikit-learn/scikit-learn/issues/21755 */display: inline-block !important;position: relative;}#sk-container-id-2 div.sk-text-repr-fallback {display: none;}</style><div id=\"sk-container-id-2\" class=\"sk-top-container\"><div class=\"sk-text-repr-fallback\"><pre>DecisionTreeClassifier(criterion=&#x27;log_loss&#x27;, max_depth=17)</pre><b>In a Jupyter environment, please rerun this cell to show the HTML representation or trust the notebook. <br />On GitHub, the HTML representation is unable to render, please try loading this page with nbviewer.org.</b></div><div class=\"sk-container\" hidden><div class=\"sk-item\"><div class=\"sk-estimator sk-toggleable\"><input class=\"sk-toggleable__control sk-hidden--visually\" id=\"sk-estimator-id-2\" type=\"checkbox\" checked><label for=\"sk-estimator-id-2\" class=\"sk-toggleable__label sk-toggleable__label-arrow\">DecisionTreeClassifier</label><div class=\"sk-toggleable__content\"><pre>DecisionTreeClassifier(criterion=&#x27;log_loss&#x27;, max_depth=17)</pre></div></div></div></div></div>"
            ]
          },
          "metadata": {},
          "execution_count": 26
        }
      ],
      "source": [
        "clf_optuna_best = DecisionTreeClassifier(max_depth = 17, criterion=\"log_loss\",min_samples_split=2, min_samples_leaf=1, splitter=\"best\")\n",
        "clf_optuna_best.fit(X_train, y_train)"
      ]
    },
    {
      "cell_type": "code",
      "execution_count": 27,
      "metadata": {
        "colab": {
          "base_uri": "https://localhost:8080/",
          "height": 939
        },
        "id": "Gf1wStgNn_km",
        "outputId": "1dd047fc-0155-4644-f180-a137c618477d"
      },
      "outputs": [
        {
          "output_type": "stream",
          "name": "stdout",
          "text": [
            "              precision    recall  f1-score   support\n",
            "\n",
            "           A       0.99      0.99      0.99       850\n",
            "           B       1.00      0.50      0.67         2\n",
            "           C       1.00      0.85      0.92        26\n",
            "           D       0.99      1.00      0.99        69\n",
            "           E       0.98      0.97      0.98       231\n",
            "           F       0.99      0.99      0.99       379\n",
            "           G       0.99      0.98      0.98        89\n",
            "           H       0.96      0.96      0.96       112\n",
            "           I       1.00      1.00      1.00       180\n",
            "           W       1.00      0.75      0.86         8\n",
            "           X       0.96      0.97      0.96        92\n",
            "           Y       0.94      1.00      0.97        48\n",
            "\n",
            "    accuracy                           0.99      2086\n",
            "   macro avg       0.98      0.91      0.94      2086\n",
            "weighted avg       0.99      0.99      0.99      2086\n",
            "\n",
            "accuracy: 0.9856184084372004\n"
          ]
        },
        {
          "output_type": "display_data",
          "data": {
            "text/plain": [
              "<Figure size 864x720 with 2 Axes>"
            ],
            "image/png": "[encoded data removed]"
          },
          "metadata": {
            "needs_background": "light"
          }
        }
      ],
      "source": [
        "display_metrics(clf_optuna_best,X_valid,y_valid)"
      ]
    },
    {
      "cell_type": "code",
      "execution_count": 28,
      "metadata": {
        "colab": {
          "base_uri": "https://localhost:8080/",
          "height": 939
        },
        "id": "mwnn96kZn65C",
        "outputId": "8e078daa-42d3-4523-9f47-7e77d64f90f8"
      },
      "outputs": [
        {
          "output_type": "stream",
          "name": "stdout",
          "text": [
            "              precision    recall  f1-score   support\n",
            "\n",
            "           A       0.99      0.99      0.99      4286\n",
            "           B       0.83      1.00      0.91         5\n",
            "           C       0.96      0.93      0.95       103\n",
            "           D       0.97      0.97      0.97       353\n",
            "           E       0.97      0.97      0.97      1095\n",
            "           F       0.99      0.99      0.99      1962\n",
            "           G       1.00      0.96      0.98       447\n",
            "           H       0.97      0.99      0.98       520\n",
            "           I       1.00      1.00      1.00       832\n",
            "           W       0.91      0.93      0.92        45\n",
            "           X       0.96      0.96      0.96       522\n",
            "           Y       0.96      0.99      0.97       267\n",
            "\n",
            "    accuracy                           0.99     10437\n",
            "   macro avg       0.96      0.97      0.97     10437\n",
            "weighted avg       0.99      0.99      0.99     10437\n",
            "\n",
            "accuracy: 0.9859154929577465\n"
          ]
        },
        {
          "output_type": "display_data",
          "data": {
            "text/plain": [
              "<Figure size 864x720 with 2 Axes>"
            ],
            "image/png": "[encoded data removed]"
          },
          "metadata": {
            "needs_background": "light"
          }
        }
      ],
      "source": [
        "display_metrics(clf_optuna_best,X_test,y_test)"
      ]
    },
    {
      "cell_type": "markdown",
      "metadata": {
        "id": "t2lUd9fbCVPV"
      },
      "source": [
        "Podemos observar que, ao usarmos o optuna, conseguimos otimizar ainda um pouco mais os parâmetros devido a busca pela melhor configuração dos parâmetros extras."
      ]
    },
    {
      "cell_type": "code",
      "source": [
        "optuna.visualization.plot_param_importances(study)"
      ],
      "metadata": {
        "id": "0KBUeqNAGY7G",
        "outputId": "46921b4c-02c8-45b2-b1a8-6e915febf25f",
        "colab": {
          "base_uri": "https://localhost:8080/",
          "height": 542
        }
      },
      "execution_count": 30,
      "outputs": [
        {
          "output_type": "display_data",
          "data": {
            "text/html": [
              "<html>\n",
              "<head><meta charset=\"utf-8\" /></head>\n",
              "<body>\n",
              "    <div>            <script src=\"https://cdnjs.cloudflare.com/ajax/libs/mathjax/2.7.5/MathJax.js?config=TeX-AMS-MML_SVG\"></script><script type=\"text/javascript\">if (window.MathJax) {MathJax.Hub.Config({SVG: {font: \"STIX-Web\"}});}</script>                <script type=\"text/javascript\">window.PlotlyConfig = {MathJaxConfig: 'local'};</script>\n",
              "        <script src=\"https://cdn.plot.ly/plotly-2.8.3.min.js\"></script>                <div id=\"cb840992-7dd3-4e5e-993c-ebc95977cdb4\" class=\"plotly-graph-div\" style=\"height:525px; width:100%;\"></div>            <script type=\"text/javascript\">                                    window.PLOTLYENV=window.PLOTLYENV || {};                                    if (document.getElementById(\"cb840992-7dd3-4e5e-993c-ebc95977cdb4\")) {                    Plotly.newPlot(                        \"cb840992-7dd3-4e5e-993c-ebc95977cdb4\",                        [{\"cliponaxis\":false,\"hovertemplate\":[\"criterion (CategoricalDistribution): 0.010600696748286186<extra></extra>\",\"min_samples_split (IntDistribution): 0.020345116737810427<extra></extra>\",\"max_depth (IntDistribution): 0.028374711954064716<extra></extra>\",\"min_samples_leaf (IntDistribution): 0.1785254144739844<extra></extra>\",\"splitter (CategoricalDistribution): 0.7621540600858543<extra></extra>\"],\"marker\":{\"color\":\"rgb(66,146,198)\"},\"orientation\":\"h\",\"text\":[\"0.01\",\"0.02\",\"0.03\",\"0.18\",\"0.76\"],\"textposition\":\"outside\",\"x\":[0.010600696748286186,0.020345116737810427,0.028374711954064716,0.1785254144739844,0.7621540600858543],\"y\":[\"criterion\",\"min_samples_split\",\"max_depth\",\"min_samples_leaf\",\"splitter\"],\"type\":\"bar\"}],                        {\"showlegend\":false,\"title\":{\"text\":\"Hyperparameter Importances\"},\"xaxis\":{\"title\":{\"text\":\"Importance for Objective Value\"}},\"yaxis\":{\"title\":{\"text\":\"Hyperparameter\"}},\"template\":{\"data\":{\"bar\":[{\"error_x\":{\"color\":\"#2a3f5f\"},\"error_y\":{\"color\":\"#2a3f5f\"},\"marker\":{\"line\":{\"color\":\"#E5ECF6\",\"width\":0.5},\"pattern\":{\"fillmode\":\"overlay\",\"size\":10,\"solidity\":0.2}},\"type\":\"bar\"}],\"barpolar\":[{\"marker\":{\"line\":{\"color\":\"#E5ECF6\",\"width\":0.5},\"pattern\":{\"fillmode\":\"overlay\",\"size\":10,\"solidity\":0.2}},\"type\":\"barpolar\"}],\"carpet\":[{\"aaxis\":{\"endlinecolor\":\"#2a3f5f\",\"gridcolor\":\"white\",\"linecolor\":\"white\",\"minorgridcolor\":\"white\",\"startlinecolor\":\"#2a3f5f\"},\"baxis\":{\"endlinecolor\":\"#2a3f5f\",\"gridcolor\":\"white\",\"linecolor\":\"white\",\"minorgridcolor\":\"white\",\"startlinecolor\":\"#2a3f5f\"},\"type\":\"carpet\"}],\"choropleth\":[{\"colorbar\":{\"outlinewidth\":0,\"ticks\":\"\"},\"type\":\"choropleth\"}],\"contour\":[{\"colorbar\":{\"outlinewidth\":0,\"ticks\":\"\"},\"colorscale\":[[0.0,\"#0d0887\"],[0.1111111111111111,\"#46039f\"],[0.2222222222222222,\"#7201a8\"],[0.3333333333333333,\"#9c179e\"],[0.4444444444444444,\"#bd3786\"],[0.5555555555555556,\"#d8576b\"],[0.6666666666666666,\"#ed7953\"],[0.7777777777777778,\"#fb9f3a\"],[0.8888888888888888,\"#fdca26\"],[1.0,\"#f0f921\"]],\"type\":\"contour\"}],\"contourcarpet\":[{\"colorbar\":{\"outlinewidth\":0,\"ticks\":\"\"},\"type\":\"contourcarpet\"}],\"heatmap\":[{\"colorbar\":{\"outlinewidth\":0,\"ticks\":\"\"},\"colorscale\":[[0.0,\"#0d0887\"],[0.1111111111111111,\"#46039f\"],[0.2222222222222222,\"#7201a8\"],[0.3333333333333333,\"#9c179e\"],[0.4444444444444444,\"#bd3786\"],[0.5555555555555556,\"#d8576b\"],[0.6666666666666666,\"#ed7953\"],[0.7777777777777778,\"#fb9f3a\"],[0.8888888888888888,\"#fdca26\"],[1.0,\"#f0f921\"]],\"type\":\"heatmap\"}],\"heatmapgl\":[{\"colorbar\":{\"outlinewidth\":0,\"ticks\":\"\"},\"colorscale\":[[0.0,\"#0d0887\"],[0.1111111111111111,\"#46039f\"],[0.2222222222222222,\"#7201a8\"],[0.3333333333333333,\"#9c179e\"],[0.4444444444444444,\"#bd3786\"],[0.5555555555555556,\"#d8576b\"],[0.6666666666666666,\"#ed7953\"],[0.7777777777777778,\"#fb9f3a\"],[0.8888888888888888,\"#fdca26\"],[1.0,\"#f0f921\"]],\"type\":\"heatmapgl\"}],\"histogram\":[{\"marker\":{\"pattern\":{\"fillmode\":\"overlay\",\"size\":10,\"solidity\":0.2}},\"type\":\"histogram\"}],\"histogram2d\":[{\"colorbar\":{\"outlinewidth\":0,\"ticks\":\"\"},\"colorscale\":[[0.0,\"#0d0887\"],[0.1111111111111111,\"#46039f\"],[0.2222222222222222,\"#7201a8\"],[0.3333333333333333,\"#9c179e\"],[0.4444444444444444,\"#bd3786\"],[0.5555555555555556,\"#d8576b\"],[0.6666666666666666,\"#ed7953\"],[0.7777777777777778,\"#fb9f3a\"],[0.8888888888888888,\"#fdca26\"],[1.0,\"#f0f921\"]],\"type\":\"histogram2d\"}],\"histogram2dcontour\":[{\"colorbar\":{\"outlinewidth\":0,\"ticks\":\"\"},\"colorscale\":[[0.0,\"#0d0887\"],[0.1111111111111111,\"#46039f\"],[0.2222222222222222,\"#7201a8\"],[0.3333333333333333,\"#9c179e\"],[0.4444444444444444,\"#bd3786\"],[0.5555555555555556,\"#d8576b\"],[0.6666666666666666,\"#ed7953\"],[0.7777777777777778,\"#fb9f3a\"],[0.8888888888888888,\"#fdca26\"],[1.0,\"#f0f921\"]],\"type\":\"histogram2dcontour\"}],\"mesh3d\":[{\"colorbar\":{\"outlinewidth\":0,\"ticks\":\"\"},\"type\":\"mesh3d\"}],\"parcoords\":[{\"line\":{\"colorbar\":{\"outlinewidth\":0,\"ticks\":\"\"}},\"type\":\"parcoords\"}],\"pie\":[{\"automargin\":true,\"type\":\"pie\"}],\"scatter\":[{\"marker\":{\"colorbar\":{\"outlinewidth\":0,\"ticks\":\"\"}},\"type\":\"scatter\"}],\"scatter3d\":[{\"line\":{\"colorbar\":{\"outlinewidth\":0,\"ticks\":\"\"}},\"marker\":{\"colorbar\":{\"outlinewidth\":0,\"ticks\":\"\"}},\"type\":\"scatter3d\"}],\"scattercarpet\":[{\"marker\":{\"colorbar\":{\"outlinewidth\":0,\"ticks\":\"\"}},\"type\":\"scattercarpet\"}],\"scattergeo\":[{\"marker\":{\"colorbar\":{\"outlinewidth\":0,\"ticks\":\"\"}},\"type\":\"scattergeo\"}],\"scattergl\":[{\"marker\":{\"colorbar\":{\"outlinewidth\":0,\"ticks\":\"\"}},\"type\":\"scattergl\"}],\"scattermapbox\":[{\"marker\":{\"colorbar\":{\"outlinewidth\":0,\"ticks\":\"\"}},\"type\":\"scattermapbox\"}],\"scatterpolar\":[{\"marker\":{\"colorbar\":{\"outlinewidth\":0,\"ticks\":\"\"}},\"type\":\"scatterpolar\"}],\"scatterpolargl\":[{\"marker\":{\"colorbar\":{\"outlinewidth\":0,\"ticks\":\"\"}},\"type\":\"scatterpolargl\"}],\"scatterternary\":[{\"marker\":{\"colorbar\":{\"outlinewidth\":0,\"ticks\":\"\"}},\"type\":\"scatterternary\"}],\"surface\":[{\"colorbar\":{\"outlinewidth\":0,\"ticks\":\"\"},\"colorscale\":[[0.0,\"#0d0887\"],[0.1111111111111111,\"#46039f\"],[0.2222222222222222,\"#7201a8\"],[0.3333333333333333,\"#9c179e\"],[0.4444444444444444,\"#bd3786\"],[0.5555555555555556,\"#d8576b\"],[0.6666666666666666,\"#ed7953\"],[0.7777777777777778,\"#fb9f3a\"],[0.8888888888888888,\"#fdca26\"],[1.0,\"#f0f921\"]],\"type\":\"surface\"}],\"table\":[{\"cells\":{\"fill\":{\"color\":\"#EBF0F8\"},\"line\":{\"color\":\"white\"}},\"header\":{\"fill\":{\"color\":\"#C8D4E3\"},\"line\":{\"color\":\"white\"}},\"type\":\"table\"}]},\"layout\":{\"annotationdefaults\":{\"arrowcolor\":\"#2a3f5f\",\"arrowhead\":0,\"arrowwidth\":1},\"autotypenumbers\":\"strict\",\"coloraxis\":{\"colorbar\":{\"outlinewidth\":0,\"ticks\":\"\"}},\"colorscale\":{\"diverging\":[[0,\"#8e0152\"],[0.1,\"#c51b7d\"],[0.2,\"#de77ae\"],[0.3,\"#f1b6da\"],[0.4,\"#fde0ef\"],[0.5,\"#f7f7f7\"],[0.6,\"#e6f5d0\"],[0.7,\"#b8e186\"],[0.8,\"#7fbc41\"],[0.9,\"#4d9221\"],[1,\"#276419\"]],\"sequential\":[[0.0,\"#0d0887\"],[0.1111111111111111,\"#46039f\"],[0.2222222222222222,\"#7201a8\"],[0.3333333333333333,\"#9c179e\"],[0.4444444444444444,\"#bd3786\"],[0.5555555555555556,\"#d8576b\"],[0.6666666666666666,\"#ed7953\"],[0.7777777777777778,\"#fb9f3a\"],[0.8888888888888888,\"#fdca26\"],[1.0,\"#f0f921\"]],\"sequentialminus\":[[0.0,\"#0d0887\"],[0.1111111111111111,\"#46039f\"],[0.2222222222222222,\"#7201a8\"],[0.3333333333333333,\"#9c179e\"],[0.4444444444444444,\"#bd3786\"],[0.5555555555555556,\"#d8576b\"],[0.6666666666666666,\"#ed7953\"],[0.7777777777777778,\"#fb9f3a\"],[0.8888888888888888,\"#fdca26\"],[1.0,\"#f0f921\"]]},\"colorway\":[\"#636efa\",\"#EF553B\",\"#00cc96\",\"#ab63fa\",\"#FFA15A\",\"#19d3f3\",\"#FF6692\",\"#B6E880\",\"#FF97FF\",\"#FECB52\"],\"font\":{\"color\":\"#2a3f5f\"},\"geo\":{\"bgcolor\":\"white\",\"lakecolor\":\"white\",\"landcolor\":\"#E5ECF6\",\"showlakes\":true,\"showland\":true,\"subunitcolor\":\"white\"},\"hoverlabel\":{\"align\":\"left\"},\"hovermode\":\"closest\",\"mapbox\":{\"style\":\"light\"},\"paper_bgcolor\":\"white\",\"plot_bgcolor\":\"#E5ECF6\",\"polar\":{\"angularaxis\":{\"gridcolor\":\"white\",\"linecolor\":\"white\",\"ticks\":\"\"},\"bgcolor\":\"#E5ECF6\",\"radialaxis\":{\"gridcolor\":\"white\",\"linecolor\":\"white\",\"ticks\":\"\"}},\"scene\":{\"xaxis\":{\"backgroundcolor\":\"#E5ECF6\",\"gridcolor\":\"white\",\"gridwidth\":2,\"linecolor\":\"white\",\"showbackground\":true,\"ticks\":\"\",\"zerolinecolor\":\"white\"},\"yaxis\":{\"backgroundcolor\":\"#E5ECF6\",\"gridcolor\":\"white\",\"gridwidth\":2,\"linecolor\":\"white\",\"showbackground\":true,\"ticks\":\"\",\"zerolinecolor\":\"white\"},\"zaxis\":{\"backgroundcolor\":\"#E5ECF6\",\"gridcolor\":\"white\",\"gridwidth\":2,\"linecolor\":\"white\",\"showbackground\":true,\"ticks\":\"\",\"zerolinecolor\":\"white\"}},\"shapedefaults\":{\"line\":{\"color\":\"#2a3f5f\"}},\"ternary\":{\"aaxis\":{\"gridcolor\":\"white\",\"linecolor\":\"white\",\"ticks\":\"\"},\"baxis\":{\"gridcolor\":\"white\",\"linecolor\":\"white\",\"ticks\":\"\"},\"bgcolor\":\"#E5ECF6\",\"caxis\":{\"gridcolor\":\"white\",\"linecolor\":\"white\",\"ticks\":\"\"}},\"title\":{\"x\":0.05},\"xaxis\":{\"automargin\":true,\"gridcolor\":\"white\",\"linecolor\":\"white\",\"ticks\":\"\",\"title\":{\"standoff\":15},\"zerolinecolor\":\"white\",\"zerolinewidth\":2},\"yaxis\":{\"automargin\":true,\"gridcolor\":\"white\",\"linecolor\":\"white\",\"ticks\":\"\",\"title\":{\"standoff\":15},\"zerolinecolor\":\"white\",\"zerolinewidth\":2}}}},                        {\"responsive\": true}                    ).then(function(){\n",
              "                            \n",
              "var gd = document.getElementById('cb840992-7dd3-4e5e-993c-ebc95977cdb4');\n",
              "var x = new MutationObserver(function (mutations, observer) {{\n",
              "        var display = window.getComputedStyle(gd).display;\n",
              "        if (!display || display === 'none') {{\n",
              "            console.log([gd, 'removed!']);\n",
              "            Plotly.purge(gd);\n",
              "            observer.disconnect();\n",
              "        }}\n",
              "}});\n",
              "\n",
              "// Listen for the removal of the full notebook cells\n",
              "var notebookContainer = gd.closest('#notebook-container');\n",
              "if (notebookContainer) {{\n",
              "    x.observe(notebookContainer, {childList: true});\n",
              "}}\n",
              "\n",
              "// Listen for the clearing of the current output cell\n",
              "var outputEl = gd.closest('.output');\n",
              "if (outputEl) {{\n",
              "    x.observe(outputEl, {childList: true});\n",
              "}}\n",
              "\n",
              "                        })                };                            </script>        </div>\n",
              "</body>\n",
              "</html>"
            ]
          },
          "metadata": {}
        }
      ]
    },
    {
      "cell_type": "markdown",
      "source": [
        "Podemos também observar a importância de cada parâmetro no classificador. Onde o splitter aparenta ser o mais relevante."
      ],
      "metadata": {
        "id": "-WUULpe5GrSw"
      }
    },
    {
      "cell_type": "markdown",
      "metadata": {
        "id": "bHNuGbxXTCb8"
      },
      "source": [
        "# Naive Bayes"
      ]
    },
    {
      "cell_type": "code",
      "execution_count": null,
      "metadata": {
        "colab": {
          "base_uri": "https://localhost:8080/",
          "height": 297
        },
        "id": "SL34sA7zJzYM",
        "outputId": "1e33ba0b-2a25-492f-eb14-8c08b1563382"
      },
      "outputs": [
        {
          "output_type": "execute_result",
          "data": {
            "text/plain": [
              "<matplotlib.legend.Legend at 0x7f51740c3910>"
            ]
          },
          "metadata": {},
          "execution_count": 41
        },
        {
          "output_type": "display_data",
          "data": {
            "text/plain": [
              "<Figure size 432x288 with 1 Axes>"
            ],
            "image/png": "[encoded data removed]"
          },
          "metadata": {
            "needs_background": "light"
          }
        }
      ],
      "source": [
        "import numpy as np\n",
        "import matplotlib.pyplot as plt\n",
        "\n",
        "results_val = []\n",
        "results_train = []\n",
        "x = np.linspace(1e-3,2,1000) #unico parametro que parece ser relevante????\n",
        "for i in x:\n",
        "  clf = GaussianNB(var_smoothing = i)\n",
        "  clf.fit(X_train,y_train)\n",
        "  pred = clf.predict(X_valid)\n",
        "  results_val.append(f1_score(pred,y_valid,average=\"weighted\"))\n",
        "  pred = clf.predict(X_train)\n",
        "  results_train.append(f1_score(pred,y_train,average=\"weighted\"))\n",
        "\n",
        "plt.plot(x,results_val,label='val')\n",
        "plt.plot(x,results_train,label='train')\n",
        "plt.ylabel(\"f1-score\")\n",
        "plt.xlabel(\"var_smoothing\")\n",
        "plt.legend()"
      ]
    },
    {
      "cell_type": "markdown",
      "metadata": {
        "id": "04ZpdBxvCVPW"
      },
      "source": [
        "Com o Naive Bayes, variamos o valor do smoothing e plotamos quais os valores da métrica de `f1_score` para cada valor testado. Pelo gráfico acima podemos observar que com um `var_smoothing` de aproximadamente 1.225 nós estabilizamos o `f1_score` do nosso modelo e deixamos ele mais otimizado."
      ]
    },
    {
      "cell_type": "code",
      "execution_count": null,
      "metadata": {
        "colab": {
          "base_uri": "https://localhost:8080/"
        },
        "id": "KLM6ee3KShEL",
        "outputId": "dcd79c19-9dfb-4fd7-e1cb-5cec4e5c3872"
      },
      "outputs": [
        {
          "output_type": "stream",
          "name": "stdout",
          "text": [
            "acuracia = 0.4074784276126558\n",
            "f1 0.5790190735694823\n",
            "recall 0.4074784276126558\n",
            "precision 1.0\n",
            "----------------------------------------------------------------------------------------------------\n"
          ]
        },
        {
          "output_type": "stream",
          "name": "stderr",
          "text": [
            "/usr/local/lib/python3.8/dist-packages/sklearn/metrics/_classification.py:1344: UndefinedMetricWarning: Recall is ill-defined and being set to 0.0 in labels with no true samples. Use `zero_division` parameter to control this behavior.\n",
            "  _warn_prf(average, modifier, msg_start, len(result))\n"
          ]
        }
      ],
      "source": [
        "clf = GaussianNB(var_smoothing = 1.225)\n",
        "clf.fit(X_train,y_train)\n",
        "print(\"acuracia =\",clf.score(X_valid,y_valid))\n",
        "\n",
        "pred = clf.predict(X_valid)\n",
        "print(\"f1\",f1_score(pred,y_valid,average=\"weighted\"))\n",
        "print(\"recall\",recall_score(pred,y_valid,average=\"weighted\"))\n",
        "print(\"precision\",precision_score(pred,y_valid,average=\"weighted\"))\n",
        "print(\"-\"*100)"
      ]
    },
    {
      "cell_type": "code",
      "execution_count": null,
      "metadata": {
        "colab": {
          "base_uri": "https://localhost:8080/"
        },
        "id": "9dME9UE5KWwP",
        "outputId": "138cf7b6-95ea-489f-f265-d79b8b948ffa"
      },
      "outputs": [
        {
          "output_type": "stream",
          "name": "stdout",
          "text": [
            "Precision:  0.9997128540868042\n",
            "Recall:  0.410846028552266\n",
            "F1-score:  0.5821701553337219\n",
            "----------------------------------------------------------------------------------------------------\n"
          ]
        },
        {
          "output_type": "stream",
          "name": "stderr",
          "text": [
            "/usr/local/lib/python3.8/dist-packages/sklearn/metrics/_classification.py:1344: UndefinedMetricWarning: Recall is ill-defined and being set to 0.0 in labels with no true samples. Use `zero_division` parameter to control this behavior.\n",
            "  _warn_prf(average, modifier, msg_start, len(result))\n"
          ]
        }
      ],
      "source": [
        "check_test(clf,X_test,y_test)"
      ]
    },
    {
      "cell_type": "markdown",
      "metadata": {
        "id": "M_PdH-nNS-tu"
      },
      "source": [
        "\n",
        "Podemos verificar no grafico acima, que com o valor alterado do `var_smoothing` nós conseguimos um valor maior das nossas métricas do que apenas deixando na configuração default, otimizando assim nosso modelo."
      ]
    },
    {
      "cell_type": "markdown",
      "metadata": {
        "id": "-bEV8n_SjjVp"
      },
      "source": [
        "## LogisticRegression\n",
        "\n"
      ]
    },
    {
      "cell_type": "code",
      "execution_count": null,
      "metadata": {
        "id": "TY6AJS_bJon-"
      },
      "outputs": [],
      "source": [
        "def make_df_metrics(methods,results_train,results_val):\n",
        "  return pd.concat([pd.DataFrame({\"x\":methods,'y':results_train,'label':['train']*len(results_train)}),pd.DataFrame({\"x\":methods,'y':results_val,'label':['val']*len(results_val)})])\n"
      ]
    },
    {
      "cell_type": "markdown",
      "metadata": {
        "id": "ppcT59xxOAdD"
      },
      "source": [
        "### Check penalty"
      ]
    },
    {
      "cell_type": "code",
      "execution_count": null,
      "metadata": {
        "id": "UFxxWK48StYy"
      },
      "outputs": [],
      "source": [
        "\n",
        "results_val = []\n",
        "results_train = []\n",
        "penalties = ['l1','l2',None]\n",
        "for penalty in penalties:\n",
        "  clf = Pipeline([('scaler', StandardScaler()), ('LR', LogisticRegression(penalty=penalty,solver='saga',max_iter=10000))])\n",
        "  clf.fit(X_train,y_train)\n",
        "  pred = clf.predict(X_valid)\n",
        "  results_val.append(f1_score(pred,y_valid,average=\"weighted\"))\n",
        "  pred = clf.predict(X_train)\n",
        "  results_train.append(f1_score(pred,y_train,average=\"weighted\"))\n",
        "\n",
        "for l1_ratio in np.linspace(0.1,1.0,10):\n",
        "  penalties.append(f\"elasticnet_{l1_ratio}\")\n",
        "  clf = Pipeline([('scaler', StandardScaler()), ('LR', LogisticRegression(penalty='elasticnet',solver='saga',l1_ratio=l1_ratio,max_iter=10000))])\n",
        "  clf.fit(X_train,y_train)\n",
        "  pred = clf.predict(X_valid)\n",
        "  results_val.append(f1_score(pred,y_valid,average=\"weighted\"))\n",
        "  pred = clf.predict(X_train)\n",
        "  results_train.append(f1_score(pred,y_train,average=\"weighted\"))\n",
        "\n",
        "df_metrics = make_df_metrics(penalties,results_train,results_val)"
      ]
    },
    {
      "cell_type": "code",
      "execution_count": null,
      "metadata": {
        "colab": {
          "base_uri": "https://localhost:8080/",
          "height": 297
        },
        "id": "6E6bLf48KLz1",
        "outputId": "91818210-f71f-413a-81a6-406c16171146"
      },
      "outputs": [
        {
          "output_type": "execute_result",
          "data": {
            "text/plain": [
              "(0.58, 0.66)"
            ]
          },
          "metadata": {},
          "execution_count": 46
        },
        {
          "output_type": "display_data",
          "data": {
            "text/plain": [
              "<Figure size 432x288 with 1 Axes>"
            ],
            "image/png": "[encoded data removed]"
          },
          "metadata": {
            "needs_background": "light"
          }
        }
      ],
      "source": [
        "sns.barplot(data=df_metrics,y='x',x='y',hue='label')\n",
        "plt.ylabel(\"penalties\")\n",
        "plt.xlabel(\"f1_score\")\n",
        "plt.xlim(0.58, 0.66)"
      ]
    },
    {
      "cell_type": "code",
      "execution_count": null,
      "metadata": {
        "colab": {
          "base_uri": "https://localhost:8080/",
          "height": 175
        },
        "id": "KbQC3S_4MKxY",
        "outputId": "412fe8aa-3349-471b-dd70-f0130e1ea8ad"
      },
      "outputs": [
        {
          "output_type": "execute_result",
          "data": {
            "text/plain": [
              "                x         y  label\n",
              "2            None  0.645348  train\n",
              "8  elasticnet_0.6  0.644932  train\n",
              "1              l2  0.632305    val\n",
              "3  elasticnet_0.1  0.632305    val"
            ],
            "text/html": [
              "\n",
              "  <div id=\"df-820d7c1f-e863-4a1b-a57a-72d9cbd8ee2d\">\n",
              "    <div class=\"colab-df-container\">\n",
              "      <div>\n",
              "<style scoped>\n",
              "    .dataframe tbody tr th:only-of-type {\n",
              "        vertical-align: middle;\n",
              "    }\n",
              "\n",
              "    .dataframe tbody tr th {\n",
              "        vertical-align: top;\n",
              "    }\n",
              "\n",
              "    .dataframe thead th {\n",
              "        text-align: right;\n",
              "    }\n",
              "</style>\n",
              "<table border=\"1\" class=\"dataframe\">\n",
              "  <thead>\n",
              "    <tr style=\"text-align: right;\">\n",
              "      <th></th>\n",
              "      <th>x</th>\n",
              "      <th>y</th>\n",
              "      <th>label</th>\n",
              "    </tr>\n",
              "  </thead>\n",
              "  <tbody>\n",
              "    <tr>\n",
              "      <th>2</th>\n",
              "      <td>None</td>\n",
              "      <td>0.645348</td>\n",
              "      <td>train</td>\n",
              "    </tr>\n",
              "    <tr>\n",
              "      <th>8</th>\n",
              "      <td>elasticnet_0.6</td>\n",
              "      <td>0.644932</td>\n",
              "      <td>train</td>\n",
              "    </tr>\n",
              "    <tr>\n",
              "      <th>1</th>\n",
              "      <td>l2</td>\n",
              "      <td>0.632305</td>\n",
              "      <td>val</td>\n",
              "    </tr>\n",
              "    <tr>\n",
              "      <th>3</th>\n",
              "      <td>elasticnet_0.1</td>\n",
              "      <td>0.632305</td>\n",
              "      <td>val</td>\n",
              "    </tr>\n",
              "  </tbody>\n",
              "</table>\n",
              "</div>\n",
              "      <button class=\"colab-df-convert\" onclick=\"convertToInteractive('df-820d7c1f-e863-4a1b-a57a-72d9cbd8ee2d')\"\n",
              "              title=\"Convert this dataframe to an interactive table.\"\n",
              "              style=\"display:none;\">\n",
              "        \n",
              "  <svg xmlns=\"http://www.w3.org/2000/svg\" height=\"24px\"viewBox=\"0 0 24 24\"\n",
              "       width=\"24px\">\n",
              "    <path d=\"M0 0h24v24H0V0z\" fill=\"none\"/>\n",
              "    <path d=\"M18.56 5.44l.94 2.06.94-2.06 2.06-.94-2.06-.94-.94-2.06-.94 2.06-2.06.94zm-11 1L8.5 8.5l.94-2.06 2.06-.94-2.06-.94L8.5 2.5l-.94 2.06-2.06.94zm10 10l.94 2.06.94-2.06 2.06-.94-2.06-.94-.94-2.06-.94 2.06-2.06.94z\"/><path d=\"M17.41 7.96l-1.37-1.37c-.4-.4-.92-.59-1.43-.59-.52 0-1.04.2-1.43.59L10.3 9.45l-7.72 7.72c-.78.78-.78 2.05 0 2.83L4 21.41c.39.39.9.59 1.41.59.51 0 1.02-.2 1.41-.59l7.78-7.78 2.81-2.81c.8-.78.8-2.07 0-2.86zM5.41 20L4 18.59l7.72-7.72 1.47 1.35L5.41 20z\"/>\n",
              "  </svg>\n",
              "      </button>\n",
              "      \n",
              "  <style>\n",
              "    .colab-df-container {\n",
              "      display:flex;\n",
              "      flex-wrap:wrap;\n",
              "      gap: 12px;\n",
              "    }\n",
              "\n",
              "    .colab-df-convert {\n",
              "      background-color: #E8F0FE;\n",
              "      border: none;\n",
              "      border-radius: 50%;\n",
              "      cursor: pointer;\n",
              "      display: none;\n",
              "      fill: #1967D2;\n",
              "      height: 32px;\n",
              "      padding: 0 0 0 0;\n",
              "      width: 32px;\n",
              "    }\n",
              "\n",
              "    .colab-df-convert:hover {\n",
              "      background-color: #E2EBFA;\n",
              "      box-shadow: 0px 1px 2px rgba(60, 64, 67, 0.3), 0px 1px 3px 1px rgba(60, 64, 67, 0.15);\n",
              "      fill: #174EA6;\n",
              "    }\n",
              "\n",
              "    [theme=dark] .colab-df-convert {\n",
              "      background-color: #3B4455;\n",
              "      fill: #D2E3FC;\n",
              "    }\n",
              "\n",
              "    [theme=dark] .colab-df-convert:hover {\n",
              "      background-color: #434B5C;\n",
              "      box-shadow: 0px 1px 3px 1px rgba(0, 0, 0, 0.15);\n",
              "      filter: drop-shadow(0px 1px 2px rgba(0, 0, 0, 0.3));\n",
              "      fill: #FFFFFF;\n",
              "    }\n",
              "  </style>\n",
              "\n",
              "      <script>\n",
              "        const buttonEl =\n",
              "          document.querySelector('#df-820d7c1f-e863-4a1b-a57a-72d9cbd8ee2d button.colab-df-convert');\n",
              "        buttonEl.style.display =\n",
              "          google.colab.kernel.accessAllowed ? 'block' : 'none';\n",
              "\n",
              "        async function convertToInteractive(key) {\n",
              "          const element = document.querySelector('#df-820d7c1f-e863-4a1b-a57a-72d9cbd8ee2d');\n",
              "          const dataTable =\n",
              "            await google.colab.kernel.invokeFunction('convertToInteractive',\n",
              "                                                     [key], {});\n",
              "          if (!dataTable) return;\n",
              "\n",
              "          const docLinkHtml = 'Like what you see? Visit the ' +\n",
              "            '<a target=\"_blank\" href=https://colab.research.google.com/notebooks/data_table.ipynb>data table notebook</a>'\n",
              "            + ' to learn more about interactive tables.';\n",
              "          element.innerHTML = '';\n",
              "          dataTable['output_type'] = 'display_data';\n",
              "          await google.colab.output.renderOutput(dataTable, element);\n",
              "          const docLink = document.createElement('div');\n",
              "          docLink.innerHTML = docLinkHtml;\n",
              "          element.appendChild(docLink);\n",
              "        }\n",
              "      </script>\n",
              "    </div>\n",
              "  </div>\n",
              "  "
            ]
          },
          "metadata": {},
          "execution_count": 47
        }
      ],
      "source": [
        "df_metrics.sort_values(by='y',ascending=False).groupby(by='label').head(2)"
      ]
    },
    {
      "cell_type": "markdown",
      "source": [
        "Pelo gráfico podemos observar que o método que teve maior desempenho no conjunto de validação foi utilizando a penalidade da norma L2."
      ],
      "metadata": {
        "id": "VZGKJW-YdldR"
      }
    },
    {
      "cell_type": "markdown",
      "metadata": {
        "id": "Hnb2Zv6NN9HP"
      },
      "source": [
        "### Check solver"
      ]
    },
    {
      "cell_type": "code",
      "execution_count": null,
      "metadata": {
        "id": "7yVDWcPozAI9"
      },
      "outputs": [],
      "source": [
        "results_val = []\n",
        "results_train = []\n",
        "solvers = [\"lbfgs\", \"liblinear\", \"newton-cg\", \"newton-cholesky\", \"sag\", \"saga\"]\n",
        "for solver in solvers:\n",
        "  clf = Pipeline([('scaler', StandardScaler()), ('LR', LogisticRegression(solver = solver,max_iter=10000,random_state=42))])\n",
        "  clf.fit(X_train,y_train)\n",
        "  pred = clf.predict(X_valid)\n",
        "  results_val.append(f1_score(pred,y_valid,average=\"weighted\"))\n",
        "  pred = clf.predict(X_train)\n",
        "  results_train.append(f1_score(pred,y_train,average=\"weighted\"))\n",
        "\n",
        "df_metrics = make_df_metrics(solvers,results_train,results_val)"
      ]
    },
    {
      "cell_type": "code",
      "execution_count": null,
      "metadata": {
        "colab": {
          "base_uri": "https://localhost:8080/",
          "height": 297
        },
        "id": "n-W3JCbcFfB0",
        "outputId": "861fec67-fd68-4439-f4b0-3417ba202ca4"
      },
      "outputs": [
        {
          "output_type": "execute_result",
          "data": {
            "text/plain": [
              "(0.62, 0.66)"
            ]
          },
          "metadata": {},
          "execution_count": 49
        },
        {
          "output_type": "display_data",
          "data": {
            "text/plain": [
              "<Figure size 432x288 with 1 Axes>"
            ],
            "image/png": "[encoded data removed]"
          },
          "metadata": {
            "needs_background": "light"
          }
        }
      ],
      "source": [
        "sns.barplot(data=df_metrics,y='x',x='y',hue='label')\n",
        "plt.ylabel(\"solver\")\n",
        "plt.xlabel(\"f1_score\")\n",
        "plt.xlim(0.62, 0.66)"
      ]
    },
    {
      "cell_type": "code",
      "execution_count": null,
      "metadata": {
        "colab": {
          "base_uri": "https://localhost:8080/",
          "height": 175
        },
        "id": "W6Vw4NpdNv17",
        "outputId": "b3210b03-35c9-4e02-887f-c9404eccf7e7"
      },
      "outputs": [
        {
          "output_type": "execute_result",
          "data": {
            "text/plain": [
              "                 x         y  label\n",
              "1        liblinear  0.646720  train\n",
              "3  newton-cholesky  0.646420  train\n",
              "3  newton-cholesky  0.635404    val\n",
              "1        liblinear  0.634668    val"
            ],
            "text/html": [
              "\n",
              "  <div id=\"df-5306a0d7-6cd2-4107-ad6e-e2afc260388e\">\n",
              "    <div class=\"colab-df-container\">\n",
              "      <div>\n",
              "<style scoped>\n",
              "    .dataframe tbody tr th:only-of-type {\n",
              "        vertical-align: middle;\n",
              "    }\n",
              "\n",
              "    .dataframe tbody tr th {\n",
              "        vertical-align: top;\n",
              "    }\n",
              "\n",
              "    .dataframe thead th {\n",
              "        text-align: right;\n",
              "    }\n",
              "</style>\n",
              "<table border=\"1\" class=\"dataframe\">\n",
              "  <thead>\n",
              "    <tr style=\"text-align: right;\">\n",
              "      <th></th>\n",
              "      <th>x</th>\n",
              "      <th>y</th>\n",
              "      <th>label</th>\n",
              "    </tr>\n",
              "  </thead>\n",
              "  <tbody>\n",
              "    <tr>\n",
              "      <th>1</th>\n",
              "      <td>liblinear</td>\n",
              "      <td>0.646720</td>\n",
              "      <td>train</td>\n",
              "    </tr>\n",
              "    <tr>\n",
              "      <th>3</th>\n",
              "      <td>newton-cholesky</td>\n",
              "      <td>0.646420</td>\n",
              "      <td>train</td>\n",
              "    </tr>\n",
              "    <tr>\n",
              "      <th>3</th>\n",
              "      <td>newton-cholesky</td>\n",
              "      <td>0.635404</td>\n",
              "      <td>val</td>\n",
              "    </tr>\n",
              "    <tr>\n",
              "      <th>1</th>\n",
              "      <td>liblinear</td>\n",
              "      <td>0.634668</td>\n",
              "      <td>val</td>\n",
              "    </tr>\n",
              "  </tbody>\n",
              "</table>\n",
              "</div>\n",
              "      <button class=\"colab-df-convert\" onclick=\"convertToInteractive('df-5306a0d7-6cd2-4107-ad6e-e2afc260388e')\"\n",
              "              title=\"Convert this dataframe to an interactive table.\"\n",
              "              style=\"display:none;\">\n",
              "        \n",
              "  <svg xmlns=\"http://www.w3.org/2000/svg\" height=\"24px\"viewBox=\"0 0 24 24\"\n",
              "       width=\"24px\">\n",
              "    <path d=\"M0 0h24v24H0V0z\" fill=\"none\"/>\n",
              "    <path d=\"M18.56 5.44l.94 2.06.94-2.06 2.06-.94-2.06-.94-.94-2.06-.94 2.06-2.06.94zm-11 1L8.5 8.5l.94-2.06 2.06-.94-2.06-.94L8.5 2.5l-.94 2.06-2.06.94zm10 10l.94 2.06.94-2.06 2.06-.94-2.06-.94-.94-2.06-.94 2.06-2.06.94z\"/><path d=\"M17.41 7.96l-1.37-1.37c-.4-.4-.92-.59-1.43-.59-.52 0-1.04.2-1.43.59L10.3 9.45l-7.72 7.72c-.78.78-.78 2.05 0 2.83L4 21.41c.39.39.9.59 1.41.59.51 0 1.02-.2 1.41-.59l7.78-7.78 2.81-2.81c.8-.78.8-2.07 0-2.86zM5.41 20L4 18.59l7.72-7.72 1.47 1.35L5.41 20z\"/>\n",
              "  </svg>\n",
              "      </button>\n",
              "      \n",
              "  <style>\n",
              "    .colab-df-container {\n",
              "      display:flex;\n",
              "      flex-wrap:wrap;\n",
              "      gap: 12px;\n",
              "    }\n",
              "\n",
              "    .colab-df-convert {\n",
              "      background-color: #E8F0FE;\n",
              "      border: none;\n",
              "      border-radius: 50%;\n",
              "      cursor: pointer;\n",
              "      display: none;\n",
              "      fill: #1967D2;\n",
              "      height: 32px;\n",
              "      padding: 0 0 0 0;\n",
              "      width: 32px;\n",
              "    }\n",
              "\n",
              "    .colab-df-convert:hover {\n",
              "      background-color: #E2EBFA;\n",
              "      box-shadow: 0px 1px 2px rgba(60, 64, 67, 0.3), 0px 1px 3px 1px rgba(60, 64, 67, 0.15);\n",
              "      fill: #174EA6;\n",
              "    }\n",
              "\n",
              "    [theme=dark] .colab-df-convert {\n",
              "      background-color: #3B4455;\n",
              "      fill: #D2E3FC;\n",
              "    }\n",
              "\n",
              "    [theme=dark] .colab-df-convert:hover {\n",
              "      background-color: #434B5C;\n",
              "      box-shadow: 0px 1px 3px 1px rgba(0, 0, 0, 0.15);\n",
              "      filter: drop-shadow(0px 1px 2px rgba(0, 0, 0, 0.3));\n",
              "      fill: #FFFFFF;\n",
              "    }\n",
              "  </style>\n",
              "\n",
              "      <script>\n",
              "        const buttonEl =\n",
              "          document.querySelector('#df-5306a0d7-6cd2-4107-ad6e-e2afc260388e button.colab-df-convert');\n",
              "        buttonEl.style.display =\n",
              "          google.colab.kernel.accessAllowed ? 'block' : 'none';\n",
              "\n",
              "        async function convertToInteractive(key) {\n",
              "          const element = document.querySelector('#df-5306a0d7-6cd2-4107-ad6e-e2afc260388e');\n",
              "          const dataTable =\n",
              "            await google.colab.kernel.invokeFunction('convertToInteractive',\n",
              "                                                     [key], {});\n",
              "          if (!dataTable) return;\n",
              "\n",
              "          const docLinkHtml = 'Like what you see? Visit the ' +\n",
              "            '<a target=\"_blank\" href=https://colab.research.google.com/notebooks/data_table.ipynb>data table notebook</a>'\n",
              "            + ' to learn more about interactive tables.';\n",
              "          element.innerHTML = '';\n",
              "          dataTable['output_type'] = 'display_data';\n",
              "          await google.colab.output.renderOutput(dataTable, element);\n",
              "          const docLink = document.createElement('div');\n",
              "          docLink.innerHTML = docLinkHtml;\n",
              "          element.appendChild(docLink);\n",
              "        }\n",
              "      </script>\n",
              "    </div>\n",
              "  </div>\n",
              "  "
            ]
          },
          "metadata": {},
          "execution_count": 50
        }
      ],
      "source": [
        "df_metrics.sort_values(by='y',ascending=False).groupby(by='label').head(2)"
      ]
    },
    {
      "cell_type": "code",
      "execution_count": null,
      "metadata": {
        "id": "eVBYlQWuMho2"
      },
      "outputs": [],
      "source": [
        "def plot_line(x,results_val,results_train,xlabel):\n",
        "  plt.title(\"testing for \"+xlabel)\n",
        "  plt.plot(Cs,results_val,label='val')\n",
        "  plt.plot(Cs,results_train,label='train')\n",
        "  plt.ylabel(\"f1-score\")\n",
        "  plt.xlabel(xlabel)\n",
        "  plt.legend()"
      ]
    },
    {
      "cell_type": "markdown",
      "source": [
        "Pelo plot, podemos observar que o maior desempenho no conjunto de treinamento é o `liblinear`, no entanto, o que tem maior desempenho no conjunto de validação é o `newton-cholesky`."
      ],
      "metadata": {
        "id": "v43lvMBid6zk"
      }
    },
    {
      "cell_type": "markdown",
      "metadata": {
        "id": "OUN8gVo9N61N"
      },
      "source": [
        "### Check C"
      ]
    },
    {
      "cell_type": "code",
      "execution_count": null,
      "metadata": {
        "colab": {
          "base_uri": "https://localhost:8080/",
          "height": 295
        },
        "id": "g4Xvh7Oin5GK",
        "outputId": "d5df40a9-c28c-43a8-9920-651f84c563f8"
      },
      "outputs": [
        {
          "output_type": "display_data",
          "data": {
            "text/plain": [
              "<Figure size 432x288 with 1 Axes>"
            ],
            "image/png": "[encoded data removed]"
          },
          "metadata": {
            "needs_background": "light"
          }
        }
      ],
      "source": [
        "results_val = []\n",
        "results_train = []\n",
        "Cs = np.linspace(0.05,7.5,200)\n",
        "for C in Cs:\n",
        "  clf = Pipeline([('scaler', StandardScaler()), ('LR', LogisticRegression(max_iter=10000,C=C))])\n",
        "  clf.fit(X_train,y_train)\n",
        "  pred = clf.predict(X_valid)\n",
        "  results_val.append(f1_score(pred,y_valid,average=\"weighted\"))\n",
        "  pred = clf.predict(X_train)\n",
        "  results_train.append(f1_score(pred,y_train,average=\"weighted\"))\n",
        "\n",
        "df_metrics = make_df_metrics(Cs,results_train,results_val)\n",
        "\n",
        "plot_line(Cs,results_val,results_train,\"C\")\n"
      ]
    },
    {
      "cell_type": "code",
      "execution_count": null,
      "metadata": {
        "colab": {
          "base_uri": "https://localhost:8080/",
          "height": 175
        },
        "id": "-AuAo5h8LmCO",
        "outputId": "4c0ed43d-8049-45c6-f96d-80d49f749d57"
      },
      "outputs": [
        {
          "output_type": "execute_result",
          "data": {
            "text/plain": [
              "           x         y  label\n",
              "3   0.162312  0.645993  train\n",
              "12  0.499246  0.645962  train\n",
              "2   0.124874  0.635943    val\n",
              "1   0.087437  0.635612    val"
            ],
            "text/html": [
              "\n",
              "  <div id=\"df-0d31af60-5d29-4409-8f96-e37133042b6a\">\n",
              "    <div class=\"colab-df-container\">\n",
              "      <div>\n",
              "<style scoped>\n",
              "    .dataframe tbody tr th:only-of-type {\n",
              "        vertical-align: middle;\n",
              "    }\n",
              "\n",
              "    .dataframe tbody tr th {\n",
              "        vertical-align: top;\n",
              "    }\n",
              "\n",
              "    .dataframe thead th {\n",
              "        text-align: right;\n",
              "    }\n",
              "</style>\n",
              "<table border=\"1\" class=\"dataframe\">\n",
              "  <thead>\n",
              "    <tr style=\"text-align: right;\">\n",
              "      <th></th>\n",
              "      <th>x</th>\n",
              "      <th>y</th>\n",
              "      <th>label</th>\n",
              "    </tr>\n",
              "  </thead>\n",
              "  <tbody>\n",
              "    <tr>\n",
              "      <th>3</th>\n",
              "      <td>0.162312</td>\n",
              "      <td>0.645993</td>\n",
              "      <td>train</td>\n",
              "    </tr>\n",
              "    <tr>\n",
              "      <th>12</th>\n",
              "      <td>0.499246</td>\n",
              "      <td>0.645962</td>\n",
              "      <td>train</td>\n",
              "    </tr>\n",
              "    <tr>\n",
              "      <th>2</th>\n",
              "      <td>0.124874</td>\n",
              "      <td>0.635943</td>\n",
              "      <td>val</td>\n",
              "    </tr>\n",
              "    <tr>\n",
              "      <th>1</th>\n",
              "      <td>0.087437</td>\n",
              "      <td>0.635612</td>\n",
              "      <td>val</td>\n",
              "    </tr>\n",
              "  </tbody>\n",
              "</table>\n",
              "</div>\n",
              "      <button class=\"colab-df-convert\" onclick=\"convertToInteractive('df-0d31af60-5d29-4409-8f96-e37133042b6a')\"\n",
              "              title=\"Convert this dataframe to an interactive table.\"\n",
              "              style=\"display:none;\">\n",
              "        \n",
              "  <svg xmlns=\"http://www.w3.org/2000/svg\" height=\"24px\"viewBox=\"0 0 24 24\"\n",
              "       width=\"24px\">\n",
              "    <path d=\"M0 0h24v24H0V0z\" fill=\"none\"/>\n",
              "    <path d=\"M18.56 5.44l.94 2.06.94-2.06 2.06-.94-2.06-.94-.94-2.06-.94 2.06-2.06.94zm-11 1L8.5 8.5l.94-2.06 2.06-.94-2.06-.94L8.5 2.5l-.94 2.06-2.06.94zm10 10l.94 2.06.94-2.06 2.06-.94-2.06-.94-.94-2.06-.94 2.06-2.06.94z\"/><path d=\"M17.41 7.96l-1.37-1.37c-.4-.4-.92-.59-1.43-.59-.52 0-1.04.2-1.43.59L10.3 9.45l-7.72 7.72c-.78.78-.78 2.05 0 2.83L4 21.41c.39.39.9.59 1.41.59.51 0 1.02-.2 1.41-.59l7.78-7.78 2.81-2.81c.8-.78.8-2.07 0-2.86zM5.41 20L4 18.59l7.72-7.72 1.47 1.35L5.41 20z\"/>\n",
              "  </svg>\n",
              "      </button>\n",
              "      \n",
              "  <style>\n",
              "    .colab-df-container {\n",
              "      display:flex;\n",
              "      flex-wrap:wrap;\n",
              "      gap: 12px;\n",
              "    }\n",
              "\n",
              "    .colab-df-convert {\n",
              "      background-color: #E8F0FE;\n",
              "      border: none;\n",
              "      border-radius: 50%;\n",
              "      cursor: pointer;\n",
              "      display: none;\n",
              "      fill: #1967D2;\n",
              "      height: 32px;\n",
              "      padding: 0 0 0 0;\n",
              "      width: 32px;\n",
              "    }\n",
              "\n",
              "    .colab-df-convert:hover {\n",
              "      background-color: #E2EBFA;\n",
              "      box-shadow: 0px 1px 2px rgba(60, 64, 67, 0.3), 0px 1px 3px 1px rgba(60, 64, 67, 0.15);\n",
              "      fill: #174EA6;\n",
              "    }\n",
              "\n",
              "    [theme=dark] .colab-df-convert {\n",
              "      background-color: #3B4455;\n",
              "      fill: #D2E3FC;\n",
              "    }\n",
              "\n",
              "    [theme=dark] .colab-df-convert:hover {\n",
              "      background-color: #434B5C;\n",
              "      box-shadow: 0px 1px 3px 1px rgba(0, 0, 0, 0.15);\n",
              "      filter: drop-shadow(0px 1px 2px rgba(0, 0, 0, 0.3));\n",
              "      fill: #FFFFFF;\n",
              "    }\n",
              "  </style>\n",
              "\n",
              "      <script>\n",
              "        const buttonEl =\n",
              "          document.querySelector('#df-0d31af60-5d29-4409-8f96-e37133042b6a button.colab-df-convert');\n",
              "        buttonEl.style.display =\n",
              "          google.colab.kernel.accessAllowed ? 'block' : 'none';\n",
              "\n",
              "        async function convertToInteractive(key) {\n",
              "          const element = document.querySelector('#df-0d31af60-5d29-4409-8f96-e37133042b6a');\n",
              "          const dataTable =\n",
              "            await google.colab.kernel.invokeFunction('convertToInteractive',\n",
              "                                                     [key], {});\n",
              "          if (!dataTable) return;\n",
              "\n",
              "          const docLinkHtml = 'Like what you see? Visit the ' +\n",
              "            '<a target=\"_blank\" href=https://colab.research.google.com/notebooks/data_table.ipynb>data table notebook</a>'\n",
              "            + ' to learn more about interactive tables.';\n",
              "          element.innerHTML = '';\n",
              "          dataTable['output_type'] = 'display_data';\n",
              "          await google.colab.output.renderOutput(dataTable, element);\n",
              "          const docLink = document.createElement('div');\n",
              "          docLink.innerHTML = docLinkHtml;\n",
              "          element.appendChild(docLink);\n",
              "        }\n",
              "      </script>\n",
              "    </div>\n",
              "  </div>\n",
              "  "
            ]
          },
          "metadata": {},
          "execution_count": 53
        }
      ],
      "source": [
        "df_metrics.sort_values(by='y',ascending=False).groupby(by='label').head(2)"
      ]
    },
    {
      "cell_type": "markdown",
      "source": [
        "Pelo coeficiente `C` de regulação, podemos observar que o valor que teve uma melhor métrica f1 com o conjunto de validação foi com o valor de 0.12."
      ],
      "metadata": {
        "id": "_kja-wp6hN2T"
      }
    },
    {
      "cell_type": "markdown",
      "metadata": {
        "id": "pttwvqIRN4En"
      },
      "source": [
        "### Check tol"
      ]
    },
    {
      "cell_type": "code",
      "execution_count": null,
      "metadata": {
        "colab": {
          "base_uri": "https://localhost:8080/",
          "height": 295
        },
        "id": "36uQ6t2f3TtY",
        "outputId": "b5af1fbb-ecee-4837-f2ed-38e54e992301"
      },
      "outputs": [
        {
          "output_type": "display_data",
          "data": {
            "text/plain": [
              "<Figure size 432x288 with 1 Axes>"
            ],
            "image/png": "[encoded data removed]"
          },
          "metadata": {
            "needs_background": "light"
          }
        }
      ],
      "source": [
        "results_val = []\n",
        "results_train = []\n",
        "tols = np.linspace(0.00001,2.0,200)\n",
        "for tol in tols:\n",
        "  clf = Pipeline([('scaler', StandardScaler()), ('LR', LogisticRegression(max_iter=10000,tol=tol))])\n",
        "  clf.fit(X_train,y_train)\n",
        "  pred = clf.predict(X_valid)\n",
        "  results_val.append(f1_score(pred,y_valid,average=\"weighted\"))\n",
        "  pred = clf.predict(X_train)\n",
        "  results_train.append(f1_score(pred,y_train,average=\"weighted\"))\n",
        "    \n",
        "df_metrics = make_df_metrics(tols,results_train,results_val)\n",
        "\n",
        "plot_line(tols,results_val,results_train,\"tol\")"
      ]
    },
    {
      "cell_type": "code",
      "execution_count": null,
      "metadata": {
        "colab": {
          "base_uri": "https://localhost:8080/",
          "height": 175
        },
        "id": "b7Td-o4z9USi",
        "outputId": "6ce0c89b-dc64-4e5e-9586-e38bdf4a10e7"
      },
      "outputs": [
        {
          "output_type": "execute_result",
          "data": {
            "text/plain": [
              "            x         y  label\n",
              "164  0.824122  0.644970  train\n",
              "163  0.819097  0.644970  train\n",
              "188  0.944724  0.631973    val\n",
              "178  0.894473  0.631973    val"
            ],
            "text/html": [
              "\n",
              "  <div id=\"df-6a72f90f-c588-4dcf-bdfb-fd7f7083a24d\">\n",
              "    <div class=\"colab-df-container\">\n",
              "      <div>\n",
              "<style scoped>\n",
              "    .dataframe tbody tr th:only-of-type {\n",
              "        vertical-align: middle;\n",
              "    }\n",
              "\n",
              "    .dataframe tbody tr th {\n",
              "        vertical-align: top;\n",
              "    }\n",
              "\n",
              "    .dataframe thead th {\n",
              "        text-align: right;\n",
              "    }\n",
              "</style>\n",
              "<table border=\"1\" class=\"dataframe\">\n",
              "  <thead>\n",
              "    <tr style=\"text-align: right;\">\n",
              "      <th></th>\n",
              "      <th>x</th>\n",
              "      <th>y</th>\n",
              "      <th>label</th>\n",
              "    </tr>\n",
              "  </thead>\n",
              "  <tbody>\n",
              "    <tr>\n",
              "      <th>164</th>\n",
              "      <td>0.824122</td>\n",
              "      <td>0.644970</td>\n",
              "      <td>train</td>\n",
              "    </tr>\n",
              "    <tr>\n",
              "      <th>163</th>\n",
              "      <td>0.819097</td>\n",
              "      <td>0.644970</td>\n",
              "      <td>train</td>\n",
              "    </tr>\n",
              "    <tr>\n",
              "      <th>188</th>\n",
              "      <td>0.944724</td>\n",
              "      <td>0.631973</td>\n",
              "      <td>val</td>\n",
              "    </tr>\n",
              "    <tr>\n",
              "      <th>178</th>\n",
              "      <td>0.894473</td>\n",
              "      <td>0.631973</td>\n",
              "      <td>val</td>\n",
              "    </tr>\n",
              "  </tbody>\n",
              "</table>\n",
              "</div>\n",
              "      <button class=\"colab-df-convert\" onclick=\"convertToInteractive('df-6a72f90f-c588-4dcf-bdfb-fd7f7083a24d')\"\n",
              "              title=\"Convert this dataframe to an interactive table.\"\n",
              "              style=\"display:none;\">\n",
              "        \n",
              "  <svg xmlns=\"http://www.w3.org/2000/svg\" height=\"24px\"viewBox=\"0 0 24 24\"\n",
              "       width=\"24px\">\n",
              "    <path d=\"M0 0h24v24H0V0z\" fill=\"none\"/>\n",
              "    <path d=\"M18.56 5.44l.94 2.06.94-2.06 2.06-.94-2.06-.94-.94-2.06-.94 2.06-2.06.94zm-11 1L8.5 8.5l.94-2.06 2.06-.94-2.06-.94L8.5 2.5l-.94 2.06-2.06.94zm10 10l.94 2.06.94-2.06 2.06-.94-2.06-.94-.94-2.06-.94 2.06-2.06.94z\"/><path d=\"M17.41 7.96l-1.37-1.37c-.4-.4-.92-.59-1.43-.59-.52 0-1.04.2-1.43.59L10.3 9.45l-7.72 7.72c-.78.78-.78 2.05 0 2.83L4 21.41c.39.39.9.59 1.41.59.51 0 1.02-.2 1.41-.59l7.78-7.78 2.81-2.81c.8-.78.8-2.07 0-2.86zM5.41 20L4 18.59l7.72-7.72 1.47 1.35L5.41 20z\"/>\n",
              "  </svg>\n",
              "      </button>\n",
              "      \n",
              "  <style>\n",
              "    .colab-df-container {\n",
              "      display:flex;\n",
              "      flex-wrap:wrap;\n",
              "      gap: 12px;\n",
              "    }\n",
              "\n",
              "    .colab-df-convert {\n",
              "      background-color: #E8F0FE;\n",
              "      border: none;\n",
              "      border-radius: 50%;\n",
              "      cursor: pointer;\n",
              "      display: none;\n",
              "      fill: #1967D2;\n",
              "      height: 32px;\n",
              "      padding: 0 0 0 0;\n",
              "      width: 32px;\n",
              "    }\n",
              "\n",
              "    .colab-df-convert:hover {\n",
              "      background-color: #E2EBFA;\n",
              "      box-shadow: 0px 1px 2px rgba(60, 64, 67, 0.3), 0px 1px 3px 1px rgba(60, 64, 67, 0.15);\n",
              "      fill: #174EA6;\n",
              "    }\n",
              "\n",
              "    [theme=dark] .colab-df-convert {\n",
              "      background-color: #3B4455;\n",
              "      fill: #D2E3FC;\n",
              "    }\n",
              "\n",
              "    [theme=dark] .colab-df-convert:hover {\n",
              "      background-color: #434B5C;\n",
              "      box-shadow: 0px 1px 3px 1px rgba(0, 0, 0, 0.15);\n",
              "      filter: drop-shadow(0px 1px 2px rgba(0, 0, 0, 0.3));\n",
              "      fill: #FFFFFF;\n",
              "    }\n",
              "  </style>\n",
              "\n",
              "      <script>\n",
              "        const buttonEl =\n",
              "          document.querySelector('#df-6a72f90f-c588-4dcf-bdfb-fd7f7083a24d button.colab-df-convert');\n",
              "        buttonEl.style.display =\n",
              "          google.colab.kernel.accessAllowed ? 'block' : 'none';\n",
              "\n",
              "        async function convertToInteractive(key) {\n",
              "          const element = document.querySelector('#df-6a72f90f-c588-4dcf-bdfb-fd7f7083a24d');\n",
              "          const dataTable =\n",
              "            await google.colab.kernel.invokeFunction('convertToInteractive',\n",
              "                                                     [key], {});\n",
              "          if (!dataTable) return;\n",
              "\n",
              "          const docLinkHtml = 'Like what you see? Visit the ' +\n",
              "            '<a target=\"_blank\" href=https://colab.research.google.com/notebooks/data_table.ipynb>data table notebook</a>'\n",
              "            + ' to learn more about interactive tables.';\n",
              "          element.innerHTML = '';\n",
              "          dataTable['output_type'] = 'display_data';\n",
              "          await google.colab.output.renderOutput(dataTable, element);\n",
              "          const docLink = document.createElement('div');\n",
              "          docLink.innerHTML = docLinkHtml;\n",
              "          element.appendChild(docLink);\n",
              "        }\n",
              "      </script>\n",
              "    </div>\n",
              "  </div>\n",
              "  "
            ]
          },
          "metadata": {},
          "execution_count": 55
        }
      ],
      "source": [
        "df_metrics.sort_values(by='y',ascending=False).groupby(by='label').head(2)"
      ]
    },
    {
      "cell_type": "markdown",
      "source": [
        "Aplicando a analise na tolerância podemos observar que o valor que teve a melhor métrica f1 no teste de validação foi o valor de 0.94."
      ],
      "metadata": {
        "id": "9nDqYOCOluuh"
      }
    },
    {
      "cell_type": "code",
      "execution_count": null,
      "metadata": {
        "id": "L8Yp_3EUOFF3"
      },
      "outputs": [],
      "source": [
        "clf =  Pipeline([('scaler', StandardScaler()), ('LR', LogisticRegression(penalty='l2',solver='newton-cholesky',C=0.12,tol=0.94,max_iter=10000))])\n",
        "clf.fit(X_train,y_train)\n",
        "pred = clf.predict(X_valid)\n",
        "print(\"f1_val\",f1_score(pred,y_valid,average=\"weighted\"))\n",
        "pred = clf.predict(X_train)\n",
        "print(\"f1_train\",f1_score(pred,y_train,average=\"weighted\"))\n"
      ]
    },
    {
      "cell_type": "code",
      "execution_count": null,
      "metadata": {
        "colab": {
          "base_uri": "https://localhost:8080/"
        },
        "id": "a_IbvesIOLCH",
        "outputId": "62684f10-f8b6-4b14-af16-b94d8e2536be"
      },
      "outputs": [
        {
          "output_type": "stream",
          "name": "stdout",
          "text": [
            "Precision:  0.9291839021869868\n",
            "Recall:  0.4786816134904666\n",
            "F1-score:  0.6228920819461955\n",
            "----------------------------------------------------------------------------------------------------\n"
          ]
        },
        {
          "output_type": "stream",
          "name": "stderr",
          "text": [
            "/usr/local/lib/python3.8/dist-packages/sklearn/metrics/_classification.py:1344: UndefinedMetricWarning: Recall is ill-defined and being set to 0.0 in labels with no true samples. Use `zero_division` parameter to control this behavior.\n",
            "  _warn_prf(average, modifier, msg_start, len(result))\n"
          ]
        }
      ],
      "source": [
        "check_test(clf,X_test,y_test)"
      ]
    },
    {
      "cell_type": "markdown",
      "source": [
        "Agora aplicando todos os melhores parâmetros no nosso modelo podemos observar que no teste final tivemos uma melhora pequena nas nossas métricas, no entando ainda sim conseguimos melhorar o modelo.\n"
      ],
      "metadata": {
        "id": "auacbbral8zp"
      }
    },
    {
      "cell_type": "markdown",
      "metadata": {
        "id": "Hk9uLHLOsZRt"
      },
      "source": [
        "## KNN"
      ]
    },
    {
      "cell_type": "code",
      "execution_count": null,
      "metadata": {
        "id": "N-GECrMWspRl"
      },
      "outputs": [],
      "source": [
        "from sklearn.neighbors import KNeighborsClassifier\n",
        "from sklearn.utils.extmath import weighted_mode\n",
        "import matplotlib.pyplot as plt\n",
        "import numpy as np\n",
        "import optuna"
      ]
    },
    {
      "cell_type": "markdown",
      "metadata": {
        "id": "oratcnM7sk0x"
      },
      "source": [
        "## KNN parameters\n",
        "\n"
      ]
    },
    {
      "cell_type": "code",
      "execution_count": null,
      "metadata": {
        "id": "OFQyseoBsy7H"
      },
      "outputs": [],
      "source": [
        "def check_f1_test(clf,X_test,y_test):\n",
        "  pred = clf.predict(X_test)\n",
        "  print(\"f1\",f1_score(pred,y_test,average=\"weighted\"))\n",
        "  print(\"recall\",recall_score(pred,y_test,average=\"weighted\"))\n",
        "  print(\"precision\",precision_score(pred,y_test,average=\"weighted\"))"
      ]
    },
    {
      "cell_type": "code",
      "execution_count": null,
      "metadata": {
        "colab": {
          "base_uri": "https://localhost:8080/",
          "height": 297
        },
        "id": "Y0T2Gt9usani",
        "outputId": "9d8c6150-423f-42aa-d226-106e5c4abaa2"
      },
      "outputs": [
        {
          "output_type": "execute_result",
          "data": {
            "text/plain": [
              "<matplotlib.legend.Legend at 0x7f5173c2ffa0>"
            ]
          },
          "metadata": {},
          "execution_count": 60
        },
        {
          "output_type": "display_data",
          "data": {
            "text/plain": [
              "<Figure size 432x288 with 1 Axes>"
            ],
            "image/png": "[encoded data removed]"
          },
          "metadata": {
            "needs_background": "light"
          }
        }
      ],
      "source": [
        "results_val = []\n",
        "results_train = []\n",
        "n_s = range(1,10)\n",
        "for n_neighbors in n_s:\n",
        "  clf = KNeighborsClassifier(n_neighbors = n_neighbors)\n",
        "  clf.fit(X_train,y_train)\n",
        "  pred = clf.predict(X_valid)\n",
        "  results_val.append(f1_score(pred,y_valid,average=\"weighted\"))\n",
        "  pred = clf.predict(X_train)\n",
        "  results_train.append(f1_score(pred,y_train,average=\"weighted\"))\n",
        "\n",
        "plt.plot(n_s,results_val,label='val')\n",
        "plt.plot(n_s,results_train,label='train')\n",
        "plt.ylabel(\"f1-score\")\n",
        "plt.xlabel(\"n_neighbors\")\n",
        "plt.legend()"
      ]
    },
    {
      "cell_type": "markdown",
      "source": [
        "Observando o gráfica e analisando bem o modelo, podemos observar que  com a formula de distãncia fixada como a distância euclidiana, o valor de `k` igual a 1 é o que apresenta a melhor métrica f1 e ainda consegue fazer as predições de forma mais simples."
      ],
      "metadata": {
        "id": "KNOixd3WmfqW"
      }
    },
    {
      "cell_type": "markdown",
      "metadata": {
        "id": "u2WdSBkfvURu"
      },
      "source": [
        "**Obs: como podemos constatar na documentação do sklearn, a metrica default é minkowski, mas como p default é 2 ela é equivalente a metrica euclideana**\n"
      ]
    },
    {
      "cell_type": "markdown",
      "source": [
        "## Testando outras métricas de distância"
      ],
      "metadata": {
        "id": "0UVx8XBDnO1H"
      }
    },
    {
      "cell_type": "code",
      "execution_count": null,
      "metadata": {
        "id": "JVxQfhifsjG8"
      },
      "outputs": [],
      "source": [
        "def make_df_metrics(methods,results_train,results_val):\n",
        "  return pd.concat([pd.DataFrame({\"x\":methods,'y':results_train,'label':['train']*len(results_train)}),pd.DataFrame({\"x\":methods,'y':results_val,'label':['val']*len(results_val)})])\n"
      ]
    },
    {
      "cell_type": "code",
      "execution_count": null,
      "metadata": {
        "id": "0WeeVnIssjJO"
      },
      "outputs": [],
      "source": [
        "results_val = []\n",
        "results_train = []\n",
        "metrics = ['cityblock','cosine','euclidean','l1','l2','manhattan','nan_euclidean']\n",
        "#'haversine'\n",
        "for x in metrics:\n",
        "  clf = KNeighborsClassifier(metric = x)\n",
        "  clf.fit(X_train,y_train)\n",
        "  pred = clf.predict(X_valid)\n",
        "  results_val.append(f1_score(pred,y_valid,average=\"weighted\"))\n",
        "  pred = clf.predict(X_train)\n",
        "  results_train.append(f1_score(pred,y_train,average=\"weighted\"))\n",
        "  \n",
        "for x in range(3,8):\n",
        "  metrics.append(f'minkowski_p{x}')\n",
        "  clf = KNeighborsClassifier(metric = 'minkowski',p=x)\n",
        "  clf.fit(X_train,y_train)\n",
        "  pred = clf.predict(X_valid)\n",
        "  results_val.append(f1_score(pred,y_valid,average=\"weighted\"))\n",
        "  pred = clf.predict(X_train)\n",
        "  results_train.append(f1_score(pred,y_train,average=\"weighted\"))\n",
        "\n",
        "df_metrics = make_df_metrics(metrics,results_train,results_val)"
      ]
    },
    {
      "cell_type": "code",
      "execution_count": null,
      "metadata": {
        "colab": {
          "base_uri": "https://localhost:8080/",
          "height": 297
        },
        "id": "s4M-TBlps4Mq",
        "outputId": "bb7a84d8-bde9-47a2-9567-6c83452ef71f"
      },
      "outputs": [
        {
          "output_type": "execute_result",
          "data": {
            "text/plain": [
              "(0.6, 1.0)"
            ]
          },
          "metadata": {},
          "execution_count": 63
        },
        {
          "output_type": "display_data",
          "data": {
            "text/plain": [
              "<Figure size 432x288 with 1 Axes>"
            ],
            "image/png": "[encoded data removed]"
          },
          "metadata": {
            "needs_background": "light"
          }
        }
      ],
      "source": [
        "sns.barplot(data=df_metrics,y='x',x='y',hue='label')\n",
        "plt.ylabel(\"metrics\")\n",
        "plt.xlabel(\"f1_score\")\n",
        "plt.xlim(0.6, 1.0)"
      ]
    },
    {
      "cell_type": "code",
      "execution_count": null,
      "metadata": {
        "colab": {
          "base_uri": "https://localhost:8080/",
          "height": 300
        },
        "id": "pig3KMAKs4T7",
        "outputId": "ffc83e7d-54a8-441a-c6a9-f6b1ca08d756"
      },
      "outputs": [
        {
          "output_type": "execute_result",
          "data": {
            "text/plain": [
              "           x         y  label\n",
              "0  cityblock  0.878461  train\n",
              "3         l1  0.878461  train\n",
              "5  manhattan  0.878461  train\n",
              "2  euclidean  0.821596  train\n",
              "5  manhattan  0.800712    val\n",
              "3         l1  0.800712    val\n",
              "0  cityblock  0.800712    val\n",
              "2  euclidean  0.722539    val"
            ],
            "text/html": [
              "\n",
              "  <div id=\"df-cf131512-951d-4f0c-9675-e8daec86493c\">\n",
              "    <div class=\"colab-df-container\">\n",
              "      <div>\n",
              "<style scoped>\n",
              "    .dataframe tbody tr th:only-of-type {\n",
              "        vertical-align: middle;\n",
              "    }\n",
              "\n",
              "    .dataframe tbody tr th {\n",
              "        vertical-align: top;\n",
              "    }\n",
              "\n",
              "    .dataframe thead th {\n",
              "        text-align: right;\n",
              "    }\n",
              "</style>\n",
              "<table border=\"1\" class=\"dataframe\">\n",
              "  <thead>\n",
              "    <tr style=\"text-align: right;\">\n",
              "      <th></th>\n",
              "      <th>x</th>\n",
              "      <th>y</th>\n",
              "      <th>label</th>\n",
              "    </tr>\n",
              "  </thead>\n",
              "  <tbody>\n",
              "    <tr>\n",
              "      <th>0</th>\n",
              "      <td>cityblock</td>\n",
              "      <td>0.878461</td>\n",
              "      <td>train</td>\n",
              "    </tr>\n",
              "    <tr>\n",
              "      <th>3</th>\n",
              "      <td>l1</td>\n",
              "      <td>0.878461</td>\n",
              "      <td>train</td>\n",
              "    </tr>\n",
              "    <tr>\n",
              "      <th>5</th>\n",
              "      <td>manhattan</td>\n",
              "      <td>0.878461</td>\n",
              "      <td>train</td>\n",
              "    </tr>\n",
              "    <tr>\n",
              "      <th>2</th>\n",
              "      <td>euclidean</td>\n",
              "      <td>0.821596</td>\n",
              "      <td>train</td>\n",
              "    </tr>\n",
              "    <tr>\n",
              "      <th>5</th>\n",
              "      <td>manhattan</td>\n",
              "      <td>0.800712</td>\n",
              "      <td>val</td>\n",
              "    </tr>\n",
              "    <tr>\n",
              "      <th>3</th>\n",
              "      <td>l1</td>\n",
              "      <td>0.800712</td>\n",
              "      <td>val</td>\n",
              "    </tr>\n",
              "    <tr>\n",
              "      <th>0</th>\n",
              "      <td>cityblock</td>\n",
              "      <td>0.800712</td>\n",
              "      <td>val</td>\n",
              "    </tr>\n",
              "    <tr>\n",
              "      <th>2</th>\n",
              "      <td>euclidean</td>\n",
              "      <td>0.722539</td>\n",
              "      <td>val</td>\n",
              "    </tr>\n",
              "  </tbody>\n",
              "</table>\n",
              "</div>\n",
              "      <button class=\"colab-df-convert\" onclick=\"convertToInteractive('df-cf131512-951d-4f0c-9675-e8daec86493c')\"\n",
              "              title=\"Convert this dataframe to an interactive table.\"\n",
              "              style=\"display:none;\">\n",
              "        \n",
              "  <svg xmlns=\"http://www.w3.org/2000/svg\" height=\"24px\"viewBox=\"0 0 24 24\"\n",
              "       width=\"24px\">\n",
              "    <path d=\"M0 0h24v24H0V0z\" fill=\"none\"/>\n",
              "    <path d=\"M18.56 5.44l.94 2.06.94-2.06 2.06-.94-2.06-.94-.94-2.06-.94 2.06-2.06.94zm-11 1L8.5 8.5l.94-2.06 2.06-.94-2.06-.94L8.5 2.5l-.94 2.06-2.06.94zm10 10l.94 2.06.94-2.06 2.06-.94-2.06-.94-.94-2.06-.94 2.06-2.06.94z\"/><path d=\"M17.41 7.96l-1.37-1.37c-.4-.4-.92-.59-1.43-.59-.52 0-1.04.2-1.43.59L10.3 9.45l-7.72 7.72c-.78.78-.78 2.05 0 2.83L4 21.41c.39.39.9.59 1.41.59.51 0 1.02-.2 1.41-.59l7.78-7.78 2.81-2.81c.8-.78.8-2.07 0-2.86zM5.41 20L4 18.59l7.72-7.72 1.47 1.35L5.41 20z\"/>\n",
              "  </svg>\n",
              "      </button>\n",
              "      \n",
              "  <style>\n",
              "    .colab-df-container {\n",
              "      display:flex;\n",
              "      flex-wrap:wrap;\n",
              "      gap: 12px;\n",
              "    }\n",
              "\n",
              "    .colab-df-convert {\n",
              "      background-color: #E8F0FE;\n",
              "      border: none;\n",
              "      border-radius: 50%;\n",
              "      cursor: pointer;\n",
              "      display: none;\n",
              "      fill: #1967D2;\n",
              "      height: 32px;\n",
              "      padding: 0 0 0 0;\n",
              "      width: 32px;\n",
              "    }\n",
              "\n",
              "    .colab-df-convert:hover {\n",
              "      background-color: #E2EBFA;\n",
              "      box-shadow: 0px 1px 2px rgba(60, 64, 67, 0.3), 0px 1px 3px 1px rgba(60, 64, 67, 0.15);\n",
              "      fill: #174EA6;\n",
              "    }\n",
              "\n",
              "    [theme=dark] .colab-df-convert {\n",
              "      background-color: #3B4455;\n",
              "      fill: #D2E3FC;\n",
              "    }\n",
              "\n",
              "    [theme=dark] .colab-df-convert:hover {\n",
              "      background-color: #434B5C;\n",
              "      box-shadow: 0px 1px 3px 1px rgba(0, 0, 0, 0.15);\n",
              "      filter: drop-shadow(0px 1px 2px rgba(0, 0, 0, 0.3));\n",
              "      fill: #FFFFFF;\n",
              "    }\n",
              "  </style>\n",
              "\n",
              "      <script>\n",
              "        const buttonEl =\n",
              "          document.querySelector('#df-cf131512-951d-4f0c-9675-e8daec86493c button.colab-df-convert');\n",
              "        buttonEl.style.display =\n",
              "          google.colab.kernel.accessAllowed ? 'block' : 'none';\n",
              "\n",
              "        async function convertToInteractive(key) {\n",
              "          const element = document.querySelector('#df-cf131512-951d-4f0c-9675-e8daec86493c');\n",
              "          const dataTable =\n",
              "            await google.colab.kernel.invokeFunction('convertToInteractive',\n",
              "                                                     [key], {});\n",
              "          if (!dataTable) return;\n",
              "\n",
              "          const docLinkHtml = 'Like what you see? Visit the ' +\n",
              "            '<a target=\"_blank\" href=https://colab.research.google.com/notebooks/data_table.ipynb>data table notebook</a>'\n",
              "            + ' to learn more about interactive tables.';\n",
              "          element.innerHTML = '';\n",
              "          dataTable['output_type'] = 'display_data';\n",
              "          await google.colab.output.renderOutput(dataTable, element);\n",
              "          const docLink = document.createElement('div');\n",
              "          docLink.innerHTML = docLinkHtml;\n",
              "          element.appendChild(docLink);\n",
              "        }\n",
              "      </script>\n",
              "    </div>\n",
              "  </div>\n",
              "  "
            ]
          },
          "metadata": {},
          "execution_count": 64
        }
      ],
      "source": [
        "df_metrics.sort_values(by='y',ascending=False).groupby(by='label').head(4)"
      ]
    },
    {
      "cell_type": "markdown",
      "source": [
        "Ao fixarmos o valor de `k` e variarmos as métricas de distância, podemos observar que tanto a distância de manhattan como a euclidiana apresentam bons resultados no nosso `dataset`, então nós fizemos uma analise mais profunda variando o `k` para essas duas distâncias."
      ],
      "metadata": {
        "id": "XMeHlZnsncjX"
      }
    },
    {
      "cell_type": "code",
      "execution_count": null,
      "metadata": {
        "colab": {
          "base_uri": "https://localhost:8080/",
          "height": 297
        },
        "id": "HzobJ3dzs4ca",
        "outputId": "6d26fce9-aa78-4392-cec7-30331ca25d34"
      },
      "outputs": [
        {
          "output_type": "execute_result",
          "data": {
            "text/plain": [
              "<matplotlib.legend.Legend at 0x7f5173a39850>"
            ]
          },
          "metadata": {},
          "execution_count": 65
        },
        {
          "output_type": "display_data",
          "data": {
            "text/plain": [
              "<Figure size 432x288 with 1 Axes>"
            ],
            "image/png": "[encoded data removed]"
          },
          "metadata": {
            "needs_background": "light"
          }
        }
      ],
      "source": [
        "manhattan_val = []\n",
        "euclidean_val = []\n",
        "\n",
        "\n",
        "n_s = range(1,40)\n",
        "for n_neighbors in n_s:\n",
        "  clf = KNeighborsClassifier(n_neighbors = n_neighbors,metric='manhattan')\n",
        "  clf.fit(X_train,y_train)\n",
        "  pred = clf.predict(X_valid)\n",
        "  manhattan_val.append(f1_score(pred,y_valid,average=\"weighted\"))\n",
        "\n",
        "for n_neighbors in n_s:\n",
        "  clf = KNeighborsClassifier(n_neighbors = n_neighbors,metric='euclidean')\n",
        "  clf.fit(X_train,y_train)\n",
        "  pred = clf.predict(X_valid)\n",
        "  euclidean_val.append(f1_score(pred,y_valid,average=\"weighted\"))\n",
        "\n",
        "plt.plot(n_s,manhattan_val,label='manhattan')\n",
        "plt.plot(n_s,euclidean_val,label='euclidean')\n",
        "\n",
        "plt.ylabel(\"f1-score\")\n",
        "plt.xlabel(\"n_neighbors\")\n",
        "plt.legend()"
      ]
    },
    {
      "cell_type": "markdown",
      "source": [
        "Ao analisarmos o gráfico, podemos observar que para multiplos valores de `k`, a distância de manhattan apresenta uma métrica f1 mais otimizada. Então utilizamos essa distância e o `k` igual a 1 para tentar otimizar o KNN."
      ],
      "metadata": {
        "id": "Hbe4E4c0nv_n"
      }
    },
    {
      "cell_type": "code",
      "execution_count": null,
      "metadata": {
        "colab": {
          "base_uri": "https://localhost:8080/"
        },
        "id": "ljMXneRos-tD",
        "outputId": "e7313f5b-159b-498b-a42c-93a3027cbae7"
      },
      "outputs": [
        {
          "output_type": "stream",
          "name": "stdout",
          "text": [
            "f1 0.828563428389104\n",
            "recall 0.8293570949506563\n",
            "precision 0.8292224138422384\n"
          ]
        }
      ],
      "source": [
        "clf = KNeighborsClassifier(n_neighbors = 1,metric='manhattan')\n",
        "clf.fit(X_train,y_train)\n",
        "check_f1_test(clf,X_test,y_test)"
      ]
    },
    {
      "cell_type": "markdown",
      "source": [
        "Por fim, conseguimos otimizar ainda mais as métricas alterando os hiperparâmetros para os valores otimos encontrados."
      ],
      "metadata": {
        "id": "jbuLxm_WqMJa"
      }
    },
    {
      "cell_type": "markdown",
      "metadata": {
        "id": "ldkjkb_wtIjd"
      },
      "source": [
        "## Utilizando o Optuna para tentar encontrar os melhores parametros para utilizar no KNN"
      ]
    },
    {
      "cell_type": "code",
      "execution_count": null,
      "metadata": {
        "colab": {
          "base_uri": "https://localhost:8080/"
        },
        "id": "uL0ItrSPs-yV",
        "outputId": "47b98fd7-8ef4-4aa9-e330-f4693a6e1e72"
      },
      "outputs": [
        {
          "output_type": "stream",
          "name": "stderr",
          "text": [
            "\u001b[32m[I 2023-03-07 03:36:55,128]\u001b[0m A new study created in memory with name: no-name-2598c1d1-d163-4708-b99b-829a239b592e\u001b[0m\n",
            "\u001b[32m[I 2023-03-07 03:36:55,690]\u001b[0m Trial 0 finished with value: 0.7457426042521802 and parameters: {'n_neighbors': 18, 'metric': 'manhattan'}. Best is trial 0 with value: 0.7457426042521802.\u001b[0m\n",
            "\u001b[32m[I 2023-03-07 03:36:56,097]\u001b[0m Trial 1 finished with value: 0.6851831109994547 and parameters: {'n_neighbors': 19, 'metric': 'l2'}. Best is trial 0 with value: 0.7457426042521802.\u001b[0m\n",
            "\u001b[32m[I 2023-03-07 03:36:57,158]\u001b[0m Trial 2 finished with value: 0.7242516497900358 and parameters: {'n_neighbors': 4, 'metric': 'nan_euclidean'}. Best is trial 0 with value: 0.7457426042521802.\u001b[0m\n",
            "\u001b[32m[I 2023-03-07 03:36:57,452]\u001b[0m Trial 3 finished with value: 0.7242516497900358 and parameters: {'n_neighbors': 4, 'metric': 'l2'}. Best is trial 0 with value: 0.7457426042521802.\u001b[0m\n",
            "\u001b[32m[I 2023-03-07 03:36:57,928]\u001b[0m Trial 4 finished with value: 0.7757768099362072 and parameters: {'n_neighbors': 9, 'metric': 'cityblock'}. Best is trial 4 with value: 0.7757768099362072.\u001b[0m\n",
            "\u001b[32m[I 2023-03-07 03:36:58,317]\u001b[0m Trial 5 finished with value: 0.685741726544354 and parameters: {'n_neighbors': 18, 'metric': 'l2'}. Best is trial 4 with value: 0.7757768099362072.\u001b[0m\n",
            "\u001b[32m[I 2023-03-07 03:36:58,712]\u001b[0m Trial 6 finished with value: 0.6851831109994547 and parameters: {'n_neighbors': 19, 'metric': 'euclidean'}. Best is trial 4 with value: 0.7757768099362072.\u001b[0m\n",
            "\u001b[32m[I 2023-03-07 03:36:59,239]\u001b[0m Trial 7 finished with value: 0.6868650957476536 and parameters: {'n_neighbors': 11, 'metric': 'cosine'}. Best is trial 4 with value: 0.7757768099362072.\u001b[0m\n",
            "\u001b[32m[I 2023-03-07 03:36:59,752]\u001b[0m Trial 8 finished with value: 0.7563885266247056 and parameters: {'n_neighbors': 13, 'metric': 'cityblock'}. Best is trial 4 with value: 0.7757768099362072.\u001b[0m\n",
            "\u001b[32m[I 2023-03-07 03:37:00,192]\u001b[0m Trial 9 finished with value: 0.8000252436283004 and parameters: {'n_neighbors': 6, 'metric': 'l1'}. Best is trial 9 with value: 0.8000252436283004.\u001b[0m\n",
            "\u001b[32m[I 2023-03-07 03:37:00,510]\u001b[0m Trial 10 finished with value: 0.8239014195740391 and parameters: {'n_neighbors': 1, 'metric': 'l1'}. Best is trial 10 with value: 0.8239014195740391.\u001b[0m\n",
            "\u001b[32m[I 2023-03-07 03:37:00,827]\u001b[0m Trial 11 finished with value: 0.8239014195740391 and parameters: {'n_neighbors': 1, 'metric': 'l1'}. Best is trial 10 with value: 0.8239014195740391.\u001b[0m\n",
            "\u001b[32m[I 2023-03-07 03:37:01,137]\u001b[0m Trial 12 finished with value: 0.8239014195740391 and parameters: {'n_neighbors': 1, 'metric': 'l1'}. Best is trial 10 with value: 0.8239014195740391.\u001b[0m\n",
            "\u001b[32m[I 2023-03-07 03:37:01,458]\u001b[0m Trial 13 finished with value: 0.8239014195740391 and parameters: {'n_neighbors': 1, 'metric': 'l1'}. Best is trial 10 with value: 0.8239014195740391.\u001b[0m\n",
            "\u001b[32m[I 2023-03-07 03:37:01,923]\u001b[0m Trial 14 finished with value: 0.783993945772343 and parameters: {'n_neighbors': 7, 'metric': 'l1'}. Best is trial 10 with value: 0.8239014195740391.\u001b[0m\n",
            "\u001b[32m[I 2023-03-07 03:37:02,333]\u001b[0m Trial 15 finished with value: 0.8174427391068446 and parameters: {'n_neighbors': 3, 'metric': 'l1'}. Best is trial 10 with value: 0.8239014195740391.\u001b[0m\n",
            "\u001b[32m[I 2023-03-07 03:37:02,712]\u001b[0m Trial 16 finished with value: 0.6870288765266944 and parameters: {'n_neighbors': 14, 'metric': 'euclidean'}. Best is trial 10 with value: 0.8239014195740391.\u001b[0m\n",
            "\u001b[32m[I 2023-03-07 03:37:03,347]\u001b[0m Trial 17 finished with value: 0.6910285648806685 and parameters: {'n_neighbors': 7, 'metric': 'cosine'}. Best is trial 10 with value: 0.8239014195740391.\u001b[0m\n",
            "\u001b[32m[I 2023-03-07 03:37:04,762]\u001b[0m Trial 18 finished with value: 0.7397289262127136 and parameters: {'n_neighbors': 1, 'metric': 'nan_euclidean'}. Best is trial 10 with value: 0.8239014195740391.\u001b[0m\n",
            "\u001b[32m[I 2023-03-07 03:37:05,447]\u001b[0m Trial 19 finished with value: 0.8174427391068446 and parameters: {'n_neighbors': 3, 'metric': 'manhattan'}. Best is trial 10 with value: 0.8239014195740391.\u001b[0m\n",
            "\u001b[32m[I 2023-03-07 03:37:06,150]\u001b[0m Trial 20 finished with value: 0.7757768099362072 and parameters: {'n_neighbors': 9, 'metric': 'l1'}. Best is trial 10 with value: 0.8239014195740391.\u001b[0m\n",
            "\u001b[32m[I 2023-03-07 03:37:06,516]\u001b[0m Trial 21 finished with value: 0.8010434519539569 and parameters: {'n_neighbors': 2, 'metric': 'l1'}. Best is trial 10 with value: 0.8239014195740391.\u001b[0m\n",
            "\u001b[32m[I 2023-03-07 03:37:06,962]\u001b[0m Trial 22 finished with value: 0.8007119689579971 and parameters: {'n_neighbors': 5, 'metric': 'l1'}. Best is trial 10 with value: 0.8239014195740391.\u001b[0m\n",
            "\u001b[32m[I 2023-03-07 03:37:07,279]\u001b[0m Trial 23 finished with value: 0.8239014195740391 and parameters: {'n_neighbors': 1, 'metric': 'l1'}. Best is trial 10 with value: 0.8239014195740391.\u001b[0m\n",
            "\u001b[32m[I 2023-03-07 03:37:07,689]\u001b[0m Trial 24 finished with value: 0.8174427391068446 and parameters: {'n_neighbors': 3, 'metric': 'l1'}. Best is trial 10 with value: 0.8239014195740391.\u001b[0m\n",
            "\u001b[32m[I 2023-03-07 03:37:08,156]\u001b[0m Trial 25 finished with value: 0.8007119689579971 and parameters: {'n_neighbors': 5, 'metric': 'l1'}. Best is trial 10 with value: 0.8239014195740391.\u001b[0m\n",
            "\u001b[32m[I 2023-03-07 03:37:08,562]\u001b[0m Trial 26 finished with value: 0.8239014195740391 and parameters: {'n_neighbors': 1, 'metric': 'l1'}. Best is trial 10 with value: 0.8239014195740391.\u001b[0m\n",
            "\u001b[32m[I 2023-03-07 03:37:09,276]\u001b[0m Trial 27 finished with value: 0.687000851117372 and parameters: {'n_neighbors': 15, 'metric': 'cosine'}. Best is trial 10 with value: 0.8239014195740391.\u001b[0m\n",
            "\u001b[32m[I 2023-03-07 03:37:09,749]\u001b[0m Trial 28 finished with value: 0.7371189355870021 and parameters: {'n_neighbors': 3, 'metric': 'euclidean'}. Best is trial 10 with value: 0.8239014195740391.\u001b[0m\n",
            "\u001b[32m[I 2023-03-07 03:37:10,553]\u001b[0m Trial 29 finished with value: 0.7799978413488236 and parameters: {'n_neighbors': 8, 'metric': 'manhattan'}. Best is trial 10 with value: 0.8239014195740391.\u001b[0m\n",
            "\u001b[32m[I 2023-03-07 03:37:11,922]\u001b[0m Trial 30 finished with value: 0.7225385508602775 and parameters: {'n_neighbors': 5, 'metric': 'nan_euclidean'}. Best is trial 10 with value: 0.8239014195740391.\u001b[0m\n",
            "\u001b[32m[I 2023-03-07 03:37:12,253]\u001b[0m Trial 31 finished with value: 0.8239014195740391 and parameters: {'n_neighbors': 1, 'metric': 'l1'}. Best is trial 10 with value: 0.8239014195740391.\u001b[0m\n",
            "\u001b[32m[I 2023-03-07 03:37:12,619]\u001b[0m Trial 32 finished with value: 0.8010434519539569 and parameters: {'n_neighbors': 2, 'metric': 'l1'}. Best is trial 10 with value: 0.8239014195740391.\u001b[0m\n",
            "\u001b[32m[I 2023-03-07 03:37:12,981]\u001b[0m Trial 33 finished with value: 0.8010434519539569 and parameters: {'n_neighbors': 2, 'metric': 'l1'}. Best is trial 10 with value: 0.8239014195740391.\u001b[0m\n",
            "\u001b[32m[I 2023-03-07 03:37:13,406]\u001b[0m Trial 34 finished with value: 0.8064721624199659 and parameters: {'n_neighbors': 4, 'metric': 'cityblock'}. Best is trial 10 with value: 0.8239014195740391.\u001b[0m\n",
            "\u001b[32m[I 2023-03-07 03:37:13,677]\u001b[0m Trial 35 finished with value: 0.7204872438550871 and parameters: {'n_neighbors': 2, 'metric': 'l2'}. Best is trial 10 with value: 0.8239014195740391.\u001b[0m\n",
            "\u001b[32m[I 2023-03-07 03:37:14,096]\u001b[0m Trial 36 finished with value: 0.8064721624199659 and parameters: {'n_neighbors': 4, 'metric': 'manhattan'}. Best is trial 10 with value: 0.8239014195740391.\u001b[0m\n",
            "\u001b[32m[I 2023-03-07 03:37:14,416]\u001b[0m Trial 37 finished with value: 0.8239014195740391 and parameters: {'n_neighbors': 1, 'metric': 'l1'}. Best is trial 10 with value: 0.8239014195740391.\u001b[0m\n",
            "\u001b[32m[I 2023-03-07 03:37:14,725]\u001b[0m Trial 38 finished with value: 0.7242516497900358 and parameters: {'n_neighbors': 4, 'metric': 'l2'}. Best is trial 10 with value: 0.8239014195740391.\u001b[0m\n",
            "\u001b[32m[I 2023-03-07 03:37:15,774]\u001b[0m Trial 39 finished with value: 0.6895341286907931 and parameters: {'n_neighbors': 11, 'metric': 'nan_euclidean'}. Best is trial 10 with value: 0.8239014195740391.\u001b[0m\n",
            "\u001b[32m[I 2023-03-07 03:37:16,557]\u001b[0m Trial 40 finished with value: 0.7516214976252442 and parameters: {'n_neighbors': 17, 'metric': 'cityblock'}. Best is trial 10 with value: 0.8239014195740391.\u001b[0m\n",
            "\u001b[32m[I 2023-03-07 03:37:17,105]\u001b[0m Trial 41 finished with value: 0.8239014195740391 and parameters: {'n_neighbors': 1, 'metric': 'l1'}. Best is trial 10 with value: 0.8239014195740391.\u001b[0m\n",
            "\u001b[32m[I 2023-03-07 03:37:17,733]\u001b[0m Trial 42 finished with value: 0.8010434519539569 and parameters: {'n_neighbors': 2, 'metric': 'l1'}. Best is trial 10 with value: 0.8239014195740391.\u001b[0m\n",
            "\u001b[32m[I 2023-03-07 03:37:18,269]\u001b[0m Trial 43 finished with value: 0.8239014195740391 and parameters: {'n_neighbors': 1, 'metric': 'l1'}. Best is trial 10 with value: 0.8239014195740391.\u001b[0m\n",
            "\u001b[32m[I 2023-03-07 03:37:18,938]\u001b[0m Trial 44 finished with value: 0.8174427391068446 and parameters: {'n_neighbors': 3, 'metric': 'l1'}. Best is trial 10 with value: 0.8239014195740391.\u001b[0m\n",
            "\u001b[32m[I 2023-03-07 03:37:19,482]\u001b[0m Trial 45 finished with value: 0.8000252436283004 and parameters: {'n_neighbors': 6, 'metric': 'l1'}. Best is trial 10 with value: 0.8239014195740391.\u001b[0m\n",
            "\u001b[32m[I 2023-03-07 03:37:19,748]\u001b[0m Trial 46 finished with value: 0.7204872438550871 and parameters: {'n_neighbors': 2, 'metric': 'euclidean'}. Best is trial 10 with value: 0.8239014195740391.\u001b[0m\n",
            "\u001b[32m[I 2023-03-07 03:37:20,267]\u001b[0m Trial 47 finished with value: 0.6820101624059176 and parameters: {'n_neighbors': 20, 'metric': 'cosine'}. Best is trial 10 with value: 0.8239014195740391.\u001b[0m\n",
            "\u001b[32m[I 2023-03-07 03:37:20,696]\u001b[0m Trial 48 finished with value: 0.8064721624199659 and parameters: {'n_neighbors': 4, 'metric': 'l1'}. Best is trial 10 with value: 0.8239014195740391.\u001b[0m\n",
            "\u001b[32m[I 2023-03-07 03:37:21,095]\u001b[0m Trial 49 finished with value: 0.8174427391068446 and parameters: {'n_neighbors': 3, 'metric': 'l1'}. Best is trial 10 with value: 0.8239014195740391.\u001b[0m\n",
            "\u001b[32m[I 2023-03-07 03:37:21,332]\u001b[0m Trial 50 finished with value: 0.7397289262127136 and parameters: {'n_neighbors': 1, 'metric': 'l2'}. Best is trial 10 with value: 0.8239014195740391.\u001b[0m\n",
            "\u001b[32m[I 2023-03-07 03:37:21,666]\u001b[0m Trial 51 finished with value: 0.8239014195740391 and parameters: {'n_neighbors': 1, 'metric': 'l1'}. Best is trial 10 with value: 0.8239014195740391.\u001b[0m\n",
            "\u001b[32m[I 2023-03-07 03:37:22,033]\u001b[0m Trial 52 finished with value: 0.8010434519539569 and parameters: {'n_neighbors': 2, 'metric': 'l1'}. Best is trial 10 with value: 0.8239014195740391.\u001b[0m\n",
            "\u001b[32m[I 2023-03-07 03:37:22,437]\u001b[0m Trial 53 finished with value: 0.8174427391068446 and parameters: {'n_neighbors': 3, 'metric': 'l1'}. Best is trial 10 with value: 0.8239014195740391.\u001b[0m\n",
            "\u001b[32m[I 2023-03-07 03:37:22,764]\u001b[0m Trial 54 finished with value: 0.8239014195740391 and parameters: {'n_neighbors': 1, 'metric': 'l1'}. Best is trial 10 with value: 0.8239014195740391.\u001b[0m\n",
            "\u001b[32m[I 2023-03-07 03:37:23,131]\u001b[0m Trial 55 finished with value: 0.8010434519539569 and parameters: {'n_neighbors': 2, 'metric': 'l1'}. Best is trial 10 with value: 0.8239014195740391.\u001b[0m\n",
            "\u001b[32m[I 2023-03-07 03:37:23,587]\u001b[0m Trial 56 finished with value: 0.8000252436283004 and parameters: {'n_neighbors': 6, 'metric': 'cityblock'}. Best is trial 10 with value: 0.8239014195740391.\u001b[0m\n",
            "\u001b[32m[I 2023-03-07 03:37:24,087]\u001b[0m Trial 57 finished with value: 0.7563885266247056 and parameters: {'n_neighbors': 13, 'metric': 'manhattan'}. Best is trial 10 with value: 0.8239014195740391.\u001b[0m\n",
            "\u001b[32m[I 2023-03-07 03:37:24,488]\u001b[0m Trial 58 finished with value: 0.8174427391068446 and parameters: {'n_neighbors': 3, 'metric': 'l1'}. Best is trial 10 with value: 0.8239014195740391.\u001b[0m\n",
            "\u001b[32m[I 2023-03-07 03:37:24,851]\u001b[0m Trial 59 finished with value: 0.6954475004336677 and parameters: {'n_neighbors': 10, 'metric': 'euclidean'}. Best is trial 10 with value: 0.8239014195740391.\u001b[0m\n",
            "\u001b[32m[I 2023-03-07 03:37:25,880]\u001b[0m Trial 60 finished with value: 0.7225385508602775 and parameters: {'n_neighbors': 5, 'metric': 'nan_euclidean'}. Best is trial 10 with value: 0.8239014195740391.\u001b[0m\n",
            "\u001b[32m[I 2023-03-07 03:37:26,211]\u001b[0m Trial 61 finished with value: 0.8239014195740391 and parameters: {'n_neighbors': 1, 'metric': 'l1'}. Best is trial 10 with value: 0.8239014195740391.\u001b[0m\n",
            "\u001b[32m[I 2023-03-07 03:37:26,616]\u001b[0m Trial 62 finished with value: 0.8010434519539569 and parameters: {'n_neighbors': 2, 'metric': 'l1'}. Best is trial 10 with value: 0.8239014195740391.\u001b[0m\n",
            "\u001b[32m[I 2023-03-07 03:37:26,927]\u001b[0m Trial 63 finished with value: 0.8239014195740391 and parameters: {'n_neighbors': 1, 'metric': 'l1'}. Best is trial 10 with value: 0.8239014195740391.\u001b[0m\n",
            "\u001b[32m[I 2023-03-07 03:37:27,323]\u001b[0m Trial 64 finished with value: 0.7104727423949986 and parameters: {'n_neighbors': 2, 'metric': 'cosine'}. Best is trial 10 with value: 0.8239014195740391.\u001b[0m\n",
            "\u001b[32m[I 2023-03-07 03:37:27,646]\u001b[0m Trial 65 finished with value: 0.8239014195740391 and parameters: {'n_neighbors': 1, 'metric': 'l1'}. Best is trial 10 with value: 0.8239014195740391.\u001b[0m\n",
            "\u001b[32m[I 2023-03-07 03:37:28,068]\u001b[0m Trial 66 finished with value: 0.8064721624199659 and parameters: {'n_neighbors': 4, 'metric': 'l1'}. Best is trial 10 with value: 0.8239014195740391.\u001b[0m\n",
            "\u001b[32m[I 2023-03-07 03:37:28,474]\u001b[0m Trial 67 finished with value: 0.8174427391068446 and parameters: {'n_neighbors': 3, 'metric': 'l1'}. Best is trial 10 with value: 0.8239014195740391.\u001b[0m\n",
            "\u001b[32m[I 2023-03-07 03:37:28,818]\u001b[0m Trial 68 finished with value: 0.8239014195740391 and parameters: {'n_neighbors': 1, 'metric': 'l1'}. Best is trial 10 with value: 0.8239014195740391.\u001b[0m\n",
            "\u001b[32m[I 2023-03-07 03:37:29,222]\u001b[0m Trial 69 finished with value: 0.8010434519539569 and parameters: {'n_neighbors': 2, 'metric': 'l1'}. Best is trial 10 with value: 0.8239014195740391.\u001b[0m\n",
            "\u001b[32m[I 2023-03-07 03:37:29,716]\u001b[0m Trial 70 finished with value: 0.7242516497900358 and parameters: {'n_neighbors': 4, 'metric': 'l2'}. Best is trial 10 with value: 0.8239014195740391.\u001b[0m\n",
            "\u001b[32m[I 2023-03-07 03:37:30,264]\u001b[0m Trial 71 finished with value: 0.8239014195740391 and parameters: {'n_neighbors': 1, 'metric': 'l1'}. Best is trial 10 with value: 0.8239014195740391.\u001b[0m\n",
            "\u001b[32m[I 2023-03-07 03:37:30,821]\u001b[0m Trial 72 finished with value: 0.8239014195740391 and parameters: {'n_neighbors': 1, 'metric': 'l1'}. Best is trial 10 with value: 0.8239014195740391.\u001b[0m\n",
            "\u001b[32m[I 2023-03-07 03:37:31,500]\u001b[0m Trial 73 finished with value: 0.8174427391068446 and parameters: {'n_neighbors': 3, 'metric': 'l1'}. Best is trial 10 with value: 0.8239014195740391.\u001b[0m\n",
            "\u001b[32m[I 2023-03-07 03:37:32,147]\u001b[0m Trial 74 finished with value: 0.8010434519539569 and parameters: {'n_neighbors': 2, 'metric': 'l1'}. Best is trial 10 with value: 0.8239014195740391.\u001b[0m\n",
            "\u001b[32m[I 2023-03-07 03:37:32,559]\u001b[0m Trial 75 finished with value: 0.8010434519539569 and parameters: {'n_neighbors': 2, 'metric': 'manhattan'}. Best is trial 10 with value: 0.8239014195740391.\u001b[0m\n",
            "\u001b[32m[I 2023-03-07 03:37:33,595]\u001b[0m Trial 76 finished with value: 0.6819948329992512 and parameters: {'n_neighbors': 16, 'metric': 'nan_euclidean'}. Best is trial 10 with value: 0.8239014195740391.\u001b[0m\n",
            "\u001b[32m[I 2023-03-07 03:37:33,924]\u001b[0m Trial 77 finished with value: 0.8239014195740391 and parameters: {'n_neighbors': 1, 'metric': 'cityblock'}. Best is trial 10 with value: 0.8239014195740391.\u001b[0m\n",
            "\u001b[32m[I 2023-03-07 03:37:34,325]\u001b[0m Trial 78 finished with value: 0.8174427391068446 and parameters: {'n_neighbors': 3, 'metric': 'l1'}. Best is trial 10 with value: 0.8239014195740391.\u001b[0m\n",
            "\u001b[32m[I 2023-03-07 03:37:34,569]\u001b[0m Trial 79 finished with value: 0.7397289262127136 and parameters: {'n_neighbors': 1, 'metric': 'euclidean'}. Best is trial 10 with value: 0.8239014195740391.\u001b[0m\n",
            "\u001b[32m[I 2023-03-07 03:37:34,980]\u001b[0m Trial 80 finished with value: 0.7104727423949986 and parameters: {'n_neighbors': 2, 'metric': 'cosine'}. Best is trial 10 with value: 0.8239014195740391.\u001b[0m\n",
            "\u001b[32m[I 2023-03-07 03:37:35,289]\u001b[0m Trial 81 finished with value: 0.8239014195740391 and parameters: {'n_neighbors': 1, 'metric': 'l1'}. Best is trial 10 with value: 0.8239014195740391.\u001b[0m\n",
            "\u001b[32m[I 2023-03-07 03:37:35,610]\u001b[0m Trial 82 finished with value: 0.8239014195740391 and parameters: {'n_neighbors': 1, 'metric': 'l1'}. Best is trial 10 with value: 0.8239014195740391.\u001b[0m\n",
            "\u001b[32m[I 2023-03-07 03:37:35,989]\u001b[0m Trial 83 finished with value: 0.8010434519539569 and parameters: {'n_neighbors': 2, 'metric': 'l1'}. Best is trial 10 with value: 0.8239014195740391.\u001b[0m\n",
            "\u001b[32m[I 2023-03-07 03:37:36,397]\u001b[0m Trial 84 finished with value: 0.8174427391068446 and parameters: {'n_neighbors': 3, 'metric': 'l1'}. Best is trial 10 with value: 0.8239014195740391.\u001b[0m\n",
            "\u001b[32m[I 2023-03-07 03:37:36,740]\u001b[0m Trial 85 finished with value: 0.8239014195740391 and parameters: {'n_neighbors': 1, 'metric': 'l1'}. Best is trial 10 with value: 0.8239014195740391.\u001b[0m\n",
            "\u001b[32m[I 2023-03-07 03:37:37,119]\u001b[0m Trial 86 finished with value: 0.8010434519539569 and parameters: {'n_neighbors': 2, 'metric': 'l1'}. Best is trial 10 with value: 0.8239014195740391.\u001b[0m\n",
            "\u001b[32m[I 2023-03-07 03:37:37,435]\u001b[0m Trial 87 finished with value: 0.8239014195740391 and parameters: {'n_neighbors': 1, 'metric': 'l1'}. Best is trial 10 with value: 0.8239014195740391.\u001b[0m\n",
            "\u001b[32m[I 2023-03-07 03:37:37,922]\u001b[0m Trial 88 finished with value: 0.7799978413488236 and parameters: {'n_neighbors': 8, 'metric': 'l1'}. Best is trial 10 with value: 0.8239014195740391.\u001b[0m\n",
            "\u001b[32m[I 2023-03-07 03:37:38,352]\u001b[0m Trial 89 finished with value: 0.8064721624199659 and parameters: {'n_neighbors': 4, 'metric': 'l1'}. Best is trial 10 with value: 0.8239014195740391.\u001b[0m\n",
            "\u001b[32m[I 2023-03-07 03:37:38,625]\u001b[0m Trial 90 finished with value: 0.7204872438550871 and parameters: {'n_neighbors': 2, 'metric': 'l2'}. Best is trial 10 with value: 0.8239014195740391.\u001b[0m\n",
            "\u001b[32m[I 2023-03-07 03:37:38,950]\u001b[0m Trial 91 finished with value: 0.8239014195740391 and parameters: {'n_neighbors': 1, 'metric': 'l1'}. Best is trial 10 with value: 0.8239014195740391.\u001b[0m\n",
            "\u001b[32m[I 2023-03-07 03:37:39,336]\u001b[0m Trial 92 finished with value: 0.8010434519539569 and parameters: {'n_neighbors': 2, 'metric': 'l1'}. Best is trial 10 with value: 0.8239014195740391.\u001b[0m\n",
            "\u001b[32m[I 2023-03-07 03:37:39,659]\u001b[0m Trial 93 finished with value: 0.8239014195740391 and parameters: {'n_neighbors': 1, 'metric': 'l1'}. Best is trial 10 with value: 0.8239014195740391.\u001b[0m\n",
            "\u001b[32m[I 2023-03-07 03:37:39,983]\u001b[0m Trial 94 finished with value: 0.8239014195740391 and parameters: {'n_neighbors': 1, 'metric': 'l1'}. Best is trial 10 with value: 0.8239014195740391.\u001b[0m\n",
            "\u001b[32m[I 2023-03-07 03:37:40,509]\u001b[0m Trial 95 finished with value: 0.7563885266247056 and parameters: {'n_neighbors': 13, 'metric': 'manhattan'}. Best is trial 10 with value: 0.8239014195740391.\u001b[0m\n",
            "\u001b[32m[I 2023-03-07 03:37:40,910]\u001b[0m Trial 96 finished with value: 0.8174427391068446 and parameters: {'n_neighbors': 3, 'metric': 'l1'}. Best is trial 10 with value: 0.8239014195740391.\u001b[0m\n",
            "\u001b[32m[I 2023-03-07 03:37:41,296]\u001b[0m Trial 97 finished with value: 0.8010434519539569 and parameters: {'n_neighbors': 2, 'metric': 'cityblock'}. Best is trial 10 with value: 0.8239014195740391.\u001b[0m\n",
            "\u001b[32m[I 2023-03-07 03:37:42,355]\u001b[0m Trial 98 finished with value: 0.7371189355870021 and parameters: {'n_neighbors': 3, 'metric': 'nan_euclidean'}. Best is trial 10 with value: 0.8239014195740391.\u001b[0m\n",
            "\u001b[32m[I 2023-03-07 03:37:42,974]\u001b[0m Trial 99 finished with value: 0.8010434519539569 and parameters: {'n_neighbors': 2, 'metric': 'l1'}. Best is trial 10 with value: 0.8239014195740391.\u001b[0m\n"
          ]
        },
        {
          "output_type": "stream",
          "name": "stdout",
          "text": [
            "{'n_neighbors': 1, 'metric': 'l1'}\n"
          ]
        }
      ],
      "source": [
        "metrics = ['cityblock','cosine','euclidean','l1','l2','manhattan','nan_euclidean']\n",
        "def objective(trial):\n",
        "    n_neighbors = trial.suggest_int(\"n_neighbors\",1,20)\n",
        "    \n",
        "    metric = trial.suggest_categorical(\"metric\",metrics)\n",
        "    \n",
        "    clf = KNeighborsClassifier(\n",
        "                                n_neighbors=n_neighbors,\n",
        "                                metric=metric\n",
        "                                )\n",
        "    clf.fit(X_train,y_train)\n",
        "    pred = clf.predict(X_valid)\n",
        "    return f1_score(pred,y_valid,average=\"weighted\")\n",
        "\n",
        "study = optuna.create_study(direction=\"maximize\")\n",
        "study.optimize(objective, n_trials=100)\n",
        "\n",
        "print(study.best_params)"
      ]
    },
    {
      "cell_type": "markdown",
      "source": [
        "Com o Optuna, obtivemos resultados semelhantes ao nosso estudo manual anterior, e ainda conseguimos plotar mais a importância dos hiperparãmetros no gráfico abaixo."
      ],
      "metadata": {
        "id": "snpyGD9loHZ5"
      }
    },
    {
      "cell_type": "code",
      "execution_count": null,
      "metadata": {
        "colab": {
          "base_uri": "https://localhost:8080/",
          "height": 542
        },
        "id": "8ouVZmjbtUQ6",
        "outputId": "dff68f8a-529a-4faa-e952-1afb1de1a862"
      },
      "outputs": [
        {
          "output_type": "display_data",
          "data": {
            "text/html": [
              "<html>\n",
              "<head><meta charset=\"utf-8\" /></head>\n",
              "<body>\n",
              "    <div>            <script src=\"https://cdnjs.cloudflare.com/ajax/libs/mathjax/2.7.5/MathJax.js?config=TeX-AMS-MML_SVG\"></script><script type=\"text/javascript\">if (window.MathJax) {MathJax.Hub.Config({SVG: {font: \"STIX-Web\"}});}</script>                <script type=\"text/javascript\">window.PlotlyConfig = {MathJaxConfig: 'local'};</script>\n",
              "        <script src=\"https://cdn.plot.ly/plotly-2.8.3.min.js\"></script>                <div id=\"6f09c960-28b5-460d-93fd-8de3b926a356\" class=\"plotly-graph-div\" style=\"height:525px; width:100%;\"></div>            <script type=\"text/javascript\">                                    window.PLOTLYENV=window.PLOTLYENV || {};                                    if (document.getElementById(\"6f09c960-28b5-460d-93fd-8de3b926a356\")) {                    Plotly.newPlot(                        \"6f09c960-28b5-460d-93fd-8de3b926a356\",                        [{\"colorbar\":{\"title\":{\"text\":\"Objective Value\"}},\"colorscale\":[[0.0,\"rgb(247,251,255)\"],[0.125,\"rgb(222,235,247)\"],[0.25,\"rgb(198,219,239)\"],[0.375,\"rgb(158,202,225)\"],[0.5,\"rgb(107,174,214)\"],[0.625,\"rgb(66,146,198)\"],[0.75,\"rgb(33,113,181)\"],[0.875,\"rgb(8,81,156)\"],[1.0,\"rgb(8,48,107)\"]],\"connectgaps\":true,\"contours\":{\"coloring\":\"heatmap\"},\"hoverinfo\":\"none\",\"line\":{\"smoothing\":1.3},\"reversescale\":false,\"x\":[\"cityblock\",\"cosine\",\"euclidean\",\"l1\",\"l2\",\"manhattan\",\"nan_euclidean\"],\"y\":[0.04999999999999993,1,2,3,4,5,6,7,8,9,10,11,13,14,15,16,17,18,19,20,20.95],\"z\":[[null,null,null,null,null,null,null],[0.8239014195740391,null,0.7397289262127136,0.8239014195740391,0.7397289262127136,null,0.7397289262127136],[0.8010434519539569,0.7104727423949986,0.7204872438550871,0.8010434519539569,0.7204872438550871,0.8010434519539569,null],[null,null,0.7371189355870021,0.8174427391068446,null,0.8174427391068446,0.7371189355870021],[0.8064721624199659,null,null,0.8064721624199659,0.7242516497900358,0.8064721624199659,0.7242516497900358],[null,null,null,0.8007119689579971,null,null,0.7225385508602775],[0.8000252436283004,null,null,0.8000252436283004,null,null,null],[null,0.6910285648806685,null,0.783993945772343,null,null,null],[null,null,null,0.7799978413488236,null,0.7799978413488236,null],[0.7757768099362072,null,null,0.7757768099362072,null,null,null],[null,null,0.6954475004336677,null,null,null,null],[null,0.6868650957476536,null,null,null,null,0.6895341286907931],[0.7563885266247056,null,null,null,null,0.7563885266247056,null],[null,null,0.6870288765266944,null,null,null,null],[null,0.687000851117372,null,null,null,null,null],[null,null,null,null,null,null,0.6819948329992512],[0.7516214976252442,null,null,null,null,null,null],[null,null,null,null,0.685741726544354,0.7457426042521802,null],[null,null,0.6851831109994547,null,0.6851831109994547,null,null],[null,0.6820101624059176,null,null,null,null,null],[null,null,null,null,null,null,null]],\"type\":\"contour\"},{\"marker\":{\"color\":\"black\",\"line\":{\"color\":\"Grey\",\"width\":2.0}},\"mode\":\"markers\",\"showlegend\":false,\"x\":[\"manhattan\",\"l2\",\"nan_euclidean\",\"l2\",\"cityblock\",\"l2\",\"euclidean\",\"cosine\",\"cityblock\",\"l1\",\"l1\",\"l1\",\"l1\",\"l1\",\"l1\",\"l1\",\"euclidean\",\"cosine\",\"nan_euclidean\",\"manhattan\",\"l1\",\"l1\",\"l1\",\"l1\",\"l1\",\"l1\",\"l1\",\"cosine\",\"euclidean\",\"manhattan\",\"nan_euclidean\",\"l1\",\"l1\",\"l1\",\"cityblock\",\"l2\",\"manhattan\",\"l1\",\"l2\",\"nan_euclidean\",\"cityblock\",\"l1\",\"l1\",\"l1\",\"l1\",\"l1\",\"euclidean\",\"cosine\",\"l1\",\"l1\",\"l2\",\"l1\",\"l1\",\"l1\",\"l1\",\"l1\",\"cityblock\",\"manhattan\",\"l1\",\"euclidean\",\"nan_euclidean\",\"l1\",\"l1\",\"l1\",\"cosine\",\"l1\",\"l1\",\"l1\",\"l1\",\"l1\",\"l2\",\"l1\",\"l1\",\"l1\",\"l1\",\"manhattan\",\"nan_euclidean\",\"cityblock\",\"l1\",\"euclidean\",\"cosine\",\"l1\",\"l1\",\"l1\",\"l1\",\"l1\",\"l1\",\"l1\",\"l1\",\"l1\",\"l2\",\"l1\",\"l1\",\"l1\",\"l1\",\"manhattan\",\"l1\",\"cityblock\",\"nan_euclidean\",\"l1\"],\"y\":[18,19,4,4,9,18,19,11,13,6,1,1,1,1,7,3,14,7,1,3,9,2,5,1,3,5,1,15,3,8,5,1,2,2,4,2,4,1,4,11,17,1,2,1,3,6,2,20,4,3,1,1,2,3,1,2,6,13,3,10,5,1,2,1,2,1,4,3,1,2,4,1,1,3,2,2,16,1,3,1,2,1,1,2,3,1,2,1,8,4,2,1,2,1,1,13,3,2,3,2],\"type\":\"scatter\"}],                        {\"title\":{\"text\":\"Contour Plot\"},\"template\":{\"data\":{\"bar\":[{\"error_x\":{\"color\":\"#2a3f5f\"},\"error_y\":{\"color\":\"#2a3f5f\"},\"marker\":{\"line\":{\"color\":\"#E5ECF6\",\"width\":0.5},\"pattern\":{\"fillmode\":\"overlay\",\"size\":10,\"solidity\":0.2}},\"type\":\"bar\"}],\"barpolar\":[{\"marker\":{\"line\":{\"color\":\"#E5ECF6\",\"width\":0.5},\"pattern\":{\"fillmode\":\"overlay\",\"size\":10,\"solidity\":0.2}},\"type\":\"barpolar\"}],\"carpet\":[{\"aaxis\":{\"endlinecolor\":\"#2a3f5f\",\"gridcolor\":\"white\",\"linecolor\":\"white\",\"minorgridcolor\":\"white\",\"startlinecolor\":\"#2a3f5f\"},\"baxis\":{\"endlinecolor\":\"#2a3f5f\",\"gridcolor\":\"white\",\"linecolor\":\"white\",\"minorgridcolor\":\"white\",\"startlinecolor\":\"#2a3f5f\"},\"type\":\"carpet\"}],\"choropleth\":[{\"colorbar\":{\"outlinewidth\":0,\"ticks\":\"\"},\"type\":\"choropleth\"}],\"contour\":[{\"colorbar\":{\"outlinewidth\":0,\"ticks\":\"\"},\"colorscale\":[[0.0,\"#0d0887\"],[0.1111111111111111,\"#46039f\"],[0.2222222222222222,\"#7201a8\"],[0.3333333333333333,\"#9c179e\"],[0.4444444444444444,\"#bd3786\"],[0.5555555555555556,\"#d8576b\"],[0.6666666666666666,\"#ed7953\"],[0.7777777777777778,\"#fb9f3a\"],[0.8888888888888888,\"#fdca26\"],[1.0,\"#f0f921\"]],\"type\":\"contour\"}],\"contourcarpet\":[{\"colorbar\":{\"outlinewidth\":0,\"ticks\":\"\"},\"type\":\"contourcarpet\"}],\"heatmap\":[{\"colorbar\":{\"outlinewidth\":0,\"ticks\":\"\"},\"colorscale\":[[0.0,\"#0d0887\"],[0.1111111111111111,\"#46039f\"],[0.2222222222222222,\"#7201a8\"],[0.3333333333333333,\"#9c179e\"],[0.4444444444444444,\"#bd3786\"],[0.5555555555555556,\"#d8576b\"],[0.6666666666666666,\"#ed7953\"],[0.7777777777777778,\"#fb9f3a\"],[0.8888888888888888,\"#fdca26\"],[1.0,\"#f0f921\"]],\"type\":\"heatmap\"}],\"heatmapgl\":[{\"colorbar\":{\"outlinewidth\":0,\"ticks\":\"\"},\"colorscale\":[[0.0,\"#0d0887\"],[0.1111111111111111,\"#46039f\"],[0.2222222222222222,\"#7201a8\"],[0.3333333333333333,\"#9c179e\"],[0.4444444444444444,\"#bd3786\"],[0.5555555555555556,\"#d8576b\"],[0.6666666666666666,\"#ed7953\"],[0.7777777777777778,\"#fb9f3a\"],[0.8888888888888888,\"#fdca26\"],[1.0,\"#f0f921\"]],\"type\":\"heatmapgl\"}],\"histogram\":[{\"marker\":{\"pattern\":{\"fillmode\":\"overlay\",\"size\":10,\"solidity\":0.2}},\"type\":\"histogram\"}],\"histogram2d\":[{\"colorbar\":{\"outlinewidth\":0,\"ticks\":\"\"},\"colorscale\":[[0.0,\"#0d0887\"],[0.1111111111111111,\"#46039f\"],[0.2222222222222222,\"#7201a8\"],[0.3333333333333333,\"#9c179e\"],[0.4444444444444444,\"#bd3786\"],[0.5555555555555556,\"#d8576b\"],[0.6666666666666666,\"#ed7953\"],[0.7777777777777778,\"#fb9f3a\"],[0.8888888888888888,\"#fdca26\"],[1.0,\"#f0f921\"]],\"type\":\"histogram2d\"}],\"histogram2dcontour\":[{\"colorbar\":{\"outlinewidth\":0,\"ticks\":\"\"},\"colorscale\":[[0.0,\"#0d0887\"],[0.1111111111111111,\"#46039f\"],[0.2222222222222222,\"#7201a8\"],[0.3333333333333333,\"#9c179e\"],[0.4444444444444444,\"#bd3786\"],[0.5555555555555556,\"#d8576b\"],[0.6666666666666666,\"#ed7953\"],[0.7777777777777778,\"#fb9f3a\"],[0.8888888888888888,\"#fdca26\"],[1.0,\"#f0f921\"]],\"type\":\"histogram2dcontour\"}],\"mesh3d\":[{\"colorbar\":{\"outlinewidth\":0,\"ticks\":\"\"},\"type\":\"mesh3d\"}],\"parcoords\":[{\"line\":{\"colorbar\":{\"outlinewidth\":0,\"ticks\":\"\"}},\"type\":\"parcoords\"}],\"pie\":[{\"automargin\":true,\"type\":\"pie\"}],\"scatter\":[{\"marker\":{\"colorbar\":{\"outlinewidth\":0,\"ticks\":\"\"}},\"type\":\"scatter\"}],\"scatter3d\":[{\"line\":{\"colorbar\":{\"outlinewidth\":0,\"ticks\":\"\"}},\"marker\":{\"colorbar\":{\"outlinewidth\":0,\"ticks\":\"\"}},\"type\":\"scatter3d\"}],\"scattercarpet\":[{\"marker\":{\"colorbar\":{\"outlinewidth\":0,\"ticks\":\"\"}},\"type\":\"scattercarpet\"}],\"scattergeo\":[{\"marker\":{\"colorbar\":{\"outlinewidth\":0,\"ticks\":\"\"}},\"type\":\"scattergeo\"}],\"scattergl\":[{\"marker\":{\"colorbar\":{\"outlinewidth\":0,\"ticks\":\"\"}},\"type\":\"scattergl\"}],\"scattermapbox\":[{\"marker\":{\"colorbar\":{\"outlinewidth\":0,\"ticks\":\"\"}},\"type\":\"scattermapbox\"}],\"scatterpolar\":[{\"marker\":{\"colorbar\":{\"outlinewidth\":0,\"ticks\":\"\"}},\"type\":\"scatterpolar\"}],\"scatterpolargl\":[{\"marker\":{\"colorbar\":{\"outlinewidth\":0,\"ticks\":\"\"}},\"type\":\"scatterpolargl\"}],\"scatterternary\":[{\"marker\":{\"colorbar\":{\"outlinewidth\":0,\"ticks\":\"\"}},\"type\":\"scatterternary\"}],\"surface\":[{\"colorbar\":{\"outlinewidth\":0,\"ticks\":\"\"},\"colorscale\":[[0.0,\"#0d0887\"],[0.1111111111111111,\"#46039f\"],[0.2222222222222222,\"#7201a8\"],[0.3333333333333333,\"#9c179e\"],[0.4444444444444444,\"#bd3786\"],[0.5555555555555556,\"#d8576b\"],[0.6666666666666666,\"#ed7953\"],[0.7777777777777778,\"#fb9f3a\"],[0.8888888888888888,\"#fdca26\"],[1.0,\"#f0f921\"]],\"type\":\"surface\"}],\"table\":[{\"cells\":{\"fill\":{\"color\":\"#EBF0F8\"},\"line\":{\"color\":\"white\"}},\"header\":{\"fill\":{\"color\":\"#C8D4E3\"},\"line\":{\"color\":\"white\"}},\"type\":\"table\"}]},\"layout\":{\"annotationdefaults\":{\"arrowcolor\":\"#2a3f5f\",\"arrowhead\":0,\"arrowwidth\":1},\"autotypenumbers\":\"strict\",\"coloraxis\":{\"colorbar\":{\"outlinewidth\":0,\"ticks\":\"\"}},\"colorscale\":{\"diverging\":[[0,\"#8e0152\"],[0.1,\"#c51b7d\"],[0.2,\"#de77ae\"],[0.3,\"#f1b6da\"],[0.4,\"#fde0ef\"],[0.5,\"#f7f7f7\"],[0.6,\"#e6f5d0\"],[0.7,\"#b8e186\"],[0.8,\"#7fbc41\"],[0.9,\"#4d9221\"],[1,\"#276419\"]],\"sequential\":[[0.0,\"#0d0887\"],[0.1111111111111111,\"#46039f\"],[0.2222222222222222,\"#7201a8\"],[0.3333333333333333,\"#9c179e\"],[0.4444444444444444,\"#bd3786\"],[0.5555555555555556,\"#d8576b\"],[0.6666666666666666,\"#ed7953\"],[0.7777777777777778,\"#fb9f3a\"],[0.8888888888888888,\"#fdca26\"],[1.0,\"#f0f921\"]],\"sequentialminus\":[[0.0,\"#0d0887\"],[0.1111111111111111,\"#46039f\"],[0.2222222222222222,\"#7201a8\"],[0.3333333333333333,\"#9c179e\"],[0.4444444444444444,\"#bd3786\"],[0.5555555555555556,\"#d8576b\"],[0.6666666666666666,\"#ed7953\"],[0.7777777777777778,\"#fb9f3a\"],[0.8888888888888888,\"#fdca26\"],[1.0,\"#f0f921\"]]},\"colorway\":[\"#636efa\",\"#EF553B\",\"#00cc96\",\"#ab63fa\",\"#FFA15A\",\"#19d3f3\",\"#FF6692\",\"#B6E880\",\"#FF97FF\",\"#FECB52\"],\"font\":{\"color\":\"#2a3f5f\"},\"geo\":{\"bgcolor\":\"white\",\"lakecolor\":\"white\",\"landcolor\":\"#E5ECF6\",\"showlakes\":true,\"showland\":true,\"subunitcolor\":\"white\"},\"hoverlabel\":{\"align\":\"left\"},\"hovermode\":\"closest\",\"mapbox\":{\"style\":\"light\"},\"paper_bgcolor\":\"white\",\"plot_bgcolor\":\"#E5ECF6\",\"polar\":{\"angularaxis\":{\"gridcolor\":\"white\",\"linecolor\":\"white\",\"ticks\":\"\"},\"bgcolor\":\"#E5ECF6\",\"radialaxis\":{\"gridcolor\":\"white\",\"linecolor\":\"white\",\"ticks\":\"\"}},\"scene\":{\"xaxis\":{\"backgroundcolor\":\"#E5ECF6\",\"gridcolor\":\"white\",\"gridwidth\":2,\"linecolor\":\"white\",\"showbackground\":true,\"ticks\":\"\",\"zerolinecolor\":\"white\"},\"yaxis\":{\"backgroundcolor\":\"#E5ECF6\",\"gridcolor\":\"white\",\"gridwidth\":2,\"linecolor\":\"white\",\"showbackground\":true,\"ticks\":\"\",\"zerolinecolor\":\"white\"},\"zaxis\":{\"backgroundcolor\":\"#E5ECF6\",\"gridcolor\":\"white\",\"gridwidth\":2,\"linecolor\":\"white\",\"showbackground\":true,\"ticks\":\"\",\"zerolinecolor\":\"white\"}},\"shapedefaults\":{\"line\":{\"color\":\"#2a3f5f\"}},\"ternary\":{\"aaxis\":{\"gridcolor\":\"white\",\"linecolor\":\"white\",\"ticks\":\"\"},\"baxis\":{\"gridcolor\":\"white\",\"linecolor\":\"white\",\"ticks\":\"\"},\"bgcolor\":\"#E5ECF6\",\"caxis\":{\"gridcolor\":\"white\",\"linecolor\":\"white\",\"ticks\":\"\"}},\"title\":{\"x\":0.05},\"xaxis\":{\"automargin\":true,\"gridcolor\":\"white\",\"linecolor\":\"white\",\"ticks\":\"\",\"title\":{\"standoff\":15},\"zerolinecolor\":\"white\",\"zerolinewidth\":2},\"yaxis\":{\"automargin\":true,\"gridcolor\":\"white\",\"linecolor\":\"white\",\"ticks\":\"\",\"title\":{\"standoff\":15},\"zerolinecolor\":\"white\",\"zerolinewidth\":2}}},\"xaxis\":{\"title\":{\"text\":\"metric\"},\"range\":[-0.30000000000000004,6.3],\"type\":\"category\"},\"yaxis\":{\"title\":{\"text\":\"n_neighbors\"},\"range\":[0.04999999999999993,20.95]}},                        {\"responsive\": true}                    ).then(function(){\n",
              "                            \n",
              "var gd = document.getElementById('6f09c960-28b5-460d-93fd-8de3b926a356');\n",
              "var x = new MutationObserver(function (mutations, observer) {{\n",
              "        var display = window.getComputedStyle(gd).display;\n",
              "        if (!display || display === 'none') {{\n",
              "            console.log([gd, 'removed!']);\n",
              "            Plotly.purge(gd);\n",
              "            observer.disconnect();\n",
              "        }}\n",
              "}});\n",
              "\n",
              "// Listen for the removal of the full notebook cells\n",
              "var notebookContainer = gd.closest('#notebook-container');\n",
              "if (notebookContainer) {{\n",
              "    x.observe(notebookContainer, {childList: true});\n",
              "}}\n",
              "\n",
              "// Listen for the clearing of the current output cell\n",
              "var outputEl = gd.closest('.output');\n",
              "if (outputEl) {{\n",
              "    x.observe(outputEl, {childList: true});\n",
              "}}\n",
              "\n",
              "                        })                };                            </script>        </div>\n",
              "</body>\n",
              "</html>"
            ]
          },
          "metadata": {}
        }
      ],
      "source": [
        "optuna.visualization.plot_contour(study, params=[\"metric\", \"n_neighbors\"])"
      ]
    },
    {
      "cell_type": "markdown",
      "source": [
        "Podemos analisar visualmente o que foi feito no teste do Optuna o que foi feito anteriormente. As regiões mais escuras são aquelas que tem a melhor combinação de `k` e da métrica."
      ],
      "metadata": {
        "id": "WM7fvPUIxjGc"
      }
    },
    {
      "cell_type": "markdown",
      "metadata": {
        "id": "9TPemXrFCVPa"
      },
      "source": [
        "# Conclusão:"
      ]
    },
    {
      "cell_type": "markdown",
      "source": [
        "Podemos concluir então de que o estudo de cada hiperparâmetro afeta no uso final do modelo de classificação. Ao usarmos parâmetros que se comportam melhor com o `dataset` conseguimos obter métricas mais otimizadas em relação aos parâmetros padrões. \n",
        "\n",
        "Em termos de comparação, o classificador da árvore de decisão teve um melhor desempenho quando comparado aos outros classificadores. Isso se deve ao fato desse modelo lidar bem as divisões do espaço de features para cada um dos escrivãos do texto. Por outro lado, o algoritmo com o pior desempenho foi o de Naive Bayes. Esse modelo de classificação teve um desempenho ruim pois nem sempre assumir a independencias da features irá gerar um bom resultado, as carácteristicas de cada escrivão poderiam estar muito bem atribuidas de forma dependente uma das outras dentro do processo de escrita, o que faz com que o que assumimos no nosso modelo nem sempre seja verdade.\n"
      ],
      "metadata": {
        "id": "_NISEmSKtIA1"
      }
    }
  ],
  "metadata": {
    "colab": {
      "provenance": []
    },
    "kernelspec": {
      "display_name": "Python 3",
      "name": "python3"
    },
    "language_info": {
      "name": "python"
    }
  },
  "nbformat": 4,
  "nbformat_minor": 0
}